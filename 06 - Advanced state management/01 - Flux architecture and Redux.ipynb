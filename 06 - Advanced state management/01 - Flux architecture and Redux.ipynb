{
 "cells": [
  {
   "cell_type": "markdown",
   "metadata": {},
   "source": [
    "> # Flux-architecture and Redux"
   ]
  },
  {
   "cell_type": "markdown",
   "metadata": {},
   "source": [
    "So far, we have followed the state management conventions recommended by React. We have placed the state and the functions for handling it in the [higher level](https://react.dev/learn/sharing-state-between-components) of the component structure of the application. Quite often most of the app state and state altering functions reside directly in the root component. The state and its handler methods have then been passed to other components with props. This works up to a certain point, but when applications grow larger, state management becomes challenging."
   ]
  },
  {
   "cell_type": "markdown",
   "metadata": {},
   "source": [
    "> ## Flux-architecture"
   ]
  },
  {
   "cell_type": "markdown",
   "metadata": {},
   "source": [
    "Already years ago Facebook developed the [Flux](https://facebookarchive.github.io/flux/docs/in-depth-overview/-architecture to make state management of React apps easier. In Flux, the state is separated from the React components and into its own *stores*. State in the store is not changed directly, but with different *actions*.\n",
    "\n",
    "When an action changes the state of the store, the views are rerendered:"
   ]
  },
  {
   "cell_type": "markdown",
   "metadata": {},
   "source": [
    "![](./images/image01.png)"
   ]
  },
  {
   "cell_type": "markdown",
   "metadata": {},
   "source": [
    "If some action on the application, for example pushing a button, causes the need to change the state, the change is made with an action. This causes re-rendering the view again:"
   ]
  },
  {
   "cell_type": "markdown",
   "metadata": {},
   "source": [
    "![](./images/image02.png)"
   ]
  },
  {
   "cell_type": "markdown",
   "metadata": {},
   "source": [
    "Flux offers a standard way for how and where the application's state is kept and how it is modified."
   ]
  },
  {
   "cell_type": "markdown",
   "metadata": {},
   "source": [
    "> **Difference between MVC, Flux and Redux** : In Redux the logic is stored in the Reducer, which receives the previous state & one action, then returns the new state. MVC does not use the store concept instead it has a model that contains the state of numerous objects. Flux uses multiple stores to cache any single application associated with data or state."
   ]
  },
  {
   "cell_type": "markdown",
   "metadata": {},
   "source": [
    "> ## Redux"
   ]
  },
  {
   "cell_type": "markdown",
   "metadata": {},
   "source": [
    "Facebook has an implementation for Flux, but we will be using the [Redux](https://redux.js.org/) library. It works with the same principle but is a bit simpler. Facebook also uses Redux now instead of their original Flux.\n",
    "\n",
    "We will get to know Redux by implementing a counter application yet again:"
   ]
  },
  {
   "cell_type": "markdown",
   "metadata": {},
   "source": [
    "![](./images/image03.png)"
   ]
  },
  {
   "cell_type": "markdown",
   "metadata": {},
   "source": [
    "Create a new Vite application and install redux with the command"
   ]
  },
  {
   "cell_type": "markdown",
   "metadata": {},
   "source": [
    "```cmd\n",
    "npm install redux\n",
    "```"
   ]
  },
  {
   "cell_type": "markdown",
   "metadata": {},
   "source": [
    "As in Flux, in Redux the state is also stored in a [store](https://redux.js.org/tutorials/essentials/part-1-overview-concepts#store).\n",
    "\n",
    "The whole state of the application is stored in *one* JavaScript object in the store. Because our application only needs the value of the counter, we will save it straight to the store. If the state was more complicated, different things in the state would be saved as separate fields of the object.\n",
    "\n",
    "The state of the store is changed with [actions](https://redux.js.org/tutorials/essentials/part-1-overview-concepts#actions). Actions are objects, which have at least a field determining the *type* of the action. Our application needs for example the following action:"
   ]
  },
  {
   "cell_type": "markdown",
   "metadata": {},
   "source": [
    "```js\n",
    "{\n",
    "  type: 'INCREMENT'\n",
    "}\n",
    "```"
   ]
  },
  {
   "cell_type": "markdown",
   "metadata": {},
   "source": [
    "If there is data involved with the action, other fields can be declared as needed. However, our counting app is so simple that the actions are fine with just the type field.\n",
    "\n",
    "The impact of the action to the state of the application is defined using a [reducer](https://redux.js.org/tutorials/essentials/part-1-overview-concepts#reducers). In practice, a reducer is a function that is given the current state and an action as parameters. It *returns* a new state.\n",
    "\n",
    "Let's now define a reducer for our application:"
   ]
  },
  {
   "cell_type": "markdown",
   "metadata": {},
   "source": [
    "```js\n",
    "const counterReducer = (state, action) => {\n",
    "  if (action.type === 'INCREMENT') {\n",
    "    return state + 1\n",
    "  } else if (action.type === 'DECREMENT') {\n",
    "    return state - 1\n",
    "  } else if (action.type === 'ZERO') {\n",
    "    return 0\n",
    "  }\n",
    "\n",
    "  return state\n",
    "}\n",
    "```"
   ]
  },
  {
   "cell_type": "markdown",
   "metadata": {},
   "source": [
    "The first parameter is the state in the store. The reducer returns a new state based on the `action` type. So, e.g. when the type of Action is *INCREMENT*, the state gets the old value plus one. If the type of Action is *ZERO* the new value of state is zero.\n",
    "\n",
    "Let's change the code a bit. We have used if-else statements to respond to an action and change the state. However, the [switch](https://developer.mozilla.org/en-US/docs/Web/JavaScript/Reference/Statements/switch) statement is the most common approach to writing a reducer.\n",
    "\n",
    "Let's also define a [default value](https://developer.mozilla.org/en-US/docs/Web/JavaScript/Reference/Functions/Default_parameters) of 0 for the parameter *state*. Now the reducer works even if the store state has not been primed yet."
   ]
  },
  {
   "cell_type": "markdown",
   "metadata": {},
   "source": [
    "```js\n",
    "const counterReducer = (state = 0, action) => {\n",
    "  switch (action.type) {\n",
    "    case 'INCREMENT':\n",
    "      return state + 1\n",
    "    case 'DECREMENT':\n",
    "      return state - 1\n",
    "    case 'ZERO':\n",
    "      return 0\n",
    "    default: // if none of the above matches, code comes here\n",
    "      return state\n",
    "  }\n",
    "}\n",
    "```"
   ]
  },
  {
   "cell_type": "markdown",
   "metadata": {},
   "source": [
    "The reducer is never supposed to be called directly from the application's code. It is only given as a parameter to the `createStore` function which creates the store:"
   ]
  },
  {
   "cell_type": "markdown",
   "metadata": {},
   "source": [
    "```js\n",
    "import { createStore } from 'redux'\n",
    "\n",
    "const counterReducer = (state = 0, action) => {\n",
    "  // ...\n",
    "}\n",
    "\n",
    "\n",
    "const store = createStore(counterReducer)\n",
    "```"
   ]
  },
  {
   "cell_type": "markdown",
   "metadata": {},
   "source": [
    "The store now uses the reducer to handle *actions*, which are *dispatched* or 'sent' to the store with its [dispatch](https://redux.js.org/tutorials/essentials/part-1-overview-concepts#dispatch) method."
   ]
  },
  {
   "cell_type": "markdown",
   "metadata": {},
   "source": [
    "```js\n",
    "store.dispatch({ type: 'INCREMENT' })\n",
    "```"
   ]
  },
  {
   "cell_type": "markdown",
   "metadata": {},
   "source": [
    "You can find out the state of the store using the method [getState](https://redux.js.org/api/store#getstate).\n",
    "\n",
    "For example the following code:"
   ]
  },
  {
   "cell_type": "markdown",
   "metadata": {},
   "source": [
    "```js\n",
    "const store = createStore(counterReducer)\n",
    "console.log(store.getState())\n",
    "store.dispatch({ type: 'INCREMENT' })\n",
    "store.dispatch({ type: 'INCREMENT' })\n",
    "store.dispatch({ type: 'INCREMENT' })\n",
    "console.log(store.getState())\n",
    "store.dispatch({ type: 'ZERO' })\n",
    "store.dispatch({ type: 'DECREMENT' })\n",
    "console.log(store.getState())\n",
    "```"
   ]
  },
  {
   "cell_type": "markdown",
   "metadata": {},
   "source": [
    "would print the following to the console"
   ]
  },
  {
   "cell_type": "markdown",
   "metadata": {},
   "source": [
    "```cmd\n",
    "0\n",
    "3\n",
    "-1\n",
    "```"
   ]
  },
  {
   "cell_type": "markdown",
   "metadata": {},
   "source": [
    "because at first, the state of the store is 0. After three *INCREMENT* actions the state is 3. In the end, after the *ZERO* and *DECREMENT* actions, the state is -1.\n",
    "\n",
    "The third important method that the store has is [subscribe](https://redux.js.org/api/store#subscribelistener), which is used to create callback functions that the store calls whenever an action is dispatched to the store.\n",
    "\n",
    "If, for example, we would add the following function to subscribe, *every change* in the store would be printed to the console."
   ]
  },
  {
   "cell_type": "markdown",
   "metadata": {},
   "source": [
    "```js\n",
    "store.subscribe(() => {\n",
    "  const storeNow = store.getState()\n",
    "  console.log(storeNow)\n",
    "})\n",
    "```"
   ]
  },
  {
   "cell_type": "markdown",
   "metadata": {},
   "source": [
    "so the code"
   ]
  },
  {
   "cell_type": "markdown",
   "metadata": {},
   "source": [
    "```js\n",
    "const store = createStore(counterReducer)\n",
    "\n",
    "store.subscribe(() => {\n",
    "  const storeNow = store.getState()\n",
    "  console.log(storeNow)\n",
    "})\n",
    "\n",
    "store.dispatch({ type: 'INCREMENT' })\n",
    "store.dispatch({ type: 'INCREMENT' })\n",
    "store.dispatch({ type: 'INCREMENT' })\n",
    "store.dispatch({ type: 'ZERO' })\n",
    "store.dispatch({ type: 'DECREMENT' })\n",
    "```"
   ]
  },
  {
   "cell_type": "markdown",
   "metadata": {},
   "source": [
    "would cause the following to be printed"
   ]
  },
  {
   "cell_type": "markdown",
   "metadata": {},
   "source": [
    "```cmd\n",
    "1\n",
    "2\n",
    "3\n",
    "0\n",
    "-1\n",
    "```"
   ]
  },
  {
   "cell_type": "markdown",
   "metadata": {},
   "source": [
    "The code of our counter application is the following. All of the code has been written in the same file (`main.jsx`), so store is directly available for the React code. We will get to know better ways to structure React/Redux code later."
   ]
  },
  {
   "cell_type": "markdown",
   "metadata": {},
   "source": [
    "```js\n",
    "import React from 'react'\n",
    "import ReactDOM from 'react-dom/client'\n",
    "\n",
    "import { createStore } from 'redux'\n",
    "\n",
    "const counterReducer = (state = 0, action) => {\n",
    "  switch (action.type) {\n",
    "    case 'INCREMENT':\n",
    "      return state + 1\n",
    "    case 'DECREMENT':\n",
    "      return state - 1\n",
    "    case 'ZERO':\n",
    "      return 0\n",
    "    default:\n",
    "      return state\n",
    "  }\n",
    "}\n",
    "\n",
    "const store = createStore(counterReducer)\n",
    "\n",
    "const App = () => {\n",
    "  return (\n",
    "    <div>\n",
    "      <div>\n",
    "        {store.getState()}\n",
    "      </div>\n",
    "      <button \n",
    "        onClick={e => store.dispatch({ type: 'INCREMENT' })}\n",
    "      >\n",
    "        plus\n",
    "      </button>\n",
    "      <button\n",
    "        onClick={e => store.dispatch({ type: 'DECREMENT' })}\n",
    "      >\n",
    "        minus\n",
    "      </button>\n",
    "      <button \n",
    "        onClick={e => store.dispatch({ type: 'ZERO' })}\n",
    "      >\n",
    "        zero\n",
    "      </button>\n",
    "    </div>\n",
    "  )\n",
    "}\n",
    "\n",
    "const root = ReactDOM.createRoot(document.getElementById('root'))\n",
    "\n",
    "const renderApp = () => {\n",
    "  root.render(<App />)\n",
    "}\n",
    "\n",
    "renderApp()\n",
    "store.subscribe(renderApp)\n",
    "```"
   ]
  },
  {
   "cell_type": "markdown",
   "metadata": {},
   "source": [
    "There are a few notable things in the code. *App* renders the value of the counter by asking it from the store with the method `store.getState()`. The action handlers of the buttons dispatch the right actions to the store.\n",
    "\n",
    "When the state in the store is changed, React is not able to automatically re-render the application. Thus we have registered a function `renderApp`, which renders the whole app, to listen for changes in the store with the `store.subscribe` method. Note that we have to immediately call the `renderApp` method. Without the call, the first rendering of the app would never happen."
   ]
  },
  {
   "cell_type": "markdown",
   "metadata": {},
   "source": [
    "> ## A note about the use of createStore"
   ]
  },
  {
   "cell_type": "markdown",
   "metadata": {},
   "source": [
    "The most observant will notice that the name of the function createStore is overlined. If you move the mouse over the name, an explanation will appear"
   ]
  },
  {
   "cell_type": "markdown",
   "metadata": {},
   "source": [
    "![](./images/image04.png)"
   ]
  },
  {
   "cell_type": "markdown",
   "metadata": {},
   "source": [
    "The full explanation is as follows\n",
    "\n",
    "> We recommend using the configureStore method of the @reduxjs/toolkit package, which replaces createStore.\n",
    ">\n",
    "> Redux Toolkit is our recommended approach for writing Redux logic today, including store setup, reducers, data fetching, and more.\n",
    "> \n",
    "> For more details, please read this Redux docs page: https://redux.js.org/introduction/why-rtk-is-redux-today\n",
    "> \n",
    "> configureStore from Redux Toolkit is an improved version of createStore that simplifies setup and helps avoid common bugs.\n",
    ">\n",
    "> You should not be using the redux core package by itself today, except for learning purposes. The createStore method from the core redux package will not be removed, but we encourage all users to migrate to using Redux Toolkit for all Redux code.\n",
    "\n",
    "So, instead of the function *createStore*, it is recommended to use the slightly more \"advanced\" function *configureStore*, and we will also use it when we have achieved the basic functionality of Redux.\n",
    "\n",
    "Side note: *createStore* is defined as \"deprecated\", which usually means that the feature will be removed in some newer version of the library. The explanation above and this [discussion](https://stackoverflow.com/questions/71944111/redux-createstore-is-deprecated-cannot-get-state-from-getstate-in-redux-ac) reveal that *createStore* will not be removed, and it has been given the status *deprecated*, perhaps with slightly incorrect reasons. So the function is not obsolete, but today there is a more preferable, new way to do almost the same thing."
   ]
  },
  {
   "cell_type": "markdown",
   "metadata": {},
   "source": [
    "> ## Redux-notes"
   ]
  },
  {
   "cell_type": "markdown",
   "metadata": {},
   "source": [
    "We aim to modify our note application to use Redux for state management. However, let's first cover a few key concepts through a simplified note application.\n",
    "\n",
    "The first version of our application is the following"
   ]
  },
  {
   "cell_type": "markdown",
   "metadata": {},
   "source": [
    "```js\n",
    "const noteReducer = (state = [], action) => {\n",
    "  if (action.type === 'NEW_NOTE') {\n",
    "    state.push(action.payload)\n",
    "    return state\n",
    "  }\n",
    "\n",
    "  return state\n",
    "}\n",
    "\n",
    "const store = createStore(noteReducer)\n",
    "\n",
    "store.dispatch({\n",
    "  type: 'NEW_NOTE',\n",
    "  payload: {\n",
    "    content: 'the app state is in redux store',\n",
    "    important: true,\n",
    "    id: 1\n",
    "  }\n",
    "})\n",
    "\n",
    "store.dispatch({\n",
    "  type: 'NEW_NOTE',\n",
    "  payload: {\n",
    "    content: 'state changes are made with actions',\n",
    "    important: false,\n",
    "    id: 2\n",
    "  }\n",
    "})\n",
    "\n",
    "const App = () => {\n",
    "  return(\n",
    "    <div>\n",
    "      <ul>\n",
    "        {store.getState().map(note=>\n",
    "          <li key={note.id}>\n",
    "            {note.content} <strong>{note.important ? 'important' : ''}</strong>\n",
    "          </li>\n",
    "        )}\n",
    "        </ul>\n",
    "    </div>\n",
    "  )\n",
    "}\n",
    "```"
   ]
  },
  {
   "cell_type": "markdown",
   "metadata": {},
   "source": [
    "So far the application does not have the functionality for adding new notes, although it is possible to do so by dispatching *NEW_NOTE* actions.\n",
    "\n",
    "Now the actions have a type and a field *payload*, which contains the note to be added:"
   ]
  },
  {
   "cell_type": "markdown",
   "metadata": {},
   "source": [
    "```js\n",
    "{\n",
    "  type: 'NEW_NOTE',\n",
    "  payload: {\n",
    "    content: 'state changes are made with actions',\n",
    "    important: false,\n",
    "    id: 2\n",
    "  }\n",
    "}\n",
    "```"
   ]
  },
  {
   "cell_type": "markdown",
   "metadata": {},
   "source": [
    "The choice of the field name is not random. The general convention is that actions have exactly two fields, *type* telling the type and *payload* containing the data included with the Action."
   ]
  },
  {
   "cell_type": "markdown",
   "metadata": {},
   "source": [
    "> ## Pure functions, immutable"
   ]
  },
  {
   "cell_type": "markdown",
   "metadata": {},
   "source": [
    "The initial version of the reducer is very simple:"
   ]
  },
  {
   "cell_type": "markdown",
   "metadata": {},
   "source": [
    "```js\n",
    "const noteReducer = (state = [], action) => {\n",
    "  if (action.type === 'NEW_NOTE') {\n",
    "    state.push(action.payload)\n",
    "    return state\n",
    "  }\n",
    "\n",
    "  return state\n",
    "}\n",
    "```"
   ]
  },
  {
   "cell_type": "markdown",
   "metadata": {},
   "source": [
    "The state is now an Array. *NEW_NOTE*-type actions cause a new note to be added to the state with the [push](https://developer.mozilla.org/en-US/docs/Web/JavaScript/Reference/Global_Objects/Array/push) method.\n",
    "\n",
    "The application seems to be working, but the reducer we have declared is bad. It breaks the [basic assumption](https://redux.js.org/tutorials/essentials/part-1-overview-concepts#reducers) that reducers must be [pure functions](https://en.wikipedia.org/wiki/Pure_function).\n",
    "\n",
    "Pure functions are such, that they *do not cause any side effects* and they must always return the same response when called with the same parameters.\n",
    "\n",
    "We added a new note to the state with the method `state.push(action.payload)` which changes the state of the state-object. This is not allowed. The problem is easily solved by using the [concat](https://developer.mozilla.org/en-US/docs/Web/JavaScript/Reference/Global_Objects/Array/concat) method, which creates a new array, which contains all the elements of the old array and the new element:"
   ]
  },
  {
   "cell_type": "markdown",
   "metadata": {},
   "source": [
    "```js\n",
    "const noteReducer = (state = [], action) => {\n",
    "  if (action.type === 'NEW_NOTE') {\n",
    "\n",
    "    return state.concat(action.payload)\n",
    "  }\n",
    "\n",
    "  return state\n",
    "}\n",
    "```"
   ]
  },
  {
   "cell_type": "markdown",
   "metadata": {},
   "source": [
    "A reducer state must be composed of [immutable](https://en.wikipedia.org/wiki/Immutable_object) objects. If there is a change in the state, the old object is not changed, but it is *replaced with a new, changed, object*. This is exactly what we did with the new reducer: the old array is replaced with the new one.\n",
    "\n",
    "Let's expand our reducer so that it can handle the change of a note's importance:"
   ]
  },
  {
   "cell_type": "markdown",
   "metadata": {},
   "source": [
    "```js\n",
    "{\n",
    "  type: 'TOGGLE_IMPORTANCE',\n",
    "  payload: {\n",
    "    id: 2\n",
    "  }\n",
    "}\n",
    "```"
   ]
  },
  {
   "cell_type": "markdown",
   "metadata": {},
   "source": [
    "Since we do not have any code which uses this functionality yet, we are expanding the reducer in the 'test-driven' way. Let's start by creating a test for handling the action *NEW_NOTE*.\n",
    "\n",
    "We have to first configure the [Jest](https://jestjs.io/) testing library for the project. Let us install the following dependencies:"
   ]
  },
  {
   "cell_type": "markdown",
   "metadata": {},
   "source": [
    "```cmd\n",
    "npm install --save-dev jest @babel/preset-env @babel/preset-react eslint-plugin-jest\n",
    "```"
   ]
  },
  {
   "cell_type": "markdown",
   "metadata": {},
   "source": [
    "Next we'll create the file *.babelrc*, with the following content:"
   ]
  },
  {
   "cell_type": "markdown",
   "metadata": {},
   "source": [
    "```json\n",
    "{\n",
    "  \"presets\": [\n",
    "    \"@babel/preset-env\",\n",
    "    [\"@babel/preset-react\", { \"runtime\": \"automatic\" }]\n",
    "  ]\n",
    "}\n",
    "```"
   ]
  },
  {
   "cell_type": "markdown",
   "metadata": {},
   "source": [
    "Let us expand *package.json* with a script for running the tests:"
   ]
  },
  {
   "cell_type": "markdown",
   "metadata": {},
   "source": [
    "```json\n",
    "{\n",
    "  // ...\n",
    "  \"scripts\": {\n",
    "    \"dev\": \"vite\",\n",
    "    \"build\": \"vite build\",\n",
    "    \"lint\": \"eslint . --ext js,jsx --report-unused-disable-directives --max-warnings 0\",\n",
    "    \"preview\": \"vite preview\",\n",
    "\n",
    "    \"test\": \"jest\"\n",
    "  },\n",
    "  // ...\n",
    "}\n",
    "```"
   ]
  },
  {
   "cell_type": "markdown",
   "metadata": {},
   "source": [
    "And finally, *.eslintrc.cjs* needs to be altered as follows:"
   ]
  },
  {
   "cell_type": "markdown",
   "metadata": {},
   "source": [
    "```js\n",
    "module.exports = {\n",
    "  root: true,\n",
    "  env: { \n",
    "    browser: true,\n",
    "    es2020: true,\n",
    "\n",
    "    \"jest/globals\": true\n",
    "  },\n",
    "  // ...\n",
    "}\n",
    "```"
   ]
  },
  {
   "cell_type": "markdown",
   "metadata": {},
   "source": [
    "To make testing easier, we'll first move the reducer's code to its own module, to the file *src/reducers/noteReducer.js*. We'll also add the library [deep-freeze](https://www.npmjs.com/package/deep-freeze), which can be used to ensure that the reducer has been correctly defined as an immutable function. Let's install the library as a development dependency:\n",
    "\n",
    "```cmd\n",
    "npm install --save-dev deep-freeze\n",
    "```\n",
    "\n",
    "The test, which we define in file src/reducers/noteReducer.test.js, has the following content:"
   ]
  },
  {
   "cell_type": "markdown",
   "metadata": {},
   "source": [
    "```js\n",
    "import noteReducer from './noteReducer'\n",
    "import deepFreeze from 'deep-freeze'\n",
    "\n",
    "describe('noteReducer', () => {\n",
    "  test('returns new state with action NEW_NOTE', () => {\n",
    "    const state = []\n",
    "    const action = {\n",
    "      type: 'NEW_NOTE',\n",
    "      payload: {\n",
    "        content: 'the app state is in redux store',\n",
    "        important: true,\n",
    "        id: 1\n",
    "      }\n",
    "    }\n",
    "\n",
    "    deepFreeze(state)\n",
    "    const newState = noteReducer(state, action)\n",
    "\n",
    "    expect(newState).toHaveLength(1)\n",
    "    expect(newState).toContainEqual(action.payload)\n",
    "  })\n",
    "})\n",
    "```"
   ]
  },
  {
   "cell_type": "markdown",
   "metadata": {},
   "source": [
    "The *deepFreeze(state)* command ensures that the reducer does not change the state of the store given to it as a parameter. If the reducer uses the `push` command to manipulate the state, the test will not pass"
   ]
  },
  {
   "cell_type": "markdown",
   "metadata": {},
   "source": [
    "![](./images/image05.png)"
   ]
  },
  {
   "cell_type": "markdown",
   "metadata": {},
   "source": [
    "Now we'll create a test for the *TOGGLE_IMPORTANCE* action:"
   ]
  },
  {
   "cell_type": "markdown",
   "metadata": {},
   "source": [
    "```js\n",
    "test('returns new state with action TOGGLE_IMPORTANCE', () => {\n",
    "  const state = [\n",
    "    {\n",
    "      content: 'the app state is in redux store',\n",
    "      important: true,\n",
    "      id: 1\n",
    "    },\n",
    "    {\n",
    "      content: 'state changes are made with actions',\n",
    "      important: false,\n",
    "      id: 2\n",
    "    }]\n",
    "\n",
    "  const action = {\n",
    "    type: 'TOGGLE_IMPORTANCE',\n",
    "    payload: {\n",
    "      id: 2\n",
    "    }\n",
    "  }\n",
    "\n",
    "  deepFreeze(state)\n",
    "  const newState = noteReducer(state, action)\n",
    "\n",
    "  expect(newState).toHaveLength(2)\n",
    "\n",
    "  expect(newState).toContainEqual(state[0])\n",
    "\n",
    "  expect(newState).toContainEqual({\n",
    "    content: 'state changes are made with actions',\n",
    "    important: true,\n",
    "    id: 2\n",
    "  })\n",
    "})\n",
    "```"
   ]
  },
  {
   "cell_type": "markdown",
   "metadata": {},
   "source": [
    "So the following action\n",
    "\n",
    "```js\n",
    "{\n",
    "  type: 'TOGGLE_IMPORTANCE',\n",
    "  payload: {\n",
    "    id: 2\n",
    "  }\n",
    "}\n",
    "```\n",
    "\n",
    "has to change the importance of the note with the id 2.\n",
    "\n",
    "The reducer is expanded as follows"
   ]
  },
  {
   "cell_type": "markdown",
   "metadata": {},
   "source": [
    "```js\n",
    "const noteReducer = (state = [], action) => {\n",
    "  switch(action.type) {\n",
    "    case 'NEW_NOTE':\n",
    "      return state.concat(action.payload)\n",
    "    case 'TOGGLE_IMPORTANCE': {\n",
    "      const id = action.payload.id\n",
    "      const noteToChange = state.find(n => n.id === id)\n",
    "      const changedNote = { \n",
    "        ...noteToChange, \n",
    "        important: !noteToChange.important \n",
    "      }\n",
    "      return state.map(note =>\n",
    "        note.id !== id ? note : changedNote \n",
    "      )\n",
    "     }\n",
    "    default:\n",
    "      return state\n",
    "  }\n",
    "}\n",
    "```"
   ]
  },
  {
   "cell_type": "markdown",
   "metadata": {},
   "source": [
    "We create a copy of the note whose importance has changed with the syntax [familiar from part 2](https://fullstackopen.com/en/part2/altering_data_in_server#changing-the-importance-of-notes), and replace the state with a new state containing all the notes which have not changed and the copy of the changed note *changedNote*.\n",
    "\n",
    "Let's recap what goes on in the code. First, we search for a specific note object, the importance of which we want to change:\n",
    "\n",
    "```js\n",
    "const noteToChange = state.find(n => n.id === id)\n",
    "```\n",
    "\n",
    "then we create a new object, which is a copy of the original note, only the value of the important field has been changed to the opposite of what it was:\n",
    "\n",
    "```js\n",
    "const changedNote = { \n",
    "  ...noteToChange, \n",
    "  important: !noteToChange.important \n",
    "}\n",
    "```"
   ]
  },
  {
   "cell_type": "markdown",
   "metadata": {},
   "source": [
    "A new state is then returned. We create it by taking all of the notes from the old state except for the desired note, which we replace with its slightly altered copy:\n",
    "\n",
    "```js\n",
    "state.map(note =>\n",
    "  note.id !== id ? note : changedNote \n",
    ")\n",
    "```"
   ]
  },
  {
   "cell_type": "markdown",
   "metadata": {},
   "source": [
    "> ## Array spread syntax"
   ]
  },
  {
   "cell_type": "markdown",
   "metadata": {},
   "source": [
    "Because we now have quite good tests for the reducer, we can refactor the code safely.\n",
    "\n",
    "Adding a new note creates the state returned from the Array's `concat` function. Let's take a look at how we can achieve the same by using the JavaScript [array spread](https://developer.mozilla.org/en-US/docs/Web/JavaScript/Reference/Operators/Spread_syntax) syntax:\n",
    "\n",
    "\n",
    "```js\n",
    "const noteReducer = (state = [], action) => {\n",
    "  switch(action.type) {\n",
    "    case 'NEW_NOTE':\n",
    "      return [...state, action.payload]\n",
    "    case 'TOGGLE_IMPORTANCE':\n",
    "      // ...\n",
    "    default:\n",
    "    return state\n",
    "  }\n",
    "}\n",
    "```\n",
    "\n",
    "\n",
    "The spread -syntax works as follows. If we declare\n",
    "\n",
    "```js\n",
    "const numbers = [1, 2, 3]\n",
    "```"
   ]
  },
  {
   "cell_type": "markdown",
   "metadata": {},
   "source": [
    "`...numbers` breaks the array up into individual elements, which can be placed in another array.\n",
    "\n",
    "```js\n",
    "[...numbers, 4, 5]\n",
    "```\n",
    "\n",
    "and the result is an array *[1, 2, 3, 4, 5]*.\n",
    "\n",
    "If we would have placed the array to another array without the spread\n",
    "\n",
    "```js\n",
    "[numbers, 4, 5]\n",
    "```\n",
    "\n",
    "the result would have been *[ [1, 2, 3], 4, 5]*.\n",
    "\n",
    "When we take elements from an array by [destructuring](https://developer.mozilla.org/en-US/docs/Web/JavaScript/Reference/Operators/Destructuring_assignment), a similar-looking syntax is used to *gather* the rest of the elements:"
   ]
  },
  {
   "cell_type": "markdown",
   "metadata": {},
   "source": [
    "```js\n",
    "const numbers = [1, 2, 3, 4, 5, 6]\n",
    "\n",
    "const [first, second, ...rest] = numbers\n",
    "\n",
    "console.log(first)     // prints 1\n",
    "console.log(second)   // prints 2\n",
    "console.log(rest)     // prints [3, 4, 5, 6]\n",
    "```"
   ]
  },
  {
   "cell_type": "markdown",
   "metadata": {},
   "source": [
    "> ## Exercises 6.1.-6.2.\n",
    ">\n",
    "> Let's make a simplified version of the unicafe exercise from part 1. Let's handle the state management with Redux.\n",
    ">\n",
    "> You can take the code from this repository https://github.com/fullstack-hy2020/unicafe-redux for the base of your project.\n",
    ">\n",
    "> *Start by removing the git configuration of the cloned repository, and by installing dependencies*\n",
    ">\n",
    "> ```cmd\n",
    "> cd unicafe-redux   // go to the directory of cloned repository\n",
    "> rm -rf .git\n",
    "> npm install\n",
    "> ```"
   ]
  },
  {
   "cell_type": "markdown",
   "metadata": {},
   "source": [
    "> ### 6.1: Unicafe Revisited, step 1\n",
    ">\n",
    "> Before implementing the functionality of the UI, let's implement the functionality required by the store.\n",
    ">\n",
    "> We have to save the number of each kind of feedback to the store, so the form of the state in the store is:\n",
    ">\n",
    "> ```jsx\n",
    "> {\n",
    ">   good: 5,\n",
    ">   ok: 4,\n",
    ">   bad: 2\n",
    "> }\n",
    "> ```\n",
    "> \n",
    "> The project has the following base for a reducer:\n",
    ">\n",
    "> ```js\n",
    "> const initialState = {\n",
    ">   good: 0,\n",
    ">   ok: 0,\n",
    ">   bad: 0\n",
    "> }\n",
    "> \n",
    "> const counterReducer = (state = initialState, action) => {\n",
    ">   console.log(action)\n",
    ">   switch (action.type) {\n",
    ">     case 'GOOD':\n",
    ">       return state\n",
    ">     case 'OK':\n",
    ">       return state\n",
    ">     case 'BAD':\n",
    ">       return state\n",
    ">     case 'ZERO':\n",
    ">       return state\n",
    ">     default: return state\n",
    ">   }\n",
    "> \n",
    "> }\n",
    "> \n",
    "> export default counterReducer\n",
    "> ```"
   ]
  },
  {
   "cell_type": "markdown",
   "metadata": {},
   "source": [
    "> and a base for its tests\n",
    "> \n",
    "> ```js\n",
    "> import deepFreeze from 'deep-freeze'\n",
    "> import counterReducer from './reducer'\n",
    ">\n",
    "> describe('unicafe reducer', () => {\n",
    ">   const initialState = {\n",
    ">     good: 0,\n",
    ">     ok: 0,\n",
    ">     bad: 0\n",
    ">   }\n",
    ">\n",
    ">   test('should return a proper initial state when called with undefined state', () => {\n",
    ">     const state = {}\n",
    ">     const action = {\n",
    ">       type: 'DO_NOTHING'\n",
    ">     }\n",
    "> \n",
    ">     const newState = counterReducer(undefined, action)\n",
    ">     expect(newState).toEqual(initialState)\n",
    ">   })\n",
    ">\n",
    ">   test('good is incremented', () => {\n",
    ">     const action = {\n",
    ">       type: 'GOOD'\n",
    ">     }\n",
    ">     const state = initialState\n",
    "> \n",
    ">     deepFreeze(state)\n",
    ">     const newState = counterReducer(state, action)\n",
    ">     expect(newState).toEqual({\n",
    ">       good: 1,\n",
    ">       ok: 0,\n",
    ">       bad: 0\n",
    ">     })\n",
    ">   })\n",
    "> })\n",
    "> ```"
   ]
  },
  {
   "cell_type": "markdown",
   "metadata": {},
   "source": [
    "> **Implement the reducer and its tests.**\n",
    ">\n",
    "> In the tests, make sure that the reducer is an *immutable* function with the *deep-freeze* library. Ensure that the provided first test passes, because Redux expects that the reducer returns the original state when it is called with a first parameter - which represents the previous state - with the value undefined.\n",
    ">\n",
    "> Start by expanding the reducer so that both tests pass. Then add the rest of the tests, and finally the functionality that they are testing.\n",
    ">\n",
    "> A good model for the reducer is the redux-notes example above."
   ]
  },
  {
   "cell_type": "markdown",
   "metadata": {},
   "source": [
    "> ### 6.2: Unicafe Revisited, step2\n",
    ">\n",
    "> Now implement the actual functionality of the application.\n",
    ">\n",
    "> Your application can have a modest appearance, nothing else is needed but buttons and the number of reviews for each type:\n",
    "> \n",
    "> ![](./images/image06.png)"
   ]
  },
  {
   "cell_type": "markdown",
   "metadata": {},
   "source": [
    "> ## Uncontrolled form"
   ]
  },
  {
   "cell_type": "markdown",
   "metadata": {},
   "source": [
    "Let's add the functionality for adding new notes and changing their importance:"
   ]
  },
  {
   "cell_type": "markdown",
   "metadata": {},
   "source": [
    "```js\n",
    "const generateId = () =>\n",
    "  Number((Math.random() * 1000000).toFixed(0))\n",
    "\n",
    "const App = () => {\n",
    "\n",
    "  const addNote = (event) => {\n",
    "    event.preventDefault()\n",
    "    const content = event.target.note.value\n",
    "    event.target.note.value = ''\n",
    "    store.dispatch({\n",
    "      type: 'NEW_NOTE',\n",
    "      payload: {\n",
    "        content,\n",
    "        important: false,\n",
    "        id: generateId()\n",
    "      }\n",
    "    })\n",
    "  }\n",
    "\n",
    "\n",
    "  const toggleImportance = (id) => {\n",
    "    store.dispatch({\n",
    "      type: 'TOGGLE_IMPORTANCE',\n",
    "      payload: { id }\n",
    "    })\n",
    "  }\n",
    "\n",
    "  return (\n",
    "    <div>\n",
    "\n",
    "      <form onSubmit={addNote}>\n",
    "        <input name=\"note\" /> \n",
    "        <button type=\"submit\">add</button>\n",
    "      </form>\n",
    "      <ul>\n",
    "        {store.getState().map(note =>\n",
    "          <li\n",
    "            key={note.id} \n",
    "\n",
    "            onClick={() => toggleImportance(note.id)}\n",
    "          >\n",
    "            {note.content} <strong>{note.important ? 'important' : ''}</strong>\n",
    "          </li>\n",
    "        )}\n",
    "      </ul>\n",
    "    </div>\n",
    "  )\n",
    "}\n",
    "```"
   ]
  },
  {
   "cell_type": "markdown",
   "metadata": {},
   "source": [
    "The implementation of both functionalities is straightforward. It is noteworthy that we have not bound the state of the form fields to the state of the App component like we have previously done. React calls this kind of form [uncontrolled](https://react.dev/reference/react-dom/components/input#controlling-an-input-with-a-state-variable).\n",
    "\n",
    "> Uncontrolled forms have certain limitations (for example, dynamic error messages or disabling the submit button based on input are not possible). However they are suitable for our current needs.\n",
    "\n",
    "You can read more about uncontrolled forms [here](https://goshacmd.com/controlled-vs-uncontrolled-inputs-react/).\n",
    "\n",
    "The method for adding new notes is simple, it just dispatches the action for adding notes:"
   ]
  },
  {
   "cell_type": "markdown",
   "metadata": {},
   "source": [
    "```js\n",
    "addNote = (event) => {\n",
    "  event.preventDefault()\n",
    "\n",
    "  const content = event.target.note.value\n",
    "  event.target.note.value = ''\n",
    "  store.dispatch({\n",
    "    type: 'NEW_NOTE',\n",
    "    payload: {\n",
    "      content,\n",
    "      important: false,\n",
    "      id: generateId()\n",
    "    }\n",
    "  })\n",
    "}\n",
    "```"
   ]
  },
  {
   "cell_type": "markdown",
   "metadata": {},
   "source": [
    "We can get the content of the new note straight from the form field. Because the field has a name, we can access the content via the event object *event.target.note.value*."
   ]
  },
  {
   "cell_type": "markdown",
   "metadata": {},
   "source": [
    "```js\n",
    "<form onSubmit={addNote}>\n",
    "\n",
    "  <input name=\"note\" />\n",
    "  <button type=\"submit\">add</button>\n",
    "</form>\n",
    "```"
   ]
  },
  {
   "cell_type": "markdown",
   "metadata": {},
   "source": [
    "A note's importance can be changed by clicking its name. The event handler is very simple:"
   ]
  },
  {
   "cell_type": "markdown",
   "metadata": {},
   "source": [
    "```js\n",
    "toggleImportance = (id) => {\n",
    "  store.dispatch({\n",
    "    type: 'TOGGLE_IMPORTANCE',\n",
    "    payload: { id }\n",
    "  })\n",
    "}\n",
    "```"
   ]
  },
  {
   "cell_type": "markdown",
   "metadata": {},
   "source": [
    "> ## Action creators"
   ]
  },
  {
   "cell_type": "markdown",
   "metadata": {},
   "source": [
    "We begin to notice that, even in applications as simple as ours, using Redux can simplify the frontend code. However, we can do a lot better.\n",
    "\n",
    "React components don't need to know the Redux action types and forms. Let's separate creating actions into separate functions:"
   ]
  },
  {
   "cell_type": "markdown",
   "metadata": {},
   "source": [
    "```js\n",
    "const createNote = (content) => {\n",
    "  return {\n",
    "    type: 'NEW_NOTE',\n",
    "    payload: {\n",
    "      content,\n",
    "      important: false,\n",
    "      id: generateId()\n",
    "    }\n",
    "  }\n",
    "}\n",
    "\n",
    "const toggleImportanceOf = (id) => {\n",
    "  return {\n",
    "    type: 'TOGGLE_IMPORTANCE',\n",
    "    payload: { id }\n",
    "  }\n",
    "}\n",
    "```"
   ]
  },
  {
   "cell_type": "markdown",
   "metadata": {},
   "source": [
    "Functions that create actions are called [action creators](https://redux.js.org/tutorials/essentials/part-1-overview-concepts#action-creators).\n",
    "\n",
    "The *App* component does not have to know anything about the inner representation of the actions anymore, it just gets the right action by calling the creator function:"
   ]
  },
  {
   "cell_type": "markdown",
   "metadata": {},
   "source": [
    "```js\n",
    "const App = () => {\n",
    "  const addNote = (event) => {\n",
    "    event.preventDefault()\n",
    "    const content = event.target.note.value\n",
    "    event.target.note.value = ''\n",
    "\n",
    "    store.dispatch(createNote(content))\n",
    "    \n",
    "  }\n",
    "  \n",
    "  const toggleImportance = (id) => {\n",
    "\n",
    "    store.dispatch(toggleImportanceOf(id))\n",
    "  }\n",
    "\n",
    "  // ...\n",
    "}\n",
    "```"
   ]
  },
  {
   "cell_type": "markdown",
   "metadata": {},
   "source": [
    "> ## Forwarding Redux Store to various components"
   ]
  },
  {
   "cell_type": "markdown",
   "metadata": {},
   "source": [
    "Aside from the reducer, our application is in one file. This is of course not sensible, and we should separate *App* into its module.\n",
    "\n",
    "Now the question is, how can the *App* access the store after the move? And more broadly, when a component is composed of many smaller components, there must be a way for all of the components to access the store. There are multiple ways to share the Redux store with the components. First, we will look into the newest, and possibly the easiest way, which is using the [hooks](https://react-redux.js.org/api/hooks) API of the [react-redux](https://react-redux.js.org/) library.\n",
    "\n",
    "First, we install react-redux"
   ]
  },
  {
   "cell_type": "markdown",
   "metadata": {},
   "source": [
    "```cmd\n",
    "npm install react-redux\n",
    "```"
   ]
  },
  {
   "cell_type": "markdown",
   "metadata": {},
   "source": [
    "Next, we move the `App` component into its own file `App.jsx`. Let's see how this affects the rest of the application files.\n",
    "\n",
    "`main.jsx` becomes:"
   ]
  },
  {
   "cell_type": "markdown",
   "metadata": {},
   "source": [
    "```js\n",
    "import React from 'react'\n",
    "import ReactDOM from 'react-dom/client'\n",
    "import { createStore } from 'redux'\n",
    "\n",
    "import { Provider } from 'react-redux'\n",
    "\n",
    "import App from './App'\n",
    "import noteReducer from './reducers/noteReducer'\n",
    "\n",
    "const store = createStore(noteReducer)\n",
    "\n",
    "ReactDOM.createRoot(document.getElementById('root')).render(\n",
    "\n",
    "  <Provider store={store}>\n",
    "    <App />\n",
    "\n",
    "  </Provider>\n",
    ")\n",
    "```"
   ]
  },
  {
   "cell_type": "markdown",
   "metadata": {},
   "source": [
    "Note, that the application is now defined as a child of a [Provider](https://react-redux.js.org/api/provider) component provided by the react-redux library. The application's store is given to the Provider as its attribute store.\n",
    "\n",
    "Defining the action creators has been moved to the file *reducers/noteReducer*.js where the reducer is defined. That file looks like this:"
   ]
  },
  {
   "cell_type": "markdown",
   "metadata": {},
   "source": [
    "```js\n",
    "const noteReducer = (state = [], action) => {\n",
    "  // ...\n",
    "}\n",
    "\n",
    "const generateId = () =>\n",
    "  Number((Math.random() * 1000000).toFixed(0))\n",
    "\n",
    "\n",
    "export const createNote = (content) => {\n",
    "  return {\n",
    "    type: 'NEW_NOTE',\n",
    "    payload: {\n",
    "      content,\n",
    "      important: false,\n",
    "      id: generateId()\n",
    "    }\n",
    "  }\n",
    "}\n",
    "\n",
    "\n",
    "export const toggleImportanceOf = (id) => {\n",
    "  return {\n",
    "    type: 'TOGGLE_IMPORTANCE',\n",
    "    payload: { id }\n",
    "  }\n",
    "}\n",
    "\n",
    "export default noteReducer\n",
    "```"
   ]
  },
  {
   "cell_type": "markdown",
   "metadata": {},
   "source": [
    "If the application has many components which need the store, the App component must pass store as props to all of those components.\n",
    "\n",
    "The module now has multiple [export](https://developer.mozilla.org/en-US/docs/Web/JavaScript/Reference/Statements/export) commands.\n",
    "\n",
    "The reducer function is still returned with the *export default* command, so the reducer can be imported the usual way:"
   ]
  },
  {
   "cell_type": "markdown",
   "metadata": {},
   "source": [
    "```js\n",
    "import noteReducer from './reducers/noteReducer'\n",
    "```"
   ]
  },
  {
   "cell_type": "markdown",
   "metadata": {},
   "source": [
    "A module can have only *one default export*, but multiple \"normal\" exports"
   ]
  },
  {
   "cell_type": "markdown",
   "metadata": {},
   "source": [
    "```js\n",
    "export const createNote = (content) => {\n",
    "  // ...\n",
    "}\n",
    "\n",
    "export const toggleImportanceOf = (id) => { \n",
    "  // ...\n",
    "}\n",
    "```"
   ]
  },
  {
   "cell_type": "markdown",
   "metadata": {},
   "source": [
    "Normally (not as defaults) exported functions can be imported with the curly brace syntax:"
   ]
  },
  {
   "cell_type": "markdown",
   "metadata": {},
   "source": [
    "```js\n",
    "import { createNote } from '../../reducers/noteReducer'\n",
    "```"
   ]
  },
  {
   "cell_type": "markdown",
   "metadata": {},
   "source": [
    "Code for the *App* component"
   ]
  },
  {
   "cell_type": "markdown",
   "metadata": {},
   "source": [
    "```js\n",
    "import { createNote, toggleImportanceOf } from './reducers/noteReducer'\n",
    "import { useSelector, useDispatch } from 'react-redux'\n",
    "\n",
    "const App = () => {\n",
    "\n",
    "  const dispatch = useDispatch()\n",
    "  const notes = useSelector(state => state)\n",
    "\n",
    "  const addNote = (event) => {\n",
    "    event.preventDefault()\n",
    "    const content = event.target.note.value\n",
    "    event.target.note.value = ''\n",
    "\n",
    "    dispatch(createNote(content))\n",
    "  }\n",
    "\n",
    "  const toggleImportance = (id) => {\n",
    "\n",
    "    dispatch(toggleImportanceOf(id))\n",
    "  }\n",
    "\n",
    "  return (\n",
    "    <div>\n",
    "      <form onSubmit={addNote}>\n",
    "        <input name=\"note\" /> \n",
    "        <button type=\"submit\">add</button>\n",
    "      </form>\n",
    "      <ul>\n",
    "\n",
    "        {notes.map(note =>\n",
    "          <li\n",
    "            key={note.id} \n",
    "            onClick={() => toggleImportance(note.id)}\n",
    "          >\n",
    "            {note.content} <strong>{note.important ? 'important' : ''}</strong>\n",
    "          </li>\n",
    "        )}\n",
    "      </ul>\n",
    "    </div>\n",
    "  )\n",
    "}\n",
    "\n",
    "export default App\n",
    "```"
   ]
  },
  {
   "cell_type": "markdown",
   "metadata": {},
   "source": [
    "There are a few things to note in the code. Previously the code dispatched actions by calling the dispatch method of the Redux store:"
   ]
  },
  {
   "cell_type": "markdown",
   "metadata": {},
   "source": [
    "```js\n",
    "store.dispatch({\n",
    "  type: 'TOGGLE_IMPORTANCE',\n",
    "  payload: { id }\n",
    "})\n",
    "```"
   ]
  },
  {
   "cell_type": "markdown",
   "metadata": {},
   "source": [
    "Now it does it with the *dispatch* function from the [useDispatch](https://react-redux.js.org/api/hooks#usedispatch) hook."
   ]
  },
  {
   "cell_type": "markdown",
   "metadata": {},
   "source": [
    "```js\n",
    "import { useSelector, useDispatch } from 'react-redux'\n",
    "\n",
    "const App = () => {\n",
    "\n",
    "  const dispatch = useDispatch()\n",
    "  // ...\n",
    "\n",
    "  const toggleImportance = (id) => {\n",
    "\n",
    "    dispatch(toggleImportanceOf(id))\n",
    "  }\n",
    "\n",
    "  // ...\n",
    "}\n",
    "```"
   ]
  },
  {
   "cell_type": "markdown",
   "metadata": {},
   "source": [
    "The *useDispatch* hook provides any React component access to the dispatch function of the Redux store defined in *main.jsx*. This allows all components to make changes to the state of the Redux store.\n",
    "\n",
    "The component can access the notes stored in the store with the [useSelector](https://react-redux.js.org/api/hooks#useselector)-hook of the react-redux library."
   ]
  },
  {
   "cell_type": "markdown",
   "metadata": {},
   "source": [
    "*useSelector* receives a function as a parameter. The function either searches for or selects data from the Redux store. Here we need all of the notes, so our selector function returns the whole state:\n",
    "\n",
    "```js\n",
    "state => state\n",
    "```"
   ]
  },
  {
   "cell_type": "markdown",
   "metadata": {},
   "source": [
    "which is a shorthand for:\n",
    "\n",
    "```js\n",
    "(state) => {\n",
    "  return state\n",
    "}\n",
    "```\n",
    "\n",
    "Usually, selector functions are a bit more interesting and return only selected parts of the contents of the Redux store. We could for example return only notes marked as important:\n",
    "\n",
    "```js\n",
    "const importantNotes = useSelector(state => state.filter(note => note.important))\n",
    "```\n",
    "\n",
    "The current version of the application can be found on [GitHub](https://github.com/fullstack-hy2020/redux-notes/tree/part6-0), branch *part6-0*."
   ]
  },
  {
   "cell_type": "markdown",
   "metadata": {},
   "source": [
    "> ## More components"
   ]
  },
  {
   "cell_type": "markdown",
   "metadata": {},
   "source": [
    "Let's separate creating a new note into a component."
   ]
  },
  {
   "cell_type": "markdown",
   "metadata": {},
   "source": [
    "```js\n",
    "import { useDispatch } from 'react-redux'\n",
    "import { createNote } from '../reducers/noteReducer'\n",
    "\n",
    "const NewNote = () => {\n",
    "\n",
    "  const dispatch = useDispatch()\n",
    "\n",
    "  const addNote = (event) => {\n",
    "    event.preventDefault()\n",
    "    const content = event.target.note.value\n",
    "    event.target.note.value = ''\n",
    "\n",
    "    dispatch(createNote(content))\n",
    "  }\n",
    "\n",
    "  return (\n",
    "    <form onSubmit={addNote}>\n",
    "      <input name=\"note\" />\n",
    "      <button type=\"submit\">add</button>\n",
    "    </form>\n",
    "  )\n",
    "}\n",
    "\n",
    "export default NewNote\n",
    "```"
   ]
  },
  {
   "cell_type": "markdown",
   "metadata": {},
   "source": [
    "Unlike in the React code we did without Redux, the event handler for changing the state of the app (which now lives in Redux) has been moved away from the *App* to a child component. The logic for changing the state in Redux is still neatly separated from the whole React part of the application.\n",
    "\n",
    "We'll also separate the list of notes and displaying a single note into their own components (which will both be placed in the *Notes.jsx* file ):"
   ]
  },
  {
   "cell_type": "markdown",
   "metadata": {},
   "source": [
    "```js\n",
    "import { useDispatch, useSelector } from 'react-redux'\n",
    "import { toggleImportanceOf } from '../reducers/noteReducer'\n",
    "\n",
    "const Note = ({ note, handleClick }) => {\n",
    "  return(\n",
    "    <li onClick={handleClick}>\n",
    "      {note.content} \n",
    "      <strong> {note.important ? 'important' : ''}</strong>\n",
    "    </li>\n",
    "  )\n",
    "}\n",
    "\n",
    "const Notes = () => {\n",
    "\n",
    "  const dispatch = useDispatch()\n",
    "  const notes = useSelector(state => state)\n",
    "\n",
    "  return(\n",
    "    <ul>\n",
    "      {notes.map(note =>\n",
    "        <Note\n",
    "          key={note.id}\n",
    "          note={note}\n",
    "          handleClick={() => \n",
    "            dispatch(toggleImportanceOf(note.id))\n",
    "          }\n",
    "        />\n",
    "      )}\n",
    "    </ul>\n",
    "  )\n",
    "}\n",
    "\n",
    "export default Notes\n",
    "```"
   ]
  },
  {
   "cell_type": "markdown",
   "metadata": {},
   "source": [
    "The logic for changing the importance of a note is now in the component managing the list of notes.\n",
    "\n",
    "There is not much code left in *App*:"
   ]
  },
  {
   "cell_type": "markdown",
   "metadata": {},
   "source": [
    "```js\n",
    "const App = () => {\n",
    "\n",
    "  return (\n",
    "    <div>\n",
    "      <NewNote />\n",
    "      <Notes />\n",
    "    </div>\n",
    "  )\n",
    "}\n",
    "```"
   ]
  },
  {
   "cell_type": "markdown",
   "metadata": {},
   "source": [
    "*Note*, responsible for rendering a single note, is very simple and is not aware that the event handler it gets as props dispatches an action. These kinds of components are called [presentational](https://github.com/fullstack-hy2020/redux-notes/blob/part6-1/src/reducers/noteReducer.test.js) in React terminology.\n",
    "\n",
    "*Notes*, on the other hand, is a [container](https://medium.com/@dan_abramov/smart-and-dumb-components-7ca2f9a7c7d0) component, as it contains some application logic: it defines what the event handlers of the *Note* components do and coordinates the configuration of *presentational* components, that is, the Notes.\n",
    "\n",
    "The code of the Redux application can be found on [GitHub](https://github.com/fullstack-hy2020/redux-notes/tree/part6-1), on the branch *part6-1*."
   ]
  },
  {
   "cell_type": "markdown",
   "metadata": {},
   "source": [
    "> ## Exercises 6.3.-6.8.\n",
    ">\n",
    "> Let's make a new version of the anecdote voting application from part 1. Take the project from this repository https://github.com/fullstack-hy2020/redux-anecdotes as the base of your solution.\n",
    ">\n",
    "> If you clone the project into an existing git repository, *remove the git configuration of the cloned application*:\n",
    ">\n",
    "> ```cmd\n",
    "> cd redux-anecdotes  // go to the cloned repository\n",
    "> rm -rf .git\n",
    "> ```\n",
    ">\n",
    "> The application can be started as usual, but you have to install the dependencies first:\n",
    ">\n",
    "> ```cmd\n",
    "> npm install\n",
    "> npm run dev\n",
    "> ```\n",
    ">\n",
    "> After completing these exercises, your application should look like this:"
   ]
  },
  {
   "cell_type": "markdown",
   "metadata": {},
   "source": [
    "> ![](./images/image07.png)"
   ]
  },
  {
   "cell_type": "markdown",
   "metadata": {},
   "source": [
    "> ## 6.3: Anecdotes, step 1\n",
    ">\n",
    "> Implement the functionality for voting anecdotes. The number of votes must be saved to a Redux store.\n",
    ">\n",
    "> ## 6.4: Anecdotes, step 2\n",
    ">\n",
    "> Implement the functionality for adding new anecdotes.\n",
    ">\n",
    "> You can keep the form uncontrolled like we did [earlier](https://fullstackopen.com/en/part6/flux_architecture_and_redux#uncontrolled-form).\n",
    ">\n",
    "> ## 6.5: Anecdotes, step 3\n",
    ">\n",
    "> Make sure that the anecdotes are ordered by the number of votes.\n",
    ">\n",
    "> ## 6.6: Anecdotes, step 4\n",
    ">\n",
    "> If you haven't done so already, separate the creation of action-objects to [action creator](https://read.reduxbook.com/markdown/part1/04-action-creators.html)-functions and place them in the *src/reducers/anecdoteReducer.js* file, so do what we have been doing since the chapter [action creators](https://fullstackopen.com/en/part6/flux_architecture_and_redux#action-creators)."
   ]
  },
  {
   "cell_type": "markdown",
   "metadata": {},
   "source": [
    "> ## 6.7: Anecdotes, step 5\n",
    ">\n",
    "> Separate the creation of new anecdotes into a component called *AnecdoteForm*. Move all logic for creating a new anecdote into this new component.\n",
    ">\n",
    "> ## 6.8: Anecdotes, step 6\n",
    ">\n",
    "> Separate the rendering of the anecdote list into a component called *AnecdoteList*. Move all logic related to voting for an anecdote to this new component.\n",
    ">\n",
    "> Now the *App* component should look like this:\n",
    "> \n",
    "> ```js\n",
    "> import AnecdoteForm from './components/AnecdoteForm'\n",
    "> import AnecdoteList from './components/AnecdoteList'\n",
    "> \n",
    "> const App = () => {\n",
    ">   return (\n",
    ">     <div>\n",
    ">       <h2>Anecdotes</h2>\n",
    ">       <AnecdoteList />\n",
    ">       <AnecdoteForm />\n",
    ">     </div>\n",
    ">   )\n",
    "> }\n",
    ">\n",
    "> export default App\n",
    "> ```"
   ]
  },
  {
   "cell_type": "markdown",
   "metadata": {},
   "source": []
  }
 ],
 "metadata": {
  "language_info": {
   "name": "python"
  }
 },
 "nbformat": 4,
 "nbformat_minor": 2
}
