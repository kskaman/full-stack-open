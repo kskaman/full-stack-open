{
 "cells": [
  {
   "cell_type": "markdown",
   "metadata": {},
   "source": [
    "> # Many reducers"
   ]
  },
  {
   "cell_type": "markdown",
   "metadata": {},
   "source": [
    "Let's continue our work with the simplified [Redux version](https://fullstackopen.com/en/part6/flux_architecture_and_redux#redux-notes) of our notes application.\n",
    "\n",
    "To ease our development, let's change our reducer so that the store gets initialized with a state that contains a couple of notes:"
   ]
  },
  {
   "cell_type": "markdown",
   "metadata": {},
   "source": [
    "```js\n",
    "const initialState = [\n",
    "  {\n",
    "    content: 'reducer defines how redux store works',\n",
    "    important: true,\n",
    "    id: 1,\n",
    "  },\n",
    "  {\n",
    "    content: 'state of store can contain any data',\n",
    "    important: false,\n",
    "    id: 2,\n",
    "  },\n",
    "]\n",
    "\n",
    "const noteReducer = (state = initialState, action) => {\n",
    "  // ...\n",
    "}\n",
    "\n",
    "// ...\n",
    "export default noteReducer\n",
    "```"
   ]
  },
  {
   "cell_type": "markdown",
   "metadata": {},
   "source": [
    "> ## Store with complex state"
   ]
  },
  {
   "cell_type": "markdown",
   "metadata": {},
   "source": [
    "Let's implement filtering for the notes that are displayed to the user. The user interface for the filters will be implemented with [radio buttons](https://developer.mozilla.org/en-US/docs/Web/HTML/Element/input/radio):"
   ]
  },
  {
   "cell_type": "markdown",
   "metadata": {},
   "source": [
    "![](./images/image08.png)"
   ]
  },
  {
   "cell_type": "markdown",
   "metadata": {},
   "source": [
    "Let's start with a very simple and straightforward implementation:"
   ]
  },
  {
   "cell_type": "markdown",
   "metadata": {},
   "source": [
    "```js\n",
    "import NewNote from './components/NewNote'\n",
    "import Notes from './components/Notes'\n",
    "\n",
    "const App = () => {\n",
    "\n",
    "  const filterSelected = (value) => {\n",
    "    console.log(value)\n",
    "  }\n",
    "\n",
    "  return (\n",
    "    <div>\n",
    "      <NewNote />\n",
    "\n",
    "      <div>\n",
    "        all          <input type=\"radio\" name=\"filter\"\n",
    "          onChange={() => filterSelected('ALL')} />\n",
    "        important    <input type=\"radio\" name=\"filter\"\n",
    "          onChange={() => filterSelected('IMPORTANT')} />\n",
    "        nonimportant <input type=\"radio\" name=\"filter\"\n",
    "          onChange={() => filterSelected('NONIMPORTANT')} />\n",
    "      </div>\n",
    "      <Notes />\n",
    "    </div>\n",
    "  )\n",
    "}\n",
    "```"
   ]
  },
  {
   "cell_type": "markdown",
   "metadata": {},
   "source": [
    "Since the *name* attribute of all the radio buttons is the same, they form a *button group* where only one option can be selected.\n",
    "\n",
    "The buttons have a change handler that currently only prints the string associated with the clicked button to the console.\n",
    "\n",
    "In the following section, we will implement filtering by storing both the notes as well as *the value of the filter* in the redux store. When we are finished, we would like the state of the store to look like this:"
   ]
  },
  {
   "cell_type": "markdown",
   "metadata": {},
   "source": [
    "```js\n",
    "{\n",
    "  notes: [\n",
    "    { content: 'reducer defines how redux store works', important: true, id: 1},\n",
    "    { content: 'state of store can contain any data', important: false, id: 2}\n",
    "  ],\n",
    "  filter: 'IMPORTANT'\n",
    "}\n",
    "```"
   ]
  },
  {
   "cell_type": "markdown",
   "metadata": {},
   "source": [
    "Only the array of notes was stored in the state of the previous implementation of our application. In the new implementation, the state object has two properties, *notes* that contains the array of notes and *filter* that contains a string indicating which notes should be displayed to the user."
   ]
  },
  {
   "cell_type": "markdown",
   "metadata": {},
   "source": [
    "> ## Combined reducers"
   ]
  },
  {
   "cell_type": "markdown",
   "metadata": {},
   "source": [
    "We could modify our current reducer to deal with the new shape of the state. However, a better solution in this situation is to define a new separate reducer for the state of the filter:\n",
    "\n",
    "```js\n",
    "const filterReducer = (state = 'ALL', action) => {\n",
    "  switch (action.type) {\n",
    "    case 'SET_FILTER':\n",
    "      return action.payload\n",
    "    default:\n",
    "      return state\n",
    "  }\n",
    "}\n",
    "```\n",
    "\n",
    "The actions for changing the state of the filter look like this:\n",
    "\n",
    "```js\n",
    "{\n",
    "  type: 'SET_FILTER',\n",
    "  payload: 'IMPORTANT'\n",
    "}\n",
    "```\n",
    "\n",
    "Let's also create a new `action creator` function. We will write its code in a new *src/reducers/filterReducer.js* module:"
   ]
  },
  {
   "cell_type": "markdown",
   "metadata": {},
   "source": [
    "```js\n",
    "const filterReducer = (state = 'ALL', action) => {\n",
    "  // ...\n",
    "}\n",
    "\n",
    "export const filterChange = filter => {\n",
    "  return {\n",
    "    type: 'SET_FILTER',\n",
    "    payload: filter,\n",
    "  }\n",
    "}\n",
    "\n",
    "export default filterReducer\n",
    "```"
   ]
  },
  {
   "cell_type": "markdown",
   "metadata": {},
   "source": [
    "We can create the actual reducer for our application by combining the two existing reducers with the [combineReducers](https://redux.js.org/api/combinereducers) function.\n",
    "\n",
    "Let's define the combined reducer in the *main.jsx* file:\n",
    "\n",
    "```js\n",
    "import ReactDOM from 'react-dom/client'\n",
    "import { createStore, combineReducers } from 'redux'\n",
    "import { Provider } from 'react-redux' \n",
    "import App from './App'\n",
    "\n",
    "import noteReducer from './reducers/noteReducer'\n",
    "import filterReducer from './reducers/filterReducer'\n",
    "\n",
    "const reducer = combineReducers({\n",
    "  notes: noteReducer,\n",
    "  filter: filterReducer\n",
    "})\n",
    "\n",
    "const store = createStore(reducer)\n",
    "\n",
    "console.log(store.getState())\n",
    "\n",
    "/*\n",
    "ReactDOM.createRoot(document.getElementById('root')).render(\n",
    "  <Provider store={store}>\n",
    "    <App />\n",
    "  </Provider>\n",
    ")*/\n",
    "\n",
    "ReactDOM.createRoot(document.getElementById('root')).render(\n",
    "  <Provider store={store}>\n",
    "    <div />\n",
    "  </Provider>\n",
    ")\n",
    "```\n",
    "\n",
    "Since our application breaks completely at this point, we render an empty *div* element instead of the *App* component.\n",
    "\n",
    "The state of the store gets printed to the console:"
   ]
  },
  {
   "cell_type": "markdown",
   "metadata": {},
   "source": [
    "![](./images/image09.png)"
   ]
  },
  {
   "cell_type": "markdown",
   "metadata": {},
   "source": [
    "As we can see from the output, the store has the exact shape we wanted it to!\n",
    "\n",
    "Let's take a closer look at how the combined reducer is created:\n",
    "\n",
    "```js\n",
    "const reducer = combineReducers({\n",
    "  notes: noteReducer,\n",
    "  filter: filterReducer,\n",
    "})\n",
    "```\n",
    "\n",
    "The state of the store defined by the reducer above is an object with two properties: *notes and filter*. The value of the notes property is defined by the *noteReducer*, which does not have to deal with the other properties of the state. Likewise, the *filter* property is managed by the *filterReducer*.\n",
    "\n",
    "Before we make more changes to the code, let's take a look at how different actions change the state of the store defined by the combined reducer. Let's add the following to the *main.jsx* file:\n",
    "\n",
    "```js\n",
    "import { createNote } from './reducers/noteReducer'\n",
    "import { filterChange } from './reducers/filterReducer'\n",
    "//...\n",
    "store.subscribe(() => console.log(store.getState()))\n",
    "store.dispatch(filterChange('IMPORTANT'))\n",
    "store.dispatch(createNote('combineReducers forms one reducer from many simple reducers'))\n",
    "```\n",
    "\n",
    "By simulating the creation of a note and changing the state of the filter in this fashion, the state of the store gets logged to the console after every change that is made to the store:"
   ]
  },
  {
   "cell_type": "markdown",
   "metadata": {},
   "source": [
    "![](./images/image10.png)"
   ]
  },
  {
   "cell_type": "markdown",
   "metadata": {},
   "source": [
    "At this point, it is good to become aware of a tiny but important detail. If we add a console log statement to the *beginning of both reducers*:\n",
    "\n",
    "```js\n",
    "const filterReducer = (state = 'ALL', action) => {\n",
    "  console.log('ACTION: ', action)\n",
    "  // ...\n",
    "}\n",
    "```\n",
    "\n",
    "Based on the console output one might get the impression that every action gets duplicated:"
   ]
  },
  {
   "cell_type": "markdown",
   "metadata": {},
   "source": [
    "![](./images/image11.png)"
   ]
  },
  {
   "cell_type": "markdown",
   "metadata": {},
   "source": [
    "Is there a bug in our code? No. The combined reducer works in such a way that every action gets handled in every part of the combined reducer, or in other words, every reducer \"listens\" to all of the dispatched actions and does something with them if it has been instructed to do so. Typically only one reducer is interested in any given action, but there are situations where multiple reducers change their respective parts of the state based on the same action."
   ]
  },
  {
   "cell_type": "markdown",
   "metadata": {},
   "source": [
    "> ## Finishing the filters"
   ]
  },
  {
   "cell_type": "markdown",
   "metadata": {},
   "source": [
    "Let's finish the application so that it uses the combined reducer. We start by changing the rendering of the application and hooking up the store to the application in the main.jsx file:\n",
    "\n",
    "```js\n",
    "ReactDOM.createRoot(document.getElementById('root')).render(\n",
    "  <Provider store={store}>\n",
    "    <App />\n",
    "  </Provider>\n",
    ")\n",
    "```\n",
    "\n",
    "Next, let's fix a bug that is caused by the code expecting the application store to be an array of notes:"
   ]
  },
  {
   "cell_type": "markdown",
   "metadata": {},
   "source": [
    "![](./images/image12.png)"
   ]
  },
  {
   "cell_type": "markdown",
   "metadata": {},
   "source": [
    "It's an easy fix. Because the notes are in the store's field *notes*, we only have to make a little change to the selector function:\n",
    "\n",
    "```js\n",
    "const Notes = () => {\n",
    "  const dispatch = useDispatch()\n",
    "  const notes = useSelector(state => state.notes)\n",
    "\n",
    "  return(\n",
    "    <ul>\n",
    "      {notes.map(note =>\n",
    "        <Note\n",
    "          key={note.id}\n",
    "          note={note}\n",
    "          handleClick={() => \n",
    "            dispatch(toggleImportanceOf(note.id))\n",
    "          }\n",
    "        />\n",
    "      )}\n",
    "    </ul>\n",
    "  )\n",
    "}\n",
    "```\n",
    "\n",
    "Previously the selector function returned the whole state of the store:\n",
    "\n",
    "```js\n",
    "const notes = useSelector(state => state)\n",
    "```\n",
    "\n",
    "And now it returns only its field *notes*"
   ]
  },
  {
   "cell_type": "markdown",
   "metadata": {},
   "source": [
    "```js\n",
    "const notes = useSelector(state => state.notes)\n",
    "```\n",
    "\n",
    "Let's extract the visibility filter into its own *src/components/VisibilityFilter.jsx* component:"
   ]
  },
  {
   "cell_type": "markdown",
   "metadata": {},
   "source": [
    "```js\n",
    "import { filterChange } from '../reducers/filterReducer'\n",
    "import { useDispatch } from 'react-redux'\n",
    "\n",
    "const VisibilityFilter = (props) => {\n",
    "  const dispatch = useDispatch()\n",
    "\n",
    "  return (\n",
    "    <div>\n",
    "      all    \n",
    "      <input \n",
    "        type=\"radio\" \n",
    "        name=\"filter\" \n",
    "        onChange={() => dispatch(filterChange('ALL'))}\n",
    "      />\n",
    "      important   \n",
    "      <input\n",
    "        type=\"radio\"\n",
    "        name=\"filter\"\n",
    "        onChange={() => dispatch(filterChange('IMPORTANT'))}\n",
    "      />\n",
    "      nonimportant \n",
    "      <input\n",
    "        type=\"radio\"\n",
    "        name=\"filter\"\n",
    "        onChange={() => dispatch(filterChange('NONIMPORTANT'))}\n",
    "      />\n",
    "    </div>\n",
    "  )\n",
    "}\n",
    "\n",
    "export default VisibilityFilter\n",
    "```"
   ]
  },
  {
   "cell_type": "markdown",
   "metadata": {},
   "source": [
    "With the new component, *App* can be simplified as follows:\n",
    "\n",
    "```js\n",
    "import Notes from './components/Notes'\n",
    "import NewNote from './components/NewNote'\n",
    "import VisibilityFilter from './components/VisibilityFilter'\n",
    "\n",
    "const App = () => {\n",
    "  return (\n",
    "    <div>\n",
    "      <NewNote />\n",
    "      <VisibilityFilter />\n",
    "      <Notes />\n",
    "    </div>\n",
    "  )\n",
    "}\n",
    "\n",
    "export default App\n",
    "```\n",
    "\n",
    "The implementation is rather straightforward. Clicking the different radio buttons changes the state of the store's *filter* property.\n",
    "\n",
    "Let's change the *Notes* component to incorporate the filter:"
   ]
  },
  {
   "cell_type": "markdown",
   "metadata": {},
   "source": [
    "```js\n",
    "const Notes = () => {\n",
    "  const dispatch = useDispatch()\n",
    "\n",
    "  const notes = useSelector(state => {\n",
    "    if ( state.filter === 'ALL' ) {\n",
    "      return state.notes\n",
    "    }\n",
    "    return state.filter  === 'IMPORTANT' \n",
    "      ? state.notes.filter(note => note.important)\n",
    "      : state.notes.filter(note => !note.important)\n",
    "  })\n",
    "\n",
    "  return(\n",
    "    <ul>\n",
    "      {notes.map(note =>\n",
    "        <Note\n",
    "          key={note.id}\n",
    "          note={note}\n",
    "          handleClick={() => \n",
    "            dispatch(toggleImportanceOf(note.id))\n",
    "          }\n",
    "        />\n",
    "      )}\n",
    "    </ul>\n",
    "  )\n",
    "}\n",
    "```"
   ]
  },
  {
   "cell_type": "markdown",
   "metadata": {},
   "source": [
    "We only make changes to the selector function, which used to be\n",
    "\n",
    "```js\n",
    "useSelector(state => state.notes)\n",
    "```\n",
    "\n",
    "Let's simplify the selector by destructuring the fields from the state it receives as a parameter:\n",
    "\n",
    "```js\n",
    "const notes = useSelector(({ filter, notes }) => {\n",
    "  if ( filter === 'ALL' ) {\n",
    "    return notes\n",
    "  }\n",
    "  return filter  === 'IMPORTANT' \n",
    "    ? notes.filter(note => note.important)\n",
    "    : notes.filter(note => !note.important)\n",
    "})\n",
    "```\n",
    "\n",
    "There is a slight cosmetic flaw in our application. Even though the filter is set to *ALL* by default, the associated radio button is not selected. Naturally, this issue can be fixed, but since this is an unpleasant but ultimately harmless bug we will save the fix for later.\n",
    "\n",
    "The current version of the application can be found on [GitHub](https://github.com/fullstack-hy2020/redux-notes/tree/part6-2), branch *part6-2*."
   ]
  },
  {
   "cell_type": "markdown",
   "metadata": {},
   "source": [
    "> ## Exercise 6.9\n",
    ">\n",
    "> ### 6.9 Better Anecdotes, step 7\n",
    ">\n",
    "> Implement filtering for the anecdotes that are displayed to the user.\n",
    ">\n",
    "> ![](./images/image13.png)\n",
    ">\n",
    "> Store the state of the filter in the redux store. It is recommended to create a new reducer, action creators, and a combined reducer for the store using the *combineReducers* function.\n",
    ">\n",
    "> Create a new *Filter* component for displaying the filter. You can use the following code as a template for the component:\n",
    "> \n",
    "> ```js\n",
    "> const Filter = () => {\n",
    "> const handleChange = (event) => {\n",
    ">     // input-field value is in variable event.target.value\n",
    "> }\n",
    "> const style = {\n",
    ">   marginBottom: 10\n",
    "> }\n",
    "> \n",
    "> return (\n",
    ">   <div style={style}>\n",
    ">     filter <input onChange={handleChange} />\n",
    ">   </div>\n",
    "> )}\n",
    ">\n",
    "> export default Filter\n",
    "> ```"
   ]
  },
  {
   "cell_type": "markdown",
   "metadata": {},
   "source": [
    "> ## Redux Toolkit"
   ]
  },
  {
   "cell_type": "markdown",
   "metadata": {},
   "source": [
    "As we have seen so far, Redux's configuration and state management implementation requires quite a lot of effort. This is manifested for example in the reducer and action creator-related code which has somewhat repetitive boilerplate code. [Redux Toolkit]() is a library that solves these common Redux-related problems. The library for example greatly simplifies the configuration of the Redux store and offers a large variety of tools to ease state management.\n",
    "\n",
    "Let's start using Redux Toolkit in our application by refactoring the existing code. First, we will need to install the library:\n",
    "\n",
    "```cmd\n",
    "npm install @reduxjs/toolkit\n",
    "```\n",
    "\n",
    "Next, open the main.jsx file which currently creates the Redux store. Instead of Redux's `createStore` function, let's create the store using Redux Toolkit's [configureStore](https://redux-toolkit.js.org/api/configureStore) function:"
   ]
  },
  {
   "cell_type": "markdown",
   "metadata": {},
   "source": [
    "```js\n",
    "import ReactDOM from 'react-dom/client'\n",
    "import { Provider } from 'react-redux'\n",
    "\n",
    "import { configureStore } from '@reduxjs/toolkit'\n",
    "import App from './App'\n",
    "\n",
    "import noteReducer from './reducers/noteReducer'\n",
    "import filterReducer from './reducers/filterReducer'\n",
    "\n",
    "\n",
    "const store = configureStore({\n",
    "  reducer: {\n",
    "    notes: noteReducer,\n",
    "    filter: filterReducer\n",
    "  }\n",
    "})\n",
    "\n",
    "console.log(store.getState())\n",
    "\n",
    "ReactDOM.createRoot(document.getElementById('root')).render(\n",
    "  <Provider store={store}>\n",
    "    <App />\n",
    "  </Provider>\n",
    ")\n",
    "```"
   ]
  },
  {
   "cell_type": "markdown",
   "metadata": {},
   "source": [
    "We already got rid of a few lines of code, now we don't need the `combineReducers` function to create the store's reducer. We will soon see that the `configureStore` function has many additional benefits such as the effortless integration of development tools and many commonly used libraries without the need for additional configuration.\n",
    "\n",
    "Let's move on to refactoring the reducers, which brings forth the benefits of the Redux Toolkit. With Redux Toolkit, we can easily create reducer and related action creators using the [createSlice](https://redux-toolkit.js.org/api/createSlice) function. We can use the `createSlice` function to refactor the reducer and action creators in the *reducers/noteReducer.js* file in the following manner:"
   ]
  },
  {
   "cell_type": "markdown",
   "metadata": {},
   "source": [
    "```js\n",
    "import { createSlice } from '@reduxjs/toolkit'\n",
    "\n",
    "const initialState = [\n",
    "  {\n",
    "    content: 'reducer defines how redux store works',\n",
    "    important: true,\n",
    "    id: 1,\n",
    "  },\n",
    "  {\n",
    "    content: 'state of store can contain any data',\n",
    "    important: false,\n",
    "    id: 2,\n",
    "  },\n",
    "]\n",
    "\n",
    "const generateId = () =>\n",
    "  Number((Math.random() * 1000000).toFixed(0))\n",
    "\n",
    "\n",
    "const noteSlice = createSlice({\n",
    "  name: 'notes',\n",
    "  initialState,\n",
    "  reducers: {\n",
    "    createNote(state, action) {\n",
    "      const content = action.payload\n",
    "      state.push({\n",
    "        content,\n",
    "        important: false,\n",
    "        id: generateId(),\n",
    "      })\n",
    "    },\n",
    "    toggleImportanceOf(state, action) {\n",
    "      const id = action.payload\n",
    "      const noteToChange = state.find(n => n.id === id)\n",
    "      const changedNote = { \n",
    "        ...noteToChange, \n",
    "        important: !noteToChange.important \n",
    "      }\n",
    "      return state.map(note =>\n",
    "        note.id !== id ? note : changedNote \n",
    "      )     \n",
    "    }\n",
    "  },\n",
    "})\n",
    "```"
   ]
  },
  {
   "cell_type": "markdown",
   "metadata": {},
   "source": [
    "The `createSlice` function's `name` parameter defines the prefix which is used in the action's type values. For example, the `createNote` action defined later will have the type value of `notes/createNote`. It is a good practice to give the parameter a value which is unique among the reducers. This way there won't be unexpected collisions between the application's action type values. The `initialState` parameter defines the reducer's initial state. The `reducers` parameter takes the reducer itself as an object, of which functions handle state changes caused by certain actions. Note that the `action.payload` in the function contains the argument provided by calling the action creator:\n",
    "\n",
    "```js\n",
    "dispatch(createNote('Redux Toolkit is awesome!'))\n",
    "```\n",
    "\n",
    "This dispatch call is equivalent to dispatching the following object:\n",
    "\n",
    "```js\n",
    "dispatch({ type: 'notes/createNote', payload: 'Redux Toolkit is awesome!' })\n",
    "```\n",
    "\n",
    "If you followed closely, you might have noticed that inside the `createNote` action, there seems to happen something that violates the reducers' immutability principle mentioned earlier:"
   ]
  },
  {
   "cell_type": "markdown",
   "metadata": {},
   "source": [
    "```js\n",
    "createNote(state, action) {\n",
    "  const content = action.payload\n",
    "\n",
    "  state.push({\n",
    "    content,\n",
    "    important: false,\n",
    "    id: generateId(),\n",
    "  })\n",
    "}\n",
    "```"
   ]
  },
  {
   "cell_type": "markdown",
   "metadata": {},
   "source": [
    "We are mutating `state` argument's array by calling the `push` method instead of returning a new instance of the array. What's this all about?\n",
    "\n",
    "Redux Toolkit utilizes the [Immer]() library with reducers created by `createSlice` function, which makes it possible to mutate the `state` argument inside the reducer. Immer uses the mutated state to produce a new, immutable state and thus the state changes remain immutable. Note that `state` can be changed without \"mutating\" it, as we have done with the `toggleImportanceOf` action. In this case, the function directly *returns* the new state. Nevertheless mutating the state will often come in handy especially when a complex state needs to be updated.\n",
    "\n",
    "The `createSlice` function returns an object containing the reducer as well as the action creators defined by the `reducers` parameter. The reducer can be accessed by the `noteSlice.reducer` property, whereas the action creators by the `noteSlice.actions` property. We can produce the file's exports in the following way:"
   ]
  },
  {
   "cell_type": "markdown",
   "metadata": {},
   "source": [
    "```js\n",
    "const noteSlice = createSlice(/* ... */)\n",
    "\n",
    "export const { createNote, toggleImportanceOf } = noteSlice.actions\n",
    "export default noteSlice.reducer\n",
    "```\n",
    "\n",
    "The imports in other files will work just as they did before:\n",
    "\n",
    "```js\n",
    "import noteReducer, { createNote, toggleImportanceOf } from './reducers/noteReducer'\n",
    "```\n",
    "\n",
    "We need to alter the action type names in the tests due to the conventions of ReduxToolkit:"
   ]
  },
  {
   "cell_type": "markdown",
   "metadata": {},
   "source": [
    "```js\n",
    "import noteReducer from './noteReducer'\n",
    "import deepFreeze from 'deep-freeze'\n",
    "\n",
    "describe('noteReducer', () => {\n",
    "  test('returns new state with action notes/createNote', () => {\n",
    "    const state = []\n",
    "    const action = {\n",
    "\n",
    "      type: 'notes/createNote',\n",
    "      payload: 'the app state is in redux store',\n",
    "    }\n",
    "\n",
    "    deepFreeze(state)\n",
    "    const newState = noteReducer(state, action)\n",
    "\n",
    "    expect(newState).toHaveLength(1)\n",
    "\n",
    "    expect(newState.map(s => s.content)).toContainEqual(action.payload)\n",
    "  })\n",
    "\n",
    "  test('returns new state with action notes/toggleImportanceOf', () => {\n",
    "    const state = [\n",
    "      {\n",
    "        content: 'the app state is in redux store',\n",
    "        important: true,\n",
    "        id: 1\n",
    "      },\n",
    "      {\n",
    "        content: 'state changes are made with actions',\n",
    "        important: false,\n",
    "        id: 2\n",
    "      }]\n",
    "  \n",
    "    const action = {\n",
    "\n",
    "      type: 'notes/toggleImportanceOf',\n",
    "      payload: 2\n",
    "    }\n",
    "  \n",
    "    deepFreeze(state)\n",
    "    const newState = noteReducer(state, action)\n",
    "  \n",
    "    expect(newState).toHaveLength(2)\n",
    "  \n",
    "    expect(newState).toContainEqual(state[0])\n",
    "  \n",
    "    expect(newState).toContainEqual({\n",
    "      content: 'state changes are made with actions',\n",
    "      important: true,\n",
    "      id: 2\n",
    "    })\n",
    "  })\n",
    "})\n",
    "```"
   ]
  },
  {
   "cell_type": "markdown",
   "metadata": {},
   "source": [
    "> ## Redux Toolkit and console.log"
   ]
  },
  {
   "cell_type": "markdown",
   "metadata": {},
   "source": [
    "As we have learned, console.log is an extremely powerful tool; it often saves us from trouble.\n",
    "\n",
    "Let's try to print the state of the Redux Store to the console in the middle of the reducer created with the function createSlice:\n",
    "\n",
    "```js\n",
    "const noteSlice = createSlice({\n",
    "  name: 'notes',\n",
    "  initialState,\n",
    "  reducers: {\n",
    "    // ...\n",
    "    toggleImportanceOf(state, action) {\n",
    "      const id = action.payload\n",
    "\n",
    "      const noteToChange = state.find(n => n.id === id)\n",
    "\n",
    "      const changedNote = { \n",
    "        ...noteToChange, \n",
    "        important: !noteToChange.important \n",
    "      }\n",
    "\n",
    "      console.log(state)\n",
    "\n",
    "      return state.map(note =>\n",
    "        note.id !== id ? note : changedNote \n",
    "      )     \n",
    "    }\n",
    "  },\n",
    "})\n",
    "```\n",
    "\n",
    "The following is printed to the console"
   ]
  },
  {
   "cell_type": "markdown",
   "metadata": {},
   "source": [
    "![](./images/image14.png)"
   ]
  },
  {
   "cell_type": "markdown",
   "metadata": {},
   "source": [
    "The output is interesting but not very useful. This is about the previously mentioned Immer library used by the Redux Toolkit internally to save the state of the Store.\n",
    "\n",
    "The status can be converted to a human-readable format by using the [current](https://redux-toolkit.js.org/api/other-exports#current) function from the immer library.\n",
    "\n",
    "Let's update the imports to include the \"current\" function from the immer library:\n",
    "\n",
    "```js\n",
    "import { createSlice, current } from '@reduxjs/toolkit'\n",
    "```\n",
    "\n",
    "Then we update the console.log function call:\n",
    "\n",
    "```js\n",
    "console.log(current(state))\n",
    "```\n",
    "\n",
    "Console output is now human readable"
   ]
  },
  {
   "cell_type": "markdown",
   "metadata": {},
   "source": [
    "![](./images/image15.png)"
   ]
  },
  {
   "cell_type": "markdown",
   "metadata": {},
   "source": [
    "> ## Redux DevTools"
   ]
  },
  {
   "cell_type": "markdown",
   "metadata": {},
   "source": [
    "[Redux DevTools](https://chromewebstore.google.com/detail/redux-devtools/lmhkpmbekcpmknklioeibfkpmmfibljd?pli=1) is a Chrome addon that offers useful development tools for Redux. It can be used for example to inspect the Redux store's state and dispatch actions through the browser's console. When the store is created using Redux Toolkit's `configureStore` function, no additional configuration is needed for Redux DevTools to work.\n",
    "\n",
    "Once the addon is installed, clicking the *Redux* tab in the browser's developer tools, the Redux DevTools should open:"
   ]
  },
  {
   "cell_type": "markdown",
   "metadata": {},
   "source": [
    "![](./images/image16.png)"
   ]
  },
  {
   "cell_type": "markdown",
   "metadata": {},
   "source": [
    "You can inspect how dispatching a certain action changes the state by clicking the action:"
   ]
  },
  {
   "cell_type": "markdown",
   "metadata": {},
   "source": [
    "![](./images/image17.png)"
   ]
  },
  {
   "cell_type": "markdown",
   "metadata": {},
   "source": [
    "It is also possible to dispatch actions to the store using the development tools:\n",
    "\n"
   ]
  },
  {
   "cell_type": "markdown",
   "metadata": {},
   "source": [
    "![](./images/image18.png)"
   ]
  },
  {
   "cell_type": "markdown",
   "metadata": {},
   "source": [
    "You can find the code for our current application in its entirety in the *part6-3* branch of [this GitHub repository](https://github.com/fullstack-hy2020/redux-notes/tree/part6-3)."
   ]
  },
  {
   "cell_type": "markdown",
   "metadata": {},
   "source": [
    "> ## Exercises 6.10.-6.13.\n",
    ">\n",
    "> Let's continue working on the anecdote application using Redux that we started in exercise 6.3.\n",
    ">\n",
    "> ### 6.10 Better Anecdotes, step 8\n",
    ">\n",
    "> Install Redux Toolkit for the project. Move the Redux store creation into the file *store.js* and use Redux Toolkit's `configureStore` to create the store.\n",
    ">\n",
    "> Change the definition of the *filter reducer and action creators* to use the Redux Toolkit's `createSlice` function.\n",
    ">\n",
    "> Also, start using Redux DevTools to debug the application's state easier.\n",
    ">\n",
    "> ### 6.11 Better Anecdotes, step 9\n",
    ">\n",
    "> Change also the definition of the anecdote *reducer and action creators to use the Redux Toolkit's `createSlice` function.\n",
    ">\n",
    "> Implementation note: when you use the Redux Toolkit to return the initial state of anecdotes, it will be immutable, so you will need to make a copy of it to sort the anecdotes, or you will encounter the error \"TypeError: Cannot assign to read only property\". You can use the spread syntax to make a copy of the array. Instead of:\n",
    ">\n",
    "> ```js\n",
    "> anecdotes.sort()\n",
    "> ```\n",
    ">\n",
    "> Write:\n",
    ">\n",
    "> ```js\n",
    "> [...anecdotes].sort()\n",
    "> ```"
   ]
  },
  {
   "cell_type": "markdown",
   "metadata": {},
   "source": [
    "> ### 6.12 Better Anecdotes, step 10\n",
    ">\n",
    "> The application has a ready-made body for the Notification component:\n",
    ">\n",
    "> ```js\n",
    ">  const Notification = () => {\n",
    ">  const style = {\n",
    ">    border: 'solid',\n",
    ">    padding: 10,\n",
    ">    borderWidth: 1\n",
    ">  }\n",
    ">  return (\n",
    ">    <div style={style}>\n",
    ">      render here notification...\n",
    ">    </div>\n",
    ">  )}\n",
    ">\n",
    "> export default Notification\n",
    "> ```\n",
    ">\n",
    "> Extend the component so that it renders the message stored in the Redux store, making the component take the following form:\n",
    ">\n",
    "> ```js\n",
    "> import { useSelector } from 'react-redux'\n",
    ">\n",
    "> const Notification = () => {\n",
    ">   const notification = useSelector(/* something here */)\n",
    ">   const style = {\n",
    ">     border: 'solid',\n",
    ">     padding: 10,\n",
    ">     borderWidth: 1\n",
    ">   }\n",
    ">   return (\n",
    ">     <div style={style}>\n",
    ">       {notification}\n",
    ">     </div>\n",
    ">   )}\n",
    "> ```\n",
    "> \n",
    "> You will have to make changes to the application's existing reducer. Create a separate reducer for the new functionality by using the Redux Toolkit's `createSlice` function.\n",
    ">\n",
    "> The application does not have to use the *Notification* component intelligently at this point in the exercises. It is enough for the application to display the initial value set for the message in the *notificationReducer*."
   ]
  },
  {
   "cell_type": "markdown",
   "metadata": {},
   "source": [
    "> ### 6.13 Better Anecdotes, step 11\n",
    ">\n",
    "> Extend the application so that it uses the *Notification* component to display a message for five seconds when the user votes for an anecdote or creates a new anecdote:\n",
    ">\n",
    "> ![](./images/image19.png)\n",
    ">\n",
    "> It's recommended to create separate [action creators](https://redux-toolkit.js.org/api/createSlice#reducers) for setting and removing notifications."
   ]
  }
 ],
 "metadata": {
  "language_info": {
   "name": "python"
  }
 },
 "nbformat": 4,
 "nbformat_minor": 2
}
