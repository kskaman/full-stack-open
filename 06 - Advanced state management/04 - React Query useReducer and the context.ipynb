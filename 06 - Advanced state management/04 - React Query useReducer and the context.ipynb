{
 "cells": [
  {
   "cell_type": "markdown",
   "metadata": {},
   "source": [
    "> # React Query, useReducer and the context"
   ]
  },
  {
   "cell_type": "markdown",
   "metadata": {},
   "source": [
    "At the end of this part, we will look at a few more different ways to manage the state of an application.\n",
    "\n",
    "Let's continue with the note application. We will focus on communication with the server. Let's start the application from scratch. The first version is as follows:"
   ]
  },
  {
   "cell_type": "markdown",
   "metadata": {},
   "source": [
    "```js\n",
    "const App = () => {\n",
    "  const addNote = async (event) => {\n",
    "    event.preventDefault()\n",
    "    const content = event.target.note.value\n",
    "    event.target.note.value = ''\n",
    "    console.log(content)\n",
    "  }\n",
    "\n",
    "  const toggleImportance = (note) => {\n",
    "    console.log('toggle importance of', note.id)\n",
    "  }\n",
    "\n",
    "  const notes = []\n",
    "\n",
    "  return(\n",
    "    <div>\n",
    "      <h2>Notes app</h2>\n",
    "      <form onSubmit={addNote}>\n",
    "        <input name=\"note\" />\n",
    "        <button type=\"submit\">add</button>\n",
    "      </form>\n",
    "      {notes.map(note =>\n",
    "        <li key={note.id} onClick={() => toggleImportance(note)}>\n",
    "          {note.content} \n",
    "          <strong> {note.important ? 'important' : ''}</strong>\n",
    "        </li>\n",
    "      )}\n",
    "    </div>\n",
    "  )\n",
    "}\n",
    "\n",
    "export default App\n",
    "```"
   ]
  },
  {
   "cell_type": "markdown",
   "metadata": {},
   "source": [
    "The initial code is on GitHub in this [repository](https://github.com/fullstack-hy2020/query-notes/tree/part6-0), in the branch *part6-0*.\n",
    "\n",
    "**Note**: By default, cloning the repo will only give you the main branch. To get the initial code from the part6-0 branch, use the following command:\n",
    "\n",
    "```cmd\n",
    "git clone --branch part6-0 https://github.com/fullstack-hy2020/query-notes.git\n",
    "```"
   ]
  },
  {
   "cell_type": "markdown",
   "metadata": {},
   "source": [
    "> ## Managing data on the server with the React Query library"
   ]
  },
  {
   "cell_type": "markdown",
   "metadata": {},
   "source": [
    "We shall now use the [React Query](https://tanstack.com/query/latest) library to store and manage data retrieved from the server. The latest version of the library is also called TanStack Query, but we stick to the familiar name.\n",
    "\n",
    "Install the library with the command\n",
    "\n",
    "```cmd\n",
    "npm install @tanstack/react-query\n",
    "```\n",
    "\n",
    "A few additions to the file *main.jsx* are needed to pass the library functions to the entire application:\n",
    "\n",
    "```js\n",
    "import React from 'react'\n",
    "import ReactDOM from 'react-dom/client'\n",
    "import { QueryClient, QueryClientProvider } from '@tanstack/react-query'\n",
    "\n",
    "import App from './App'\n",
    "\n",
    "const queryClient = new QueryClient()\n",
    "\n",
    "ReactDOM.createRoot(document.getElementById('root')).render(\n",
    "  <QueryClientProvider client={queryClient}>\n",
    "    <App />\n",
    "  </QueryClientProvider>\n",
    ")\n",
    "```"
   ]
  },
  {
   "cell_type": "markdown",
   "metadata": {},
   "source": [
    "We can now retrieve the notes in the *App* component. The code expands as follows:\n",
    "\n",
    "```js\n",
    "import { useQuery } from '@tanstack/react-query'\n",
    "import axios from 'axios'\n",
    "\n",
    "const App = () => {\n",
    "  // ...\n",
    "\n",
    "  const result = useQuery({\n",
    "    queryKey: ['notes'],\n",
    "    queryFn: () => axios.get('http://localhost:3001/notes').then(res => res.data)\n",
    "  })\n",
    "  console.log(JSON.parse(JSON.stringify(result)))\n",
    "\n",
    "  if ( result.isLoading ) {\n",
    "    return <div>loading data...</div>\n",
    "  }\n",
    "\n",
    "  const notes = result.data\n",
    "\n",
    "  return (\n",
    "    // ...\n",
    "  )\n",
    "}\n",
    "```"
   ]
  },
  {
   "cell_type": "markdown",
   "metadata": {},
   "source": [
    "Retrieving data from the server is still done in a familiar way with the Axios *get* method. However, the Axios method call is now wrapped in a [query](https://tanstack.com/query/latest/docs/framework/react/guides/queries) formed with the [useQuery](https://tanstack.com/query/latest/docs/framework/react/reference/useQuery) function. The first parameter of the function call is a string *notes* which acts as a [key](https://tanstack.com/query/latest/docs/framework/react/guides/query-keys) to the query defined, i.e. the list of notes.\n",
    "\n",
    "The return value of the *useQuery* function is an object that indicates the status of the query. The output to the console illustrates the situation:"
   ]
  },
  {
   "cell_type": "markdown",
   "metadata": {},
   "source": [
    "![](./images/image20.png)"
   ]
  },
  {
   "cell_type": "markdown",
   "metadata": {},
   "source": [
    "That is, the first time the component is rendered, the query is still in *loading* state, i.e. the associated HTTP request is pending. At this stage, only the following is rendered:\n",
    "\n",
    "```js\n",
    "<div>loading data...</div>copy\n",
    "```\n",
    "\n",
    "However, the HTTP request is completed so quickly that not even Max Verstappen would be able to see the text. When the request is completed, the component is rendered again. The query is in the state *success* on the second rendering, and the field data of the query object contains the data returned by the request, i.e. the list of notes that is rendered on the screen.\n",
    "\n",
    "So the application retrieves data from the server and renders it on the screen without using the React hooks *useState* and *useEffect* used in chapters 2-5 at all. The data on the server is now entirely under the administration of the React Query library, and the application does not need the state defined with React's *useState* hook at all!\n",
    "\n",
    "Let's move the function making the actual HTTP request to its own file *requests.js*\n",
    "\n",
    "```js\n",
    "import axios from 'axios'\n",
    "\n",
    "export const getNotes = () =>\n",
    "  axios.get('http://localhost:3001/notes').then(res => res.data)\n",
    "```\n"
   ]
  },
  {
   "cell_type": "markdown",
   "metadata": {},
   "source": [
    "The *App* component is now slightly simplified\n",
    "\n",
    "```js\n",
    "import { useQuery } from '@tanstack/react-query' \n",
    "import { getNotes } from './requests'\n",
    "\n",
    "const App = () => {\n",
    "  // ...\n",
    "\n",
    "  const result = useQuery({\n",
    "    queryKey: ['notes'],\n",
    "    queryFn: getNotes\n",
    "  })\n",
    "\n",
    "  // ...\n",
    "}\n",
    "```\n",
    "\n",
    "The current code for the application is in [GitHub](https://github.com/fullstack-hy2020/query-notes/tree/part6-1) in the branch *part6-1*."
   ]
  },
  {
   "cell_type": "markdown",
   "metadata": {},
   "source": [
    "> ## Synchronizing data to the server using React Query"
   ]
  },
  {
   "cell_type": "markdown",
   "metadata": {},
   "source": [
    "Data is already successfully retrieved from the server. Next, we will make sure that the added and modified data is stored on the server. Let's start by adding new notes.\n",
    "\n",
    "Let's make a function *createNote* to the file *requests.js* for saving new notes:\n",
    "\n",
    "```js\n",
    "import axios from 'axios'\n",
    "\n",
    "const baseUrl = 'http://localhost:3001/notes'\n",
    "\n",
    "export const getNotes = () =>\n",
    "  axios.get(baseUrl).then(res => res.data)\n",
    "\n",
    "export const createNote = newNote =>\n",
    "  axios.post(baseUrl, newNote).then(res => res.data)\n",
    "```\n",
    "\n",
    "The App component will change as follows\n",
    "\n",
    "```js\n",
    "import { useQuery, useMutation } from '@tanstack/react-query'\n",
    "import { getNotes, createNote } from './requests'\n",
    "\n",
    "const App = () => {\n",
    " const newNoteMutation = useMutation({ mutationFn: createNote })\n",
    "\n",
    "  const addNote = async (event) => {\n",
    "    event.preventDefault()\n",
    "    const content = event.target.note.value\n",
    "    event.target.note.value = ''\n",
    "    newNoteMutation.mutate({ content, important: true })\n",
    "  }\n",
    "\n",
    "  // \n",
    "\n",
    "}\n",
    "```"
   ]
  },
  {
   "cell_type": "markdown",
   "metadata": {},
   "source": [
    "To create a new note, a [mutation](https://tanstack.com/query/latest/docs/framework/react/guides/mutations) is defined using the function [useMutation](https://tanstack.com/query/latest/docs/framework/react/reference/useMutation):\n",
    "\n",
    "```js\n",
    "const newNoteMutation = useMutation({ mutationFn: createNote })\n",
    "```\n",
    "\n",
    "The parameter is the function we added to the file *requests.js*, which uses Axios to send a new note to the server.\n",
    "\n",
    "The event handler *addNote* performs the mutation by calling the mutation object's function *mutate* and passing the new note as an argument:\n",
    "\n",
    "```js\n",
    "newNoteMutation.mutate({ content, important: true })\n",
    "```\n",
    "\n",
    "Our solution is good. Except it doesn't work. The new note is saved on the server, but it is not updated on the screen.\n",
    "\n",
    "In order to render a new note as well, we need to tell React Query that the old result of the query whose key is the string *notes* should be [invalidated](https://tanstack.com/query/latest/docs/framework/react/guides/invalidations-from-mutations)."
   ]
  },
  {
   "cell_type": "markdown",
   "metadata": {},
   "source": [
    "Fortunately, invalidation is easy, it can be done by defining the appropriate *onSuccess* callback function to the mutation:\n",
    "\n",
    "```js\n",
    "import { useQuery, useMutation, useQueryClient } from '@tanstack/react-query'\n",
    "import { getNotes, createNote } from './requests'\n",
    "\n",
    "const App = () => {\n",
    "  const queryClient = useQueryClient()\n",
    "\n",
    "  const newNoteMutation = useMutation({\n",
    "    mutationFn: createNote, \n",
    "    onSuccess: () => {\n",
    "      queryClient.invalidateQueries({ queryKey: ['notes'] })\n",
    "    },\n",
    "  })\n",
    "\n",
    "  // ...\n",
    "}\n",
    "```\n",
    "\n",
    "Now that the mutation has been successfully executed, a function call is made to\n",
    "\n",
    "```js\n",
    "queryClient.invalidateQueries('notes')\n",
    "```\n",
    "\n",
    "This in turn causes React Query to automatically update a query with the key *notes*, i.e. fetch the notes from the server. As a result, the application renders the up-to-date state on the server, i.e. the added note is also rendered."
   ]
  },
  {
   "cell_type": "markdown",
   "metadata": {},
   "source": [
    "Let us also implement the change in the importance of notes. A function for updating notes is added to the file *requests.js*:\n",
    "\n",
    "```js\n",
    "export const updateNote = updatedNote =>\n",
    "  axios.put(`${baseUrl}/${updatedNote.id}`, updatedNote).then(res => res.data)\n",
    "```\n",
    "\n",
    "Updating the note is also done by mutation. The *App* component expands as follows:\n",
    "\n",
    "```js\n",
    "import { useQuery, useMutation, useQueryClient } from '@tanstack/react-query' \n",
    "import { getNotes, createNote, updateNote } from './requests'\n",
    "\n",
    "const App = () => {\n",
    "  // ...\n",
    "\n",
    "  const updateNoteMutation = useMutation({\n",
    "    mutationFn: updateNote,\n",
    "    onSuccess: () => {\n",
    "      queryClient.invalidateQueries({ queryKey: ['notes'] })\n",
    "    },\n",
    "  })\n",
    "  const toggleImportance = (note) => {\n",
    "    updateNoteMutation.mutate({...note, important: !note.important })\n",
    "  }\n",
    "\n",
    "  // ...\n",
    "}\n",
    "```\n",
    "\n",
    "So again, a mutation was created that invalidated the query notes so that the updated note is rendered correctly. Using mutations is easy, the method *mutate* receives a note as a parameter, the importance of which is been changed to the negation of the old value.\n",
    "\n",
    "The current code for the application is on [GitHub](https://github.com/fullstack-hy2020/query-notes/tree/part6-2) in the branch *part6-2*."
   ]
  },
  {
   "cell_type": "markdown",
   "metadata": {},
   "source": [
    "> ## Optimizing the performance"
   ]
  },
  {
   "cell_type": "markdown",
   "metadata": {},
   "source": []
  }
 ],
 "metadata": {
  "language_info": {
   "name": "python"
  }
 },
 "nbformat": 4,
 "nbformat_minor": 2
}
