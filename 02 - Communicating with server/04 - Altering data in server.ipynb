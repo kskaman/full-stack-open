{
 "cells": [
  {
   "cell_type": "markdown",
   "metadata": {},
   "source": [
    "> ## Altering data in server"
   ]
  },
  {
   "cell_type": "markdown",
   "metadata": {},
   "source": [
    "When creating notes in our application, we would naturally want to store them in some backend server. The [json-server](https://github.com/typicode/json-server) package claims to be a so-called REST or RESTful API in its documentation:\n",
    "\n",
    "> Get a full fake REST API with zero coding in less than 30 seconds (seriously)\n",
    "\n",
    "The json-server does not exactly match the description provided by the textbook [definition](https://en.wikipedia.org/wiki/REST) of a REST API, but neither do most other APIs claiming to be RESTful.\n",
    "\n",
    "We will take a closer look at REST in the [next part](https://fullstackopen.com/en/part3) of the course. But it's important to familiarize ourselves at this point with some of the [conventions](https://en.wikipedia.org/wiki/REST#Applied_to_web_services) used by json-server and REST APIs in general. In particular, we will be taking a look at the conventional use of [routes](https://github.com/typicode/json-server#routes), aka URLs and HTTP request types, in REST."
   ]
  },
  {
   "cell_type": "markdown",
   "metadata": {},
   "source": [
    "> ## REST"
   ]
  },
  {
   "cell_type": "markdown",
   "metadata": {},
   "source": [
    "In REST terminology, we refer to individual data objects, such as the notes in our application, as resources. Every resource has a unique address associated with it - its URL. According to a general convention used by json-server, we would be able to locate an individual note at the resource URL *notes/3*, where 3 is the id of the resource. The notes URL, on the other hand, would point to a resource collection containing all the notes.\n",
    "\n",
    "Resources are fetched from the server with HTTP GET requests. For instance, an HTTP GET request to the URL *notes/3* will return the note that has the id number 3. An HTTP GET request to the *notes* URL would return a list of all notes.\n",
    "\n",
    "Creating a new resource for storing a note is done by making an HTTP POST request to the *notes* URL according to the REST convention that the json-server adheres to. The data for the new note resource is sent in the *body* of the request.\n",
    "\n",
    "json-server requires all data to be sent in JSON format. What this means in practice is that the data must be a correctly formatted string and that the request must contain the *Content-Type* request header with the value *application/json*."
   ]
  },
  {
   "cell_type": "markdown",
   "metadata": {},
   "source": [
    "> ## Sending Data to the Server"
   ]
  },
  {
   "cell_type": "markdown",
   "metadata": {},
   "source": [
    "Let's make the following changes to the event handler responsible for creating a new note:\n",
    "```jsx\n",
    "addNote = event => {\n",
    "  event.preventDefault()\n",
    "  const noteObject = {\n",
    "    content: newNote,\n",
    "    important: Math.random() < 0.5,\n",
    "  }\n",
    "\n",
    "  axios\n",
    "    .post('http://localhost:3001/notes', noteObject)\n",
    "    .then(response => {\n",
    "      console.log(response)\n",
    "    })\n",
    "}\n",
    "```"
   ]
  },
  {
   "cell_type": "markdown",
   "metadata": {},
   "source": [
    "We create a new object for the note but omit the *id* property since it's better to let the server generate ids for our resources.\n",
    "\n",
    "The object is sent to the server using the axios `post` method. The registered event handler logs the response that is sent back from the server to the console.\n",
    "\n",
    "When we try to create a new note, the following output pops up in the console:"
   ]
  },
  {
   "cell_type": "markdown",
   "metadata": {},
   "source": [
    "![](./images/image21.png)"
   ]
  },
  {
   "cell_type": "markdown",
   "metadata": {},
   "source": [
    "The newly created note resource is stored in the value of the data property of the `response` object.\n",
    "\n",
    "Quite often it is useful to inspect HTTP requests in the *Network* tab of Chrome developer tools, which was used heavily at the beginning of [part 0](https://fullstackopen.com/en/part0/fundamentals_of_web_apps#http-get).\n",
    "\n",
    "We can use the inspector to check that the headers sent in the POST request are what we expected them to be:"
   ]
  },
  {
   "cell_type": "markdown",
   "metadata": {},
   "source": [
    "![](./images/image22.png)"
   ]
  },
  {
   "cell_type": "markdown",
   "metadata": {},
   "source": [
    "Since the data we sent in the POST request was a JavaScript object, axios automatically knew to set the appropriate *application/json* value for the *Content-Type* header.\n",
    "\n",
    "The tab *payload* can be used to check the request data:"
   ]
  },
  {
   "cell_type": "markdown",
   "metadata": {},
   "source": [
    "![](./images/image23.png)"
   ]
  },
  {
   "cell_type": "markdown",
   "metadata": {},
   "source": [
    "Also the tab *response* is useful, it shows what was the data the server responded with:"
   ]
  },
  {
   "cell_type": "markdown",
   "metadata": {},
   "source": [
    "![](./images/image24.png)"
   ]
  },
  {
   "cell_type": "markdown",
   "metadata": {},
   "source": [
    "The new note is not rendered to the screen yet. This is because we did not update the state of the *App* component when we created it. Let's fix this:\n",
    "\n",
    "```jsx\n",
    "addNote = event => {\n",
    "  event.preventDefault()\n",
    "  const noteObject = {\n",
    "    content: newNote,\n",
    "    important: Math.random() > 0.5,\n",
    "  }\n",
    "\n",
    "  axios\n",
    "    .post('http://localhost:3001/notes', noteObject)\n",
    "    .then(response => {\n",
    "      setNotes(notes.concat(response.data))\n",
    "      setNewNote('')\n",
    "    })\n",
    "}\n",
    "```"
   ]
  },
  {
   "cell_type": "markdown",
   "metadata": {},
   "source": [
    "The new note returned by the backend server is added to the list of notes in our application's state in the customary way of using the `setNotes` function and then resetting the note creation form. An [important detail](https://fullstackopen.com/en/part1/a_more_complex_state_debugging_react_apps#handling-arrays) to remember is that the `concat` method does not change the component's original state, but instead creates a new copy of the list.\n",
    "\n",
    "Once the data returned by the server starts to have an effect on the behavior of our web applications, we are immediately faced with a whole new set of challenges arising from, for instance, the asynchronicity of communication. This necessitates new debugging strategies, console logging and other means of debugging become increasingly more important. We must also develop a sufficient understanding of the principles of both the JavaScript runtime and React components. Guessing won't be enough.\n",
    "\n",
    "It's beneficial to inspect the state of the backend server, e.g. through the browser:"
   ]
  },
  {
   "cell_type": "markdown",
   "metadata": {},
   "source": [
    "![](./images/image25.png)"
   ]
  },
  {
   "cell_type": "markdown",
   "metadata": {},
   "source": [
    "This makes it possible to verify that all the data we intended to send was actually received by the server.\n",
    "\n",
    "In the next part of the course, we will learn to implement our own logic in the backend. We will then take a closer look at tools like [Postman](https://www.postman.com/downloads/) that helps us to debug our server applications. However, inspecting the state of the json-server through the browser is sufficient for our current needs.\n",
    "\n",
    "The code for the current state of our application can be found in the *part2-5* branch on [GitHub](https://github.com/fullstack-hy2020/part2-notes-frontend/tree/part2-5)."
   ]
  },
  {
   "cell_type": "markdown",
   "metadata": {},
   "source": [
    "> ## Changing the Importance of Notes"
   ]
  },
  {
   "cell_type": "markdown",
   "metadata": {},
   "source": [
    "Let's add a button to every note that can be used for toggling its importance.\n",
    "\n",
    "We make the following changes to the *Note* component:\n",
    "\n",
    "```jsx\n",
    "const Note = ({ note, toggleImportance }) => {\n",
    "  const label = note.important\n",
    "    ? 'make not important' : 'make important'\n",
    "\n",
    "  return (\n",
    "    <li>\n",
    "      {note.content} \n",
    "      <button onClick={toggleImportance}>{label}</button>\n",
    "    </li>\n",
    "  )\n",
    "}\n",
    "```"
   ]
  },
  {
   "cell_type": "markdown",
   "metadata": {},
   "source": [
    "We add a button to the component and assign its event handler as the `toggleImportance` function passed in the component's props.\n",
    "\n",
    "The *App* component defines an initial version of the `toggleImportanceOf` event handler function and passes it to every *Note* component:"
   ]
  },
  {
   "cell_type": "markdown",
   "metadata": {},
   "source": [
    "```jsx\n",
    "const App = () => {\n",
    "  const [notes, setNotes] = useState([]) \n",
    "  const [newNote, setNewNote] = useState('')\n",
    "  const [showAll, setShowAll] = useState(true)\n",
    "\n",
    "  // ...\n",
    "\n",
    "\n",
    "  const toggleImportanceOf = (id) => {\n",
    "    console.log('importance of ' + id + ' needs to be toggled')\n",
    "  }\n",
    "\n",
    "  // ...\n",
    "\n",
    "  return (\n",
    "    <div>\n",
    "      <h1>Notes</h1>\n",
    "      <div>\n",
    "        <button onClick={() => setShowAll(!showAll)}>\n",
    "          show {showAll ? 'important' : 'all' }\n",
    "        </button>\n",
    "      </div>      \n",
    "      <ul>\n",
    "        {notesToShow.map(note => \n",
    "          <Note\n",
    "            key={note.id}\n",
    "            note={note} \n",
    "\n",
    "            toggleImportance={() => toggleImportanceOf(note.id)}\n",
    "          />\n",
    "        )}\n",
    "      </ul>\n",
    "      // ...\n",
    "    </div>\n",
    "  )\n",
    "}\n",
    "```"
   ]
  },
  {
   "cell_type": "markdown",
   "metadata": {},
   "source": [
    "Notice how every note receives its own *unique* event handler function since the *id* of every note is unique.\n",
    "\n",
    "E.g., if *note.id* is 3, the event handler function returned by `toggleImportance(note.id)` will be:\n",
    "\n",
    "```jsx\n",
    "() => { console.log('importance of 3 needs to be toggled') }\n",
    "```\n",
    "\n",
    "A short reminder here. The string printed by the event handler is defined in a Java-like manner by adding the strings:\n",
    "\n",
    "```jsx\n",
    "console.log('importance of ' + id + ' needs to be toggled')\n",
    "```"
   ]
  },
  {
   "cell_type": "markdown",
   "metadata": {},
   "source": [
    "The [template string](https://developer.mozilla.org/en-US/docs/Web/JavaScript/Reference/Template_literals) syntax added in ES6 can be used to write similar strings in a much nicer way:\n",
    "\n",
    "```jsx\n",
    "console.log(`importance of ${id} needs to be toggled`)\n",
    "```\n",
    "\n",
    "We can now use the \"dollar-bracket\"-syntax to add parts to the string that will evaluate JavaScript expressions, e.g. the value of a variable. Note that we use backticks in template strings instead of quotation marks used in regular JavaScript strings.\n",
    "\n",
    "Individual notes stored in the json-server backend can be modified in two different ways by making HTTP requests to the note's unique URL. We can either replace the entire note with an HTTP PUT request or only change some of the note's properties with an HTTP PATCH request."
   ]
  },
  {
   "cell_type": "markdown",
   "metadata": {},
   "source": [
    "The final form of the event handler function is the following:\n",
    "\n",
    "```jsx\n",
    "const toggleImportanceOf = id => {\n",
    "  const url = `http://localhost:3001/notes/${id}`\n",
    "  const note = notes.find(n => n.id === id)\n",
    "  const changedNote = { ...note, important: !note.important }\n",
    "\n",
    "  axios.put(url, changedNote).then(response => {\n",
    "    setNotes(notes.map(n => n.id !== id ? n : response.data))\n",
    "  })\n",
    "}\n",
    "```\n",
    "\n",
    "Almost every line of code in the function body contains important details. The first line defines the unique URL for each note resource based on its id.\n",
    "\n",
    "The array [find method](https://developer.mozilla.org/en-US/docs/Web/JavaScript/Reference/Global_Objects/Array/find) is used to find the note we want to modify, and we then assign it to the `note` variable."
   ]
  },
  {
   "cell_type": "markdown",
   "metadata": {},
   "source": [
    "After this, we create a *new object* that is an exact copy of the old note, apart from the important property that has the value flipped (from true to false or from false to true).\n",
    "\n",
    "The code for creating the new object that uses the [object spread]() syntax may seem a bit strange at first:\n",
    "\n",
    "```jsx\n",
    "const changedNote = { ...note, important: !note.important }\n",
    "```\n",
    "\n",
    "In practice, `{ ...note }` creates a new object with copies of all the properties from the `note` object. When we add properties inside the curly braces after the spread object, e.g. `{ ...note, important: true }`, then the value of the `important` property of the new object will be true. In our example, the important property gets the negation of its previous value in the original object."
   ]
  },
  {
   "cell_type": "markdown",
   "metadata": {},
   "source": [
    "There are a few things to point out. Why did we make a copy of the note object we wanted to modify when the following code also appears to work?\n",
    "\n",
    "```jsx\n",
    "const note = notes.find(n => n.id === id)\n",
    "note.important = !note.important\n",
    "\n",
    "axios.put(url, note).then(response => {\n",
    "  // ...\n",
    "```\n",
    "\n",
    "This is not recommended because the variable `note` is a reference to an item in the `notes` array in the component's state, and as we recall we must [never mutate state directly](https://react.dev/learn/updating-objects-in-state#why-is-mutating-state-not-recommended-in-react) in React.\n",
    "\n",
    "It's also worth noting that the new object `changedNote` is only a so-called [shallow copy](https://en.wikipedia.org/wiki/Object_copying#Shallow_copy), meaning that the values of the new object are the same as the values of the old object. If the values of the old object were objects themselves, then the copied values in the new object would reference the same objects that were in the old object."
   ]
  },
  {
   "cell_type": "markdown",
   "metadata": {},
   "source": [
    "The new note is then sent with a PUT request to the backend where it will replace the old object.\n",
    "\n",
    "The callback function sets the component's `notes` state to a new array that contains all the items from the previous `notes` array, except for the old note which is replaced by the updated version of it returned by the server:\n",
    "\n",
    "```jsx\n",
    "axios.put(url, changedNote).then(response => {\n",
    "  setNotes(notes.map(note => note.id !== id ? note : response.data))\n",
    "})\n",
    "```\n",
    "\n",
    "This is accomplished with the `map` method:\n",
    "\n",
    "```jsx\n",
    "notes.map(note => note.id !== id ? note : response.data)\n",
    "```"
   ]
  },
  {
   "cell_type": "markdown",
   "metadata": {},
   "source": [
    "The map method creates a new array by mapping every item from the old array into an item in the new array. In our example, the new array is created conditionally so that if `note.id !== id` is true; we simply copy the item from the old array into the new array. If the condition is false, then the note object returned by the server is added to the array instead.\n",
    "\n",
    "This `map` trick may seem a bit strange at first, but it's worth spending some time wrapping your head around it. We will be using this method many times throughout the course."
   ]
  },
  {
   "cell_type": "markdown",
   "metadata": {},
   "source": [
    "> ## Extracting communication with the Backend into a Separate Module"
   ]
  },
  {
   "cell_type": "markdown",
   "metadata": {},
   "source": [
    "The *App* component has become somewhat bloated after adding the code for communicating with the backend server. In the spirit of the [single responsibility principle](https://en.wikipedia.org/wiki/Single-responsibility_principle), we deem it wise to extract this communication into its own [module](https://fullstackopen.com/en/part2/rendering_a_collection_modules#refactoring-modules).\n",
    "\n",
    "Let's create a *src/services* directory and add a file there called *notes.js*:"
   ]
  },
  {
   "cell_type": "markdown",
   "metadata": {},
   "source": [
    "```jsx\n",
    "import axios from 'axios'\n",
    "const baseUrl = 'http://localhost:3001/notes'\n",
    "\n",
    "const getAll = () => {\n",
    "  return axios.get(baseUrl)\n",
    "}\n",
    "\n",
    "const create = newObject => {\n",
    "  return axios.post(baseUrl, newObject)\n",
    "}\n",
    "\n",
    "const update = (id, newObject) => {\n",
    "  return axios.put(`${baseUrl}/${id}`, newObject)\n",
    "}\n",
    "\n",
    "export default { \n",
    "  getAll: getAll, \n",
    "  create: create, \n",
    "  update: update \n",
    "}\n",
    "```"
   ]
  },
  {
   "cell_type": "markdown",
   "metadata": {},
   "source": [
    "The module returns an object that has three functions (*getAll, create*, and *update*) as its properties that deal with notes. The functions directly return the promises returned by the axios methods.\n",
    "\n",
    "The *App* component uses `import` to get access to the module:\n",
    "\n",
    "```jsx\n",
    "import noteService from './services/notes'\n",
    "\n",
    "const App = () => {\n",
    "```\n",
    "\n",
    "The functions of the module can be used directly with the imported variable `noteService` as follows:"
   ]
  },
  {
   "cell_type": "markdown",
   "metadata": {},
   "source": [
    "```jsx\n",
    "const App = () => {\n",
    "  // ...\n",
    "\n",
    "  useEffect(() => {\n",
    "\n",
    "    noteService\n",
    "      .getAll()\n",
    "      .then(response => {\n",
    "        setNotes(response.data)\n",
    "      })\n",
    "  }, [])\n",
    "\n",
    "  const toggleImportanceOf = id => {\n",
    "    const note = notes.find(n => n.id === id)\n",
    "    const changedNote = { ...note, important: !note.important }\n",
    "\n",
    "\n",
    "    noteService\n",
    "      .update(id, changedNote)\n",
    "      .then(response => {\n",
    "        setNotes(notes.map(note => note.id !== id ? note : response.data))\n",
    "      })\n",
    "  }\n",
    "\n",
    "  const addNote = (event) => {\n",
    "    event.preventDefault()\n",
    "    const noteObject = {\n",
    "      content: newNote,\n",
    "      important: Math.random() > 0.5\n",
    "    }\n",
    "\n",
    "\n",
    "    noteService\n",
    "      .create(noteObject)\n",
    "      .then(response => {\n",
    "        setNotes(notes.concat(response.data))\n",
    "        setNewNote('')\n",
    "      })\n",
    "  }\n",
    "\n",
    "  // ...\n",
    "}\n",
    "\n",
    "export default App\n",
    "```"
   ]
  },
  {
   "cell_type": "markdown",
   "metadata": {},
   "source": [
    "We could take our implementation a step further. When the *App* component uses the functions, it receives an object that contains the entire response for the HTTP request:\n",
    "\n",
    "```jsx\n",
    "noteService\n",
    "  .getAll()\n",
    "  .then(response => {\n",
    "    setNotes(response.data)\n",
    "  })\n",
    "```\n",
    "\n",
    "The *App* component only uses the *response.data* property of the response object."
   ]
  },
  {
   "cell_type": "markdown",
   "metadata": {},
   "source": [
    "The module would be much nicer to use if, instead of the entire HTTP response, we would only get the response data. Using the module would then look like this:\n",
    "\n",
    "```jsx\n",
    "noteService\n",
    "  .getAll()\n",
    "  .then(initialNotes => {\n",
    "    setNotes(initialNotes)\n",
    "  })\n",
    "```\n",
    "\n",
    "We can achieve this by changing the code in the module as follows (the current code contains some copy-paste, but we will tolerate that for now):"
   ]
  },
  {
   "cell_type": "markdown",
   "metadata": {},
   "source": [
    "```jsx\n",
    "import axios from 'axios'\n",
    "const baseUrl = 'http://localhost:3001/notes'\n",
    "\n",
    "const getAll = () => {\n",
    "  const request = axios.get(baseUrl)\n",
    "  return request.then(response => response.data)\n",
    "}\n",
    "\n",
    "const create = newObject => {\n",
    "  const request = axios.post(baseUrl, newObject)\n",
    "  return request.then(response => response.data)\n",
    "}\n",
    "\n",
    "const update = (id, newObject) => {\n",
    "  const request = axios.put(`${baseUrl}/${id}`, newObject)\n",
    "  return request.then(response => response.data)\n",
    "}\n",
    "\n",
    "export default { \n",
    "  getAll: getAll, \n",
    "  create: create, \n",
    "  update: update \n",
    "}\n",
    "```"
   ]
  },
  {
   "cell_type": "markdown",
   "metadata": {},
   "source": [
    "We no longer return the promise returned by axios directly. Instead, we assign the promise to the `request` variable and call its `then` method:\n",
    "\n",
    "```jsx\n",
    "const getAll = () => {\n",
    "  const request = axios.get(baseUrl)\n",
    "  return request.then(response => response.data)\n",
    "}\n",
    "```\n",
    "\n",
    "The last row in our function is simply a more compact expression of the same code as shown below:\n",
    "\n",
    "```jsx\n",
    "const getAll = () => {\n",
    "  const request = axios.get(baseUrl)\n",
    "  return request.then(response => {\n",
    "    return response.data\n",
    "  })\n",
    "}\n",
    "```"
   ]
  },
  {
   "cell_type": "markdown",
   "metadata": {},
   "source": [
    "The modified `getAll` function still returns a promise, as the `then` method of a promise also [returns a promise]().\n",
    "\n",
    "After defining the parameter of the `then` method to directly return *response.data*, we have gotten the `getAll` function to work like we wanted it to. When the HTTP request is successful, the promise returns the data sent back in the response from the backend.\n",
    "\n",
    "We have to update the *App* component to work with the changes made to our module. We have to fix the callback functions given as parameters to the `noteService` object's methods so that they use the directly returned response data:"
   ]
  },
  {
   "cell_type": "markdown",
   "metadata": {},
   "source": [
    "```jsx\n",
    "const App = () => {\n",
    "  // ...\n",
    "\n",
    "  useEffect(() => {\n",
    "    noteService\n",
    "      .getAll()\n",
    "\n",
    "      .then(initialNotes => {\n",
    "        setNotes(initialNotes)\n",
    "      })\n",
    "  }, [])\n",
    "\n",
    "  const toggleImportanceOf = id => {\n",
    "    const note = notes.find(n => n.id === id)\n",
    "    const changedNote = { ...note, important: !note.important }\n",
    "\n",
    "    noteService\n",
    "      .update(id, changedNote)\n",
    "\n",
    "      .then(returnedNote => {\n",
    "        setNotes(notes.map(note => note.id !== id ? note : returnedNote))\n",
    "      })\n",
    "  }\n",
    "\n",
    "  const addNote = (event) => {\n",
    "    event.preventDefault()\n",
    "    const noteObject = {\n",
    "      content: newNote,\n",
    "      important: Math.random() > 0.5\n",
    "    }\n",
    "\n",
    "    noteService\n",
    "      .create(noteObject)\n",
    "\n",
    "      .then(returnedNote => {\n",
    "        setNotes(notes.concat(returnedNote))\n",
    "        setNewNote('')\n",
    "      })\n",
    "  }\n",
    "\n",
    "  // ...\n",
    "}\n",
    "```"
   ]
  },
  {
   "cell_type": "markdown",
   "metadata": {},
   "source": [
    "This is all quite complicated and attempting to explain it may just make it harder to understand. The internet is full of material discussing the topic, such as [this](https://javascript.info/promise-chaining) one.\n",
    "\n",
    "The \"Async and performance\" book from the [You do not know JS](https://github.com/getify/You-Dont-Know-JS/tree/1st-ed) book series [explains the topic](https://github.com/getify/You-Dont-Know-JS/blob/1st-ed/async%20%26%20performance/ch3.md) well, but the explanation is many pages long.\n",
    "\n",
    "Promises are central to modern JavaScript development and it is highly recommended to invest a reasonable amount of time into understanding them."
   ]
  },
  {
   "cell_type": "markdown",
   "metadata": {},
   "source": [
    "> ## Cleaner Syntax for Defining Object Literals"
   ]
  },
  {
   "cell_type": "markdown",
   "metadata": {},
   "source": [
    "The module defining note-related services currently exports an object with the properties *getAll, create*, and *update* that are assigned to functions for handling notes.\n",
    "\n",
    "The module definition was:"
   ]
  },
  {
   "cell_type": "markdown",
   "metadata": {},
   "source": [
    "```jsx\n",
    "import axios from 'axios'\n",
    "const baseUrl = 'http://localhost:3001/notes'\n",
    "\n",
    "const getAll = () => {\n",
    "  const request = axios.get(baseUrl)\n",
    "  return request.then(response => response.data)\n",
    "}\n",
    "\n",
    "const create = newObject => {\n",
    "  const request = axios.post(baseUrl, newObject)\n",
    "  return request.then(response => response.data)\n",
    "}\n",
    "\n",
    "const update = (id, newObject) => {\n",
    "  const request = axios.put(`${baseUrl}/${id}`, newObject)\n",
    "  return request.then(response => response.data)\n",
    "}\n",
    "\n",
    "export default { \n",
    "  getAll: getAll, \n",
    "  create: create, \n",
    "  update: update \n",
    "}\n",
    "```"
   ]
  },
  {
   "cell_type": "markdown",
   "metadata": {},
   "source": [
    "The module exports the following, rather peculiar looking, object:\n",
    "\n",
    "```jsx\n",
    "{ \n",
    "  getAll: getAll, \n",
    "  create: create, \n",
    "  update: update \n",
    "}\n",
    "```\n",
    "\n",
    "The labels to the left of the colon in the object definition are the keys of the object, whereas the ones to the right of it are *variables* that are defined inside the module.\n",
    "\n",
    "Since the names of the keys and the assigned variables are the same, we can write the object definition with a more compact syntax:\n",
    "\n",
    "```jsx\n",
    "{ \n",
    "  getAll, \n",
    "  create, \n",
    "  update \n",
    "}\n",
    "```"
   ]
  },
  {
   "cell_type": "markdown",
   "metadata": {},
   "source": [
    "As a result, the module definition gets simplified into the following form:\n",
    "\n",
    "```jsx\n",
    "import axios from 'axios'\n",
    "const baseUrl = 'http://localhost:3001/notes'\n",
    "\n",
    "const getAll = () => {\n",
    "  const request = axios.get(baseUrl)\n",
    "  return request.then(response => response.data)\n",
    "}\n",
    "\n",
    "const create = newObject => {\n",
    "  const request = axios.post(baseUrl, newObject)\n",
    "  return request.then(response => response.data)\n",
    "}\n",
    "\n",
    "const update = (id, newObject) => {\n",
    "  const request = axios.put(`${baseUrl}/${id}`, newObject)\n",
    "  return request.then(response => response.data)\n",
    "}\n",
    "\n",
    "export default { getAll, create, update }\n",
    "```"
   ]
  },
  {
   "cell_type": "markdown",
   "metadata": {},
   "source": [
    "In defining the object using this shorter notation, we make use of a [new feature](https://developer.mozilla.org/en-US/docs/Web/JavaScript/Reference/Operators/Object_initializer#property_definitions) that was introduced to JavaScript through ES6, enabling a slightly more compact way of defining objects using variables.\n",
    "\n",
    "To demonstrate this feature, let's consider a situation where we have the following values assigned to variables:\n",
    "\n",
    "```jsx\n",
    "const name = 'Leevi'\n",
    "const age = 0\n",
    "```\n",
    "\n",
    "In older versions of JavaScript we had to define an object like this:\n",
    "\n",
    "```jsx\n",
    "const person = {\n",
    "  name: name,\n",
    "  age: age\n",
    "}\n",
    "```"
   ]
  },
  {
   "cell_type": "markdown",
   "metadata": {},
   "source": [
    "However, since both the property fields and the variable names in the object are the same, it's enough to simply write the following in ES6 JavaScript:\n",
    "\n",
    "```jsx\n",
    "const person = { name, age }\n",
    "```\n",
    "\n",
    "The result is identical for both expressions. They both create an object with a *name* property with the value *Leevi* and an *age* property with the value *0*."
   ]
  },
  {
   "cell_type": "markdown",
   "metadata": {},
   "source": [
    "> ## Promises and Errors"
   ]
  },
  {
   "cell_type": "markdown",
   "metadata": {},
   "source": [
    "If our application allowed users to delete notes, we could end up in a situation where a user tries to change the importance of a note that has already been deleted from the system.\n",
    "\n",
    "Let's simulate this situation by making the `getAll` function of the note service return a \"hardcoded\" note that does not actually exist on the backend server:\n",
    "\n",
    "```jsx\n",
    "const getAll = () => {\n",
    "  const request = axios.get(baseUrl)\n",
    "  const nonExisting = {\n",
    "    id: 10000,\n",
    "    content: 'This note is not saved to server',\n",
    "    important: true,\n",
    "  }\n",
    "  return request.then(response => response.data.concat(nonExisting))\n",
    "}\n",
    "```"
   ]
  },
  {
   "cell_type": "markdown",
   "metadata": {},
   "source": [
    "When we try to change the importance of the hardcoded note, we see the following error message in the console. The error says that the backend server responded to our HTTP PUT request with a status code 404 *not found*."
   ]
  },
  {
   "cell_type": "markdown",
   "metadata": {},
   "source": [
    "![](./images/image26.png)"
   ]
  },
  {
   "cell_type": "markdown",
   "metadata": {},
   "source": [
    "The application should be able to handle these types of error situations gracefully. Users won't be able to tell that an error has occurred unless they happen to have their console open. The only way the error can be seen in the application is that clicking the button does not affect the note's importance.\n",
    "\n",
    "We had [previously](https://fullstackopen.com/en/part2/getting_data_from_server#axios-and-promises) mentioned that a promise can be in one of three different states. When an HTTP request fails, the associated promise is *rejected*. Our current code does not handle this rejection in any way.\n",
    "\n",
    "The rejection of a promise is [handled](https://developer.mozilla.org/en-US/docs/Web/JavaScript/Guide/Using_promises) by providing the `then` method with a second callback function, which is called in the situation where the promise is rejected.\n",
    "\n",
    "The more common way of adding a handler for rejected promises is to use the [catch](https://developer.mozilla.org/en-US/docs/Web/JavaScript/Reference/Global_Objects/Promise/catch) method."
   ]
  },
  {
   "cell_type": "markdown",
   "metadata": {},
   "source": [
    "In practice, the error handler for rejected promises is defined like this:\n",
    "\n",
    "```jsx\n",
    "axios\n",
    "  .get('http://example.com/probably_will_fail')\n",
    "  .then(response => {\n",
    "    console.log('success!')\n",
    "  })\n",
    "  .catch(error => {\n",
    "    console.log('fail')\n",
    "  })\n",
    "```\n",
    "\n",
    "If the request fails, the event handler registered with the `catch` method gets called.\n",
    "\n",
    "The `catch` method is often utilized by placing it deeper within the promise chain."
   ]
  },
  {
   "cell_type": "markdown",
   "metadata": {},
   "source": [
    "When our application makes an HTTP request, we are in fact creating a [promise chain](https://javascript.info/promise-chaining):\n",
    "\n",
    "```jsx\n",
    "axios\n",
    "  .put(`${baseUrl}/${id}`, newObject)\n",
    "  .then(response => response.data)\n",
    "  .then(changedNote => {\n",
    "    // ...\n",
    "  })\n",
    "```\n",
    "\n",
    "The `catch` method can be used to define a handler function at the end of a promise chain, which is called once any promise in the chain throws an error and the promise becomes *rejected*."
   ]
  },
  {
   "cell_type": "markdown",
   "metadata": {},
   "source": [
    "```jsx\n",
    "axios\n",
    "  .put(`${baseUrl}/${id}`, newObject)\n",
    "  .then(response => response.data)\n",
    "  .then(changedNote => {\n",
    "    // ...\n",
    "  })\n",
    "  .catch(error => {\n",
    "    console.log('fail')\n",
    "  })\n",
    " ```"
   ]
  },
  {
   "cell_type": "markdown",
   "metadata": {},
   "source": [
    "Let's use this feature and register an error handler in the *App* component:\n",
    "\n",
    "```jsx\n",
    "const toggleImportanceOf = id => {\n",
    "  const note = notes.find(n => n.id === id)\n",
    "  const changedNote = { ...note, important: !note.important }\n",
    "\n",
    "  noteService\n",
    "    .update(id, changedNote).then(returnedNote => {\n",
    "      setNotes(notes.map(note => note.id !== id ? note : returnedNote))\n",
    "    })\n",
    "    .catch(error => {\n",
    "      alert(\n",
    "        `the note '${note.content}' was already deleted from server`\n",
    "      )\n",
    "      setNotes(notes.filter(n => n.id !== id))\n",
    "    })\n",
    "}\n",
    "```"
   ]
  },
  {
   "cell_type": "markdown",
   "metadata": {},
   "source": [
    "The error message is displayed to the user with the trusty old [alert](https://developer.mozilla.org/en-US/docs/Web/API/Window/alert) dialog popup, and the deleted note gets filtered out from the state.\n",
    "\n",
    "Removing an already deleted note from the application's state is done with the array [filter](https://developer.mozilla.org/en-US/docs/Web/JavaScript/Reference/Global_Objects/Array/filter) method, which returns a new array comprising only the items from the list for which the function that was passed as a parameter returns true for:\n",
    "\n",
    "```jsx\n",
    "notes.filter(n => n.id !== id)\n",
    "```\n",
    "\n",
    "It's probably not a good idea to use alert in more serious React applications. We will soon learn a more advanced way of displaying messages and notifications to users. There are situations, however, where a simple, battle-tested method like `alert` can function as a starting point. A more advanced method could always be added in later, given that there's time and energy for it.\n",
    "\n",
    "The code for the current state of our application can be found in the *part2-6* branch on [GitHub]()."
   ]
  },
  {
   "cell_type": "markdown",
   "metadata": {},
   "source": [
    "> ## Full stack developer's oath"
   ]
  },
  {
   "cell_type": "markdown",
   "metadata": {},
   "source": [
    "It is again time for the exercises. The complexity of our app is now increasing since besides just taking care of the React components in the frontend, we also have a backend that is persisting the application data.\n",
    "\n",
    "To cope with the increasing complexity we should extend the web developer's oath to a *Full stack developer's oath*, which reminds us to make sure that the communication between frontend and backend happens as expected.\n",
    "\n",
    "So here is the updated oath:\n",
    "\n",
    "Full stack development is *extremely hard*, that is why I will use all the possible means to make it easier"
   ]
  },
  {
   "cell_type": "markdown",
   "metadata": {},
   "source": [
    "- I will have my browser developer console open all the time\n",
    "- I will use the network tab of the browser dev tools to ensure that frontend and backend are communicating as I expect\n",
    "- I will constantly keep an eye on the state of the server to make sure that the data sent there by the frontend is saved there as I expect\n",
    "- I will progress with small steps\n",
    "- I will write lots of console.log statements to make sure I understand how the code behaves and to help pinpoint problems\n",
    "- If my code does not work, I will not write more code. Instead, I start deleting the code until it works or just return to a state when everything was still working\n",
    "- When I ask for help in the course Discord or Telegram channel or elsewhere I formulate my questions properly, see here how to ask for help"
   ]
  },
  {
   "cell_type": "markdown",
   "metadata": {},
   "source": [
    "> ## Exercises 2.12. - 2.15."
   ]
  },
  {
   "cell_type": "markdown",
   "metadata": {},
   "source": [
    "> ## 2.12: The Phonebook step 7\n",
    "Let's return to our phonebook application.\n",
    "\n",
    "Currently, the numbers that are added to the phonebook are not saved to a backend server. Fix this situation."
   ]
  },
  {
   "cell_type": "markdown",
   "metadata": {},
   "source": [
    "> ## 2.13: The Phonebook step 8\n",
    "Extract the code that handles the communication with the backend into its own module by following the example shown earlier in this part of the course material."
   ]
  },
  {
   "cell_type": "markdown",
   "metadata": {},
   "source": [
    "> ## 2.14: The Phonebook step 9\n",
    "Make it possible for users to delete entries from the phonebook. The deletion can be done through a dedicated button for each person in the phonebook list. You can confirm the action from the user by using the [window.confirm](https://developer.mozilla.org/en-US/docs/Web/API/Window/confirm) method:"
   ]
  },
  {
   "cell_type": "markdown",
   "metadata": {},
   "source": [
    "The associated resource for a person in the backend can be deleted by making an HTTP DELETE request to the resource's URL. If we are deleting e.g. a person who has the id 2, we would have to make an HTTP DELETE request to the *URL localhost:3001/persons/2*. No data is sent with the request.\n",
    "\n",
    "You can make an HTTP DELETE request with the [axios](https://github.com/axios/axios) library in the same way that we make all of the other requests.\n",
    "\n",
    "**NB**: You can't use the name `delete` for a variable because it's a reserved word in JavaScript. E.g. the following is not possible:\n",
    "\n",
    "```jsx\n",
    "// use some other name for variable!\n",
    "const delete = (id) => {\n",
    "  // ...\n",
    "}\n",
    "```"
   ]
  },
  {
   "cell_type": "markdown",
   "metadata": {},
   "source": [
    "> ## 2.15*: The Phonebook step 10\n",
    "*Why is there a star in the exercise? See [here](https://fullstackopen.com/en/part0/general_info#taking-the-course) for the explanation.*\n",
    "\n",
    "Change the functionality so that if a number is added to an already existing user, the new number will replace the old number. It's recommended to use the HTTP PUT method for updating the phone number.\n",
    "\n",
    "If the person's information is already in the phonebook, the application can ask the user to confirm the action:\n",
    "\n",
    "![2.18 screenshot alert confirmation](./images/image28.png)"
   ]
  },
  {
   "cell_type": "markdown",
   "metadata": {},
   "source": []
  }
 ],
 "metadata": {
  "language_info": {
   "name": "python"
  }
 },
 "nbformat": 4,
 "nbformat_minor": 2
}
