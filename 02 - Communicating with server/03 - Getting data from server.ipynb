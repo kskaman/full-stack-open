{
 "cells": [
  {
   "cell_type": "markdown",
   "metadata": {},
   "source": [
    "> ## Getting data from server"
   ]
  },
  {
   "cell_type": "markdown",
   "metadata": {},
   "source": [
    "For a while now we have only been working on \"frontend\", i.e. client-side (browser) functionality. We will begin working on \"backend\", i.e. server-side functionality in the [third part](https://fullstackopen.com/en/part3) of this course. Nonetheless, we will now take a step in that direction by familiarizing ourselves with how the code executing in the browser communicates with the backend.\n",
    "\n",
    "Let's use a tool meant to be used during software development called [JSON Server](https://github.com/typicode/json-server) to act as our server."
   ]
  },
  {
   "cell_type": "markdown",
   "metadata": {},
   "source": [
    "Create a file named db.json in the root directory of the previous *notes* project with the following content:\n",
    "\n",
    "```json\n",
    "{\n",
    "  \"notes\": [\n",
    "    {\n",
    "      \"id\": \"1\",\n",
    "      \"content\": \"HTML is easy\",\n",
    "      \"important\": true\n",
    "    },\n",
    "    {\n",
    "      \"id\": \"2\",\n",
    "      \"content\": \"Browser can execute only JavaScript\",\n",
    "      \"important\": false\n",
    "    },\n",
    "    {\n",
    "      \"id\": \"3\",\n",
    "      \"content\": \"GET and POST are the most important methods of HTTP protocol\",\n",
    "      \"important\": true\n",
    "    }\n",
    "  ]\n",
    "}\n",
    "```"
   ]
  },
  {
   "cell_type": "markdown",
   "metadata": {},
   "source": [
    "You can [install](https://github.com/typicode/json-server#getting-started) a JSON server globally on your machine using the command `npm install -g json-server`. A global installation requires administrative privileges.\n",
    "\n",
    "After installing run the following command to run the json-server. The *json-server* starts running on port 3000 by default; we will now define an alternate port 3001, for the json-server. The --watch option automatically looks for any saved changes to db.json\n",
    "\n",
    "```cmd\n",
    "json-server --port 3001 --watch db.json\n",
    "```"
   ]
  },
  {
   "cell_type": "markdown",
   "metadata": {},
   "source": [
    "However, a global installation is not necessary. From the root directory of your app, we can run the *json-server* using the command `npx`:\n",
    "\n",
    "```cmd\n",
    "npx json-server --port 3001 --watch db.jsoncopy\n",
    "```\n",
    "\n",
    "Let's navigate to the address http://localhost:3001/notes in the browser. We can see that *json-server* serves the notes we previously wrote to the file in JSON format:"
   ]
  },
  {
   "cell_type": "markdown",
   "metadata": {},
   "source": [
    "![](./images/image16.png)"
   ]
  },
  {
   "cell_type": "markdown",
   "metadata": {},
   "source": [
    "If your browser doesn't have a way to format the display of JSON-data, then install an appropriate plugin, e.g. [JSONView](https://chromewebstore.google.com/detail/jsonview/gmegofmjomhknnokphhckolhcffdaihd) to make your life easier.\n",
    "\n",
    "Going forward, the idea will be to save the notes to the server, which in this case means saving them to the json-server. The React code fetches the notes from the server and renders them to the screen. Whenever a new note is added to the application, the React code also sends it to the server to make the new note persist in \"memory\".\n",
    "\n",
    "json-server stores all the data in the *db.json* file, which resides on the server. In the real world, data would be stored in some kind of database. However, json-server is a handy tool that enables the use of server-side functionality in the development phase without the need to program any of it.\n",
    "\n",
    "We will get familiar with the principles of implementing server-side functionality in more detail in [part 3](https://fullstackopen.com/en/part3) of this course."
   ]
  },
  {
   "cell_type": "markdown",
   "metadata": {},
   "source": [
    "> ## The browser as a runtime environment"
   ]
  },
  {
   "cell_type": "markdown",
   "metadata": {},
   "source": [
    "Our first task is fetching the already existing notes to our React application from the address http://localhost:3001/notes.\n",
    "\n",
    "In the part0 [example project](https://fullstackopen.com/en/part0/fundamentals_of_web_apps#running-application-logic-on-the-browser), we already learned a way to fetch data from a server using JavaScript. The code in the example was fetching the data using [XMLHttpRequest](https://developer.mozilla.org/en-US/docs/Web/API/XMLHttpRequest), otherwise known as an HTTP request made using an XHR object. This is a technique introduced in 1999, which every browser has supported for a good while now.\n",
    "\n",
    "The use of XHR is no longer recommended, and browsers already widely support the [fetch](https://developer.mozilla.org/en-US/docs/Web/API/fetch) method, which is based on so-called [promises](https://developer.mozilla.org/en-US/docs/Web/JavaScript/Reference/Global_Objects/Promise), instead of the event-driven model used by XHR."
   ]
  },
  {
   "cell_type": "markdown",
   "metadata": {},
   "source": [
    "As a reminder from part0 (which one should *remember to not use* without a pressing reason), data was fetched using XHR in the following way:\n",
    "\n",
    "```jsx\n",
    "const xhttp = new XMLHttpRequest()\n",
    "\n",
    "xhttp.onreadystatechange = function() {\n",
    "  if (this.readyState == 4 && this.status == 200) {\n",
    "    const data = JSON.parse(this.responseText)\n",
    "    // handle the response that is saved in variable data\n",
    "  }\n",
    "}\n",
    "\n",
    "xhttp.open('GET', '/data.json', true)\n",
    "xhttp.send()\n",
    "```"
   ]
  },
  {
   "cell_type": "markdown",
   "metadata": {},
   "source": [
    "Right at the beginning, we register an *event handler* to the `xhttp` object representing the HTTP request, which will be called by the JavaScript runtime whenever the state of the `xhttp` object changes. If the change in state means that the response to the request has arrived, then the data is handled accordingly.\n",
    "\n",
    "It is worth noting that the code in the event handler is defined before the request is sent to the server. Despite this, the code within the event handler will be executed at a later point in time. Therefore, the code does not execute synchronously \"from top to bottom\", but does so *asynchronously*. JavaScript calls the event handler that was registered for the request at some point."
   ]
  },
  {
   "cell_type": "markdown",
   "metadata": {},
   "source": [
    "A synchronous way of making requests that's common in Java programming, for instance, would play out as follows (NB, this is not actually working Java code):\n",
    "\n",
    "```jsx\n",
    "HTTPRequest request = new HTTPRequest();\n",
    "\n",
    "String url = \"https://studies.cs.helsinki.fi/exampleapp/data.json\";\n",
    "List<Note> notes = request.get(url);\n",
    "\n",
    "notes.forEach(m => {\n",
    "  System.out.println(m.content);\n",
    "});\n",
    "```"
   ]
  },
  {
   "cell_type": "markdown",
   "metadata": {},
   "source": [
    "In Java, the code executes line by line and stops to wait for the HTTP request, which means waiting for the command `request.get(...)` to finish. The data returned by the command, in this case the notes, are then stored in a variable, and we begin manipulating the data in the desired manner.\n",
    "\n",
    "In contrast, JavaScript engines, or runtime environments follow the [asynchronous model](https://developer.mozilla.org/en-US/docs/Web/JavaScript/Event_loop). In principle, this requires all [IO operations](https://en.wikipedia.org/wiki/Input/output) (with some exceptions) to be executed as non-blocking. This means that code execution continues immediately after calling an IO function, without waiting for it to return.\n",
    "\n",
    "When an asynchronous operation is completed, or, more specifically, at some point after its completion, the JavaScript engine calls the event handlers registered to the operation."
   ]
  },
  {
   "cell_type": "markdown",
   "metadata": {},
   "source": [
    "When an asynchronous operation is completed, or, more specifically, at some point after its completion, the JavaScript engine calls the event handlers registered to the operation.\n",
    "\n",
    "Currently, JavaScript engines are *single-threaded*, which means that they cannot execute code in parallel. As a result, it is a requirement in practice to use a non-blocking model for executing IO operations. Otherwise, the browser would \"freeze\" during, for instance, the fetching of data from a server."
   ]
  },
  {
   "cell_type": "markdown",
   "metadata": {},
   "source": [
    "Another consequence of this single-threaded nature of JavaScript engines is that if some code execution takes up a lot of time, the browser will get stuck for the duration of the execution. If we added the following code at the top of our application:\n",
    "\n",
    "```jsx\n",
    "setTimeout(() => {\n",
    "  console.log('loop..')\n",
    "  let i = 0\n",
    "  while (i < 50000000000) {\n",
    "    i++\n",
    "  }\n",
    "  console.log('end')\n",
    "}, 5000)\n",
    "```"
   ]
  },
  {
   "cell_type": "markdown",
   "metadata": {},
   "source": [
    "everything would work normally for 5 seconds. However, when the function defined as the parameter for `setTimeout` is run, the browser will be stuck for the duration of the execution of the long loop. Even the browser tab cannot be closed during the execution of the loop, at least not in Chrome.\n",
    "\n",
    "For the browser to remain *responsive*, i.e., to be able to continuously react to user operations with sufficient speed, the code logic needs to be such that no single computation can take too long."
   ]
  },
  {
   "cell_type": "markdown",
   "metadata": {},
   "source": [
    "There is a host of additional material on the subject to be found on the internet. One particularly clear presentation of the topic is the keynote by Philip Roberts called [What the heck is the event loop anyway?](https://www.youtube.com/watch?v=8aGhZQkoFbQ&ab_channel=JSConf)\n",
    "\n",
    "In today's browsers, it is possible to run parallelized code with the help of so-called [web workers](https://developer.mozilla.org/en-US/docs/Web/API/Web_Workers_API/Using_web_workers). The event loop of an individual browser window is, however, still only handled by a [single thread](https://medium.com/techtrument/multithreading-javascript-46156179cf9a)."
   ]
  },
  {
   "cell_type": "markdown",
   "metadata": {},
   "source": [
    "> ## npm"
   ]
  },
  {
   "cell_type": "markdown",
   "metadata": {},
   "source": [
    "Let's get back to the topic of fetching data from the server.\n",
    "\n",
    "We could use the previously mentioned promise-based function [fetch](https://developer.mozilla.org/en-US/docs/Web/API/fetch) to pull the data from the server. Fetch is a great tool. It is standardized and supported by all modern browsers (excluding IE).\n",
    "\n",
    "That being said, we will be using the [axios](https://github.com/axios/axios) library instead for communication between the browser and server. It functions like fetch but is somewhat more pleasant to use. Another good reason to use axios is our getting familiar with adding external libraries, so-called *npm packages*, to React projects."
   ]
  },
  {
   "cell_type": "markdown",
   "metadata": {},
   "source": [
    "Nowadays, practically all JavaScript projects are defined using the node package manager, aka [npm](https://docs.npmjs.com/about-npm). The projects created using Vite also follow the npm format. A clear indicator that a project uses npm is the *package.json* file located at the root of the project:\n",
    "\n",
    "```jsx\n",
    "{\n",
    "  \"name\": \"notes-frontend\",\n",
    "  \"private\": true,\n",
    "  \"version\": \"0.0.0\",\n",
    "  \"type\": \"module\",\n",
    "  \"scripts\": {\n",
    "    \"dev\": \"vite\",\n",
    "    \"build\": \"vite build\",\n",
    "    \"lint\": \"eslint . --ext js,jsx --report-unused-disable-directives --max-warnings 0\",\n",
    "    \"preview\": \"vite preview\"\n",
    "  },\n",
    "  \"dependencies\": {\n",
    "    \"react\": \"^18.2.0\",\n",
    "    \"react-dom\": \"^18.2.0\"\n",
    "  },\n",
    "  \"devDependencies\": {\n",
    "    \"@types/react\": \"^18.2.15\",\n",
    "    \"@types/react-dom\": \"^18.2.7\",\n",
    "    \"@vitejs/plugin-react\": \"^4.0.3\",\n",
    "    \"eslint\": \"^8.45.0\",\n",
    "    \"eslint-plugin-react\": \"^7.32.2\",\n",
    "    \"eslint-plugin-react-hooks\": \"^4.6.0\",\n",
    "    \"eslint-plugin-react-refresh\": \"^0.4.3\",\n",
    "    \"vite\": \"^4.4.5\"\n",
    "  }\n",
    "}\n",
    "```"
   ]
  },
  {
   "cell_type": "markdown",
   "metadata": {},
   "source": [
    "At this point, the *dependencies* part is of most interest to us as it defines what *dependencies*, or external libraries, the project has.\n",
    "\n",
    "We now want to use axios. Theoretically, we could define the library directly in the *package.json* file, but it is better to install it from the command line.\n",
    "\n",
    "```jsx\n",
    "npm install axios\n",
    "```\n",
    "\n",
    "**NB npm-commands should always be run in the project root directory**, which is where the *package.json* file can be found."
   ]
  },
  {
   "cell_type": "markdown",
   "metadata": {},
   "source": [
    "Axios is now included among the other dependencies:\n",
    "\n",
    "```json\n",
    "{\n",
    "  \"name\": \"notes-frontend\",\n",
    "  \"private\": true,\n",
    "  \"version\": \"0.0.0\",\n",
    "  \"type\": \"module\",\n",
    "  \"scripts\": {\n",
    "    \"dev\": \"vite\",\n",
    "    \"build\": \"vite build\",\n",
    "    \"lint\": \"eslint . --ext js,jsx --report-unused-disable-directives --max-warnings 0\",\n",
    "    \"preview\": \"vite preview\"\n",
    "  },\n",
    "  \"dependencies\": {\n",
    "    \"axios\": \"^1.4.0\",\n",
    "    \"react\": \"^18.2.0\",\n",
    "    \"react-dom\": \"^18.2.0\"\n",
    "  },\n",
    "  // ...\n",
    "}\n",
    "```"
   ]
  },
  {
   "cell_type": "markdown",
   "metadata": {},
   "source": [
    "In addition to adding axios to the dependencies, the `npm install` command also *downloaded* the library code. As with other dependencies, the code can be found in the *node_modules* directory located in the root. As one might have noticed, node_modules contains a fair amount of interesting stuff.\n",
    "\n",
    "Let's make another addition. Install *json-server* as a development dependency (only used during development) by executing the command:\n",
    "\n",
    "```cmd\n",
    "npm install json-server --save-dev\n",
    "```"
   ]
  },
  {
   "cell_type": "markdown",
   "metadata": {},
   "source": [
    "and making a small addition to the *scripts* part of the *package.json* file:\n",
    "\n",
    "```json\n",
    "{\n",
    "  // ... \n",
    "  \"scripts\": {\n",
    "    \"dev\": \"vite\",\n",
    "    \"build\": \"vite build\",\n",
    "    \"lint\": \"eslint . --ext js,jsx --report-unused-disable-directives --max-warnings 0\",\n",
    "    \"preview\": \"vite preview\",\n",
    "    \"server\": \"json-server -p3001 --watch db.json\"\n",
    "  },\n",
    "}\n",
    "```"
   ]
  },
  {
   "cell_type": "markdown",
   "metadata": {},
   "source": [
    "We can now conveniently, without parameter definitions, start the json-server from the project root directory with the command:\n",
    "\n",
    "```cmd\n",
    "npm run server\n",
    "```\n",
    "\n",
    "We will get more familiar with the `npm` tool in the [third part of the course](https://fullstackopen.com/en/part3).\n",
    "\n",
    "**NB** The previously started json-server must be terminated before starting a new one; otherwise, there will be trouble:"
   ]
  },
  {
   "cell_type": "markdown",
   "metadata": {},
   "source": [
    "![](./images/image17.png)"
   ]
  },
  {
   "cell_type": "markdown",
   "metadata": {},
   "source": [
    "The red print in the error message informs us about the issue:\n",
    "\n",
    "*Cannot bind to port 3001. Please specify another port number either through --port argument or through the json-server.json configuration file*\n",
    "\n",
    "As we can see, the application is not able to bind itself to the [port](https://en.wikipedia.org/wiki/Port_\\(computer_networking\\)). The reason being that port 3001 is already occupied by the previously started json-server."
   ]
  },
  {
   "cell_type": "markdown",
   "metadata": {},
   "source": [
    "We used the command `npm install` twice, but with slight differences:\n",
    "\n",
    "```cmd\n",
    "npm install axios\n",
    "npm install json-server --save-dev\n",
    "```\n",
    "\n",
    "There is a fine difference in the parameters. *axios* is installed as a runtime dependency of the application because the execution of the program requires the existence of the library. On the other hand, *json-server* was installed as a development dependency (`--save-dev`), since the program itself doesn't require it. It is used for assistance during software development. There will be more on different dependencies in the next part of the course."
   ]
  },
  {
   "cell_type": "markdown",
   "metadata": {},
   "source": [
    "> ## Axions and promises"
   ]
  },
  {
   "cell_type": "markdown",
   "metadata": {},
   "source": [
    "Now we are ready to use Axios. Going forward, json-server is assumed to be running on port 3001.\n",
    "\n",
    "NB: To run json-server and your react app simultaneously, you may need to use two terminal windows. One to keep json-server running and the other to run our React application.\n",
    "\n",
    "The library can be brought into use the same way other libraries, e.g. React, are, i.e., by using an appropriate `import` statement.\n",
    "\n",
    "Add the following to the file *main.jsx*:\n",
    "\n",
    "```jsx\n",
    "import axios from 'axios'\n",
    "\n",
    "const promise = axios.get('http://localhost:3001/notes')\n",
    "console.log(promise)\n",
    "\n",
    "const promise2 = axios.get('http://localhost:3001/foobar')\n",
    "console.log(promise2)\n",
    "```"
   ]
  },
  {
   "cell_type": "markdown",
   "metadata": {},
   "source": [
    "If you open http://localhost:5173/ in the browser, this should be printed to the console\n",
    "\n",
    "![promises printed to console](./images/image18.png)"
   ]
  },
  {
   "cell_type": "markdown",
   "metadata": {},
   "source": [
    "Axios' method `get` returns a [promise]().\n",
    "\n",
    "The documentation on Mozilla's site states the following about promises:\n",
    "\n",
    "> A Promise is an object representing the eventual completion or failure of an asynchronous operation.\n",
    "\n",
    "In other words, a promise is an object that represents an asynchronous operation. A promise can have three distinct states:\n",
    "\n",
    "- The promise is *pending*: It means that the final value (one of the following two) is not available yet.\n",
    "- The promise is *fulfilled*: It means that the operation has been completed and the final value is available, which generally is a successful operation. This state is sometimes also called *resolved*.\n",
    "- The promise is *rejected*: It means that an error prevented the final value from being determined, which generally represents a failed operation."
   ]
  },
  {
   "cell_type": "markdown",
   "metadata": {},
   "source": [
    "The first promise in our example is *fulfilled*, representing a successful `axios.get('http://localhost:3001/notes')` request. The second one, however, is rejected, and the console tells us the reason. It looks like we were trying to make an HTTP GET request to a non-existent address.\n",
    "\n",
    "If, and when, we want to access the result of the operation represented by the promise, we must register an event handler to the promise. This is achieved using the method `then`:\n",
    "\n",
    "```jsx\n",
    "const promise = axios.get('http://localhost:3001/notes')\n",
    "\n",
    "promise.then(response => {\n",
    "  console.log(response)\n",
    "})\n",
    "```"
   ]
  },
  {
   "cell_type": "markdown",
   "metadata": {},
   "source": [
    "The following is printed to the console:\n",
    "\n",
    "![json object data printed to console](./images/image19.png)"
   ]
  },
  {
   "cell_type": "markdown",
   "metadata": {},
   "source": [
    "The JavaScript runtime environment calls the callback function registered by the `then` method providing it with a `response` object as a parameter. The `response` object contains all the essential data related to the response of an HTTP GET request, which would include the returned *data, status code*, and *headers*.\n",
    "\n",
    "Storing the promise object in a variable is generally unnecessary, and it's instead common to chain the `then` method call to the axios method call, so that it follows it directly:\n",
    "\n",
    "```jsx\n",
    "axios.get('http://localhost:3001/notes').then(response => {\n",
    "  const notes = response.data\n",
    "  console.log(notes)\n",
    "})\n",
    "```"
   ]
  },
  {
   "cell_type": "markdown",
   "metadata": {},
   "source": [
    "The callback function now takes the data contained within the response, stores it in a variable, and prints the notes to the console.\n",
    "\n",
    "A more readable way to format *chained* method calls is to place each call on its own line:\n",
    "\n",
    "```jsx\n",
    "axios\n",
    "  .get('http://localhost:3001/notes')\n",
    "  .then(response => {\n",
    "    const notes = response.data\n",
    "    console.log(notes)\n",
    "  })\n",
    "```"
   ]
  },
  {
   "cell_type": "markdown",
   "metadata": {},
   "source": [
    "The data returned by the server is plain text, basically just one long string. The axios library is still able to parse the data into a JavaScript array, since the server has specified that the data format is *application/json; charset=utf-8* (see the previous image) using the *content-type* header.\n",
    "\n",
    "We can finally begin using the data fetched from the server.\n",
    "\n",
    "Let's try and request the notes from our local server and render them, initially as the App component. Please note that this approach has many issues, as we're rendering the entire *App* component only when we successfully retrieve a response:\n",
    "\n",
    "```jsx\n",
    "import ReactDOM from 'react-dom/client'\n",
    "import axios from 'axios'\n",
    "import App from './App'\n",
    "\n",
    "axios.get('http://localhost:3001/notes').then(response => {\n",
    "  const notes = response.data\n",
    "  ReactDOM.createRoot(document.getElementById('root')).render(<App notes={notes} />)\n",
    "})\n",
    "```"
   ]
  },
  {
   "cell_type": "markdown",
   "metadata": {},
   "source": [
    "This method could be acceptable in some circumstances, but it's somewhat problematic. Let's instead move the fetching of the data into the *App* component.\n",
    "\n",
    "What's not immediately obvious, however, is where the command `axios.get` should be placed within the component."
   ]
  },
  {
   "cell_type": "markdown",
   "metadata": {},
   "source": [
    "> ## Effect-hooks"
   ]
  },
  {
   "cell_type": "markdown",
   "metadata": {},
   "source": [
    "We have already used [state hooks]() that were introduced along with React version [16.8.0](), which provide state to React components defined as functions - the *so-called functional components*. Version 16.8.0 also introduces [effect hooks]() as a new feature. As per the official docs:\n",
    "\n",
    "> Effects let a component connect to and synchronize with external systems. This includes dealing with network, browser DOM, animations, widgets written using a different UI library, and other non-React code.\n",
    "\n",
    "As such, effect hooks are precisely the right tool to use when fetching data from a server.\n",
    "\n",
    "Let's remove the fetching of data from *main.jsx*. Since we're going to be retrieving the notes from the server, there is no longer a need to pass data as props to the *App* component. So *main.jsx* can be simplified to:\n",
    "\n",
    "```jsx\n",
    "import ReactDOM from \"react-dom/client\";\n",
    "import App from \"./App\";\n",
    "\n",
    "ReactDOM.createRoot(document.getElementById(\"root\")).render(<App />);\n",
    "```"
   ]
  },
  {
   "cell_type": "markdown",
   "metadata": {},
   "source": [
    "The *App* component changes as follows:\n",
    "\n",
    "```jsx\n",
    "import { useState, useEffect } from 'react'\n",
    "import axios from 'axios'\n",
    "import Note from './components/Note'\n",
    "\n",
    "const App = () => {\n",
    "  const [notes, setNotes] = useState([])\n",
    "  const [newNote, setNewNote] = useState('')\n",
    "  const [showAll, setShowAll] = useState(true)\n",
    "\n",
    "  useEffect(() => {\n",
    "    console.log('effect')\n",
    "    axios\n",
    "      .get('http://localhost:3001/notes')\n",
    "      .then(response => {\n",
    "        console.log('promise fulfilled')\n",
    "        setNotes(response.data)\n",
    "      })\n",
    "  }, [])\n",
    "  console.log('render', notes.length, 'notes')\n",
    "\n",
    "  // ...\n",
    "}\n",
    "```"
   ]
  },
  {
   "cell_type": "markdown",
   "metadata": {},
   "source": [
    "We have also added a few helpful prints, which clarify the progression of the execution.\n",
    "\n",
    "This is printed to the console:\n",
    "\n",
    "```cmd\n",
    "render 0 notes\n",
    "effect\n",
    "promise fulfilled\n",
    "render 3 notes\n",
    "```"
   ]
  },
  {
   "cell_type": "markdown",
   "metadata": {},
   "source": [
    "First, the body of the function defining the component is executed and the component is rendered for the first time. At this point *render 0* notes is printed, meaning data hasn't been fetched from the server yet.\n",
    "\n",
    "The following function, or effect in React parlance:\n",
    "\n",
    "```jsx\n",
    "() => {\n",
    "  console.log('effect')\n",
    "  axios\n",
    "    .get('http://localhost:3001/notes')\n",
    "    .then(response => {\n",
    "      console.log('promise fulfilled')\n",
    "      setNotes(response.data)\n",
    "    })\n",
    "}\n",
    "```"
   ]
  },
  {
   "cell_type": "markdown",
   "metadata": {},
   "source": [
    "is executed immediately after rendering. The execution of the function results in *effect* being printed to the console, and the command `axios.get` initiates the fetching of data from the server as well as registers the following function as an *event handler* for the operation:\n",
    "\n",
    "```jsx\n",
    "response => {\n",
    "  console.log('promise fulfilled')\n",
    "  setNotes(response.data)\n",
    "}\n",
    "```"
   ]
  },
  {
   "cell_type": "markdown",
   "metadata": {},
   "source": [
    "When data arrives from the server, the JavaScript runtime calls the function registered as the event handler, which prints *promise fulfilled* to the console and stores the notes received from the server into the state using the function `setNotes(response.data)`.\n",
    "\n",
    "As always, a call to a state-updating function triggers the re-rendering of the component. As a result, *render 3 notes* is printed to the console, and the notes fetched from the server are rendered to the screen."
   ]
  },
  {
   "cell_type": "markdown",
   "metadata": {},
   "source": [
    "Finally, let's take a look at the definition of the effect hook as a whole:\n",
    "\n",
    "```jsx\n",
    "useEffect(() => {\n",
    "  console.log('effect')\n",
    "  axios\n",
    "    .get('http://localhost:3001/notes').then(response => {\n",
    "      console.log('promise fulfilled')\n",
    "      setNotes(response.data)\n",
    "    })\n",
    "}, [])\n",
    "```"
   ]
  },
  {
   "cell_type": "markdown",
   "metadata": {},
   "source": [
    "Let's rewrite the code a bit differently.\n",
    "\n",
    "```jsx\n",
    "const hook = () => {\n",
    "  console.log('effect')\n",
    "  axios\n",
    "    .get('http://localhost:3001/notes')\n",
    "    .then(response => {\n",
    "      console.log('promise fulfilled')\n",
    "      setNotes(response.data)\n",
    "    })\n",
    "}\n",
    "\n",
    "useEffect(hook, [])\n",
    "```"
   ]
  },
  {
   "cell_type": "markdown",
   "metadata": {},
   "source": [
    "Now we can see more clearly that the function [useEffect](https://react.dev/reference/react/useEffect) takes two parameters. The first is a function, the *effect* itself. According to the documentation:\n",
    "\n",
    "> By default, effects run after every completed render, but you can choose to fire it only when certain values have changed.\n",
    "\n",
    "So by default, the effect is *always* run after the component has been rendered. In our case, however, we only want to execute the effect along with the first render.\n",
    "\n",
    "The second parameter of `useEffect` is used to [specify how often the effect is run](https://react.dev/reference/react/useEffect#parameters). If the second parameter is an empty array `[]`, then the effect is only run along with the first render of the component.\n",
    "\n",
    "There are many possible use cases for an effect hook other than fetching data from the server. However, this use is sufficient for us, for now."
   ]
  },
  {
   "cell_type": "markdown",
   "metadata": {},
   "source": [
    "Think back to the sequence of events we just discussed. Which parts of the code are run? In what order? How often? Understanding the order of events is critical!\n",
    "\n",
    "Note that we could have also written the code for the effect function this way:\n",
    "\n",
    "```jsx\n",
    "useEffect(() => {\n",
    "  console.log('effect')\n",
    "\n",
    "  const eventHandler = response => {\n",
    "    console.log('promise fulfilled')\n",
    "    setNotes(response.data)\n",
    "  }\n",
    "\n",
    "  const promise = axios.get('http://localhost:3001/notes')\n",
    "  promise.then(eventHandler)\n",
    "}, [])\n",
    "```"
   ]
  },
  {
   "cell_type": "markdown",
   "metadata": {},
   "source": [
    "A reference to an event handler function is assigned to the variable `eventHandler`. The promise returned by the `get` method of Axios is stored in the variable `promise`. The registration of the callback happens by giving the `eventHandler` variable, referring to the event-handler function, as a parameter to the `then` method of the promise. It isn't usually necessary to assign functions and promises to variables, and a more compact way of representing things, as seen below, is sufficient.\n",
    "\n",
    "```jsx\n",
    "useEffect(() => {\n",
    "  console.log('effect')\n",
    "  axios\n",
    "    .get('http://localhost:3001/notes')\n",
    "    .then(response => {\n",
    "      console.log('promise fulfilled')\n",
    "      setNotes(response.data)\n",
    "    })\n",
    "}, [])\n",
    "```"
   ]
  },
  {
   "cell_type": "markdown",
   "metadata": {},
   "source": [
    "We still have a problem with our application. When adding new notes, they are not stored on the server.\n",
    "\n",
    "The code for the application, as described so far, can be found in full on [github](https://github.com/fullstack-hy2020/part2-notes-frontend/tree/part2-4), on branch part2-4."
   ]
  },
  {
   "cell_type": "markdown",
   "metadata": {},
   "source": [
    "> ## The development runtime environment"
   ]
  },
  {
   "cell_type": "markdown",
   "metadata": {},
   "source": [
    "The configuration for the whole application has steadily grown more complex. Let's review what happens and where. The following image describes the makeup of the application"
   ]
  },
  {
   "cell_type": "markdown",
   "metadata": {},
   "source": [
    "![](./images/image20.png)"
   ]
  },
  {
   "cell_type": "markdown",
   "metadata": {},
   "source": [
    "The JavaScript code making up our React application is run in the browser. The browser gets the JavaScript from the *React dev* server, which is the application that runs after running the command  `npm run dev`. The dev-server transforms the JavaScript into a format understood by the browser. Among other things, it stitches together JavaScript from different files into one file. We'll discuss the dev-server in more detail in part 7 of the course.\n",
    "\n",
    "The React application running in the browser fetches the JSON formatted data from json-server running on port 3001 on the machine. The server we query the data from *- json-server -* gets its data from the file *db.json*.\n",
    "\n",
    "At this point in development, all the parts of the application happen to reside on the software developer's machine, otherwise known as localhost. The situation changes when the application is deployed to the internet. We will do this in part 3."
   ]
  },
  {
   "cell_type": "markdown",
   "metadata": {},
   "source": [
    "> ## Exercise 2.11."
   ]
  },
  {
   "cell_type": "markdown",
   "metadata": {},
   "source": [
    "> ## 2.11: The Phonebook Step 6\n",
    "We continue with developing the phonebook. Store the initial state of the application in the file *db.json*, which should be placed in the root of the project."
   ]
  },
  {
   "cell_type": "markdown",
   "metadata": {},
   "source": [
    "```json\n",
    "{\n",
    "  \"persons\":[\n",
    "    { \n",
    "      \"name\": \"Arto Hellas\", \n",
    "      \"number\": \"040-123456\",\n",
    "      \"id\": \"1\"\n",
    "    },\n",
    "    { \n",
    "      \"name\": \"Ada Lovelace\", \n",
    "      \"number\": \"39-44-5323523\",\n",
    "      \"id\": \"2\"\n",
    "    },\n",
    "    { \n",
    "      \"name\": \"Dan Abramov\", \n",
    "      \"number\": \"12-43-234345\",\n",
    "      \"id\": \"3\"\n",
    "    },\n",
    "    { \n",
    "      \"name\": \"Mary Poppendieck\", \n",
    "      \"number\": \"39-23-6423122\",\n",
    "      \"id\": \"4\"\n",
    "    }\n",
    "  ]\n",
    "}\n",
    "```"
   ]
  },
  {
   "cell_type": "markdown",
   "metadata": {},
   "source": [
    "Start json-server on port 3001 and make sure that the server returns the list of people by going to the address http://localhost:3001/persons in the browser.\n",
    "\n",
    "If you receive the following error message:\n",
    "\n",
    "```cmd\n",
    "events.js:182\n",
    "      throw er; // Unhandled 'error' event\n",
    "      ^\n",
    "\n",
    "Error: listen EADDRINUSE 0.0.0.0:3001\n",
    "    at Object._errnoException (util.js:1019:11)\n",
    "    at _exceptionWithHostPort (util.js:1041:20)\n",
    "```"
   ]
  },
  {
   "cell_type": "markdown",
   "metadata": {},
   "source": [
    "it means that port 3001 is already in use by another application, e.g. in use by an already running json-server. Close the other application, or change the port in case that doesn't work.\n",
    "\n",
    "Modify the application such that the initial state of the data is fetched from the server using the axios-library. Complete the fetching with an [Effect hook](https://react.dev/reference/react/useEffect)."
   ]
  },
  {
   "cell_type": "markdown",
   "metadata": {},
   "source": []
  }
 ],
 "metadata": {
  "language_info": {
   "name": "python"
  }
 },
 "nbformat": 4,
 "nbformat_minor": 2
}
