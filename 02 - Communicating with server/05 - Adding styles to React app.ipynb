{
 "cells": [
  {
   "cell_type": "markdown",
   "metadata": {},
   "source": [
    "> ## Adding styles to React app"
   ]
  },
  {
   "cell_type": "markdown",
   "metadata": {},
   "source": [
    "The appearance of our current application is quite modest. In [exercise 0.2](https://fullstackopen.com/en/part0/fundamentals_of_web_apps#exercises-0-1-0-6), the assignment was to go through Mozilla's [CSS tutorial](https://developer.mozilla.org/en-US/docs/Learn/Getting_started_with_the_web/CSS_basics).\n",
    "\n",
    "Let's take a look at how we can add styles to a React application. There are several different ways of doing this and we will take a look at the other methods later on. First, we will add CSS to our application the old-school way; in a single file without using a [CSS preprocessor](https://developer.mozilla.org/en-US/docs/Glossary/CSS_preprocessor) (although this is not entirely true as we will learn later on)."
   ]
  },
  {
   "cell_type": "markdown",
   "metadata": {},
   "source": [
    "Let's add a new *index.css* file under the src directory and then add it to the application by importing it in the *main.jsx* file:\n",
    "\n",
    "```jsx\n",
    "import './index.css'\n",
    "```\n",
    "\n",
    "Let's add the following CSS rule to the *index.css* file:\n",
    "\n",
    "```jsx\n",
    "h1 {\n",
    "  color: green;\n",
    "}\n",
    "```\n",
    "\n",
    "CSS rules comprise of *selectors* and *declarations*. The selector defines which elements the rule should be applied to. The selector above is *h1*, which will match all of the *h1* header tags in our application."
   ]
  },
  {
   "cell_type": "markdown",
   "metadata": {},
   "source": [
    "The declaration sets the `color` property to the value green.\n",
    "\n",
    "One CSS rule can contain an arbitrary number of properties. Let's modify the previous rule to make the text cursive, by defining the font style as *italic*:\n",
    "\n",
    "```jsx\n",
    "h1 {\n",
    "  color: green;\n",
    "  font-style: italic;\n",
    "}\n",
    "```\n",
    "\n",
    "There are many ways of matching elements by using [different types of CSS selectors](https://developer.mozilla.org/en-US/docs/Web/CSS/CSS_selectors)."
   ]
  },
  {
   "cell_type": "markdown",
   "metadata": {},
   "source": [
    "If we wanted to target, let's say, each one of the notes with our styles, we could use the selector *li*, as all of the notes are wrapped inside *li* tags:\n",
    "\n",
    "```jsx\n",
    "const Note = ({ note, toggleImportance }) => {\n",
    "  const label = note.important \n",
    "    ? 'make not important' \n",
    "    : 'make important';\n",
    "\n",
    "  return (\n",
    "    <li>\n",
    "      {note.content} \n",
    "      <button onClick={toggleImportance}>{label}</button>\n",
    "    </li>\n",
    "  )\n",
    "}\n",
    "```"
   ]
  },
  {
   "cell_type": "markdown",
   "metadata": {},
   "source": [
    "Let's add the following rule to our style sheet (since my knowledge of elegant web design is close to zero, the styles don't make much sense):\n",
    "\n",
    "```jsx\n",
    "li {\n",
    "  color: grey;\n",
    "  padding-top: 3px;\n",
    "  font-size: 15px;\n",
    "}\n",
    "```\n",
    "\n",
    "Using element types for defining CSS rules is slightly problematic. If our application contained other *li* tags, the same style rule would also be applied to them.\n",
    "\n",
    "If we want to apply our style specifically to notes, then it is better to use [class selectors](https://developer.mozilla.org/en-US/docs/Web/CSS/Class_selectors)."
   ]
  },
  {
   "cell_type": "markdown",
   "metadata": {},
   "source": [
    "In regular HTML, classes are defined as the value of the *class* attribute:\n",
    "\n",
    "```jsx\n",
    "<li class=\"note\">some text...</li>\n",
    "```\n",
    "\n",
    "In React we have to use the [className](https://react.dev/learn#adding-styles) attribute instead of the class attribute. With this in mind, let's make the following changes to our *Note* component:\n",
    "\n",
    "```jsx\n",
    "const Note = ({ note, toggleImportance }) => {\n",
    "  const label = note.important \n",
    "    ? 'make not important' \n",
    "    : 'make important';\n",
    "\n",
    "  return (\n",
    "    <li className='note'>\n",
    "      {note.content} \n",
    "      <button onClick={toggleImportance}>{label}</button>\n",
    "    </li>\n",
    "  )\n",
    "}\n",
    "```"
   ]
  },
  {
   "cell_type": "markdown",
   "metadata": {},
   "source": [
    "Class selectors are defined with the `.classname` syntax:\n",
    "\n",
    "```jsx\n",
    ".note {\n",
    "  color: grey;\n",
    "  padding-top: 5px;\n",
    "  font-size: 15px;\n",
    "}\n",
    "```\n",
    "\n",
    "If you now add other *li* elements to the application, they will not be affected by the style rule above."
   ]
  },
  {
   "cell_type": "markdown",
   "metadata": {},
   "source": [
    "> ## Improved error message"
   ]
  },
  {
   "cell_type": "markdown",
   "metadata": {},
   "source": [
    "We previously implemented the error message that was displayed when the user tried to toggle the importance of a deleted note with the `alert` method. Let's implement the error message as its own React component.\n",
    "\n",
    "The component is quite simple:\n",
    "\n",
    "```jsx\n",
    "const Notification = ({ message }) => {\n",
    "  if (message === null) {\n",
    "    return null\n",
    "  }\n",
    "\n",
    "  return (\n",
    "    <div className='error'>\n",
    "      {message}\n",
    "    </div>\n",
    "  )\n",
    "}\n",
    "```"
   ]
  },
  {
   "cell_type": "markdown",
   "metadata": {},
   "source": [
    "If the value of the `message` prop is `null`, then nothing is rendered to the screen, and in other cases, the message gets rendered inside of a div element.\n",
    "\n",
    "Let's add a new piece of state called *errorMessage* to the App component. Let's initialize it with some error message so that we can immediately test our component:"
   ]
  },
  {
   "cell_type": "markdown",
   "metadata": {},
   "source": [
    "```jsx\n",
    "const App = () => {\n",
    "  const [notes, setNotes] = useState([]) \n",
    "  const [newNote, setNewNote] = useState('')\n",
    "  const [showAll, setShowAll] = useState(true)\n",
    "\n",
    "  const [errorMessage, setErrorMessage] = useState('some error happened...')\n",
    "\n",
    "  // ...\n",
    "\n",
    "  return (\n",
    "    <div>\n",
    "      <h1>Notes</h1>\n",
    "\n",
    "      <Notification message={errorMessage} />\n",
    "      <div>\n",
    "        <button onClick={() => setShowAll(!showAll)}>\n",
    "          show {showAll ? 'important' : 'all' }\n",
    "        </button>\n",
    "      </div>      \n",
    "      // ...\n",
    "    </div>\n",
    "  )\n",
    "}\n",
    "```"
   ]
  },
  {
   "cell_type": "markdown",
   "metadata": {},
   "source": [
    "Then let's add a style rule that suits an error message:\n",
    "\n",
    "```jsx\n",
    ".error {\n",
    "  color: red;\n",
    "  background: lightgrey;\n",
    "  font-size: 20px;\n",
    "  border-style: solid;\n",
    "  border-radius: 5px;\n",
    "  padding: 10px;\n",
    "  margin-bottom: 10px;\n",
    "}\n",
    "```\n",
    "\n",
    "Now we are ready to add the logic for displaying the error message. Let's change the `toggleImportanceOf` function in the following way:"
   ]
  },
  {
   "cell_type": "markdown",
   "metadata": {},
   "source": [
    "```jsx\n",
    "  const toggleImportanceOf = id => {\n",
    "    const note = notes.find(n => n.id === id)\n",
    "    const changedNote = { ...note, important: !note.important }\n",
    "\n",
    "    noteService\n",
    "      .update(id, changedNote).then(returnedNote => {\n",
    "        setNotes(notes.map(note => note.id !== id ? note : returnedNote))\n",
    "      })\n",
    "      .catch(error => {\n",
    "\n",
    "        setErrorMessage(\n",
    "          `Note '${note.content}' was already removed from server`\n",
    "        )\n",
    "        setTimeout(() => {\n",
    "          setErrorMessage(null)\n",
    "        }, 5000)\n",
    "        setNotes(notes.filter(n => n.id !== id))\n",
    "      })\n",
    "  }\n",
    "```"
   ]
  },
  {
   "cell_type": "markdown",
   "metadata": {},
   "source": [
    "The result looks like this:\n",
    "\n",
    "![error removed from server screenshot from app](./images/image29.png)\n",
    "\n",
    "The code for the current state of our application can be found in the *part2-7* branch on [GitHub](https://github.com/fullstack-hy2020/part2-notes-frontend/tree/part2-7)."
   ]
  },
  {
   "cell_type": "markdown",
   "metadata": {},
   "source": [
    "> ## Inline styles"
   ]
  },
  {
   "cell_type": "markdown",
   "metadata": {},
   "source": [
    "React also makes it possible to write styles directly in the code as so-called [inline styles](https://react-cn.github.io/react/tips/inline-styles.html).\n",
    "\n",
    "The idea behind defining inline styles is extremely simple. Any React component or element can be provided with a set of CSS properties as a JavaScript object through the [style](https://react.dev/reference/react-dom/components/common#applying-css-styles) attribute.\n",
    "\n",
    "CSS rules are defined slightly differently in JavaScript than in normal CSS files. Let's say that we wanted to give some element the color green and italic font that's 16 pixels in size. In CSS, it would look like this:\n",
    "\n",
    "```css\n",
    "{\n",
    "  color: green;\n",
    "  font-style: italic;\n",
    "  font-size: 16px;\n",
    "}\n",
    "```"
   ]
  },
  {
   "cell_type": "markdown",
   "metadata": {},
   "source": [
    "But as a React inline-style object it would look like this:\n",
    "\n",
    "```jsx\n",
    "{\n",
    "  color: 'green',\n",
    "  fontStyle: 'italic',\n",
    "  fontSize: 16\n",
    "}\n",
    "```\n",
    "\n",
    "Every CSS property is defined as a separate property of the JavaScript object. Numeric values for pixels can be simply defined as integers. One of the major differences compared to regular CSS, is that hyphenated (kebab case) CSS properties are written in camelCase.\n",
    "\n",
    "Next, we could add a \"bottom block\" to our application by creating a *Footer* component and defining the following inline styles for it:"
   ]
  },
  {
   "cell_type": "markdown",
   "metadata": {},
   "source": [
    "```jsx\n",
    "const Footer = () => {\n",
    "  const footerStyle = {\n",
    "    color: 'green',\n",
    "    fontStyle: 'italic',\n",
    "    fontSize: 16\n",
    "  }\n",
    "  return (\n",
    "    <div style={footerStyle}>\n",
    "      <br />\n",
    "      <em>Note app, Department of Computer Science, University of Helsinki 2024</em>\n",
    "    </div>\n",
    "  )\n",
    "}\n",
    "\n",
    "const App = () => {\n",
    "  // ...\n",
    "\n",
    "  return (\n",
    "    <div>\n",
    "      <h1>Notes</h1>\n",
    "\n",
    "      <Notification message={errorMessage} />\n",
    "\n",
    "      // ...  \n",
    "\n",
    "\n",
    "      <Footer />\n",
    "    </div>\n",
    "  )\n",
    "}\n",
    "```"
   ]
  },
  {
   "cell_type": "markdown",
   "metadata": {},
   "source": [
    "Inline styles come with certain limitations. For instance, so-called [pseudo-classes](https://developer.mozilla.org/en-US/docs/Web/CSS/Pseudo-classes) can't be used straightforwardly.\n",
    "\n",
    "Inline styles and some of the other ways of adding styles to React components go completely against the grain of old conventions. Traditionally, it has been considered best practice to entirely separate CSS from the content (HTML) and functionality (JavaScript). According to this older school of thought, the goal was to write CSS, HTML, and JavaScript into their separate files.\n",
    "\n",
    "The philosophy of React is, in fact, the polar opposite of this. Since the separation of CSS, HTML, and JavaScript into separate files did not seem to scale well in larger applications, React bases the division of the application along the lines of its logical functional entities.\n",
    "\n",
    "The structural units that make up the application's functional entities are React components. A React component defines the HTML for structuring the content, the JavaScript functions for determining functionality, and also the component's styling; all in one place. This is to create individual components that are as independent and reusable as possible.\n",
    "\n",
    "The code of the final version of our application can be found in the *part2-8* branch on [GitHub](https://github.com/fullstack-hy2020/part2-notes-frontend/tree/part2-8)."
   ]
  },
  {
   "cell_type": "markdown",
   "metadata": {},
   "source": [
    "> ## Exercises 2.16. - 2.17."
   ]
  },
  {
   "cell_type": "markdown",
   "metadata": {},
   "source": [
    "> ## 2.16: Phonebook step 11\n",
    "\n",
    "Use the [improved error message](https://fullstackopen.com/en/part2/adding_styles_to_react_app#improved-error-message) example from part 2 as a guide to show a notification that lasts for a few seconds after a successful operation is executed (a person is added or a number is changed):\n",
    "\n",
    "![successful green added screenshot](./images/image30.png)"
   ]
  },
  {
   "cell_type": "markdown",
   "metadata": {},
   "source": [
    "> ## 2.17*: Phonebook step 12\n",
    "\n",
    "Open your application in two browsers. **If you delete a person in browser 1** a short while before attempting to *change the person's phone number* in browser 2, you will get the following error messages:\n",
    "\n",
    "![error message 404 not found when changing multiple browsers](./images/image31.png)\n",
    "\n",
    "Fix the issue according to the example shown in [promise and errors](https://fullstackopen.com/en/part2/altering_data_in_server#promises-and-errors) in part 2. Modify the example so that the user is shown a message when the operation does not succeed. The messages shown for successful and unsuccessful events should look different:\n",
    "\n",
    "![error message shown on screen instead of in console feature add-on](./images/image32.png)\n",
    "\n",
    "**Note** that even if you handle the exception, the first \"404\" error message is still printed to the console. But you should not see \"Uncaught (in promise) Error\"."
   ]
  },
  {
   "cell_type": "markdown",
   "metadata": {},
   "source": [
    "> ## Couple of important remarks"
   ]
  },
  {
   "cell_type": "markdown",
   "metadata": {},
   "source": [
    "At the end of this part there are a few more challenging exercises. At this stage, you can skip the exercises if they are too much of a headache, we will come back to the same themes again later. The material is worth reading through in any case.\n",
    "\n",
    "We have done one thing in our app that is masking away a very typical source of error.\n",
    "\n",
    "We set the state `notes` to have initial value of an empty array:\n",
    "\n",
    "```jsx\n",
    "const App = () => {\n",
    "  const [notes, setNotes] = useState([])\n",
    "\n",
    "  // ...\n",
    "}\n",
    "```"
   ]
  },
  {
   "cell_type": "markdown",
   "metadata": {},
   "source": [
    "This is a pretty natural initial value since the notes are a set, that is, there are many notes that the state will store.\n",
    "\n",
    "If the state would be only saving \"one thing\", a more proper initial value would be `null` denoting that there is *nothing* in the state at the start. Let us try what happens if we use this initial value:\n",
    "\n",
    "```jsx\n",
    "const App = () => {\n",
    "  const [notes, setNotes] = useState(null)\n",
    "\n",
    "  // ...\n",
    "}\n",
    "```\n",
    "\n",
    "The app breaks down:"
   ]
  },
  {
   "cell_type": "markdown",
   "metadata": {},
   "source": [
    "![](./images/image33.png)"
   ]
  },
  {
   "cell_type": "markdown",
   "metadata": {},
   "source": [
    "The error message gives the reason and location for the error. The code that caused the problems is the following:\n",
    "\n",
    "```jsx\n",
    "  // notesToShow gets the value of notes\n",
    "  const notesToShow = showAll\n",
    "    ? notes\n",
    "    : notes.filter(note => note.important)\n",
    "\n",
    "  // ...\n",
    "\n",
    "  {notesToShow.map(note =>\n",
    "    <Note key={note.id} note={note} />\n",
    "  )}\n",
    "```\n",
    "\n",
    "The error message is\n",
    "\n",
    "```jsx\n",
    "Cannot read properties of null (reading 'map')\n",
    "```"
   ]
  },
  {
   "cell_type": "markdown",
   "metadata": {},
   "source": [
    "The variable `notesToShow` is first assigned the value of the state `notes` and then the code tries to call method `map` to a nonexisting object, that is, to `null`.\n",
    "\n",
    "What is the reason for that?\n",
    "\n",
    "The effect hook uses the function `setNotes` to set `notes` to have the notes that the backend is returning:\n",
    "\n",
    "```jsx\n",
    "  useEffect(() => {\n",
    "    noteService\n",
    "      .getAll()\n",
    "      .then(initialNotes => {\n",
    "        setNotes(initialNotes)\n",
    "      })\n",
    "  }, [])\n",
    "```"
   ]
  },
  {
   "cell_type": "markdown",
   "metadata": {},
   "source": [
    "However the problem is that the effect is executed only *after the first render*. And because `notes` has the initial value of null:\n",
    "\n",
    "```jsx\n",
    "const App = () => {\n",
    "  const [notes, setNotes] = useState(null)\n",
    "\n",
    "  // ...\n",
    "```\n",
    "\n",
    "on the first render the following code gets executed:\n",
    "\n",
    "```jsx\n",
    "notesToShow = notes\n",
    "\n",
    "// ...\n",
    "\n",
    "notesToShow.map(note => ...)\n",
    "```\n",
    "\n",
    "and this blows up the app since we can not call method `map` of the value `null`."
   ]
  },
  {
   "cell_type": "markdown",
   "metadata": {},
   "source": [
    "When we set `notes` to be initially an empty array, there is no error since it is allowed to call `map` to an empty array.\n",
    "\n",
    "So, the initialization of the state \"masked\" the problem that is caused by the fact that the data is not yet fetched from the backend.\n",
    "\n",
    "Another way to circumvent the problem is to use *conditional rendering* and return null if the component state is not properly initialized:\n",
    "\n",
    "```jsx\n",
    "const App = () => {\n",
    "  const [notes, setNotes] = useState(null)\n",
    "  // ... \n",
    "\n",
    "  useEffect(() => {\n",
    "    noteService\n",
    "      .getAll()\n",
    "      .then(initialNotes => {\n",
    "        setNotes(initialNotes)\n",
    "      })\n",
    "  }, [])\n",
    "\n",
    "  // do not render anything if notes is still null\n",
    "  if (!notes) { \n",
    "    return null \n",
    "  }\n",
    "\n",
    "  // ...\n",
    "} \n",
    "```"
   ]
  },
  {
   "cell_type": "markdown",
   "metadata": {},
   "source": [
    "So on the first render, nothing is rendered. When the notes arrive from the backend, the effect used function `setNotes` to set the value of the state `notes`. This causes the component to be rendered again, and at the second render, the notes get rendered to the screen.\n",
    "\n",
    "The method based on conditional rendering is suitable in cases where it is impossible to define the state so that the initial rendering is possible.\n",
    "\n",
    "The other thing that we still need to have a closer look at is the second parameter of the useEffect:\n",
    "\n",
    "```jsx\n",
    "  useEffect(() => {\n",
    "    noteService\n",
    "      .getAll()\n",
    "      .then(initialNotes => {\n",
    "        setNotes(initialNotes)  \n",
    "      })\n",
    "  }, [])\n",
    "```"
   ]
  },
  {
   "cell_type": "markdown",
   "metadata": {},
   "source": [
    "The second parameter of `useEffect` is used to [specify how often the effect is run](https://react.dev/reference/react/useEffect#parameters). The principle is that the effect is always executed after the first render of the component *and* when the value of the second parameter changes.\n",
    "\n",
    "If the second parameter is an empty array `[]`, its content never changes and the effect is only run after the first render of the component. This is exactly what we want when we are initializing the app state from the server.\n",
    "\n",
    "However, there are situations where we want to perform the effect at other times, e.g. when the state of the component changes in a particular way.\n",
    "\n",
    "Consider the following simple application for querying currency exchange rates from the [Exchange rate API](https://www.exchangerate-api.com/):"
   ]
  },
  {
   "cell_type": "markdown",
   "metadata": {},
   "source": [
    "```jsx\n",
    "import { useState, useEffect } from 'react'\n",
    "import axios from 'axios'\n",
    "\n",
    "const App = () => {\n",
    "  const [value, setValue] = useState('')\n",
    "  const [rates, setRates] = useState({})\n",
    "  const [currency, setCurrency] = useState(null)\n",
    "\n",
    "  useEffect(() => {\n",
    "    console.log('effect run, currency is now', currency)\n",
    "\n",
    "    // skip if currency is not defined\n",
    "    if (currency) {\n",
    "      console.log('fetching exchange rates...')\n",
    "      axios\n",
    "        .get(`https://open.er-api.com/v6/latest/${currency}`)\n",
    "        .then(response => {\n",
    "          setRates(response.data.rates)\n",
    "        })\n",
    "    }\n",
    "  }, [currency])\n",
    "\n",
    "  const handleChange = (event) => {\n",
    "    setValue(event.target.value)\n",
    "  }\n",
    "\n",
    "  const onSearch = (event) => {\n",
    "    event.preventDefault()\n",
    "    setCurrency(value)\n",
    "  }\n",
    "\n",
    "  return (\n",
    "    <div>\n",
    "      <form onSubmit={onSearch}>\n",
    "        currency: <input value={value} onChange={handleChange} />\n",
    "        <button type=\"submit\">exchange rate</button>\n",
    "      </form>\n",
    "      <pre>\n",
    "        {JSON.stringify(rates, null, 2)}\n",
    "      </pre>\n",
    "    </div>\n",
    "  )\n",
    "}\n",
    "\n",
    "export default App\n",
    "```"
   ]
  },
  {
   "cell_type": "markdown",
   "metadata": {},
   "source": [
    "The user interface of the application has a form, in the input field of which the name of the desired currency is written. If the currency exists, the application renders the exchange rates of the currency to other currencies:\n",
    "\n",
    "![browser showing currency exchange rates with eur typed and console saying fetching exchange rates](./images/image34.png)\n",
    "\n",
    "\n",
    "The application sets the name of the currency entered to the form to the state `currency` at the moment the button is pressed."
   ]
  },
  {
   "cell_type": "markdown",
   "metadata": {},
   "source": [
    "When the `currency` gets a new value, the application fetches its exchange rates from the API in the effect function:\n",
    "\n",
    "```jsx\n",
    "const App = () => {\n",
    "  // ...\n",
    "  const [currency, setCurrency] = useState(null)\n",
    "\n",
    "  useEffect(() => {\n",
    "    console.log('effect run, currency is now', currency)\n",
    "\n",
    "    // skip if currency is not defined\n",
    "    if (currency) {\n",
    "      console.log('fetching exchange rates...')\n",
    "      axios\n",
    "        .get(`https://open.er-api.com/v6/latest/${currency}`)\n",
    "        .then(response => {\n",
    "          setRates(response.data.rates)\n",
    "        })\n",
    "    }\n",
    "  }, [currency])\n",
    "  // ...\n",
    "}\n",
    "```\n",
    "\n",
    "The useEffect hook now has `[currency]` as the second parameter. The effect function is therefore executed after the first render, and always after the table as its second parameter `[currency]` changes. That is, when the state `currency` gets a new value, the content of the table changes and the effect function is executed."
   ]
  },
  {
   "cell_type": "markdown",
   "metadata": {},
   "source": [
    "The effect has the following condition\n",
    "\n",
    "```jsx\n",
    "if (currency) { \n",
    "  // exchange rates are fetched\n",
    "}\n",
    "```\n",
    "\n",
    "which prevents requesting the exchange rates just after the first render when the variable `currency` still has the initial value, i.e. a null value.\n",
    "\n",
    "So if the user writes e.g. eur in the search field, the application uses Axios to perform an HTTP GET request to the address https://open.er-api.com/v6/latest/eur and stores the response in the `rates` state.\n",
    "\n",
    "When the user then enters another value in the search field, e.g. *usd*, the effect function is executed again and the exchange rates of the new currency are requested from the API.\n",
    "\n",
    "The way presented here for making API requests might seem a bit awkward. This particular application could have been made completely without using the useEffect, by making the API requests directly in the form submit handler function:"
   ]
  },
  {
   "cell_type": "markdown",
   "metadata": {},
   "source": [
    "```jsx\n",
    "const onSearch = (event) => {\n",
    "    event.preventDefault()\n",
    "    axios\n",
    "      .get(`https://open.er-api.com/v6/latest/${value}`)\n",
    "      .then(response => {\n",
    "        setRates(response.data.rates)\n",
    "      })\n",
    "  }\n",
    "```\n",
    "\n",
    "However, there are situations where that technique would not work. For example, you *might* encounter one such a situation in the exercise 2.20 where the use of useEffect could provide a solution. Note that this depends quite much on the approach you selected, e.g. the model solution does not use this trick."
   ]
  },
  {
   "cell_type": "markdown",
   "metadata": {},
   "source": [
    "> ## Exercises 2.18. - 2.20. "
   ]
  },
  {
   "cell_type": "markdown",
   "metadata": {},
   "source": [
    "> ## 2.18* Data for countries, step 1\n",
    "\n",
    "At https://studies.cs.helsinki.fi/restcountries/ you can find a service that offers a lot of information related to different countries in a so-called machine-readable format via the REST API. Make an application that allows you to view information from different countries.\n",
    "\n",
    "The user interface is very simple. The country to be shown is found by typing a search query into the search field.\n",
    "\n",
    "If there are too many (over 10) countries that match the query, then the user is prompted to make their query more specific:\n",
    "\n",
    "![too many matches screenshot](./images/image35.png)\n",
    "\n",
    "If there are ten or fewer countries, but more than one, then all countries matching the query are shown:\n",
    "\n",
    "![matching countries in a list screenshot](./images/image36.png)\n",
    "\n",
    "When there is only one country matching the query, then the basic data of the country (eg. capital and area), its flag and the languages spoken are shown:\n",
    "\n",
    "![flag and additional attributes screenshot](./images/image37.png)\n",
    "\n",
    "**NB**: It is enough that your application works for most countries. Some countries, like *Sudan*, can be hard to support since the name of the country is part of the name of another country, *South Sudan*. You don't need to worry about these edge cases."
   ]
  },
  {
   "cell_type": "markdown",
   "metadata": {},
   "source": [
    "> ## 2.19*: Data for countries, step 2\n",
    "\n",
    "**There is still a lot to do in this part, so don't get stuck on this exercise!**\n",
    "\n",
    "Improve on the application in the previous exercise, such that when the names of multiple countries are shown on the page there is a button next to the name of the country, which when pressed shows the view for that country:\n",
    "\n",
    "![attach show buttons for each country feature](./images/image38.png)\n",
    "\n",
    "In this exercise, it is also enough that your application works for most countries. Countries whose name appears in the name of another country, like *Sudan*, can be ignored."
   ]
  },
  {
   "cell_type": "markdown",
   "metadata": {},
   "source": [
    "> ## 2.20*: Data for countries, step 3\n",
    "\n",
    "Add to the view showing the data of a single country, the weather report for the capital of that country. There are dozens of providers for weather data. One suggested API is https://openweathermap.org. Note that it might take some minutes until a generated API key is valid.\n",
    "\n",
    "![weather report added feature](./images/image39.png)\n",
    "\n",
    "If you use Open weather map, [here](https://openweathermap.org/weather-conditions#Icon-list) is the description for how to get weather icons.\n",
    "\n",
    "**NB**: In some browsers (such as Firefox) the chosen API might send an error response, which indicates that HTTPS encryption is not supported, although the request URL starts with `http://`. This issue can be fixed by completing the exercise using Chrome.\n",
    "\n",
    "**NB**: You need an api-key to use almost every weather service. Do not save the api-key to source control! Nor hardcode the api-key to your source code. Instead use an [environment variable](https://vitejs.dev/guide/env-and-mode.html) to save the key.\n",
    "\n",
    "Assuming the api-key is *54l41n3n4v41m34rv0*, when the application is started like so:\n",
    "\n",
    "```jsx\n",
    "export VITE_SOME_KEY=54l41n3n4v41m34rv0 && npm run dev // For Linux/macOS Bash\n",
    "($env:VITE_SOME_KEY=\"54l41n3n4v41m34rv0\") -and (npm run dev) // For Windows PowerShell\n",
    "set \"VITE_SOME_KEY=54l41n3n4v41m34rv0\" && npm run dev // For Windows cmd.exe\n",
    "```\n",
    "\n",
    "you can access the value of the key from the `import.meta.env` object:\n",
    "\n",
    "```jsx\n",
    "const api_key = import.meta.env.VITE_SOME_KEY\n",
    "// variable api_key now has the value set in startup\n",
    "```\n",
    "\n",
    "Note that you will need to restart the server to apply the changes.\n",
    "\n",
    "This was the last exercise of this part of the course. It's time to push your code to GitHub and mark all of your finished exercises to the [exercise submission system]()."
   ]
  },
  {
   "cell_type": "markdown",
   "metadata": {},
   "source": []
  }
 ],
 "metadata": {
  "language_info": {
   "name": "python"
  }
 },
 "nbformat": 4,
 "nbformat_minor": 2
}
