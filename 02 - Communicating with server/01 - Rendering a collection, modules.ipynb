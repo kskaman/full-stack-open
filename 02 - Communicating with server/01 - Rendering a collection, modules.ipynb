{
 "cells": [
  {
   "cell_type": "markdown",
   "metadata": {},
   "source": [
    "> ## Rendering a collection, modules"
   ]
  },
  {
   "cell_type": "markdown",
   "metadata": {},
   "source": [
    "Before starting a new part, let's recap some of the topics that proved difficult last year.\n",
    "\n",
    "**console.log**\n",
    "\n",
    "**What's the difference between an experienced JavaScript programmer and a rookie? The experienced one uses console.log 10-100 times more.**\n",
    "\n",
    "Paradoxically, this seems to be true even though a rookie programmer would need console.log (or any debugging method) more than an experienced one.\n",
    "\n",
    "When something does not work, don't just guess what's wrong. Instead, log or use some other way of debugging.\n",
    "\n",
    "**NB** As explained in part 1, when you use the command `console.log` for debugging, don't concatenate things 'the Java way' with a plus. Instead of writing:"
   ]
  },
  {
   "cell_type": "markdown",
   "metadata": {},
   "source": [
    "```jsx\n",
    "console.log('props value is ' + props)\n",
    "```\n",
    "\n",
    "separate the things to be printed with a comma:\n",
    "\n",
    "```jsx\n",
    "console.log('props value is', props)copy\n",
    "```\n",
    "\n",
    "If you concatenate an object with a string and log it to the console (like in our first example), the result will be pretty useless:\n",
    "\n",
    "```jsx\n",
    "props value is [object Object]copy\n",
    "```\n",
    "\n",
    "On the contrary, when you pass objects as distinct arguments separated by commas to `console.log`, like in our second example above, the content of the object is printed to the developer console as strings that are insightful. If necessary, read more about [debugging React applications](https://fullstackopen.com/en/part1/a_more_complex_state_debugging_react_apps#debugging-react-applications)."
   ]
  },
  {
   "cell_type": "markdown",
   "metadata": {},
   "source": [
    "> ## Protip: Visual Studio code snippets"
   ]
  },
  {
   "cell_type": "markdown",
   "metadata": {},
   "source": [
    "With Visual Studio Code it's easy to create 'snippets', i.e., shortcuts for quickly generating commonly re-used portions of code, much like how 'sout' works in Netbeans.\n",
    "\n",
    "Instructions for creating snippets can be found [here](https://code.visualstudio.com/docs/editor/userdefinedsnippets#_creating-your-own-snippets).\n",
    "\n",
    "Useful, ready-made snippets can also be found as VS Code plugins, in the [marketplace](https://marketplace.visualstudio.com/items?itemName=dsznajder.es7-react-js-snippets).\n",
    "\n",
    "The most important snippet is the one for the `console.log()` command, for example, `clog`. This can be created like so:"
   ]
  },
  {
   "cell_type": "markdown",
   "metadata": {},
   "source": [
    "```jsx\n",
    "{\n",
    "  \"console.log\": {\n",
    "    \"prefix\": \"clog\",\n",
    "    \"body\": [\n",
    "      \"console.log('$1')\",\n",
    "    ],\n",
    "    \"description\": \"Log output to console\"\n",
    "  }\n",
    "}\n",
    "```\n",
    "\n",
    "Debugging your code using `console.log()` is so common that Visual Studio Code has that snippet built in. To use it, type `log` and hit Tab to autocomplete. More fully featured `console.log()` snippet extensions can be found in the [marketplace](https://login.microsoftonline.com/organizations/oauth2/v2.0/authorize?client_id=499b84ac-1321-427f-aa17-267ca6975798&scope=499b84ac-1321-427f-aa17-267ca6975798%2Fuser_impersonation%20openid%20profile%20offline_access&redirect_uri=https%3A%2F%2Fapp.vssps.visualstudio.com%2F_msal%2F_popup&client-request-id=0190616f-40b2-76a7-b2ab-8033dc1df90d&response_mode=fragment&response_type=code&x-client-SKU=msal.js.browser&x-client-VER=3.10.0&client_info=1&code_challenge=G52nMiO7X8rCHBJlj9RVTJTedThfFTPtojLKpFt3Qc8&code_challenge_method=S256&nonce=0190616f-40b3-74b2-aa7b-953edc51c672&state=eyJpZCI6IjAxOTA2MTZmLTQwYjMtN2QzMC1iZTUzLWY5YmJmYmM4Y2ZmZCIsIm1ldGEiOnsiaW50ZXJhY3Rpb25UeXBlIjoicmVkaXJlY3QifX0%3D%7C%7B%22service%22%3A%2200000029-0000-8888-8000-000000000000%22%2C%22isLegacyDomain%22%3Atrue%2C%22accessMapping%22%3A%22PublicAccessMapping%22%2C%22type%22%3A%22redirect%22%7D)."
   ]
  },
  {
   "cell_type": "markdown",
   "metadata": {},
   "source": [
    "> ## JavaScript Arrays"
   ]
  },
  {
   "cell_type": "markdown",
   "metadata": {},
   "source": [
    "From here on out, we will be using the functional programming operators of the JavaScript [array](https://developer.mozilla.org/en-US/docs/Web/JavaScript/Reference/Global_Objects/Array), such as `find`, `filter`, and `map` - all of the time.\n",
    "\n",
    "If operating arrays with functional operators feels foreign to you, it is worth watching at least the first three parts of the YouTube video series [Functional Programming in JavaScript](https://www.youtube.com/playlist?list=PL0zVEGEvSaeEd9hlmCXrk5yUyqUag-n84):\n",
    "\n",
    "- Higher-order functions\n",
    "- Map\n",
    "- Reduce basics"
   ]
  },
  {
   "cell_type": "markdown",
   "metadata": {},
   "source": [
    "> ## Event Handlers Revisited"
   ]
  },
  {
   "cell_type": "markdown",
   "metadata": {},
   "source": [
    "Based on last year's course, event handling has proved to be difficult.\n",
    "\n",
    "It's worth reading the revision chapter at the end of the previous part - [event handlers revisited](https://fullstackopen.com/en/part1/a_more_complex_state_debugging_react_apps#event-handling-revisited) - if it feels like your own knowledge on the topic needs some brushing up.\n",
    "\n",
    "Passing event handlers to the child components of the *App* component has raised some questions. A small revision on the topic can be found [here](https://fullstackopen.com/en/part1/a_more_complex_state_debugging_react_apps#passing-event-handlers-to-child-components)."
   ]
  },
  {
   "cell_type": "markdown",
   "metadata": {},
   "source": [
    "> ## Rendering Collections"
   ]
  },
  {
   "cell_type": "markdown",
   "metadata": {},
   "source": [
    "We will now do the 'frontend', or the browser-side application logic, in React for an application that's similar to the example application from [part 0](https://fullstackopen.com/en/part0)\n",
    "\n",
    "Let's start with the following (the file *App.jsx*):"
   ]
  },
  {
   "cell_type": "markdown",
   "metadata": {},
   "source": [
    "```jsx\n",
    "const App = (props) => {\n",
    "  const { notes } = props\n",
    "\n",
    "  return (\n",
    "    <div>\n",
    "      <h1>Notes</h1>\n",
    "      <ul>\n",
    "        <li>{notes[0].content}</li>\n",
    "        <li>{notes[1].content}</li>\n",
    "        <li>{notes[2].content}</li>\n",
    "      </ul>\n",
    "    </div>\n",
    "  )\n",
    "}\n",
    "\n",
    "export default App\n",
    "```"
   ]
  },
  {
   "cell_type": "markdown",
   "metadata": {},
   "source": [
    "The file main.jsx looks like this:"
   ]
  },
  {
   "cell_type": "markdown",
   "metadata": {},
   "source": [
    "```jsx\n",
    "import React from 'react'\n",
    "import ReactDOM from 'react-dom/client'\n",
    "\n",
    "import App from './App'\n",
    "\n",
    "const notes = [\n",
    "  {\n",
    "    id: 1,\n",
    "    content: 'HTML is easy',\n",
    "    important: true\n",
    "  },\n",
    "  {\n",
    "    id: 2,\n",
    "    content: 'Browser can execute only JavaScript',\n",
    "    important: false\n",
    "  },\n",
    "  {\n",
    "    id: 3,\n",
    "    content: 'GET and POST are the most important methods of HTTP protocol',\n",
    "    important: true\n",
    "  }\n",
    "]\n",
    "\n",
    "ReactDOM.createRoot(document.getElementById('root')).render(\n",
    "  <App notes={notes} />\n",
    ")\n",
    "```"
   ]
  },
  {
   "cell_type": "markdown",
   "metadata": {},
   "source": [
    "Every note contains its textual content, a `boolean` value for marking whether the note has been categorized as important or not, and also a unique *id*.\n",
    "\n",
    "The example above works due to the fact that there are exactly three notes in the array.\n",
    "\n",
    "A single note is rendered by accessing the objects in the array by referring to a hard-coded index number:\n",
    "\n",
    "```jsx\n",
    "<li>{notes[1].content}</li>copy\n",
    "```\n",
    "\n",
    "This is, of course, not practical. We can improve on this by generating React elements from the array objects using the [map](https://developer.mozilla.org/en-US/docs/Web/JavaScript/Reference/Global_Objects/Array/map) function.\n",
    "\n",
    "```jsx\n",
    "notes.map(note => <li>{note.content}</li>)copy\n",
    "```\n",
    "\n",
    "The result is an array of *li* elements.\n",
    "\n",
    "```jsx\n",
    "[\n",
    "  <li>HTML is easy</li>,\n",
    "  <li>Browser can execute only JavaScript</li>,\n",
    "  <li>GET and POST are the most important methods of HTTP protocol</li>,\n",
    "]\n",
    "```"
   ]
  },
  {
   "cell_type": "markdown",
   "metadata": {},
   "source": [
    "Which can then be placed inside *ul* tags:\n",
    "\n",
    "```jsx\n",
    "const App = (props) => {\n",
    "  const { notes } = props\n",
    "\n",
    "  return (\n",
    "    <div>\n",
    "      <h1>Notes</h1>\n",
    "      <ul>\n",
    "        {notes.map(note => <li>{note.content}</li>)}\n",
    "      </ul>\n",
    "    </div>\n",
    "  )\n",
    "}\n",
    "```\n",
    "\n",
    "Because the code generating the *li* tags is JavaScript, it must be wrapped in curly braces in a JSX template just like all other JavaScript code.\n",
    "\n",
    "We will also make the code more readable by separating the arrow function's declaration across multiple lines:"
   ]
  },
  {
   "cell_type": "markdown",
   "metadata": {},
   "source": [
    "```jsx\n",
    "const App = (props) => {\n",
    "  const { notes } = props\n",
    "\n",
    "  return (\n",
    "    <div>\n",
    "      <h1>Notes</h1>\n",
    "      <ul>\n",
    "        {notes.map(note => \n",
    "\n",
    "          <li>\n",
    "            {note.content}\n",
    "          </li>\n",
    "        )}\n",
    "      </ul>\n",
    "    </div>\n",
    "  )\n",
    "}\n",
    "```"
   ]
  },
  {
   "cell_type": "markdown",
   "metadata": {},
   "source": [
    "> ## Key - attribute"
   ]
  },
  {
   "cell_type": "markdown",
   "metadata": {},
   "source": [
    "Even though the application seems to be working, there is a nasty warning in the console:\n",
    "\n",
    "![unique key prop console error](./images/image01.png)\n",
    "\n",
    "As the linked [React page](https://react.dev/learn/rendering-lists#keeping-list-items-in-order-with-key) in the error message suggests; the list items, i.e. the elements generated by the `map` method, must each have a unique key value: an attribute called *key*.\n",
    "\n",
    "Let's add the keys:"
   ]
  },
  {
   "cell_type": "markdown",
   "metadata": {},
   "source": [
    "```jsx\n",
    "const App = (props) => {\n",
    "  const { notes } = props\n",
    "\n",
    "  return (\n",
    "    <div>\n",
    "      <h1>Notes</h1>\n",
    "      <ul>\n",
    "        {notes.map(note => \n",
    "\n",
    "          <li key={note.id}>\n",
    "            {note.content}\n",
    "          </li>\n",
    "        )}\n",
    "      </ul>\n",
    "    </div>\n",
    "  )\n",
    "}\n",
    "```"
   ]
  },
  {
   "cell_type": "markdown",
   "metadata": {},
   "source": [
    "And the error message disappears.\n",
    "\n",
    "React uses the key attributes of objects in an array to determine how to update the view generated by a component when the component is re-rendered. More about this is in the [React documentation](https://react.dev/learn/preserving-and-resetting-state#option-2-resetting-state-with-a-key)."
   ]
  },
  {
   "cell_type": "markdown",
   "metadata": {},
   "source": [
    "> ## Map"
   ]
  },
  {
   "cell_type": "markdown",
   "metadata": {},
   "source": [
    "Understanding how the array method [`map`](https://developer.mozilla.org/en-US/docs/Web/JavaScript/Reference/Global_Objects/Array/map) works is crucial for the rest of the course.\n",
    "\n",
    "The application contains an array called `notes`:"
   ]
  },
  {
   "cell_type": "markdown",
   "metadata": {},
   "source": [
    "```jsx\n",
    "const notes = [\n",
    "  {\n",
    "    id: 1,\n",
    "    content: 'HTML is easy',\n",
    "    important: true\n",
    "  },\n",
    "  {\n",
    "    id: 2,\n",
    "    content: 'Browser can execute only JavaScript',\n",
    "    important: false\n",
    "  },\n",
    "  {\n",
    "    id: 3,\n",
    "    content: 'GET and POST are the most important methods of HTTP protocol',\n",
    "    important: true\n",
    "  }\n",
    "]\n",
    "```"
   ]
  },
  {
   "cell_type": "markdown",
   "metadata": {},
   "source": [
    "Let's pause for a moment and examine how `map` works.\n",
    "\n",
    "If the following code is added to, let's say, the end of the file:\n",
    "\n",
    "```jsx\n",
    "const result = notes.map(note => note.id)\n",
    "console.log(result)copy\n",
    "```\n",
    "\n",
    "*[1, 2, 3]* will be printed to the console. `map` always creates a new array, the elements of which have been created from the elements of the original array by *mapping*: using the function given as a parameter to the `map` method.\n",
    "\n",
    "The function is\n",
    "\n",
    "```jsx\n",
    "note => note.idcopy\n",
    "```\n",
    "\n",
    "Which is an arrow function written in compact form. The full form would be:\n",
    "\n",
    "```jsx\n",
    "(note) => {\n",
    "  return note.id\n",
    "}\n",
    "```\n",
    "\n",
    "The function gets a note object as a parameter and *returns* the value of its *id* field."
   ]
  },
  {
   "cell_type": "markdown",
   "metadata": {},
   "source": [
    "Changing the command to:\n",
    "\n",
    "```jsx\n",
    "const result = notes.map(note => note.content)copy\n",
    "```\n",
    "\n",
    "results in an array containing the contents of the notes.\n",
    "\n",
    "This is already pretty close to the React code we used:\n",
    "\n",
    "```jsx\n",
    "notes.map(note =>\n",
    "  <li key={note.id}>\n",
    "    {note.content}\n",
    "  </li>\n",
    ")\n",
    "```\n",
    "\n",
    "which generates an *li* tag containing the contents of the note from each note object."
   ]
  },
  {
   "cell_type": "markdown",
   "metadata": {},
   "source": [
    "Because the function parameter passed to the `map` method -\n",
    "\n",
    "```jsx\n",
    "note => <li key={note.id}>{note.content}</li>copy\n",
    "```\n",
    "\n",
    "- is used to create view elements, the value of the variable must be rendered inside curly braces. Try to see what happens if the braces are removed.\n",
    "\n",
    "The use of curly braces will cause some pain in the beginning, but you will get used to them soon enough. The visual feedback from React is immediate."
   ]
  },
  {
   "cell_type": "markdown",
   "metadata": {},
   "source": [
    "> ## Anti - pattern : Array Indexes as Keys"
   ]
  },
  {
   "cell_type": "markdown",
   "metadata": {},
   "source": [
    "We could have made the error message on our console disappear by using the array indexes as keys. The indexes can be retrieved by passing a second parameter to the callback function of the `map` method:\n",
    "\n",
    "```jsx\n",
    "notes.map((note, i) => ...)copy\n",
    "```\n",
    "\n",
    "When called like this, `i` is assigned the value of the index of the position in the array where the note resides."
   ]
  },
  {
   "cell_type": "markdown",
   "metadata": {},
   "source": [
    "As such, one way to define the row generation without getting errors is:\n",
    "\n",
    "```jsx\n",
    "<ul>\n",
    "  {notes.map((note, i) => \n",
    "    <li key={i}>\n",
    "      {note.content}\n",
    "    </li>\n",
    "  )}\n",
    "</ul>\n",
    "```\n",
    "\n",
    "This is, however, **not recommended** and can create undesired problems even if it seems to be working just fine.\n",
    "\n",
    "Read more about this in [this article](https://robinpokorny.com/blog/index-as-a-key-is-an-anti-pattern/)."
   ]
  },
  {
   "cell_type": "markdown",
   "metadata": {},
   "source": [
    "> ## Refactoring Modules"
   ]
  },
  {
   "cell_type": "markdown",
   "metadata": {},
   "source": [
    "Let's tidy the code up a bit. We are only interested in the field `notes` of the props, so let's retrieve that directly using [destructuring](https://developer.mozilla.org/en-US/docs/Web/JavaScript/Reference/Operators/Destructuring_assignment):"
   ]
  },
  {
   "cell_type": "markdown",
   "metadata": {},
   "source": [
    "```jsx\n",
    "const App = ({ notes }) => {\n",
    "  return (\n",
    "    <div>\n",
    "      <h1>Notes</h1>\n",
    "      <ul>\n",
    "        {notes.map(note => \n",
    "          <li key={note.id}>\n",
    "            {note.content}\n",
    "          </li>\n",
    "        )}\n",
    "      </ul>\n",
    "    </div>\n",
    "  )\n",
    "}\n",
    "```"
   ]
  },
  {
   "cell_type": "markdown",
   "metadata": {},
   "source": [
    "If you have forgotten what destructuring means and how it works, please review the [section on destructuring](https://fullstackopen.com/en/part1/component_state_event_handlers#destructuring).\n",
    "\n",
    "We'll separate displaying a single note into its own component *Note*:"
   ]
  },
  {
   "cell_type": "markdown",
   "metadata": {},
   "source": [
    "```jsx\n",
    "const Note = ({ note }) => {\n",
    "  return (\n",
    "    <li>{note.content}</li>\n",
    "  )\n",
    "}\n",
    "\n",
    "const App = ({ notes }) => {\n",
    "  return (\n",
    "    <div>\n",
    "      <h1>Notes</h1>\n",
    "      <ul>\n",
    "\n",
    "        {notes.map(note => \n",
    "          <Note key={note.id} note={note} />\n",
    "        )}\n",
    "      </ul>\n",
    "    </div>\n",
    "  )\n",
    "}\n",
    "```"
   ]
  },
  {
   "cell_type": "markdown",
   "metadata": {},
   "source": [
    "Note that the *key* attribute must now be defined for the Note components, and not for the *li* tags like before.\n",
    "\n",
    "A whole React application can be written in a single file. Although that is, of course, not very practical. Common practice is to declare each component in its own file as an *ES6-module*.\n",
    "\n",
    "We have been using modules the whole time. The first few lines of the file *main.jsx*:"
   ]
  },
  {
   "cell_type": "markdown",
   "metadata": {},
   "source": [
    "```jsx\n",
    "import ReactDOM from \"react-dom/client\"\n",
    "\n",
    "import App from \"./App\"\n",
    "```"
   ]
  },
  {
   "cell_type": "markdown",
   "metadata": {},
   "source": [
    "[import](https://developer.mozilla.org/en-US/docs/Web/JavaScript/Reference/Statements/import) two modules, enabling them to be used in that file. The module *react-dom/client* is placed into the variable `ReactDOM`, and the module that defines the main component of the app is placed into the variable `App`\n",
    "\n",
    "Let's move our *Note* component into its own module.\n",
    "\n",
    "In smaller applications, components are usually placed in a directory called *components*, which is in turn placed within the *src* directory. The convention is to name the file after the component.\n",
    "\n",
    "Now, we'll create a directory called *components* for our application and place a file named *Note.jsx* inside. The contents of the file are as follows:"
   ]
  },
  {
   "cell_type": "markdown",
   "metadata": {},
   "source": [
    "```jsx\n",
    "const Note = ({ note }) => {\n",
    "  return (\n",
    "    <li>{note.content}</li>\n",
    "  )\n",
    "}\n",
    "\n",
    "export default Note\n",
    "```"
   ]
  },
  {
   "cell_type": "markdown",
   "metadata": {},
   "source": [
    "The last line of the module [exports](https://developer.mozilla.org/en-US/docs/Web/JavaScript/Reference/Statements/export) the declared module, the variable Note.\n",
    "\n",
    "Now the file that is using the component - *App.jsx* - can [import](https://developer.mozilla.org/en-US/docs/Web/JavaScript/Reference/Statements/import) the module:"
   ]
  },
  {
   "cell_type": "markdown",
   "metadata": {},
   "source": [
    "```jsx\n",
    "import Note from './components/Note'\n",
    "\n",
    "const App = ({ notes }) => {\n",
    "  // ...\n",
    "}\n",
    "```"
   ]
  },
  {
   "cell_type": "markdown",
   "metadata": {},
   "source": [
    "The component exported by the module is now available for use in the variable *Note*, just as it was earlier.\n",
    "\n",
    "Note that when importing our own components, their location must be given *in relation to the importing file*:"
   ]
  },
  {
   "cell_type": "markdown",
   "metadata": {},
   "source": [
    "```jsx\n",
    "'./components/Note'\n",
    "```"
   ]
  },
  {
   "cell_type": "markdown",
   "metadata": {},
   "source": [
    "The period - . - in the beginning refers to the current directory, so the module's location is a file called *Note.jsx* in the *components* sub-directory of the current directory. The filename extension `.jsx` can be omitted.\n",
    "\n",
    "Modules have plenty of other uses other than enabling component declarations to be separated into their own files. We will get back to them later in this course.\n",
    "\n",
    "The current code of the application can be found on [GitHub](https://github.com/fullstack-hy2020/part2-notes-frontend/tree/part2-1).\n",
    "\n",
    "Note that the *main* branch of the repository contains the code for a later version of the application. The current code is in the branch [part 2-1](https://github.com/fullstack-hy2020/part2-notes-frontend/tree/part2-1):"
   ]
  },
  {
   "cell_type": "markdown",
   "metadata": {},
   "source": [
    "![](./images/image02.png)"
   ]
  },
  {
   "cell_type": "markdown",
   "metadata": {},
   "source": [
    "If you clone the project, run the command `npm install` before starting the application with `npm run dev`."
   ]
  },
  {
   "cell_type": "markdown",
   "metadata": {},
   "source": [
    "> ## When the Application Breaks"
   ]
  },
  {
   "cell_type": "markdown",
   "metadata": {},
   "source": [
    "Early in your programming career (and even after 30 years of coding like yours truly), what often happens is that the application just completely breaks down. This is even more so the case with dynamically typed languages, such as JavaScript, where the compiler does not check the data type. For instance, function variables or return values.\n",
    "\n",
    "A \"React explosion\" can, for example, look like this:"
   ]
  },
  {
   "cell_type": "markdown",
   "metadata": {},
   "source": [
    "![](./images/image03.png)"
   ]
  },
  {
   "cell_type": "markdown",
   "metadata": {},
   "source": [
    "In these situations, your best way out is the `console.log` method.\n",
    "\n",
    "The piece of code causing the explosion is this:"
   ]
  },
  {
   "cell_type": "markdown",
   "metadata": {},
   "source": [
    "```jsx\n",
    "const Course = ({ course }) => (\n",
    "  <div>\n",
    "    <Header course={course} />\n",
    "  </div>\n",
    ")\n",
    "\n",
    "const App = () => {\n",
    "  const course = {\n",
    "    // ...\n",
    "  }\n",
    "\n",
    "  return (\n",
    "    <div>\n",
    "      <Course course={course} />\n",
    "    </div>\n",
    "  )\n",
    "}\n",
    "```"
   ]
  },
  {
   "cell_type": "markdown",
   "metadata": {},
   "source": [
    "We'll hone in on the reason for the breakdown by adding `console.log` commands to the code. Because the first thing to be rendered is the *App* component, it's worth putting the first `console.log` there:\n",
    "\n",
    "```jsx\n",
    "const App = () => {\n",
    "  const course = {\n",
    "    // ...\n",
    "  }\n",
    "\n",
    "  console.log('App works...')\n",
    "\n",
    "  return (\n",
    "    // ..\n",
    "  )\n",
    "}\n",
    "```"
   ]
  },
  {
   "cell_type": "markdown",
   "metadata": {},
   "source": [
    "To see the printing in the console, we must scroll up over the long red wall of errors.\n",
    "\n",
    "![initial printing of the console](./images/image04.png)"
   ]
  },
  {
   "cell_type": "markdown",
   "metadata": {},
   "source": [
    "When one thing is found to be working, it's time to log deeper. If the component has been declared as a single statement or a function without a return, it makes printing to the console harder.\n",
    "\n",
    "```jsx\n",
    "const Course = ({ course }) => (\n",
    "  <div>\n",
    "    <Header course={course} />\n",
    "  </div>\n",
    ")\n",
    "```\n",
    "\n",
    "The component should be changed to its longer form for us to add the printing:\n",
    "\n",
    "```jsx\n",
    "const Course = ({ course }) => { \n",
    "  console.log(course)\n",
    "  return (\n",
    "    <div>\n",
    "      <Header course={course} />\n",
    "    </div>\n",
    "  )\n",
    "}\n",
    "```"
   ]
  },
  {
   "cell_type": "markdown",
   "metadata": {},
   "source": [
    "Quite often the root of the problem is that the props are expected to be of a different type, or called with a different name than they actually have, and destructuring fails as a result. The problem often begins to solve itself when destructuring is removed and we see what the `props` contain."
   ]
  },
  {
   "cell_type": "markdown",
   "metadata": {},
   "source": [
    "```jsx\n",
    "const Course = (props) => {\n",
    "  console.log(props)\n",
    "  const { course } = props\n",
    "  return (\n",
    "    <div>\n",
    "      <Header course={course} />\n",
    "    </div>\n",
    "  )\n",
    "}\n",
    "```"
   ]
  },
  {
   "cell_type": "markdown",
   "metadata": {},
   "source": [
    "If the problem has still not been resolved, sadly there isn't much to do apart from continuing to bug-hunt by sprinkling more `console.log` statements around your code.\n",
    "\n",
    "I added this chapter to the material after the model answer for the next question exploded completely (due to props being of the wrong type), and I had to debug it using `console.log`."
   ]
  },
  {
   "cell_type": "markdown",
   "metadata": {},
   "source": [
    "> ## Web developer's oath"
   ]
  },
  {
   "cell_type": "markdown",
   "metadata": {},
   "source": [
    "Before the exercises, let me remind what you promised at the end of the previous part.\n",
    "\n",
    "Programming is hard, that is why I will use all the possible means to make it easier\n",
    "\n",
    "- I will have my browser developer console open all the time\n",
    "- I progress with small steps\n",
    "- I will write lots of `console.log` statements to make sure I understand how the code behaves and to help pinpoint problems\n",
    "- If my code does not work, I will not write more code. Instead, I start deleting the code until it works or just return to a state when everything was still working\n",
    "- When I ask for help in the course Discord or Telegram channel or elsewhere I formulate my questions properly, see [here](https://fullstackopen.com/en/part0/general_info#how-to-get-help-in-discord-telegram) how to ask for help"
   ]
  },
  {
   "cell_type": "markdown",
   "metadata": {},
   "source": [
    "> ## Exercises 2.1. - 2.5."
   ]
  },
  {
   "cell_type": "markdown",
   "metadata": {},
   "source": [
    "The exercises are submitted via GitHub, and by marking the exercises as done in the [submission system]().\n",
    "\n",
    "You can submit all of the exercises into the same repository, or use multiple different repositories. If you submit exercises from different parts into the same repository, name your directories well.\n",
    "\n",
    "The exercises are submitted **One part at a time**. When you have submitted the exercises for a part, you can no longer submit any missed exercises for that part.\n",
    "\n",
    "Note that this part has more exercises than the ones before, so *do not submit* until you have done all the exercises from this part you want to submit."
   ]
  },
  {
   "cell_type": "markdown",
   "metadata": {},
   "source": [
    "> ## 2.1: Course information step 6"
   ]
  },
  {
   "cell_type": "markdown",
   "metadata": {},
   "source": [
    "Let's finish the code for rendering course contents from exercises 1.1 - 1.5. You can start with the code from the model answers. The model answers for part 1 can be found by going to the submission system, clicking on *my submissions* at the top, and in the row corresponding to part 1 under the *solutions* column clicking on *show*. To see the solution to the *course info* exercise, click on `index.js` under *kurssitiedot* (\"kurssitiedot\" means \"course info\").\n",
    "\n",
    "**Note that if you copy a project from one place to another, you might have to delete the *node_modules* directory and install the dependencies again with the command `**npm install**` before you can start the application.**\n",
    "\n",
    "Generally, it's not recommended that you copy a project's whole contents and/or add the *node_modules* directory to the version control system.\n",
    "\n",
    "Let's change the *App* component like so:"
   ]
  },
  {
   "cell_type": "markdown",
   "metadata": {},
   "source": [
    "```jsx\n",
    "const App = () => {\n",
    "  const course = {\n",
    "    id: 1,\n",
    "    name: 'Half Stack application development',\n",
    "    parts: [\n",
    "      {\n",
    "        name: 'Fundamentals of React',\n",
    "        exercises: 10,\n",
    "        id: 1\n",
    "      },\n",
    "      {\n",
    "        name: 'Using props to pass data',\n",
    "        exercises: 7,\n",
    "        id: 2\n",
    "      },\n",
    "      {\n",
    "        name: 'State of a component',\n",
    "        exercises: 14,\n",
    "        id: 3\n",
    "      }\n",
    "    ]\n",
    "  }\n",
    "\n",
    "  return <Course course={course} />\n",
    "}\n",
    "\n",
    "export default App\n",
    "```"
   ]
  },
  {
   "cell_type": "markdown",
   "metadata": {},
   "source": [
    "Define a component responsible for formatting a single course called *Course*.\n",
    "\n",
    "The component structure of the application can be, for example, the following:"
   ]
  },
  {
   "cell_type": "markdown",
   "metadata": {},
   "source": [
    "```\n",
    "App\n",
    "  Course\n",
    "    Header\n",
    "    Content\n",
    "      Part \n",
    "      Part\n",
    "```"
   ]
  },
  {
   "cell_type": "markdown",
   "metadata": {},
   "source": [
    "Hence, the *Course* component contains the components defined in the previous part, which are responsible for rendering the course name and its parts.\n",
    "\n",
    "The rendered page can, for example, look as follows:"
   ]
  },
  {
   "cell_type": "markdown",
   "metadata": {},
   "source": [
    "![](./images/image05.png)"
   ]
  },
  {
   "cell_type": "markdown",
   "metadata": {},
   "source": [
    "You don't need the sum of the exercises yet.\n",
    "\n",
    "The application must work *regardless of the number of parts a course has*, so make sure the application works if you add or remove parts of a course.\n",
    "\n",
    "Ensure that the console shows no errors!"
   ]
  },
  {
   "cell_type": "markdown",
   "metadata": {},
   "source": [
    "> ## 2.2: Course information step 7"
   ]
  },
  {
   "cell_type": "markdown",
   "metadata": {},
   "source": [
    "Show also the sum of the exercises of the course.\n",
    "\n",
    "![sum of exercises added feature](./images/image06.png)"
   ]
  },
  {
   "cell_type": "markdown",
   "metadata": {},
   "source": [
    "> ## 2.3*: Course information step 8"
   ]
  },
  {
   "cell_type": "markdown",
   "metadata": {},
   "source": [
    "If you haven't done so already, calculate the sum of exercises with the array method [reduce]().\n",
    "\n",
    "**Pro tip**: when your code looks as follows:\n",
    "\n",
    "```jsx\n",
    "const total = \n",
    "  parts.reduce((s, p) => someMagicHere)\n",
    "```\n",
    "\n",
    "and does not work, it's worth it to use *console.log*, which requires the arrow function to be written in its longer form:\n",
    "\n",
    "```jsx\n",
    "const total = parts.reduce((s, p) => {\n",
    "  console.log('what is happening', s, p)\n",
    "  return someMagicHere \n",
    "})\n",
    "```\n",
    "\n",
    "**Not working?** : Use your search engine to look up how reduce is used in an **Object Array**."
   ]
  },
  {
   "cell_type": "markdown",
   "metadata": {},
   "source": [
    "> ## 2.4: Course information step 9"
   ]
  },
  {
   "cell_type": "markdown",
   "metadata": {},
   "source": [
    "Let's extend our application to allow for an *arbitrary number* of courses:"
   ]
  },
  {
   "cell_type": "markdown",
   "metadata": {},
   "source": [
    "```jsx\n",
    "const App = () => {\n",
    "  const courses = [\n",
    "    {\n",
    "      name: 'Half Stack application development',\n",
    "      id: 1,\n",
    "      parts: [\n",
    "        {\n",
    "          name: 'Fundamentals of React',\n",
    "          exercises: 10,\n",
    "          id: 1\n",
    "        },\n",
    "        {\n",
    "          name: 'Using props to pass data',\n",
    "          exercises: 7,\n",
    "          id: 2\n",
    "        },\n",
    "        {\n",
    "          name: 'State of a component',\n",
    "          exercises: 14,\n",
    "          id: 3\n",
    "        },\n",
    "        {\n",
    "          name: 'Redux',\n",
    "          exercises: 11,\n",
    "          id: 4\n",
    "        }\n",
    "      ]\n",
    "    }, \n",
    "    {\n",
    "      name: 'Node.js',\n",
    "      id: 2,\n",
    "      parts: [\n",
    "        {\n",
    "          name: 'Routing',\n",
    "          exercises: 3,\n",
    "          id: 1\n",
    "        },\n",
    "        {\n",
    "          name: 'Middlewares',\n",
    "          exercises: 7,\n",
    "          id: 2\n",
    "        }\n",
    "      ]\n",
    "    }\n",
    "  ]\n",
    "\n",
    "  return (\n",
    "    <div>\n",
    "      // ...\n",
    "    </div>\n",
    "  )\n",
    "}\n",
    "```"
   ]
  },
  {
   "cell_type": "markdown",
   "metadata": {},
   "source": [
    "The application can, for example, look like this:\n",
    "\n",
    "![arbitrary number of courses feature add-on](./images/image07.png)"
   ]
  },
  {
   "cell_type": "markdown",
   "metadata": {},
   "source": [
    "> ## 2.5: Separate module step 10"
   ]
  },
  {
   "cell_type": "markdown",
   "metadata": {},
   "source": [
    "Declare the *Course* component as a separate module, which is imported by the *App* component. You can include all subcomponents of the course in the same module."
   ]
  },
  {
   "cell_type": "markdown",
   "metadata": {},
   "source": []
  }
 ],
 "metadata": {
  "language_info": {
   "name": "python"
  }
 },
 "nbformat": 4,
 "nbformat_minor": 2
}
