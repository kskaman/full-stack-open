{
 "cells": [
  {
   "cell_type": "markdown",
   "metadata": {},
   "source": [
    "> ## 3.1. Publishing a web page in the Cloud"
   ]
  },
  {
   "cell_type": "markdown",
   "metadata": {},
   "source": [
    "It is one thing to edit little snippets of HTML in our textbook, but that is not really what we want to learn. We want to make web pages that can be seen by friends and family around the world. To do that we need a web server, in a place this is available to people around the world.\n",
    "\n",
    "In earlier days this would involve buying some hardware, and configuring a web server like apache, getting an ISP and many other details that we don’t want to mess around with in this class. In modern times all of this infrastructure is available from several sources under the heading **PaaS** or Platform as a Service."
   ]
  },
  {
   "cell_type": "markdown",
   "metadata": {},
   "source": [
    "PaaS providers take care of all of the details of provisioning hardware, and network bandwidth for us. All we need to do is sign up for an account, and have our credit card ready to go. In fact for educational or hobbyist use, most of these companies provide their service for free. Only when you start to get big enough to make real money, do they start to charge you. Some of the companies that are in this business include:\n",
    "\n",
    "- Amazon Web Services\n",
    "- Digital Ocean\n",
    "- Heroku\n",
    "- Github"
   ]
  },
  {
   "cell_type": "markdown",
   "metadata": {},
   "source": [
    "One service that makes it very easy to publish your own blog or even a simple web page is a company called Github. Github is largely a company that helps you manage your software projects, but they have one simple service called “Github Pages” that works extremely well for our purposes. To make a web page available to the involves the following steps:\n",
    "\n",
    "- Make an account on [Github](https://github.com/signup)\n",
    "- Setup [Github Pages](https://pages.github.com/)\n",
    "- Edit your first webpage\n",
    "- Commit your webpage\n",
    "- Push your webpage\n",
    "\n",
    "You can follow the instructions for steps 1 and 2 as written by the folks at Github. They are very well written and easy to follow so I’m not going to try to rephrase what they have already done."
   ]
  },
  {
   "cell_type": "markdown",
   "metadata": {},
   "source": []
  }
 ],
 "metadata": {
  "language_info": {
   "name": "python"
  }
 },
 "nbformat": 4,
 "nbformat_minor": 2
}
