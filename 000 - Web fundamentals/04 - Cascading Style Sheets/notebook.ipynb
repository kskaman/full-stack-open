{
 "cells": [
  {
   "cell_type": "markdown",
   "metadata": {},
   "source": [
    "> ## 4. Cascading Style Sheets"
   ]
  },
  {
   "cell_type": "markdown",
   "metadata": {},
   "source": [
    "> ## 4.1. Introduction to CSS"
   ]
  },
  {
   "cell_type": "markdown",
   "metadata": {},
   "source": [
    "CSS stands for Cascading Style Sheets. Style sheets define how to display your html code. This was not always the case. In HTML 3 the designers of the language added tags like font and color. This was great for companies like Microsoft where you could export your word doc as html, but created a nightmare for developers of large sites that were not developed using WYSIWYG tools, and it made the html completely unreadable. So, in HTML 4.0 CSS was introduced to fix the problem we created for ourselves.\n",
    "\n",
    "CSS defines how the html should look, and it does this using a set of rules. We are all used to following certain rules in every day life: **If** it is raining, **then** take your umbrella. **If** the light is red, **then** come to a stop at the stoplight. In html terms we might say, **if** the tag is an `h1` **then** color it blue and set the font size to 28 points"
   ]
  },
  {
   "cell_type": "markdown",
   "metadata": {},
   "source": [
    "> ## 4.1.1. CSS Syntax"
   ]
  },
  {
   "cell_type": "markdown",
   "metadata": {},
   "source": [
    "To tell the computer about these if/then rules, we need a consistent syntax. The syntax for CSS has two parts, a selector and a declaration.\n",
    "\n",
    "```css\n",
    "selector {\n",
    "    declaration;\n",
    "    declaration;\n",
    "    }\n",
    "```\n",
    "\n",
    "The declaration itself consists of two parts: a property and a value. There are many many CSS properties and we willl look at a lot of them, but for now, just think of the property as something like color, font-size, font-family, etc."
   ]
  },
  {
   "cell_type": "markdown",
   "metadata": {},
   "source": [
    "Selectors can be as simple as a tag name, or a very complex pattern to match. We will start with some very simple selectors and work our way up to the more complex.\n",
    "\n",
    "Without further fuss, let’s look at a CSS rule for coloring h1 tags blue, and changing their font to 28 points.\n",
    "\n",
    "```css\n",
    "h1 {\n",
    "    color: blue;\n",
    "    font-size: 28pt;\n",
    "}\n",
    "```"
   ]
  },
  {
   "cell_type": "markdown",
   "metadata": {},
   "source": [
    "> ## 4.1.2. Including CSS in Your Page"
   ]
  },
  {
   "cell_type": "markdown",
   "metadata": {},
   "source": [
    "There are three ways to include CSS in your html document.\n",
    "\n",
    "- You can add a style attribute to a tag. This should not be used very often, if ever!\n",
    "- You can embed your CSS in your file inside a `style` tag. We’ll use this method in this book for convenience.\n",
    "- You can put all of your CSS in a separate style file and include the style file into your HTML. This is the preferred way of doing it because it achieves the greatest amount of separation between the content and how the content looks.\n",
    "\n",
    "Let’s now look at a complete example:"
   ]
  },
  {
   "cell_type": "markdown",
   "metadata": {},
   "source": [
    "```html\n",
    "<html>\n",
    "   <head>\n",
    "      <style>\n",
    "      h1 {\n",
    "         color: blue;\n",
    "         font-size: 28pt;\n",
    "      }\n",
    "      </style>\n",
    "   </head>\n",
    "   <body>\n",
    "      <h1>Hello World!!</h1>\n",
    "      <p>The paragraph text should be unchanged</p>\n",
    "      <h2>I am not blue!</h2>\n",
    "      <h1>Hello Again</h1>\n",
    "   </body>\n",
    "</html>\n",
    "\n",
    "```"
   ]
  },
  {
   "cell_type": "markdown",
   "metadata": {},
   "source": [
    "Rendered text : "
   ]
  },
  {
   "cell_type": "markdown",
   "metadata": {},
   "source": [
    "<html>\n",
    "   <head>\n",
    "      <style>\n",
    "      h1 {\n",
    "         color: blue;\n",
    "         font-size: 28pt;\n",
    "      }\n",
    "      </style>\n",
    "   </head>\n",
    "   <body>\n",
    "      <h1>Hello World!!</h1>\n",
    "      <p>The paragraph text should be unchanged</p>\n",
    "      <h2>I am not blue!</h2>\n",
    "      <h1>Hello Again</h1>\n",
    "   </body>\n",
    "</html>\n"
   ]
  },
  {
   "cell_type": "markdown",
   "metadata": {},
   "source": [
    "There are several things to notice about the example above. First the `h1` selector matches all of the h1 tags in the document. But it does not match the `h2` or the `p` tags. If you want to change the style of the paragraph you need to add another rule. Let’s try it: Add a rule to the style tag that colors the paragraph text green. Then make another rule that makes the h2 tag size 16pt and yellow.\n",
    "\n",
    "One thing to be careful about is to remember the semi-colons after the values. If you forget a semi-colon, then your rule will not work."
   ]
  },
  {
   "cell_type": "markdown",
   "metadata": {},
   "source": [
    "Using a separate css file is the most preferred way to organize your CSS. This allows you to use the same style in multiple web pages, and in a group setting makes it easy for one person to work on the style while another focuses on the content. CSS stylesheets are included in a web page by using the `link` tag in the `head` section of your page as follows:\n",
    "\n",
    "```css\n",
    "<link rel=\"stylesheet\" href=\"mystyle.css\" type=\"text/css\">\n",
    "```"
   ]
  },
  {
   "cell_type": "markdown",
   "metadata": {},
   "source": [
    "> ## 4.1.3. Cascading"
   ]
  },
  {
   "cell_type": "markdown",
   "metadata": {},
   "source": [
    "Since you can add style information about a tag in any or all of the three places, how is the style resolved if different sources provide conflicting information?\n",
    "\n",
    "Default rules from the browser are combined with rules from an external Style Sheet are combined with the rules contained in any style tags in the page itself. If there is a conflict then then internal style tag wins. These rules are then combined with any style information contained in a style attribute. If the style attribute conflicts with any previous informatin, it wins"
   ]
  },
  {
   "cell_type": "markdown",
   "metadata": {},
   "source": [
    "> ## 4.2. Changing the Style of an HTML Element"
   ]
  },
  {
   "cell_type": "markdown",
   "metadata": {},
   "source": [
    "There are many ways that we can change the style of what we see in the browser. In this section we will look at examples of the following:\n",
    "\n",
    "- background\n",
    "- text\n",
    "- font\n",
    "\n",
    "But before we talk about these, we need to think about colors. There are three different ways to specify the color.\n",
    "\n",
    "- by name, like blue, red, green. You can see a complete list of color names on the w3schools website.\n",
    "- using an RGB value like `rgb(255,0,0)`\n",
    "- using a HEX value like `#ff0000`"
   ]
  },
  {
   "cell_type": "markdown",
   "metadata": {},
   "source": [
    "Using either the RGB or the HEX value gives you total control to specify any of of 16 million different colors. There is a bit of interesting computer science behind the RGB and HEX values. The rgb function lets you specify a value between 0 and 255 for each component of red, green, and blue. By mixing together a certain amount of red, green, and blue you can create $255 \\cdot 255 \\cdot 255$ different colors, which is slightly more than 16.5 million. Now where does the number 255 come from? It is one less than $2^8$. Computer scientists like powers of two because when you get deeply into the inner workings of the computer you see that everything is in binary (ones or zeros) which we call bits. With eight bits we can specify 256 different values or 0 – 255. We call eight bits one byte.\n",
    "\n",
    "Now the HEX specification of the number is directly related to the binary as follows:"
   ]
  },
  {
   "cell_type": "markdown",
   "metadata": {},
   "source": [
    "| binary | hex | decimal |\n",
    "|-------|------|---------|\n",
    "|0000   |  0   |   0    |\n",
    "|0001   |  1   |   1    |\n",
    "|0010   |  2   |   2    |\n",
    "|0011   |  3   |   2    |\n",
    "|0100   |  4   |   4    |\n",
    "|0101   |  5   |   5    |\n",
    "|0110   |  6   |   6    |\n",
    "|0111   |  7   |   7    |\n",
    "|1000   |  8   |   8    |\n",
    "|1001   |  9   |   9    |\n",
    "|1010   | A   |   10    |\n",
    "|1011   |  B   |   11    |\n",
    "|1100   |  C   |   12    |\n",
    "|1101   |  D  |   13    |\n",
    "|1110   |  E   |   14    |\n",
    "|1111   |  F   |   15   |"
   ]
  },
  {
   "cell_type": "markdown",
   "metadata": {},
   "source": [
    "When specifying a color using the HEX system the first two characters are for the red, the second two for the green, and the last are for the blue. There are lots of color picking tools that you can use that will let you choose the color you want and then tell you the appropriate hex value."
   ]
  },
  {
   "cell_type": "markdown",
   "metadata": {},
   "source": [
    "> ## 4.2.1. Background"
   ]
  },
  {
   "cell_type": "markdown",
   "metadata": {},
   "source": [
    "CSS has the following properties which we can use to change the background.\n",
    "\n",
    "- background-color\n",
    "- background-image\n",
    "- background-repeat\n",
    "- background-attachment\n",
    "- background-position"
   ]
  },
  {
   "cell_type": "markdown",
   "metadata": {},
   "source": [
    "```html\n",
    "<html>\n",
    "   <head>\n",
    "      <style>\n",
    "      h1 {\n",
    "         color: blue;\n",
    "         font-size: 28pt;\n",
    "      }\n",
    "      body {\n",
    "          background-image: url(\"http://m.99wallpaper.com/images/7_1306/Black%20Background%20Wood%20-%202560x1600%20by%20Freeman.jpg\")\n",
    "      }\n",
    "      </style>\n",
    "   </head>\n",
    "   <body>\n",
    "      <h1>Hello World!!</h1>\n",
    "      <p>The paragraph text should be unchanged</p>\n",
    "      <h2>I am not blue!</h2>\n",
    "      <h1>Hello Again</h1>\n",
    "   </body>\n",
    "</html>\n",
    "```"
   ]
  },
  {
   "cell_type": "markdown",
   "metadata": {},
   "source": [
    "Renderd text : "
   ]
  },
  {
   "cell_type": "markdown",
   "metadata": {},
   "source": [
    "<html>\n",
    "   <head>\n",
    "      <style>\n",
    "      h1 {\n",
    "         color: blue;\n",
    "         font-size: 28pt;\n",
    "      }\n",
    "      body {\n",
    "          background-image: url(\"http://m.99wallpaper.com/images/7_1306/Black%20Background%20Wood%20-%202560x1600%20by%20Freeman.jpg\")\n",
    "      }\n",
    "      </style>\n",
    "   </head>\n",
    "   <body>\n",
    "      <h1>Hello World!!</h1>\n",
    "      <p>The paragraph text should be unchanged</p>\n",
    "      <h2>I am not blue!</h2>\n",
    "      <h1>Hello Again</h1>\n",
    "   </body>\n",
    "</html>"
   ]
  },
  {
   "cell_type": "markdown",
   "metadata": {},
   "source": [
    "> ## 4.2.2. Text"
   ]
  },
  {
   "cell_type": "markdown",
   "metadata": {},
   "source": [
    "- text-color\n",
    "- text-align\n",
    "- text-decoration\n",
    "- text-transformation"
   ]
  },
  {
   "cell_type": "markdown",
   "metadata": {},
   "source": [
    "> ## 4.2.3. Font"
   ]
  },
  {
   "cell_type": "markdown",
   "metadata": {},
   "source": [
    "- font-family\n",
    "- font-style\n",
    "- font-size"
   ]
  },
  {
   "cell_type": "markdown",
   "metadata": {},
   "source": [
    "> ## 4.3. More on Matching"
   ]
  },
  {
   "cell_type": "markdown",
   "metadata": {},
   "source": [
    "Now that we know how to change some style elements on tags we can move on and learn more about selectors and how to use selectors in conjunction with two new html attributes that give us a lot more flexibility in styling an html document."
   ]
  },
  {
   "cell_type": "markdown",
   "metadata": {},
   "source": [
    "> ## 4.3.1. Matching multiple tags"
   ]
  },
  {
   "cell_type": "markdown",
   "metadata": {},
   "source": [
    "suppose we want to have h1, h2, and h3 headers in blue, but h4, h5, and h6 headers in green? We do not have to write a separate rule for each header tag, we can write one rule that looks like this:"
   ]
  },
  {
   "cell_type": "markdown",
   "metadata": {},
   "source": [
    "```css\n",
    "h1,h2,h3 {\n",
    "    color: blue;\n",
    "}\n",
    "\n",
    "h4,h5,h6 {\n",
    "    color: green;\n",
    "}\n",
    "```"
   ]
  },
  {
   "cell_type": "markdown",
   "metadata": {},
   "source": [
    "You can read the commas between the tags as “or.” So the first of the above rules read as If the tag is h1 or h2 or h3 then change the color to blue.\n",
    "\n",
    "In the example below, add a rule so that the h2 and the paragraph have the color red."
   ]
  },
  {
   "cell_type": "markdown",
   "metadata": {},
   "source": [
    "```html\n",
    "<html>\n",
    "   <head>\n",
    "      <style>\n",
    "      h1 {\n",
    "         color: blue;\n",
    "         font-size: 28pt;\n",
    "      }\n",
    "      </style>\n",
    "   </head>\n",
    "   <body>\n",
    "      <h1>Hello World!!</h1>\n",
    "      <p>The paragraph text should be unchanged</p>\n",
    "      <h2>I am not blue!</h2>\n",
    "      <h1>Hello Again</h1>\n",
    "   </body>\n",
    "</html>\n",
    "```"
   ]
  },
  {
   "cell_type": "markdown",
   "metadata": {},
   "source": [
    "<html>\n",
    "   <head>\n",
    "      <style>\n",
    "      h1 {\n",
    "         color: blue;\n",
    "         font-size: 28pt;\n",
    "      }\n",
    "      </style>\n",
    "   </head>\n",
    "   <body>\n",
    "      <h1>Hello World!!</h1>\n",
    "      <p>The paragraph text should be unchanged</p>\n",
    "      <h2>I am not blue!</h2>\n",
    "      <h1>Hello Again</h1>\n",
    "   </body>\n",
    "</html>\n"
   ]
  },
  {
   "cell_type": "markdown",
   "metadata": {},
   "source": [
    "> ## 4.3.2. Using an id attribute in a rule"
   ]
  },
  {
   "cell_type": "markdown",
   "metadata": {},
   "source": [
    "Another common situation is that you have one particular paragraph that you want to have in a different color. You cannot just use a selector that matches the p tag as that will match all of the p tags. So in this case we need to somehow mark a particular paragraph so that we can have a selector that selects that paragraph and only that paragraph. This is where the `id` attribute is used. Any html tag can have an id attribute, which serves as a **unique identifier** for that tag. In fact, the value of the id attribute must be unique throughout the file."
   ]
  },
  {
   "cell_type": "markdown",
   "metadata": {},
   "source": [
    "In the example below we have two rules. One that changes the text to blue in all paragraphs. The second rule changes the font-size to 18pt for the paragraph that has the identifier of “abc456” The hashtag `#` is very important to this rule as it tells the css matcher that what comes after that hashtag must match the id attribute of some element. So, in fact the p is redundant in this example, and you could remove the p from the beginning of the selector and the rule would still work. In fact, you should try that now."
   ]
  },
  {
   "cell_type": "markdown",
   "metadata": {},
   "source": [
    "```html\n",
    "<html>\n",
    "   <head>\n",
    "      <style>\n",
    "      p {\n",
    "         color: blue;\n",
    "      }\n",
    "      p#abc456 {\n",
    "         font-size: 18pt;\n",
    "      }\n",
    "      </style>\n",
    "   </head>\n",
    "   <body>\n",
    "      <h1>Hello World!!</h1>\n",
    "      <p id=\"xyz123\">The paragraph text should be unchanged</p>\n",
    "      <h2>I am not blue!</h2>\n",
    "      <h1>Hello Again</h1>\n",
    "      <p id=\"abc456\">This is another paragraph with a different identifier.</p>\n",
    "   </body>\n",
    "</html>\n",
    "```"
   ]
  },
  {
   "cell_type": "markdown",
   "metadata": {},
   "source": [
    "<html>\n",
    "   <head>\n",
    "      <style>\n",
    "      p {\n",
    "         color: blue;\n",
    "      }\n",
    "      p#abc456 {\n",
    "         font-size: 18pt;\n",
    "      }\n",
    "      </style>\n",
    "   </head>\n",
    "   <body>\n",
    "      <h1>Hello World!!</h1>\n",
    "      <p id=\"xyz123\">The paragraph text should be unchanged</p>\n",
    "      <h2>I am not blue!</h2>\n",
    "      <h1>Hello Again</h1>\n",
    "      <p id=\"abc456\">This is another paragraph with a different identifier.</p>\n",
    "   </body>\n",
    "</html>\n"
   ]
  },
  {
   "cell_type": "markdown",
   "metadata": {},
   "source": [
    "What do you think will happen if you change the second rule so that it sets the color to red? If you said that it will keep the first paragraph’s color blue but change the second to red, your are correct. Why does the second rule over-rule the first? Because the second rule is more specific. You might have thought it was because of the order of the rules, but in fact you can change the order of the two rules and try it and you will see that you still get the same result."
   ]
  },
  {
   "cell_type": "markdown",
   "metadata": {},
   "source": [
    "> ## 4.3.3. Using the class attribute in a rule"
   ]
  },
  {
   "cell_type": "markdown",
   "metadata": {},
   "source": [
    "Sometimes you want to match some elements that are the same tag but not others. One example of this is when you want to have a “zebra striped” table, where every other line has a slightly different background color then you are going to want to use a `class` attribute. Classes and CSS may be the single most useful combination for styling your web pages."
   ]
  },
  {
   "cell_type": "markdown",
   "metadata": {},
   "source": [
    "Unlike the `id` attribute, many different tags can have the same value for a class. Some examples:\n",
    "\n",
    "You have paragraphs or headings and you want some normal, some are “warnings”, some are “errors”, and some are “cautions”. Or perhaps you have a list of things, some things one the list are hight priority, some are low, and some are medium. By using a class you can apply a consistent style to all of the things that belong to that class (have the same value for their class attribute.)\n",
    "\n",
    "To select any element that matches a particular class you use the `.` before the name of the class. So `.high` will match any tags that have the attribute `class=high`.\n",
    "\n",
    "Returning to our HTML table example we have some rows that are “odd” and some that are “even”. Let’s make a short table and style the odd and even rows differently."
   ]
  },
  {
   "cell_type": "markdown",
   "metadata": {},
   "source": [
    "```html\n",
    "<html>\n",
    "   <head>\n",
    "      <style>\n",
    "      .odd {\n",
    "         background-color: #9999ee;\n",
    "      }\n",
    "      .even {\n",
    "         background-color: pink;\n",
    "      }\n",
    "      </style>\n",
    "   </head>\n",
    "   <body>\n",
    "        <table>\n",
    "        <tr class=\"odd\"><td>aapl</td><td>$101.23</td></tr>\n",
    "        <tr class=\"even\"><td>goog</td><td>$583.10</td></tr>\n",
    "        <tr class=\"odd\"><td>tsla</td><td>$281.10</td></tr>\n",
    "        <tr class=\"even\"><td>amzn</td><td>$331.33</td></tr>\n",
    "        </table>\n",
    "   </body>\n",
    "</html>\n",
    "```"
   ]
  },
  {
   "cell_type": "markdown",
   "metadata": {},
   "source": [
    "<html>\n",
    "   <head>\n",
    "      <style>\n",
    "      .odd {\n",
    "         background-color: #9999ee;\n",
    "      }\n",
    "      .even {\n",
    "         background-color: pink;\n",
    "      }\n",
    "      </style>\n",
    "   </head>\n",
    "   <body>\n",
    "        <table>\n",
    "        <tr class=\"odd\"><td>aapl</td><td>$101.23</td></tr>\n",
    "        <tr class=\"even\"><td>goog</td><td>$583.10</td></tr>\n",
    "        <tr class=\"odd\"><td>tsla</td><td>$281.10</td></tr>\n",
    "        <tr class=\"even\"><td>amzn</td><td>$331.33</td></tr>\n",
    "        </table>\n",
    "   </body>\n",
    "</html>\n"
   ]
  },
  {
   "cell_type": "markdown",
   "metadata": {},
   "source": [
    "Now for some additional practice let’s make the table look really nice. Add a header and have the background of the header be light gray. Make the text of the header bold and slightly larger. Overall change the table so its width is 50% of the page and get rid of the page. This [page](https://www.w3schools.com/css/css_table.asp) gives you a complete rundown on how to style tables."
   ]
  },
  {
   "cell_type": "markdown",
   "metadata": {},
   "source": [
    "> ## 4.3.4. Matching Children"
   ]
  },
  {
   "cell_type": "markdown",
   "metadata": {},
   "source": [
    "When using the semantic html elements it is sometimes very desireable to match a particular tag, but only if that tag is in the article section. CSS allows us to match tags that are descendants of other tags by using a space after the parent tag. For example:"
   ]
  },
  {
   "cell_type": "markdown",
   "metadata": {},
   "source": [
    "```css\n",
    "article h1 {\n",
    "    color:  purple;\n",
    "}\n",
    "```"
   ]
  },
  {
   "cell_type": "markdown",
   "metadata": {},
   "source": [
    "Will change the color of the h1 but only if they are descendants of the article tag."
   ]
  },
  {
   "cell_type": "markdown",
   "metadata": {},
   "source": [
    "```html\n",
    "<html>\n",
    "   <head>\n",
    "      <style>\n",
    "      article h1 {\n",
    "          color: purple;\n",
    "      }\n",
    "      </style>\n",
    "   </head>\n",
    "   <body>\n",
    "   <h1>This is outside the article</h1>\n",
    "   <article>\n",
    "       <h1>This is inside the article</h1>\n",
    "       <section>\n",
    "           <h1>This is in a section of an article</h1>\n",
    "       </section>\n",
    "   </article>\n",
    "   </body>\n",
    "</html>\n",
    "```\n"
   ]
  },
  {
   "cell_type": "markdown",
   "metadata": {},
   "source": [
    "<html>\n",
    "   <head>\n",
    "      <style>\n",
    "      article h1 {\n",
    "          color: purple;\n",
    "      }\n",
    "      </style>\n",
    "   </head>\n",
    "   <body>\n",
    "   <h1>This is outside the article</h1>\n",
    "   <article>\n",
    "       <h1>This is inside the article</h1>\n",
    "       <section>\n",
    "           <h1>This is in a section of an article</h1>\n",
    "       </section>\n",
    "   </article>\n",
    "   </body>\n",
    "</html>\n"
   ]
  },
  {
   "cell_type": "markdown",
   "metadata": {},
   "source": [
    "In the example above, both of the h1’s inside the article were changed because they are both descendants of the article. If we only wanted to change the h1 that is a direct child of the article we can replace the space with a `>` giving us `article>h1` which indicates that only the immediate child should have its style changed."
   ]
  },
  {
   "cell_type": "markdown",
   "metadata": {},
   "source": []
  }
 ],
 "metadata": {
  "language_info": {
   "name": "python"
  }
 },
 "nbformat": 4,
 "nbformat_minor": 2
}
