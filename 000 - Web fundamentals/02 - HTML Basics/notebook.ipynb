{
 "cells": [
  {
   "cell_type": "markdown",
   "metadata": {},
   "source": [
    "> # 2. HTML Basics"
   ]
  },
  {
   "cell_type": "markdown",
   "metadata": {},
   "source": [
    "> ## 2.1. The HyperText Markup Language"
   ]
  },
  {
   "cell_type": "markdown",
   "metadata": {},
   "source": [
    "As we noted in the previous chapter, HTML is the language of the web for expressing content. But before we dive into the specifics of HTML, let’s look at what we mean by a markup language in general. A markup language is a language that **annotates** text so that the computer can manipulate it for some purpose. Most markup languages are readable by humans and are designed to be written with a plain text editor as rather than a fancy word processor like Microsoft Word.\n",
    "\n",
    "This book is written using a markup language called restructuredText restructuredText is similar to another very popular markup language called Markdown. Both of these languages are designed to be easily readable by humans, and yet easily translate into our language of choice for this class, HTML. Now you know about three markup languages:\n",
    "\n",
    "- HTML\n",
    "- Markdown\n",
    "- restructuredText"
   ]
  },
  {
   "cell_type": "markdown",
   "metadata": {},
   "source": [
    "The restructutedText markup for the content in this chapter so far looks like this:"
   ]
  },
  {
   "cell_type": "markdown",
   "metadata": {},
   "source": [
    "```restructedText\n",
    "The HyperText Markup Language\n",
    "=============================\n",
    "\n",
    "As we noted in the previous chapter, HTML is the language of the web for expressing content. But before we dive into the specifics of HTML, let's look at what we mean by a markup language in general.  A markup language is a language that **annotates** text so that the computer can manipulate it for some purpose.  Most markup languages are readable by humans and are designed to be written with a plain text editor as rather than a fancy word processor like Microsoft Word.\n",
    "\n",
    "This book is written using a markup language called `restructuredText <//http://sphinx-doc.org/rest.html>`_ restructuredText is similar to another very popular markup language called `Markdown <http://daringfireball.net/projects/markdown/syntax>`_.  Both of these languages are designed to be easily readable by humans, and yet easily translate into our language of choice for this class, HTML.  Now you know about three markup languages:\n",
    "\n",
    "* HTML\n",
    "* Markdown\n",
    "* restructuredText\n",
    "\n",
    "The restructutedText markup for the content in this chapter so far looks like this:\n",
    "```"
   ]
  },
  {
   "cell_type": "markdown",
   "metadata": {},
   "source": [
    "The annotations in the restructuredText are pretty unobtrusive, and actually add to the readability of the plain text in most cases. For example the `===` below the title of this chapter indicate that it is, in fact a title or heading. regular paragraphs require no extra annotation. To make something bold you surround it by double asterisks. If you want to make a bullet list, you just start the line with an asterisk."
   ]
  },
  {
   "cell_type": "markdown",
   "metadata": {},
   "source": [
    "Most documents have a reasonably limited set of elements including the following:\n",
    "\n",
    "- Paragraphs\n",
    "- Title\n",
    "- Headings and subheadings and subsubheadings\n",
    "- bullet lists\n",
    "- numbered lists\n",
    "- tables of data\n",
    "- figures or images\n",
    "- text that is bold, or italic\n",
    "- page headers\n",
    "- page footers"
   ]
  },
  {
   "cell_type": "markdown",
   "metadata": {},
   "source": [
    "As we learn HTML it’s important to keep in mind that the job of html is to structure the document and provide content. We’ll worry about making things look pretty until we get to CSS.\n",
    "\n",
    "HTML uses a set of tags to annotate(mark up) the document. The tags all look like this: `< tagname >` and they are balanced so that at the end of the content for that tag there is `</ tagname >`. Notice that the closing tag contains a slash at the beginning to differentiate itself from an opening tag.\n",
    "\n",
    "An HTML document then just contains a series of these balanced tags. Let’s look at a small document that looks like this:"
   ]
  },
  {
   "cell_type": "markdown",
   "metadata": {},
   "source": [
    "```html\n",
    "<html>\n",
    "    <head>\n",
    "        <title>Test Page</title>\n",
    "    </head>\n",
    "    <body>\n",
    "        <h1>My First Heading</h1>\n",
    "        <p>A simple paragraph of text</p>\n",
    "        <p>Another paragraph of text</p>\n",
    "    </body>\n",
    "</html>\n",
    "```"
   ]
  },
  {
   "cell_type": "markdown",
   "metadata": {},
   "source": [
    "Before we move on to talk more about specific HTML tags it’s useful to think about the page that is produced and the structure of the page. You get a sense of the structure from the indentation I have provided, but it’s useful to look at this from another perspective. Figure 2 illustrates a “tree view” of an HTML page."
   ]
  },
  {
   "cell_type": "markdown",
   "metadata": {},
   "source": [
    "![](./images/image01.svg)\n",
    "\n",
    "*Figure 2. A tree view of the html page*"
   ]
  },
  {
   "cell_type": "markdown",
   "metadata": {},
   "source": [
    "This tree is upside down with how we usually think of a tree, but in computer science we put the “root” of the tree at the top. So the root of this tree is the html tag. The html tag has two **children**, the head and the body. The head has one child, which is the title tag. The html tag is the **parent** of the head tag. The body has three children, the h1 tag and two p tags. You may also find it helpful to think of this as an outline, although you would have to rotate the picture 90 degrees counter clockwise to get the orientation into outline form. We will see how this tree structure of an html page is useful later on when we start to use CSS and Javascript."
   ]
  },
  {
   "cell_type": "markdown",
   "metadata": {},
   "source": [
    "> ## 2.2. Basic HTML Tags"
   ]
  },
  {
   "cell_type": "markdown",
   "metadata": {},
   "source": [
    "> ## 2.2.1. Headings"
   ]
  },
  {
   "cell_type": "markdown",
   "metadata": {},
   "source": [
    "Like any document HTML documents may have several layers of headings. In fact you can have heading levels from 1 to 6 in an HTML document.\n",
    "\n",
    "```html\n",
    "<h1>Level one</h1>\n",
    "<h2>Level two</h2>\n",
    "<h3>Level three</h3>\n",
    "<h4>Level four</h4>\n",
    "<h5>Level five</h5>\n",
    "<h6>Level six</h6>\n",
    "```"
   ]
  },
  {
   "cell_type": "markdown",
   "metadata": {},
   "source": [
    "Rendered text on browser : "
   ]
  },
  {
   "cell_type": "markdown",
   "metadata": {},
   "source": [
    "<h1>Level one</h1>\n",
    "<h2>Level two</h2>\n",
    "<h3>Level three</h3>\n",
    "<h4>Level four</h4>\n",
    "<h5>Level five</h5>\n",
    "<h6>Level six</h6>"
   ]
  },
  {
   "cell_type": "markdown",
   "metadata": {},
   "source": [
    "Another aspect of the heading tag is that it is what we call a **block** tag. Each heading appears on its own line. Thats pretty much what we would expect for a heading. But not necessarily for other tags. shortly, we will see some **inline** tags that do not each appear on their own line."
   ]
  },
  {
   "cell_type": "markdown",
   "metadata": {},
   "source": [
    "> ## 2.2.2. Paragraphs"
   ]
  },
  {
   "cell_type": "markdown",
   "metadata": {},
   "source": [
    "Paragraphs are another funamental element of documents. Paragraphs are also another example of a block element in that each paragraph gets its own space and is separated from other html elements by blank lines in the document."
   ]
  },
  {
   "cell_type": "markdown",
   "metadata": {},
   "source": [
    "```html\n",
    "<p>This is a short sentence.</p>\n",
    "<p>This is a paragraph.  What happens when we have a really really really long line that takes up more than one line of the browser? </p>\n",
    "<p>Level this is a short sentence</p>\n",
    "```"
   ]
  },
  {
   "cell_type": "markdown",
   "metadata": {},
   "source": [
    "Rendered text on browser : "
   ]
  },
  {
   "cell_type": "markdown",
   "metadata": {},
   "source": [
    "\n",
    "<p>This is a short sentence.</p>\n",
    "<p>This is a paragraph.  What happens when we have a really really really long line that takes up more than one line of the browser? </p>\n",
    "<p>Level this is a short sentence</p>\n"
   ]
  },
  {
   "cell_type": "markdown",
   "metadata": {},
   "source": [
    "What happens when you put a paragraph inside another paragraph? What about a header inside a paragraph?"
   ]
  },
  {
   "cell_type": "markdown",
   "metadata": {},
   "source": [
    "> ## 2.2.3. Images"
   ]
  },
  {
   "cell_type": "markdown",
   "metadata": {},
   "source": [
    "Images are another common element of a document or a web page. To include an image in a document you must use an `img` tag. Image tags are an example of an **inline** element because they just flow in with the surrounding text. They do not force a new block to be created in the rendering of the html. Here are a couple of images:"
   ]
  },
  {
   "cell_type": "markdown",
   "metadata": {},
   "source": [
    "![](./images/image02.jpg)\n",
    "\n",
    "Luther Bell: \n",
    "\n",
    "https://runestone.academy/ns/books/published/webfundamentals/_images/LutherBellPic.jpg"
   ]
  },
  {
   "cell_type": "markdown",
   "metadata": {},
   "source": [
    "![](./images/image03.png)\n",
    "\n",
    "Norse Logo: \n",
    "\n",
    "https://runestone.academy/ns/books/published/webfundamentals/_images/norse-logo.png"
   ]
  },
  {
   "cell_type": "markdown",
   "metadata": {},
   "source": [
    "The image tag has a new component to it called an attribute. In general tags can have many attributes in the case of an image we can inlude it by using a `src` attribute that contains the URL to the image we want to embed. We can embed any image on the internet in our own document by referring to it by its URL in the `src` attribute."
   ]
  },
  {
   "cell_type": "markdown",
   "metadata": {},
   "source": [
    "```html\n",
    "<h1>Embedded Images</h1>\n",
    "<p>Images are inline elements they fit in the flow\n",
    "<img src=\"https://runestone.academy/ns/books/published/webfundamentals/_images/LutherBellPic.jpg\">\n",
    "of a paragraph without causing extra line breaks.</p>\n",
    "```"
   ]
  },
  {
   "cell_type": "markdown",
   "metadata": {},
   "source": [
    "Rendered text on browser : "
   ]
  },
  {
   "cell_type": "markdown",
   "metadata": {},
   "source": [
    "<h1>Embedded Images</h1>\n",
    "<p>Images are inline elements they fit in the flow\n",
    "<img src=\"https://runestone.academy/ns/books/published/webfundamentals/_images/LutherBellPic.jpg\">\n",
    "of a paragraph without causing extra line breaks.</p>"
   ]
  },
  {
   "cell_type": "markdown",
   "metadata": {},
   "source": [
    "Try modifying the example above so that it includes the norse logo rather than the bell. You can also change the height and width of an image by using a `height=` attribute or a `width=` attribute. Try changing the size of the image in the example above. Notice what it does to the flow. Try changing just one of height or width and then try changing both at the same time. You can stretch your image in all kinds of crazy ways.\n",
    "\n",
    "There are several other attributes of the image tag as well. You can read about them [here](https://www.w3schools.com/tags/tag_img.asp)."
   ]
  },
  {
   "cell_type": "markdown",
   "metadata": {},
   "source": [
    "> ## 2.2.4. Links"
   ]
  },
  {
   "cell_type": "markdown",
   "metadata": {},
   "source": [
    "The last basic link to cover in this section is the link tag `a`. In fact the last sentence of the previous section used a link to send you to the w3schools website to learn more about the attributes of an `img` tag. Links are what made the web so popular in the first place. Today we call them links, but in earlier years they were usually referred to as Hyperlinks. You can provide a link to any URL on the web using the `href` attribute on the `a` tag. The text that you will click on goes between the opening `a` tag and the closing `a` tag."
   ]
  },
  {
   "cell_type": "markdown",
   "metadata": {},
   "source": [
    "```html\n",
    "<h1>Links make the web!</h1>\n",
    "<p>Links are another inline element.  You can read about links and their attributes\n",
    "<a href=\"http://www.w3schools.com/tags/tag_a.asp\">Here</a> on the w3schools website.</p>\n",
    "\n",
    "```"
   ]
  },
  {
   "cell_type": "markdown",
   "metadata": {},
   "source": [
    "Rendered Text : "
   ]
  },
  {
   "cell_type": "markdown",
   "metadata": {},
   "source": [
    "<h1>Links make the web!</h1>\n",
    "<p>Links are another inline element.  You can read about links and their attributes\n",
    "<a href=\"http://www.w3schools.com/tags/tag_a.asp\">Here</a> on the w3schools website.</p>\n"
   ]
  },
  {
   "cell_type": "markdown",
   "metadata": {},
   "source": [
    "Try clicking on the link in the example above. What happens? How do you get back? Don’t worry, you can always just reload this page.\n",
    "\n",
    "Links can also be used to navigate within the same page. to do this you use one `a` tag to create an anchor point on the page using the name attribute like this: `<a name=\"target\">I am a target</a>` You can create a link that will jump to the target anywhere else on the page using `<a href=\"#target\">Go to Target</a>`."
   ]
  },
  {
   "cell_type": "markdown",
   "metadata": {},
   "source": [
    "> ## 2.2.5. Simple Text Formatting"
   ]
  },
  {
   "cell_type": "markdown",
   "metadata": {},
   "source": [
    "Making text bold or italic and other formatting is easy in HTML as well. The following example illustrates the basic text formatting tags."
   ]
  },
  {
   "cell_type": "markdown",
   "metadata": {},
   "source": [
    "```html\n",
    "<html>\n",
    "<body>\n",
    "\n",
    "<p><b>This text is bold</b></p>\n",
    "<p><strong>This text is strong</strong></p>\n",
    "<p><i>This text is italic</i></p>\n",
    "<p><em>This text is emphasized</em></p>\n",
    "<p><code>This is computer output</code></p>\n",
    "<p>This is<sub> subscript</sub> and <sup>superscript</sup></p>\n",
    "<p>This <br /> forces <br /> a <br /> line break </p>\n",
    "</body>\n",
    "</html>\n",
    "```"
   ]
  },
  {
   "cell_type": "markdown",
   "metadata": {},
   "source": [
    "Rendered Text : "
   ]
  },
  {
   "cell_type": "markdown",
   "metadata": {},
   "source": [
    "<html>\n",
    "<body>\n",
    "\n",
    "<p><b>This text is bold</b></p>\n",
    "<p><strong>This text is strong</strong></p>\n",
    "<p><i>This text is italic</i></p>\n",
    "<p><em>This text is emphasized</em></p>\n",
    "<p><code>This is computer output</code></p>\n",
    "<p>This is<sub> subscript</sub> and <sup>superscript</sup></p>\n",
    "<p>This <br /> forces <br /> a <br /> line break </p>\n",
    "</body>\n",
    "</html>"
   ]
  },
  {
   "cell_type": "markdown",
   "metadata": {},
   "source": [
    "You can mix and match these styles in all kinds of ways. Try making a superscript inside a superscript. Try making the subscript bold or italic."
   ]
  },
  {
   "cell_type": "markdown",
   "metadata": {},
   "source": [
    "> ## 2.3. Advanced HTML Tags"
   ]
  },
  {
   "cell_type": "markdown",
   "metadata": {},
   "source": [
    "> ## 2.3.1. Unordered Lists"
   ]
  },
  {
   "cell_type": "markdown",
   "metadata": {},
   "source": [
    "```html\n",
    "<ul>\n",
    "<li>This is an unordered list</li>\n",
    "<li>The <code>li</code> tags come between two <code>ul</code> tags\n",
    "</ul>\n",
    "```"
   ]
  },
  {
   "cell_type": "markdown",
   "metadata": {},
   "source": [
    "Rendered text:"
   ]
  },
  {
   "cell_type": "markdown",
   "metadata": {},
   "source": [
    "<ul>\n",
    "<li>This is an unordered list</li>\n",
    "<li>The <code>li</code> tags come between two <code>ul</code> tags\n",
    "</ul>"
   ]
  },
  {
   "cell_type": "markdown",
   "metadata": {},
   "source": [
    "> ## 2.3.2. Ordered Lists"
   ]
  },
  {
   "cell_type": "markdown",
   "metadata": {},
   "source": [
    "```html\n",
    "<ol>\n",
    "<li>This is an ordered list</li>\n",
    "<li>The <code>li</code> tags come between two <code>ol</code> tags\n",
    "<li>Notice that the <code>li</code> tags are used for both.\n",
    "</ol>\n",
    "```"
   ]
  },
  {
   "cell_type": "markdown",
   "metadata": {},
   "source": [
    "Rendered text : "
   ]
  },
  {
   "cell_type": "markdown",
   "metadata": {},
   "source": [
    "<ol>\n",
    "<li>This is an ordered list</li>\n",
    "<li>The <code>li</code> tags come between two <code>ol</code> tags\n",
    "<li>Notice that the <code>li</code> tags are used for both.\n",
    "</ol>"
   ]
  },
  {
   "cell_type": "markdown",
   "metadata": {},
   "source": [
    "The ol tag can also have a type attribute. The type attribute can be one of the following values\n",
    "\n",
    "- `1` This will cause the list to be numbered with numbers\n",
    "- `A` This will cause the list to be ordered with upper case letters\n",
    "- `a` This will cause the list to be ordered with lower case letters\n",
    "- `I` This will cause the list to be ordered with upper case roman numerals\n",
    "- `i` This will cause the list to be ordered with lower case roman numerals"
   ]
  },
  {
   "cell_type": "markdown",
   "metadata": {},
   "source": [
    "> ## 2.3.3. Descriptive Lists"
   ]
  },
  {
   "cell_type": "markdown",
   "metadata": {},
   "source": [
    "```html\n",
    "<dl>\n",
    "<dt>Description list</dt><dd>A list for defining terms</dd>\n",
    "<dt>dt</dt><dd>The <code>dt</code> tags are for the term</dd>\n",
    "<dt>dd</dt><dd>The <code>dd</code> tags are for the description</dd>\n",
    "</dl>\n",
    "```"
   ]
  },
  {
   "cell_type": "markdown",
   "metadata": {},
   "source": [
    "Rendered text : "
   ]
  },
  {
   "cell_type": "markdown",
   "metadata": {},
   "source": [
    "<dl>\n",
    "<dt>Description list</dt><dd>A list for defining terms</dd>\n",
    "<dt>dt</dt><dd>The <code>dt</code> tags are for the term</dd>\n",
    "<dt>dd</dt><dd>The <code>dd</code> tags are for the description</dd>\n",
    "</dl>"
   ]
  },
  {
   "cell_type": "markdown",
   "metadata": {},
   "source": [
    ">## 2.3.4. Nesting Lists"
   ]
  },
  {
   "cell_type": "markdown",
   "metadata": {},
   "source": [
    "Lists can be inside of other lists. Too. This is very much true of most HTML tags."
   ]
  },
  {
   "cell_type": "markdown",
   "metadata": {},
   "source": [
    "```html\n",
    "<ol>\n",
    "<li>This is an ordered list</li>\n",
    "<li>The <code>li</code> tags come between two <code>ol</code> tags\n",
    "<li>Notice that the <code>li</code> tags are used for both.\n",
    "<ul>\n",
    "<li>This is an unordered list</li>\n",
    "<li>The <code>li</code> tags come between two <code>ul</code> tags</li>\n",
    "</ul>\n",
    "<li>You can mix and match lists like this as deeply as you want.</li>\n",
    "</ol>\n",
    "```"
   ]
  },
  {
   "cell_type": "markdown",
   "metadata": {},
   "source": [
    "Rendered text : "
   ]
  },
  {
   "cell_type": "markdown",
   "metadata": {},
   "source": [
    "<ol>\n",
    "<li>This is an ordered list</li>\n",
    "<li>The <code>li</code> tags come between two <code>ol</code> tags\n",
    "<li>Notice that the <code>li</code> tags are used for both.\n",
    "<ul>\n",
    "<li>This is an unordered list</li>\n",
    "<li>The <code>li</code> tags come between two <code>ul</code> tags</li>\n",
    "</ul>\n",
    "<li>You can mix and match lists like this as deeply as you want.</li>\n",
    "</ol>"
   ]
  },
  {
   "cell_type": "markdown",
   "metadata": {},
   "source": [
    "> ## 2.3.5. Tables"
   ]
  },
  {
   "cell_type": "markdown",
   "metadata": {},
   "source": [
    "Tables have many uses, you can use them for organizing data as you normally would in a report where you have rows and columns of numbers or other information, but you can also use tables invisibly to influence how your page is displayed. In the early days of html it was common to use a table to create a two column page layout. We can still do that but now it is **much more acceptable** to use CSS for that purpose.\n",
    "\n",
    "Here is a complete example that illustrates the use of the following table specific tags\n",
    "\n",
    "- `table` – This is the main tag for a table\n",
    "- `tr` – every row in a table starts with a `tr` tag\n",
    "- `td` – every column in a row is delineated by a `td` tag\n",
    "- `th` – You can use the `th` tag in place of the td tag in the first row to make headings"
   ]
  },
  {
   "cell_type": "markdown",
   "metadata": {},
   "source": [
    "```html\n",
    "<table width='100%' border=1px cellspacing=0>\n",
    " <caption>Table of Scores</caption>\n",
    " <tr>\n",
    "     <th>Number</th>\n",
    "     <th>First Name</th>\n",
    "     <th>Last Name</th>\n",
    "     <th>Points</th>\n",
    " </tr>\n",
    " <tr>\n",
    "     <td>1</td>\n",
    "     <td>Russell</td>\n",
    "     <td>Jackson</td>\n",
    "     <td>94</td>\n",
    " </tr>\n",
    " <tr>\n",
    "     <td>2</td>\n",
    "     <td>John</td>\n",
    "     <td>Deere</td>\n",
    "     <td>80</td>\n",
    " </tr>\n",
    " <tr>\n",
    "     <td>3</td>\n",
    "     <td>Nikola</td>\n",
    "     <td>Tesla</td>\n",
    "     <td>100</td>\n",
    " </tr>\n",
    " <tr>\n",
    "     <td>4</td>\n",
    "     <td>Richard</td>\n",
    "     <td>Smith</td>\n",
    "     <td>50</td>\n",
    " </tr>\n",
    " </table>\n",
    "```\n"
   ]
  },
  {
   "cell_type": "markdown",
   "metadata": {},
   "source": [
    "Rendered text : "
   ]
  },
  {
   "cell_type": "markdown",
   "metadata": {},
   "source": [
    "<table width='100%' border=1px cellspacing=0>\n",
    " <caption>Table of Scores</caption>\n",
    " <tr>\n",
    "     <th>Number</th>\n",
    "     <th>First Name</th>\n",
    "     <th>Last Name</th>\n",
    "     <th>Points</th>\n",
    " </tr>\n",
    " <tr>\n",
    "     <td>1</td>\n",
    "     <td>Russell</td>\n",
    "     <td>Jackson</td>\n",
    "     <td>94</td>\n",
    " </tr>\n",
    " <tr>\n",
    "     <td>2</td>\n",
    "     <td>John</td>\n",
    "     <td>Deere</td>\n",
    "     <td>80</td>\n",
    " </tr>\n",
    " <tr>\n",
    "     <td>3</td>\n",
    "     <td>Nikola</td>\n",
    "     <td>Tesla</td>\n",
    "     <td>100</td>\n",
    " </tr>\n",
    " <tr>\n",
    "     <td>4</td>\n",
    "     <td>Richard</td>\n",
    "     <td>Smith</td>\n",
    "     <td>50</td>\n",
    " </tr>\n",
    " </table>\n"
   ]
  },
  {
   "cell_type": "markdown",
   "metadata": {},
   "source": [
    "There are many attributes you can use with the various table tags.\n",
    "\n",
    "- table * `width` - you can specify a width as a percentage or as a number of pixels. This attribute is useful for right now, but it’s use is not encouraged, as you are better off to use CSS to control the look of your table. We say that this attribute is deprecated * border - you can add borders to your tables as in the example above, but this tag is deprecated as well. * The spacing between the cells of the table. Also deprecated.\n",
    "\n",
    "- td * `colspan` – if you have a particular table where you need an extra wide column in some rows you can make a cell of your table span more than one column using the colspan attribute. Its value is the number of columns.\n",
    "\n",
    "- tr * `rowspan` – If you have a particular table where you need an column to span multiple rows you can make a cell of your table span more than one row using the rowspan attribute. Its value is the number of rows."
   ]
  },
  {
   "cell_type": "markdown",
   "metadata": {},
   "source": [
    "> ## 2.3.6. Audio"
   ]
  },
  {
   "cell_type": "markdown",
   "metadata": {},
   "source": [
    "Embedding audio in your webpage allows you to link to various files containing music or speech. The audio tag looks like the following:"
   ]
  },
  {
   "cell_type": "markdown",
   "metadata": {},
   "source": [
    "```html\n",
    "<audio controls>\n",
    "    <source src=\"horse.ogg\" type=\"audio/ogg\">\n",
    "    <source src=\"horse.mp3\" type=\"audio/mpeg\">\n",
    "    Your browser does not support the audio element.\n",
    "</audio>\n",
    "```"
   ]
  },
  {
   "cell_type": "markdown",
   "metadata": {},
   "source": [
    "<audio controls>\n",
    "    <source src=\"horse.ogg\" type=\"audio/ogg\">\n",
    "    <source src=\"horse.mp3\" type=\"audio/mpeg\">\n",
    "    Your browser does not support the audio element.\n",
    "</audio>"
   ]
  },
  {
   "cell_type": "markdown",
   "metadata": {},
   "source": [
    "The `controls` attribute provides start/stop/fast-forward/rewind buttons for the listener. The `source` tags inside the `audio` tag allow you to provide several different audio formats. This is because different browsers support different kinds of audio The browser will go through the list, in order, until it finds a format it understands, or else, it will replace the controller with the message at the end."
   ]
  },
  {
   "cell_type": "markdown",
   "metadata": {},
   "source": [
    "> ## 2.3.7. Video"
   ]
  },
  {
   "cell_type": "markdown",
   "metadata": {},
   "source": [
    "Embedding video in your webpage allows you to link to various files containing movies."
   ]
  },
  {
   "cell_type": "markdown",
   "metadata": {},
   "source": [
    "<video height=312 width= 540 controls>\n",
    "    <source src=\"movie.mp4\" type=\"video/mp4\">\n",
    "    <source src=\"movie.ogg\" type=\"video/ogg\">\n",
    "    Your browser does not support the video element.\n",
    "</video>"
   ]
  },
  {
   "cell_type": "markdown",
   "metadata": {},
   "source": [
    "The `controls` attribute provides start/stop/fast-forward/rewind buttons for the listener. The `source` tags inside the `video` tag allow you to provide several different video formats. This is because different browsers support different kinds of video The browser will go through the list, in order, until it finds a format it understands, or else, it will replace the controller with the message at the end."
   ]
  },
  {
   "cell_type": "markdown",
   "metadata": {},
   "source": [
    "> ## 2.3.8. IFrames"
   ]
  },
  {
   "cell_type": "markdown",
   "metadata": {},
   "source": [
    "IFrames allow you to embed a webpage within another webpage."
   ]
  },
  {
   "cell_type": "markdown",
   "metadata": {},
   "source": [
    "> ## 2.4. Semantic HTML Tags"
   ]
  },
  {
   "cell_type": "markdown",
   "metadata": {},
   "source": [
    "Some tags in HTML are designed for you to use in creating a logical structure for your page. As you have probably noticed many sites have a navigation bar in the header, and have some information about the page in a footer. Many web pages have sidebars, and of course blogs and many news sites are divided into articles. Scholarly web sites are divided into parts and sections.\n",
    "\n",
    "You have probably also noticed that it is pretty easy to tell the different parts of a web page apart because they have a distinct look to them. In order to give different sections different looks we need to provide some structure within our markup. This is done by using structural tags as follows:"
   ]
  },
  {
   "cell_type": "markdown",
   "metadata": {},
   "source": [
    "- article\n",
    "- aside\n",
    "- details\n",
    "- figcaption\n",
    "- figure\n",
    "- footer\n",
    "- header\n",
    "- main\n",
    "- mark\n",
    "- nav\n",
    "- section\n",
    "- summary\n",
    "- time"
   ]
  },
  {
   "cell_type": "markdown",
   "metadata": {},
   "source": [
    "These tags are all block level tags, but other than that they have no impact on how the page looks without the use of CSS! Figure 1 illustrates how many of these tags are used to create structure in a page."
   ]
  },
  {
   "cell_type": "markdown",
   "metadata": {},
   "source": [
    "![](./images/image04.gif)\n",
    "\n",
    "*Figure used in accordance with the educational fair use policy of w3schools.com*"
   ]
  },
  {
   "cell_type": "markdown",
   "metadata": {},
   "source": [
    "Let’s look at an example that uses some of these tags:"
   ]
  },
  {
   "cell_type": "markdown",
   "metadata": {},
   "source": [
    "```html\n",
    "<html>\n",
    "<body>\n",
    "<header>\n",
    "<p>This is text in the header</p>\n",
    "</header>\n",
    "<aside>\n",
    "<p>This is a side comment</p>\n",
    "</aside>\n",
    "<article>\n",
    "<p>This is some text for an article</p>\n",
    "</article>\n",
    "<p>Notice that there is nothing special about the location of any of this text.  Without CSS the semantic tags simply divide the document logically</p>\n",
    "</body>\n",
    "</html>\n",
    "```"
   ]
  },
  {
   "cell_type": "markdown",
   "metadata": {},
   "source": [
    "Rendered text : "
   ]
  },
  {
   "cell_type": "markdown",
   "metadata": {},
   "source": [
    "<html>\n",
    "<body>\n",
    "<header>\n",
    "<p>This is text in the header</p>\n",
    "</header>\n",
    "<aside>\n",
    "<p>This is a side comment</p>\n",
    "</aside>\n",
    "<article>\n",
    "<p>This is some text for an article</p>\n",
    "</article>\n",
    "<p>Notice that there is nothing special about the location of any of this text.  Without CSS the semantic tags simply divide the document logically</p>\n",
    "</body>\n",
    "</html>"
   ]
  },
  {
   "cell_type": "markdown",
   "metadata": {},
   "source": [
    "> **Historical Note**\n",
    ">\n",
    "> All of the tags mentioned above were added to the HTML5 standard. Before HTML5 there were only two of these invisible structural tags. You will see many examples of the use of these tags:\n",
    ">\n",
    "> - div\n",
    "> - span\n",
    ">\n",
    "> These tags served the same purpose, usually by using an id or class attribute to indicate their semantic purpose."
   ]
  },
  {
   "cell_type": "markdown",
   "metadata": {},
   "source": []
  }
 ],
 "metadata": {
  "language_info": {
   "name": "python"
  }
 },
 "nbformat": 4,
 "nbformat_minor": 2
}
