{
 "cells": [
  {
   "cell_type": "markdown",
   "metadata": {},
   "source": [
    "> ## Deploying app to internet"
   ]
  },
  {
   "cell_type": "markdown",
   "metadata": {},
   "source": [
    "Next, let's connect the frontend we made in [part 2](https://fullstackopen.com/en/part2) to our own backend.\n",
    "\n",
    "In the previous part, the frontend could ask for the list of notes from the json-server we had as a backend, from the address http://localhost:3001/notes. Our backend has a slightly different URL structure now, as the notes can be found at http://localhost:3001/api/notes. Let's change the attribute **baseUrl** in the frontend notes app at *src/services/notes.js* like so:\n",
    "\n",
    "```jsx\n",
    "import axios from 'axios'\n",
    "const baseUrl = 'http://localhost:3001/api/notes'\n",
    "\n",
    "const getAll = () => {\n",
    "  const request = axios.get(baseUrl)\n",
    "  return request.then(response => response.data)\n",
    "}\n",
    "\n",
    "// ...\n",
    "\n",
    "export default { getAll, create, update }\n",
    "```\n",
    "\n",
    "Now frontend's GET request to http://localhost:3001/api/notes does not work for some reason:"
   ]
  },
  {
   "cell_type": "markdown",
   "metadata": {},
   "source": [
    "![Get request showing error in dev tools](./images/image23.png)\n",
    "\n",
    "What's going on here? We can access the backend from a browser and from postman without any problems."
   ]
  },
  {
   "cell_type": "markdown",
   "metadata": {},
   "source": [
    "> ## Same origin policy and CORS"
   ]
  },
  {
   "cell_type": "markdown",
   "metadata": {},
   "source": [
    "The issue lies with a thing called `same origin policy`. A URL's origin is defined by the combination of protocol (AKA scheme), hostname, and port.\n",
    "\n",
    "```cmd\n",
    "http://example.com:80/index.html\n",
    "  \n",
    "protocol: http\n",
    "host: example.com\n",
    "port: 80\n",
    "```\n",
    "\n",
    "When you visit a website (e.g. http://catwebsites.com), the browser issues a request to the server on which the website (catwebsites.com) is hosted. The response sent by the server is an HTML file that may contain one or more references to external assets/resources hosted either on the same server that *catwebsites.com* is hosted on or a different website. When the browser sees reference(s) to a URL in the source HTML, it issues a request. If the request is issued using the URL that the source HTML was fetched from, then the browser processes the response without any issues. However, if the resource is fetched using a URL that doesn't share the same origin(scheme, host, port) as the source HTML, the browser will have to check the `Access-Control-Allow-origin` response header. If it contains `*` on the URL of the source HTML, the browser will process the response, otherwise the browser will refuse to process it and throws an error."
   ]
  },
  {
   "cell_type": "markdown",
   "metadata": {},
   "source": [
    "The **same-origin policy** is a security mechanism implemented by browsers in order to prevent session hijacking among other security vulnerabilities.\n",
    "\n",
    "In order to enable legitimate cross-origin requests (requests to URLs that don't share the same origin) W3C came up with a mechanism called **CORS**(Cross-Origin Resource Sharing). According to [Wikipedia](https://en.wikipedia.org/wiki/Cross-origin_resource_sharing):\n",
    "\n",
    "> Cross-origin resource sharing (CORS) is a mechanism that allows restricted resources (e.g. fonts) on a web page to be requested from another domain outside the domain from which the first resource was served. A web page may freely embed cross-origin images, stylesheets, scripts, iframes, and videos. Certain \"cross-domain\" requests, notably Ajax requests, are forbidden by default by the same-origin security policy.\n",
    "\n",
    "The problem is that, by default, the JavaScript code of an application that runs in a browser can only communicate with a server in the same [origin](https://developer.mozilla.org/en-US/docs/Web/Security/Same-origin_policy). Because our server is in localhost port 3001, while our frontend is in localhost port 5173, they do not have the same origin.\n",
    "\n",
    "Keep in mind, that [same-origin policy](https://developer.mozilla.org/en-US/docs/Web/Security/Same-origin_policy) and CORS are not specific to React or Node. They are universal principles regarding the safe operation of web applications."
   ]
  },
  {
   "cell_type": "markdown",
   "metadata": {},
   "source": [
    "We can allow requests from other origins by using Node's [cors](https://github.com/expressjs/cors) middleware.\n",
    "\n",
    "In your backend repository, install *cors* with the command\n",
    "\n",
    "```cmd\n",
    "npm install cors\n",
    "```\n",
    "\n",
    "take the middleware to use and allow for requests from all origins:\n",
    "\n",
    "```jsx\n",
    "const cors = require('cors')\n",
    "\n",
    "app.use(cors())\n",
    "```\n",
    "\n",
    "**Note**: When you are enabling cors, you should think about how you want to configure it. In the case of our application, since the backend is not expected to be visible to the public in the production environment, it may make more sense to only enable cors from a specific origin (e.g. the front end).\n",
    "\n",
    "Now most of the features in the frontend work! The functionality for changing the importance of notes has not yet been implemented on the backend so naturally that does not yet work in the frontend. We shall fix that later."
   ]
  },
  {
   "cell_type": "markdown",
   "metadata": {},
   "source": [
    "You can read more about CORS from [Mozilla's page]().\n",
    "\n",
    "The setup of our app looks now as follows:\n",
    "\n",
    "![diagram of react app and browser](./images/image24.png)\n",
    "\n",
    "The react app running in the browser now fetches the data from node/express-server that runs in localhost:3001."
   ]
  },
  {
   "cell_type": "markdown",
   "metadata": {},
   "source": [
    "> ## Application to the Internet"
   ]
  },
  {
   "cell_type": "markdown",
   "metadata": {},
   "source": [
    "Now that the whole stack is ready, let's move our application to Internet.\n",
    "\n",
    "There is an ever-growing number of services that can be used to host an app on the internet. The developer-friendly services like PaaS (i.e. Platform as a Service) take care of installing the execution environment (eg. Node.js) and could also provide various services such as databases.\n",
    "\n",
    "For a decade, [Heroku](https://www.heroku.com/) was dominating the PaaS scene. Unfortunately the free tier Heroku ended at 27th November 2022. This is very unfortunate for many developers, especially students. Heroku is still very much a viable option if you are willing to spend some money. They also have [a student program]() that provides some free credits.\n",
    "\n",
    "We are now introducing two services [Fly.io](https://fly.io/) and [Render](https://render.com/) that both have a (limited) free plan. Fly.io is our \"official\" hosting service since it can be for sure used also on parts 11 and 13 of the course. Render will be fine at least for the other parts of this course."
   ]
  },
  {
   "cell_type": "markdown",
   "metadata": {},
   "source": [
    "Note that despite using the free tier only, Fly.io *might* require one to enter their credit card details. At the moment Render can be used without a credit card.\n",
    "\n",
    "Render might be a bit easier to use since it does not require any software to be installed on your machine.\n",
    "\n",
    "There are also some other free hosting options that work well for this course, at least for all parts other than part 11 (CI/CD) which might have one tricky exercise for other platforms.\n",
    "\n",
    "Some course participants have also used the following services:\n",
    "\n",
    "- [Cyclic](https://www.cyclic.sh/)\n",
    "- [Replit](https://replit.com/)\n",
    "- [CodeSandBox](https://codesandbox.io/)\n",
    "\n",
    "If you know some other good and easy-to-use services for hosting NodeJS, please let us know!\n",
    "\n",
    "For both Fly.io and Render, we need to change the definition of the port our application uses at the bottom of the *index.js* file in the backend like so:\n",
    "\n",
    "```jsx\n",
    "const PORT = process.env.PORT || 3001\n",
    "app.listen(PORT, () => {\n",
    "  console.log(`Server running on port ${PORT}`)\n",
    "})\n",
    "```"
   ]
  },
  {
   "cell_type": "markdown",
   "metadata": {},
   "source": [
    "Now we are using the port defined in the [environment variable](https://en.wikipedia.org/wiki/Environment_variable) `PORT` or port 3001 if the environment variable `PORT` is undefined. Fly.io and Render configure the application port based on that environment variable."
   ]
  },
  {
   "cell_type": "markdown",
   "metadata": {},
   "source": [
    "> ## Fly.io"
   ]
  },
  {
   "cell_type": "markdown",
   "metadata": {},
   "source": [
    "*Note that you may need to give your credit card number to Fly.io even if you are using only the free tier!* There has been actually conflicting reports about this, it is known for a fact that some of the students in this course are using Fly.io without entering their credit card info. At the moment [Render](https://render.com/) can be used without a credit card.\n",
    "\n",
    "By default, everyone gets two free virtual machines that can be used for running two apps at the same time.\n",
    "\n",
    "If you decide to use [Fly.io](https://fly.io/) begin by installing their flyctl executable following [this guide](https://fly.io/docs/flyctl/install/). After that, you should [create a Fly.io account](https://fly.io/docs/getting-started/sign-up-sign-in/).\n",
    "\n",
    "Start by [authenticating](https://fly.io/docs/getting-started/sign-up-sign-in/) via the command line with the command\n",
    "\n",
    "```cmd\n",
    "fly auth login\n",
    "```"
   ]
  },
  {
   "cell_type": "markdown",
   "metadata": {},
   "source": [
    "Note if the command `fly` does not work on your machine, you can try the longer version `flyctl`. Eg. on MacOS, both forms of the command work.\n",
    "\n",
    "*If you do not get the flyctl to work in your machine, you could try Render (see next section), it does not require anything to be installed in your machine.*\n",
    "\n",
    "Initializing an app happens by running the following command in the root directory of the app\n",
    "\n",
    "```cmd\n",
    "fly launch --no-deploy\n",
    "```\n",
    "\n",
    "Give the app a name or let Fly.io auto-generate one. Pick a region where the app will be run. Do not create a Postgres database for the app and do not create an Upstash Redis database, since these are not needed."
   ]
  },
  {
   "cell_type": "markdown",
   "metadata": {},
   "source": [
    "Fly.io creates a file *fly.toml* in the root of your app where we can configure it. To get the app up and running we *might* need to do a small addition to the configuration:\n",
    "\n",
    "```cmd\n",
    "[build]\n",
    "\n",
    "[env]\n",
    "  PORT = \"3000\" # add this\n",
    "\n",
    "[http_service]\n",
    "  internal_port = 3000 # ensure that this is same as PORT\n",
    "  force_https = true\n",
    "  auto_stop_machines = true\n",
    "  auto_start_machines = true\n",
    "  min_machines_running = 0\n",
    "  processes = [\"app\"]\n",
    "```\n",
    "\n",
    "We have now defined in the part [env] that environment variable PORT will get the correct port (defined in part [http_service]) where the app should create the server."
   ]
  },
  {
   "cell_type": "markdown",
   "metadata": {},
   "source": [
    "We are now ready to deploy the app to the Fly.io servers. That is done with the following command:\n",
    "\n",
    "```cmd\n",
    "fly deploy\n",
    "```\n",
    "\n",
    "If all goes well, the app should now be up and running. You can open it in the browser with the command\n",
    "\n",
    "```cmd\n",
    "fly apps open\n",
    "```\n",
    "\n",
    "A particularly important command is `fly logs`. This command can be used to view server logs. It is best to keep logs always visible!\n",
    "\n",
    "**Note**: Fly may create 2 machines for your app, if it does then the state of the data in your app will be inconsistent between requests, i.e. you would have two machines each with its own notes variable, you could POST to one machine then your next GET could go to another machine. You can check the number of machines by using the command \"\\$ fly scale show\", if the COUNT is greater than 1 then you can enforce it to be 1 with the command \"\\$ fly scale count 1\". The machine count can also be checked on the dashboard."
   ]
  },
  {
   "cell_type": "markdown",
   "metadata": {},
   "source": [
    "**Note**: In some cases (the cause is so far unknown) running Fly.io commands especially on Windows WSL (Windows Subsystem for Linux) has caused problems. If the following command just hangs\n",
    "\n",
    "```cmd\n",
    "flyctl ping -o personal\n",
    "```\n",
    "\n",
    "your computer can not for some reason connect to Fly.io. If [this](https://github.com/fullstack-hy2020/misc/blob/master/fly_io_problem.md) happens to you, this describes one possible way to proceed.\n",
    "\n",
    "If the output of the below command looks like this:\n",
    "\n",
    "```cmd\n",
    "$ flyctl ping -o personal\n",
    "35 bytes from fdaa:0:8a3d::3 (gateway), seq=0 time=65.1ms\n",
    "35 bytes from fdaa:0:8a3d::3 (gateway), seq=1 time=28.5ms\n",
    "35 bytes from fdaa:0:8a3d::3 (gateway), seq=2 time=29.3ms\n",
    "...\n",
    "```\n",
    "\n",
    "then there are no connection problems!\n",
    "\n",
    "Whenever you make changes to the application, you can take the new version to production with a command\n",
    "\n",
    "```cmd\n",
    "fly deploy\n",
    "```"
   ]
  },
  {
   "cell_type": "markdown",
   "metadata": {},
   "source": [
    "> ## Render"
   ]
  },
  {
   "cell_type": "markdown",
   "metadata": {},
   "source": [
    "The following assumes that the [sign in](https://dashboard.render.com/) has been made with a GitHub account.\n",
    "\n",
    "After signing in, let us create a new \"web service\":\n",
    "\n",
    "![Image showing the option to create a new Web Service](./images/image25.png)\n",
    "\n",
    "The app repository is then connected to Render:\n",
    "\n",
    "![Image showing the application repository on Render.](./images/image26.png)"
   ]
  },
  {
   "cell_type": "markdown",
   "metadata": {},
   "source": [
    "The connection seems to require that the app repository is public.\n",
    "\n",
    "Next we will define the basic configurations. If the app is *not* at the root of the repository the *Root directory* needs to be given a proper value:\n",
    "\n",
    "![image showing the Root Directory field as optional](./images/image27.png)"
   ]
  },
  {
   "cell_type": "markdown",
   "metadata": {},
   "source": [
    "After this, the app starts up in the Render. The dashboard tells us the app state and the url where the app is running:\n",
    "\n",
    "![The top left corner of the image shows the status of the application and its URL](./images/image28.png)"
   ]
  },
  {
   "cell_type": "markdown",
   "metadata": {},
   "source": [
    "According to the [documentation](https://docs.render.com/deploys) every commit to GitHub should redeploy the app. For some reason this is not always working.\n",
    "\n",
    "Fortunately, it is also possible to manually redeploy the app:\n",
    "\n",
    "![Menu with the option to deploy latest commit highlighted](./images/image29.png)\n",
    "\n",
    "Also, the app logs can be seen in the dashboard:\n",
    "\n",
    "![Image with the logs tab highlighted on the left corner. On the right side, the application logs](./images/image30.png)"
   ]
  },
  {
   "cell_type": "markdown",
   "metadata": {},
   "source": [
    "We notice now from the logs that the app has been started in the port 10000. The app code gets the right port through the environment variable PORT so it is essential that the file *index.js* has been updated in the backend as follows:\n",
    "\n",
    "```jsx\n",
    "const PORT = process.env.PORT || 3001\n",
    "app.listen(PORT, () => {\n",
    "  console.log(`Server running on port ${PORT}`)\n",
    "})\n",
    "```"
   ]
  },
  {
   "cell_type": "markdown",
   "metadata": {},
   "source": [
    "> ## Frontend production build"
   ]
  },
  {
   "cell_type": "markdown",
   "metadata": {},
   "source": [
    "So far we have been running React code in *development mode*. In development mode the application is configured to give clear error messages, immediately render code changes to the browser, and so on.\n",
    "\n",
    "When the application is deployed, we must create a [production build](https://vitejs.dev/guide/build.html) or a version of the application that is optimized for production.\n",
    "\n",
    "A production build for applications created with Vite can be created with the command [npm run build](https://vitejs.dev/guide/build.html).\n",
    "\n",
    "Let's run this command from the *root of the notes frontend project* that we developed in [Part 2](https://fullstackopen.com/en/part2).\n",
    "\n",
    "This creates a directory called dist which contains the only HTML file of our application (*index.html*) and the directory *assets*. [Minified](https://en.wikipedia.org/wiki/Minification_(programming)) version of our application's JavaScript code will be generated in the *dist* directory. Even though the application code is in multiple files, all of the JavaScript will be minified into one file. All of the code from all of the application's dependencies will also be minified into this single file.\n",
    "\n",
    "The minified code is not very readable. The beginning of the code looks like this:"
   ]
  },
  {
   "cell_type": "markdown",
   "metadata": {},
   "source": [
    "```js\n",
    "!function(e){function r(r){for(var n,f,i=r[0],l=r[1],a=r[2],c=0,s=[];c<i.length;c++)f=i[c],o[f]&&s.push(o[f][0]),o[f]=0;for(n in l)Object.prototype.hasOwnProperty.call(l,n)&&(e[n]=l[n]);for(p&&p(r);s.length;)s.shift()();return u.push.apply(u,a||[]),t()}function t(){for(var e,r=0;r<u.length;r++){for(var t=u[r],n=!0,i=1;i<t.length;i++){var l=t[i];0!==o[l]&&(n=!1)}n&&(u.splice(r--,1),e=f(f.s=t[0]))}return e}var n={},o={2:0},u=[];function f(r){if(n[r])return n[r].exports;var t=n[r]={i:r,l:!1,exports:{}};return e[r].call(t.exports,t,t.exports,f),t.l=!0,t.exports}f.m=e,f.c=n,f.d=function(e,r,t){f.o(e,r)||Object.defineProperty(e,r,{enumerable:!0,get:t})},f.r=function(e){\"undefined\"!==typeof Symbol&&Symbol.toStringTag&&Object.defineProperty(e,Symbol.toStringTag,{value:\"Module\"})\n",
    "```"
   ]
  },
  {
   "cell_type": "markdown",
   "metadata": {},
   "source": [
    "> ## Serving static files from the backend"
   ]
  },
  {
   "cell_type": "markdown",
   "metadata": {},
   "source": [
    "One option for deploying the frontend is to copy the production build (the *dist* directory) to the root of the backend repository and configure the backend to show the frontend's *main page* (the file *dist/index.html*) as its main page.\n",
    "\n",
    "We begin by copying the production build of the frontend to the root of the backend. With a Mac or Linux computer, the copying can be done from the frontend directory with the command\n",
    "\n",
    "```cmd\n",
    "cp -r dist ../backend\n",
    "```\n",
    "\n",
    "If you are using a Windows computer, you may use either [copy](https://www.windows-commandline.com/windows-copy-command-syntax-examples/) or [xcopy](https://www.windows-commandline.com/xcopy-command-syntax-examples/) command instead. Otherwise, simply copy and paste.\n",
    "\n",
    "The backend directory should now look as follows:\n",
    "\n",
    "![bash screenshot of ls showing dist directory](./images/image31.png)"
   ]
  },
  {
   "cell_type": "markdown",
   "metadata": {},
   "source": [
    "To make Express show *static* content, the page *index.html* and the JavaScript, etc., it fetches, we need a built-in middleware from Express called [static](https://expressjs.com/en/starter/static-files.html).\n",
    "\n",
    "When we add the following amidst the declarations of middlewares\n",
    "\n",
    "```js\n",
    "app.use(express.static('dist'))\n",
    "```\n",
    "whenever Express gets an HTTP GET request it will first check if the dist directory contains a file corresponding to the request's address. If a correct file is found, Express will return it.\n",
    "\n",
    "Now HTTP GET requests to the address *www.serversaddress.com/index.html* or *www.serversaddress.com* will show the React frontend. GET requests to the address *www.serversaddress.com/api/notes* will be handled by the backend code.\n",
    "\n",
    "Because of our situation, both the frontend and the backend are at the same address, we can declare `baseUrl` as a [relative](https://www.w3.org/TR/WD-html40-970917/htmlweb.html#h-5.1.2) URL. This means we can leave out the part declaring the server."
   ]
  },
  {
   "cell_type": "markdown",
   "metadata": {},
   "source": [
    "```jsx\n",
    "import axios from 'axios'\n",
    "\n",
    "const baseUrl = '/api/notes'\n",
    "\n",
    "const getAll = () => {\n",
    "  const request = axios.get(baseUrl)\n",
    "  return request.then(response => response.data)\n",
    "}\n",
    "\n",
    "// ...\n",
    "```"
   ]
  },
  {
   "cell_type": "markdown",
   "metadata": {},
   "source": [
    "After the change, we have to create a new production build of the frontend and copy it to the root of the backend repository.\n",
    "\n",
    "The application can now be used from the backend address http://localhost:3001:\n",
    "\n",
    "![Notes application in localhost:3001]()\n",
    "\n",
    "Our application now works exactly like the [single-page app](https://fullstackopen.com/en/part0/fundamentals_of_web_apps#single-page-app) example application we studied in part 0."
   ]
  },
  {
   "cell_type": "markdown",
   "metadata": {},
   "source": [
    "When we use a browser to go to the address http://localhost:3001, the server returns the index.html file from the *dist* directory. The contents of the file are as follows:\n",
    "\n",
    "```html\n",
    "<!doctype html>\n",
    "<html lang=\"en\">\n",
    "  <head>\n",
    "    <meta charset=\"UTF-8\" />\n",
    "    <link rel=\"icon\" type=\"image/svg+xml\" href=\"/vite.svg\" />\n",
    "    <meta name=\"viewport\" content=\"width=device-width, initial-scale=1.0\" />\n",
    "    <title>Vite + React</title>\n",
    "    <script type=\"module\" crossorigin src=\"/assets/index-5f6faa37.js\"></script>\n",
    "    <link rel=\"stylesheet\" href=\"/assets/index-198af077.css\">\n",
    "  </head>\n",
    "  <body>\n",
    "    <div id=\"root\"></div>\n",
    "    \n",
    "  </body>\n",
    "</html>\n",
    "```\n",
    "\n",
    "The file contains instructions to fetch a CSS stylesheet defining the styles of the application, and one *script* tag that instructs the browser to fetch the JavaScript code of the application - the actual React application."
   ]
  },
  {
   "cell_type": "markdown",
   "metadata": {},
   "source": [
    "The React code fetches notes from the server address http://localhost:3001/api/notes and renders them to the screen. The communication between the server and the browser can be seen in the Network tab of the developer console:\n",
    "\n",
    "![Network tab of notes application on backend](./images/image32.png)"
   ]
  },
  {
   "cell_type": "markdown",
   "metadata": {},
   "source": [
    "The setup that is ready for a product deployment looks as follows:\n",
    "\n",
    "![diagram of deployment ready react app](./images/image33.png)\n",
    "\n",
    "Unlike when running the app in a development environment, everything is now in the same node/express-backend that runs in localhost:3001. When the browser goes to the page, the file *index.html* is rendered. That causes the browser to fetch the production version of the React app. Once it starts to run, it fetches the json-data from the address localhost:3001/api/notes."
   ]
  },
  {
   "cell_type": "markdown",
   "metadata": {},
   "source": [
    "> ## The whole app to the internet"
   ]
  },
  {
   "cell_type": "markdown",
   "metadata": {},
   "source": [
    "After ensuring that the production version of the application works locally, commit the production build of the frontend to the backend repository, and push the code to GitHub again.\n",
    "\n",
    "**NB** If you use Render, make sure the directory *dist* is not ignored by git on the backend.\n",
    "\n",
    "If you are using Render a push to GitHub *might* be enough. If the automatic deployment does not work, select the \"manual deploy\" from the Render dashboard.\n",
    "\n",
    "In the case of Fly.io the new deployment is done with the command\n",
    "\n",
    "```cmd\n",
    "fly deploy\n",
    "```\n",
    "\n",
    "The application works perfectly, except we haven't added the functionality for changing the importance of a note to the backend yet.\n",
    "\n",
    "**NOTE**: When using Fly.io, be aware that the `.dockerignore` file in your project directory lists files not uploaded during deployment. The dist directory is included by default. To deploy this directory, remove its reference from the .dockerignore file, ensuring your app is get properly deployed."
   ]
  },
  {
   "cell_type": "markdown",
   "metadata": {},
   "source": [
    "![](./images/image34.png)"
   ]
  },
  {
   "cell_type": "markdown",
   "metadata": {},
   "source": [
    "**NOTE**: *changing the importance DOES NOT work yet since the backend has no implementation for it yet.*\n",
    "\n",
    "Our application saves the notes to a variable. If the application crashes or is restarted, all of the data will disappear.\n",
    "\n",
    "The application needs a database. Before we introduce one, let's go through a few things.\n",
    "\n",
    "The setup now looks like as follows:\n",
    "\n",
    "![](./images/image35.png)"
   ]
  },
  {
   "cell_type": "markdown",
   "metadata": {},
   "source": [
    "The node/express-backend now resides in the Fly.io/Render server. When the root address is accessed, the browser loads and executes the React app that fetches the json-data from the Fly.io/Render server."
   ]
  },
  {
   "cell_type": "markdown",
   "metadata": {},
   "source": [
    "> ## Streamlining deploying of the frontend"
   ]
  },
  {
   "cell_type": "markdown",
   "metadata": {},
   "source": [
    "To create a new production build of the frontend without extra manual work, let's add some npm-scripts to the *package.json* of the backend repository.\n",
    "\n",
    "**Fly.io script**\n",
    "\n",
    "The scripts look like this:\n",
    "\n",
    "```json\n",
    "{\n",
    "  \"scripts\": {\n",
    "    // ...\n",
    "    \"build:ui\": \"rm -rf dist && cd ../notes-frontend/ && npm run build && cp -r dist ../notes-backend\",\n",
    "    \"deploy\": \"fly deploy\",\n",
    "    \"deploy:full\": \"npm run build:ui && npm run deploy\",    \n",
    "    \"logs:prod\": \"fly logs\"\n",
    "  }\n",
    "}\n",
    "```"
   ]
  },
  {
   "cell_type": "markdown",
   "metadata": {},
   "source": [
    "**Note for Windows users**\n",
    "\n",
    "Note that the standard shell commands in `build:ui` do not natively work in Windows. Powershell in Windows works differently, in which case the script could be written as\n",
    "\n",
    "```js\n",
    "\"build:ui\": \"@powershell Remove-Item -Recurse -Force dist && cd ../frontend && npm run build && @powershell Copy-Item dist -Recurse ../backend\",\n",
    "```\n",
    "\n",
    "If the script does not work on Windows, confirm that you are using Powershell and not Command Prompt. If you have installed Git Bash or another Linux-like terminal, you may be able to run Linux-like commands on Windows as well.\n",
    "\n",
    "The script `npm run build:ui` builds the frontend and copies the production version under the backend repository. The script `npm run deploy` releases the current backend to Fly.io.\n",
    "\n",
    "`npm run deploy:full` combines these two scripts, i.e., `npm run build:ui` and `npm run deploy`.\n",
    "\n",
    "There is also a script `npm run logs:prod` to show the Fly.io logs.\n",
    "\n",
    "Note that the directory paths in the script *build:ui* depend on the location of repositories in the file system."
   ]
  },
  {
   "cell_type": "markdown",
   "metadata": {},
   "source": [
    "**Render**\n",
    "\n",
    "Note: When you attempt to deploy your backend to Render, make sure you have a separate repository for the backend and deploy that github repo through Render, attempting to deploy through your Fullstackopen repository will often throw \"ERR path ....package.json\".\n",
    "\n",
    "In case of Render, the scripts look like the following\n",
    "\n",
    "```js\n",
    "{\n",
    "  \"scripts\": {\n",
    "    //...\n",
    "    \"build:ui\": \"rm -rf dist && cd ../frontend && npm run build && cp -r dist ../backend\",\n",
    "    \"deploy:full\": \"npm run build:ui && git add . && git commit -m uibuild && git push\"\n",
    "  }\n",
    "}\n",
    "```\n",
    "\n",
    "The script `npm run build:ui` builds the frontend and copies the production version under the backend repository. `npm run deploy:full` contains also the necessary git commands to update the backend repository.\n",
    "\n",
    "Note that the directory paths in the script *build:ui* depend on the location of repositories in the file system.\n",
    "\n",
    "> **NB** On Windows, npm scripts are executed in cmd.exe as the default shell which does not support bash commands. For the above bash commands to work, you can change the default shell to Bash (in the default Git for Windows installation) as follows:\n",
    "\n",
    "```cmd\n",
    "npm config set script-shell \"C:\\\\Program Files\\\\git\\\\bin\\\\bash.exe\"\n",
    "```"
   ]
  },
  {
   "cell_type": "markdown",
   "metadata": {},
   "source": [
    "Another option is the use of [shx](https://www.npmjs.com/package/shx)."
   ]
  },
  {
   "cell_type": "markdown",
   "metadata": {},
   "source": [
    "> ## Proxy"
   ]
  },
  {
   "cell_type": "markdown",
   "metadata": {},
   "source": [
    "Changes on the frontend have caused it to no longer work in development mode (when started with command `npm run dev`), as the connection to the backend does not work.\n",
    "\n",
    "![Network dev tools showing a 404 on getting notes](./images/image36.png)"
   ]
  },
  {
   "cell_type": "markdown",
   "metadata": {},
   "source": [
    "This is due to changing the backend address to a relative URL:\n",
    "\n",
    "```jsx\n",
    "const baseUrl = '/api/notes'\n",
    "```\n",
    "\n",
    "Because in development mode the frontend is at the address *localhost:5173*, the requests to the backend go to the wrong address *localhost:5173/api/notes*. The backend is at *localhost:3001*.\n",
    "\n",
    "If the project was created with Vite, this problem is easy to solve. It is enough to add the following declaration to the *vite.config.js* file of the frontend repository."
   ]
  },
  {
   "cell_type": "markdown",
   "metadata": {},
   "source": [
    "```jsx\n",
    "import { defineConfig } from 'vite'\n",
    "import react from '@vitejs/plugin-react'\n",
    "\n",
    "// https://vitejs.dev/config/\n",
    "export default defineConfig({\n",
    "  plugins: [react()],\n",
    "\n",
    "  server: {\n",
    "    proxy: {\n",
    "      '/api': {\n",
    "        target: 'http://localhost:3001',\n",
    "        changeOrigin: true,\n",
    "      },\n",
    "    }\n",
    "  },\n",
    "})\n",
    "```"
   ]
  },
  {
   "cell_type": "markdown",
   "metadata": {},
   "source": [
    "After a restart, the React development environment will work as a [proxy](https://vitejs.dev/config/server-options.html#server-proxy). If the React code does an HTTP request to a server address at http://localhost:5173 not managed by the React application itself (i.e. when requests are not about fetching the CSS or JavaScript of the application), the request will be redirected to the server at http://localhost:3001.\n",
    "\n",
    "Note that with the vite-configuration shown above, only requests that are made to paths starting with */api*-are redirected to the server.\n",
    "\n",
    "Now the frontend is also fine, working with the server both in development and production mode.\n",
    "\n",
    "A negative aspect of our approach is how complicated it is to deploy the frontend. Deploying a new version requires generating a new production build of the frontend and copying it to the backend repository. This makes creating an automated [deployment pipeline](https://martinfowler.com/bliki/DeploymentPipeline.html) more difficult. Deployment pipeline means an automated and controlled way to move the code from the computer of the developer through different tests and quality checks to the production environment. Building a deployment pipeline is the topic of [part 11](https://fullstackopen.com/en/part11) of this course. There are multiple ways to achieve this, for example, placing both backend and frontend code in the same repository but we will not go into those now.\n",
    "\n",
    "In some situations, it may be sensible to deploy the frontend code as its own application.\n",
    "\n",
    "The current backend code can be found on [Github](https://github.com/fullstack-hy2020/part3-notes-backend/tree/part3-3), in the branch part3-3. The changes in frontend code are in part3-1 branch of the [frontend repository](https://github.com/fullstack-hy2020/part2-notes-frontend/tree/part3-1)."
   ]
  },
  {
   "cell_type": "markdown",
   "metadata": {},
   "source": [
    "> ## Exercises 3.9.-3.11\n",
    ">\n",
    "> The following exercises don't require many lines of code. They can however be challenging, because you must understand exactly what is happening and where, and the configurations must be just right."
   ]
  },
  {
   "cell_type": "markdown",
   "metadata": {},
   "source": [
    "> ## 3.9 Phonebook backend step 9\n",
    ">\n",
    ">Make the backend work with the phonebook frontend from the exercises of the previous part. Do not implement the functionality for making changes to the phone numbers yet, that will be implemented in exercise 3.17.\n",
    ">\n",
    "> You will probably have to do some small changes to the frontend, at least to the URLs for the backend. Remember to keep the developer console open in your browser. If some HTTP requests fail, you should check from the Network-tab what is going on. Keep an eye on the backend's console as well. If you did not do the previous exercise, it is worth it to print the request data or request.body to the console in the event handler responsible for POST requests."
   ]
  },
  {
   "cell_type": "markdown",
   "metadata": {},
   "source": [
    "> ## 3.10 Phonebook backend step 10\n",
    ">\n",
    "> Deploy the backend to the internet, for example to Fly.io or Render.\n",
    "> \n",
    "> Test the deployed backend with a browser and Postman or VS Code REST client to ensure it works.\n",
    ">\n",
    "> **PRO TIP**: When you deploy your application to Internet, it is worth it to at least in the beginning keep an eye on the logs of the application **AT ALL TIMES**.\n",
    ">\n",
    "> Create a README.md at the root of your repository, and add a link to your online application to it.\n",
    "> \n",
    "> **NOTE**: as it was said, you should deploy the BACKEND to the cloud service. If you are using Fly.io the commands should be run in the root directory of the backend (that is, in the same directory where the backend package.json is). In case of using Render, the backend must be in the root of your repository.\n",
    "> \n",
    "> You shall NOT be deploying the frontend directly at any stage of this part. It is just backend repository that is deployed throughout the whole part, nothing else."
   ]
  },
  {
   "cell_type": "markdown",
   "metadata": {},
   "source": [
    "> ## 3.11 Full Stack Phonebook\n",
    ">\n",
    "> Generate a production build of your frontend, and add it to the Internet application using the method introduced in this part.\n",
    ">\n",
    "> **NB** If you use Render, make sure the directory *dist* is not ignored by git on the backend.\n",
    "> \n",
    "> Also, make sure that the frontend still works locally (in development mode when started with command `npm run dev`).\n",
    ">\n",
    "> If you have problems getting the app working make sure that your directory structure matches [the example app](https://github.com/fullstack-hy2020/part3-notes-backend/tree/part3-3)."
   ]
  },
  {
   "cell_type": "markdown",
   "metadata": {},
   "source": []
  }
 ],
 "metadata": {
  "kernelspec": {
   "display_name": "Python 3",
   "language": "python",
   "name": "python3"
  },
  "language_info": {
   "codemirror_mode": {
    "name": "ipython",
    "version": 3
   },
   "file_extension": ".py",
   "mimetype": "text/x-python",
   "name": "python",
   "nbconvert_exporter": "python",
   "pygments_lexer": "ipython3",
   "version": "3.12.1"
  }
 },
 "nbformat": 4,
 "nbformat_minor": 2
}
