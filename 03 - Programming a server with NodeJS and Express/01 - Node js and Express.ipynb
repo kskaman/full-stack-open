{
 "cells": [
  {
   "cell_type": "markdown",
   "metadata": {},
   "source": [
    "> ## Node.js and Express"
   ]
  },
  {
   "cell_type": "markdown",
   "metadata": {},
   "source": [
    "In this part, our focus shifts towards the backend: that is, towards implementing functionality on the server side of the stack.\n",
    "\n",
    "We will be building our backend on top of [NodeJS](https://nodejs.org/en/), which is a JavaScript runtime based on Google's [Chrome V8](https://v8.dev/) JavaScript engine.\n",
    "\n",
    "This course material was written with version *v20.11.0* of Node.js. Please make sure that your version of Node is at least as new as the version used in the material (you can check the version by running `node -v` in the command line).\n",
    "\n",
    "As mentioned in [part 1](https://fullstackopen.com/en/part1/java_script), browsers don't yet support the newest features of JavaScript, and that is why the code running in the browser must be *transpiled* with e.g. [babel](https://babeljs.io/). The situation with JavaScript running in the backend is different. The newest version of Node supports a large majority of the latest features of JavaScript, so we can use the latest features without having to transpile our code."
   ]
  },
  {
   "cell_type": "markdown",
   "metadata": {},
   "source": [
    "Our goal is to implement a backend that will work with the notes application from [part 2](https://fullstackopen.com/en/part2). However, let's start with the basics by implementing a classic \"hello world\" application.\n",
    "\n",
    "**Notice** that the applications and exercises in this part are not all React applications, and we will not use the *create vite@latest -- --template react* utility for initializing the project for this application.\n",
    "\n",
    "We had already mentioned [npm](https://fullstackopen.com/en/part2/getting_data_from_server#npm) back in part 2, which is a tool used for managing JavaScript packages. In fact, npm originates from the Node ecosystem.\n",
    "\n",
    "Let's navigate to an appropriate directory, and create a new template for our application with the `npm init` command. We will answer the questions presented by the utility, and the result will be an automatically generated *package.json* file at the root of the project that contains information about the project."
   ]
  },
  {
   "cell_type": "markdown",
   "metadata": {},
   "source": [
    "```json\n",
    "{\n",
    "  \"name\": \"backend\",\n",
    "  \"version\": \"0.0.1\",\n",
    "  \"description\": \"\",\n",
    "  \"main\": \"index.js\",\n",
    "  \"scripts\": {\n",
    "    \"test\": \"echo \\\"Error: no test specified\\\" && exit 1\"\n",
    "  },\n",
    "  \"author\": \"Matti Luukkainen\",\n",
    "  \"license\": \"MIT\"\n",
    "}\n",
    "```"
   ]
  },
  {
   "cell_type": "markdown",
   "metadata": {},
   "source": [
    "The file defines, for instance, that the entry point of the application is the *index.js* file.\n",
    "\n",
    "Let's make a small change to the *scripts* object by adding a new script command.\n",
    "\n",
    "```json\n",
    "{\n",
    "  // ...\n",
    "  \"scripts\": {\n",
    "    \"start\": \"node index.js\",\n",
    "    \"test\": \"echo \\\"Error: no test specified\\\" && exit 1\"\n",
    "  },\n",
    "  // ...\n",
    "}\n",
    "```\n",
    "\n",
    "Next, let's create the first version of our application by adding an *index.js* file to the root of the project with the following code:\n",
    "\n",
    "```jsx\n",
    "console.log('hello world')copy\n",
    "```\n",
    "\n",
    "We can run the program directly with Node from the command line:\n",
    "\n",
    "```jsx\n",
    "node index.js\n",
    "```"
   ]
  },
  {
   "cell_type": "markdown",
   "metadata": {},
   "source": [
    "Or we can run it as an [`npm script`](https://docs.npmjs.com/cli/v10/using-npm/scripts):\n",
    "\n",
    "```cmd\n",
    "npm start\n",
    "```\n",
    "\n",
    "The start npm script works because we defined it in the package.json file:\n",
    "\n",
    "```json\n",
    "{\n",
    "  // ...\n",
    "  \"scripts\": {\n",
    "    \"start\": \"node index.js\",\n",
    "    \"test\": \"echo \\\"Error: no test specified\\\" && exit 1\"\n",
    "  },\n",
    "  // ...\n",
    "}\n",
    "```\n",
    "\n",
    "Even though the execution of the project works when it is started by calling `node index.js` from the command line, it's customary for npm projects to execute such tasks as npm scripts."
   ]
  },
  {
   "cell_type": "markdown",
   "metadata": {},
   "source": [
    "By default, the *package.json* file also defines another commonly used npm script called npm test. Since our project does not yet have a testing library, the `npm test` command simply executes the following command:\n",
    "\n",
    "```cmd\n",
    "echo \"Error: no test specified\" && exit 1\n",
    "```"
   ]
  },
  {
   "cell_type": "markdown",
   "metadata": {},
   "source": [
    "> ## Simple web server"
   ]
  },
  {
   "cell_type": "markdown",
   "metadata": {},
   "source": [
    "Let's change the application into a web server by editing the `index.js` file as follows:\n",
    "\n",
    "```js\n",
    "const http = require('http')\n",
    "\n",
    "const app = http.createServer((request, response) => {\n",
    "  response.writeHead(200, { 'Content-Type': 'text/plain' })\n",
    "  response.end('Hello World')\n",
    "})\n",
    "\n",
    "const PORT = 3001\n",
    "app.listen(PORT)\n",
    "console.log(`Server running on port ${PORT}`)\n",
    "```\n",
    "\n",
    "\n",
    "Once the application is running, the following message is printed in the console:\n",
    "\n",
    "```cmd\n",
    "Server running on port 3001copy\n",
    "```\n",
    "\n",
    "We can open our humble application in the browser by visiting the address http://localhost:3001:"
   ]
  },
  {
   "cell_type": "markdown",
   "metadata": {},
   "source": [
    "![](./images/image01.png)"
   ]
  },
  {
   "cell_type": "markdown",
   "metadata": {},
   "source": [
    "The server works the same way regardless of the latter part of the URL. Also the address http://localhost:3001/foo/bar will display the same content.\n",
    "\n",
    "**NB** If port 3001 is already in use by some other application, then starting the server will result in the following error message:\n",
    "\n",
    "```cmd\n",
    "➜  hello npm start\n",
    "\n",
    "> hello@1.0.0 start /Users/mluukkai/opetus/_2019fullstack-code/part3/hello\n",
    "> node index.js\n",
    "\n",
    "Server running on port 3001\n",
    "events.js:167\n",
    "      throw er; // Unhandled 'error' event\n",
    "      ^\n",
    "\n",
    "Error: listen EADDRINUSE :::3001\n",
    "    at Server.setupListenHandle [as _listen2] (net.js:1330:14)\n",
    "    at listenInCluster (net.js:1378:12)\n",
    "```"
   ]
  },
  {
   "cell_type": "markdown",
   "metadata": {},
   "source": [
    "You have two options. Either shut down the application using port 3001 (the JSON Server in the last part of the material was using port 3001), or use a different port for this application.\n",
    "\n",
    "Let's take a closer look at the first line of the code:\n",
    "\n",
    "```jsx\n",
    "const http = require('http')\n",
    "```\n",
    "\n",
    "In the first row, the application imports Node's built-in [web server](https://nodejs.org/docs/latest-v18.x/api/http.html) module. This is practically what we have already been doing in our browser-side code, but with a slightly different syntax:\n",
    "\n",
    "```js\n",
    "import http from 'http'\n",
    "```\n",
    "\n",
    "These days, code that runs in the browser uses ES6 modules. Modules are defined with an [export](https://developer.mozilla.org/en-US/docs/Web/JavaScript/Reference/Statements/export) and included in the current file with an [import](https://developer.mozilla.org/en-US/docs/Web/JavaScript/Reference/Statements/import)."
   ]
  },
  {
   "cell_type": "markdown",
   "metadata": {},
   "source": [
    "Node.js uses [CommonJS](https://en.wikipedia.org/wiki/CommonJS) modules. The reason for this is that the Node ecosystem needed modules long before JavaScript supported them in the language specification. Currently, Node also supports the use of ES6 modules, but since the support is not quite perfect yet, we'll stick to CommonJS modules.\n",
    "\n",
    "CommonJS modules function almost exactly like ES6 modules, at least as far as our needs in this course are concerned.\n",
    "\n",
    "The next chunk in our code looks like this:\n",
    "\n",
    "```jsx\n",
    "const app = http.createServer((request, response) => {\n",
    "  response.writeHead(200, { 'Content-Type': 'text/plain' })\n",
    "  response.end('Hello World')\n",
    "})\n",
    "```\n",
    "\n",
    "The code uses the `createServer` method of the [http](https://nodejs.org/docs/latest-v18.x/api/http.html) module to create a new web server. An *event handler* is registered to the server that is called every time an HTTP request is made to the server's address http://localhost:3001."
   ]
  },
  {
   "cell_type": "markdown",
   "metadata": {},
   "source": [
    "The request is responded to with the status code 200, with the *Content-Type* header set to *text/plain*, and the content of the site to be returned set to *Hello World*.\n",
    "\n",
    "The last rows bind the http server assigned to the `app` variable, to listen to HTTP requests sent to port 3001:\n",
    "\n",
    "```js\n",
    "const PORT = 3001\n",
    "app.listen(PORT)\n",
    "console.log(`Server running on port ${PORT}`)\n",
    "```\n",
    "\n",
    "The primary purpose of the backend server in this course is to offer raw data in JSON format to the frontend. For this reason, let's immediately change our server to return a hardcoded list of notes in the JSON format:"
   ]
  },
  {
   "cell_type": "markdown",
   "metadata": {},
   "source": [
    "```jsx\n",
    "const http = require('http')\n",
    "\n",
    "\n",
    "let notes = [\n",
    "  {\n",
    "    id: \"1\",\n",
    "    content: \"HTML is easy\",\n",
    "    important: true\n",
    "  },\n",
    "  {\n",
    "    id: \"2\",\n",
    "    content: \"Browser can execute only JavaScript\",\n",
    "    important: false\n",
    "  },\n",
    "  {\n",
    "    id: \"3\",\n",
    "    content: \"GET and POST are the most important methods of HTTP protocol\",\n",
    "    important: true\n",
    "  }\n",
    "]\n",
    "const app = http.createServer((request, response) => {\n",
    "  response.writeHead(200, { 'Content-Type': 'application/json' })\n",
    "  response.end(JSON.stringify(notes))\n",
    "})\n",
    "\n",
    "const PORT = 3001\n",
    "app.listen(PORT)\n",
    "console.log(`Server running on port ${PORT}`)\n",
    "```"
   ]
  },
  {
   "cell_type": "markdown",
   "metadata": {},
   "source": [
    "Let's restart the server (you can shut the server down by pressing `Ctrl+C` in the console) and let's refresh the browser.\n",
    "\n",
    "The *application/json* value in the *Content-Type* header informs the receiver that the data is in the JSON format. The `notes` array gets transformed into JSON formatted string with the `JSON.stringify(notes)` method. This is necessary because the response.end() method expects a string or a buffer to send as the response body.\n",
    "\n",
    "When we open the browser, the displayed format is exactly the same as in [part 2](https://fullstackopen.com/en/part2/getting_data_from_server) where we used [json-server](https://github.com/typicode/json-server) to serve the list of notes:"
   ]
  },
  {
   "cell_type": "markdown",
   "metadata": {},
   "source": [
    "![](./images/image02.png)"
   ]
  },
  {
   "cell_type": "markdown",
   "metadata": {},
   "source": [
    "> ## Express"
   ]
  },
  {
   "cell_type": "markdown",
   "metadata": {},
   "source": [
    "Implementing our server code directly with Node's built-in [http](https://nodejs.org/docs/latest-v18.x/api/http.html) web server is possible. However, it is cumbersome, especially once the application grows in size.\n",
    "\n",
    "Many libraries have been developed to ease server-side development with Node, by offering a more pleasing interface to work with the built-in http module. These libraries aim to provide a better abstraction for general use cases we usually require to build a backend server. By far the most popular library intended for this purpose is [Express](https://expressjs.com/).\n",
    "\n",
    "Let's take Express into use by defining it as a project dependency with the command:\n",
    "\n",
    "```cmd\n",
    "npm install express\n",
    "```\n",
    "\n",
    "The dependency is also added to our *package.json* file:\n",
    "\n",
    "```json\n",
    "{\n",
    "  // ...\n",
    "  \"dependencies\": {\n",
    "    \"express\": \"^4.18.2\"\n",
    "  }\n",
    "}\n",
    "```"
   ]
  },
  {
   "cell_type": "markdown",
   "metadata": {},
   "source": [
    "The source code for the dependency is installed in the *node_modules* directory located at the root of the project. In addition to Express, you can find a great number of other dependencies in the directory:\n",
    "\n",
    "![ls command listing of dependencies in directory](./images/image03.png)\n",
    "\n",
    "These are the dependencies of the Express library and the dependencies of all of its dependencies, and so forth. These are called the [transitive dependencies]() of our project."
   ]
  },
  {
   "cell_type": "markdown",
   "metadata": {},
   "source": [
    "Version 4.18.2 of Express was installed in our project. What does the caret in front of the version number in *package.json* mean?\n",
    "\n",
    "```json\n",
    "\"express\": \"^4.18.2\"\n",
    "```\n",
    "\n",
    "The versioning model used in npm is called [semantic versioning]().\n",
    "\n",
    "The caret in the front of *^4.18.2* means that if and when the dependencies of a project are updated, the version of Express that is installed will be at least *4.18.2*. However, the installed version of Express can also have a larger *patch* number (the last number), or a larger *minor* number (the middle number). The major version of the library indicated by the first *major* number must be the same.\n",
    "\n",
    "We can update the dependencies of the project with the command:\n",
    "\n",
    "```cmd\n",
    "npm update\n",
    "```\n",
    "\n",
    "Likewise, if we start working on the project on another computer, we can install all up-to-date dependencies of the project defined in *package.json* by running this next command in the project's root directory:\n",
    "\n",
    "```cmd\n",
    "npm install\n",
    "```"
   ]
  },
  {
   "cell_type": "markdown",
   "metadata": {},
   "source": [
    "If the *major* number of a dependency does not change, then the newer versions should be [backwards compatible](https://en.wikipedia.org/wiki/Backward_compatibility). This means that if our application happened to use version 4.99.175 of Express in the future, then all the code implemented in this part would still have to work without making changes to the code. In contrast, the future 5.0.0 version of Express [may contain](https://expressjs.com/en/guide/migrating-5.html) changes that would cause our application to no longer work."
   ]
  },
  {
   "cell_type": "markdown",
   "metadata": {},
   "source": [
    "> ## Web and Express"
   ]
  },
  {
   "cell_type": "markdown",
   "metadata": {},
   "source": [
    "Let's get back to our application and make the following changes:\n",
    "\n",
    "```js\n",
    "const express = require('express')\n",
    "const app = express()\n",
    "\n",
    "let notes = [\n",
    "  ...\n",
    "]\n",
    "\n",
    "app.get('/', (request, response) => {\n",
    "  response.send('<h1>Hello World!</h1>')\n",
    "})\n",
    "\n",
    "app.get('/api/notes', (request, response) => {\n",
    "  response.json(notes)\n",
    "})\n",
    "\n",
    "const PORT = 3001\n",
    "app.listen(PORT, () => {\n",
    "  console.log(`Server running on port ${PORT}`)\n",
    "})\n",
    "```"
   ]
  },
  {
   "cell_type": "markdown",
   "metadata": {},
   "source": [
    "To get the new version of our application into use, first we have to restart it.\n",
    "\n",
    "The application did not change a whole lot. Right at the beginning of our code, we're importing `express`, which this time is a *function* that is used to create an Express application stored in the app variable:\n",
    "\n",
    "```js\n",
    "const express = require('express')\n",
    "const app = express()\n",
    "```\n",
    "\n",
    "Next, we define two *routes* to the application. The first one defines an event handler that is used to handle HTTP GET requests made to the application's / root:\n",
    "\n",
    "```js\n",
    "app.get('/', (request, response) => {\n",
    "  response.send('<h1>Hello World!</h1>')\n",
    "})\n",
    "```\n",
    "\n",
    "The event handler function accepts two parameters. The first [request](https://expressjs.com/en/4x/api.html#req) parameter contains all of the information of the HTTP request, and the second [response](https://expressjs.com/en/4x/api.html#res) parameter is used to define how the request is responded to."
   ]
  },
  {
   "cell_type": "markdown",
   "metadata": {},
   "source": [
    "In our code, the request is answered by using the [`send`](https://expressjs.com/en/4x/api.html#res.send) method of the `response` object. Calling the method makes the server respond to the HTTP request by sending a response containing the string `<h1>Hello World!</h1>` that was passed to the `send` method. Since the parameter is a string, Express automatically sets the value of the *Content-Type* header to be *text/html*. The status code of the response defaults to 200.\n",
    "\n",
    "We can verify this from the *Network* tab in developer tools:\n",
    "\n",
    "![network tab in dev tools](./images/image04.png)"
   ]
  },
  {
   "cell_type": "markdown",
   "metadata": {},
   "source": [
    "The second route defines an event handler that handles HTTP GET requests made to the notes path of the application:\n",
    "\n",
    "```js\n",
    "app.get('/api/notes', (request, response) => {\n",
    "  response.json(notes)\n",
    "})\n",
    "```\n",
    "\n",
    "The request is responded to with the [json](https://expressjs.com/en/4x/api.html#res.json) method of the response object. Calling the method will send the **notes** array that was passed to it as a JSON formatted string. Express automatically sets the *Content-Type* header with the appropriate value of *application/json*.\n",
    "\n",
    "![api/notes gives the formatted JSON data again](./images/image05.png)"
   ]
  },
  {
   "cell_type": "markdown",
   "metadata": {},
   "source": [
    "Next, let's take a quick look at the data sent in JSON format.\n",
    "\n",
    "In the earlier version where we were only using Node, we had to transform the data into the JSON formatted string with the `JSON.stringify method`:\n",
    "\n",
    "```js\n",
    "response.end(JSON.stringify(notes))\n",
    "```\n",
    "\n",
    "With Express, this is no longer required, because this transformation happens automatically.\n",
    "\n",
    "It's worth noting that [JSON](https://en.wikipedia.org/wiki/JSON) is a string and not a JavaScript object like the value assigned to `notes`.\n",
    "\n",
    "The experiment shown below illustrates this point:\n",
    "\n",
    "![node terminal demonstrating json is of type string](./images/image06.png)"
   ]
  },
  {
   "cell_type": "markdown",
   "metadata": {},
   "source": [
    "The experiment above was done in the interactive [node-repl](https://nodejs.org/docs/latest-v18.x/api/repl.html). You can start the interactive node-repl by typing in `node` in the command line. The repl is particularly useful for testing how commands work while you're writing application code. I highly recommend this!"
   ]
  },
  {
   "cell_type": "markdown",
   "metadata": {},
   "source": [
    "> ## nodemon"
   ]
  },
  {
   "cell_type": "markdown",
   "metadata": {},
   "source": [
    "If we make changes to the application's code we have to restart the application to see the changes. We restart the application by first shutting it down by typing `Ctrl+C` and then restarting the application. Compared to the convenient workflow in React where the browser automatically reloaded after changes were made, this feels slightly cumbersome.\n",
    "\n",
    "The solution to this problem is [nodemon](https://github.com/remy/nodemon):\n",
    "\n",
    "> nodemon will watch the files in the directory in which nodemon was started, and if any files change, nodemon will automatically restart your node application.\n",
    "\n",
    "Let's install nodemon by defining it as a *development dependency* with the command:\n",
    "\n",
    "```cmd\n",
    "npm install --save-dev nodemon\n",
    "```\n",
    "The contents of *package.json* have also changed:"
   ]
  },
  {
   "cell_type": "markdown",
   "metadata": {},
   "source": [
    "```json\n",
    "{\n",
    "  //...\n",
    "  \"dependencies\": {\n",
    "    \"express\": \"^4.18.2\"\n",
    "  },\n",
    "  \"devDependencies\": {\n",
    "    \"nodemon\": \"^3.0.3\"\n",
    "  }\n",
    "}\n",
    "```\n",
    "\n",
    "If you accidentally used the wrong command and the nodemon dependency was added under \"dependencies\" instead of \"devDependencies\", then manually change the contents of *package.json* to match what is shown above.\n",
    "\n",
    "By development dependencies, we are referring to tools that are needed only during the development of the application, e.g. for testing or automatically restarting the application, like *nodemon*.\n",
    "\n",
    "These development dependencies are not needed when the application is run in production mode on the production server (e.g. Fly.io or Heroku).\n",
    "\n",
    "We can start our application with *nodemon* like this:\n",
    "\n",
    "```cmd\n",
    "node_modules/.bin/nodemon index.js\n",
    "```"
   ]
  },
  {
   "cell_type": "markdown",
   "metadata": {},
   "source": [
    "Changes to the application code now cause the server to restart automatically. It's worth noting that even though the backend server restarts automatically, the browser still has to be manually refreshed. This is because unlike when working in React, we don't have the [hot reload](https://gaearon.github.io/react-hot-loader/getstarted/) functionality needed to automatically reload the browser.\n",
    "\n",
    "The command is long and quite unpleasant, so let's define a dedicated *npm script* for it in the *package.json* file:\n",
    "\n",
    "```json\n",
    "{\n",
    "  // ..\n",
    "  \"scripts\": {\n",
    "    \"start\": \"node index.js\",\n",
    "    \"dev\": \"nodemon index.js\",\n",
    "    \"test\": \"echo \\\"Error: no test specified\\\" && exit 1\"\n",
    "  },\n",
    "  // ..\n",
    "}\n",
    "```\n",
    "\n",
    "In the script there is no need to specify the *node_modules/.bin/nodemon* path to nodemon, because `npm` automatically knows to search for the file from that directory."
   ]
  },
  {
   "cell_type": "markdown",
   "metadata": {},
   "source": [
    "We can now start the server in development mode with the command:\n",
    "\n",
    "```cmd\n",
    "npm run dev\n",
    "```\n",
    "\n",
    "Unlike with the start and test scripts, we also have to add *run* to the command because it is a non-native script."
   ]
  },
  {
   "cell_type": "markdown",
   "metadata": {},
   "source": [
    "> ## REST"
   ]
  },
  {
   "cell_type": "markdown",
   "metadata": {},
   "source": [
    "Let's expand our application so that it provides the same RESTful HTTP API as [json-server](https://github.com/typicode/json-server#routes).\n",
    "\n",
    "Representational State Transfer, aka REST, was introduced in 2000 in Roy Fielding's [dissertation](https://ics.uci.edu/~fielding/pubs/dissertation/rest_arch_style.htm). REST is an architectural style meant for building scalable web applications.\n",
    "\n",
    "We are not going to dig into Fielding's definition of REST or spend time pondering about what is and isn't RESTful. Instead, we take a more [narrow view](https://en.wikipedia.org/wiki/REST#Applied_to_web_services) by only concerning ourselves with how RESTful APIs are typically understood in web applications. The original definition of REST is not even limited to web applications.\n",
    "\n",
    "We mentioned in the [previous part](https://fullstackopen.com/en/part2/altering_data_in_server#rest) that singular things, like notes in the case of our application, are called *resources* in RESTful thinking. Every resource has an associated URL which is the resource's unique address."
   ]
  },
  {
   "cell_type": "markdown",
   "metadata": {},
   "source": [
    "One convention for creating unique addresses is to combine the name of the resource type with the resource's unique identifier.\n",
    "\n",
    "Let's assume that the root URL of our service is *www.example.com/api*.\n",
    "\n",
    "If we define the resource type of note to be notes, then the address of a note resource with the identifier 10, has the unique address *www.example.com/api/notes/10*.\n",
    "\n",
    "The URL for the entire collection of all note resources is *www.example.com/api/notes*.\n",
    "\n",
    "We can execute different operations on resources. The operation to be executed is defined by the HTTP *verb*:"
   ]
  },
  {
   "cell_type": "markdown",
   "metadata": {},
   "source": [
    "| URL |\tverb |\tfunctionality |\n",
    "|------|------|--------------|\n",
    "| notes/10 |\tGET |\tfetches a single resource |\n",
    "| notes |\tGET\t | fetches all resources in the collection |\n",
    "| notes |\tPOST |\tcreates a new resource based on the request data |\n",
    "| notes/10 |\tDELETE |\tremoves the identified resource |\n",
    "| notes/10\t| PUT |\treplaces the entire identified resource with the request data |\n",
    "| notes/10 | \tPATCH\t | replaces a part of the identified resource with the request data |"
   ]
  },
  {
   "cell_type": "markdown",
   "metadata": {},
   "source": [
    "This is how we manage to roughly define what REST refers to as a [uniform interface](https://en.wikipedia.org/wiki/REST#Architectural_constraints), which means a consistent way of defining interfaces that makes it possible for systems to cooperate.\n",
    "\n",
    "This way of interpreting REST falls under the [second level of RESTful maturity](https://martinfowler.com/articles/richardsonMaturityModel.html) in the Richardson Maturity Model. According to the definition provided by Roy Fielding, we have not defined a [REST API](https://roy.gbiv.com/untangled/2008/rest-apis-must-be-hypertext-driven). In fact, a large majority of the world's purported \"REST\" APIs do not meet Fielding's original criteria outlined in his dissertation.\n",
    "\n",
    "In some places (see e.g. [Richardson, Ruby: RESTful Web Services](https://www.oreilly.com/library/view/restful-web-services/9780596529260/)) you will see our model for a straightforward [CRUD](https://en.wikipedia.org/wiki/Create,_read,_update_and_delete) API, being referred to as an example of [resource-oriented architecture](https://en.wikipedia.org/wiki/Resource-oriented_architecture) instead of REST. We will avoid getting stuck arguing semantics and instead return to working on our application."
   ]
  },
  {
   "cell_type": "markdown",
   "metadata": {},
   "source": [
    "> ## Fetching a single resource"
   ]
  },
  {
   "cell_type": "markdown",
   "metadata": {},
   "source": [
    "Let's expand our application so that it offers a REST interface for operating on individual notes. First, let's create a [route](https://expressjs.com/en/guide/routing.html) for fetching a single resource.\n",
    "\n",
    "The unique address we will use for an individual note is of the form *notes/10*, where the number at the end refers to the note's unique id number.\n",
    "\n",
    "We can define [parameters](https://expressjs.com/en/guide/routing.html#route-parameters) for routes in Express by using the colon syntax:\n",
    "\n",
    "```jsx\n",
    "app.get('/api/notes/:id', (request, response) => {\n",
    "  const id = request.params.id\n",
    "  const note = notes.find(note => note.id === id)\n",
    "  response.json(note)\n",
    "})\n",
    "```\n",
    "\n",
    "Now `app.get('/api/notes/:id', ...)` will handle all HTTP GET requests that are of the form */api/notes/SOMETHING*, where *SOMETHING* is an arbitrary string.\n",
    "\n",
    "The id parameter in the route of a request can be accessed through the [request](https://expressjs.com/en/api.html#req) object:\n",
    "\n",
    "```js\n",
    "const id = request.params.id\n",
    "```\n",
    "The now familiar `find` method of arrays is used to find the note with an id that matches the parameter. The note is then returned to the sender of the request."
   ]
  },
  {
   "cell_type": "markdown",
   "metadata": {},
   "source": [
    "We can now test our application by going to http://localhost:3001/api/notes/1 in our browser:\n",
    "\n",
    "![api/notes/1 gives a single note as JSON](./images/image07.png)\n",
    "\n",
    "However, there's another problem with our application.\n",
    "\n",
    "If we search for a note with an id that does not exist, the server responds with:\n",
    "\n",
    "![network tools showing 200 and content-length 0](./images/image08.png)"
   ]
  },
  {
   "cell_type": "markdown",
   "metadata": {},
   "source": [
    "The HTTP status code that is returned is 200, which means that the response succeeded. There is no data sent back with the response, since the value of the *content-length* header is 0, and the same can be verified from the browser.\n",
    "\n",
    "The reason for this behavior is that the `note` variable is set to `undefined` if no matching note is found. The situation needs to be handled on the server in a better way. If no note is found, the server should respond with the status code [404 not found](https://www.rfc-editor.org/rfc/rfc9110.html#name-404-not-found) instead of 200.\n",
    "\n",
    "Let's make the following change to our code:\n",
    "\n",
    "```jsx\n",
    "app.get('/api/notes/:id', (request, response) => {\n",
    "  const id = request.params.id\n",
    "  const note = notes.find(note => note.id === id)\n",
    "  \n",
    "  if (note) {\n",
    "    response.json(note)\n",
    "  } else {\n",
    "    response.status(404).end()\n",
    "  }\n",
    "})\n",
    "```\n",
    "\n",
    "Since no data is attached to the response, we use the [status](https://expressjs.com/en/4x/api.html#res.status) method for setting the status and the [end](https://expressjs.com/en/4x/api.html#res.end) method for responding to the request without sending any data."
   ]
  },
  {
   "cell_type": "markdown",
   "metadata": {},
   "source": [
    "The if-condition leverages the fact that all JavaScript objects are [truthy](https://developer.mozilla.org/en-US/docs/Glossary/Truthy), meaning that they evaluate to true in a comparison operation. However, `undefined` is [falsy](https://developer.mozilla.org/en-US/docs/Glossary/Falsy) meaning that it will evaluate to false.\n",
    "\n",
    "Our application works and sends the error status code if no note is found. However, the application doesn't return anything to show to the user, like web applications normally do when we visit a page that does not exist. We do not need to display anything in the browser because REST APIs are interfaces that are intended for programmatic use, and the error status code is all that is needed.\n",
    "\n",
    "Anyway, it's possible to give a clue about the reason for sending a 404 error by [overriding the default NOT FOUND message](https://stackoverflow.com/questions/14154337/how-to-send-a-custom-http-status-message-in-node-express/36507614#36507614)."
   ]
  },
  {
   "cell_type": "markdown",
   "metadata": {},
   "source": [
    "> ## Deleting resources"
   ]
  },
  {
   "cell_type": "markdown",
   "metadata": {},
   "source": [
    "Next, let's implement a route for deleting resources. Deletion happens by making an HTTP DELETE request to the URL of the resource:\n",
    "\n",
    "```jsx\n",
    "app.delete('/api/notes/:id', (request, response) => {\n",
    "  const id = request.params.id\n",
    "  notes = notes.filter(note => note.id !== id)\n",
    "\n",
    "  response.status(204).end()\n",
    "})\n",
    "```\n",
    "\n",
    "If deleting the resource is successful, meaning that the note exists and is removed, we respond to the request with the status code [204 no content](https://www.rfc-editor.org/rfc/rfc9110.html#name-204-no-content) and return no data with the response.\n",
    "\n",
    "There's no consensus on what status code should be returned to a DELETE request if the resource does not exist. The only two options are 204 and 404. For the sake of simplicity, our application will respond with 204 in both cases."
   ]
  },
  {
   "cell_type": "markdown",
   "metadata": {},
   "source": [
    "> ## Postman"
   ]
  },
  {
   "cell_type": "markdown",
   "metadata": {},
   "source": [
    "So how do we test the delete operation? HTTP GET requests are easy to make from the browser. We could write some JavaScript for testing deletion, but writing test code is not always the best solution in every situation.\n",
    "\n",
    "Many tools exist for making the testing of backends easier. One of these is a command line program curl. However, instead of [curl](https://curl.se/), we will take a look at using [Postman](https://www.postman.com/) for testing the application.\n",
    "\n",
    "Let's install the Postman desktop client [from here](https://www.postman.com/downloads/) and try it out:\n",
    "\n",
    "![postman screenshot on api/notes/2](./images/image09.png)"
   ]
  },
  {
   "cell_type": "markdown",
   "metadata": {},
   "source": [
    "NB: Postman is also available on VS Code which can be downloaded from the Extension tab on the left -> search for Postman -> First result (Verified Publisher) -> Install You will then see an extra icon added on the activity bar below the extensions tab. Once you log in, you can follow the steps below\n",
    "\n",
    "Using Postman is quite easy in this situation. It's enough to define the URL and then select the correct request type (DELETE).\n",
    "\n",
    "The backend server appears to respond correctly. By making an HTTP GET request to http://localhost:3001/api/notes we see that the note with the id 2 is no longer in the list, which indicates that the deletion was successful.\n",
    "\n",
    "Because the notes in the application are only saved to memory, the list of notes will return to its original state when we restart the application."
   ]
  },
  {
   "cell_type": "markdown",
   "metadata": {},
   "source": [
    "> ## The Visual Studio Code REST client"
   ]
  },
  {
   "cell_type": "markdown",
   "metadata": {},
   "source": [
    "If you use Visual Studio Code, you can use the VS Code [REST client]() plugin instead of Postman.\n",
    "\n",
    "Once the plugin is installed, using it is very simple. We make a directory at the root of the application named *requests*. We save all the REST client requests in the directory as files that end with the .rest extension.\n",
    "\n",
    "Let's create a new *get_all_notes.rest* file and define the request that fetches all notes.\n",
    "\n",
    "![get all notes rest file with get request on notes](./images/image10.png)"
   ]
  },
  {
   "cell_type": "markdown",
   "metadata": {},
   "source": [
    "By clicking the Send Request text, the REST client will execute the HTTP request and the response from the server is opened in the editor.\n",
    "\n",
    "![response from vs code from get request](./images/image11.png)"
   ]
  },
  {
   "cell_type": "markdown",
   "metadata": {},
   "source": [
    "> ## WebStrom HTTP Client"
   ]
  },
  {
   "cell_type": "markdown",
   "metadata": {},
   "source": [
    "If you use `IntelliJ WebStorm` instead, you can use a similar procedure with its built-in HTTP Client. Create a new file with extension `.rest` and the editor will display your options to create and run your requests. You can learn more about it by following [this guide](https://www.jetbrains.com/help/webstorm/http-client-in-product-code-editor.html)."
   ]
  },
  {
   "cell_type": "markdown",
   "metadata": {},
   "source": [
    "> ## Receiving data"
   ]
  },
  {
   "cell_type": "markdown",
   "metadata": {},
   "source": [
    "Next, let's make it possible to add new notes to the server. Adding a note happens by making an HTTP POST request to the address http://localhost:3001/api/notes, and by sending all the information for the new note in the request [body](https://www.rfc-editor.org/rfc/rfc9112#name-message-body) in JSON format.\n",
    "\n",
    "To access the data easily, we need the help of the Express [json-parser](https://expressjs.com/en/api.html) that we can use with the command `app.use(express.json())`.\n",
    "\n",
    "Let's activate the json-parser and implement an initial handler for dealing with the HTTP POST requests:"
   ]
  },
  {
   "cell_type": "markdown",
   "metadata": {},
   "source": [
    "```jsx\n",
    "const express = require('express')\n",
    "const app = express()\n",
    "\n",
    "\n",
    "app.use(express.json())\n",
    "\n",
    "//...\n",
    "\n",
    "\n",
    "app.post('/api/notes', (request, response) => {\n",
    "  const note = request.body\n",
    "  console.log(note)\n",
    "  response.json(note)\n",
    "})\n",
    "```"
   ]
  },
  {
   "cell_type": "markdown",
   "metadata": {},
   "source": [
    "The event handler function can access the data from the body property of the `request` object.\n",
    "\n",
    "Without the json-parser, the *body* property would be undefined. The json-parser takes the JSON data of a request, transforms it into a JavaScript object and then attaches it to the body property of the `request` object before the route handler is called.\n",
    "\n",
    "For the time being, the application does not do anything with the received data besides printing it to the console and sending it back in the response.\n",
    "\n",
    "Before we implement the rest of the application logic, let's verify with Postman that the data is in fact received by the server. In addition to defining the URL and request type in Postman, we also have to define the data sent in the *body*:"
   ]
  },
  {
   "cell_type": "markdown",
   "metadata": {},
   "source": [
    "![](./images/image12.png)"
   ]
  },
  {
   "cell_type": "markdown",
   "metadata": {},
   "source": [
    "The application prints the data that we sent in the request to the console:\n",
    "\n",
    "![terminal printing content provided in postman](./images/image13.png)\n",
    "\n",
    "**NB** Keep *the terminal running the application visible at all times* when you are working on the backend. Thanks to Nodemon any changes we make to the code will restart the application. If you pay attention to the console, you will immediately be able to pick up on errors that occur in the application:\n",
    "\n",
    "![nodemon error as typing requre not defined](./images/image14.png)"
   ]
  },
  {
   "cell_type": "markdown",
   "metadata": {},
   "source": [
    "Similarly, it is useful to check the console to make sure that the backend behaves as we expect it to in different situations, like when we send data with an HTTP POST request. Naturally, it's a good idea to add lots of `console.log` commands to the code while the application is still being developed.\n",
    "\n",
    "A potential cause for issues is an incorrectly set *Content-Type* header in requests. This can happen with Postman if the type of body is not defined correctly:\n",
    "\n",
    "![postman having text as content-type](./images/image15.png)"
   ]
  },
  {
   "cell_type": "markdown",
   "metadata": {},
   "source": [
    "The *Content-Type* header is set to *text/plain*:\n",
    "\n",
    "![postman showing headers and content-type as text/plain](./images/image16.png)\n",
    "\n",
    "The server appears to only receive an empty object:\n",
    "\n",
    "![nodemon output showing empty curly braces](./images/image17.png)"
   ]
  },
  {
   "cell_type": "markdown",
   "metadata": {},
   "source": [
    "The server will not be able to parse the data correctly without the correct value in the header. It won't even try to guess the format of the data since there's a [massive amount](https://developer.mozilla.org/en-US/docs/Web/HTTP/Basics_of_HTTP/MIME_types) of potential *Content-Types*.\n",
    "\n",
    "If you are using VS Code, then you should install the REST client from the previous chapter *now, if you haven't already*. The POST request can be sent with the REST client like this:\n",
    "\n",
    "![sample post request in vscode with JSON data](./images/image18.png)\n",
    "\n",
    "We created a new *create_note.rest* file for the request. The request is formatted according to the [instructions in the documentation](https://github.com/Huachao/vscode-restclient/blob/master/README.md#usage)."
   ]
  },
  {
   "cell_type": "markdown",
   "metadata": {},
   "source": [
    "One benefit that the REST client has over Postman is that the requests are handily available at the root of the project repository, and they can be distributed to everyone in the development team. You can also add multiple requests in the same file using `###` separators:\n",
    "\n",
    "```cmd\n",
    "GET http://localhost:3001/api/notes/\n",
    "\n",
    "###\n",
    "POST http://localhost:3001/api/notes/ HTTP/1.1\n",
    "content-type: application/json\n",
    "\n",
    "{\n",
    "    \"name\": \"sample\",\n",
    "    \"time\": \"Wed, 21 Oct 2015 18:27:50 GMT\"\n",
    "}\n",
    "```\n",
    "\n",
    "Postman also allows users to save requests, but the situation can get quite chaotic especially when you're working on multiple unrelated projects."
   ]
  },
  {
   "cell_type": "markdown",
   "metadata": {},
   "source": [
    "> **Important sidenote**\n",
    ">\n",
    "> Sometimes when you're debugging, you may want to find out what headers have been set in the HTTP request. One way of accomplishing this is through the [get](https://expressjs.com/en/4x/api.html#req.get) method of the request object, that can be used for getting the value of a single header. The request object also has the headers property, that contains all of the headers of a specific request.\n",
    ">\n",
    "> Problems can occur with the VS REST client if you accidentally add an empty line between the top row and the row specifying the HTTP headers. In this situation, the REST client interprets this to mean that all headers are left empty, which leads to the backend server not knowing that the data it has received is in the JSON format.\n",
    ">\n",
    "> You will be able to spot this missing *Content-Type* header if at some point in your code you print all of the request headers with the `console.log(request.headers)` command."
   ]
  },
  {
   "cell_type": "markdown",
   "metadata": {},
   "source": [
    "Let's return to the application. Once we know that the application receives data correctly, it's time to finalize the handling of the request:\n",
    "\n",
    "```js\n",
    "app.post('/api/notes', (request, response) => {\n",
    "  const maxId = notes.length > 0\n",
    "    ? Math.max(...notes.map(n => Number(n.id))) \n",
    "    : 0\n",
    "\n",
    "  const note = request.body\n",
    "  note.id = String(maxId + 1)\n",
    "\n",
    "  notes = notes.concat(note)\n",
    "\n",
    "  response.json(note)\n",
    "})\n",
    "```\n",
    "\n",
    "We need a unique id for the note. First, we find out the largest id number in the current list and assign it to the `maxId` variable. The id of the new note is then defined as `maxId + 1` as a string. This method is not recommended, but we will live with it for now as we will replace it soon enough."
   ]
  },
  {
   "cell_type": "markdown",
   "metadata": {},
   "source": [
    "The current version still has the problem that the HTTP POST request can be used to add objects with arbitrary properties. Let's improve the application by defining that the *content* property may not be empty. The *important* property will be given a default value of false. All other properties are discarded:\n",
    "\n",
    "```jsx\n",
    "const generateId = () => {\n",
    "  const maxId = notes.length > 0\n",
    "    ? Math.max(...notes.map(n => Number(n.id)))\n",
    "    : 0\n",
    "  return String(maxId + 1)\n",
    "}\n",
    "\n",
    "app.post('/api/notes', (request, response) => {\n",
    "  const body = request.body\n",
    "\n",
    "  if (!body.content) {\n",
    "    return response.status(400).json({ \n",
    "      error: 'content missing' \n",
    "    })\n",
    "  }\n",
    "\n",
    "  const note = {\n",
    "    content: body.content,\n",
    "    important: Boolean(body.important) || false,\n",
    "    id: generateId(),\n",
    "  }\n",
    "\n",
    "  notes = notes.concat(note)\n",
    "\n",
    "  response.json(note)\n",
    "})\n",
    "```"
   ]
  },
  {
   "cell_type": "markdown",
   "metadata": {},
   "source": [
    "The logic for generating the new id number for notes has been extracted into a separate `generateId` function.\n",
    "\n",
    "If the received data is missing a value for the *content* property, the server will respond to the request with the status code [400 bad request](https://www.rfc-editor.org/rfc/rfc9110.html#name-400-bad-request):\n",
    "\n",
    "```js\n",
    "if (!body.content) {\n",
    "  return response.status(400).json({ \n",
    "    error: 'content missing' \n",
    "  })\n",
    "}\n",
    "```\n",
    "\n",
    "Notice that calling return is crucial because otherwise the code will execute to the very end and the malformed note gets saved to the application."
   ]
  },
  {
   "cell_type": "markdown",
   "metadata": {},
   "source": [
    "If the content property has a value, the note will be based on the received data. If the *important* property is missing, we will default the value to *false*. The default value is currently generated in a rather odd-looking way:\n",
    "\n",
    "```cmd\n",
    "important: Boolean(body.important) || false,copy\n",
    "```\n",
    "\n",
    "If the data saved in the `body` variable has the *important* property, the expression will evaluate its value and convert it to a boolean value. If the property does not exist, then the expression will evaluate to false which is defined on the right-hand side of the vertical lines.\n",
    "\n",
    "> To be exact, when the *important* property is *false*, then the body.`important || false` expression will in fact return the false from the right-hand side...\n",
    "\n",
    "You can find the code for our current application in its entirety in the part3-1 branch of [this GitHub repository](https://github.com/fullstack-hy2020/part3-notes-backend/tree/part3-1)."
   ]
  },
  {
   "cell_type": "markdown",
   "metadata": {},
   "source": [
    "![](./images/image19.png)"
   ]
  },
  {
   "cell_type": "markdown",
   "metadata": {},
   "source": [
    "If you clone the project, run the `npm install command` before starting the application with `npm start` or `npm run dev`.\n",
    "\n",
    "One more thing before we move on to the exercises. The function for generating IDs looks currently like this:\n",
    "```js\n",
    "const generateId = () => {\n",
    "  const maxId = notes.length > 0\n",
    "    ? Math.max(...notes.map(n => Number(n.id)))\n",
    "    : 0\n",
    "  return String(maxId + 1)\n",
    "}\n",
    "```\n",
    "\n",
    "The function body contains a row that looks a bit intriguing:\n",
    "\n",
    "```js\n",
    "Math.max(...notes.map(n => Number(n.id)))\n",
    "```"
   ]
  },
  {
   "cell_type": "markdown",
   "metadata": {},
   "source": [
    "What exactly is happening in that line of code? `notes.map(n => n.id)` creates a new array that contains all the ids of the notes in number form. [Math.max](https://developer.mozilla.org/en-US/docs/Web/JavaScript/Reference/Global_Objects/Math/max) returns the maximum value of the numbers that are passed to it. However, `notes.map(n => Number(n.id))` is an *array* so it can't directly be given as a parameter to `Math.max`. The array can be transformed into individual numbers by using the \"three dot\" spread syntax ...."
   ]
  },
  {
   "cell_type": "markdown",
   "metadata": {},
   "source": [
    "> ## Exercises 3.1.-3.6.\n",
    ">\n",
    "> **NB**: It's recommended to do all of the exercises from this part into a new dedicated git repository, and place your source code right at the root of the repository. Otherwise, you will run into problems in exercise 3.10.\n",
    ">\n",
    "> **NB**: Because this is not a frontend project and we are not working with React, the application **is not created** with create vite@latest -- --template react. You initialize this project with the npm init command that was demonstrated earlier in this part of the material.\n",
    ">\n",
    "> **Strong recommendation**: When you are working on backend code, always keep an eye on what's going on in the terminal that is running your application."
   ]
  },
  {
   "cell_type": "markdown",
   "metadata": {},
   "source": [
    "> ## 3.1: Phonebook backend step 1\n",
    "\n",
    "Implement a Node application that returns a hardcoded list of phonebook entries from the address http://localhost:3001/api/persons.\n",
    "\n",
    "Data:\n",
    "```json\n",
    "[\n",
    "    { \n",
    "      \"id\": \"1\",\n",
    "      \"name\": \"Arto Hellas\", \n",
    "      \"number\": \"040-123456\"\n",
    "    },\n",
    "    { \n",
    "      \"id\": \"2\",\n",
    "      \"name\": \"Ada Lovelace\", \n",
    "      \"number\": \"39-44-5323523\"\n",
    "    },\n",
    "    { \n",
    "      \"id\": \"3\",\n",
    "      \"name\": \"Dan Abramov\", \n",
    "      \"number\": \"12-43-234345\"\n",
    "    },\n",
    "    { \n",
    "      \"id\": \"4\",\n",
    "      \"name\": \"Mary Poppendieck\", \n",
    "      \"number\": \"39-23-6423122\"\n",
    "    }\n",
    "]\n",
    "```\n",
    "Output in the browser after GET request:"
   ]
  },
  {
   "cell_type": "markdown",
   "metadata": {},
   "source": [
    "![](./images/image20.png)"
   ]
  },
  {
   "cell_type": "markdown",
   "metadata": {},
   "source": [
    "Notice that the forward slash in the route *api/persons* is not a special character, and is just like any other character in the string.\n",
    "\n",
    "The application must be started with the command `npm start`.\n",
    "\n",
    "The application must also offer an `npm run dev` command that will run the application and restart the server whenever changes are made and saved to a file in the source code."
   ]
  },
  {
   "cell_type": "markdown",
   "metadata": {},
   "source": [
    "> ## 3.2: Phonebook backend step 2\n",
    "Implement a page at the address http://localhost:3001/info that looks roughly like this:\n",
    "\n",
    "![Screenshot for 3.2](./images/image21.png)\n",
    "\n",
    "The page has to show the time that the request was received and how many entries are in the phonebook at the time of processing the request.\n",
    "\n",
    "There can only be one response.send() statement in an Express app route. Once you send a response to the client using response.send(), the request-response cycle is complete and no further response can be sent.\n",
    "\n",
    "To include a line space in the output, use `<br/>` tag, or wrap the statements in `<p>` tags."
   ]
  },
  {
   "cell_type": "markdown",
   "metadata": {},
   "source": [
    "> ## 3.3: Phonebook backend step 3\n",
    "\n",
    "Implement the functionality for displaying the information for a single phonebook entry. The url for getting the data for a person with the id 5 should be http://localhost:3001/api/persons/5\n",
    "\n",
    "If an entry for the given id is not found, the server has to respond with the appropriate status code.\n",
    "\n",
    "> ## 3.4: Phonebook backend step 4\n",
    "\n",
    "Implement functionality that makes it possible to delete a single phonebook entry by making an HTTP DELETE request to the unique URL of that phonebook entry.\n",
    "\n",
    "Test that your functionality works with either Postman or the Visual Studio Code REST client.\n",
    "\n",
    "> ## 3.5: Phonebook backend step 5\n",
    "\n",
    "Expand the backend so that new phonebook entries can be added by making HTTP POST requests to the address http://localhost:3001/api/persons.\n",
    "\n",
    "Generate a new id for the phonebook entry with the [Math.random](https://developer.mozilla.org/en-US/docs/Web/JavaScript/Reference/Global_Objects/Math/random) function. Use a big enough range for your random values so that the likelihood of creating duplicate ids is small."
   ]
  },
  {
   "cell_type": "markdown",
   "metadata": {},
   "source": [
    "> ## 3.6: Phonebook backend step 6\n",
    "Implement error handling for creating new entries. The request is not allowed to succeed, if:\n",
    "\n",
    "- The name or number is missing\n",
    "- The name already exists in the phonebook\n",
    "\n",
    "Respond to requests like these with the appropriate status code, and also send back information that explains the reason for the error, e.g.:\n",
    "\n",
    "```cmd\n",
    "{ error: 'name must be unique' }\n",
    "```"
   ]
  },
  {
   "cell_type": "markdown",
   "metadata": {},
   "source": [
    "> ## About HTTP request types"
   ]
  },
  {
   "cell_type": "markdown",
   "metadata": {},
   "source": [
    "[The HTTP standard](https://www.rfc-editor.org/rfc/rfc9110.html#name-common-method-properties) talks about two properties related to request types, **safety** and **idempotency**.\n",
    "\n",
    "The HTTP GET request should be safe:\n",
    "\n",
    "> In particular, the convention has been established that the GET and HEAD methods SHOULD NOT have the significance of taking an action other than retrieval. These methods ought to be considered \"safe\".\n",
    "\n",
    "Safety means that the executing request must not cause any *side effects* on the server. By side effects, we mean that the state of the database must not change as a result of the request, and the response must only return data that already exists on the server.\n",
    "\n",
    "Nothing can ever guarantee that a GET request is safe, this is just a recommendation that is defined in the HTTP standard. By adhering to RESTful principles in our API, GET requests are always used in a way that they are *safe*."
   ]
  },
  {
   "cell_type": "markdown",
   "metadata": {},
   "source": [
    "The HTTP standard also defines the request type [HEAD](https://www.rfc-editor.org/rfc/rfc9110.html#name-head), which ought to be safe. In practice, HEAD should work exactly like GET but it does not return anything but the status code and response headers. The response body will not be returned when you make a HEAD request.\n",
    "\n",
    "All HTTP requests except POST should be *idempotent*:\n",
    "\n",
    "> Methods can also have the property of \"idempotence\" in that (aside from error or expiration issues) the side-effects of N > 0 identical requests is the same as for a single request. The methods GET, HEAD, PUT and DELETE share this property\n",
    "\n",
    "This means that if a request does not generate side effects, then the result should be the same regardless of how many times the request is sent."
   ]
  },
  {
   "cell_type": "markdown",
   "metadata": {},
   "source": [
    "If we make an HTTP PUT request to the URL */api/notes/10* and with the request we send the data `{ content: \"no side effects!\", important: true }`, the result is the same regardless of how many times the request is sent.\n",
    "\n",
    "Like *safety* for the GET request, *idempotence* is also just a recommendation in the HTTP standard and not something that can be guaranteed simply based on the request type. However, when our API adheres to RESTful principles, then GET, HEAD, PUT, and DELETE requests are used in such a way that they are idempotent.\n",
    "\n",
    "POST is the only HTTP request type that is neither safe nor idempotent. If we send 5 different HTTP POST requests to */api/notes* with a body of `{content: \"many same\", important: true}`, the resulting 5 notes on the server will all have the same content."
   ]
  },
  {
   "cell_type": "markdown",
   "metadata": {},
   "source": [
    "> ## Middleware"
   ]
  },
  {
   "cell_type": "markdown",
   "metadata": {},
   "source": [
    "The Express [json-parser](https://expressjs.com/en/api.html) used earlier is a [middleware](https://expressjs.com/en/guide/using-middleware.html).\n",
    "\n",
    "Middleware are functions that can be used for handling `request` and `response` objects.\n",
    "\n",
    "The json-parser we used earlier takes the raw data from the requests that are stored in the `request` object, parses it into a JavaScript object and assigns it to the `request` object as a new property body.\n",
    "\n",
    "In practice, you can use several middlewares at the same time. When you have more than one, they're executed one by one in the order that they were listed in the application code.\n",
    "\n",
    "Let's implement our own middleware that prints information about every request that is sent to the server."
   ]
  },
  {
   "cell_type": "markdown",
   "metadata": {},
   "source": [
    "Middleware is a function that receives three parameters:\n",
    "\n",
    "```jsx\n",
    "const requestLogger = (request, response, next) => {\n",
    "  console.log('Method:', request.method)\n",
    "  console.log('Path:  ', request.path)\n",
    "  console.log('Body:  ', request.body)\n",
    "  console.log('---')\n",
    "  next()\n",
    "}\n",
    "```\n",
    "\n",
    "At the end of the function body, the `next` function that was passed as a parameter is called. The `next` function yields control to the next middleware.\n",
    "\n",
    "Middleware is used like this:\n",
    "\n",
    "```cmd\n",
    "app.use(requestLogger)\n",
    "```\n",
    "\n",
    "Remember, middleware functions are called in the order that they're encountered by the JavaScript engine. Notice that `json-parser` is listed before `requestLogger` , because otherwise *request.body* will not be initialized when the logger is executed!"
   ]
  },
  {
   "cell_type": "markdown",
   "metadata": {},
   "source": [
    "Middleware functions have to be used before routes when we want them to be executed by the route event handlers. Sometimes, we want to use middleware functions after routes. We do this when the middleware functions are only called if no route handler processes the HTTP request.\n",
    "\n",
    "Let's add the following middleware after our routes. This middleware will be used for catching requests made to non-existent routes. For these requests, the middleware will return an error message in the JSON format.\n",
    "\n",
    "```jsx\n",
    "const unknownEndpoint = (request, response) => {\n",
    "  response.status(404).send({ error: 'unknown endpoint' })\n",
    "}\n",
    "\n",
    "app.use(unknownEndpoint)\n",
    "```\n",
    "\n",
    "You can find the code for our current application in its entirety in the part3-2 branch of [this GitHub repository](https://github.com/fullstack-hy2020/part3-notes-backend/tree/part3-2)."
   ]
  },
  {
   "cell_type": "markdown",
   "metadata": {},
   "source": [
    "> ## Exercises 3.7.-3.8.\n",
    "\n",
    "\n",
    "> ## 3.7: Phonebook backend step 7\n",
    "\n",
    "Add the [morgan](https://github.com/expressjs/morgan) middleware to your application for logging. Configure it to log messages to your console based on the *tiny* configuration.\n",
    "\n",
    "The documentation for Morgan is not the best, and you may have to spend some time figuring out how to configure it correctly. However, most documentation in the world falls under the same category, so it's good to learn to decipher and interpret cryptic documentation in any case.\n",
    "\n",
    "Morgan is installed just like all other libraries with the `npm install` command. Taking morgan into use happens the same way as configuring any other middleware by using the `app.use` command."
   ]
  },
  {
   "cell_type": "markdown",
   "metadata": {},
   "source": [
    "> ## 3.8*: Phonebook backend step 8\n",
    "\n",
    "Configure morgan so that it also shows the data sent in HTTP POST requests:\n",
    "\n",
    "![terminal showing post data being sent](./images/image22.png)\n",
    "\n",
    "Note that logging data even in the console can be dangerous since it can contain sensitive data and may violate local privacy law (e.g. GDPR in EU) or business-standard. In this exercise, you don't have to worry about privacy issues, but in practice, try not to log any sensitive data.\n",
    "\n",
    "This exercise can be quite challenging, even though the solution does not require a lot of code.\n",
    "\n",
    "This exercise can be completed in a few different ways. One of the possible solutions utilizes these two techniques:\n",
    "\n",
    "- [creating new tokens](https://github.com/expressjs/morgan#creating-new-tokens)\n",
    "- [JSON.stringify](https://developer.mozilla.org/en-US/docs/Web/JavaScript/Reference/Global_Objects/JSON/stringify)"
   ]
  },
  {
   "cell_type": "markdown",
   "metadata": {},
   "source": []
  }
 ],
 "metadata": {
  "language_info": {
   "name": "python"
  }
 },
 "nbformat": 4,
 "nbformat_minor": 2
}
