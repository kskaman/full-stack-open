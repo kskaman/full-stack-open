{
 "cells": [
  {
   "cell_type": "markdown",
   "metadata": {},
   "source": [
    "# Introduction to React"
   ]
  },
  {
   "cell_type": "markdown",
   "metadata": {},
   "source": [
    "We will now start getting familiar with probably the most important topic of this course, namely the React library. Let's start by making a simple React application as well as getting to know the core concepts of React.\n",
    "\n",
    "The easiest way to get started by far is by using a tool called [Vite](https://vitejs.dev/).\n",
    "\n",
    "Let's create an application called part1, navigate to its directory and install the libraries:"
   ]
  },
  {
   "cell_type": "markdown",
   "metadata": {},
   "source": [
    "```\n",
    "# npm 6.x (outdated, but still used by some):\n",
    "npm create vite@latest part1 --template react\n",
    "\n",
    "# npm 7+, extra double-dash is needed:\n",
    "npm create vite@latest part1 -- --template react\n",
    "```"
   ]
  },
  {
   "cell_type": "markdown",
   "metadata": {},
   "source": [
    "```\n",
    "cd part1\n",
    "npm install\n",
    "```"
   ]
  },
  {
   "cell_type": "markdown",
   "metadata": {},
   "source": [
    "The application is started as follows"
   ]
  },
  {
   "cell_type": "markdown",
   "metadata": {},
   "source": [
    "```\n",
    "npm run dev\n",
    "```"
   ]
  },
  {
   "cell_type": "markdown",
   "metadata": {},
   "source": [
    "The console says that the application has started on localhost port 5173, i.e. the address http://localhost:5173/:"
   ]
  },
  {
   "cell_type": "markdown",
   "metadata": {},
   "source": [
    "![](./images/vite1.png)"
   ]
  },
  {
   "cell_type": "markdown",
   "metadata": {},
   "source": [
    "Vite starts the application by default on port 5173. If it is not free, Vite uses the next free port number.\n",
    "\n",
    "Open the browser and a text editor so that you can view the code as well as the webpage at the same time on the screen:"
   ]
  },
  {
   "cell_type": "markdown",
   "metadata": {},
   "source": [
    "![](./images/vite2.png)"
   ]
  },
  {
   "cell_type": "markdown",
   "metadata": {},
   "source": [
    "The code of the application resides in the src folder. Let's simplify the default code such that the contents of the file main.jsx looks like this:"
   ]
  },
  {
   "cell_type": "markdown",
   "metadata": {},
   "source": [
    "```jsx\n",
    "import ReactDOM from 'react-dom/client'\n",
    "import App from './App'\n",
    "ReactDOM.createRoot(document.getElementById('root')).render(<App />)\n",
    "```"
   ]
  },
  {
   "cell_type": "markdown",
   "metadata": {},
   "source": [
    "and file App.jsx looks like this"
   ]
  },
  {
   "cell_type": "markdown",
   "metadata": {},
   "source": [
    "```jsx\n",
    "const App = () => {\n",
    "  return (\n",
    "    <div>\n",
    "      <p>Hello world</p>\n",
    "    </div>\n",
    "  )\n",
    "}\n",
    "\n",
    "export default App\n",
    "```"
   ]
  },
  {
   "cell_type": "markdown",
   "metadata": {},
   "source": [
    "The files *App.css* and *index.css*, and the directory *assets* may be deleted as they are not needed in our application right now."
   ]
  },
  {
   "cell_type": "markdown",
   "metadata": {},
   "source": [
    "## create-react-app"
   ]
  },
  {
   "cell_type": "markdown",
   "metadata": {},
   "source": [
    "Instead of Vite you can also use the older generation tool [create-react-app](https://github.com/facebook/create-react-app) in the course to set up the applications. The most visible difference to Vite is the name of the application startup file, which is index.js.\n",
    "\n",
    "The way to start the application is also different in CRA, it is started with a command"
   ]
  },
  {
   "cell_type": "markdown",
   "metadata": {},
   "source": [
    "```cmd\n",
    "npm start\n",
    "```"
   ]
  },
  {
   "cell_type": "markdown",
   "metadata": {},
   "source": [
    "in contrast to Vite's"
   ]
  },
  {
   "cell_type": "markdown",
   "metadata": {},
   "source": [
    "```cmd\n",
    "npm run dev\n",
    "```"
   ]
  },
  {
   "cell_type": "markdown",
   "metadata": {},
   "source": [
    "## Component"
   ]
  },
  {
   "cell_type": "markdown",
   "metadata": {},
   "source": [
    "The file *App.jsx* now defines a [React component](https://react.dev/learn/your-first-component) with the name *App*. The command on the final line of file *main.jsx*\n"
   ]
  },
  {
   "cell_type": "markdown",
   "metadata": {},
   "source": [
    "```jsx\n",
    "ReactDOM.createRoot(document.getElementById('root')).render(<App />)\n",
    "```"
   ]
  },
  {
   "cell_type": "markdown",
   "metadata": {},
   "source": [
    "renders its contents into the *div*-element, defined in the file *index.html*, having the id value 'root'.\n",
    "\n",
    "By default, the file *index.html* doesn't contain any HTML markup that is visible to us in the browser:"
   ]
  },
  {
   "cell_type": "markdown",
   "metadata": {},
   "source": [
    "```html\n",
    "<!doctype html>\n",
    "<html lang=\"en\">\n",
    "  <head>\n",
    "    <meta charset=\"UTF-8\" />\n",
    "    <link rel=\"icon\" type=\"image/svg+xml\" href=\"/vite.svg\" />\n",
    "    <meta name=\"viewport\" content=\"width=device-width, initial-scale=1.0\" />\n",
    "    <title>Vite + React</title>\n",
    "  </head>\n",
    "  <body>\n",
    "    <div id=\"root\"></div>\n",
    "    <script type=\"module\" src=\"/src/main.jsx\"></script>\n",
    "  </body>\n",
    "</html>\n",
    "```"
   ]
  },
  {
   "cell_type": "markdown",
   "metadata": {},
   "source": [
    "You can try adding there some HTML to the file. However, when using React, all content that needs to be rendered is usually defined as React components.\n",
    "\n",
    "Let's take a closer look at the code defining the component:"
   ]
  },
  {
   "cell_type": "markdown",
   "metadata": {},
   "source": [
    "```jsx\n",
    "const App = () => (\n",
    "  <div>\n",
    "    <p>Hello world</p>\n",
    "  </div>\n",
    ")\n",
    "```"
   ]
  },
  {
   "cell_type": "markdown",
   "metadata": {},
   "source": [
    "As you probably guessed, the component will be rendered as a *div*-tag, which wraps a *p*-tag containing the text *Hello world*.\n",
    "\n",
    "Technically the component is defined as a JavaScript function. The following is a function (which does not receive any parameters):"
   ]
  },
  {
   "cell_type": "markdown",
   "metadata": {},
   "source": [
    "```jsx\n",
    "() => (\n",
    "  <div>\n",
    "    <p>Hello world</p>\n",
    "  </div>\n",
    ")\n",
    "```"
   ]
  },
  {
   "cell_type": "markdown",
   "metadata": {},
   "source": [
    "The function is then assigned to a constant variable *App*:"
   ]
  },
  {
   "cell_type": "markdown",
   "metadata": {},
   "source": [
    "```jsx\n",
    "const App = ...\n",
    "```"
   ]
  },
  {
   "cell_type": "markdown",
   "metadata": {},
   "source": [
    "There are a few ways to define functions in JavaScript. Here we will use [arrow functions](https://developer.mozilla.org/en-US/docs/Web/JavaScript/Reference/Functions/Arrow_functions), which are described in a newer version of JavaScript known as ECMAScript 6, also called ES6.\n",
    "\n",
    "Because the function consists of only a single expression we have used a shorthand, which represents this piece of code:"
   ]
  },
  {
   "cell_type": "markdown",
   "metadata": {},
   "source": [
    "```jsx\n",
    "const App = () => {\n",
    "  return (\n",
    "    <div>\n",
    "      <p>Hello world</p>\n",
    "    </div>\n",
    "  )\n",
    "}\n",
    "```"
   ]
  },
  {
   "cell_type": "markdown",
   "metadata": {},
   "source": [
    "In other words, the function returns the value of the expression.\n",
    "\n",
    "The function defining the component may contain any kind of JavaScript code. Modify your component to be as follows:"
   ]
  },
  {
   "cell_type": "markdown",
   "metadata": {},
   "source": [
    "```jsx\n",
    "const App = () => {\n",
    "  console.log('Hello from component')\n",
    "  return (\n",
    "    <div>\n",
    "      <p>Hello world</p>\n",
    "    </div>\n",
    "  )\n",
    "}\n",
    "\n",
    "export default App\n",
    "```"
   ]
  },
  {
   "cell_type": "markdown",
   "metadata": {},
   "source": [
    "and observe what happens in the browser console"
   ]
  },
  {
   "cell_type": "markdown",
   "metadata": {},
   "source": [
    "![](./images/component1.png)"
   ]
  },
  {
   "cell_type": "markdown",
   "metadata": {},
   "source": [
    "The first rule of frontend web development:\n",
    ">\n",
    "> *keep the console open all the time*\n",
    ">\n",
    "Let us repeat this together: *I promise to keep the console open all the time* during this course, and for the rest of my life when I'm doing web development.\n",
    "\n",
    "It is also possible to render dynamic content inside of a component.\n",
    "\n",
    "Modify the component as follows:"
   ]
  },
  {
   "cell_type": "markdown",
   "metadata": {},
   "source": [
    "```jsx\n",
    "const App = () => {\n",
    "  const now = new Date()\n",
    "  const a = 10\n",
    "  const b = 20\n",
    "  console.log(now, a+b)\n",
    "\n",
    "  return (\n",
    "    <div>\n",
    "      <p>Hello world, it is {now.toString()}</p>\n",
    "      <p>\n",
    "        {a} plus {b} is {a + b}\n",
    "      </p>\n",
    "    </div>\n",
    "  )\n",
    "}\n",
    "```"
   ]
  },
  {
   "cell_type": "markdown",
   "metadata": {},
   "source": [
    "Any JavaScript code within the curly braces is evaluated and the result of this evaluation is embedded into the defined place in the HTML produced by the component.\n",
    "\n",
    "Note that you should not remove the line at the bottom of the component"
   ]
  },
  {
   "cell_type": "markdown",
   "metadata": {},
   "source": [
    "```jsx\n",
    "export default App\n",
    "```"
   ]
  },
  {
   "cell_type": "markdown",
   "metadata": {},
   "source": [
    "The export is not shown in most of the examples of the course material. Without the export the component and the whole app breaks down.\n",
    "\n",
    "Did you remember your promise to keep the console open? What was printed out there?"
   ]
  },
  {
   "cell_type": "markdown",
   "metadata": {},
   "source": [
    "## JSX"
   ]
  },
  {
   "cell_type": "markdown",
   "metadata": {},
   "source": [
    "It seems like React components are returning HTML markup. However, this is not the case. The layout of React components is mostly written using [JSX](https://react.dev/learn/writing-markup-with-jsx). Although JSX looks like HTML, we are dealing with a way to write JavaScript. Under the hood, JSX returned by React components is compiled into JavaScript.\n",
    "\n",
    "After compiling, our application looks like this:"
   ]
  },
  {
   "cell_type": "markdown",
   "metadata": {},
   "source": [
    "```jsx\n",
    "const App = () => {\n",
    "  const now = new Date()\n",
    "  const a = 10\n",
    "  const b = 20\n",
    "  return React.createElement(\n",
    "    'div',\n",
    "    null,\n",
    "    React.createElement(\n",
    "      'p', null, 'Hello world, it is ', now.toString()\n",
    "    ),\n",
    "    React.createElement(\n",
    "      'p', null, a, ' plus ', b, ' is ', a + b\n",
    "    )\n",
    "  )\n",
    "}\n",
    "```"
   ]
  },
  {
   "cell_type": "markdown",
   "metadata": {},
   "source": [
    "The compilation is handled by [Babel](https://babeljs.io/repl/#?browsers=defaults%2C%20not%20ie%2011%2C%20not%20ie_mob%2011&build=&builtIns=false&corejs=3.21&spec=false&loose=false&code_lz=Q&debug=false&forceAllTransforms=false&modules=false&shippedProposals=false&circleciRepo=&evaluate=false&fileSize=false&timeTravel=false&sourceType=module&lineWrap=true&presets=env%2Creact%2Cstage-2&prettier=false&targets=&version=7.24.5&externalPlugins=&assumptions=%7B%7D). Projects created with create-react-app or vite are configured to compile automatically. We will learn more about this topic in part 7 of this course.\n",
    "\n",
    "It is also possible to write React as \"pure JavaScript\" without using JSX. Although, nobody with a sound mind would do so.\n",
    "\n",
    "In practice, JSX is much like HTML with the distinction that with JSX you can easily embed dynamic content by writing appropriate JavaScript within curly braces. The idea of JSX is quite similar to many templating languages, such as Thymeleaf used along with Java Spring, which are used on servers.\n",
    "\n",
    "JSX is \"[XML](https://developer.mozilla.org/en-US/docs/Web/XML/XML_introduction)-like\", which means that every tag needs to be closed. For example, a newline is an empty element, which in HTML can be written as follows:"
   ]
  },
  {
   "cell_type": "markdown",
   "metadata": {},
   "source": [
    "```jsx\n",
    "<br>\n",
    "```"
   ]
  },
  {
   "cell_type": "markdown",
   "metadata": {},
   "source": [
    "but when writing JSX, the tag needs to be closed:"
   ]
  },
  {
   "cell_type": "markdown",
   "metadata": {},
   "source": [
    "```jsx\n",
    "<br />\n",
    "```"
   ]
  },
  {
   "cell_type": "markdown",
   "metadata": {},
   "source": [
    "## Multiple Components"
   ]
  },
  {
   "cell_type": "markdown",
   "metadata": {},
   "source": [
    "Let's modify the file App.jsx as follows:"
   ]
  },
  {
   "cell_type": "markdown",
   "metadata": {},
   "source": [
    "```jsx\n",
    "const Hello = () => {\n",
    "  return (\n",
    "    <div>\n",
    "      <p>Hello world</p>\n",
    "    </div>\n",
    "  )\n",
    "}\n",
    "\n",
    "const App = () => {\n",
    "  return (\n",
    "    <div>\n",
    "      <h1>Greetings</h1>\n",
    "\n",
    "      <Hello />\n",
    "    </div>\n",
    "  )\n",
    "}\n",
    "```"
   ]
  },
  {
   "cell_type": "markdown",
   "metadata": {},
   "source": [
    "We have defined a new component *Hello* and used it inside the component *App*. Naturally, a component can be used multiple times:"
   ]
  },
  {
   "cell_type": "markdown",
   "metadata": {},
   "source": [
    "```jsx\n",
    "const App = () => {\n",
    "  return (\n",
    "    <div>\n",
    "      <h1>Greetings</h1>\n",
    "      <Hello />\n",
    "\n",
    "      <Hello />\n",
    "      <Hello />\n",
    "    </div>\n",
    "  )\n",
    "}\n",
    "```"
   ]
  },
  {
   "cell_type": "markdown",
   "metadata": {},
   "source": [
    "**NB**: `export` at the bottom is left out in these examples, now and in the future. It is still needed for the code to work"
   ]
  },
  {
   "cell_type": "markdown",
   "metadata": {},
   "source": [
    "Writing components with React is easy, and by combining components, even a more complex application can be kept fairly maintainable. Indeed, a core philosophy of React is composing applications from many specialized reusable components.\n",
    "\n",
    "Another strong convention is the idea of a *root component* called *App* at the top of the component tree of the application. Nevertheless, as we will learn in [part 6](https://fullstackopen.com/en/part6), there are situations where the component *App* is not exactly the root, but is wrapped within an appropriate utility component."
   ]
  },
  {
   "cell_type": "markdown",
   "metadata": {},
   "source": [
    "## props: passing data to the components"
   ]
  },
  {
   "cell_type": "markdown",
   "metadata": {},
   "source": [
    "It is possible to pass data to components using so-called [props](https://react.dev/learn/passing-props-to-a-component).\n",
    "\n",
    "Let's modify the component *Hello* as follows:"
   ]
  },
  {
   "cell_type": "markdown",
   "metadata": {},
   "source": [
    "```jsx\n",
    "const Hello = (props) => {\n",
    "  return (\n",
    "    <div>\n",
    "\n",
    "      <p>Hello {props.name}</p>\n",
    "    </div>\n",
    "  )\n",
    "}\n",
    "```"
   ]
  },
  {
   "cell_type": "markdown",
   "metadata": {},
   "source": [
    "Now the function defining the component has a parameter props. As an argument, the parameter receives an object, which has fields corresponding to all the \"props\" the user of the component defines.\n",
    "\n",
    "The props are defined as follows:"
   ]
  },
  {
   "cell_type": "markdown",
   "metadata": {},
   "source": [
    "```jsx\n",
    "const App = () => {\n",
    "  return (\n",
    "    <div>\n",
    "      <h1>Greetings</h1>\n",
    "\n",
    "      <Hello name='George' />\n",
    "      <Hello name='Daisy' />\n",
    "    </div>\n",
    "  )\n",
    "}\n",
    "```"
   ]
  },
  {
   "cell_type": "markdown",
   "metadata": {},
   "source": [
    "There can be an arbitrary number of props and their values can be \"hard-coded\" strings or the results of JavaScript expressions. If the value of the prop is achieved using JavaScript it must be wrapped with curly braces.\n",
    "\n",
    "Let's modify the code so that the component *Hello* uses two props:"
   ]
  },
  {
   "cell_type": "markdown",
   "metadata": {},
   "source": [
    "```jsx\n",
    "const Hello = (props) => {\n",
    "\n",
    "  console.log(props)\n",
    "  return (\n",
    "    <div>\n",
    "      <p>\n",
    "\n",
    "        Hello {props.name}, you are {props.age} years old\n",
    "      </p>\n",
    "    </div>\n",
    "  )\n",
    "}\n",
    "\n",
    "const App = () => {\n",
    "\n",
    "  const name = 'Peter'\n",
    "  const age = 10\n",
    "\n",
    "  return (\n",
    "    <div>\n",
    "      <h1>Greetings</h1>\n",
    "\n",
    "      <Hello name='Maya' age={26 + 10} />\n",
    "      <Hello name={name} age={age} />\n",
    "    </div>\n",
    "  )\n",
    "}\n",
    "```"
   ]
  },
  {
   "cell_type": "markdown",
   "metadata": {},
   "source": [
    "The props sent by the component *App* are the values of the variables, the result of the evaluation of the sum expression and a regular string.\n",
    "\n",
    "Component *Hello* also logs the value of the object props to the console.\n",
    "\n",
    "I really hope your console was open. If it was not, remember what you promised:\n",
    "\n",
    ">I promise to keep the console open all the time during this course, and for the rest of my life when I'm doing web development\n",
    "\n",
    "Software development is hard. It gets even harder if one is not using all the possible available tools such as the web-console and debug printing with `console.log`. Professionals use both *all the time* and there is no single reason why a beginner should not adopt the use of these wonderful helper methods that will make his life so much easier."
   ]
  },
  {
   "cell_type": "markdown",
   "metadata": {},
   "source": [
    "## Possible error message"
   ]
  },
  {
   "cell_type": "markdown",
   "metadata": {},
   "source": [
    "Depending on the editor you are using, you may receive the following error message at this point:\n",
    "\n"
   ]
  },
  {
   "cell_type": "markdown",
   "metadata": {},
   "source": [
    "![](./images/error.png)"
   ]
  },
  {
   "cell_type": "markdown",
   "metadata": {},
   "source": [
    "It's not an actual error, but a warning caused by the [ESLint tool](https://eslint.org/). You can silence the warning [react/prop-types](https://github.com/jsx-eslint/eslint-plugin-react/blob/master/docs/rules/prop-types.md) by adding to the file .eslintrc.cjs the next line"
   ]
  },
  {
   "cell_type": "markdown",
   "metadata": {},
   "source": [
    "```cjs\n",
    "module.exports = {\n",
    "   root: true,\n",
    "   env: { browser: true, es2020: true },\n",
    "   extends: [\n",
    "     'eslint:recommended',\n",
    "     'plugin:react/recommended',\n",
    "     'plugin:react/jsx-runtime',\n",
    "     'plugin:react-hooks/recommended',\n",
    "   ],\n",
    "   ignorePatterns: ['dist', '.eslintrc.cjs'],\n",
    "   parserOptions: { ecmaVersion: 'latest', sourceType: 'module' },\n",
    "   settings: { react: { version: '18.2' } },\n",
    "   plugins: ['react-refresh'],\n",
    "   rules: {\n",
    "     'react-refresh/only-export-components': [\n",
    "       'warn',\n",
    "       { allowConstantExport: true },\n",
    "     ],\n",
    "\n",
    "     'react/prop-types': 0\n",
    "   },\n",
    "}\n",
    "```"
   ]
  },
  {
   "cell_type": "markdown",
   "metadata": {},
   "source": [
    "We will get to know ESLint in more detail in part 3."
   ]
  },
  {
   "cell_type": "markdown",
   "metadata": {},
   "source": [
    "# Some notes"
   ]
  },
  {
   "cell_type": "markdown",
   "metadata": {},
   "source": [
    "React has been configured to generate quite clear error messages. Despite this, you should, at least in the beginning, advance in **very small steps** and make sure that every change works as desired.\n",
    "\n",
    "**The console should always be open.** If the browser reports errors, it is not advisable to continue writing more code, hoping for miracles. You should instead try to understand the cause of the error and, for example, go back to the previous working state:"
   ]
  },
  {
   "cell_type": "markdown",
   "metadata": {},
   "source": [
    "![](./images/notes1.png)"
   ]
  },
  {
   "cell_type": "markdown",
   "metadata": {},
   "source": [
    "As we already mentioned, when programming with React, it is possible and worthwhile to write *console.log()* commands (which print to the console) within your code.\n",
    "\n",
    "Also, keep in mind that **First letter of React component names must be capitalized**. If you try defining a component as follows:"
   ]
  },
  {
   "cell_type": "markdown",
   "metadata": {},
   "source": [
    "```jsx\n",
    "const footer = () => {\n",
    "  return (\n",
    "    <div>\n",
    "      greeting app created by <a href='https://github.com/mluukkai'>mluukkai</a>\n",
    "    </div>\n",
    "  )\n",
    "}\n",
    "```"
   ]
  },
  {
   "cell_type": "markdown",
   "metadata": {},
   "source": [
    "and use it like this:"
   ]
  },
  {
   "cell_type": "markdown",
   "metadata": {},
   "source": [
    "```jsx\n",
    "const App = () => {\n",
    "  return (\n",
    "    <div>\n",
    "      <h1>Greetings</h1>\n",
    "      <Hello name='Maya' age={26 + 10} />\n",
    "\n",
    "      <footer />\n",
    "    </div>\n",
    "  )\n",
    "}\n",
    "```"
   ]
  },
  {
   "cell_type": "markdown",
   "metadata": {},
   "source": [
    "the page is not going to display the content defined within the footer component, and instead React only creates an empty footer element, i.e. the built-in HTML element instead of the custom React element of the same name. If you change the first letter of the component name to a capital letter, then React creates a div-element defined in the Footer component, which is rendered on the page.\n",
    "\n",
    "Note that the content of a React component (usually) needs to contain **one root element**. If we, for example, try to define the component App without the outermost div-element:"
   ]
  },
  {
   "cell_type": "markdown",
   "metadata": {},
   "source": [
    "```jsx\n",
    "const App = () => {\n",
    "  return (\n",
    "    <h1>Greetings</h1>\n",
    "    <Hello name='Maya' age={26 + 10} />\n",
    "    <Footer />\n",
    "  )\n",
    "}\n",
    "```"
   ]
  },
  {
   "cell_type": "markdown",
   "metadata": {},
   "source": [
    "the result is an error message."
   ]
  },
  {
   "cell_type": "markdown",
   "metadata": {},
   "source": [
    "![](./images/notes-error.png)"
   ]
  },
  {
   "cell_type": "markdown",
   "metadata": {},
   "source": [
    "Using a root element is not the only working option. An array of components is also a valid solution:"
   ]
  },
  {
   "cell_type": "markdown",
   "metadata": {},
   "source": [
    "```jsx\n",
    "const App = () => {\n",
    "  return [\n",
    "    <h1>Greetings</h1>,\n",
    "    <Hello name='Maya' age={26 + 10} />,\n",
    "    <Footer />\n",
    "  ]\n",
    "}\n",
    "```"
   ]
  },
  {
   "cell_type": "markdown",
   "metadata": {},
   "source": [
    "However, when defining the root component of the application this is not a particularly wise thing to do, and it makes the code look a bit ugly.\n",
    "\n",
    "Because the root element is stipulated, we have \"extra\" div elements in the DOM tree. This can be avoided by using [fragments](https://react.dev/reference/react/Fragment), i.e. by wrapping the elements to be returned by the component with an empty element:"
   ]
  },
  {
   "cell_type": "markdown",
   "metadata": {},
   "source": [
    "```jsx\n",
    "const App = () => {\n",
    "  const name = 'Peter'\n",
    "  const age = 10\n",
    "\n",
    "  return (\n",
    "    <>\n",
    "      <h1>Greetings</h1>\n",
    "      <Hello name='Maya' age={26 + 10} />\n",
    "      <Hello name={name} age={age} />\n",
    "      <Footer />\n",
    "    </>\n",
    "  )\n",
    "}\n",
    "```"
   ]
  },
  {
   "cell_type": "markdown",
   "metadata": {},
   "source": [
    "It now compiles successfully, and the DOM generated by React no longer contains the extra div element."
   ]
  },
  {
   "cell_type": "markdown",
   "metadata": {},
   "source": [
    "# Do not render objects"
   ]
  },
  {
   "cell_type": "markdown",
   "metadata": {},
   "source": [
    "Consider an application that prints the names and ages of our friends on the screen:"
   ]
  },
  {
   "cell_type": "markdown",
   "metadata": {},
   "source": [
    "```jsx\n",
    "const App = () => {\n",
    "  const friends = [\n",
    "    { name: 'Peter', age: 4 },\n",
    "    { name: 'Maya', age: 10 },\n",
    "  ]\n",
    "\n",
    "  return (\n",
    "    <div>\n",
    "      <p>{friends[0]}</p>\n",
    "      <p>{friends[1]}</p>\n",
    "    </div>\n",
    "  )\n",
    "}\n",
    "\n",
    "export default App\n",
    "```"
   ]
  },
  {
   "cell_type": "markdown",
   "metadata": {},
   "source": [
    "However, nothing appears on the screen. I've been trying to find a problem in the code for 15 minutes, but I can't figure out where the problem could be.\n",
    "\n",
    "I finally remember the promise we made\n",
    "\n",
    ">I promise to keep the console open all the time during this course, and for the rest of my life when I'm doing web development\n",
    "\n",
    "The console screams in red:"
   ]
  },
  {
   "cell_type": "markdown",
   "metadata": {},
   "source": [
    "![](./images/render.png)"
   ]
  },
  {
   "cell_type": "markdown",
   "metadata": {},
   "source": [
    "The core of the problem is `Objects are not valid as a React child`, i.e. the application tries to render objects and it fails again.\n",
    "\n",
    "The code tries to render the information of one friend as follows"
   ]
  },
  {
   "cell_type": "markdown",
   "metadata": {},
   "source": [
    "```jsx\n",
    "<p>{friends[0]}</p>\n",
    "```"
   ]
  },
  {
   "cell_type": "markdown",
   "metadata": {},
   "source": [
    "and this causes a problem because the item to be rendered in the braces is an object."
   ]
  },
  {
   "cell_type": "markdown",
   "metadata": {},
   "source": [
    "```jsx\n",
    "{ name: 'Peter', age: 4 }\n",
    "```"
   ]
  },
  {
   "cell_type": "markdown",
   "metadata": {},
   "source": [
    "In React, the individual things rendered in braces must be primitive values, such as numbers or strings.\n",
    "\n",
    "The fix is ​​as follows"
   ]
  },
  {
   "cell_type": "markdown",
   "metadata": {},
   "source": [
    "```jsx\n",
    "const App = () => {\n",
    "  const friends = [\n",
    "    { name: 'Peter', age: 4 },\n",
    "    { name: 'Maya', age: 10 },\n",
    "  ]\n",
    "\n",
    "  return (\n",
    "    <div>\n",
    "      <p>{friends[0].name} {friends[0].age}</p>\n",
    "      <p>{friends[1].name} {friends[1].age}</p>\n",
    "    </div>\n",
    "  )\n",
    "}\n",
    "\n",
    "export default App\n",
    "```"
   ]
  },
  {
   "cell_type": "markdown",
   "metadata": {},
   "source": [
    "So now the friend's name is rendered separately inside the curly braces\n",
    "\n",
    "```jsx\n",
    "{friends[0].name}\n",
    "```\n",
    "\n",
    "and age\n",
    "\n",
    "```jsx\n",
    "{friends[0].age}\n",
    "```\n",
    "\n",
    "After correcting the error, you should clear the console error messages by pressing &#x1F6AB; and then reload the page content and make sure that no error messages are displayed."
   ]
  },
  {
   "cell_type": "markdown",
   "metadata": {},
   "source": [
    "A small additional note to the previous one. React also allows arrays to be rendered if the array contains values ​​that are eligible for rendering (such as numbers or strings). So the following program would work, although the result might not be what we want:\n",
    "```jsx\n",
    "const App = () => {\n",
    "  const friends = [ 'Peter', 'Maya']\n",
    "\n",
    "  return (\n",
    "    <div>\n",
    "      <p>{friends}</p>\n",
    "    </div>\n",
    "  )\n",
    "}\n",
    "```\n",
    "In this part, it is not even worth trying to use the direct rendering of the tables, we will come back to it in the next part."
   ]
  },
  {
   "cell_type": "markdown",
   "metadata": {},
   "source": [
    "> ## Exercises 1.1.-1.2.\n",
    ">\n",
    "> The exercises are submitted via GitHub, and by marking the exercises as done in the \"my submissions\" tab of the [submission application](https://studies.cs.helsinki.fi/stats/courses/fullstackopen).\n",
    ">\n",
    "> The exercises are submitted *one part at a time*. When you have submitted the exercises for a part of the course you can no longer submit undone exercises for the same part.\n",
    ">\n",
    "> Note that in this part, there are [more exercises](https://fullstackopen.com/en/part1/a_more_complex_state_debugging_react_apps#exercises-1-6-1-14) besides those found below. Do not submit your work until you have completed all of the exercises you want to submit for the part.\n",
    "> \n",
    "> You may submit all the exercises of this course into the same repository, or use multiple repositories. If you submit exercises of different parts into the same repository, please use a sensible naming scheme for the directories.\n",
    "> \n",
    "> One very functional file structure for the submission repository is as follows:\n",
    "> ```\n",
    "> part0\n",
    "> part1\n",
    ">  courseinfo\n",
    ">  unicafe\n",
    ">   anecdotes\n",
    "> part2\n",
    ">   phonebook\n",
    ">   countriescopy\n",
    "> ```\n",
    ">\n",
    ">\n",
    "> See this [example submission repository](https://github.com/fullstack-hy2020/example-submission-repository)!\n",
    "> \n"
   ]
  },
  {
   "cell_type": "markdown",
   "metadata": {},
   "source": [
    "> For each part of the course, there is a directory, which further branches into directories containing a series of exercises, like \"unicafe\" for part 1.\n",
    ">\n",
    "> Most of the exercises of the course build a larger application, eg. courseinfo, unicafe and anecdotes in this part, bit by bit. It is enough to submit the completed application. You can make a commit after each exercise, but that is not compulsory. For example the course info app is built in exercises 1.1.-1.5. It is just the end result after 1.5 that you need to submit!\n",
    ">\n",
    "> For each web application for a series of exercises, it is recommended to submit all files relating to that application, except for the directory node_modules."
   ]
  },
  {
   "cell_type": "markdown",
   "metadata": {},
   "source": [
    "> #### 1.1: Course Information, step 1\n",
    "> \n",
    "> The application that we will start working on in this exercise will be further developed in a few of the following exercises. In this and other upcoming exercise sets in this course, it is enough to only submit the final state of the application. If desired, you may also create a commit for each exercise of the series, but this is entirely optional.\n",
    "> \n",
    "> Use Vite to initialize a new application. Modify *main.jsx* to match the following\n",
    ">\n",
    "> ```jsx\n",
    "> import ReactDOM from 'react-dom/client'\n",
    "> \n",
    "> import App from './App'\n",
    "> \n",
    "> ReactDOM.createRoot(document.getElementById('root')).render(<App />)copy\n",
    "> ```\n",
    ">\n",
    "> and *App.jsx* to match the following"
   ]
  },
  {
   "cell_type": "markdown",
   "metadata": {},
   "source": [
    "> ```jsx\n",
    "> const App = () => {\n",
    ">   const course = 'Half Stack application development'\n",
    ">   const part1 = 'Fundamentals of React'\n",
    ">   const exercises1 = 10\n",
    ">   const part2 = 'Using props to pass data'\n",
    ">   const exercises2 = 7\n",
    ">   const part3 = 'State of a component'\n",
    ">   const exercises3 = 14\n",
    "> \n",
    ">   return (\n",
    ">     <div>\n",
    ">       <h1>{course}</h1>\n",
    ">       <p>\n",
    ">         {part1} {exercises1}\n",
    ">       </p>\n",
    ">       <p>\n",
    ">         {part2} {exercises2}\n",
    ">       </p>\n",
    ">       <p>\n",
    ">         {part3} {exercises3}\n",
    ">       </p>\n",
    ">       <p>Number of exercises {exercises1 + exercises2 + exercises3}</p>\n",
    ">     </div>\n",
    ">   )\n",
    "> }\n",
    "> \n",
    "> export default App\n",
    "> ```"
   ]
  },
  {
   "cell_type": "markdown",
   "metadata": {},
   "source": [
    "> and remove the extra files App.css and index.css, also remove the directory assets.\n",
    ">\n",
    "> Unfortunately, the entire application is in the same component. Refactor the code so that it consists of three new components: *Header, Content, and Total*. All data still resides in the *App* component, which passes the necessary data to each component using *props*. Header takes care of rendering the name of the course, *Content* renders the parts and their number of exercises and *Total* renders the total number of exercises.\n",
    ">\n",
    "> Define the new components in the file *App.jsx*.\n",
    ">\n",
    "> The *App* component's body will approximately be as follows:"
   ]
  },
  {
   "cell_type": "markdown",
   "metadata": {},
   "source": [
    "> ```jsx\n",
    "> const App = () => {\n",
    ">   // const-definitions\n",
    "> \n",
    ">   return (\n",
    ">     <div>\n",
    ">       <Header course={course} />\n",
    ">       <Content ... />\n",
    ">       <Total ... />\n",
    ">     </div>\n",
    ">   )\n",
    "> }\n",
    "> ```"
   ]
  },
  {
   "cell_type": "markdown",
   "metadata": {},
   "source": [
    "> **WARNING** Don't try to program all the components concurrently, because that will almost certainly break down the whole app. Proceed in small steps, first make e.g. the component Header and only when it works for sure, you could proceed to the next component.\n",
    ">\n",
    "> Careful, small-step progress may seem slow, but it is actually by far the fastest way to progress. Famous software developer Robert \"Uncle Bob\" Martin has stated\n",
    ">\n",
    ">> \"The only way to go fast, is to go well\"\n",
    ">\n",
    "> that is, according to Martin, careful progress with small steps is even the only way to be fast."
   ]
  },
  {
   "cell_type": "markdown",
   "metadata": {},
   "source": [
    "> #### 1.2: Course Information, step 2\n",
    ">\n",
    "> Refactor the *Content* component so that it does not render any names of parts or their number of exercises by itself. Instead, it only renders three *Part* components of which each renders the name and number of exercises of one part.\n",
    ">\n",
    "> ```javascript\n",
    "> const Content = ... {\n",
    ">   return (\n",
    ">     <div>\n",
    ">      <Part .../>\n",
    ">      <Part .../>\n",
    ">      <Part .../>\n",
    ">    </div>\n",
    ">  )\n",
    "> }\n",
    "> ```\n",
    ">\n",
    "> Our application passes on information in quite a primitive way at the moment, since it is based on individual variables. We shall fix that in part 2, but before that, let's go to part1b to learn about JavaScript."
   ]
  },
  {
   "cell_type": "markdown",
   "metadata": {},
   "source": []
  }
 ],
 "metadata": {
  "language_info": {
   "name": "python"
  }
 },
 "nbformat": 4,
 "nbformat_minor": 2
}
