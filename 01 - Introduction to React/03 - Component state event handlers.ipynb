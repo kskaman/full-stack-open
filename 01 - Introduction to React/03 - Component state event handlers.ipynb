{
 "cells": [
  {
   "cell_type": "markdown",
   "metadata": {},
   "source": [
    "# Component state, event handlers"
   ]
  },
  {
   "cell_type": "markdown",
   "metadata": {},
   "source": [
    "Let's go back to working with React.\n",
    "\n",
    "We start with a new example:"
   ]
  },
  {
   "cell_type": "markdown",
   "metadata": {},
   "source": [
    "```jsx\n",
    "const Hello = (props) => {\n",
    "  return (\n",
    "    <div>\n",
    "      <p>\n",
    "        Hello {props.name}, you are {props.age} years old\n",
    "      </p>\n",
    "    </div>\n",
    "  )\n",
    "}\n",
    "\n",
    "const App = () => {\n",
    "  const name = 'Peter'\n",
    "  const age = 10\n",
    "\n",
    "  return (\n",
    "    <div>\n",
    "      <h1>Greetings</h1>\n",
    "      <Hello name=\"Maya\" age={26 + 10} />\n",
    "      <Hello name={name} age={age} />\n",
    "    </div>\n",
    "  )\n",
    "}\n",
    "```"
   ]
  },
  {
   "cell_type": "markdown",
   "metadata": {},
   "source": [
    "# Component helper functions"
   ]
  },
  {
   "cell_type": "markdown",
   "metadata": {},
   "source": [
    "Let's expand our *Hello* component so that it guesses the year of birth of the person being greeted:"
   ]
  },
  {
   "cell_type": "markdown",
   "metadata": {},
   "source": [
    "```jsx\n",
    "const Hello = (props) => {\n",
    "\n",
    "  const bornYear = () => {\n",
    "    const yearNow = new Date().getFullYear()\n",
    "    return yearNow - props.age\n",
    "  }\n",
    "\n",
    "  return (\n",
    "    <div>\n",
    "      <p>\n",
    "        Hello {props.name}, you are {props.age} years old\n",
    "      </p>\n",
    "\n",
    "      <p>So you were probably born in {bornYear()}</p>\n",
    "    </div>\n",
    "  )\n",
    "}\n",
    "```"
   ]
  },
  {
   "cell_type": "markdown",
   "metadata": {},
   "source": [
    "The logic for guessing the year of birth is separated into a function of its own that is called when the component is rendered.\n",
    "\n",
    "The person's age does not have to be passed as a parameter to the function, since it can directly access all props that are passed to the component.\n",
    "\n",
    "If we examine our current code closely, we'll notice that the helper function is defined inside of another function that defines the behavior of our component. In Java programming, defining a function inside another one is complex and cumbersome, so not all that common. In JavaScript, however, defining functions within functions is a commonly-used technique."
   ]
  },
  {
   "cell_type": "markdown",
   "metadata": {},
   "source": [
    "# Destructuring"
   ]
  },
  {
   "cell_type": "markdown",
   "metadata": {},
   "source": [
    "Before we move forward, we will take a look at a small but useful feature of the JavaScript language that was added in the ES6 specification, that allows us to [destructure](https://developer.mozilla.org/en-US/docs/Web/JavaScript/Reference/Operators/Destructuring_assignment) values from objects and arrays upon assignment.\n",
    "\n",
    "In our previous code, we had to reference the data passed to our component as `props.name` and `props.age`. Of these two expressions, we had to repeat props.age twice in our code.\n",
    "\n",
    "Since *props* is an object"
   ]
  },
  {
   "cell_type": "markdown",
   "metadata": {},
   "source": [
    "```jsx\n",
    "props = {\n",
    "  name: 'Arto Hellas',\n",
    "  age: 35,\n",
    "}\n",
    "```"
   ]
  },
  {
   "cell_type": "markdown",
   "metadata": {},
   "source": [
    "we can streamline our component by assigning the values of the properties directly into two variables `name` and `age` which we can then use in our code:"
   ]
  },
  {
   "cell_type": "markdown",
   "metadata": {},
   "source": [
    "```jsx\n",
    "const Hello = (props) => {\n",
    "\n",
    "  const name = props.name\n",
    "  const age = props.age\n",
    "\n",
    "\n",
    "  const bornYear = () => new Date().getFullYear() - age\n",
    "\n",
    "  return (\n",
    "    <div>\n",
    "\n",
    "      <p>Hello {name}, you are {age} years old</p>\n",
    "      <p>So you were probably born in {bornYear()}</p>\n",
    "    </div>\n",
    "  )\n",
    "}\n",
    "```"
   ]
  },
  {
   "cell_type": "markdown",
   "metadata": {},
   "source": [
    "Note that we've also utilized the more compact syntax for arrow functions when defining the `bornYear` function. As mentioned earlier, if an arrow function consists of a single expression, then the function body does not need to be written inside of curly braces. In this more compact form, the function simply returns the result of the single expression.\n",
    "\n",
    "To recap, the two function definitions shown below are equivalent:"
   ]
  },
  {
   "cell_type": "markdown",
   "metadata": {},
   "source": [
    "```jsx\n",
    "const bornYear = () => new Date().getFullYear() - age\n",
    "\n",
    "const bornYear = () => {\n",
    "  return new Date().getFullYear() - age\n",
    "}\n",
    "```"
   ]
  },
  {
   "cell_type": "markdown",
   "metadata": {},
   "source": [
    "Destructuring makes the assignment of variables even easier since we can use it to extract and gather the values of an object's properties into separate variables:"
   ]
  },
  {
   "cell_type": "markdown",
   "metadata": {},
   "source": [
    "```jsx\n",
    "const Hello = (props) => {\n",
    "\n",
    "  const { name, age } = props\n",
    "  const bornYear = () => new Date().getFullYear() - age\n",
    "\n",
    "  return (\n",
    "    <div>\n",
    "      <p>Hello {name}, you are {age} years old</p>\n",
    "      <p>So you were probably born in {bornYear()}</p>\n",
    "    </div>\n",
    "  )\n",
    "}\n",
    "```"
   ]
  },
  {
   "cell_type": "markdown",
   "metadata": {},
   "source": [
    "When the object that we are destructuring has the values"
   ]
  },
  {
   "cell_type": "markdown",
   "metadata": {},
   "source": [
    "```jsx\n",
    "props = {\n",
    "  name: 'Arto Hellas',\n",
    "  age: 35,\n",
    "}\n",
    "```"
   ]
  },
  {
   "cell_type": "markdown",
   "metadata": {},
   "source": [
    "the expression `const { name, age } = props` assigns the values 'Arto Hellas' to name and 35 to age.\n",
    "\n",
    "We can take destructuring a step further:"
   ]
  },
  {
   "cell_type": "markdown",
   "metadata": {},
   "source": [
    "```jsx\n",
    "const Hello = ({ name, age }) => {\n",
    "  const bornYear = () => new Date().getFullYear() - age\n",
    "\n",
    "  return (\n",
    "    <div>\n",
    "      <p>\n",
    "        Hello {name}, you are {age} years old\n",
    "      </p>\n",
    "      <p>So you were probably born in {bornYear()}</p>\n",
    "    </div>\n",
    "  )\n",
    "}\n",
    "```"
   ]
  },
  {
   "cell_type": "markdown",
   "metadata": {},
   "source": [
    "The props that are passed to the component are now directly destructured into the variables, `name` and `age`.\n",
    "\n",
    "This means that instead of assigning the entire props object into a variable called *props* and then assigning its properties to the variables `name` and `age`\n",
    "```jsx\n",
    "const Hello = (props) => {\n",
    "  const { name, age } = propscopy\n",
    "```\n",
    "we assign the values of the properties directly to variables by destructuring the props object that is passed to the component function as a parameter:\n",
    "```jsx\n",
    "const Hello = ({ name, age }) => {\n",
    "```"
   ]
  },
  {
   "cell_type": "markdown",
   "metadata": {},
   "source": [
    "# Page re-rendering"
   ]
  },
  {
   "cell_type": "markdown",
   "metadata": {},
   "source": [
    "So far all of our applications have been such that their appearance remains the same after the initial rendering. What if we wanted to create a counter where the value increased as a function of time or at the click of a button?\n",
    "\n",
    "Let's start with the following. File App.jsx becomes:"
   ]
  },
  {
   "cell_type": "markdown",
   "metadata": {},
   "source": [
    "```jsx\n",
    "const App = (props) => {\n",
    "  const {counter} = props\n",
    "  return (\n",
    "    <div>{counter}</div>\n",
    "  )\n",
    "}\n",
    "\n",
    "export default App\n",
    "```"
   ]
  },
  {
   "cell_type": "markdown",
   "metadata": {},
   "source": [
    "And file main.jsx becomes:"
   ]
  },
  {
   "cell_type": "markdown",
   "metadata": {},
   "source": [
    "```jsx\n",
    "import ReactDOM from 'react-dom/client'\n",
    "\n",
    "import App from './App'\n",
    "\n",
    "let counter = 1\n",
    "\n",
    "ReactDOM.createRoot(document.getElementById('root')).render(\n",
    "  <App counter={counter} />\n",
    ")\n",
    "```"
   ]
  },
  {
   "cell_type": "markdown",
   "metadata": {},
   "source": [
    "The App component is given the value of the `counter` via the counter prop. This component renders the value to the screen. What happens when the value of `counter` changes? Even if we were to add the following"
   ]
  },
  {
   "cell_type": "markdown",
   "metadata": {},
   "source": [
    "```jsx\n",
    "counter += 1\n",
    "```"
   ]
  },
  {
   "cell_type": "markdown",
   "metadata": {},
   "source": [
    "the component won't re-render. We can get the component to re-render by calling the `render` method a second time, e.g. in the following way:"
   ]
  },
  {
   "cell_type": "markdown",
   "metadata": {},
   "source": [
    "```jsx\n",
    "let counter = 1\n",
    "\n",
    "const refresh = () => {\n",
    "  ReactDOM.createRoot(document.getElementById('root')).render(\n",
    "    <App counter={counter} />\n",
    "  )\n",
    "}\n",
    "\n",
    "refresh()\n",
    "counter += 1\n",
    "refresh()\n",
    "counter += 1\n",
    "refresh()\n",
    "```"
   ]
  },
  {
   "cell_type": "markdown",
   "metadata": {},
   "source": [
    "The re-rendering command has been wrapped inside of the `refresh` function to cut down on the amount of copy-pasted code.\n",
    "\n",
    "Now the component *renders three times*, first with the value 1, then 2, and finally 3. However, values 1 and 2 are displayed on the screen for such a short amount of time that they can't be noticed.\n",
    "\n",
    "We can implement slightly more interesting functionality by re-rendering and incrementing the counter every second by using [setInterval](https://developer.mozilla.org/en-US/docs/Web/API/setInterval):"
   ]
  },
  {
   "cell_type": "markdown",
   "metadata": {},
   "source": [
    "```jsx\n",
    "setInterval(() => {\n",
    "  refresh()\n",
    "  counter += 1\n",
    "}, 1000)\n",
    "```"
   ]
  },
  {
   "cell_type": "markdown",
   "metadata": {},
   "source": [
    "Making repeated calls to the `render` method is not the recommended way to re-render components. Next, we'll introduce a better way of accomplishing this effect."
   ]
  },
  {
   "cell_type": "markdown",
   "metadata": {},
   "source": [
    "# Stateful component"
   ]
  },
  {
   "cell_type": "markdown",
   "metadata": {},
   "source": [
    "All of our components up till now have been simple in the sense that they have not contained any state that could change during the lifecycle of the component.\n",
    "\n",
    "Next, let's add state to our application's *App* component with the help of React's [state hook](https://react.dev/learn/state-a-components-memory).\n",
    "\n",
    "We will change the application as follows. *main.jsx* goes back to:"
   ]
  },
  {
   "cell_type": "markdown",
   "metadata": {},
   "source": [
    "```jsx\n",
    "import ReactDOM from 'react-dom/client'\n",
    "\n",
    "import App from './App'\n",
    "\n",
    "ReactDOM.createRoot(document.getElementById('root')).render(<App />)\n",
    "```"
   ]
  },
  {
   "cell_type": "markdown",
   "metadata": {},
   "source": [
    "and *App.jsx* changes to the following:"
   ]
  },
  {
   "cell_type": "markdown",
   "metadata": {},
   "source": [
    "```jsx\n",
    "import { useState } from 'react'\n",
    "\n",
    "const App = () => {\n",
    "\n",
    "  const [ counter, setCounter ] = useState(0)\n",
    "\n",
    "\n",
    "  setTimeout(\n",
    "    () => setCounter(counter + 1),\n",
    "    1000\n",
    "  )\n",
    "\n",
    "  return (\n",
    "    <div>{counter}</div>\n",
    "  )\n",
    "}\n",
    "\n",
    "export default App\n",
    "```"
   ]
  },
  {
   "cell_type": "markdown",
   "metadata": {},
   "source": [
    "In the first row, the file imports the `useState` function:"
   ]
  },
  {
   "cell_type": "markdown",
   "metadata": {},
   "source": [
    "```jsx\n",
    "import { useState } from 'react'\n",
    "```"
   ]
  },
  {
   "cell_type": "markdown",
   "metadata": {},
   "source": [
    "The function body that defines the component begins with the function call:"
   ]
  },
  {
   "cell_type": "markdown",
   "metadata": {},
   "source": [
    "```jsx\n",
    "const [ counter, setCounter ] = useState(0)\n",
    "```"
   ]
  },
  {
   "cell_type": "markdown",
   "metadata": {},
   "source": [
    "The function call adds *state* to the component and renders it initialized with the value zero. The function returns an array that contains two items. We assign the items to the variables `counter` and `setCounter` by using the destructuring assignment syntax shown earlier.\n",
    "\n",
    "The `counter` variable is assigned the initial value of state, which is zero. The variable `setCounter` is assigned a function that will be used to modify the state.\n",
    "\n",
    "The application calls the [setTimeout](https://developer.mozilla.org/en-US/docs/Web/API/setTimeout) function and passes it two parameters: a function to increment the counter state and a timeout of one second:"
   ]
  },
  {
   "cell_type": "markdown",
   "metadata": {},
   "source": [
    "```js\n",
    "setTimeout(\n",
    "  () => setCounter(counter + 1),\n",
    "  1000\n",
    ")\n",
    "```"
   ]
  },
  {
   "cell_type": "markdown",
   "metadata": {},
   "source": [
    "The function passed as the first parameter to the `setTimeout` function is invoked one second after calling the `setTimeout` function"
   ]
  },
  {
   "cell_type": "markdown",
   "metadata": {},
   "source": [
    "```js\n",
    "() => setCounter(counter + 1)\n",
    "```"
   ]
  },
  {
   "cell_type": "markdown",
   "metadata": {},
   "source": [
    "When the state modifying function `setCounter` is called, React re-renders the component which means that the function body of the component function gets re-executed:"
   ]
  },
  {
   "cell_type": "markdown",
   "metadata": {},
   "source": [
    "```js\n",
    "() => {\n",
    "  const [ counter, setCounter ] = useState(0)\n",
    "\n",
    "  setTimeout(\n",
    "    () => setCounter(counter + 1),\n",
    "    1000\n",
    "  )\n",
    "\n",
    "  return (\n",
    "    <div>{counter}</div>\n",
    "  )\n",
    "}\n",
    "```"
   ]
  },
  {
   "cell_type": "markdown",
   "metadata": {},
   "source": [
    "The second time the component function is executed it calls the `useState` function and returns the new value of the state: 1. Executing the function body again also makes a new function call to `setTimeout`, which executes the one-second timeout and increments the `counter` state again. Because the value of the `counter` variable is 1, incrementing the value by 1 is essentially the same as an expression setting the value of `counter` to 2."
   ]
  },
  {
   "cell_type": "markdown",
   "metadata": {},
   "source": [
    "```js\n",
    "() => setCounter(2)\n",
    "```"
   ]
  },
  {
   "cell_type": "markdown",
   "metadata": {},
   "source": [
    "Meanwhile, the old value of counter - \"1\" - is rendered to the screen.\n",
    "\n",
    "Every time the setCounter modifies the state it causes the component to re-render. The value of the state will be incremented again after one second, and this will continue to repeat for as long as the application is running.\n",
    "\n",
    "If the component doesn't render when you think it should, or if it renders at the \"wrong time\", you can debug the application by logging the values of the component's variables to the console. If we make the following additions to our code:"
   ]
  },
  {
   "cell_type": "markdown",
   "metadata": {},
   "source": [
    "```js\n",
    "const App = () => {\n",
    "  const [ counter, setCounter ] = useState(0)\n",
    "\n",
    "  setTimeout(\n",
    "    () => setCounter(counter + 1),\n",
    "    1000\n",
    "  )\n",
    "\n",
    "\n",
    "  console.log('rendering...', counter)\n",
    "\n",
    "  return (\n",
    "    <div>{counter}</div>\n",
    "  )\n",
    "}\n",
    "```"
   ]
  },
  {
   "cell_type": "markdown",
   "metadata": {},
   "source": [
    "It's easy to follow and track the calls made to the App component's render function:\n",
    "\n"
   ]
  },
  {
   "cell_type": "markdown",
   "metadata": {},
   "source": [
    "![](./images/state.png)"
   ]
  },
  {
   "cell_type": "markdown",
   "metadata": {},
   "source": [
    "Was your browser console open? If it wasn't, then promise that this was the last time you need to be reminded about it."
   ]
  },
  {
   "cell_type": "markdown",
   "metadata": {},
   "source": [
    "# Event handling"
   ]
  },
  {
   "cell_type": "markdown",
   "metadata": {},
   "source": [
    "We have already mentioned the event handlers that are registered to be called when specific events occur a few times in part 0. A user's interaction with the different elements of a web page can cause a collection of various kinds of events to be triggered.\n",
    "\n",
    "Let's change the application so that increasing the counter happens when a user clicks a button, which is implemented with the [`button`](https://developer.mozilla.org/en-US/docs/Web/HTML/Element/button) element.\n",
    "\n",
    "Button elements support so-called [mouse events](https://developer.mozilla.org/en-US/docs/Web/API/MouseEvent), of which [click](https://developer.mozilla.org/en-US/docs/Web/API/Element/click_event) is the most common event. The click event on a button can also be triggered with the keyboard or a touch screen despite the name mouse event.\n",
    "\n",
    "In React, [registering an event handler](https://react.dev/learn/responding-to-events) function to the click event happens like this:"
   ]
  },
  {
   "cell_type": "markdown",
   "metadata": {},
   "source": [
    "```js\n",
    "const App = () => {\n",
    "  const [ counter, setCounter ] = useState(0)\n",
    "\n",
    "\n",
    "  const handleClick = () => {\n",
    "    console.log('clicked')\n",
    "  }\n",
    "\n",
    "  return (\n",
    "    <div>\n",
    "      <div>{counter}</div>\n",
    "\n",
    "      <button onClick={handleClick}>\n",
    "        plus\n",
    "      </button>\n",
    "    </div>\n",
    "  )\n",
    "}\n",
    "```"
   ]
  },
  {
   "cell_type": "markdown",
   "metadata": {},
   "source": [
    "We set the value of the button's onClick attribute to be a reference to the handleClick function defined in the code.\n",
    "\n",
    "Now every click of the plus button causes the handleClick function to be called, meaning that every click event will log a clicked message to the browser console.\n",
    "\n",
    "The event handler function can also be defined directly in the value assignment of the onClick-attribute:"
   ]
  },
  {
   "cell_type": "markdown",
   "metadata": {},
   "source": [
    "```js\n",
    "const App = () => {\n",
    "  const [ counter, setCounter ] = useState(0)\n",
    "\n",
    "  return (\n",
    "    <div>\n",
    "      <div>{counter}</div>\n",
    "\n",
    "      <button onClick={() => console.log('clicked')}>\n",
    "        plus\n",
    "      </button>\n",
    "    </div>\n",
    "  )\n",
    "}\n",
    "```"
   ]
  },
  {
   "cell_type": "markdown",
   "metadata": {},
   "source": [
    "By changing the event handler to the following form"
   ]
  },
  {
   "cell_type": "markdown",
   "metadata": {},
   "source": [
    "```js\n",
    "<button onClick={() => setCounter(counter + 1)}>\n",
    "  plus\n",
    "</button>\n",
    "```"
   ]
  },
  {
   "cell_type": "markdown",
   "metadata": {},
   "source": [
    "we achieve the desired behavior, meaning that the value of counter is increased by one and the component gets re-rendered.\n",
    "\n",
    "Let's also add a button for resetting the counter:"
   ]
  },
  {
   "cell_type": "markdown",
   "metadata": {},
   "source": [
    "```js\n",
    "const App = () => {\n",
    "  const [ counter, setCounter ] = useState(0)\n",
    "\n",
    "  return (\n",
    "    <div>\n",
    "      <div>{counter}</div>\n",
    "      <button onClick={() => setCounter(counter + 1)}>\n",
    "        plus\n",
    "      </button>\n",
    "\n",
    "      <button onClick={() => setCounter(0)}> \n",
    "        zero\n",
    "      </button>\n",
    "    </div>\n",
    "  )\n",
    "}\n",
    "```"
   ]
  },
  {
   "cell_type": "markdown",
   "metadata": {},
   "source": [
    "Our application is now ready!"
   ]
  },
  {
   "cell_type": "markdown",
   "metadata": {},
   "source": [
    "# An event handler is a function"
   ]
  },
  {
   "cell_type": "markdown",
   "metadata": {},
   "source": [
    "We define the event handlers for our buttons where we declare their onClick attributes:"
   ]
  },
  {
   "cell_type": "markdown",
   "metadata": {},
   "source": [
    "```js\n",
    "<button onClick={() => setCounter(counter + 1)}> \n",
    "  plus\n",
    "</button>\n",
    "```"
   ]
  },
  {
   "cell_type": "markdown",
   "metadata": {},
   "source": [
    "What if we tried to define the event handlers in a simpler form?"
   ]
  },
  {
   "cell_type": "markdown",
   "metadata": {},
   "source": [
    "```js\n",
    "<button onClick={setCounter(counter + 1)}> \n",
    "  plus\n",
    "</button>\n",
    "```"
   ]
  },
  {
   "cell_type": "markdown",
   "metadata": {},
   "source": [
    "This would completely break our application:"
   ]
  },
  {
   "cell_type": "markdown",
   "metadata": {},
   "source": [
    "![](./images/eventFunction.png)"
   ]
  },
  {
   "cell_type": "markdown",
   "metadata": {},
   "source": [
    "What's going on? An event handler is supposed to be either a function or a function reference, and when we write:\n",
    "```js\n",
    "<button onClick={setCounter(counter + 1)}>\n",
    "```\n",
    "the event handler is actually a function call. In many situations this is ok, but not in this particular situation. In the beginning, the value of the counter variable is 0. When React renders the component for the first time, it executes the function call setCounter(0+1), and changes the value of the component's state to 1. This will cause the component to be re-rendered, React will execute the setCounter function call again, and the state will change leading to another re-render..."
   ]
  },
  {
   "cell_type": "markdown",
   "metadata": {},
   "source": [
    "Let's define the event handlers like we did before:\n",
    "```js\n",
    "<button onClick={() => setCounter(counter + 1)}> \n",
    "  plus\n",
    "</button>\n",
    "```\n",
    "Now the button's attribute which defines what happens when the button is clicked - onClick - has the value () => setCounter(counter + 1). The setCounter function is called only when a user clicks the button.\n",
    "\n",
    "Usually defining event handlers within JSX-templates is not a good idea. Here it's ok, because our event handlers are so simple."
   ]
  },
  {
   "cell_type": "markdown",
   "metadata": {},
   "source": [
    "Let's separate the event handlers into separate functions anyway:"
   ]
  },
  {
   "cell_type": "markdown",
   "metadata": {},
   "source": [
    "```js\n",
    "const App = () => {\n",
    "  const [ counter, setCounter ] = useState(0)\n",
    "\n",
    "\n",
    "  const increaseByOne = () => setCounter(counter + 1)\n",
    "  \n",
    "  const setToZero = () => setCounter(0)\n",
    "\n",
    "  return (\n",
    "    <div>\n",
    "      <div>{counter}</div>\n",
    "\n",
    "      <button onClick={increaseByOne}>\n",
    "        plus\n",
    "      </button>\n",
    "\n",
    "      <button onClick={setToZero}>\n",
    "        zero\n",
    "      </button>\n",
    "    </div>\n",
    "  )\n",
    "}\n",
    "```"
   ]
  },
  {
   "cell_type": "markdown",
   "metadata": {},
   "source": [
    "Here, the event handlers have been defined correctly. The value of the onClick attribute is a variable containing a reference to a function:"
   ]
  },
  {
   "cell_type": "markdown",
   "metadata": {},
   "source": [
    "```js\n",
    "<button onClick={increaseByOne}> \n",
    "  plus\n",
    "</button>\n",
    "```"
   ]
  },
  {
   "cell_type": "markdown",
   "metadata": {},
   "source": [
    "# Passing state - to child components"
   ]
  },
  {
   "cell_type": "markdown",
   "metadata": {},
   "source": [
    "It's recommended to write React components that are small and reusable across the application and even across projects. Let's refactor our application so that it's composed of three smaller components, one component for displaying the counter and two components for buttons.\n",
    "\n",
    "Let's first implement a Display component that's responsible for displaying the value of the counter.\n",
    "\n",
    "One best practice in React is to [lift the state up](https://react.dev/learn/sharing-state-between-components) in the component hierarchy. The documentation says:\n",
    "\n",
    "> Often, several components need to reflect the same changing data. We recommend lifting the shared state up to their closest common ancestor.\n",
    "\n",
    "So let's place the application's state in the App component and pass it down to the Display component through props:"
   ]
  },
  {
   "cell_type": "markdown",
   "metadata": {},
   "source": [
    "```js\n",
    "const Display = (props) => {\n",
    "  return (\n",
    "    <div>{props.counter}</div>\n",
    "  )\n",
    "}\n",
    "```"
   ]
  },
  {
   "cell_type": "markdown",
   "metadata": {},
   "source": [
    "Using the component is straightforward, as we only need to pass the state of the counter to it:"
   ]
  },
  {
   "cell_type": "markdown",
   "metadata": {},
   "source": [
    "```js\n",
    "const App = () => {\n",
    "  const [ counter, setCounter ] = useState(0)\n",
    "\n",
    "  const increaseByOne = () => setCounter(counter + 1)\n",
    "  const setToZero = () => setCounter(0)\n",
    "\n",
    "  return (\n",
    "    <div>\n",
    "\n",
    "      <Display counter={counter}/>\n",
    "      <button onClick={increaseByOne}>\n",
    "        plus\n",
    "      </button>\n",
    "      <button onClick={setToZero}> \n",
    "        zero\n",
    "      </button>\n",
    "    </div>\n",
    "  )\n",
    "}\n",
    "```"
   ]
  },
  {
   "cell_type": "markdown",
   "metadata": {},
   "source": [
    "Everything still works. When the buttons are clicked and the App gets re-rendered, all of its children including the Display component are also re-rendered.\n",
    "\n",
    "Next, let's make a Button component for the buttons of our application. We have to pass the event handler as well as the title of the button through the component's props:"
   ]
  },
  {
   "cell_type": "markdown",
   "metadata": {},
   "source": [
    "```js\n",
    "const Button = (props) => {\n",
    "  return (\n",
    "    <button onClick={props.onClick}>\n",
    "      {props.text}\n",
    "    </button>\n",
    "  )\n",
    "}\n",
    "```"
   ]
  },
  {
   "cell_type": "markdown",
   "metadata": {},
   "source": [
    "Our App component now looks like this:"
   ]
  },
  {
   "cell_type": "markdown",
   "metadata": {},
   "source": [
    "```js\n",
    "const App = () => {\n",
    "  const [ counter, setCounter ] = useState(0)\n",
    "\n",
    "  const increaseByOne = () => setCounter(counter + 1)\n",
    "\n",
    "  const decreaseByOne = () => setCounter(counter - 1)\n",
    "  const setToZero = () => setCounter(0)\n",
    "\n",
    "  return (\n",
    "    <div>\n",
    "      <Display counter={counter}/>\n",
    "\n",
    "      <Button\n",
    "        onClick={increaseByOne}\n",
    "        text='plus'\n",
    "      />\n",
    "      <Button\n",
    "        onClick={setToZero}\n",
    "        text='zero'\n",
    "      />     \n",
    "      <Button\n",
    "        onClick={decreaseByOne}\n",
    "        text='minus'\n",
    "      />           \n",
    "    </div>\n",
    "  )\n",
    "}\n",
    "```"
   ]
  },
  {
   "cell_type": "markdown",
   "metadata": {},
   "source": [
    "Since we now have an easily reusable Button component, we've also implemented new functionality into our application by adding a button that can be used to decrement the counter.\n",
    "\n",
    "The event handler is passed to the Button component through the onClick prop. The name of the prop itself is not that significant, but our naming choice wasn't completely random.\n",
    "\n",
    "React's own official [tutorial](https://react.dev/learn/tutorial-tic-tac-toe) suggests: \"In React, it’s conventional to use onSomething names for props which take functions which handle events and handleSomething for the actual function definitions which handle those events.\""
   ]
  },
  {
   "cell_type": "markdown",
   "metadata": {},
   "source": [
    "# Changes in state cause re-rendering"
   ]
  },
  {
   "cell_type": "markdown",
   "metadata": {},
   "source": [
    "Let's go over the main principles of how an application works once more.\n",
    "\n",
    "When the application starts, the code in App is executed. This code uses a [useState](https://react.dev/reference/react/useState) hook to create the application state, setting an initial value of the variable counter. This component contains the Display component - which displays the counter's value, 0 - and three Button components. The buttons all have event handlers, which are used to change the state of the counter.\n",
    "\n",
    "When one of the buttons is clicked, the event handler is executed. The event handler changes the state of the App component with the setCounter function. **Calling a function that changes the state causes the component to re-render.**\n",
    "\n",
    "So, if a user clicks the plus button, the button's event handler changes the value of counter to 1, and the App component is re-rendered. This causes its subcomponents Display and Button to also be re-rendered. Display receives the new value of the counter, 1, as props. The Button components receive event handlers which can be used to change the state of the counter.\n",
    "\n",
    "To be sure to understand how the program works, let us add some console.log statements to it"
   ]
  },
  {
   "cell_type": "markdown",
   "metadata": {},
   "source": [
    "```js\n",
    "const App = () => {\n",
    "  const [counter, setCounter] = useState(0)\n",
    "\n",
    "  console.log('rendering with counter value', counter)\n",
    "\n",
    "  const increaseByOne = () => {\n",
    "\n",
    "    console.log('increasing, value before', counter)\n",
    "    setCounter(counter + 1)\n",
    "  }\n",
    "\n",
    "  const decreaseByOne = () => { \n",
    "\n",
    "    console.log('decreasing, value before', counter)\n",
    "    setCounter(counter - 1)\n",
    "  }\n",
    "\n",
    "  const setToZero = () => {\n",
    "\n",
    "    console.log('resetting to zero, value before', counter)\n",
    "    setCounter(0)\n",
    "  }\n",
    "\n",
    "  return (\n",
    "    <div>\n",
    "      <Display counter={counter} />\n",
    "      <Button onClick={increaseByOne} text=\"plus\" />\n",
    "      <Button onClick={setToZero} text=\"zero\" />\n",
    "      <Button onClick={decreaseByOne} text=\"minus\" />\n",
    "    </div>\n",
    "  )\n",
    "} \n",
    "```"
   ]
  },
  {
   "cell_type": "markdown",
   "metadata": {},
   "source": [
    "Let us now see what gets rendered to the console when the buttons plus, zero and minus are pressed:"
   ]
  },
  {
   "cell_type": "markdown",
   "metadata": {},
   "source": [
    "![](./images/reRendering.png)"
   ]
  },
  {
   "cell_type": "markdown",
   "metadata": {},
   "source": [
    "Do not ever try to guess what your code does. It is just better to use console.log and see with your own eyes what it does."
   ]
  },
  {
   "cell_type": "markdown",
   "metadata": {},
   "source": [
    "# Refactoring the components"
   ]
  },
  {
   "cell_type": "markdown",
   "metadata": {},
   "source": [
    "The component displaying the value of the counter is as follows:"
   ]
  },
  {
   "cell_type": "markdown",
   "metadata": {},
   "source": [
    "```js\n",
    "const Display = (props) => {\n",
    "  return (\n",
    "    <div>{props.counter}</div>\n",
    "  )\n",
    "}\n",
    "```"
   ]
  },
  {
   "cell_type": "markdown",
   "metadata": {},
   "source": [
    "The component only uses the counter field of its props. This means we can simplify the component by using destructuring, like so:"
   ]
  },
  {
   "cell_type": "markdown",
   "metadata": {},
   "source": [
    "```js\n",
    "const Display = ({ counter }) => {\n",
    "  return (\n",
    "    <div>{counter}</div>\n",
    "  )\n",
    "}\n",
    "```"
   ]
  },
  {
   "cell_type": "markdown",
   "metadata": {},
   "source": [
    "The function defining the component contains only the return statement, so we can define the function using the more compact form of arrow functions:"
   ]
  },
  {
   "cell_type": "markdown",
   "metadata": {},
   "source": [
    "```js\n",
    "const Display = ({ counter }) => <div>{counter}</div>\n",
    "```"
   ]
  },
  {
   "cell_type": "markdown",
   "metadata": {},
   "source": [
    "We can simplify the Button component as well."
   ]
  },
  {
   "cell_type": "markdown",
   "metadata": {},
   "source": [
    "```js\n",
    "const Button = (props) => {\n",
    "  return (\n",
    "    <button onClick={props.onClick}>\n",
    "      {props.text}\n",
    "    </button>\n",
    "  )\n",
    "}\n",
    "```"
   ]
  },
  {
   "cell_type": "markdown",
   "metadata": {},
   "source": [
    "We can use destructuring to get only the required fields from props, and use the more compact form of arrow functions:\n",
    "\n",
    "**NB**: While building your own components, you can name their event handler props anyway you like, for this you can refer to the react's documentation on [Naming event handler props](https://react.dev/learn/responding-to-events#naming-event-handler-props). It goes as following:\n",
    "\n",
    "> By convention, event handler props should start with `on`, followed by a capital letter. For example, the Button component’s `onClick` prop could have been called `onSmash`:"
   ]
  },
  {
   "cell_type": "markdown",
   "metadata": {},
   "source": [
    "```js\n",
    "const Button = ({ onClick, text }) => (\n",
    "  <button onClick={onClick}>\n",
    "    {text}\n",
    "  </button>\n",
    ")\n",
    "```"
   ]
  },
  {
   "cell_type": "markdown",
   "metadata": {},
   "source": [
    "could also be called as following:"
   ]
  },
  {
   "cell_type": "markdown",
   "metadata": {},
   "source": [
    "```js\n",
    "const Button = ({ onSmash, text }) => (\n",
    "  <button onClick={onSmash}>\n",
    "    {text}\n",
    "  </button>\n",
    ")\n",
    "```"
   ]
  },
  {
   "cell_type": "markdown",
   "metadata": {},
   "source": [
    "We can simplify the Button component once more by declaring the return statement in just one line:"
   ]
  },
  {
   "cell_type": "markdown",
   "metadata": {},
   "source": [
    "```js\n",
    "const Button = ({ onSmash, text }) => <button onClick={onSmash}>{text}</button>\n",
    "```"
   ]
  },
  {
   "cell_type": "markdown",
   "metadata": {},
   "source": [
    "**NB**: However, be careful to not oversimplify your components, as this makes adding complexity a more tedious task down the road."
   ]
  },
  {
   "cell_type": "markdown",
   "metadata": {},
   "source": []
  }
 ],
 "metadata": {
  "language_info": {
   "name": "python"
  }
 },
 "nbformat": 4,
 "nbformat_minor": 2
}
