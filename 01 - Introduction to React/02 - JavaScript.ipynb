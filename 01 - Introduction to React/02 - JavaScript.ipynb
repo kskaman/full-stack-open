{
 "cells": [
  {
   "cell_type": "markdown",
   "metadata": {},
   "source": [
    "# Javascript"
   ]
  },
  {
   "cell_type": "markdown",
   "metadata": {},
   "source": [
    "During the course, we have a goal and a need to learn a sufficient amount of JavaScript in addition to web development.\n",
    "\n",
    "JavaScript has advanced rapidly in the last few years and in this course, we use features from the newer versions. The official name of the JavaScript standard is ECMAScript. At this moment, the latest version is the one released in June of 2023 with the name ECMAScript®2023, otherwise known as ES14.\n",
    "\n",
    "Browsers do not yet support all of JavaScript's newest features. Due to this fact, a lot of code run in browsers has been transpiled from a newer version of JavaScript to an older, more compatible version."
   ]
  },
  {
   "cell_type": "markdown",
   "metadata": {},
   "source": [
    "Today, the most popular way to do transpiling is by using Babel. Transpilation is automatically configured in React applications created with vite. We will take a closer look at the configuration of the transpilation in part 7 of this course.\n",
    "\n",
    "Node.js is a JavaScript runtime environment based on Google's Chrome V8 JavaScript engine and works practically anywhere - from servers to mobile phones. Let's practice writing some JavaScript using Node. The latest versions of Node already understand the latest versions of JavaScript, so the code does not need to be transpiled."
   ]
  },
  {
   "cell_type": "markdown",
   "metadata": {},
   "source": [
    "The code is written into files ending with .js that are run by issuing the command \n",
    "```\n",
    "node name_of_file.js\n",
    "```"
   ]
  },
  {
   "cell_type": "markdown",
   "metadata": {},
   "source": [
    "It is also possible to write JavaScript code into the Node.js console, which is opened by typing node in the command line, as well as into the browser's developer tool console. The newest revisions of Chrome handle the newer features of JavaScript pretty well without transpiling the code. Alternatively, you can use a tool like JS Bin.\n",
    "\n",
    "JavaScript is sort of reminiscent, both in name and syntax, to Java. But when it comes to the core mechanism of the language they could not be more different. Coming from a Java background, the behavior of JavaScript can seem a bit alien, especially if one does not make the effort to look up its features.\n",
    "\n",
    "In certain circles, it has also been popular to attempt \"simulating\" Java features and design patterns in JavaScript. We do not recommend doing this as the languages and respective ecosystems are ultimately very different."
   ]
  },
  {
   "cell_type": "markdown",
   "metadata": {},
   "source": [
    "# Variables"
   ]
  },
  {
   "cell_type": "markdown",
   "metadata": {},
   "source": [
    "In JavaScript there are a few ways to go about defining variables:"
   ]
  },
  {
   "cell_type": "markdown",
   "metadata": {},
   "source": [
    "```js\n",
    "const x = 1\n",
    "let y = 5\n",
    "\n",
    "console.log(x, y)   // 1, 5 are printed\n",
    "y += 10\n",
    "console.log(x, y)   // 1, 15 are printed\n",
    "y = 'sometext'\n",
    "console.log(x, y)   // 1, sometext are printed\n",
    "x = 4               // causes an error\n",
    "```\n"
   ]
  },
  {
   "cell_type": "markdown",
   "metadata": {},
   "source": [
    "[const](https://developer.mozilla.org/en-US/docs/Web/JavaScript/Reference/Statements/const) does not define a variable but a constant for which the value can no longer be changed. On the other hand, [let](https://developer.mozilla.org/en-US/docs/Web/JavaScript/Reference/Statements/let) defines a normal variable.\n",
    "\n",
    "In the example above, we also see that the variable's data type can change during execution. At the start, y stores an integer; at the end, it stores a string."
   ]
  },
  {
   "cell_type": "markdown",
   "metadata": {},
   "source": [
    "It is also possible to define variables in JavaScript using the keyword [var](https://developer.mozilla.org/en-US/docs/Web/JavaScript/Reference/Statements/var). var was, for a long time, the only way to define variables. const and let were only recently added in version ES6. In specific situations, var works in a different way compared to variable definitions in most languages - see [JavaScript Variables - Should You Use let, var or const? on Medium](https://medium.com/podiihq/javascript-variables-should-you-use-let-var-or-const-394f7645c88f) or [Keyword: var vs. let on JS Tips](https://www.jstips.co/en/javascript/keyword-var-vs-let/) for more information. During this course the use of var is ill-advised and you should stick with using const and let! You can find more on this topic on YouTube - e.g. [var, let and const - ES6 JavaScript Features](https://www.youtube.com/watch?v=sjyJBL5fkp8&feature=youtu.be)"
   ]
  },
  {
   "cell_type": "markdown",
   "metadata": {},
   "source": [
    "# Arrays"
   ]
  },
  {
   "cell_type": "markdown",
   "metadata": {},
   "source": [
    "An [array](https://developer.mozilla.org/en-US/docs/Web/JavaScript/Reference/Global_Objects/Array) and a couple of examples of its use:"
   ]
  },
  {
   "cell_type": "markdown",
   "metadata": {},
   "source": [
    "```js\n",
    "const t = [1, -1, 3]\n",
    "\n",
    "t.push(5)\n",
    "\n",
    "console.log(t.length) // 4 is printed\n",
    "console.log(t[1])     // -1 is printed\n",
    "\n",
    "t.forEach(value => {\n",
    "  console.log(value)  // numbers 1, -1, 3, 5 are printed, each on its own line\n",
    "})                    \n",
    "```"
   ]
  },
  {
   "cell_type": "markdown",
   "metadata": {},
   "source": [
    "Notable in this example is the fact that the contents of the array can be modified even though it is defined as a `const`. Because the array is an object, the variable always points to the same object. However, the content of the array changes as new items are added to it.\n",
    "\n",
    "One way of iterating through the items of the array is using `forEach` as seen in the example. `forEach` receives a *function* defined using the arrow syntax as a parameter."
   ]
  },
  {
   "cell_type": "markdown",
   "metadata": {},
   "source": [
    "```js\n",
    "value => {\n",
    "  console.log(value)\n",
    "}\n",
    "```"
   ]
  },
  {
   "cell_type": "markdown",
   "metadata": {},
   "source": [
    "forEach calls the function *for each of the items* in the array, always passing the individual item as an argument. The function as the argument of forEach may also receive [other arguments](https://developer.mozilla.org/en-US/docs/Web/JavaScript/Reference/Global_Objects/Array/forEach).\n",
    "\n",
    "In the previous example, a new item was added to the array using the method [push](https://developer.mozilla.org/en-US/docs/Web/JavaScript/Reference/Global_Objects/Array/push). When using React, techniques from functional programming are often used. One characteristic of the functional programming paradigm is the use of [immutable](https://en.wikipedia.org/wiki/Immutable_object) data structures. In React code, it is preferable to use the method [concat](https://developer.mozilla.org/en-US/docs/Web/JavaScript/Reference/Global_Objects/Array/concat), which creates a new array with the added item. This ensures the original array remains unchanged."
   ]
  },
  {
   "cell_type": "markdown",
   "metadata": {},
   "source": [
    "```js\n",
    "const t = [1, -1, 3]\n",
    "\n",
    "const t2 = t.concat(5)  // creates new array\n",
    "\n",
    "console.log(t)  // [1, -1, 3] is printed\n",
    "console.log(t2) // [1, -1, 3, 5] is printed\n",
    "```"
   ]
  },
  {
   "cell_type": "markdown",
   "metadata": {},
   "source": [
    "The method call `t.concat(5)` does not add a new item to the old array but returns a new array which, besides containing the items of the old array, also contains the new item.\n",
    "\n",
    "There are plenty of useful methods defined for arrays. Let's look at a short example of using the map method."
   ]
  },
  {
   "cell_type": "markdown",
   "metadata": {},
   "source": [
    "```js\n",
    "const t = [1, 2, 3]\n",
    "\n",
    "const m1 = t.map(value => value * 2)\n",
    "console.log(m1)   // [2, 4, 6] is printed\n",
    "```"
   ]
  },
  {
   "cell_type": "markdown",
   "metadata": {},
   "source": [
    "Based on the old array, map creates a *new array*, for which the function given as a parameter is used to create the items. In the case of this example, the original value is multiplied by two.\n",
    "\n",
    "Map can also transform the array into something completely different:"
   ]
  },
  {
   "cell_type": "markdown",
   "metadata": {},
   "source": [
    "```js\n",
    "const m2 = t.map(value => '<li>' + value + '</li>')\n",
    "console.log(m2)  \n",
    "// [ '<li>1</li>', '<li>2</li>', '<li>3</li>' ] is printed\n",
    "```"
   ]
  },
  {
   "cell_type": "markdown",
   "metadata": {},
   "source": [
    "Here an array filled with integer values is transformed into an array containing strings of HTML using the map method. In part 2 of this course, we will see that map is used quite frequently in React.\n",
    "\n",
    "Individual items of an array are easy to assign to variables with the help of the [destructuring assignment](https://developer.mozilla.org/en-US/docs/Web/JavaScript/Reference/Operators/Destructuring_assignment)."
   ]
  },
  {
   "cell_type": "markdown",
   "metadata": {},
   "source": [
    "```js\n",
    "const t = [1, 2, 3, 4, 5]\n",
    "\n",
    "const [first, second, ...rest] = t\n",
    "\n",
    "console.log(first, second)  // 1, 2 is printed\n",
    "console.log(rest)          // [3, 4, 5] is printed\n",
    "```"
   ]
  },
  {
   "cell_type": "markdown",
   "metadata": {},
   "source": [
    "Thanks to the assignment, the variables `first` and `second` will receive the first two integers of the array as their values. The remaining integers are \"collected\" into an array of their own which is then assigned to the variable `rest`."
   ]
  },
  {
   "cell_type": "markdown",
   "metadata": {},
   "source": [
    "# Objects"
   ]
  },
  {
   "cell_type": "markdown",
   "metadata": {},
   "source": [
    "There are a few different ways of defining objects in JavaScript. One very common method is using [object literals](https://developer.mozilla.org/en-US/docs/Web/JavaScript/Guide/Grammar_and_types#object_literals), which happens by listing its properties within braces:"
   ]
  },
  {
   "cell_type": "markdown",
   "metadata": {},
   "source": [
    "```js\n",
    "const object1 = {\n",
    "  name: 'Arto Hellas',\n",
    "  age: 35,\n",
    "  education: 'PhD',\n",
    "}\n",
    "\n",
    "const object2 = {\n",
    "  name: 'Full Stack web application development',\n",
    "  level: 'intermediate studies',\n",
    "  size: 5,\n",
    "}\n",
    "\n",
    "const object3 = {\n",
    "  name: {\n",
    "    first: 'Dan',\n",
    "    last: 'Abramov',\n",
    "  },\n",
    "  grades: [2, 3, 5, 3],\n",
    "  department: 'Stanford University',\n",
    "}\n",
    "```"
   ]
  },
  {
   "cell_type": "markdown",
   "metadata": {},
   "source": [
    "The values of the properties can be of any type, like integers, strings, arrays, objects...\n",
    "\n",
    "The properties of an object are referenced by using the \"dot\" notation, or by using brackets:"
   ]
  },
  {
   "cell_type": "markdown",
   "metadata": {},
   "source": [
    "```js\n",
    "console.log(object1.name)         // Arto Hellas is printed\n",
    "const fieldName = 'age'\n",
    "console.log(object1[fieldName])    // 35 is printed\n",
    "```"
   ]
  },
  {
   "cell_type": "markdown",
   "metadata": {},
   "source": [
    "You can also add properties to an object on the fly by either using dot notation or brackets:"
   ]
  },
  {
   "cell_type": "markdown",
   "metadata": {},
   "source": [
    "```js\n",
    "object1.address = 'Helsinki'\n",
    "object1['secret number'] = 12341\n",
    "```"
   ]
  },
  {
   "cell_type": "markdown",
   "metadata": {},
   "source": [
    "The latter of the additions has to be done by using brackets because when using dot notation, *secret number* is not a valid property name because of the space character.\n",
    "\n",
    "Naturally, objects in JavaScript can also have methods. However, during this course, we do not need to define any objects with methods of their own. This is why they are only discussed briefly during the course.\n",
    "\n",
    "Objects can also be defined using so-called constructor functions, which results in a mechanism reminiscent of many other programming languages, e.g. Java's classes. Despite this similarity, JavaScript does not have classes in the same sense as object-oriented programming languages. There has been, however, the addition of the *class syntax* starting from version ES6, which in some cases helps structure object-oriented classes."
   ]
  },
  {
   "cell_type": "markdown",
   "metadata": {},
   "source": [
    "# Functions"
   ]
  },
  {
   "cell_type": "markdown",
   "metadata": {},
   "source": [
    "We have already become familiar with defining arrow functions. The complete process, without cutting corners, of defining an arrow function is as follows:"
   ]
  },
  {
   "cell_type": "markdown",
   "metadata": {},
   "source": [
    "```js\n",
    "const sum = (p1, p2) => {\n",
    "  console.log(p1)\n",
    "  console.log(p2)\n",
    "  return p1 + p2\n",
    "}\n",
    "```"
   ]
  },
  {
   "cell_type": "markdown",
   "metadata": {},
   "source": [
    "and the function is called as can be expected:"
   ]
  },
  {
   "cell_type": "markdown",
   "metadata": {},
   "source": [
    "```js\n",
    "const result = sum(1, 5)\n",
    "console.log(result)\n",
    "```"
   ]
  },
  {
   "cell_type": "markdown",
   "metadata": {},
   "source": [
    "If there is just a single parameter, we can exclude the parentheses from the definition:"
   ]
  },
  {
   "cell_type": "markdown",
   "metadata": {},
   "source": [
    "```js\n",
    "const square = p => {\n",
    "  console.log(p)\n",
    "  return p * p\n",
    "}\n",
    "```"
   ]
  },
  {
   "cell_type": "markdown",
   "metadata": {},
   "source": [
    "If the function only contains a single expression then the braces are not needed. In this case, the function only returns the result of its only expression. Now, if we remove console printing, we can further shorten the function definition:"
   ]
  },
  {
   "cell_type": "markdown",
   "metadata": {},
   "source": [
    "```js\n",
    "const square = p => p * p\n",
    "```"
   ]
  },
  {
   "cell_type": "markdown",
   "metadata": {},
   "source": [
    "This form is particularly handy when manipulating arrays - e.g. when using the map method:"
   ]
  },
  {
   "cell_type": "markdown",
   "metadata": {},
   "source": [
    "```js\n",
    "const t = [1, 2, 3]\n",
    "const tSquared = t.map(p => p * p)\n",
    "// tSquared is now [1, 4, 9]\n",
    "```"
   ]
  },
  {
   "cell_type": "markdown",
   "metadata": {},
   "source": [
    "The arrow function feature was added to JavaScript only a couple of years ago, with version ES6. Before this, the only way to define functions was by using the keyword `function`.\n",
    "\n",
    "There are two ways to reference the function; one is giving a name in a [function declaration](https://developer.mozilla.org/en-US/docs/Web/JavaScript/Reference/Statements/function)."
   ]
  },
  {
   "cell_type": "markdown",
   "metadata": {},
   "source": [
    "```js\n",
    "function product(a, b) {\n",
    "  return a * b\n",
    "}\n",
    "\n",
    "const result = product(2, 6)\n",
    "// result is now 12\n",
    "```"
   ]
  },
  {
   "cell_type": "markdown",
   "metadata": {},
   "source": [
    "The other way to define the function is by using a [function expression](https://developer.mozilla.org/en-US/docs/Web/JavaScript/Reference/Operators/function). In this case, there is no need to give the function a name and the definition may reside among the rest of the code:"
   ]
  },
  {
   "cell_type": "markdown",
   "metadata": {},
   "source": [
    "```js\n",
    "const average = function(a, b) {\n",
    "  return (a + b) / 2\n",
    "}\n",
    "\n",
    "const result = average(2, 5)\n",
    "// result is now 3.5\n",
    "```"
   ]
  },
  {
   "cell_type": "markdown",
   "metadata": {},
   "source": [
    "During this course, we will define all functions using the arrow syntax."
   ]
  },
  {
   "cell_type": "markdown",
   "metadata": {},
   "source": [
    "> #### Exercises 1.3.-1.5.\n",
    ">\n",
    "> We continue building the application that we started working on in the previous exercises. You can write the code into the same project since we are only interested in the final state of the submitted application.\n",
    "> \n",
    "> **Pro-tip**: you may run into issues when it comes to the structure of the props that components receive. A good way to make things more clear is by printing the props to the console, e.g. as follows:\n",
    "> \n",
    "> ```js\n",
    "> const Header = (props) => {\n",
    ">   console.log(props)\n",
    ">   return <h1>{props.course}</h1>\n",
    "> }\n",
    "> ```\n",
    ">\n",
    "> If and when you encounter an error message\n",
    ">\n",
    "> > Objects are not valid as a React child\n",
    "> keep in mind the things told [here](https://fullstackopen.com/en/part1/introduction_to_react#do-not-render-objects)."
   ]
  },
  {
   "cell_type": "markdown",
   "metadata": {},
   "source": [
    "> #### 1.3: Course Information step 3\n",
    ">\n",
    "> Let's move forward to using objects in our application. Modify the variable definitions of the App component as follows and also refactor the application so that it still works:\n",
    "> ```js\n",
    "> const App = () => {\n",
    ">   const course = 'Half Stack application development'\n",
    ">   const part1 = {\n",
    ">     name: 'Fundamentals of React',\n",
    ">     exercises: 10\n",
    ">   }\n",
    ">   const part2 = {\n",
    ">     name: 'Using props to pass data',\n",
    ">     exercises: 7\n",
    ">   }\n",
    ">   const part3 = {\n",
    ">     name: 'State of a component',\n",
    ">     exercises: 14\n",
    ">   }\n",
    ">\n",
    ">   return (\n",
    ">     <div>\n",
    ">       ...\n",
    ">     </div>\n",
    ">   )\n",
    "> }\n",
    "> ```"
   ]
  },
  {
   "cell_type": "markdown",
   "metadata": {},
   "source": [
    "> ### 1.4: Course Information step 4\n",
    "> \n",
    "> Place the objects into an array. Modify the variable definitions of App into the following form and modify the other parts of the application accordingly:\n",
    "> ```js\n",
    "> const App = () => {\n",
    "> const course = 'Half Stack application development'\n",
    ">   const parts = [\n",
    ">     {\n",
    ">       name: 'Fundamentals of React',\n",
    ">       exercises: 10\n",
    ">     },\n",
    ">     {\n",
    ">       name: 'Using props to pass data',\n",
    ">       exercises: 7\n",
    ">     },\n",
    ">     {\n",
    ">       name: 'State of a component',\n",
    ">       exercises: 14\n",
    ">     }\n",
    ">   ]\n",
    ">\n",
    ">   return (\n",
    ">     <div>\n",
    ">       ...\n",
    ">     </div>\n",
    ">   )\n",
    "> }\n",
    "> ```"
   ]
  },
  {
   "cell_type": "markdown",
   "metadata": {},
   "source": [
    "> **NB** at this point you can assume that there are always three items, so there is no need to go through the arrays using loops. We will come back to the topic of rendering components based on items in arrays with a more thorough exploration in the next part of the course.\n",
    "> \n",
    "> However, do not pass different objects as separate props from the App component to the components Content and Total. Instead, pass them directly as an array:\n",
    "> ```js \n",
    "> const App = () => {\n",
    ">   // const definitions\n",
    "> \n",
    ">   return (\n",
    ">     <div>\n",
    ">       <Header course={course} />\n",
    ">       <Content parts={parts} />\n",
    ">       <Total parts={parts} />\n",
    ">     </div>\n",
    ">   )\n",
    "> }\n",
    "> ```"
   ]
  },
  {
   "cell_type": "markdown",
   "metadata": {},
   "source": [
    "> #### 1.5: Course Information step 5\n",
    ">\n",
    "> Let's take the changes one step further. Change the course and its parts into a single JavaScript object. Fix everything that breaks.\n",
    "> ```js\n",
    "> const App = () => {\n",
    ">   const course = {\n",
    ">     name: 'Half Stack application development',\n",
    ">     parts: [\n",
    ">       {\n",
    ">         name: 'Fundamentals of React',\n",
    ">         exercises: 10\n",
    ">       },\n",
    ">       {\n",
    ">         name: 'Using props to pass data',\n",
    ">         exercises: 7\n",
    ">       },\n",
    ">       {\n",
    ">         name: 'State of a component',\n",
    ">         exercises: 14\n",
    ">       }\n",
    ">     ]\n",
    ">   }\n",
    "> \n",
    ">   return (\n",
    ">     <div>\n",
    ">       ...\n",
    ">     </div>\n",
    ">   )\n",
    "> }\n",
    "> ```"
   ]
  },
  {
   "cell_type": "markdown",
   "metadata": {},
   "source": [
    "# Object method and \"this\""
   ]
  },
  {
   "cell_type": "markdown",
   "metadata": {},
   "source": [
    "Because this course uses a version of React containing React Hooks we do not need to define objects with methods. **The contents of this chapter are not relevant to the course** but are certainly in many ways good to know. In particular, when using older versions of React one must understand the topics of this chapter.\n",
    "\n",
    "Arrow functions and functions defined using the `function` keyword vary substantially when it comes to how they behave with respect to the keyword [this](https://developer.mozilla.org/en-US/docs/Web/JavaScript/Reference/Operators/this), which refers to the object itself.\n",
    "\n",
    "We can assign methods to an object by defining properties that are functions:"
   ]
  },
  {
   "cell_type": "markdown",
   "metadata": {},
   "source": [
    "```js\n",
    "const arto = {\n",
    "  name: 'Arto Hellas',\n",
    "  age: 35,\n",
    "  education: 'PhD',\n",
    "\n",
    "  greet: function() {\n",
    "    console.log('hello, my name is ' + this.name)\n",
    "  },\n",
    "}\n",
    "\n",
    "arto.greet()  // \"hello, my name is Arto Hellas\" gets printed\n",
    "```"
   ]
  },
  {
   "cell_type": "markdown",
   "metadata": {},
   "source": [
    "Methods can be assigned to objects even after the creation of the object:"
   ]
  },
  {
   "cell_type": "markdown",
   "metadata": {},
   "source": [
    "```js\n",
    "const arto = {\n",
    "  name: 'Arto Hellas',\n",
    "  age: 35,\n",
    "  education: 'PhD',\n",
    "  greet: function() {\n",
    "    console.log('hello, my name is ' + this.name)\n",
    "  },\n",
    "}\n",
    "\n",
    "\n",
    "arto.growOlder = function() {\n",
    "  this.age += 1\n",
    "}\n",
    "\n",
    "console.log(arto.age)   // 35 is printed\n",
    "arto.growOlder()\n",
    "console.log(arto.age)   // 36 is printed\n",
    "```"
   ]
  },
  {
   "cell_type": "markdown",
   "metadata": {},
   "source": [
    "Let's slightly modify the object:"
   ]
  },
  {
   "cell_type": "markdown",
   "metadata": {},
   "source": [
    "```js\n",
    "const arto = {\n",
    "  name: 'Arto Hellas',\n",
    "  age: 35,\n",
    "  education: 'PhD',\n",
    "  greet: function() {\n",
    "    console.log('hello, my name is ' + this.name)\n",
    "  },\n",
    "\n",
    "  doAddition: function(a, b) {\n",
    "    console.log(a + b)\n",
    "  },\n",
    "}\n",
    "\n",
    "arto.doAddition(1, 4)        // 5 is printed\n",
    "\n",
    "const referenceToAddition = arto.doAddition\n",
    "referenceToAddition(10, 15)   // 25 is printed\n",
    "```"
   ]
  },
  {
   "cell_type": "markdown",
   "metadata": {},
   "source": [
    "Now the object has the method `doAddition` which calculates the sum of numbers given to it as parameters. The method is called in the usual way, using the object `arto.doAddition(1, 4)` or by storing a *method reference* in a variable and calling the method through the variable: `referenceToAddition(10, 15)`.\n",
    "\n",
    "If we try to do the same with the method `greet` we run into an issue:"
   ]
  },
  {
   "cell_type": "markdown",
   "metadata": {},
   "source": [
    "```js\n",
    "arto.greet()       // \"hello, my name is Arto Hellas\" gets printed\n",
    "\n",
    "const referenceToGreet = arto.greet\n",
    "referenceToGreet() // prints \"hello, my name is undefined\"\n",
    "```"
   ]
  },
  {
   "cell_type": "markdown",
   "metadata": {},
   "source": [
    "When calling the method through a reference, the method loses knowledge of what the original `this` was. Contrary to other languages, in JavaScript the value of `this` is defined based on *how the method is called*. When calling the method through a reference, the value of `this` becomes the so-called [global object](https://developer.mozilla.org/en-US/docs/Glossary/Global_object) and the end result is often not what the software developer had originally intended.\n",
    "\n",
    "Losing track of `this` when writing JavaScript code brings forth a few potential issues. Situations often arise where React or Node (or more specifically the JavaScript engine of the web browser) needs to call some method in an object that the developer has defined. However, in this course, we avoid these issues by using \"this-less\" JavaScript.\n",
    "\n",
    "One situation leading to the \"disappearance\" of `this` arises when we set a timeout to call the greet function on the `arto` object, using the [setTimeout function](https://developer.mozilla.org/en-US/docs/Web/API/setTimeout)."
   ]
  },
  {
   "cell_type": "markdown",
   "metadata": {},
   "source": [
    "```js\n",
    "const arto = {\n",
    "  name: 'Arto Hellas',\n",
    "  greet: function() {\n",
    "    console.log('hello, my name is ' + this.name)\n",
    "  },\n",
    "}\n",
    "\n",
    "\n",
    "setTimeout(arto.greet, 1000)\n",
    "```"
   ]
  },
  {
   "cell_type": "markdown",
   "metadata": {},
   "source": [
    "As mentioned, the value of `this` in JavaScript is defined based on how the method is being called. When `setTimeout` is calling the method, it is the JavaScript engine that actually calls the method and, at that point, `this` refers to the global object.\n",
    "\n",
    "There are several mechanisms by which the original `this` can be preserved. One of these is using a method called [bind](https://developer.mozilla.org/en-US/docs/Web/JavaScript/Reference/Global_Objects/Function/bind):"
   ]
  },
  {
   "cell_type": "markdown",
   "metadata": {},
   "source": [
    "```js\n",
    "setTimeout(arto.greet.bind(arto), 1000)\n",
    "```"
   ]
  },
  {
   "cell_type": "markdown",
   "metadata": {},
   "source": [
    "Calling `arto.greet.bind(arto)` creates a new function where this is bound to point to Arto, independent of where and how the method is being called.\n",
    "\n",
    "Using `arrow functions` it is possible to solve some of the problems related to this. They should not, however, be used as methods for objects because then this does not work at all. We will come back later to the behavior of this in relation to arrow functions.\n",
    "\n",
    "If you want to gain a better understanding of how this works in JavaScript, the Internet is full of material about the topic, e.g. the screencast series  [Understand JavaScript's this Keyword in Depth](https://egghead.io/courses/understand-javascript-s-this-keyword-in-depth) by [egghead.io](https://egghead.io/) is highly recommended!"
   ]
  },
  {
   "cell_type": "markdown",
   "metadata": {},
   "source": [
    "# Classes"
   ]
  },
  {
   "cell_type": "markdown",
   "metadata": {},
   "source": [
    "As mentioned previously, there is no class mechanism in JavaScript like the ones in object-oriented programming languages. There are, however, features to make \"simulating\" object-oriented [classes](https://developer.mozilla.org/en-US/docs/Web/JavaScript/Reference/Classes) possible.\n",
    "\n",
    "Let's take a quick look at the class syntax that was introduced into JavaScript with ES6, which substantially simplifies the definition of classes (or class-like things) in JavaScript.\n",
    "\n",
    "In the following example we define a \"class\" called Person and two Person objects:"
   ]
  },
  {
   "cell_type": "markdown",
   "metadata": {},
   "source": [
    "```js\n",
    "class Person {\n",
    "  constructor(name, age) {\n",
    "    this.name = name\n",
    "    this.age = age\n",
    "  }\n",
    "  greet() {\n",
    "    console.log('hello, my name is ' + this.name)\n",
    "  }\n",
    "}\n",
    "\n",
    "const adam = new Person('Adam Ondra', 29)\n",
    "adam.greet()\n",
    "\n",
    "const janja = new Person('Janja Garnbret', 23)\n",
    "janja.greet()\n",
    "```"
   ]
  },
  {
   "cell_type": "markdown",
   "metadata": {},
   "source": [
    "When it comes to syntax, the classes and the objects created from them are very reminiscent of Java classes and objects. Their behavior is also quite similar to Java objects. At the core, they are still objects based on JavaScript's [prototypal inheritance](https://developer.mozilla.org/en-US/docs/Learn/JavaScript/Objects/Classes_in_JavaScript). The type of both objects is actually Object, since JavaScript essentially only defines the types [Boolean, Null, Undefined, Number, String, Symbol, BigInt, and Object](https://developer.mozilla.org/en-US/docs/Web/JavaScript/Data_structures).\n",
    "\n",
    "The introduction of the class syntax was a controversial addition. Check out [Not Awesome: ES6 Classes](https://github.com/petsel/not-awesome-es6-classes) or [Is “Class” In ES6 The New “Bad” Part? on Medium](https://rajaraodv.medium.com/is-class-in-es6-the-new-bad-part-6c4e6fe1ee65) for more details.\n",
    "\n",
    "The ES6 class syntax is used a lot in \"old\" React and also in Node.js, hence an understanding of it is beneficial even in this course. However, since we are using the new [Hooks](https://react.dev/reference/react) feature of React throughout this course, we have no concrete use for JavaScript's class syntax."
   ]
  },
  {
   "cell_type": "markdown",
   "metadata": {},
   "source": [
    "# Javascript materials"
   ]
  },
  {
   "cell_type": "markdown",
   "metadata": {},
   "source": [
    "There exist both good and poor guides for JavaScript on the Internet. Most of the links on this page relating to JavaScript features reference [Mozilla's JavaScript Guide](https://developer.mozilla.org/en-US/docs/Web/JavaScript).\n",
    "\n",
    "It is highly recommended to immediately read [A re-introduction to JavaScript (JS tutorial)](https://developer.mozilla.org/en-US/docs/Web/JavaScript/Language_overview) on Mozilla's website.\n",
    "\n",
    "If you wish to get to know JavaScript deeply there is a great free book series on the Internet called [You-Dont-Know-JS](https://github.com/getify/You-Dont-Know-JS).\n",
    "\n",
    "Another great resource for learning JavaScript is [javascript.info](https://javascript.info/)."
   ]
  },
  {
   "cell_type": "markdown",
   "metadata": {},
   "source": [
    "The free and highly engaging book [Eloquent JavaScript](https://eloquentjavascript.net/) takes you from the basics to interesting stuff quickly. It is a mixture of theory projects and exercises and covers general programming theory as well as the JavaScript language.\n",
    "\n",
    "[Namaste 🙏 JavaScript](https://www.youtube.com/playlist?list=PLlasXeu85E9cQ32gLCvAvr9vNaUccPVNP) is another great and highly recommended free JavaScript tutorial in order to understand how JS works under the hood. Namaste JavaScript is a pure in-depth JavaScript course released for free on YouTube. It will cover the core concepts of JavaScript in detail and everything about how JS works behind the scenes inside the JavaScript engine.\n",
    "\n",
    "[egghead.io](https://egghead.io/) has plenty of quality screencasts on JavaScript, React, and other interesting topics. Unfortunately, some of the material is behind a paywall."
   ]
  },
  {
   "cell_type": "markdown",
   "metadata": {},
   "source": []
  }
 ],
 "metadata": {
  "language_info": {
   "name": "python"
  }
 },
 "nbformat": 4,
 "nbformat_minor": 2
}
