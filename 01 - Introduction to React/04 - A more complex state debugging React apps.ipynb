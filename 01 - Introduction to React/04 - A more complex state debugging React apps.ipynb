{
 "cells": [
  {
   "cell_type": "markdown",
   "metadata": {},
   "source": [
    "# A more complex state, debugging React apps"
   ]
  },
  {
   "cell_type": "markdown",
   "metadata": {},
   "source": [
    "# Complex state"
   ]
  },
  {
   "cell_type": "markdown",
   "metadata": {},
   "source": [
    "In our previous example, the application state was simple as it was comprised of a single integer. What if our application requires a more complex state?\n",
    "\n",
    "In most cases, the easiest and best way to accomplish this is by using the useState function multiple times to create separate \"pieces\" of state.\n",
    "\n",
    "In the following code we create two pieces of state for the application named left and right that both get the initial value of 0:"
   ]
  },
  {
   "cell_type": "markdown",
   "metadata": {},
   "source": [
    "```js\n",
    "const App = () => {\n",
    "  const [left, setLeft] = useState(0)\n",
    "  const [right, setRight] = useState(0)\n",
    "\n",
    "  return (\n",
    "    <div>\n",
    "      {left}\n",
    "      <button onClick={() => setLeft(left + 1)}>\n",
    "        left\n",
    "      </button>\n",
    "      <button onClick={() => setRight(right + 1)}>\n",
    "        right\n",
    "      </button>\n",
    "      {right}\n",
    "    </div>\n",
    "  )\n",
    "}\n",
    "```"
   ]
  },
  {
   "cell_type": "markdown",
   "metadata": {},
   "source": [
    "The component gets access to the functions setLeft and setRight that it can use to update the two pieces of state.\n",
    "\n",
    "The component's state or a piece of its state can be of any type. We could implement the same functionality by saving the click count of both the left and right buttons into a single object:"
   ]
  },
  {
   "cell_type": "markdown",
   "metadata": {},
   "source": [
    "```js\n",
    "{\n",
    "  left: 0,\n",
    "  right: 0\n",
    "}\n",
    "```"
   ]
  },
  {
   "cell_type": "markdown",
   "metadata": {},
   "source": [
    "In this case, the application would look like this:"
   ]
  },
  {
   "cell_type": "markdown",
   "metadata": {},
   "source": [
    "```js\n",
    "const App = () => {\n",
    "  const [clicks, setClicks] = useState({\n",
    "    left: 0, right: 0\n",
    "  })\n",
    "\n",
    "  const handleLeftClick = () => {\n",
    "    const newClicks = { \n",
    "      left: clicks.left + 1, \n",
    "      right: clicks.right \n",
    "    }\n",
    "    setClicks(newClicks)\n",
    "  }\n",
    "\n",
    "  const handleRightClick = () => {\n",
    "    const newClicks = { \n",
    "      left: clicks.left, \n",
    "      right: clicks.right + 1 \n",
    "    }\n",
    "    setClicks(newClicks)\n",
    "  }\n",
    "\n",
    "  return (\n",
    "    <div>\n",
    "      {clicks.left}\n",
    "      <button onClick={handleLeftClick}>left</button>\n",
    "      <button onClick={handleRightClick}>right</button>\n",
    "      {clicks.right}\n",
    "    </div>\n",
    "  )\n",
    "}\n",
    "```"
   ]
  },
  {
   "cell_type": "markdown",
   "metadata": {},
   "source": [
    "Now the component only has a single piece of state and the event handlers have to take care of changing the entire application state.\n",
    "\n",
    "The event handler looks a bit messy. When the left button is clicked, the following function is called:"
   ]
  },
  {
   "cell_type": "markdown",
   "metadata": {},
   "source": [
    "```js\n",
    "const handleLeftClick = () => {\n",
    "  const newClicks = { \n",
    "    left: clicks.left + 1, \n",
    "    right: clicks.right \n",
    "  }\n",
    "  setClicks(newClicks)\n",
    "}\n",
    "```"
   ]
  },
  {
   "cell_type": "markdown",
   "metadata": {},
   "source": [
    "The following object is set as the new state of the application:"
   ]
  },
  {
   "cell_type": "markdown",
   "metadata": {},
   "source": [
    "```js\n",
    "{\n",
    "  left: clicks.left + 1,\n",
    "  right: clicks.right\n",
    "}\n",
    "```"
   ]
  },
  {
   "cell_type": "markdown",
   "metadata": {},
   "source": [
    "The new value of the left property is now the same as the value of left + 1 from the previous state, and the value of the right property is the same as the value of the right property from the previous state.\n",
    "\n",
    "We can define the new state object a bit more neatly by using the [object spread](https://developer.mozilla.org/en-US/docs/Web/JavaScript/Reference/Operators/Spread_syntax) syntax that was added to the language specification in the summer of 2018:"
   ]
  },
  {
   "cell_type": "markdown",
   "metadata": {},
   "source": [
    "```js\n",
    "const handleLeftClick = () => {\n",
    "  const newClicks = { \n",
    "    ...clicks, \n",
    "    left: clicks.left + 1 \n",
    "  }\n",
    "  setClicks(newClicks)\n",
    "}\n",
    "\n",
    "const handleRightClick = () => {\n",
    "  const newClicks = { \n",
    "    ...clicks, \n",
    "    right: clicks.right + 1 \n",
    "  }\n",
    "  setClicks(newClicks)\n",
    "}\n",
    "```"
   ]
  },
  {
   "cell_type": "markdown",
   "metadata": {},
   "source": [
    "The syntax may seem a bit strange at first. In practice *{ ...clicks }* creates a new object that has copies of all of the properties of the clicks object. When we specify a particular property - e.g. right in *{ ...clicks, right: 1 }*, the value of the right property in the new object will be 1.\n",
    "\n",
    "In the example above, this:"
   ]
  },
  {
   "cell_type": "markdown",
   "metadata": {},
   "source": [
    "```js\n",
    "{ ...clicks, right: clicks.right + 1 }\n",
    "```"
   ]
  },
  {
   "cell_type": "markdown",
   "metadata": {},
   "source": [
    "creates a copy of the clicks object where the value of the right property is increased by one.\n",
    "\n",
    "Assigning the object to a variable in the event handlers is not necessary and we can simplify the functions to the following form:"
   ]
  },
  {
   "cell_type": "markdown",
   "metadata": {},
   "source": [
    "```js\n",
    "const handleLeftClick = () =>\n",
    "  setClicks({ ...clicks, left: clicks.left + 1 })\n",
    "\n",
    "const handleRightClick = () =>\n",
    "  setClicks({ ...clicks, right: clicks.right + 1 })\n",
    "```"
   ]
  },
  {
   "cell_type": "markdown",
   "metadata": {},
   "source": [
    "Some readers might be wondering why we didn't just update the state directly, like this:"
   ]
  },
  {
   "cell_type": "markdown",
   "metadata": {},
   "source": [
    "```js\n",
    "const handleLeftClick = () => {\n",
    "  clicks.left++\n",
    "  setClicks(clicks)\n",
    "}\n",
    "```"
   ]
  },
  {
   "cell_type": "markdown",
   "metadata": {},
   "source": [
    "The application appears to work. However, it is forbidden in React to mutate state directly, since it can [result in unexpected side effects](https://stackoverflow.com/questions/37755997/why-cant-i-directly-modify-a-components-state-really/40309023#40309023). Changing state has to always be done by setting the state to a new object. If properties from the previous state object are not changed, they need to simply be copied, which is done by copying those properties into a new object and setting that as the new state.\n",
    "\n",
    "Storing all of the state in a single state object is a bad choice for this particular application; there's no apparent benefit and the resulting application is a lot more complex. In this case, storing the click counters into separate pieces of state is a far more suitable choice.\n",
    "\n",
    "There are situations where it can be beneficial to store a piece of application state in a more complex data structure. [The official React documentation](https://react.dev/learn/choosing-the-state-structure) contains some helpful guidance on the topic."
   ]
  },
  {
   "cell_type": "markdown",
   "metadata": {},
   "source": [
    "# Handling arrays"
   ]
  },
  {
   "cell_type": "markdown",
   "metadata": {},
   "source": [
    "Let's add a piece of state to our application containing an array allClicks that remembers every click that has occurred in the application."
   ]
  },
  {
   "cell_type": "markdown",
   "metadata": {},
   "source": [
    "```js\n",
    "const App = () => {\n",
    "  const [left, setLeft] = useState(0)\n",
    "  const [right, setRight] = useState(0)\n",
    "\n",
    "  const [allClicks, setAll] = useState([])\n",
    "\n",
    "\n",
    "  const handleLeftClick = () => {\n",
    "    setAll(allClicks.concat('L'))\n",
    "    setLeft(left + 1)\n",
    "  }\n",
    "\n",
    "\n",
    "  const handleRightClick = () => {\n",
    "    setAll(allClicks.concat('R'))\n",
    "    setRight(right + 1)\n",
    "  }\n",
    "\n",
    "  return (\n",
    "    <div>\n",
    "      {left}\n",
    "      <button onClick={handleLeftClick}>left</button>\n",
    "      <button onClick={handleRightClick}>right</button>\n",
    "      {right}\n",
    "\n",
    "      <p>{allClicks.join(' ')}</p>\n",
    "    </div>\n",
    "  )\n",
    "}\n",
    "```"
   ]
  },
  {
   "cell_type": "markdown",
   "metadata": {},
   "source": [
    "Every click is stored in a separate piece of state called allClicks that is initialized as an empty array:"
   ]
  },
  {
   "cell_type": "markdown",
   "metadata": {},
   "source": [
    "```js\n",
    "const [allClicks, setAll] = useState([])\n",
    "```"
   ]
  },
  {
   "cell_type": "markdown",
   "metadata": {},
   "source": [
    "When the left button is clicked, we add the letter L to the allClicks array:"
   ]
  },
  {
   "cell_type": "markdown",
   "metadata": {},
   "source": [
    "```js\n",
    "const handleLeftClick = () => {\n",
    "  setAll(allClicks.concat('L'))\n",
    "  setLeft(left + 1)\n",
    "}\n",
    "```"
   ]
  },
  {
   "cell_type": "markdown",
   "metadata": {},
   "source": [
    "The piece of state stored in `allClicks` is now set to be an array that contains all of the items of the previous state array plus the letter L. Adding the new item to the array is accomplished with the [`concat`](https://developer.mozilla.org/en-US/docs/Web/JavaScript/Reference/Global_Objects/Array/concat) method, which does not mutate the existing array but rather returns `a new copy of the array` with the item added to it.\n",
    "\n",
    "As mentioned previously, it's also possible in JavaScript to add items to an array with the [`push`](https://developer.mozilla.org/en-US/docs/Web/JavaScript/Reference/Global_Objects/Array/push) method. If we add the item by pushing it to the `allClicks` array and then updating the state, the application would still appear to work:"
   ]
  },
  {
   "cell_type": "markdown",
   "metadata": {},
   "source": [
    "```js\n",
    "const handleLeftClick = () => {\n",
    "  allClicks.push('L')\n",
    "  setAll(allClicks)\n",
    "  setLeft(left + 1)\n",
    "}\n",
    "```"
   ]
  },
  {
   "cell_type": "markdown",
   "metadata": {},
   "source": [
    "However, **don't** do this. As mentioned previously, the state of React components, like allClicks, must not be mutated directly. Even if mutating state appears to work in some cases, it can lead to problems that are very hard to debug.\n",
    "\n",
    "Let's take a closer look at how the clicking is rendered to the page:"
   ]
  },
  {
   "cell_type": "markdown",
   "metadata": {},
   "source": [
    "```js\n",
    "const App = () => {\n",
    "  // ...\n",
    "\n",
    "  return (\n",
    "    <div>\n",
    "      {left}\n",
    "      <button onClick={handleLeftClick}>left</button>\n",
    "      <button onClick={handleRightClick}>right</button>\n",
    "      {right}\n",
    "\n",
    "      <p>{allClicks.join(' ')}</p>\n",
    "    </div>\n",
    "  )\n",
    "}\n",
    "```"
   ]
  },
  {
   "cell_type": "markdown",
   "metadata": {},
   "source": [
    "We call the [join](https://developer.mozilla.org/en-US/docs/Web/JavaScript/Reference/Global_Objects/Array/join) method on the allClicks array, that joins all the items into a single string, separated by the string passed as the function parameter, which in our case is an empty space."
   ]
  },
  {
   "cell_type": "markdown",
   "metadata": {},
   "source": [
    "# Update of the state is asynchronous"
   ]
  },
  {
   "cell_type": "markdown",
   "metadata": {},
   "source": [
    "Let's expand the application so that it keeps track of the total number of button presses in the state total, whose value is always updated when the buttons are pressed:"
   ]
  },
  {
   "cell_type": "markdown",
   "metadata": {},
   "source": [
    "```js\n",
    "const App = () => {\n",
    "  const [left, setLeft] = useState(0)\n",
    "  const [right, setRight] = useState(0)\n",
    "  const [allClicks, setAll] = useState([])\n",
    "\n",
    "  const [total, setTotal] = useState(0)\n",
    "\n",
    "  const handleLeftClick = () => {\n",
    "    setAll(allClicks.concat('L'))\n",
    "    setLeft(left + 1)\n",
    "\n",
    "    setTotal(left + right)\n",
    "  }\n",
    "\n",
    "  const handleRightClick = () => {\n",
    "    setAll(allClicks.concat('R'))\n",
    "    setRight(right + 1)\n",
    "\n",
    "    setTotal(left + right)\n",
    "  }\n",
    "\n",
    "  return (\n",
    "    <div>\n",
    "      {left}\n",
    "      <button onClick={handleLeftClick}>left</button>\n",
    "      <button onClick={handleRightClick}>right</button>\n",
    "      {right}\n",
    "      <p>{allClicks.join(' ')}</p>\n",
    "\n",
    "      <p>total {total}</p>\n",
    "    </div>\n",
    "  )\n",
    "}\n",
    "```"
   ]
  },
  {
   "cell_type": "markdown",
   "metadata": {},
   "source": [
    "The solution does not quite work:"
   ]
  },
  {
   "cell_type": "markdown",
   "metadata": {},
   "source": [
    "![](./images/04image1.png)"
   ]
  },
  {
   "cell_type": "markdown",
   "metadata": {},
   "source": [
    "The total number of button presses is consistently one less than the actual amount of presses, for some reason.\n",
    "\n",
    "Let us add couple of console.log statements to the event handler:"
   ]
  },
  {
   "cell_type": "markdown",
   "metadata": {},
   "source": [
    "```js\n",
    "const App = () => {\n",
    "  // ...\n",
    "  const handleLeftClick = () => {\n",
    "    setAll(allClicks.concat('L'))\n",
    "\n",
    "    console.log('left before', left)\n",
    "    setLeft(left + 1)\n",
    "\n",
    "    console.log('left after', left)\n",
    "    setTotal(left + right) \n",
    "  }\n",
    "\n",
    "  // ...\n",
    "}\n",
    "```"
   ]
  },
  {
   "cell_type": "markdown",
   "metadata": {},
   "source": [
    "The console reveals the problem"
   ]
  },
  {
   "cell_type": "markdown",
   "metadata": {},
   "source": [
    "![](./images/04image2.png)"
   ]
  },
  {
   "cell_type": "markdown",
   "metadata": {},
   "source": [
    "Even though a new value was set for left by calling setLeft(left + 1), the old value persists despite the update. As a result, the attempt to count button presses produces a result that is too small:"
   ]
  },
  {
   "cell_type": "markdown",
   "metadata": {},
   "source": [
    "```js\n",
    "setTotal(left + right) \n",
    "```"
   ]
  },
  {
   "cell_type": "markdown",
   "metadata": {},
   "source": [
    "The reason for this is that a state update in React happens asynchronously, i.e. not immediately but \"at some point\" before the component is rendered again.\n",
    "\n",
    "We can fix the app as follows:"
   ]
  },
  {
   "cell_type": "markdown",
   "metadata": {},
   "source": [
    "```js\n",
    "const App = () => {\n",
    "  // ...\n",
    "  const handleLeftClick = () => {\n",
    "    setAll(allClicks.concat('L'))\n",
    "    const updatedLeft = left + 1\n",
    "    setLeft(updatedLeft)\n",
    "    setTotal(updatedLeft + right) \n",
    "  }\n",
    "\n",
    "  // ...\n",
    "}\n",
    "```"
   ]
  },
  {
   "cell_type": "markdown",
   "metadata": {},
   "source": [
    "So now the number of button presses is definitely based on the correct number of left button presses."
   ]
  },
  {
   "cell_type": "markdown",
   "metadata": {},
   "source": [
    "# Conditional rendering"
   ]
  },
  {
   "cell_type": "markdown",
   "metadata": {},
   "source": [
    "Let's modify our application so that the rendering of the clicking history is handled by a new History component:"
   ]
  },
  {
   "cell_type": "markdown",
   "metadata": {},
   "source": [
    "```js\n",
    "const History = (props) => {\n",
    "  if (props.allClicks.length === 0) {\n",
    "    return (\n",
    "      <div>\n",
    "        the app is used by pressing the buttons\n",
    "      </div>\n",
    "    )\n",
    "  }\n",
    "  return (\n",
    "    <div>\n",
    "      button press history: {props.allClicks.join(' ')}\n",
    "    </div>\n",
    "  )\n",
    "}\n",
    "\n",
    "const App = () => {\n",
    "  // ...\n",
    "\n",
    "  return (\n",
    "    <div>\n",
    "      {left}\n",
    "      <button onClick={handleLeftClick}>left</button>\n",
    "      <button onClick={handleRightClick}>right</button>\n",
    "      {right}\n",
    "\n",
    "      <History allClicks={allClicks} />\n",
    "    </div>\n",
    "  )\n",
    "}\n",
    "```"
   ]
  },
  {
   "cell_type": "markdown",
   "metadata": {},
   "source": [
    "Now the behavior of the component depends on whether or not any buttons have been clicked. If not, meaning that the allClicks array is empty, the component renders a div element with some instructions instead:"
   ]
  },
  {
   "cell_type": "markdown",
   "metadata": {},
   "source": [
    "```js\n",
    "<div>the app is used by pressing the buttons</div>\n",
    "```"
   ]
  },
  {
   "cell_type": "markdown",
   "metadata": {},
   "source": [
    "And in all other cases, the component renders the clicking history:"
   ]
  },
  {
   "cell_type": "markdown",
   "metadata": {},
   "source": [
    "```js\n",
    "<div>\n",
    "  button press history: {props.allClicks.join(' ')}\n",
    "</div>\n",
    "```"
   ]
  },
  {
   "cell_type": "markdown",
   "metadata": {},
   "source": [
    "The History component renders completely different React elements depending on the state of the application. This is called `conditional rendering`.\n",
    "\n",
    "React also offers many other ways of doing [conditional rendering](https://react.dev/learn/conditional-rendering). We will take a closer look at this in part 2.\n",
    "\n",
    "Let's make one last modification to our application by refactoring it to use the Button component that we defined earlier on:"
   ]
  },
  {
   "cell_type": "markdown",
   "metadata": {},
   "source": [
    "```js\n",
    "const History = (props) => {\n",
    "  if (props.allClicks.length === 0) {\n",
    "    return (\n",
    "      <div>\n",
    "        the app is used by pressing the buttons\n",
    "      </div>\n",
    "    )\n",
    "  }\n",
    "\n",
    "  return (\n",
    "    <div>\n",
    "      button press history: {props.allClicks.join(' ')}\n",
    "    </div>\n",
    "  )\n",
    "}\n",
    "\n",
    "\n",
    "const Button = ({ handleClick, text }) => (\n",
    "  <button onClick={handleClick}>\n",
    "    {text}\n",
    "  </button>\n",
    ")\n",
    "\n",
    "const App = () => {\n",
    "  const [left, setLeft] = useState(0)\n",
    "  const [right, setRight] = useState(0)\n",
    "  const [allClicks, setAll] = useState([])\n",
    "\n",
    "  const handleLeftClick = () => {\n",
    "    setAll(allClicks.concat('L'))\n",
    "    setLeft(left + 1)\n",
    "  }\n",
    "\n",
    "  const handleRightClick = () => {\n",
    "    setAll(allClicks.concat('R'))\n",
    "    setRight(right + 1)\n",
    "  }\n",
    "\n",
    "  return (\n",
    "    <div>\n",
    "      {left}\n",
    "\n",
    "      <Button handleClick={handleLeftClick} text='left' />\n",
    "      <Button handleClick={handleRightClick} text='right' />\n",
    "      {right}\n",
    "      <History allClicks={allClicks} />\n",
    "    </div>\n",
    "  )\n",
    "}\n",
    "```"
   ]
  },
  {
   "cell_type": "markdown",
   "metadata": {},
   "source": [
    "# Old React"
   ]
  },
  {
   "cell_type": "markdown",
   "metadata": {},
   "source": [
    "In this course, we use the [state hook](https://react.dev/learn/state-a-components-memory) to add state to our React components, which is part of the newer versions of React and is available from version 16.8.0 onwards. Before the addition of hooks, there was no way to add state to functional components. Components that required state had to be defined as [class](https://react.dev/reference/react/Component) components, using the JavaScript class syntax.\n",
    "\n",
    "In this course, we have made the slightly radical decision to use hooks exclusively from day one, to ensure that we are learning the current and future variations of React. Even though functional components are the future of React, it is still important to learn the class syntax, as there are billions of lines of legacy React code that you might end up maintaining someday. The same applies to documentation and examples of React that you may stumble across on the internet.\n",
    "\n",
    "We will learn more about React class components later on in the course."
   ]
  },
  {
   "cell_type": "markdown",
   "metadata": {},
   "source": [
    "# Debugging React applications"
   ]
  },
  {
   "cell_type": "markdown",
   "metadata": {},
   "source": [
    "A large part of a typical developer's time is spent on debugging and reading existing code. Every now and then we do get to write a line or two of new code, but a large part of our time is spent trying to figure out why something is broken or how something works. Good practices and tools for debugging are extremely important for this reason.\n",
    "\n",
    "Lucky for us, React is an extremely developer-friendly library when it comes to debugging.\n",
    "\n",
    "Before we move on, let us remind ourselves of one of the most important rules of web development.\n",
    "\n",
    "**The first rule of web development**\n",
    "> **Keep the browser's developer console open at all times.**\n",
    ">\n",
    "> The *Console* tab in particular should always be open, unless there is a specific reason to view another tab.\n",
    "\n",
    "Keep both your code and the web page open together **at the same time, all the time**.\n",
    "\n",
    "If and when your code fails to compile and your browser lights up like a Christmas tree:"
   ]
  },
  {
   "cell_type": "markdown",
   "metadata": {},
   "source": [
    "![](./images/04image3.png)"
   ]
  },
  {
   "cell_type": "markdown",
   "metadata": {},
   "source": [
    "don't write more code but rather find and fix the problem immediately. There has yet to be a moment in the history of coding where code that fails to compile would miraculously start working after writing large amounts of additional code. I highly doubt that such an event will transpire during this course either.\n",
    "\n",
    "Old-school, print-based debugging is always a good idea. If the component"
   ]
  },
  {
   "cell_type": "markdown",
   "metadata": {},
   "source": [
    "```js\n",
    "const Button = ({ handleClick, text }) => (\n",
    "  <button onClick={handleClick}>\n",
    "    {text}\n",
    "  </button>\n",
    ")\n",
    "```"
   ]
  },
  {
   "cell_type": "markdown",
   "metadata": {},
   "source": [
    "is not working as intended, it's useful to start printing its variables out to the console. In order to do this effectively, we must transform our function into the less compact form and receive the entire props object without destructuring it immediately:"
   ]
  },
  {
   "cell_type": "markdown",
   "metadata": {},
   "source": [
    "```js\n",
    "const Button = (props) => { \n",
    "\n",
    "  console.log(props)\n",
    "  const { handleClick, text } = props\n",
    "  return (\n",
    "    <button onClick={handleClick}>\n",
    "      {text}\n",
    "    </button>\n",
    "  )\n",
    "}\n",
    "```"
   ]
  },
  {
   "cell_type": "markdown",
   "metadata": {},
   "source": [
    "This will immediately reveal if, for instance, one of the attributes has been misspelled when using the component.\n",
    "\n",
    "**NB** When you use console.log for debugging, don't combine objects in a Java-like fashion by using the plus operator:"
   ]
  },
  {
   "cell_type": "markdown",
   "metadata": {},
   "source": [
    "```js\n",
    "console.log('props value is ' + props)\n",
    "```"
   ]
  },
  {
   "cell_type": "markdown",
   "metadata": {},
   "source": [
    "If you do that, you will end up with a rather uninformative log message:"
   ]
  },
  {
   "cell_type": "markdown",
   "metadata": {},
   "source": [
    "```js\n",
    "props value is [object Object]\n",
    "```"
   ]
  },
  {
   "cell_type": "markdown",
   "metadata": {},
   "source": [
    "Instead, separate the things you want to log to the console with a comma:"
   ]
  },
  {
   "cell_type": "markdown",
   "metadata": {},
   "source": [
    "```js\n",
    "console.log('props value is', props)\n",
    "```"
   ]
  },
  {
   "cell_type": "markdown",
   "metadata": {},
   "source": [
    "In this way, the separated items will all be available in the browser console for further inspection.\n",
    "\n",
    "Logging output to the console is by no means the only way of debugging our applications. You can pause the execution of your application code in the Chrome developer console's *debugger*, by writing the command [debugger](https://developer.mozilla.org/en-US/docs/Web/JavaScript/Reference/Statements/debugger) anywhere in your code.\n",
    "\n",
    "The execution will pause once it arrives at a point where the debugger command gets executed:"
   ]
  },
  {
   "cell_type": "markdown",
   "metadata": {},
   "source": [
    "![](./images/04image4.png)"
   ]
  },
  {
   "cell_type": "markdown",
   "metadata": {},
   "source": [
    "By going to the Console tab, it is easy to inspect the current state of variables:"
   ]
  },
  {
   "cell_type": "markdown",
   "metadata": {},
   "source": [
    "![](./images/04image5.png)"
   ]
  },
  {
   "cell_type": "markdown",
   "metadata": {},
   "source": [
    "Once the cause of the bug is discovered you can remove the debugger command and refresh the page.\n",
    "\n",
    "The debugger also enables us to execute our code line by line with the controls found on the right-hand side of the Sources tab.\n",
    "\n",
    "You can also access the debugger without the debugger command by adding breakpoints in the Sources tab. Inspecting the values of the component's variables can be done in the Scope-section:"
   ]
  },
  {
   "cell_type": "markdown",
   "metadata": {},
   "source": [
    "![](./images/04image6.png)"
   ]
  },
  {
   "cell_type": "markdown",
   "metadata": {},
   "source": [
    "It is highly recommended to add the React developer tools extension to Chrome. It adds a new Components tab to the developer tools. The new developer tools tab can be used to inspect the different React elements in the application, along with their state and props:"
   ]
  },
  {
   "cell_type": "markdown",
   "metadata": {},
   "source": [
    "![](./images/04image7.png)"
   ]
  },
  {
   "cell_type": "markdown",
   "metadata": {},
   "source": [
    "The App component's state is defined like so:\n",
    "```js\n",
    "const [left, setLeft] = useState(0)\n",
    "const [right, setRight] = useState(0)\n",
    "const [allClicks, setAll] = useState([])copy\n",
    "```\n",
    "Dev tools show the state of hooks in the order of their definition:"
   ]
  },
  {
   "cell_type": "markdown",
   "metadata": {},
   "source": [
    "The first State contains the value of the left state, the next contains the value of the right state and the last contains the value of the allClicks state."
   ]
  },
  {
   "cell_type": "markdown",
   "metadata": {},
   "source": [
    "# Rules of Hooks"
   ]
  },
  {
   "cell_type": "markdown",
   "metadata": {},
   "source": [
    "There are a few limitations and [rules](https://react.dev/warnings/invalid-hook-call-warning#breaking-rules-of-hooks) that we have to follow to ensure that our application uses hooks-based state functions correctly.\n",
    "\n",
    "The useState function (as well as the useEffect function introduced later on in the course) must not be called from inside of a loop, a conditional expression, or any place that is not a function defining a component. This must be done to ensure that the hooks are always called in the same order, and if this isn't the case the application will behave erratically.\n",
    "\n",
    "To recap, hooks may only be called from the inside of a function body that defines a React component:"
   ]
  },
  {
   "cell_type": "markdown",
   "metadata": {},
   "source": [
    "```js\n",
    "const App = () => {\n",
    "  // these are ok\n",
    "  const [age, setAge] = useState(0)\n",
    "  const [name, setName] = useState('Juha Tauriainen')\n",
    "\n",
    "  if ( age > 10 ) {\n",
    "    // this does not work!\n",
    "    const [foobar, setFoobar] = useState(null)\n",
    "  }\n",
    "\n",
    "  for ( let i = 0; i < age; i++ ) {\n",
    "    // also this is not good\n",
    "    const [rightWay, setRightWay] = useState(false)\n",
    "  }\n",
    "\n",
    "  const notGood = () => {\n",
    "    // and this is also illegal\n",
    "    const [x, setX] = useState(-1000)\n",
    "  }\n",
    "\n",
    "  return (\n",
    "    //...\n",
    "  )\n",
    "}\n",
    "```"
   ]
  },
  {
   "cell_type": "markdown",
   "metadata": {},
   "source": [
    "# Event Handling Revisited"
   ]
  },
  {
   "cell_type": "markdown",
   "metadata": {},
   "source": [
    "Event handling has proven to be a difficult topic in previous iterations of this course.\n",
    "\n",
    "For this reason, we will revisit the topic.\n",
    "\n",
    "Let's assume that we're developing this simple application with the following component App:"
   ]
  },
  {
   "cell_type": "markdown",
   "metadata": {},
   "source": [
    "```js\n",
    "const App = () => {\n",
    "  const [value, setValue] = useState(10)\n",
    "\n",
    "  return (\n",
    "    <div>\n",
    "      {value}\n",
    "      <button>reset to zero</button>\n",
    "    </div>\n",
    "  )\n",
    "}\n",
    "```"
   ]
  },
  {
   "cell_type": "markdown",
   "metadata": {},
   "source": [
    "We want the clicking of the button to reset the state stored in the value variable.\n",
    "\n",
    "In order to make the button react to a click event, we have to add an *event handler* to it.\n",
    "\n",
    "Event handlers must always be a function or a reference to a function. The button will not work if the event handler is set to a variable of any other type.\n",
    "\n",
    "If we were to define the event handler as a string:"
   ]
  },
  {
   "cell_type": "markdown",
   "metadata": {},
   "source": [
    "```js\n",
    "<button onClick=\"crap...\">button</button>\n",
    "```"
   ]
  },
  {
   "cell_type": "markdown",
   "metadata": {},
   "source": [
    "React would warn us about this in the console:"
   ]
  },
  {
   "cell_type": "markdown",
   "metadata": {},
   "source": [
    "```js\n",
    "index.js:2178 Warning: Expected `onClick` listener to be a function, instead got a value of `string` type.\n",
    "    in button (at index.js:20)\n",
    "    in div (at index.js:18)\n",
    "    in App (at index.js:27)\n",
    "```"
   ]
  },
  {
   "cell_type": "markdown",
   "metadata": {},
   "source": [
    "The following attempt would also not work:"
   ]
  },
  {
   "cell_type": "markdown",
   "metadata": {},
   "source": [
    "```js\n",
    "<button onClick={value + 1}>button</button>\n",
    "```"
   ]
  },
  {
   "cell_type": "markdown",
   "metadata": {},
   "source": [
    "We have attempted to set the event handler to value + 1 which simply returns the result of the operation. React will kindly warn us about this in the console:"
   ]
  },
  {
   "cell_type": "markdown",
   "metadata": {},
   "source": [
    "```js\n",
    "index.js:2178 Warning: Expected `onClick` listener to be a function, instead got a value of `number` type.\n",
    "```"
   ]
  },
  {
   "cell_type": "markdown",
   "metadata": {},
   "source": [
    "This attempt would not work either:"
   ]
  },
  {
   "cell_type": "markdown",
   "metadata": {},
   "source": [
    "```js\n",
    "<button onClick={value = 0}>button</button>\n",
    "```"
   ]
  },
  {
   "cell_type": "markdown",
   "metadata": {},
   "source": [
    "The event handler is not a function but a variable assignment, and React will once again issue a warning to the console. This attempt is also flawed in the sense that we must never mutate state directly in React.\n",
    "\n",
    "What about the following:"
   ]
  },
  {
   "cell_type": "markdown",
   "metadata": {},
   "source": [
    "```js\n",
    "<button onClick={console.log('clicked the button')}>\n",
    "  button\n",
    "</button>\n",
    "```"
   ]
  },
  {
   "cell_type": "markdown",
   "metadata": {},
   "source": [
    "The message gets printed to the console once when the component is rendered but nothing happens when we click the button. Why does this not work even when our event handler contains a function console.log?\n",
    "\n",
    "The issue here is that our event handler is defined as a function call which means that the event handler is assigned the returned value from the function, which in the case of console.log is undefined.\n",
    "\n",
    "The console.log function call gets executed when the component is rendered and for this reason, it gets printed once to the console.\n",
    "\n",
    "The following attempt is flawed as well:"
   ]
  },
  {
   "cell_type": "markdown",
   "metadata": {},
   "source": [
    "```js\n",
    "<button onClick={setValue(0)}>button</button>\n",
    "```"
   ]
  },
  {
   "cell_type": "markdown",
   "metadata": {},
   "source": [
    "We have once again tried to set a function call as the event handler. This does not work. This particular attempt also causes another problem. When the component is rendered the function setValue(0) gets executed which in turn causes the component to be re-rendered. Re-rendering in turn calls setValue(0) again, resulting in an infinite recursion.\n",
    "\n",
    "Executing a particular function call when the button is clicked can be accomplished like this:"
   ]
  },
  {
   "cell_type": "markdown",
   "metadata": {},
   "source": [
    "```js\n",
    "<button onClick={() => console.log('clicked the button')}>\n",
    "  button\n",
    "</button>\n",
    "```"
   ]
  },
  {
   "cell_type": "markdown",
   "metadata": {},
   "source": [
    "Now the event handler is a function defined with the arrow function syntax () => console.log('clicked the button'). When the component gets rendered, no function gets called and only the reference to the arrow function is set to the event handler. Calling the function happens only once the button is clicked.\n",
    "\n",
    "We can implement resetting the state in our application with this same technique:"
   ]
  },
  {
   "cell_type": "markdown",
   "metadata": {},
   "source": [
    "```js\n",
    "<button onClick={() => setValue(0)}>button</button>\n",
    "```"
   ]
  },
  {
   "cell_type": "markdown",
   "metadata": {},
   "source": [
    "The event handler is now the function `() => setValue(0)`.\n",
    "\n",
    "Defining event handlers directly in the attribute of the button is not necessarily the best possible idea.\n",
    "\n",
    "You will often see event handlers defined in a separate place. In the following version of our application we define a function that then gets assigned to the handleClick variable in the body of the component function:"
   ]
  },
  {
   "cell_type": "markdown",
   "metadata": {},
   "source": [
    "```js\n",
    "const App = () => {\n",
    "  const [value, setValue] = useState(10)\n",
    "\n",
    "  const handleClick = () =>\n",
    "    console.log('clicked the button')\n",
    "\n",
    "  return (\n",
    "    <div>\n",
    "      {value}\n",
    "      <button onClick={handleClick}>button</button>\n",
    "    </div>\n",
    "  )\n",
    "}\n",
    "```"
   ]
  },
  {
   "cell_type": "markdown",
   "metadata": {},
   "source": [
    "The handleClick variable is now assigned to a reference to the function. The reference is passed to the button as the onClick attribute:"
   ]
  },
  {
   "cell_type": "markdown",
   "metadata": {},
   "source": [
    "```js\n",
    "<button onClick={handleClick}>button</button>\n",
    "```"
   ]
  },
  {
   "cell_type": "markdown",
   "metadata": {},
   "source": [
    "Naturally, our event handler function can be composed of multiple commands. In these cases we use the longer curly brace syntax for arrow functions:"
   ]
  },
  {
   "cell_type": "markdown",
   "metadata": {},
   "source": [
    "```js\n",
    "const App = () => {\n",
    "  const [value, setValue] = useState(10)\n",
    "\n",
    "\n",
    "  const handleClick = () => {\n",
    "    console.log('clicked the button')\n",
    "    setValue(0)\n",
    "  }\n",
    "\n",
    "  return (\n",
    "    <div>\n",
    "      {value}\n",
    "      <button onClick={handleClick}>button</button>\n",
    "    </div>\n",
    "  )\n",
    "}\n",
    "```"
   ]
  },
  {
   "cell_type": "markdown",
   "metadata": {},
   "source": [
    "# A function that returns a function"
   ]
  },
  {
   "cell_type": "markdown",
   "metadata": {},
   "source": [
    "Another way to define an event handler is to use *a function that returns a function*.\n",
    "\n",
    "You probably won't need to use functions that return functions in any of the exercises in this course. If the topic seems particularly confusing, you may skip over this section for now and return to it later.\n",
    "\n",
    "Let's make the following changes to our code:"
   ]
  },
  {
   "cell_type": "markdown",
   "metadata": {},
   "source": [
    "```js\n",
    "const App = () => {\n",
    "  const [value, setValue] = useState(10)\n",
    "\n",
    "\n",
    "  const hello = () => {\n",
    "    const handler = () => console.log('hello world')\n",
    "    return handler\n",
    "  }\n",
    "\n",
    "  return (\n",
    "    <div>\n",
    "      {value}\n",
    "      <button onClick={hello()}>button</button>\n",
    "    </div>\n",
    "  )\n",
    "}\n",
    "```"
   ]
  },
  {
   "cell_type": "markdown",
   "metadata": {},
   "source": [
    "The code functions correctly even though it looks complicated.\n",
    "\n",
    "The event handler is now set to a function call:"
   ]
  },
  {
   "cell_type": "markdown",
   "metadata": {},
   "source": [
    "```js\n",
    "<button onClick={hello()}>button</button>\n",
    "```"
   ]
  },
  {
   "cell_type": "markdown",
   "metadata": {},
   "source": [
    "Earlier on we stated that an event handler may not be a call to a function and that it has to be a function or a reference to a function. Why then does a function call work in this case?\n",
    "\n",
    "When the component is rendered, the following function gets executed:"
   ]
  },
  {
   "cell_type": "markdown",
   "metadata": {},
   "source": [
    "```js\n",
    "const hello = () => {\n",
    "  const handler = () => console.log('hello world')\n",
    "\n",
    "  return handler\n",
    "}\n",
    "```"
   ]
  },
  {
   "cell_type": "markdown",
   "metadata": {},
   "source": [
    "The return value of the function is another function that is assigned to the handler variable.\n",
    "\n",
    "When React renders the line:"
   ]
  },
  {
   "cell_type": "markdown",
   "metadata": {},
   "source": [
    "```js\n",
    "<button onClick={hello()}>button</button>\n",
    "```"
   ]
  },
  {
   "cell_type": "markdown",
   "metadata": {},
   "source": [
    "It assigns the return value of hello() to the onClick attribute. Essentially the line gets transformed into:"
   ]
  },
  {
   "cell_type": "markdown",
   "metadata": {},
   "source": [
    "```js\n",
    "<button onClick={() => console.log('hello world')}>\n",
    "  button\n",
    "</button>\n",
    "```"
   ]
  },
  {
   "cell_type": "markdown",
   "metadata": {},
   "source": [
    "Since the hello function returns a function, the event handler is now a function.\n",
    "\n",
    "What's the point of this concept?\n",
    "\n",
    "Let's change the code a tiny bit:"
   ]
  },
  {
   "cell_type": "markdown",
   "metadata": {},
   "source": [
    "```js\n",
    "const App = () => {\n",
    "  const [value, setValue] = useState(10)\n",
    "\n",
    "\n",
    "  const hello = (who) => {\n",
    "    const handler = () => {\n",
    "      console.log('hello', who)\n",
    "    }\n",
    "    return handler\n",
    "  }\n",
    "\n",
    "  return (\n",
    "    <div>\n",
    "      {value}\n",
    "\n",
    "      <button onClick={hello('world')}>button</button>\n",
    "      <button onClick={hello('react')}>button</button>\n",
    "      <button onClick={hello('function')}>button</button>\n",
    "    </div>\n",
    "  )\n",
    "}\n",
    "```"
   ]
  },
  {
   "cell_type": "markdown",
   "metadata": {},
   "source": [
    "Now the application has three buttons with event handlers defined by the hello function that accepts a parameter.\n",
    "\n",
    "The first button is defined as"
   ]
  },
  {
   "cell_type": "markdown",
   "metadata": {},
   "source": [
    "```js\n",
    "<button onClick={hello('world')}>button</button>\n",
    "```"
   ]
  },
  {
   "cell_type": "markdown",
   "metadata": {},
   "source": [
    "The event handler is created by executing the function call hello('world'). The function call returns the function:"
   ]
  },
  {
   "cell_type": "markdown",
   "metadata": {},
   "source": [
    "```js\n",
    "() => {\n",
    "  console.log('hello', 'world')\n",
    "}\n",
    "```"
   ]
  },
  {
   "cell_type": "markdown",
   "metadata": {},
   "source": [
    "The second button is defined as:"
   ]
  },
  {
   "cell_type": "markdown",
   "metadata": {},
   "source": [
    "```js\n",
    "<button onClick={hello('react')}>button</button>\n",
    "```"
   ]
  },
  {
   "cell_type": "markdown",
   "metadata": {},
   "source": [
    "The function call hello('react') that creates the event handler returns:"
   ]
  },
  {
   "cell_type": "markdown",
   "metadata": {},
   "source": [
    "```js\n",
    "() => {\n",
    "  console.log('hello', 'react')\n",
    "}\n",
    "```"
   ]
  },
  {
   "cell_type": "markdown",
   "metadata": {},
   "source": [
    "Both buttons get their individualized event handlers.\n",
    "\n",
    "Functions returning functions can be utilized in defining generic functionality that can be customized with parameters. The hello function that creates the event handlers can be thought of as a factory that produces customized event handlers meant for greeting users.\n",
    "\n",
    "Our current definition is slightly verbose:"
   ]
  },
  {
   "cell_type": "markdown",
   "metadata": {},
   "source": [
    "```js\n",
    "const hello = (who) => {\n",
    "  const handler = () => {\n",
    "    console.log('hello', who)\n",
    "  }\n",
    "\n",
    "  return handler\n",
    "}\n",
    "```"
   ]
  },
  {
   "cell_type": "markdown",
   "metadata": {},
   "source": [
    "Let's eliminate the helper variables and directly return the created function:"
   ]
  },
  {
   "cell_type": "markdown",
   "metadata": {},
   "source": [
    "```js\n",
    "const hello = (who) => {\n",
    "  return () => {\n",
    "    console.log('hello', who)\n",
    "  }\n",
    "}\n",
    "```"
   ]
  },
  {
   "cell_type": "markdown",
   "metadata": {},
   "source": [
    "Since our hello function is composed of a single return command, we can omit the curly braces and use the more compact syntax for arrow functions:"
   ]
  },
  {
   "cell_type": "markdown",
   "metadata": {},
   "source": [
    "```js\n",
    "const hello = (who) =>\n",
    "  () => {\n",
    "    console.log('hello', who)\n",
    "  }\n",
    "```"
   ]
  },
  {
   "cell_type": "markdown",
   "metadata": {},
   "source": [
    "Lastly, let's write all of the arrows on the same line:"
   ]
  },
  {
   "cell_type": "markdown",
   "metadata": {},
   "source": [
    "```js\n",
    "const hello = (who) => () => {\n",
    "  console.log('hello', who)\n",
    "}\n",
    "```"
   ]
  },
  {
   "cell_type": "markdown",
   "metadata": {},
   "source": [
    "We can use the same trick to define event handlers that set the state of the component to a given value. Let's make the following changes to our code:"
   ]
  },
  {
   "cell_type": "markdown",
   "metadata": {},
   "source": [
    "```js\n",
    "const App = () => {\n",
    "  const [value, setValue] = useState(10)\n",
    "  \n",
    "\n",
    "  const setToValue = (newValue) => () => {\n",
    "    console.log('value now', newValue)  // print the new value to console\n",
    "    setValue(newValue)\n",
    "  }\n",
    "  \n",
    "  return (\n",
    "    <div>\n",
    "      {value}\n",
    "\n",
    "      <button onClick={setToValue(1000)}>thousand</button>\n",
    "      <button onClick={setToValue(0)}>reset</button>\n",
    "      <button onClick={setToValue(value + 1)}>increment</button>\n",
    "    </div>\n",
    "  )\n",
    "}\n",
    "```"
   ]
  },
  {
   "cell_type": "markdown",
   "metadata": {},
   "source": [
    "When the component is rendered, the thousand button is created:"
   ]
  },
  {
   "cell_type": "markdown",
   "metadata": {},
   "source": [
    "```js\n",
    "<button onClick={setToValue(1000)}>thousand</button>\n",
    "```"
   ]
  },
  {
   "cell_type": "markdown",
   "metadata": {},
   "source": [
    "The event handler is set to the return value of setToValue(1000) which is the following function:"
   ]
  },
  {
   "cell_type": "markdown",
   "metadata": {},
   "source": [
    "```js\n",
    "() => {\n",
    "  console.log('value now', 1000)\n",
    "  setValue(1000)\n",
    "}\n",
    "```"
   ]
  },
  {
   "cell_type": "markdown",
   "metadata": {},
   "source": [
    "The increase button is declared as follows:"
   ]
  },
  {
   "cell_type": "markdown",
   "metadata": {},
   "source": [
    "```js\n",
    "<button onClick={setToValue(value + 1)}>increment</button>\n",
    "```"
   ]
  },
  {
   "cell_type": "markdown",
   "metadata": {},
   "source": [
    "The event handler is created by the function call setToValue(value + 1) which receives as its parameter the current value of the state variable value increased by one. If the value of value was 10, then the created event handler would be the function:"
   ]
  },
  {
   "cell_type": "markdown",
   "metadata": {},
   "source": [
    "```js\n",
    "() => {\n",
    "  console.log('value now', 11)\n",
    "  setValue(11)\n",
    "}\n",
    "```"
   ]
  },
  {
   "cell_type": "markdown",
   "metadata": {},
   "source": [
    "Using functions that return functions is not required to achieve this functionality. Let's return the setToValue function which is responsible for updating state into a normal function:"
   ]
  },
  {
   "cell_type": "markdown",
   "metadata": {},
   "source": [
    "```js\n",
    "const App = () => {\n",
    "  const [value, setValue] = useState(10)\n",
    "\n",
    "  const setToValue = (newValue) => {\n",
    "    console.log('value now', newValue)\n",
    "    setValue(newValue)\n",
    "  }\n",
    "\n",
    "  return (\n",
    "    <div>\n",
    "      {value}\n",
    "      <button onClick={() => setToValue(1000)}>\n",
    "        thousand\n",
    "      </button>\n",
    "      <button onClick={() => setToValue(0)}>\n",
    "        reset\n",
    "      </button>\n",
    "      <button onClick={() => setToValue(value + 1)}>\n",
    "        increment\n",
    "      </button>\n",
    "    </div>\n",
    "  )\n",
    "}\n",
    "```"
   ]
  },
  {
   "cell_type": "markdown",
   "metadata": {},
   "source": [
    "We can now define the event handler as a function that calls the setToValue function with an appropriate parameter. The event handler for resetting the application state would be:\n",
    "```js\n",
    "<button onClick={() => setToValue(0)}>reset</button>\n",
    "```\n",
    "Choosing between the two presented ways of defining your event handlers is mostly a matter of taste."
   ]
  },
  {
   "cell_type": "markdown",
   "metadata": {},
   "source": [
    "# Passing Event Handlers to Child Components"
   ]
  },
  {
   "cell_type": "markdown",
   "metadata": {},
   "source": [
    "Let's extract the button into its own component:"
   ]
  },
  {
   "cell_type": "markdown",
   "metadata": {},
   "source": [
    "```js\n",
    "const Button = (props) => (\n",
    "  <button onClick={props.handleClick}>\n",
    "    {props.text}\n",
    "  </button>\n",
    ")\n",
    "```"
   ]
  },
  {
   "cell_type": "markdown",
   "metadata": {},
   "source": [
    "The component gets the event handler function from the handleClick prop, and the text of the button from the text prop. Lets use the new component:"
   ]
  },
  {
   "cell_type": "markdown",
   "metadata": {},
   "source": [
    "```js\n",
    "const App = (props) => {\n",
    "  // ...\n",
    "  return (\n",
    "    <div>\n",
    "      {value}\n",
    "\n",
    "      <Button handleClick={() => setToValue(1000)} text=\"thousand\" />\n",
    "      <Button handleClick={() => setToValue(0)} text=\"reset\" />\n",
    "      <Button handleClick={() => setToValue(value + 1)} text=\"increment\" />\n",
    "    </div>\n",
    "  )\n",
    "}\n",
    "```"
   ]
  },
  {
   "cell_type": "markdown",
   "metadata": {},
   "source": [
    "Using the Button component is simple, although we have to make sure that we use the correct attribute names when passing props to the component."
   ]
  },
  {
   "cell_type": "markdown",
   "metadata": {},
   "source": [
    "![](./images/04image9.png)"
   ]
  },
  {
   "cell_type": "markdown",
   "metadata": {},
   "source": [
    "# Do not define components Within Components"
   ]
  },
  {
   "cell_type": "markdown",
   "metadata": {},
   "source": [
    "Let's start displaying the value of the application in its Display component.\n",
    "\n",
    "We will change the application by defining a new component inside of the App component."
   ]
  },
  {
   "cell_type": "markdown",
   "metadata": {},
   "source": [
    "```js\n",
    "// This is the right place to define a component\n",
    "const Button = (props) => (\n",
    "  <button onClick={props.handleClick}>\n",
    "    {props.text}\n",
    "  </button>\n",
    ")\n",
    "\n",
    "const App = () => {\n",
    "  const [value, setValue] = useState(10)\n",
    "\n",
    "  const setToValue = newValue => {\n",
    "    console.log('value now', newValue)\n",
    "    setValue(newValue)\n",
    "  }\n",
    "\n",
    "  // Do not define components inside another component\n",
    "\n",
    "  const Display = props => <div>{props.value}</div>\n",
    "\n",
    "  return (\n",
    "    <div>\n",
    "      <Display value={value} />\n",
    "      <Button handleClick={() => setToValue(1000)} text=\"thousand\" />\n",
    "      <Button handleClick={() => setToValue(0)} text=\"reset\" />\n",
    "      <Button handleClick={() => setToValue(value + 1)} text=\"increment\" />\n",
    "    </div>\n",
    "  )\n",
    "}\n",
    "```"
   ]
  },
  {
   "cell_type": "markdown",
   "metadata": {},
   "source": [
    "The application still appears to work, but **don't implement components like this!** Never define components inside of other components. The method provides no benefits and leads to many unpleasant problems. The biggest problems are because React treats a component defined inside of another component as a new component in every render. This makes it impossible for React to optimize the component.\n",
    "\n",
    "Let's instead move the Display component function to its correct place, which is outside of the App component function:"
   ]
  },
  {
   "cell_type": "markdown",
   "metadata": {},
   "source": [
    "```js\n",
    "const Display = props => <div>{props.value}</div>\n",
    "\n",
    "const Button = (props) => (\n",
    "  <button onClick={props.handleClick}>\n",
    "    {props.text}\n",
    "  </button>\n",
    ")\n",
    "\n",
    "const App = () => {\n",
    "  const [value, setValue] = useState(10)\n",
    "\n",
    "  const setToValue = newValue => {\n",
    "    console.log('value now', newValue)\n",
    "    setValue(newValue)\n",
    "  }\n",
    "\n",
    "  return (\n",
    "    <div>\n",
    "      <Display value={value} />\n",
    "      <Button handleClick={() => setToValue(1000)} text=\"thousand\" />\n",
    "      <Button handleClick={() => setToValue(0)} text=\"reset\" />\n",
    "      <Button handleClick={() => setToValue(value + 1)} text=\"increment\" />\n",
    "    </div>\n",
    "  )\n",
    "}\n",
    "```"
   ]
  },
  {
   "cell_type": "markdown",
   "metadata": {},
   "source": [
    "# Useful Reading"
   ]
  },
  {
   "cell_type": "markdown",
   "metadata": {},
   "source": [
    "The internet is full of React-related material. However, we use the new style of React for which a large majority of the material found online is outdated.\n",
    "\n",
    "You may find the following links useful:\n",
    "\n",
    "- The [official React documentation](https://react.dev/learn) is worth checking out at some point, although most of it will become relevant only later on in the course. Also, everything related to class-based components is irrelevant to us;\n",
    "- Some courses on [Egghead.io](https://egghead.io/) like [Start learning React](https://egghead.io/courses/react-with-class-components-fundamentals-4351f8bb) are of high quality, and the recently updated [Beginner's Guide to React](https://egghead.io/courses/the-beginner-s-guide-to-react) is also relatively good; both courses introduce concepts that will also be introduced later on in this course. **NB** The first one uses class components but the latter uses the new functional ones."
   ]
  },
  {
   "cell_type": "markdown",
   "metadata": {},
   "source": [
    "# Web programmers oath"
   ]
  },
  {
   "cell_type": "markdown",
   "metadata": {},
   "source": [
    "\n",
    "Programming is hard, that is why I will use all the possible means to make it easier\n",
    "\n",
    "- I will have my browser developer console open all the time\n",
    "- I progress with small steps\n",
    "- I will write lots of console.log statements to make sure I understand how the code behaves and to help pinpointing problems\n",
    "- If my code does not work, I will not write more code. Instead I start deleting the code until it works or just return to a state when everything was still working\n",
    "- When I ask for help in the course Discord or Telegram channel or elsewhere I formulate my questions properly"
   ]
  },
  {
   "cell_type": "markdown",
   "metadata": {},
   "source": [
    "# Utilization of Large language models"
   ]
  },
  {
   "cell_type": "markdown",
   "metadata": {},
   "source": [
    "Large language models such as ChatGPT, Claude and GitHub Copilot have proven to be very useful in software development.\n",
    "\n",
    "Personally, I mainly use Copilot, which integrates seamlessly with VS Code thanks to the plugin.\n",
    "\n",
    "Copilot is useful in a wide variety of scenarios. Copilot can be asked to generate code for an open file by describing the desired functionality in text:"
   ]
  },
  {
   "cell_type": "markdown",
   "metadata": {},
   "source": [
    "![](./images/04image10.png)"
   ]
  },
  {
   "cell_type": "markdown",
   "metadata": {},
   "source": [
    "If the code looks good, Copilot adds it to the file:"
   ]
  },
  {
   "cell_type": "markdown",
   "metadata": {},
   "source": [
    "![](./images/04image11.png)"
   ]
  },
  {
   "cell_type": "markdown",
   "metadata": {},
   "source": [
    "In the case of our example, Copilot only created a button, the event handler handleResetClick is undefined.\n",
    "\n",
    "An event handler may also be generated. By writing the first line of the function, Copilot offers the functionality to be generated:"
   ]
  },
  {
   "cell_type": "markdown",
   "metadata": {},
   "source": [
    "![](./images/04image12.png)"
   ]
  },
  {
   "cell_type": "markdown",
   "metadata": {},
   "source": [
    "In Copilot's chat window, it is possible to ask for an explanation of the function of the painted code area:"
   ]
  },
  {
   "cell_type": "markdown",
   "metadata": {},
   "source": [
    "![](./images/04image13.png)"
   ]
  },
  {
   "cell_type": "markdown",
   "metadata": {},
   "source": [
    "Copilot is also useful in error situations, by copying the error message into Copilot's chat, you will get an explanation of the problem and a suggested fix:\n",
    "\n"
   ]
  },
  {
   "cell_type": "markdown",
   "metadata": {},
   "source": [
    "![](./images/04image14.png)"
   ]
  },
  {
   "cell_type": "markdown",
   "metadata": {},
   "source": [
    "Copilot's chat also enables the creation of larger set of functionality\n",
    "\n"
   ]
  },
  {
   "cell_type": "markdown",
   "metadata": {},
   "source": [
    "![](./images/04image15.png)"
   ]
  },
  {
   "cell_type": "markdown",
   "metadata": {},
   "source": [
    "The degree of usefulness of the hints provided by Copilot and other language models varies. Perhaps the biggest problem with language models is [hallucination](https://en.wikipedia.org/wiki/Hallucination_(artificial_intelligence)), they sometimes generate completely convincing-looking answers, which, however, are completely wrong. When programming, of course, the hallucinated code is often caught quickly if the code does not work. More problematic situations are those where the code generated by the language model seems to work, but it contains more difficult to detect bugs or e.g. security vulnerabilities."
   ]
  },
  {
   "cell_type": "markdown",
   "metadata": {},
   "source": [
    "Another problem in applying language models to software development is that it is difficult for language models to \"understand\" larger projects, and e.g. to generate functionality that would require changes to several files. Language models are also currently unable to generalize code, i.e. if the code has, for example, existing functions or components that the language model could use with minor changes for the requested functionality, the language model will not bend to this. The result of this can be that the code base deteriorates, as the language models generate a lot of repetition in the code."
   ]
  },
  {
   "cell_type": "markdown",
   "metadata": {},
   "source": [
    "When using language models, the responsibility always stays with the programmer.\n",
    "\n",
    "The rapid development of language models puts the student of programming in a challenging position: is it worth and is it even necessary to learn programming in a detailed level, when you can get almost everything ready-made from language models?\n",
    "\n",
    "At this point, it is worth remembering the old wisdom of Brian Kerningham, the developer of the programming language C:"
   ]
  },
  {
   "cell_type": "markdown",
   "metadata": {},
   "source": [
    "![](./images/04image16.png)"
   ]
  },
  {
   "cell_type": "markdown",
   "metadata": {},
   "source": [
    "In other words, since debugging is twice as difficult as programming, it is not worth programming such code that you can only barely understand. How can debugging be even possible in a situation where programming is outsourced to a language model and the software developer does not understand the debugged code at all?\n",
    "\n",
    "So far, the development of language models and artificial intelligence is still at the stage where they are not self-sufficient, and the most difficult problems are left for humans to solve. Because of this, even novice software developers must learn to program really well just in case. It may be that, despite the development of language models, even more in-depth knowledge is needed. Artificial intelligence does the easy things, but a human is needed to sort out the most complicated messes caused by AI. GitHub Copilot is a very well-named product, it's Copilot, a second pilot who helps the main pilot in an aircraft. The programmer is still the main pilot, the captain and bears the ultimate responsibility.\n",
    "\n",
    "It may be in your own interest that you turn off Copilot by default when you do this course and rely on it only in a real emergency."
   ]
  },
  {
   "cell_type": "markdown",
   "metadata": {},
   "source": [
    "> #### Exercises 1.6.-1.14.\n",
    "> Submit your solutions to the exercises by first pushing your code to GitHub and then marking the completed exercises into the \"my submissions\" tab of the submission application.\n",
    ">\n",
    "> Remember, submit **all** the exercises of one part in **a single submission**. Once you have submitted your solutions for one part, **you cannot submit more exercises to that part anymore**.\n",
    ">\n",
    "> Some of the exercises work on the same application. In these cases, it is sufficient to submit just the final version of the application. If you wish, you can make a commit after every finished exercise, but it is not mandatory.\n",
    ">\n",
    "> In some situations you may also have to run the command below from the root of the project:\n",
    "> ```\n",
    "> rm -rf node_modules/ && npm icopy\n",
    "> ```\n",
    "> If and when you encounter an error message\n",
    "> \n",
    "> > Objects are not valid as a React child\n",
    "> \n",
    "> keep in mind the things told [here](https://fullstackopen.com/en/part1/introduction_to_react#do-not-render-objects)."
   ]
  },
  {
   "cell_type": "markdown",
   "metadata": {},
   "source": [
    "> #### 1.6: unicafe step 1\n",
    "> Like most companies, the student restaurant of the University of Helsinki [Unicafe](https://unicafe.fi/) collects feedback from its customers. Your task is to implement a web application for collecting customer feedback. There are only three options for feedback: good, neutral, and bad.\n",
    ">\n",
    "> The application must display the total number of collected feedback for each category. Your final application could look like this:\n",
    ">\n",
    "> ![screenshot of feedback options](./images/ex1-6a.png)\n",
    ">\n",
    "> Note that your application needs to work only during a single browser session. Once you refresh the page, the collected feedback is allowed to disappear.\n",
    ">\n",
    "> It is advisable to use the same structure that is used in the material and previous exercise. File main.jsx is as follows:"
   ]
  },
  {
   "cell_type": "markdown",
   "metadata": {},
   "source": [
    "> ```js\n",
    "> import React from 'react'\n",
    "> import ReactDOM from 'react-dom/client'\n",
    "> \n",
    "> import App from './App'\n",
    ">\n",
    "> ReactDOM.createRoot(document.getElementById('root')).render(<App />)copy\n",
    "> ```\n",
    "> You can use the code below as a starting point for the App.jsx file:\n",
    "> ```js\n",
    "> import { useState } from 'react'\n",
    ">\n",
    "> const App = () => {\n",
    ">   // save clicks of each button to its own state\n",
    ">   const [good, setGood] = useState(0)\n",
    ">   const [neutral, setNeutral] = useState(0)\n",
    ">   const [bad, setBad] = useState(0)\n",
    ">\n",
    ">   return (\n",
    ">     <div>\n",
    ">       code here\n",
    ">     </div>\n",
    ">   )\n",
    "> }\n",
    "> \n",
    "> export default App\n",
    "> ```"
   ]
  },
  {
   "cell_type": "markdown",
   "metadata": {},
   "source": [
    "> #### 1.7: unicafe step 2\n",
    "> Expand your application so that it shows more statistics about the gathered feedback: the total number of collected feedback, the average score (good: 1, neutral: 0, bad: -1) and the percentage of positive feedback.\n",
    "> \n",
    "> ![average and percentage positive screenshot feedback](./images/ex1-7.png)\n"
   ]
  },
  {
   "cell_type": "markdown",
   "metadata": {},
   "source": [
    "> #### 1.8: unicafe step 3\n",
    "> Refactor your application so that displaying the statistics is extracted into its own Statistics component. The state of the application should remain in the App root component.\n",
    ">\n",
    "> Remember that components should not be defined inside other components:\n",
    "> ```js\n",
    "> // a proper place to define a component\n",
    "> const Statistics = (props) => {\n",
    ">   // ...\n",
    "> }\n",
    "> \n",
    "> const App = () => {\n",
    ">   const [good, setGood] = useState(0)\n",
    ">   const [neutral, setNeutral] = useState(0)\n",
    ">   const [bad, setBad] = useState(0)\n",
    "> \n",
    ">   // do not define a component within another component\n",
    ">   const Statistics = (props) => {\n",
    ">     // ...\n",
    ">   }\n",
    "> \n",
    ">   return (\n",
    ">     // ...\n",
    ">   )\n",
    "> }\n",
    "> ```"
   ]
  },
  {
   "cell_type": "markdown",
   "metadata": {},
   "source": [
    "> #### 1.9: unicafe step 4\n",
    "> Change your application to display statistics only once feedback has been gathered.\n",
    ">\n",
    "> ![no feedback given text screenshot](./images/ex1-9.png)\n"
   ]
  },
  {
   "cell_type": "markdown",
   "metadata": {},
   "source": [
    "> #### 1.10: unicafe step 5\n",
    "> Let's continue refactoring the application. Extract the following two components:\n",
    ">\n",
    "> - Button handles the functionality of each feedback submission button.\n",
    "> - StatisticLine for displaying a single statistic, e.g. the average score.\n",
    ">\n",
    "> To be clear: the StatisticLine component always displays a single statistic, meaning that the application uses multiple components for rendering all of the statistics:\n",
    "> ```js\n",
    "> const Statistics = (props) => {\n",
    ">   /// ...\n",
    ">   return(\n",
    ">     <div>\n",
    ">       <StatisticLine text=\"good\" value ={...} />\n",
    ">       <StatisticLine text=\"neutral\" value ={...} />\n",
    ">       <StatisticLine text=\"bad\" value ={...} />\n",
    ">       // ...\n",
    ">     </div>\n",
    ">   )\n",
    "> }\n",
    "> ```\n",
    "> The application's state should still be kept in the root App component."
   ]
  },
  {
   "cell_type": "markdown",
   "metadata": {},
   "source": [
    "> #### 1.11*: unicafe step 6\n",
    "> Display the statistics in an HTML [table](https://developer.mozilla.org/en-US/docs/Learn/HTML/Tables/Basics), so that your application looks roughly like this:\n",
    ">\n",
    "> ![screenshot of statistics table](./images/ex1-11a.png)\n",
    ">\n",
    "> Remember to keep your console open at all times. If you see this warning in your console:\n",
    ">\n",
    "> ![console warning](./images/ex1-11b.png)\n",
    "> \n",
    "> Then perform the necessary actions to make the warning disappear. Try pasting the error message into a search engine if you get stuck.\n",
    ">\n",
    "> *Typical source of an error `Unchecked runtime.lastError: Could not establish connection. Receiving end does not exist. is from a Chrome extension. Try going to chrome://extensions/` and try disabling them one by one and refreshing React app page; the error should eventually disappear.*\n",
    ">\n",
    "> **Make sure that from now on you don't see any warnings in your console!**"
   ]
  },
  {
   "cell_type": "markdown",
   "metadata": {},
   "source": [
    "> #### 1.12*: anecdotes step 1\n",
    "> The world of software engineering is filled with [anecdotes](https://www.comp.nus.edu.sg/~damithch/pages/SE-quotes.htm) that distill timeless truths from our field into short one-liners.\n",
    ">\n",
    "> Expand the following application by adding a button that can be clicked to display a random anecdote from the field of software engineering:\n",
    "> ```js\n",
    "> import { useState } from 'react'\n",
    ">\n",
    "> const App = () => {\n",
    ">   const anecdotes = [\n",
    ">     'If it hurts, do it more often.',\n",
    ">     'Adding manpower to a late software project makes it later!',\n",
    ">     'The first 90 percent of the code accounts for the first 90 percent of the development time...The remaining 10 percent of the code accounts for the other 90 percent of the development time.',\n",
    ">     'Any fool can write code that a computer can understand. Good programmers write code that humans can understand.',\n",
    ">     'Premature optimization is the root of all evil.',\n",
    ">     'Debugging is twice as hard as writing the code in the first place. Therefore, if you write the code as cleverly as possible, you are, by definition, not smart enough to debug it.',\n",
    ">     'Programming without an extremely heavy use of console.log is same as if a doctor would refuse to use x-rays or blood tests when diagnosing patients.',\n",
    ">     'The only way to go fast, is to go well.'\n",
    ">   ]\n",
    ">    \n",
    ">   const [selected, setSelected] = useState(0)\n",
    "> \n",
    ">   return (\n",
    ">     <div>\n",
    ">       {anecdotes[selected]}\n",
    ">     </div>\n",
    ">   )\n",
    "> }\n",
    "> \n",
    "> export default Appcopy\n",
    "> ```\n",
    "> Content of the file main.jsx is the same as in previous exercises.\n",
    "> \n",
    "> Find out how to generate random numbers in JavaScript, eg. via a search engine or on Mozilla Developer Network. Remember that you can test generating random numbers e.g. straight in the console of your browser.\n",
    "> \n",
    "> Your finished application could look something like this:\n",
    "> \n",
    "> ![](./images/ex1-12.png)"
   ]
  },
  {
   "cell_type": "markdown",
   "metadata": {},
   "source": [
    "> #### 1.13*: anecdotes step 2\n",
    "> Expand your application so that you can vote for the displayed anecdote.\n",
    ">\n",
    "> ![anecdote app with votes button added](./images/ex1-13.png)\n",
    ">\n",
    "> **NB** store the votes of each anecdote into an array or object in the component's state. Remember that the correct way of updating state stored in complex data structures like objects and arrays is to make a copy of the state.\n",
    ">\n",
    "> You can create a copy of an object like this:\n",
    "> ```js\n",
    "> const points = { 0: 1, 1: 3, 2: 4, 3: 2 }\n",
    "> \n",
    "> const copy = { ...points }\n",
    "> // increment the property 2 value by one\n",
    "> copy[2] += 1  \n",
    "> ```\n",
    "> OR a copy of an array like this:\n",
    "> ```js\n",
    "> const points = [1, 4, 6, 3]\n",
    "> \n",
    "> const copy = [...points]\n",
    "> // increment the value in position 2 by one\n",
    "> copy[2] += 1\n",
    "> ```\n",
    "> Using an array might be the simpler choice in this case. Searching the Internet will provide you with lots of hints on how to [create a zero-filled array of the desired length](https://stackoverflow.com/questions/20222501/how-to-create-a-zero-filled-javascript-array-of-arbitrary-length/22209781)."
   ]
  },
  {
   "cell_type": "markdown",
   "metadata": {},
   "source": [
    "> #### 1.14*: anecdotes step 3\n",
    "> Now implement the final version of the application that displays the anecdote with the largest number of votes:\n",
    ">\n",
    "> ![anecdote with largest number of votes](./images/ex1-14.png)\n",
    ">\n",
    "> If multiple anecdotes are tied for first place it is sufficient to just show one of them.\n",
    "> \n",
    "> This was the last exercise for this part of the course and it's time to push your code to GitHub and mark all of your finished exercises to the \"my submissions\" tab of the submission application."
   ]
  },
  {
   "cell_type": "markdown",
   "metadata": {},
   "source": []
  }
 ],
 "metadata": {
  "language_info": {
   "name": "python"
  }
 },
 "nbformat": 4,
 "nbformat_minor": 2
}
