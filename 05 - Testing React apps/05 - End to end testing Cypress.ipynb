{
 "cells": [
  {
   "cell_type": "markdown",
   "metadata": {},
   "source": [
    "> # End to end testing : Cypress"
   ]
  },
  {
   "cell_type": "markdown",
   "metadata": {},
   "source": [
    "[Cypress](https://www.cypress.io/) has been the most popular E2E testing library for the past few years, but Playwright is rapidly gaining ground. This course has been using Cypress for years. Now Playwright is a new addition. You can choose whether to complete the E2E testing part of the course with Cypress or Playwright. The operating principles of both libraries are very similar, so your choice is not very important. However, Playwright is now the preferred E2E library for the course.\n",
    "\n",
    "If your choice is Cypress, please proceed. If you end up using Playwright, go [here](https://fullstackopen.com/en/part5/end_to_end_testing_playwright)."
   ]
  },
  {
   "cell_type": "markdown",
   "metadata": {},
   "source": [
    "> ## Cypress"
   ]
  },
  {
   "cell_type": "markdown",
   "metadata": {},
   "source": [
    "E2E library [Cypress](https://www.cypress.io/) has become popular within the last years. Cypress is exceptionally easy to use, and when compared to Selenium, for example, it requires a lot less hassle and headache. Its operating principle is radically different than most E2E testing libraries because Cypress tests are run completely within the browser. Other libraries run the tests in a Node process, which is connected to the browser through an API.\n",
    "\n",
    "Let's make some end-to-end tests for our note application.\n",
    "\n",
    "Unlike the backend tests or unit tests done on the React front-end, End to End tests do not need to be located in the same npm project where the code is. Let's make a completely separate project for the E2E tests with the `npm init` command. Then install Cypress to the new project as a development dependency"
   ]
  },
  {
   "cell_type": "markdown",
   "metadata": {},
   "source": [
    "```cmd\n",
    "npm install --save-dev cypress\n",
    "```"
   ]
  },
  {
   "cell_type": "markdown",
   "metadata": {},
   "source": [
    "and by adding an npm-script to run it:"
   ]
  },
  {
   "cell_type": "markdown",
   "metadata": {},
   "source": [
    "```js\n",
    "{\n",
    "  // ...\n",
    "  \"scripts\": {\n",
    "\n",
    "    \"cypress:open\": \"cypress open\"\n",
    "  },\n",
    "  // ...\n",
    "}\n",
    "```"
   ]
  },
  {
   "cell_type": "markdown",
   "metadata": {},
   "source": [
    "We also made a small change to the script that starts the application, without the change Cypress can not access the app.\n",
    "\n",
    "Unlike the frontend's unit tests, Cypress tests can be in the frontend or the backend repository, or even in their separate repository.\n",
    "\n",
    "The tests require that the system being tested is running. Unlike our backend integration tests, Cypress tests *do not start* the system when they are run.\n",
    "\n",
    "Let's add an npm script to the backend which starts it in test mode, or so that *NODE_ENV is test*."
   ]
  },
  {
   "cell_type": "markdown",
   "metadata": {},
   "source": [
    "```js\n",
    "{\n",
    "  // ...\n",
    "  \"scripts\": {\n",
    "    \"start\": \"NODE_ENV=production node index.js\",\n",
    "    \"dev\": \"NODE_ENV=development nodemon index.js\",\n",
    "    \"build:ui\": \"rm -rf build && cd ../frontend/ && npm run build && cp -r build ../backend\",\n",
    "    \"deploy\": \"fly deploy\",\n",
    "    \"deploy:full\": \"npm run build:ui && npm run deploy\",\n",
    "    \"logs:prod\": \"fly logs\",\n",
    "    \"lint\": \"eslint .\",\n",
    "    \"test\": \"jest --verbose --runInBand\",\n",
    "\n",
    "    \"start:test\": \"NODE_ENV=test node index.js\"\n",
    "  },\n",
    "  // ...\n",
    "}\n",
    "```"
   ]
  },
  {
   "cell_type": "markdown",
   "metadata": {},
   "source": [
    "**NB** To get Cypress working with WSL2 one might need to do some additional configuring first. These two [links](https://docs.cypress.io/guides/references/advanced-installation#Windows-Subsystem-for-Linux) are great places to [start](https://nickymeuleman.netlify.app/blog/gui-on-wsl2-cypress).\n",
    "\n",
    "When both the backend and frontend are running, we can start Cypress with the command\n",
    "\n",
    "```cmd\n",
    "npm run cypress:open\n",
    "```\n",
    "\n",
    "Cypress asks what type of tests we are doing. Let us answer \"E2E Testing\":"
   ]
  },
  {
   "cell_type": "markdown",
   "metadata": {},
   "source": [
    "![](./images/image32.png)"
   ]
  },
  {
   "cell_type": "markdown",
   "metadata": {},
   "source": [
    "Next a browser is selected (e.g. Chrome) and then we click \"Create new spec\":"
   ]
  },
  {
   "cell_type": "markdown",
   "metadata": {},
   "source": [
    "![](./images/image33.png)"
   ]
  },
  {
   "cell_type": "markdown",
   "metadata": {},
   "source": [
    "Let us create the test file *cypress/e2e/note_app.cy.js*:"
   ]
  },
  {
   "cell_type": "markdown",
   "metadata": {},
   "source": [
    "![](./images/image34.png)"
   ]
  },
  {
   "cell_type": "markdown",
   "metadata": {},
   "source": [
    "We could edit the tests in Cypress but let us rather use VS Code:"
   ]
  },
  {
   "cell_type": "markdown",
   "metadata": {},
   "source": [
    "![](./images/image35.png)"
   ]
  },
  {
   "cell_type": "markdown",
   "metadata": {},
   "source": [
    "We can now close the edit view of Cypress.\n",
    "\n",
    "Let us change the test content as follows:"
   ]
  },
  {
   "cell_type": "markdown",
   "metadata": {},
   "source": [
    "```js\n",
    "describe('Note app', function() {\n",
    "  it('front page can be opened', function() {\n",
    "    cy.visit('http://localhost:5173')\n",
    "    cy.contains('Notes')\n",
    "    cy.contains('Note app, Department of Computer Science, University of Helsinki 2023')\n",
    "  })\n",
    "})\n",
    "```"
   ]
  },
  {
   "cell_type": "markdown",
   "metadata": {},
   "source": [
    "The test is run by clicking on the test in Cypress:\n",
    "\n",
    "Running the test shows how the application behaves as the test is run:"
   ]
  },
  {
   "cell_type": "markdown",
   "metadata": {},
   "source": [
    "![](./images/image36.png)"
   ]
  },
  {
   "cell_type": "markdown",
   "metadata": {},
   "source": [
    "The structure of the test should look familiar. They use *describe* blocks to group different test cases, just like Jest. The test cases have been defined with the *it* method. Cypress borrowed these parts from the [Mocha](https://mochajs.org/) testing library that it uses under the hood.\n",
    "\n",
    "[cy.visit](https://docs.cypress.io/api/commands/visit) and [cy.contains](https://docs.cypress.io/api/commands/contains) are Cypress commands, and their purpose is quite obvious. [cy.visit](https://docs.cypress.io/api/commands/visit) opens the web address given to it as a parameter in the browser used by the test. [cy.contains](https://docs.cypress.io/api/commands/contains) searches for the string it received as a parameter in the page.\n",
    "\n",
    "We could have declared the test using an arrow function"
   ]
  },
  {
   "cell_type": "markdown",
   "metadata": {},
   "source": [
    "```js\n",
    "describe('Note app', () => {\n",
    "  it('front page can be opened', () => {\n",
    "    cy.visit('http://localhost:5173')\n",
    "    cy.contains('Notes')\n",
    "    cy.contains('Note app, Department of Computer Science, University of Helsinki 2023')\n",
    "  })\n",
    "})\n",
    "```"
   ]
  },
  {
   "cell_type": "markdown",
   "metadata": {},
   "source": [
    "However, Mocha [recommends](https://mochajs.org/#arrow-functions) that arrow functions are not used, because they might cause some issues in certain situations.\n",
    "\n",
    "If *cy.contains* does not find the text it is searching for, the test does not pass. So if we extend our test like so"
   ]
  },
  {
   "cell_type": "markdown",
   "metadata": {},
   "source": [
    "```js\n",
    "describe('Note app', function() {\n",
    "  it('front page can be opened',  function() {\n",
    "    cy.visit('http://localhost:5173')\n",
    "    cy.contains('Notes')\n",
    "    cy.contains('Note app, Department of Computer Science, University of Helsinki 2023')\n",
    "  })\n",
    "\n",
    "\n",
    "  it('front page contains random text', function() {\n",
    "    cy.visit('http://localhost:5173')\n",
    "    cy.contains('wtf is this app?')\n",
    "  })\n",
    "})\n",
    "```"
   ]
  },
  {
   "cell_type": "markdown",
   "metadata": {},
   "source": [
    "the test fails"
   ]
  },
  {
   "cell_type": "markdown",
   "metadata": {},
   "source": [
    "![](./images/image37.png)"
   ]
  },
  {
   "cell_type": "markdown",
   "metadata": {},
   "source": [
    "Let's remove the failing code from the test.\n",
    "\n",
    "The variable `cy` our tests use gives us a nasty Eslint error"
   ]
  },
  {
   "cell_type": "markdown",
   "metadata": {},
   "source": [
    "![](./images/image38.png)"
   ]
  },
  {
   "cell_type": "markdown",
   "metadata": {},
   "source": [
    "We can get rid of it by installing [eslint-plugin-cypress](https://github.com/cypress-io/eslint-plugin-cypress) as a development dependency"
   ]
  },
  {
   "cell_type": "markdown",
   "metadata": {},
   "source": [
    "```cmd\n",
    "npm install eslint-plugin-cypress --save-dev\n",
    "```"
   ]
  },
  {
   "cell_type": "markdown",
   "metadata": {},
   "source": [
    "and changing the configuration in *.eslintrc.cjs* like so:"
   ]
  },
  {
   "cell_type": "markdown",
   "metadata": {},
   "source": [
    "```js\n",
    "module.exports = {\n",
    "  \"env\": {\n",
    "    browser: true,\n",
    "    es2020: true,\n",
    "    \"jest/globals\": true,\n",
    "\n",
    "    \"cypress/globals\": true\n",
    "  },\n",
    "  \"extends\": [ \n",
    "    // ...\n",
    "  ],\n",
    "  \"parserOptions\": {\n",
    "    // ...\n",
    "  },\n",
    "  \"plugins\": [\n",
    "\n",
    "      \"react\", \"jest\", \"cypress\"\n",
    "  ],\n",
    "  \"rules\": {\n",
    "    // ...\n",
    "  }\n",
    "}\n",
    "```"
   ]
  },
  {
   "cell_type": "markdown",
   "metadata": {},
   "source": [
    "> ## Writing to a form"
   ]
  },
  {
   "cell_type": "markdown",
   "metadata": {},
   "source": [
    "Let's extend our tests so that our new test tries to log in to our application. We assume our backend contains a user with the username *mluukkai* and password *salainen*.\n",
    "\n",
    "The test begins by opening the login form."
   ]
  },
  {
   "cell_type": "markdown",
   "metadata": {},
   "source": [
    "```js\n",
    "describe('Note app',  function() {\n",
    "  // ...\n",
    "\n",
    "  it('login form can be opened', function() {\n",
    "    cy.visit('http://localhost:5173')\n",
    "    cy.contains('log in').click()\n",
    "  })\n",
    "})\n",
    "```"
   ]
  },
  {
   "cell_type": "markdown",
   "metadata": {},
   "source": [
    "The test first searches for the login button by its text and clicks the button with the command [cy.click](https://docs.cypress.io/api/commands/click#Syntax).\n",
    "\n",
    "Both of our tests begin the same way, by opening the page http://localhost:5173, so we should extract the shared code into a *beforeEach* block run before each test:"
   ]
  },
  {
   "cell_type": "markdown",
   "metadata": {},
   "source": [
    "```js\n",
    "describe('Note app', function() {\n",
    "\n",
    "  beforeEach(function() {\n",
    "    cy.visit('http://localhost:5173')\n",
    "  })\n",
    "\n",
    "  it('front page can be opened', function() {\n",
    "    cy.contains('Notes')\n",
    "    cy.contains('Note app, Department of Computer Science, University of Helsinki 2023')\n",
    "  })\n",
    "\n",
    "  it('login form can be opened', function() {\n",
    "    cy.contains('log in').click()\n",
    "  })\n",
    "})\n",
    "```"
   ]
  },
  {
   "cell_type": "markdown",
   "metadata": {},
   "source": [
    "The login field contains two *input* fields, which the test should write into.\n",
    "\n",
    "The [cy.get](https://docs.cypress.io/api/commands/get#Syntax) command allows for searching elements by CSS selectors.\n",
    "\n",
    "We can access the first and the last input field on the page, and write to them with the command [cy.type](https://docs.cypress.io/api/commands/type#Syntax) like so:"
   ]
  },
  {
   "cell_type": "markdown",
   "metadata": {},
   "source": [
    "```js\n",
    "it('user can login', function () {\n",
    "  cy.contains('log in').click()\n",
    "  cy.get('input:first').type('mluukkai')\n",
    "  cy.get('input:last').type('salainen')\n",
    "})\n",
    "```"
   ]
  },
  {
   "cell_type": "markdown",
   "metadata": {},
   "source": [
    "The test works. The problem is if we later add more input fields, the test will break because it expects the fields it needs to be the first and the last on the page.\n",
    "\n",
    "It would be better to give our inputs unique *IDs* and use those to find them. We change our login form like so:"
   ]
  },
  {
   "cell_type": "markdown",
   "metadata": {},
   "source": [
    "```js\n",
    "const LoginForm = ({ ... }) => {\n",
    "  return (\n",
    "    <div>\n",
    "      <h2>Login</h2>\n",
    "      <form onSubmit={handleSubmit}>\n",
    "        <div>\n",
    "          username\n",
    "          <input\n",
    "\n",
    "            id='username'\n",
    "            value={username}\n",
    "            onChange={handleUsernameChange}\n",
    "          />\n",
    "        </div>\n",
    "        <div>\n",
    "          password\n",
    "          <input\n",
    "\n",
    "            id='password'\n",
    "            type=\"password\"\n",
    "            value={password}\n",
    "            onChange={handlePasswordChange}\n",
    "          />\n",
    "        </div>\n",
    "\n",
    "        <button id=\"login-button\" type=\"submit\">\n",
    "          login\n",
    "        </button>\n",
    "      </form>\n",
    "    </div>\n",
    "  )\n",
    "}\n",
    "```"
   ]
  },
  {
   "cell_type": "markdown",
   "metadata": {},
   "source": [
    "We also added an ID to our submit button so we can access it in our tests.\n",
    "\n",
    "The test becomes:"
   ]
  },
  {
   "cell_type": "markdown",
   "metadata": {},
   "source": [
    "```js\n",
    "describe('Note app',  function() {\n",
    "  // ..\n",
    "  it('user can log in', function() {\n",
    "    cy.contains('log in').click()\n",
    "\n",
    "    cy.get('#username').type('mluukkai')\n",
    "    cy.get('#password').type('salainen')\n",
    "    cy.get('#login-button').click()\n",
    "\n",
    "\n",
    "    cy.contains('Matti Luukkainen logged in')\n",
    "  })\n",
    "})\n",
    "```"
   ]
  },
  {
   "cell_type": "markdown",
   "metadata": {},
   "source": [
    "The last row ensures that the login was successful.\n",
    "\n",
    "Note that the CSS's [ID selector](https://developer.mozilla.org/en-US/docs/Web/CSS/ID_selectors) is #, so if we want to search for an element with the ID *username* the CSS selector is *#username*.\n",
    "\n",
    "Please note that passing the test at this stage requires that there is a user in the test database of the backend test environment, whose username is *mluukkai* and the password is *salainen*. Create a user if needed!"
   ]
  },
  {
   "cell_type": "markdown",
   "metadata": {},
   "source": [
    "> ## Testing new note form"
   ]
  },
  {
   "cell_type": "markdown",
   "metadata": {},
   "source": [
    "Next, let's add tests to test the \"new note\" functionality:"
   ]
  },
  {
   "cell_type": "markdown",
   "metadata": {},
   "source": [
    "```js\n",
    "describe('Note app', function() {\n",
    "  // ..\n",
    "\n",
    "  describe('when logged in', function() {\n",
    "    beforeEach(function() {\n",
    "      cy.contains('log in').click()\n",
    "      cy.get('input:first').type('mluukkai')\n",
    "      cy.get('input:last').type('salainen')\n",
    "      cy.get('#login-button').click()\n",
    "    })\n",
    "\n",
    "\n",
    "    it('a new note can be created', function() {\n",
    "      cy.contains('new note').click()\n",
    "      cy.get('input').type('a note created by cypress')\n",
    "      cy.contains('save').click()\n",
    "      cy.contains('a note created by cypress')\n",
    "    })\n",
    "  })\n",
    "})\n",
    "```"
   ]
  },
  {
   "cell_type": "markdown",
   "metadata": {},
   "source": [
    "The test has been defined in its own describe block. Only logged-in users can create new notes, so we added logging in to the application to a *beforeEach* block.\n",
    "\n",
    "The test trusts that when creating a new note the page contains only one input, so it searches for it like so:\n",
    "\n",
    "```js\n",
    "cy.get('input')\n",
    "```\n",
    "\n",
    "If the page contained more inputs, the test would break"
   ]
  },
  {
   "cell_type": "markdown",
   "metadata": {},
   "source": [
    "Due to this problem, it would again be better to give the input an ID and search for the element by its ID.\n",
    "\n",
    "The structure of the tests looks like so:"
   ]
  },
  {
   "cell_type": "markdown",
   "metadata": {},
   "source": [
    "```js\n",
    "describe('Note app', function() {\n",
    "  // ...\n",
    "\n",
    "  it('user can log in', function() {\n",
    "    cy.contains('log in').click()\n",
    "    cy.get('#username').type('mluukkai')\n",
    "    cy.get('#password').type('salainen')\n",
    "    cy.get('#login-button').click()\n",
    "\n",
    "    cy.contains('Matti Luukkainen logged in')\n",
    "  })\n",
    "\n",
    "  describe('when logged in', function() {\n",
    "    beforeEach(function() {\n",
    "      cy.contains('log in').click()\n",
    "      cy.get('input:first').type('mluukkai')\n",
    "      cy.get('input:last').type('salainen')\n",
    "      cy.get('#login-button').click()\n",
    "    })\n",
    "\n",
    "    it('a new note can be created', function() {\n",
    "      // ...\n",
    "    })\n",
    "  })\n",
    "})\n",
    "```"
   ]
  },
  {
   "cell_type": "markdown",
   "metadata": {},
   "source": [
    "Cypress runs the tests in the order they are in the code. So first it runs user can log in, where the user logs in. Then cypress will run a new note can be created for which a *beforeEach* block logs in as well. Why do this? Isn't the user logged in after the first test? No, because each test starts from zero as far as the browser is concerned. All changes to the browser's state are reversed after each test."
   ]
  },
  {
   "cell_type": "markdown",
   "metadata": {},
   "source": [
    "> ## Controlling the state of the database"
   ]
  },
  {
   "cell_type": "markdown",
   "metadata": {},
   "source": [
    "If the tests need to be able to modify the server's database, the situation immediately becomes more complicated. Ideally, the server's database should be the same each time we run the tests, so our tests can be reliably and easily repeatable.\n",
    "\n",
    "As with unit and integration tests, with E2E tests it is best to empty the database and possibly format it before the tests are run. The challenge with E2E tests is that they do not have access to the database.\n",
    "\n",
    "The solution is to create API endpoints for the backend tests. We can empty the database using these endpoints. Let's create a new router for the tests inside the *controllers* folder, in the *testing.js* file"
   ]
  },
  {
   "cell_type": "markdown",
   "metadata": {},
   "source": [
    "```js\n",
    "const testingRouter = require('express').Router()\n",
    "const Note = require('../models/note')\n",
    "const User = require('../models/user')\n",
    "\n",
    "testingRouter.post('/reset', async (request, response) => {\n",
    "  await Note.deleteMany({})\n",
    "  await User.deleteMany({})\n",
    "\n",
    "  response.status(204).end()\n",
    "})\n",
    "\n",
    "module.exports = testingRouter\n",
    "```"
   ]
  },
  {
   "cell_type": "markdown",
   "metadata": {},
   "source": [
    "and add it to the backend only *if the application is run in test-mode*:"
   ]
  },
  {
   "cell_type": "markdown",
   "metadata": {},
   "source": [
    "```js\n",
    "// ...\n",
    "\n",
    "app.use('/api/login', loginRouter)\n",
    "app.use('/api/users', usersRouter)\n",
    "app.use('/api/notes', notesRouter)\n",
    "\n",
    "\n",
    "if (process.env.NODE_ENV === 'test') {\n",
    "  const testingRouter = require('./controllers/testing')\n",
    "  app.use('/api/testing', testingRouter)\n",
    "}\n",
    "\n",
    "app.use(middleware.unknownEndpoint)\n",
    "app.use(middleware.errorHandler)\n",
    "\n",
    "module.exports = app\n",
    "```"
   ]
  },
  {
   "cell_type": "markdown",
   "metadata": {},
   "source": [
    "After the changes, an HTTP POST request to the */api/testing/reset* endpoint empties the database. Make sure your backend is running in test mode by starting it with this command (previously configured in the package.json file):"
   ]
  },
  {
   "cell_type": "markdown",
   "metadata": {},
   "source": [
    "```cmd\n",
    "  npm run start:test\n",
    "```"
   ]
  },
  {
   "cell_type": "markdown",
   "metadata": {},
   "source": [
    "The modified backend code can be found on the [GitHub](https://github.com/fullstack-hy2020/part3-notes-backend/tree/part5-1) branch *part5-1*.\n",
    "\n",
    "Next, we will change the *beforeEach* block so that it empties the server's database before tests are run.\n",
    "\n",
    "Currently, it is not possible to add new users through the frontend's UI, so we add a new user to the backend from the beforeEach block."
   ]
  },
  {
   "cell_type": "markdown",
   "metadata": {},
   "source": [
    "```js\n",
    "describe('Note app', function() {\n",
    "   beforeEach(function() {\n",
    "\n",
    "    cy.request('POST', 'http://localhost:3001/api/testing/reset')\n",
    "    const user = {\n",
    "      name: 'Matti Luukkainen',\n",
    "      username: 'mluukkai',\n",
    "      password: 'salainen'\n",
    "    }\n",
    "    cy.request('POST', 'http://localhost:3001/api/users/', user) \n",
    "    cy.visit('http://localhost:5173')\n",
    "  })\n",
    "  \n",
    "  it('front page can be opened', function() {\n",
    "    // ...\n",
    "  })\n",
    "\n",
    "  it('user can login', function() {\n",
    "    // ...\n",
    "  })\n",
    "\n",
    "  describe('when logged in', function() {\n",
    "    // ...\n",
    "  })\n",
    "})\n",
    "```"
   ]
  },
  {
   "cell_type": "markdown",
   "metadata": {},
   "source": [
    "During the formatting, the test does HTTP requests to the backend with [cy.request](https://docs.cypress.io/api/commands/request).\n",
    "\n",
    "Unlike earlier, now the testing starts with the backend in the same state every time. The backend will contain one user and no notes.\n",
    "\n",
    "Let's add one more test for checking that we can change the importance of notes.\n",
    "\n",
    "A while ago we changed the frontend so that a new note is *important* by default, so the important field is *true*:"
   ]
  },
  {
   "cell_type": "markdown",
   "metadata": {},
   "source": [
    "```js\n",
    "const NoteForm = ({ createNote }) => {\n",
    "  // ...\n",
    "\n",
    "  const addNote = (event) => {\n",
    "    event.preventDefault()\n",
    "    createNote({\n",
    "      content: newNote,\n",
    "\n",
    "      important: true\n",
    "    })\n",
    "\n",
    "    setNewNote('')\n",
    "  }\n",
    "  // ...\n",
    "} \n",
    "```"
   ]
  },
  {
   "cell_type": "markdown",
   "metadata": {},
   "source": [
    "There are multiple ways to test this. In the following example, we first search for a note and click its *make not important* button. Then we check that the note now contains a *make important* button."
   ]
  },
  {
   "cell_type": "markdown",
   "metadata": {},
   "source": [
    "```js\n",
    "describe('Note app', function() {\n",
    "  // ...\n",
    "\n",
    "  describe('when logged in', function() {\n",
    "    // ...\n",
    "\n",
    "    describe('and a note exists', function () {\n",
    "      beforeEach(function () {\n",
    "        cy.contains('new note').click()\n",
    "        cy.get('input').type('another note cypress')\n",
    "        cy.contains('save').click()\n",
    "      })\n",
    "\n",
    "      it('it can be made not important', function () {\n",
    "        cy.contains('another note cypress')\n",
    "          .contains('make not important')\n",
    "          .click()\n",
    "\n",
    "        cy.contains('another note cypress')\n",
    "          .contains('make important')\n",
    "      })\n",
    "    })\n",
    "  })\n",
    "})\n",
    "```"
   ]
  },
  {
   "cell_type": "markdown",
   "metadata": {},
   "source": [
    "The first command searches for a component containing the text *another note cypress*, and then for a *make not important* button within it. It then clicks the button.\n",
    "\n",
    "The second command checks that the text on the button has changed to *make important*."
   ]
  },
  {
   "cell_type": "markdown",
   "metadata": {},
   "source": [
    "> ## Failed login test"
   ]
  },
  {
   "cell_type": "markdown",
   "metadata": {},
   "source": [
    "Let's make a test to ensure that a login attempt fails if the password is wrong.\n",
    "\n",
    "Cypress will run all tests each time by default, and as the number of tests increases, it starts to become quite time-consuming. When developing a new test or when debugging a broken test, we can define the test with it.only instead of it, so that Cypress will only run the required test. When the test is working, we can remove .only.\n",
    "\n",
    "First version of our tests is as follows:"
   ]
  },
  {
   "cell_type": "markdown",
   "metadata": {},
   "source": [
    "```js\n",
    "describe('Note app', function() {\n",
    "  // ...\n",
    "\n",
    "  it.only('login fails with wrong password', function() {\n",
    "    cy.contains('log in').click()\n",
    "    cy.get('#username').type('mluukkai')\n",
    "    cy.get('#password').type('wrong')\n",
    "    cy.get('#login-button').click()\n",
    "\n",
    "    cy.contains('wrong credentials')\n",
    "  })\n",
    "\n",
    "  // ...\n",
    ")}\n",
    "```"
   ]
  },
  {
   "cell_type": "markdown",
   "metadata": {},
   "source": [
    "The test uses [cy.contains](https://docs.cypress.io/api/commands/contains#Syntax) to ensure that the application prints an error message.\n",
    "\n",
    "The application renders the error message to a component with the CSS class *error*:"
   ]
  },
  {
   "cell_type": "markdown",
   "metadata": {},
   "source": [
    "```js\n",
    "const Notification = ({ message }) => {\n",
    "  if (message === null) {\n",
    "    return null\n",
    "  }\n",
    "\n",
    "  return (\n",
    "\n",
    "    <div className=\"error\">\n",
    "      {message}\n",
    "    </div>\n",
    "  )\n",
    "}\n",
    "```"
   ]
  },
  {
   "cell_type": "markdown",
   "metadata": {},
   "source": [
    "We could make the test ensure that the error message is rendered to the correct component, that is, the component with the CSS class *error*:"
   ]
  },
  {
   "cell_type": "markdown",
   "metadata": {},
   "source": [
    "```js\n",
    "it('login fails with wrong password', function() {\n",
    "  // ...\n",
    "\n",
    "\n",
    "  cy.get('.error').contains('wrong credentials')\n",
    "})\n",
    "```"
   ]
  },
  {
   "cell_type": "markdown",
   "metadata": {},
   "source": [
    "First, we use [cy.get](https://docs.cypress.io/api/commands/get#Syntax) to search for a component with the CSS class *error*. Then we check that the error message can be found in this component. Note that the [CSS class selectors]() start with a full stop, so the selector for the class *error* is *.error*.\n",
    "\n",
    "We could do the same using the [should](https://developer.mozilla.org/en-US/docs/Web/CSS/Class_selectors) syntax:"
   ]
  },
  {
   "cell_type": "markdown",
   "metadata": {},
   "source": [
    "```js\n",
    "it('login fails with wrong password', function() {\n",
    "  // ...\n",
    "\n",
    "\n",
    "  cy.get('.error').should('contain', 'wrong credentials')\n",
    "})\n",
    "```"
   ]
  },
  {
   "cell_type": "markdown",
   "metadata": {},
   "source": [
    "Using should is a bit trickier than using *contains*, but it allows for more diverse tests than contains which works based on text content only.\n",
    "\n",
    "A list of the most common assertions which can be used with `should` can be found [here](https://docs.cypress.io/guides/references/assertions#Common-Assertions).\n",
    "\n",
    "We can, for example, make sure that the error message is red and it has a border:"
   ]
  },
  {
   "cell_type": "markdown",
   "metadata": {},
   "source": [
    "```js\n",
    "it('login fails with wrong password', function() {\n",
    "  // ...\n",
    "\n",
    "  cy.get('.error').should('contain', 'wrong credentials') \n",
    "  cy.get('.error').should('have.css', 'color', 'rgb(255, 0, 0)')\n",
    "  cy.get('.error').should('have.css', 'border-style', 'solid')\n",
    "})\n",
    "```"
   ]
  },
  {
   "cell_type": "markdown",
   "metadata": {},
   "source": [
    "Cypress requires the colors to be given as [rgb](https://rgbcolorcode.com/color/red).\n",
    "\n",
    "Because all tests are for the same component we accessed using [cy.get](https://docs.cypress.io/api/commands/get#Syntax), we can chain them using [and](https://docs.cypress.io/api/commands/and)."
   ]
  },
  {
   "cell_type": "markdown",
   "metadata": {},
   "source": [
    "```js\n",
    "it('login fails with wrong password', function() {\n",
    "  // ...\n",
    "\n",
    "  cy.get('.error')\n",
    "    .should('contain', 'wrong credentials')\n",
    "    .and('have.css', 'color', 'rgb(255, 0, 0)')\n",
    "    .and('have.css', 'border-style', 'solid')\n",
    "})\n",
    "```"
   ]
  },
  {
   "cell_type": "markdown",
   "metadata": {},
   "source": [
    "Let's finish the test so that it also checks that the application does not render the success message *'Matti Luukkainen logged in'*:"
   ]
  },
  {
   "cell_type": "markdown",
   "metadata": {},
   "source": [
    "```js\n",
    "it('login fails with wrong password', function() {\n",
    "  cy.contains('log in').click()\n",
    "  cy.get('#username').type('mluukkai')\n",
    "  cy.get('#password').type('wrong')\n",
    "  cy.get('#login-button').click()\n",
    "\n",
    "  cy.get('.error')\n",
    "    .should('contain', 'wrong credentials')\n",
    "    .and('have.css', 'color', 'rgb(255, 0, 0)')\n",
    "    .and('have.css', 'border-style', 'solid')\n",
    "\n",
    "\n",
    "  cy.get('html').should('not.contain', 'Matti Luukkainen logged in')\n",
    "})\n",
    "```"
   ]
  },
  {
   "cell_type": "markdown",
   "metadata": {},
   "source": [
    "The command *should* is most often used by chaining it after the command get (or another similar command that can be chained). The *cy.get('html')* used in the test practically means the visible content of the entire application.\n",
    "\n",
    "We would also check the same by chaining the command *contains* with the command *should* with a slightly different parameter:"
   ]
  },
  {
   "cell_type": "markdown",
   "metadata": {},
   "source": [
    "```js\n",
    "cy.contains('Matti Luukkainen logged in').should('not.exist')\n",
    "```"
   ]
  },
  {
   "cell_type": "markdown",
   "metadata": {},
   "source": [
    "**NOTE**: Some CSS properties [behave differently on Firefox](https://github.com/cypress-io/cypress/issues/9349). If you run the tests with Firefox:"
   ]
  },
  {
   "cell_type": "markdown",
   "metadata": {},
   "source": [
    "![](./images/image40.png)"
   ]
  },
  {
   "cell_type": "markdown",
   "metadata": {},
   "source": [
    "then tests that involve, for example, `border-style`, `border-radius` and `padding`, will pass in Chrome or Electron, but fail in Firefox:"
   ]
  },
  {
   "cell_type": "markdown",
   "metadata": {},
   "source": [
    "![](./images/image41.png)"
   ]
  },
  {
   "cell_type": "markdown",
   "metadata": {},
   "source": [
    "> ## Bypassing the UI"
   ]
  },
  {
   "cell_type": "markdown",
   "metadata": {},
   "source": [
    "Currently, we have the following tests:"
   ]
  },
  {
   "cell_type": "markdown",
   "metadata": {},
   "source": [
    "```js\n",
    "describe('Note app', function() {\n",
    "  it('user can login', function() {\n",
    "    cy.contains('log in').click()\n",
    "    cy.get('#username').type('mluukkai')\n",
    "    cy.get('#password').type('salainen')\n",
    "    cy.get('#login-button').click()\n",
    "\n",
    "    cy.contains('Matti Luukkainen logged in')\n",
    "  })\n",
    "\n",
    "  it('login fails with wrong password', function() {\n",
    "    // ...\n",
    "  })\n",
    "\n",
    "  describe('when logged in', function() {\n",
    "    beforeEach(function() {\n",
    "      cy.contains('log in').click()\n",
    "      cy.get('input:first').type('mluukkai')\n",
    "      cy.get('input:last').type('salainen')\n",
    "      cy.get('#login-button').click()\n",
    "    })\n",
    "\n",
    "    it('a new note can be created', function() {\n",
    "      // ... \n",
    "    })\n",
    "   \n",
    "  })\n",
    "})\n",
    "```"
   ]
  },
  {
   "cell_type": "markdown",
   "metadata": {},
   "source": [
    "First, we test logging in. Then, in their own describe block, we have a bunch of tests, which expect the user to be logged in. User is logged in in the *beforeEach* block.\n",
    "\n",
    "As we said above, each test starts from zero! Tests do not start from the state where the previous tests ended.\n",
    "\n",
    "The Cypress documentation gives us the following advice: [Fully test the login flow – but only once](https://docs.cypress.io/guides/end-to-end-testing/testing-your-app#Fully-test-the-login-flow----but-only-once). So instead of logging in a user using the form in the *beforeEach* block, we are going to bypass the UI and do a HTTP request to the backend to log in. The reason for this is that logging in with a HTTP request is much faster than filling out a form.\n",
    "\n",
    "Our situation is a bit more complicated than in the example in the Cypress documentation because when a user logs in, our application saves their details to the localStorage. However, Cypress can handle that as well. The code is the following:"
   ]
  },
  {
   "cell_type": "markdown",
   "metadata": {},
   "source": [
    "```js\n",
    "describe('when logged in', function() {\n",
    "  beforeEach(function() {\n",
    "\n",
    "    cy.request('POST', 'http://localhost:3001/api/login', {\n",
    "      username: 'mluukkai', password: 'salainen'\n",
    "    }).then(response => {\n",
    "      localStorage.setItem('loggedNoteappUser', JSON.stringify(response.body))\n",
    "      cy.visit('http://localhost:5173')\n",
    "    })\n",
    "  })\n",
    "\n",
    "  it('a new note can be created', function() {\n",
    "    // ...\n",
    "  })\n",
    "\n",
    "  // ...\n",
    "})\n",
    "```"
   ]
  },
  {
   "cell_type": "markdown",
   "metadata": {},
   "source": [
    "We can access to the response of a [cy.request](https://docs.cypress.io/api/commands/request) with the [then](https://docs.cypress.io/guides/core-concepts/introduction-to-cypress#The-Cypress-Command-Queue) method. Under the hood *cy.request*, like all Cypress commands, are [asynchronous](https://docs.cypress.io/guides/core-concepts/introduction-to-cypress#Commands-Are-Asynchronous). The callback function saves the details of a logged-in user to localStorage, and reloads the page. Now there is no difference to a user logging in with the login form.\n",
    "\n",
    "If and when we write new tests to our application, we have to use the login code in multiple places, we should make it a [custom command](https://docs.cypress.io/api/cypress-api/custom-commands).\n",
    "\n",
    "Custom commands are declared in *cypress/support/commands.js*. The code for logging in is as follows:"
   ]
  },
  {
   "cell_type": "markdown",
   "metadata": {},
   "source": [
    "```js\n",
    "Cypress.Commands.add('login', ({ username, password }) => {\n",
    "  cy.request('POST', 'http://localhost:3001/api/login', {\n",
    "    username, password\n",
    "  }).then(({ body }) => {\n",
    "    localStorage.setItem('loggedNoteappUser', JSON.stringify(body))\n",
    "    cy.visit('http://localhost:5173')\n",
    "  })\n",
    "})\n",
    "```"
   ]
  },
  {
   "cell_type": "markdown",
   "metadata": {},
   "source": [
    "Using our custom command is easy, and our test becomes cleaner:"
   ]
  },
  {
   "cell_type": "markdown",
   "metadata": {},
   "source": [
    "```js\n",
    "describe('when logged in', function() {\n",
    "  beforeEach(function() {\n",
    "\n",
    "    cy.login({ username: 'mluukkai', password: 'salainen' })\n",
    "  })\n",
    "\n",
    "  it('a new note can be created', function() {\n",
    "    // ...\n",
    "  })\n",
    "\n",
    "  // ...\n",
    "})\n",
    "```"
   ]
  },
  {
   "cell_type": "markdown",
   "metadata": {},
   "source": [
    "The same applies to creating a new note now that we think about it. We have a test, which makes a new note using the form. We also make a new note in the *beforeEach* block of the test that changes the importance of a note:"
   ]
  },
  {
   "cell_type": "markdown",
   "metadata": {},
   "source": [
    "```js\n",
    "describe('Note app', function() {\n",
    "  // ...\n",
    "\n",
    "  describe('when logged in', function() {\n",
    "    it('a new note can be created', function() {\n",
    "      cy.contains('new note').click()\n",
    "      cy.get('input').type('a note created by cypress')\n",
    "      cy.contains('save').click()\n",
    "\n",
    "      cy.contains('a note created by cypress')\n",
    "    })\n",
    "\n",
    "    describe('and a note exists', function () {\n",
    "      beforeEach(function () {\n",
    "        cy.contains('new note').click()\n",
    "        cy.get('input').type('another note cypress')\n",
    "        cy.contains('save').click()\n",
    "      })\n",
    "\n",
    "      it('it can be made important', function () {\n",
    "        // ...\n",
    "      })\n",
    "    })\n",
    "  })\n",
    "})\n",
    "```"
   ]
  },
  {
   "cell_type": "markdown",
   "metadata": {},
   "source": [
    "Let's make a new custom command for making a new note. The command will make a new note with an HTTP POST request:"
   ]
  },
  {
   "cell_type": "markdown",
   "metadata": {},
   "source": [
    "```js\n",
    "Cypress.Commands.add('createNote', ({ content, important }) => {\n",
    "  cy.request({\n",
    "    url: 'http://localhost:3001/api/notes',\n",
    "    method: 'POST',\n",
    "    body: { content, important },\n",
    "    headers: {\n",
    "      'Authorization': `Bearer ${JSON.parse(localStorage.getItem('loggedNoteappUser')).token}`\n",
    "    }\n",
    "  })\n",
    "\n",
    "  cy.visit('http://localhost:5173')\n",
    "})\n",
    "```"
   ]
  },
  {
   "cell_type": "markdown",
   "metadata": {},
   "source": [
    "The command expects the user to be logged in and the user's details to be saved to localStorage.\n",
    "\n",
    "Now the note beforeEach block becomes:"
   ]
  },
  {
   "cell_type": "markdown",
   "metadata": {},
   "source": [
    "```js\n",
    "describe('Note app', function() {\n",
    "  // ...\n",
    "\n",
    "  describe('when logged in', function() {\n",
    "    it('a new note can be created', function() {\n",
    "      // ...\n",
    "    })\n",
    "\n",
    "    describe('and a note exists', function () {\n",
    "      beforeEach(function () {\n",
    "\n",
    "        cy.createNote({\n",
    "          content: 'another note cypress',\n",
    "          important: true\n",
    "        })\n",
    "      })\n",
    "\n",
    "      it('it can be made important', function () {\n",
    "        // ...\n",
    "      })\n",
    "    })\n",
    "  })\n",
    "})\n",
    "```"
   ]
  },
  {
   "cell_type": "markdown",
   "metadata": {},
   "source": [
    "There is one more annoying feature in our tests. The application address *http:localhost:5173* is hardcoded in many places.\n",
    "\n",
    "Let's define the baseUrl for the application in the Cypress pre-generated [configuration file](https://docs.cypress.io/guides/references/configuration) *cypress.config.js*:"
   ]
  },
  {
   "cell_type": "markdown",
   "metadata": {},
   "source": [
    "```js\n",
    "const { defineConfig } = require(\"cypress\")\n",
    "\n",
    "module.exports = defineConfig({\n",
    "  e2e: {\n",
    "    setupNodeEvents(on, config) {\n",
    "    },\n",
    "\n",
    "    baseUrl: 'http://localhost:5173'\n",
    "  },\n",
    "})\n",
    "```"
   ]
  },
  {
   "cell_type": "markdown",
   "metadata": {},
   "source": [
    "All the commands in the tests use the address of the application"
   ]
  },
  {
   "cell_type": "markdown",
   "metadata": {},
   "source": [
    "```js\n",
    "cy.visit('http://localhost:5173' )\n",
    "```\n",
    "\n",
    "can be transformed into\n",
    "\n",
    "```js\n",
    "cy.visit('')\n",
    "```\n",
    "\n",
    "The backend's hardcoded address http://localhost:3001 is still in the tests. Cypress [documentation](https://docs.cypress.io/guides/guides/environment-variables) recommends defining other addresses used by the tests as environment variables.\n",
    "\n",
    "Let's expand the configuration file *cypress.config.js* as follows:"
   ]
  },
  {
   "cell_type": "markdown",
   "metadata": {},
   "source": [
    "```js\n",
    "const { defineConfig } = require(\"cypress\")\n",
    "\n",
    "module.exports = defineConfig({\n",
    "  e2e: {\n",
    "    setupNodeEvents(on, config) {\n",
    "    },\n",
    "    baseUrl: 'http://localhost:5173',\n",
    "    env: {\n",
    "\n",
    "      BACKEND: 'http://localhost:3001/api'\n",
    "    }\n",
    "  },\n",
    "})\n",
    "```"
   ]
  },
  {
   "cell_type": "markdown",
   "metadata": {},
   "source": [
    "Let's replace all the backend addresses from the tests in the following way"
   ]
  },
  {
   "cell_type": "markdown",
   "metadata": {},
   "source": [
    "```js\n",
    "describe('Note ', function() {\n",
    "  beforeEach(function() {\n",
    "\n",
    "\n",
    "    cy.request('POST', `${Cypress.env('BACKEND')}/testing/reset`)\n",
    "    const user = {\n",
    "      name: 'Matti Luukkainen',\n",
    "      username: 'mluukkai',\n",
    "      password: 'secret'\n",
    "    }\n",
    "\n",
    "    cy.request('POST', `${Cypress.env('BACKEND')}/users`, user)\n",
    "    cy.visit('')\n",
    "  })\n",
    "  // ...\n",
    "})\n",
    "```"
   ]
  },
  {
   "cell_type": "markdown",
   "metadata": {},
   "source": [
    "> ## Changing the importance of a note"
   ]
  },
  {
   "cell_type": "markdown",
   "metadata": {},
   "source": [
    "Lastly, let's take a look at the test we did for changing the importance of a note. First, we'll change the beforeEach block so that it creates three notes instead of one:"
   ]
  },
  {
   "cell_type": "markdown",
   "metadata": {},
   "source": [
    "```js\n",
    "describe('when logged in', function() {\n",
    "  describe('and several notes exist', function () {\n",
    "    beforeEach(function () {\n",
    "\n",
    "      cy.login({ username: 'mluukkai', password: 'salainen' })\n",
    "      cy.createNote({ content: 'first note', important: false })\n",
    "      cy.createNote({ content: 'second note', important: false })\n",
    "      cy.createNote({ content: 'third note', important: false })\n",
    "    })\n",
    "\n",
    "    it('one of those can be made important', function () {\n",
    "      cy.contains('second note')\n",
    "        .contains('make important')\n",
    "        .click()\n",
    "\n",
    "      cy.contains('second note')\n",
    "        .contains('make not important')\n",
    "    })\n",
    "  })\n",
    "})\n",
    "```"
   ]
  },
  {
   "cell_type": "markdown",
   "metadata": {},
   "source": [
    "How does the [cy.contains](https://docs.cypress.io/api/commands/contains) command actually work?\n",
    "\n",
    "When we click the `cy.contains('second note')` command in Cypress [Test Runner](https://docs.cypress.io/guides/core-concepts/cypress-app#Test-Runner), we see that the command searches for the element containing the text *second note*:"
   ]
  },
  {
   "cell_type": "markdown",
   "metadata": {},
   "source": [
    "![](./images/image42.png)"
   ]
  },
  {
   "cell_type": "markdown",
   "metadata": {},
   "source": [
    "By clicking the next line `.contains('make important')` we see that the test uses the 'make important' button corresponding to the *second note*:"
   ]
  },
  {
   "cell_type": "markdown",
   "metadata": {},
   "source": [
    "![](./images/image43.png)"
   ]
  },
  {
   "cell_type": "markdown",
   "metadata": {},
   "source": [
    "When chained, the second *contains* command continues the search from within the component found by the first command.\n",
    "\n",
    "If we had not chained the commands, and instead write:\n",
    "\n",
    "```js\n",
    "cy.contains('second note')\n",
    "cy.contains('make important').click()\n",
    "```\n",
    "\n",
    "the result would have been entirely different. The second line of the test would click the button of a wrong note:"
   ]
  },
  {
   "cell_type": "markdown",
   "metadata": {},
   "source": [
    "![](./images/image44.png)"
   ]
  },
  {
   "cell_type": "markdown",
   "metadata": {},
   "source": [
    "When coding tests, you should check in the test runner that the tests use the right components!\n",
    "\n",
    "Let's change the `Note` component so that the text of the note is rendered to a *span*."
   ]
  },
  {
   "cell_type": "markdown",
   "metadata": {},
   "source": [
    "```js\n",
    "const Note = ({ note, toggleImportance }) => {\n",
    "  const label = note.important\n",
    "    ? 'make not important' : 'make important'\n",
    "\n",
    "  return (\n",
    "    <li className='note'>\n",
    "\n",
    "      <span>{note.content}</span>\n",
    "      <button onClick={toggleImportance}>{label}</button>\n",
    "    </li>\n",
    "  )\n",
    "}\n",
    "```"
   ]
  },
  {
   "cell_type": "markdown",
   "metadata": {},
   "source": [
    "Our tests break! As the test runner reveals, `cy.contains('second note')` now returns the component containing the text, and the button is not in it."
   ]
  },
  {
   "cell_type": "markdown",
   "metadata": {},
   "source": [
    "![](./images/image45.png)"
   ]
  },
  {
   "cell_type": "markdown",
   "metadata": {},
   "source": [
    "One way to fix this is the following:"
   ]
  },
  {
   "cell_type": "markdown",
   "metadata": {},
   "source": [
    "```js\n",
    "it('one of those can be made important', function () {\n",
    "  cy.contains('second note').parent().find('button').click()\n",
    "  cy.contains('second note').parent().find('button')\n",
    "    .should('contain', 'make not important')\n",
    "})\n",
    "```"
   ]
  },
  {
   "cell_type": "markdown",
   "metadata": {},
   "source": [
    "In the first line, we use the [parent](https://docs.cypress.io/api/commands/parent) command to access the parent element of the element containing *second* note and find the button from within it. Then we click the button and check that the text on it changes.\n",
    "\n",
    "Note that we use the command [find](https://docs.cypress.io/api/commands/find#Syntax) to search for the button. We cannot use [cy.get](https://docs.cypress.io/api/commands/get) here, because it always searches from the *whole* page and would return all 5 buttons on the page.\n",
    "\n",
    "Unfortunately, we have some copy-paste in the tests now, because the code for searching for the right button is always the same.\n",
    "\n",
    "In these kinds of situations, it is possible to use the [as](https://docs.cypress.io/api/commands/as) command:\n",
    "\n",
    "```js\n",
    "it('one of those can be made important', function () {\n",
    "  cy.contains('second note').parent().find('button').as('theButton')\n",
    "  cy.get('@theButton').click()\n",
    "  cy.get('@theButton').should('contain', 'make not important')\n",
    "})\n",
    "```\n",
    "\n",
    "Now the first line finds the right button and uses as to save it as *theButton*. The following lines can use the named element with *cy.get('@theButton')*."
   ]
  },
  {
   "cell_type": "markdown",
   "metadata": {},
   "source": [
    "> ## Running and debugging the tests"
   ]
  },
  {
   "cell_type": "markdown",
   "metadata": {},
   "source": [
    "Finally, some notes on how Cypress works and debugging your tests.\n",
    "\n",
    "Because of the form of the Cypress tests, it gives the impression that they are normal JavaScript code, and we could for example try this:\n",
    "\n",
    "```js\n",
    "const button = cy.contains('log in')\n",
    "button.click()\n",
    "debugger\n",
    "cy.contains('logout').click()\n",
    "```\n",
    "\n",
    "This won't work, however. When Cypress runs a test, it adds each `cy` command to an execution queue. When the code of the test method has been executed, Cypress will execute each command in the queue one by one.\n",
    "\n",
    "Cypress commands always return `undefined`, so `button.click()` in the above code would cause an error. An attempt to start the debugger would not stop the code between executing the commands, but before any commands have been executed."
   ]
  },
  {
   "cell_type": "markdown",
   "metadata": {},
   "source": [
    "Cypress commands are *like promises*, so if we want to access their return values, we have to do it using the [then](https://docs.cypress.io/api/commands/then) command. For example, the following test would print the number of buttons in the application, and click the first button:\n",
    "\n",
    "```js\n",
    "it('then example', function() {\n",
    "  cy.get('button').then( buttons => {\n",
    "    console.log('number of buttons', buttons.length)\n",
    "    cy.wrap(buttons[0]).click()\n",
    "  })\n",
    "})\n",
    "```\n",
    "\n",
    "Stopping the test execution with the debugger is [possible](https://docs.cypress.io/api/commands/debug). The debugger starts only if Cypress test runner's developer console is open.\n",
    "\n",
    "The developer console is all sorts of useful when debugging your tests. You can see the HTTP requests done by the tests on the Network tab, and the console tab will show you information about your tests:"
   ]
  },
  {
   "cell_type": "markdown",
   "metadata": {},
   "source": [
    "![](./images/image46.png)"
   ]
  },
  {
   "cell_type": "markdown",
   "metadata": {},
   "source": [
    "So far we have run our Cypress tests using the graphical test runner. It is also possible to run them [from the command line](https://docs.cypress.io/guides/guides/command-line). We just have to add an npm script for it:\n",
    "\n",
    "```js\n",
    "  \"scripts\": {\n",
    "    \"cypress:open\": \"cypress open\",\n",
    "    \"test:e2e\": \"cypress run\"\n",
    "  },\n",
    "```\n",
    "\n",
    "Now we can run our tests from the command line with the command *npm run test:e2e*"
   ]
  },
  {
   "cell_type": "markdown",
   "metadata": {},
   "source": [
    "![](./images/image47.png)"
   ]
  },
  {
   "cell_type": "markdown",
   "metadata": {},
   "source": [
    "Note that videos of the test execution will be saved to *cypress/videos/*, so you should probably git ignore this directory. It is also possible to [turn off](https://docs.cypress.io/guides/guides/screenshots-and-videos#Videos) the making of videos.\n",
    "\n",
    "Tests are found in [GitHub](https://github.com/fullstack-hy2020/notes-e2e-cypress/).\n",
    "\n",
    "Final version of the frontend code can be found on the [GitHub](https://github.com/fullstack-hy2020/part2-notes-frontend/tree/part5-9) branch *part5-9*."
   ]
  },
  {
   "cell_type": "markdown",
   "metadata": {},
   "source": [
    "> # Exercises 5.17.-5.23.\n",
    ">\n",
    "> In the last exercises of this part, we will do some E2E tests for our blog application. The material of this part should be enough to complete the exercises. You must check out the Cypress documentation. It is probably the best documentation I have ever seen for an open-source project.\n",
    ">\n",
    "> I especially recommend reading Introduction to Cypress, which states\n",
    "> \n",
    "> This is the single most important guide for understanding how to test with Cypress. Read it. Understand it.\n",
    ">\n",
    "> ### 5.17: Blog List End To End Testing, step 1\n",
    ">\n",
    "> Configure Cypress for your project. Make a test for checking that the application displays the login form by default.\n",
    ">\n",
    "> The structure of the test must be as follows:\n",
    ">\n",
    "> ```js\n",
    "> describe('Blog app', function() {\n",
    ">   beforeEach(function() {\n",
    ">     cy.visit('http://localhost:5173')\n",
    ">   })\n",
    "> \n",
    ">   it('Login form is shown', function() {\n",
    ">     // ...\n",
    ">   })\n",
    "> })\n",
    "> ```"
   ]
  },
  {
   "cell_type": "markdown",
   "metadata": {},
   "source": [
    "> ### 5.18: Blog List End To End Testing, step 2\n",
    ">\n",
    "> Make tests for logging in. Test both successful and unsuccessful login attempts. Make a new user in the beforeEach block for the tests.\n",
    ">\n",
    "> The test structure extends like so:\n",
    ">\n",
    "> ```js\n",
    "> describe('Blog app', function() {\n",
    ">   beforeEach(function() {\n",
    ">     // empty the db here\n",
    ">     // create a user for the backend here\n",
    ">     cy.visit('http://localhost:5173')\n",
    ">   })\n",
    ">\n",
    ">   it('Login form is shown', function() {\n",
    ">     // ...\n",
    ">   })\n",
    ">\n",
    ">   describe('Login',function() {\n",
    ">     it('succeeds with correct credentials', function() {\n",
    ">       // ...\n",
    ">     })\n",
    ">\n",
    ">     it('fails with wrong credentials', function() {\n",
    ">       // ...\n",
    ">     })\n",
    ">   })\n",
    "> })\n",
    "> ```\n",
    "> \n",
    "> The `beforeEach` block must empty the database using, for example, the reset method we used in the [material](https://fullstackopen.com/en/part5/end_to_end_testing_cypress#controlling-the-state-of-the-database).\n",
    ">\n",
    "> *Optional bonus exercise*: Check that the notification shown with unsuccessful login is displayed red."
   ]
  },
  {
   "cell_type": "markdown",
   "metadata": {},
   "source": [
    "> ### 5.19: Blog List End To End Testing, step 3\n",
    ">\n",
    "> Make a test that verifies a logged-in user can create a new blog. The structure of the test could be as follows:\n",
    ">\n",
    "> ```js\n",
    "> describe('Blog app', function() {\n",
    ">   // ...\n",
    ">\n",
    ">   describe('When logged in', function() {\n",
    ">     beforeEach(function() {\n",
    ">       // ...\n",
    ">     })\n",
    "> \n",
    ">     it('A blog can be created', function() {\n",
    ">       // ...\n",
    ">     })\n",
    ">   })\n",
    ">\n",
    "> })\n",
    "> ```\n",
    ">\n",
    "> The test has to ensure that a new blog is added to the list of all blogs."
   ]
  },
  {
   "cell_type": "markdown",
   "metadata": {},
   "source": [
    "> ### 5.20: Blog List End To End Testing, step 4\n",
    ">\n",
    "> Make a test that confirms users can like a blog.\n",
    ">\n",
    "> ### 5.21: Blog List End To End Testing, step 5\n",
    ">\n",
    "> Make a test for ensuring that the user who created a blog can delete it.\n",
    "> \n",
    "> ### 5.22: Blog List End To End Testing, step 6\n",
    ">\n",
    "> Make a test for ensuring that only the creator can see the delete button of a blog, not anyone else.\n",
    ">\n",
    "> ### 5.23: Blog List End To End Testing, step 7\n",
    ">\n",
    "> Make a test that checks that the blogs are ordered by likes, with the most liked blog being first.\n",
    ">\n",
    "> This exercise is quite a bit trickier than the previous ones. One solution is to add a certain class for the element which wraps the blog's content and use the eq method to get the blog element in a specific index:\n",
    "> \n",
    "> ```js\n",
    "> cy.get('.blog').eq(0).should('contain', 'The title with the most likes')\n",
    "> cy.get('.blog').eq(1).should('contain', 'The title with the second most likes')\n",
    "> ```\n",
    ">\n",
    "> Note that you might end up having problems if you click a like button many times in a row. It might be that cypress does the clicking so fast that it does not have time to update the app state in between the clicks. One remedy for this is to wait for the number of likes to update in between all clicks.\n",
    ">\n",
    "> This was the last exercise of this part, and it's time to push your code to GitHub and mark the exercises you completed in the [exercise submission system](https://studies.cs.helsinki.fi/stats/courses/fullstackopen)."
   ]
  },
  {
   "cell_type": "markdown",
   "metadata": {},
   "source": []
  }
 ],
 "metadata": {
  "language_info": {
   "name": "python"
  }
 },
 "nbformat": 4,
 "nbformat_minor": 2
}
