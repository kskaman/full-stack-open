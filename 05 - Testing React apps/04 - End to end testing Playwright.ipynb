{
 "cells": [
  {
   "cell_type": "markdown",
   "metadata": {},
   "source": [
    "> # End to end testing: Playwright"
   ]
  },
  {
   "cell_type": "markdown",
   "metadata": {},
   "source": [
    "So far we have tested the backend as a whole on an API level using integration tests and tested some frontend components using unit tests.\n",
    "\n",
    "Next, we will look into one way to test the [system as a whole](https://en.wikipedia.org/wiki/System_testing) using *End to End* (E2E) tests.\n",
    "\n",
    "We can do E2E testing of a web application using a browser and a testing library. There are multiple libraries available. One example is [Selenium](https://www.selenium.dev/), which can be used with almost any browser. Another browser option is so-called [headless browsers](https://en.wikipedia.org/wiki/Headless_browser), which are browsers with no graphical user interface. For example, Chrome can be used in headless mode.\n",
    "\n",
    "E2E tests are potentially the most useful category of tests because they test the system through the same interface as real users use.\n",
    "\n",
    "They do have some drawbacks too. Configuring E2E tests is more challenging than unit or integration tests. They also tend to be quite slow, and with a large system, their execution time can be minutes or even hours. This is bad for development because during coding it is beneficial to be able to run tests as often as possible in case of code [regressions](https://en.wikipedia.org/wiki/Regression_testing)."
   ]
  },
  {
   "cell_type": "markdown",
   "metadata": {},
   "source": [
    "E2E tests can also be [flaky](). Some tests might pass one time and fail another, even if the code does not change at all.\n",
    "\n",
    "Perhaps the two easiest libraries for End to End testing at the moment are [Cypress](https://www.cypress.io/) and [Playwright](https://playwright.dev/).\n",
    "\n",
    "From the statistics on [npmtrends.com](https://npmtrends.com/cypress-vs-playwright) we see that Cypress, which dominated the market for the last five years, is still clearly the number one, but Playwright is on a rapid rise:"
   ]
  },
  {
   "cell_type": "markdown",
   "metadata": {},
   "source": [
    "![](./images/image23.png)"
   ]
  },
  {
   "cell_type": "markdown",
   "metadata": {},
   "source": [
    "This course has been using Cypress for years. Now Playwright is a new addition. You can choose whether to complete the E2E testing part of the course with Cypress or Playwright. The operating principles of both libraries are very similar, so your choice is not very important. However, Playwright is now the preferred E2E library for the course.\n",
    "\n",
    "If your choice is Playwright, please proceed. If you end up using Cypress, go [here](https://fullstackopen.com/en/part5/end_to_end_testing_cypress)."
   ]
  },
  {
   "cell_type": "markdown",
   "metadata": {},
   "source": [
    "> ## Playwright"
   ]
  },
  {
   "cell_type": "markdown",
   "metadata": {},
   "source": [
    "So [Playwright](https://playwright.dev/) is a newcomer to the End to End tests, which started to explode in popularity towards the end of 2023. Playwright is roughly on a par with Cypress in terms of ease of use. The libraries are slightly different in terms of how they work. Cypress is radically different from most libraries suitable for E2E testing, as Cypress tests are run entirely within the browser. Playwright's tests, on the other hand, are executed in the Node process, which is connected to the browser via programming interfaces.\n",
    "\n",
    "Many blogs have been written about library comparisons, e.g. [this](https://www.lambdatest.com/blog/cypress-vs-playwright/) and [this](https://www.browserstack.com/guide/playwright-vs-cypress).\n",
    "\n",
    "It is difficult to say which library is better. One advantage of Playwright is its browser support; Playwright supports Chrome, Firefox and Webkit-based browsers like Safari. Currently, Cypress includes support for all these browsers, although Webkit support is experimental and does not support all of Cypress features. At the time of writing (1.3.2024), my personal preference leans slightly towards Playwright.\n",
    "\n",
    "Now let's explore Playwright."
   ]
  },
  {
   "cell_type": "markdown",
   "metadata": {},
   "source": [
    "> ## Initializing tests"
   ]
  },
  {
   "cell_type": "markdown",
   "metadata": {},
   "source": [
    "Unlike the backend tests or unit tests done on the React front-end, End to End tests do not need to be located in the same npm project where the code is. Let's make a completely separate project for the E2E tests with the `npm init` command. Then install Playwright by running in the new project directory the command:"
   ]
  },
  {
   "cell_type": "markdown",
   "metadata": {},
   "source": [
    "```cmd\n",
    "npm init playwright@latest\n",
    "```"
   ]
  },
  {
   "cell_type": "markdown",
   "metadata": {},
   "source": [
    "The installation script will ask a few questions, answer them as follows:"
   ]
  },
  {
   "cell_type": "markdown",
   "metadata": {},
   "source": [
    "![](./images/image24.png)"
   ]
  },
  {
   "cell_type": "markdown",
   "metadata": {},
   "source": [
    "Let's define an npm script for running tests and test reports in `package.json`:"
   ]
  },
  {
   "cell_type": "markdown",
   "metadata": {},
   "source": [
    "```js\n",
    "{\n",
    "  // ...\n",
    "  \"scripts\": {\n",
    "    \"test\": \"playwright test\",\n",
    "    \"test:report\": \"playwright show-report\"\n",
    "  },\n",
    "  // ...\n",
    "}\n",
    "```"
   ]
  },
  {
   "cell_type": "markdown",
   "metadata": {},
   "source": [
    "During installation, the following is printed to the console:"
   ]
  },
  {
   "cell_type": "markdown",
   "metadata": {},
   "source": [
    "```cmd\n",
    "And check out the following files:\n",
    "  - ./tests/example.spec.js - Example end-to-end test\n",
    "  - ./tests-examples/demo-todo-app.spec.js - Demo Todo App end-to-end tests\n",
    "  - ./playwright.config.js - Playwright Test configuration\n",
    "```"
   ]
  },
  {
   "cell_type": "markdown",
   "metadata": {},
   "source": [
    "that is, the location of a few example tests for the project that the installation has created.\n",
    "\n",
    "Let's run the tests:"
   ]
  },
  {
   "cell_type": "markdown",
   "metadata": {},
   "source": [
    "```cmd\n",
    "$ npm test\n",
    "\n",
    "> notes-e2e@1.0.0 test\n",
    "> playwright test\n",
    "\n",
    "\n",
    "Running 6 tests using 5 workers\n",
    "  6 passed (3.9s)\n",
    "\n",
    "To open last HTML report run:\n",
    "\n",
    "  npx playwright show-report\n",
    "```"
   ]
  },
  {
   "cell_type": "markdown",
   "metadata": {},
   "source": [
    "The tests pass. A more detailed test report can be opened either with the command suggested by the output, or with the npm script we just defined:"
   ]
  },
  {
   "cell_type": "markdown",
   "metadata": {},
   "source": [
    "```cmd\n",
    "npm run test:report\n",
    "```"
   ]
  },
  {
   "cell_type": "markdown",
   "metadata": {},
   "source": [
    "Tests can also be run via the graphical UI with the command:"
   ]
  },
  {
   "cell_type": "markdown",
   "metadata": {},
   "source": [
    "```cmd\n",
    "npm run test -- --ui\n",
    "```"
   ]
  },
  {
   "cell_type": "markdown",
   "metadata": {},
   "source": [
    "Sample tests look like this:"
   ]
  },
  {
   "cell_type": "markdown",
   "metadata": {},
   "source": [
    "```js\n",
    "const { test, expect } = require('@playwright/test');\n",
    "\n",
    "test('has title', async ({ page }) => {\n",
    "\n",
    "  await page.goto('https://playwright.dev/');\n",
    "\n",
    "  // Expect a title \"to contain\" a substring.\n",
    "  await expect(page).toHaveTitle(/Playwright/);\n",
    "});\n",
    "\n",
    "test('get started link', async ({ page }) => {\n",
    "  await page.goto('https://playwright.dev/');\n",
    "\n",
    "  // Click the get started link.\n",
    "  await page.getByRole('link', { name: 'Get started' }).click();\n",
    "\n",
    "  // Expects page to have a heading with the name of Installation.\n",
    "  await expect(page.getByRole('heading', { name: 'Installation' })).toBeVisible();\n",
    "});\n",
    "```"
   ]
  },
  {
   "cell_type": "markdown",
   "metadata": {},
   "source": [
    "The first line of the test functions says that the tests are testing the page at https://playwright.dev/."
   ]
  },
  {
   "cell_type": "markdown",
   "metadata": {},
   "source": [
    "> ## Testing our own code"
   ]
  },
  {
   "cell_type": "markdown",
   "metadata": {},
   "source": [
    "Now let's remove the sample tests and start testing our own application.\n",
    "\n",
    "Playwright tests assume that the system under test is running when the tests are executed. Unlike, for example, backend integration tests, Playwright tests *do not start* the system under test during testing.\n",
    "\n",
    "Let's make an npm script for the backend, which will enable it to be started in testing mode, i.e. so that *NODE_ENV* gets the value test."
   ]
  },
  {
   "cell_type": "markdown",
   "metadata": {},
   "source": [
    "```js\n",
    "{\n",
    "  // ...\n",
    "  \"scripts\": {\n",
    "    \"start\": \"NODE_ENV=production node index.js\",\n",
    "    \"dev\": \"NODE_ENV=development nodemon index.js\",\n",
    "    \"build:ui\": \"rm -rf build && cd ../frontend/ && npm run build && cp -r build ../backend\",\n",
    "    \"deploy\": \"fly deploy\",\n",
    "    \"deploy:full\": \"npm run build:ui && npm run deploy\",\n",
    "    \"logs:prod\": \"fly logs\",\n",
    "    \"lint\": \"eslint .\",\n",
    "    \"test\": \"NODE_ENV=test node --test\",\n",
    "\n",
    "    \"start:test\": \"NODE_ENV=test node index.js\"\n",
    "  },\n",
    "  // ...\n",
    "}\n",
    "```"
   ]
  },
  {
   "cell_type": "markdown",
   "metadata": {},
   "source": [
    "Let's start the frontend and backend, and create the first test file for the application `tests/note_app.spec.js`:"
   ]
  },
  {
   "cell_type": "markdown",
   "metadata": {},
   "source": [
    "```js\n",
    "const { test, expect } = require('@playwright/test')\n",
    "\n",
    "test('front page can be opened', async ({ page }) => {\n",
    "  await page.goto('http://localhost:5173')\n",
    "\n",
    "  const locator = await page.getByText('Notes')\n",
    "  await expect(locator).toBeVisible()\n",
    "  await expect(page.getByText('Note app, Department of Computer Science, University of Helsinki 2023')).toBeVisible()\n",
    "})\n",
    "```"
   ]
  },
  {
   "cell_type": "markdown",
   "metadata": {},
   "source": [
    "First, the test opens the application with the method [page.goto](https://playwright.dev/docs/writing-tests#navigation). After this, it uses the [page.getByText](https://playwright.dev/docs/api/class-page#page-get-by-text) to get a [locator](https://playwright.dev/docs/locators) that corresponds to the element where the text Notes is found.\n",
    "\n",
    "The method [toBeVisible](https://playwright.dev/docs/api/class-locatorassertions#locator-assertions-to-be-visible) ensures that the element corresponding to the locator is visible at the page.\n",
    "\n",
    "The second check is done without using the auxiliary variable.\n",
    "\n",
    "We notice that the year has changed. Let's change the test as follows:"
   ]
  },
  {
   "cell_type": "markdown",
   "metadata": {},
   "source": [
    "```js\n",
    "const { test, expect } = require('@playwright/test')\n",
    "\n",
    "test('front page can be opened', async ({ page }) => {\n",
    "  await page.goto('http://localhost:5173')\n",
    "\n",
    "  const locator = await page.getByText('Notes')\n",
    "  await expect(locator).toBeVisible()\n",
    "\n",
    "  await expect(page.getByText('Note app, Department of Computer Science, University of Helsinki 2024')).toBeVisible()\n",
    "})\n",
    "```"
   ]
  },
  {
   "cell_type": "markdown",
   "metadata": {},
   "source": [
    "As expected, the test fails. Playwright opens the test report in the browser and it becomes clear that Playwright has actually performed the tests with three different browsers: Chrome, Firefox and Webkit, i.e. the browser engine used by Safari:"
   ]
  },
  {
   "cell_type": "markdown",
   "metadata": {},
   "source": [
    "![](./images/image25.png)"
   ]
  },
  {
   "cell_type": "markdown",
   "metadata": {},
   "source": [
    "By clicking on the report of one of the browsers, we can see a more detailed error message:"
   ]
  },
  {
   "cell_type": "markdown",
   "metadata": {},
   "source": [
    "![](./images/image26.png)"
   ]
  },
  {
   "cell_type": "markdown",
   "metadata": {},
   "source": [
    "In the big picture, it is of course a very good thing that the testing takes place with all three commonly used browser engines, but this is slow, and when developing the tests it is probably best to carry them out mainly with only one browser. You can define the browser engine to be used with the command line parameter:"
   ]
  },
  {
   "cell_type": "markdown",
   "metadata": {},
   "source": [
    "```cmd\n",
    "npm test -- --project chromium\n",
    "```"
   ]
  },
  {
   "cell_type": "markdown",
   "metadata": {},
   "source": [
    "Now let's correct the outdated year in the frontend code that caused the error.\n",
    "\n",
    "Before we continue, let's add a `describe` block to the tests:"
   ]
  },
  {
   "cell_type": "markdown",
   "metadata": {},
   "source": [
    "```js\n",
    "const { test, describe, expect } = require('@playwright/test')\n",
    "\n",
    "\n",
    "describe('Note app', () => {\n",
    "  test('front page can be opened', async ({ page }) => {\n",
    "    await page.goto('http://localhost:5173')\n",
    "\n",
    "    const locator = await page.getByText('Notes')\n",
    "    await expect(locator).toBeVisible()\n",
    "    await expect(page.getByText('Note app, Department of Computer Science, University of Helsinki 2024')).toBeVisible()\n",
    "  })\n",
    "})\n",
    "```"
   ]
  },
  {
   "cell_type": "markdown",
   "metadata": {},
   "source": [
    "Before we move on, let's break the tests one more time. We notice that the execution of the tests is quite fast when they pass, but much slower if the they do not pass. The reason for this is that Playwright's policy is to wait for searched elements until [they are rendered and ready for action](https://playwright.dev/docs/actionability). If the element is not found, a `TimeoutError` is raised and the test fails. Playwright waits for elements by default for 5 or 30 seconds [depending on the functions used in testing](https://playwright.dev/docs/test-timeouts#introduction).\n",
    "\n",
    "When developing tests, it may be wiser to reduce the waiting time to a few seconds. According to the [documentation](https://playwright.dev/docs/test-timeouts), this can be done by changing the file `playwright.config.js` as follows:"
   ]
  },
  {
   "cell_type": "markdown",
   "metadata": {},
   "source": [
    "```js\n",
    "module.exports = defineConfig({\n",
    "  timeout: 3000,\n",
    "\n",
    "  fullyParallel: false,\n",
    "  workers: 1,\n",
    "  // ...\n",
    "})\n",
    "```"
   ]
  },
  {
   "cell_type": "markdown",
   "metadata": {},
   "source": [
    "We also made two other changes to the file, and specified that all tests [be executed one at a time](https://playwright.dev/docs/test-parallel). With the default configuration, the execution happens in parallel, and since our tests use a database, parallel execution causes problems."
   ]
  },
  {
   "cell_type": "markdown",
   "metadata": {},
   "source": [
    "> ## Writing on the form"
   ]
  },
  {
   "cell_type": "markdown",
   "metadata": {},
   "source": [
    "Let's write a new test that tries to log into the application. Let's assume that a user is stored in the database, with username *mluukkai* and password *salainen*.\n",
    "\n",
    "Let's start by opening the login form."
   ]
  },
  {
   "cell_type": "markdown",
   "metadata": {},
   "source": [
    "```js\n",
    "describe('Note app', () => {\n",
    "  // ...\n",
    "\n",
    "  test('login form can be opened', async ({ page }) => {\n",
    "    await page.goto('http://localhost:5173')\n",
    "\n",
    "    await page.getByRole('button', { name: 'log in' }).click()\n",
    "  })\n",
    "})\n",
    "```"
   ]
  },
  {
   "cell_type": "markdown",
   "metadata": {},
   "source": [
    "The test first uses the method [page.getByRole](https://playwright.dev/docs/api/class-page#page-get-by-role) to retrieve the button based on its text. The method returns the [Locator](https://playwright.dev/docs/api/class-locator) corresponding to the Button element. Pressing the button is performed using the Locator method [click](https://playwright.dev/docs/api/class-locator#locator-click).\n",
    "\n",
    "When developing tests, you could use Playwright's [UI mode](https://playwright.dev/docs/test-ui-mode), i.e. the user interface version. Let's start the tests in UI mode as follows:"
   ]
  },
  {
   "cell_type": "markdown",
   "metadata": {},
   "source": [
    "```cmd\n",
    "npm test -- --ui\n",
    "```"
   ]
  },
  {
   "cell_type": "markdown",
   "metadata": {},
   "source": [
    "We now see that the test finds the button"
   ]
  },
  {
   "cell_type": "markdown",
   "metadata": {},
   "source": [
    "![](./images/image27.png)"
   ]
  },
  {
   "cell_type": "markdown",
   "metadata": {},
   "source": [
    "After clicking, the form will appear"
   ]
  },
  {
   "cell_type": "markdown",
   "metadata": {},
   "source": [
    "![](./images/image27.png)"
   ]
  },
  {
   "cell_type": "markdown",
   "metadata": {},
   "source": [
    "When the form is opened, the test should look for the text fields and enter the username and password in them. Let's make the first attempt using the method [page.getByRole](https://playwright.dev/docs/api/class-page#page-get-by-role):"
   ]
  },
  {
   "cell_type": "markdown",
   "metadata": {},
   "source": [
    "```js\n",
    "describe('Note app', () => {\n",
    "  // ...\n",
    "\n",
    "  test('login form can be opened', async ({ page }) => {\n",
    "    await page.goto('http://localhost:5173')\n",
    "\n",
    "    await page.getByRole('button', { name: 'log in' }).click()\n",
    "\n",
    "    await page.getByRole('textbox').fill('mluukkai')\n",
    "  })\n",
    "})\n",
    "```"
   ]
  },
  {
   "cell_type": "markdown",
   "metadata": {},
   "source": [
    "This results to an error:"
   ]
  },
  {
   "cell_type": "markdown",
   "metadata": {},
   "source": [
    "```cmd\n",
    "Error: locator.fill: Error: strict mode violation: getByRole('textbox') resolved to 2 elements:\n",
    "  1) <input value=\"\"/> aka locator('div').filter({ hasText: /^username$/ }).getByRole('textbox')\n",
    "  2) <input value=\"\" type=\"password\"/> aka locator('input[type=\"password\"]')\n",
    "```"
   ]
  },
  {
   "cell_type": "markdown",
   "metadata": {},
   "source": [
    "The problem now is that `getByRole` finds two text fields, and calling the [fill]() method fails, because it assumes that there is only one text field found. One way around the problem is to use the methods [first](https://playwright.dev/docs/api/class-locator#locator-first) and [last](https://playwright.dev/docs/api/class-locator#locator-last):"
   ]
  },
  {
   "cell_type": "markdown",
   "metadata": {},
   "source": [
    "```js\n",
    "describe('Note app', () => {\n",
    "  // ...\n",
    "\n",
    "  test('login form can be opened', async ({ page }) => {\n",
    "    await page.goto('http://localhost:5173')\n",
    "\n",
    "    await page.getByRole('button', { name: 'log in' }).click()\n",
    "\n",
    "    await page.getByRole('textbox').first().fill('mluukkai')\n",
    "    await page.getByRole('textbox').last().fill('salainen')\n",
    "    await page.getByRole('button', { name: 'login' }).click()\n",
    "  \n",
    "    await expect(page.getByText('Matti Luukkainen logged in')).toBeVisible()\n",
    "  })\n",
    "})\n",
    "```"
   ]
  },
  {
   "cell_type": "markdown",
   "metadata": {},
   "source": [
    "After writing in the text fields, the test presses the `login` button and checks that the application renders the logged-in user's information on the screen.\n",
    "\n",
    "If there were more than two text fields, using the methods `first` and `last` would not be enough. One possibility would be to use the [all](https://playwright.dev/docs/api/class-locator#locator-all) method, which turns the found locators into an array that can be indexed:"
   ]
  },
  {
   "cell_type": "markdown",
   "metadata": {},
   "source": [
    "```js\n",
    "describe('Note app', () => {\n",
    "  // ...\n",
    "  test('login form can be opened', async ({ page }) => {\n",
    "    await page.goto('http://localhost:5173')\n",
    "\n",
    "    await page.getByRole('button', { name: 'log in' }).click()\n",
    "\n",
    "    const textboxes = await page.getByRole('textbox').all()\n",
    "    await textboxes[0].fill('mluukkai')\n",
    "    await textboxes[1].fill('salainen')\n",
    "\n",
    "    await page.getByRole('button', { name: 'login' }).click()\n",
    "  \n",
    "    await expect(page.getByText('Matti Luukkainen logged in')).toBeVisible()\n",
    "  })  \n",
    "})\n",
    "```"
   ]
  },
  {
   "cell_type": "markdown",
   "metadata": {},
   "source": [
    "Both this and the previous version of the test work. However, both are problematic to the extent that if the registration form is changed, the tests may break, as they rely on the fields to be on the page in a certain order.\n",
    "\n",
    "A better solution is to define unique test id attributes for the fields, to search for them in the tests using the method [getByTestId](https://playwright.dev/docs/api/class-page#page-get-by-test-id).\n",
    "\n",
    "Let's expand the login form as follows"
   ]
  },
  {
   "cell_type": "markdown",
   "metadata": {},
   "source": [
    "```js\n",
    "const LoginForm = ({ ... }) => {\n",
    "  return (\n",
    "    <div>\n",
    "      <h2>Login</h2>\n",
    "      <form onSubmit={handleSubmit}>\n",
    "        <div>\n",
    "          username\n",
    "          <input\n",
    "\n",
    "            data-testid='username'\n",
    "            value={username}\n",
    "            onChange={handleUsernameChange}\n",
    "          />\n",
    "        </div>\n",
    "        <div>\n",
    "          password\n",
    "          <input\n",
    "\n",
    "            data-testid='password'\n",
    "            type=\"password\"\n",
    "            value={password}\n",
    "            onChange={handlePasswordChange}\n",
    "          />\n",
    "        </div>\n",
    "        <button type=\"submit\">\n",
    "          login\n",
    "        </button>\n",
    "      </form>\n",
    "    </div>\n",
    "  )\n",
    "}\n",
    "```"
   ]
  },
  {
   "cell_type": "markdown",
   "metadata": {},
   "source": [
    "Test changes as follows:"
   ]
  },
  {
   "cell_type": "markdown",
   "metadata": {},
   "source": [
    "```js\n",
    "describe('Note app', () => {\n",
    "  // ...\n",
    "\n",
    "  test('login form can be opened', async ({ page }) => {\n",
    "    await page.goto('http://localhost:5173')\n",
    "\n",
    "    await page.getByRole('button', { name: 'log in' }).click()\n",
    "\n",
    "    await page.getByTestId('username').fill('mluukkai')\n",
    "    await page.getByTestId('password').fill('salainen')\n",
    "  \n",
    "    await page.getByRole('button', { name: 'login' }).click() \n",
    "  \n",
    "    await expect(page.getByText('Matti Luukkainen logged in')).toBeVisible()\n",
    "  })\n",
    "})\n",
    "```"
   ]
  },
  {
   "cell_type": "markdown",
   "metadata": {},
   "source": [
    "Note that passing the test at this stage requires that there is a user in the *test* database of the backend with username *mluukkai* and password *salainen*. Create a user if needed!\n",
    "\n",
    "Since both tests start in the same way, i.e. by opening the page http://localhost:5173, it is recommended to isolate the common part in the beforeEach block that is executed before each test:"
   ]
  },
  {
   "cell_type": "markdown",
   "metadata": {},
   "source": [
    "```js\n",
    "const { test, describe, expect, beforeEach } = require('@playwright/test')\n",
    "\n",
    "describe('Note app', () => {\n",
    "\n",
    "  beforeEach(async ({ page }) => {\n",
    "    await page.goto('http://localhost:5173')\n",
    "  })\n",
    "\n",
    "  test('front page can be opened', async ({ page }) => {\n",
    "    const locator = await page.getByText('Notes')\n",
    "    await expect(locator).toBeVisible()\n",
    "    await expect(page.getByText('Note app, Department of Computer Science, University of Helsinki 2024')).toBeVisible()\n",
    "  })\n",
    "\n",
    "  test('login form can be opened', async ({ page }) => {\n",
    "    await page.getByRole('button', { name: 'log in' }).click()\n",
    "    await page.getByTestId('username').fill('mluukkai')\n",
    "    await page.getByTestId('password').fill('salainen')\n",
    "    await page.getByRole('button', { name: 'login' }).click()\n",
    "    await expect(page.getByText('Matti Luukkainen logged in')).toBeVisible()\n",
    "  })\n",
    "})\n",
    "```"
   ]
  },
  {
   "cell_type": "markdown",
   "metadata": {},
   "source": [
    "> ## Testing note creation"
   ]
  },
  {
   "cell_type": "markdown",
   "metadata": {},
   "source": [
    "Next, let's create a test that adds a new note to the application:"
   ]
  },
  {
   "cell_type": "markdown",
   "metadata": {},
   "source": [
    "```js\n",
    "const { test, describe, expect, beforeEach } = require('@playwright/test')\n",
    "\n",
    "describe('Note app', () => {\n",
    "  // ...\n",
    "\n",
    "  describe('when logged in', () => {\n",
    "    beforeEach(async ({ page }) => {\n",
    "      await page.getByRole('button', { name: 'log in' }).click()\n",
    "      await page.getByTestId('username').fill('mluukkai')\n",
    "      await page.getByTestId('password').fill('salainen')\n",
    "      await page.getByRole('button', { name: 'login' }).click()\n",
    "    })\n",
    "\n",
    "    test('a new note can be created', async ({ page }) => {\n",
    "      await page.getByRole('button', { name: 'new note' }).click()\n",
    "      await page.getByRole('textbox').fill('a note created by playwright')\n",
    "      await page.getByRole('button', { name: 'save' }).click()\n",
    "      await expect(page.getByText('a note created by playwright')).toBeVisible()\n",
    "    })\n",
    "  })  \n",
    "})\n",
    "```"
   ]
  },
  {
   "cell_type": "markdown",
   "metadata": {},
   "source": [
    "The test is defined in its own `describe` block. Creating a note requires that the user is logged in, which is handled in the `beforeEach` block.\n",
    "\n",
    "The test trusts that when creating a new note, there is only one input field on the page, so it searches for it as follows:"
   ]
  },
  {
   "cell_type": "markdown",
   "metadata": {},
   "source": [
    "```js\n",
    "page.getByRole('textbox')\n",
    "```"
   ]
  },
  {
   "cell_type": "markdown",
   "metadata": {},
   "source": [
    "If there were more fields, the test would break. Because of this, it would be better to add a test-id to the form input and search for it in the test based on this id.\n",
    "\n",
    "**Note**: the test will only pass the first time. The reason for this is that its expectation"
   ]
  },
  {
   "cell_type": "markdown",
   "metadata": {},
   "source": [
    "```js\n",
    "await expect(page.getByText('a note created by playwright')).toBeVisible()\n",
    "```"
   ]
  },
  {
   "cell_type": "markdown",
   "metadata": {},
   "source": [
    "causes problems when the same note is created in the application more than once. The problem will be solved in the next chapter.\n",
    "\n",
    "The structure of the tests looks like this:"
   ]
  },
  {
   "cell_type": "markdown",
   "metadata": {},
   "source": [
    "```js\n",
    "const { test, describe, expect, beforeEach } = require('@playwright/test')\n",
    "\n",
    "describe('Note app', () => {\n",
    "  // ....\n",
    "\n",
    "  test('user can log in', async ({ page }) => {\n",
    "    await page.getByRole('button', { name: 'log in' }).click()\n",
    "    await page.getByTestId('username').fill('mluukkai')\n",
    "    await page.getByTestId('password').fill('salainen')\n",
    "    await page.getByRole('button', { name: 'login' }).click()\n",
    "    await expect(page.getByText('Matti Luukkainen logged in')).toBeVisible()\n",
    "  })\n",
    "\n",
    "  describe('when logged in', () => {\n",
    "    beforeEach(async ({ page }) => {\n",
    "      await page.getByRole('button', { name: 'log in' }).click()\n",
    "      await page.getByTestId('username').fill('mluukkai')\n",
    "      await page.getByTestId('password').fill('salainen')\n",
    "      await page.getByRole('button', { name: 'login' }).click()\n",
    "    })\n",
    "\n",
    "    test('a new note can be created', async ({ page }) => {\n",
    "      await page.getByRole('button', { name: 'new note' }).click()\n",
    "      await page.getByRole('textbox').fill('a note created by playwright')\n",
    "      await page.getByRole('button', { name: 'save' }).click()\n",
    "      await expect(page.getByText('a note created by playwright')).toBeVisible()\n",
    "    })\n",
    "  })  \n",
    "})\n",
    "```"
   ]
  },
  {
   "cell_type": "markdown",
   "metadata": {},
   "source": [
    "Since we have prevented the tests from running in parallel, Playwright runs the tests in the order they appear in the test code. That is, first the test user can *log in*, where the user logs into the application, is performed. After this the test *a new note can be created gets* executed, which also does a log in, in the *beforeEach* block. Why is this done, isn't the user already logged in thanks to the previous test? No, because the execution of *each* test starts from the browser's \"zero state\", all changes made to the browser's state by the previous tests are reset."
   ]
  },
  {
   "cell_type": "markdown",
   "metadata": {},
   "source": [
    "> ## Controlling the state of the database"
   ]
  },
  {
   "cell_type": "markdown",
   "metadata": {},
   "source": [
    "If the tests need to be able to modify the server's database, the situation immediately becomes more complicated. Ideally, the server's database should be the same each time we run the tests, so our tests can be reliably and easily repeatable.\n",
    "\n",
    "As with unit and integration tests, with E2E tests it is best to empty the database and possibly format it before the tests are run. The challenge with E2E tests is that they do not have access to the database.\n",
    "\n",
    "The solution is to create API endpoints for the backend tests. We can empty the database using these endpoints. Let's create a new router for the tests inside the *controllers* folder, in the *testing.js* file"
   ]
  },
  {
   "cell_type": "markdown",
   "metadata": {},
   "source": [
    "```js\n",
    "const router = require('express').Router()\n",
    "const Note = require('../models/note')\n",
    "const User = require('../models/user')\n",
    "\n",
    "router.post('/reset', async (request, response) => {\n",
    "  await Note.deleteMany({})\n",
    "  await User.deleteMany({})\n",
    "\n",
    "  response.status(204).end()\n",
    "})\n",
    "\n",
    "module.exports = router\n",
    "```"
   ]
  },
  {
   "cell_type": "markdown",
   "metadata": {},
   "source": [
    "and add it to the backend only *if the application is run in test-mode*:"
   ]
  },
  {
   "cell_type": "markdown",
   "metadata": {},
   "source": [
    "```js\n",
    "// ...\n",
    "\n",
    "app.use('/api/login', loginRouter)\n",
    "app.use('/api/users', usersRouter)\n",
    "app.use('/api/notes', notesRouter)\n",
    "\n",
    "\n",
    "if (process.env.NODE_ENV === 'test') {\n",
    "  const testingRouter = require('./controllers/testing')\n",
    "  app.use('/api/testing', testingRouter)\n",
    "}\n",
    "\n",
    "app.use(middleware.unknownEndpoint)\n",
    "app.use(middleware.errorHandler)\n",
    "\n",
    "module.exports = app\n",
    "```"
   ]
  },
  {
   "cell_type": "markdown",
   "metadata": {},
   "source": [
    "After the changes, an HTTP POST request to the */api/testing/reset* endpoint empties the database. Make sure your backend is running in test mode by starting it with this command (previously configured in the package.json file):"
   ]
  },
  {
   "cell_type": "markdown",
   "metadata": {},
   "source": [
    "```cmd\n",
    "  npm run start:test\n",
    "```"
   ]
  },
  {
   "cell_type": "markdown",
   "metadata": {},
   "source": [
    "The modified backend code can be found on the [GitHub](https://github.com/fullstack-hy2020/part3-notes-backend/tree/part5-1) branch *part5-1*.\n",
    "\n",
    "Next, we will change the `beforeEach` block so that it empties the server's database before tests are run.\n",
    "\n",
    "Currently, it is not possible to add new users through the frontend's UI, so we add a new user to the backend from the beforeEach block."
   ]
  },
  {
   "cell_type": "markdown",
   "metadata": {},
   "source": [
    "```js\n",
    "describe('Note app', () => {\n",
    "  beforeEach(async ({ page, request }) => {\n",
    "    await request.post('http://localhost:3001/api/testing/reset')\n",
    "    await request.post('http://localhost:3001/api/users', {\n",
    "      data: {\n",
    "        name: 'Matti Luukkainen',\n",
    "        username: 'mluukkai',\n",
    "        password: 'salainen'\n",
    "      }\n",
    "    })\n",
    "\n",
    "    await page.goto('http://localhost:5173')\n",
    "  })\n",
    "  \n",
    "  test('front page can be opened',  () => {\n",
    "    // ...\n",
    "  })\n",
    "\n",
    "  test('user can login', () => {\n",
    "    // ...\n",
    "  })\n",
    "\n",
    "  describe('when logged in', () => {\n",
    "    // ...\n",
    "  })\n",
    "})\n",
    "```"
   ]
  },
  {
   "cell_type": "markdown",
   "metadata": {},
   "source": [
    "During initialization, the test makes HTTP requests to the backend with the method [post](https://playwright.dev/docs/api/class-apirequestcontext#api-request-context-post) of the parameter `request`.\n",
    "\n",
    "Unlike before, now the testing of the backend always starts from the same state, i.e. there is one user and no notes in the database.\n",
    "\n",
    "Let's make a test that checks that the importance of the notes can be changed.\n",
    "\n",
    "There are a few different approaches to taking the test.\n",
    "\n",
    "In the following, we first look for a note and click on its button that has text *make not important*. After this, we check that the note contains the button with *make important*."
   ]
  },
  {
   "cell_type": "markdown",
   "metadata": {},
   "source": [
    "```js\n",
    "describe('Note app', () => {\n",
    "  // ...\n",
    "\n",
    "  describe('when logged in', () => {\n",
    "    // ...\n",
    "\n",
    "\n",
    "    describe('and a note exists', () => {\n",
    "      beforeEach(async ({ page }) => {\n",
    "        await page.getByRole('button', { name: 'new note' }).click()\n",
    "        await page.getByRole('textbox').fill('another note by playwright')\n",
    "        await page.getByRole('button', { name: 'save' }).click()\n",
    "      })\n",
    "  \n",
    "      test('importance can be changed', async ({ page }) => {\n",
    "        await page.getByRole('button', { name: 'make not important' }).click()\n",
    "        await expect(page.getByText('make important')).toBeVisible()\n",
    "      })\n",
    "    })\n",
    "  })\n",
    "})\n",
    "```"
   ]
  },
  {
   "cell_type": "markdown",
   "metadata": {},
   "source": [
    "The first command first searches for the component where there is the text *another note by playwright* and inside it the button *make not important* and clicks on it.\n",
    "\n",
    "The second command ensures that the text of the same button has changed to *make important*.\n",
    "\n",
    "The current code for the tests is on [GitHub](https://github.com/fullstack-hy2020/notes-e2e/tree/part5-1), in branch *part5-1*."
   ]
  },
  {
   "cell_type": "markdown",
   "metadata": {},
   "source": [
    "> ## Test for failed login"
   ]
  },
  {
   "cell_type": "markdown",
   "metadata": {},
   "source": [
    "Now let's do a test that ensures that the login attempt fails if the password is wrong.\n",
    "\n",
    "The first version of the test looks like this:"
   ]
  },
  {
   "cell_type": "markdown",
   "metadata": {},
   "source": [
    "```js\n",
    "describe('Note app', () => {\n",
    "  // ...\n",
    "\n",
    "  test('login fails with wrong password', async ({ page }) => {\n",
    "    await page.getByRole('button', { name: 'log in' }).click()\n",
    "    await page.getByTestId('username').fill('mluukkai')\n",
    "    await page.getByTestId('password').fill('wrong')\n",
    "    await page.getByRole('button', { name: 'login' }).click()\n",
    "\n",
    "    await expect(page.getByText('wrong credentials')).toBeVisible()\n",
    "  })\n",
    "\n",
    "  // ...\n",
    ")}\n",
    "```"
   ]
  },
  {
   "cell_type": "markdown",
   "metadata": {},
   "source": [
    "The test verifies with the method [page.getByText](https://playwright.dev/docs/api/class-page#page-get-by-text) that the application prints an error message.\n",
    "\n",
    "The application renders the error message to an element containing the CSS class *error*:"
   ]
  },
  {
   "cell_type": "markdown",
   "metadata": {},
   "source": [
    "```js\n",
    "const Notification = ({ message }) => {\n",
    "  if (message === null) {\n",
    "    return null\n",
    "  }\n",
    "\n",
    "  return (\n",
    "\n",
    "    <div className=\"error\">\n",
    "      {message}\n",
    "    </div>\n",
    "  )\n",
    "}\n",
    "```"
   ]
  },
  {
   "cell_type": "markdown",
   "metadata": {},
   "source": [
    "We could refine the test to ensure that the error message is printed exactly in the right place, i.e. in the element containing the CSS class *error*:"
   ]
  },
  {
   "cell_type": "markdown",
   "metadata": {},
   "source": [
    "```js\n",
    "  test('login fails with wrong password', async ({ page }) => {\n",
    "  // ...\n",
    "\n",
    "\n",
    "  const errorDiv = await page.locator('.error')\n",
    "  await expect(errorDiv).toContainText('wrong credentials')\n",
    "})\n",
    "```"
   ]
  },
  {
   "cell_type": "markdown",
   "metadata": {},
   "source": [
    "So the test uses the [page.locator](https://playwright.dev/docs/api/class-page#page-locator) method to find the component containing the CSS class *error* and stores it in a variable. The correctness of the text associated with the component can be verified with the expectation [toContainText](https://playwright.dev/docs/api/class-locatorassertions#locator-assertions-to-contain-text). Note that the [CSS class selector](https://developer.mozilla.org/en-US/docs/Web/CSS/Class_selectors) starts with a dot, so the error class selector is *.error*.\n",
    "\n",
    "It is possible to test the application's CSS styles with matcher [toHaveCSS](https://playwright.dev/docs/api/class-locatorassertions#locator-assertions-to-have-css). We can, for example, make sure that the color of the error message is red, and that there is a border around it:"
   ]
  },
  {
   "cell_type": "markdown",
   "metadata": {},
   "source": [
    "```js\n",
    "  test('login fails with wrong password', async ({ page }) => {\n",
    "  // ...\n",
    "\n",
    "    const errorDiv = await page.locator('.error')\n",
    "    await expect(errorDiv).toContainText('wrong credentials')\n",
    "\n",
    "    await expect(errorDiv).toHaveCSS('border-style', 'solid')\n",
    "    await expect(errorDiv).toHaveCSS('color', 'rgb(255, 0, 0)')\n",
    "})\n",
    "```"
   ]
  },
  {
   "cell_type": "markdown",
   "metadata": {},
   "source": [
    "Colors must be defined to Playwright as [rgb](https://rgbcolorcode.com/color/red) codes.\n",
    "\n",
    "Let's finalize the test so that it also ensures that the application **does not render** the text describing a successful login *'Matti Luukkainen logged in'*:"
   ]
  },
  {
   "cell_type": "markdown",
   "metadata": {},
   "source": [
    "```js\n",
    "test('login fails with wrong password', async ({ page }) =>{\n",
    "  await page.getByRole('button', { name: 'log in' }).click()\n",
    "  await page.getByTestId('username').fill('mluukkai')\n",
    "  await page.getByTestId('password').fill('wrong')\n",
    "  await page.getByRole('button', { name: 'login' }).click()\n",
    "\n",
    "  const errorDiv = await page.locator('.error')\n",
    "  await expect(errorDiv).toContainText('wrong credentials')\n",
    "  await expect(errorDiv).toHaveCSS('border-style', 'solid')\n",
    "  await expect(errorDiv).toHaveCSS('color', 'rgb(255, 0, 0)')\n",
    "\n",
    "\n",
    "  await expect(page.getByText('Matti Luukkainen logged in')).not.toBeVisible()\n",
    "})\n",
    "```"
   ]
  },
  {
   "cell_type": "markdown",
   "metadata": {},
   "source": [
    "> ## Running tests one by one"
   ]
  },
  {
   "cell_type": "markdown",
   "metadata": {},
   "source": []
  }
 ],
 "metadata": {
  "language_info": {
   "name": "python"
  }
 },
 "nbformat": 4,
 "nbformat_minor": 2
}
