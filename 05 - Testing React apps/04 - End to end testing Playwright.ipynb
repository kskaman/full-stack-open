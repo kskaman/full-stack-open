{
 "cells": [
  {
   "cell_type": "markdown",
   "metadata": {},
   "source": [
    "> # End to end testing: Playwright"
   ]
  },
  {
   "cell_type": "markdown",
   "metadata": {},
   "source": [
    "So far we have tested the backend as a whole on an API level using integration tests and tested some frontend components using unit tests.\n",
    "\n",
    "Next, we will look into one way to test the [system as a whole](https://en.wikipedia.org/wiki/System_testing) using *End to End* (E2E) tests.\n",
    "\n",
    "We can do E2E testing of a web application using a browser and a testing library. There are multiple libraries available. One example is [Selenium](https://www.selenium.dev/), which can be used with almost any browser. Another browser option is so-called [headless browsers](https://en.wikipedia.org/wiki/Headless_browser), which are browsers with no graphical user interface. For example, Chrome can be used in headless mode.\n",
    "\n",
    "E2E tests are potentially the most useful category of tests because they test the system through the same interface as real users use.\n",
    "\n",
    "They do have some drawbacks too. Configuring E2E tests is more challenging than unit or integration tests. They also tend to be quite slow, and with a large system, their execution time can be minutes or even hours. This is bad for development because during coding it is beneficial to be able to run tests as often as possible in case of code [regressions](https://en.wikipedia.org/wiki/Regression_testing)."
   ]
  },
  {
   "cell_type": "markdown",
   "metadata": {},
   "source": [
    "E2E tests can also be [flaky](). Some tests might pass one time and fail another, even if the code does not change at all.\n",
    "\n",
    "Perhaps the two easiest libraries for End to End testing at the moment are [Cypress](https://www.cypress.io/) and [Playwright](https://playwright.dev/).\n",
    "\n",
    "From the statistics on [npmtrends.com](https://npmtrends.com/cypress-vs-playwright) we see that Cypress, which dominated the market for the last five years, is still clearly the number one, but Playwright is on a rapid rise:"
   ]
  },
  {
   "cell_type": "markdown",
   "metadata": {},
   "source": [
    "![](./images/image23.png)"
   ]
  },
  {
   "cell_type": "markdown",
   "metadata": {},
   "source": [
    "This course has been using Cypress for years. Now Playwright is a new addition. You can choose whether to complete the E2E testing part of the course with Cypress or Playwright. The operating principles of both libraries are very similar, so your choice is not very important. However, Playwright is now the preferred E2E library for the course.\n",
    "\n",
    "If your choice is Playwright, please proceed. If you end up using Cypress, go [here](https://fullstackopen.com/en/part5/end_to_end_testing_cypress)."
   ]
  },
  {
   "cell_type": "markdown",
   "metadata": {},
   "source": [
    "> ## Playwright"
   ]
  },
  {
   "cell_type": "markdown",
   "metadata": {},
   "source": [
    "So [Playwright](https://playwright.dev/) is a newcomer to the End to End tests, which started to explode in popularity towards the end of 2023. Playwright is roughly on a par with Cypress in terms of ease of use. The libraries are slightly different in terms of how they work. Cypress is radically different from most libraries suitable for E2E testing, as Cypress tests are run entirely within the browser. Playwright's tests, on the other hand, are executed in the Node process, which is connected to the browser via programming interfaces.\n",
    "\n",
    "Many blogs have been written about library comparisons, e.g. [this](https://www.lambdatest.com/blog/cypress-vs-playwright/) and [this](https://www.browserstack.com/guide/playwright-vs-cypress).\n",
    "\n",
    "It is difficult to say which library is better. One advantage of Playwright is its browser support; Playwright supports Chrome, Firefox and Webkit-based browsers like Safari. Currently, Cypress includes support for all these browsers, although Webkit support is experimental and does not support all of Cypress features. At the time of writing (1.3.2024), my personal preference leans slightly towards Playwright.\n",
    "\n",
    "Now let's explore Playwright."
   ]
  },
  {
   "cell_type": "markdown",
   "metadata": {},
   "source": [
    "> ## Initializing tests"
   ]
  },
  {
   "cell_type": "markdown",
   "metadata": {},
   "source": [
    "Unlike the backend tests or unit tests done on the React front-end, End to End tests do not need to be located in the same npm project where the code is. Let's make a completely separate project for the E2E tests with the `npm init` command. Then install Playwright by running in the new project directory the command:"
   ]
  },
  {
   "cell_type": "markdown",
   "metadata": {},
   "source": [
    "```cmd\n",
    "npm init playwright@latest\n",
    "```"
   ]
  },
  {
   "cell_type": "markdown",
   "metadata": {},
   "source": [
    "The installation script will ask a few questions, answer them as follows:"
   ]
  },
  {
   "cell_type": "markdown",
   "metadata": {},
   "source": [
    "![](./images/image24.png)"
   ]
  },
  {
   "cell_type": "markdown",
   "metadata": {},
   "source": [
    "Let's define an npm script for running tests and test reports in `package.json`:"
   ]
  },
  {
   "cell_type": "markdown",
   "metadata": {},
   "source": [
    "```js\n",
    "{\n",
    "  // ...\n",
    "  \"scripts\": {\n",
    "    \"test\": \"playwright test\",\n",
    "    \"test:report\": \"playwright show-report\"\n",
    "  },\n",
    "  // ...\n",
    "}\n",
    "```"
   ]
  },
  {
   "cell_type": "markdown",
   "metadata": {},
   "source": [
    "During installation, the following is printed to the console:"
   ]
  },
  {
   "cell_type": "markdown",
   "metadata": {},
   "source": [
    "```cmd\n",
    "And check out the following files:\n",
    "  - ./tests/example.spec.js - Example end-to-end test\n",
    "  - ./tests-examples/demo-todo-app.spec.js - Demo Todo App end-to-end tests\n",
    "  - ./playwright.config.js - Playwright Test configuration\n",
    "```"
   ]
  },
  {
   "cell_type": "markdown",
   "metadata": {},
   "source": [
    "that is, the location of a few example tests for the project that the installation has created.\n",
    "\n",
    "Let's run the tests:"
   ]
  },
  {
   "cell_type": "markdown",
   "metadata": {},
   "source": [
    "```cmd\n",
    "$ npm test\n",
    "\n",
    "> notes-e2e@1.0.0 test\n",
    "> playwright test\n",
    "\n",
    "\n",
    "Running 6 tests using 5 workers\n",
    "  6 passed (3.9s)\n",
    "\n",
    "To open last HTML report run:\n",
    "\n",
    "  npx playwright show-report\n",
    "```"
   ]
  },
  {
   "cell_type": "markdown",
   "metadata": {},
   "source": [
    "The tests pass. A more detailed test report can be opened either with the command suggested by the output, or with the npm script we just defined:"
   ]
  },
  {
   "cell_type": "markdown",
   "metadata": {},
   "source": [
    "```cmd\n",
    "npm run test:report\n",
    "```"
   ]
  },
  {
   "cell_type": "markdown",
   "metadata": {},
   "source": [
    "Tests can also be run via the graphical UI with the command:"
   ]
  },
  {
   "cell_type": "markdown",
   "metadata": {},
   "source": [
    "```cmd\n",
    "npm run test -- --ui\n",
    "```"
   ]
  },
  {
   "cell_type": "markdown",
   "metadata": {},
   "source": [
    "Sample tests look like this:"
   ]
  },
  {
   "cell_type": "markdown",
   "metadata": {},
   "source": [
    "```js\n",
    "const { test, expect } = require('@playwright/test');\n",
    "\n",
    "test('has title', async ({ page }) => {\n",
    "\n",
    "  await page.goto('https://playwright.dev/');\n",
    "\n",
    "  // Expect a title \"to contain\" a substring.\n",
    "  await expect(page).toHaveTitle(/Playwright/);\n",
    "});\n",
    "\n",
    "test('get started link', async ({ page }) => {\n",
    "  await page.goto('https://playwright.dev/');\n",
    "\n",
    "  // Click the get started link.\n",
    "  await page.getByRole('link', { name: 'Get started' }).click();\n",
    "\n",
    "  // Expects page to have a heading with the name of Installation.\n",
    "  await expect(page.getByRole('heading', { name: 'Installation' })).toBeVisible();\n",
    "});\n",
    "```"
   ]
  },
  {
   "cell_type": "markdown",
   "metadata": {},
   "source": [
    "The first line of the test functions says that the tests are testing the page at https://playwright.dev/."
   ]
  },
  {
   "cell_type": "markdown",
   "metadata": {},
   "source": [
    "> ## Testing our own code"
   ]
  },
  {
   "cell_type": "markdown",
   "metadata": {},
   "source": [
    "Now let's remove the sample tests and start testing our own application.\n",
    "\n",
    "Playwright tests assume that the system under test is running when the tests are executed. Unlike, for example, backend integration tests, Playwright tests *do not start* the system under test during testing.\n",
    "\n",
    "Let's make an npm script for the backend, which will enable it to be started in testing mode, i.e. so that *NODE_ENV* gets the value test."
   ]
  },
  {
   "cell_type": "markdown",
   "metadata": {},
   "source": [
    "```js\n",
    "{\n",
    "  // ...\n",
    "  \"scripts\": {\n",
    "    \"start\": \"NODE_ENV=production node index.js\",\n",
    "    \"dev\": \"NODE_ENV=development nodemon index.js\",\n",
    "    \"build:ui\": \"rm -rf build && cd ../frontend/ && npm run build && cp -r build ../backend\",\n",
    "    \"deploy\": \"fly deploy\",\n",
    "    \"deploy:full\": \"npm run build:ui && npm run deploy\",\n",
    "    \"logs:prod\": \"fly logs\",\n",
    "    \"lint\": \"eslint .\",\n",
    "    \"test\": \"NODE_ENV=test node --test\",\n",
    "\n",
    "    \"start:test\": \"NODE_ENV=test node index.js\"\n",
    "  },\n",
    "  // ...\n",
    "}\n",
    "```"
   ]
  },
  {
   "cell_type": "markdown",
   "metadata": {},
   "source": [
    "Let's start the frontend and backend, and create the first test file for the application `tests/note_app.spec.js`:"
   ]
  },
  {
   "cell_type": "markdown",
   "metadata": {},
   "source": [
    "```js\n",
    "const { test, expect } = require('@playwright/test')\n",
    "\n",
    "test('front page can be opened', async ({ page }) => {\n",
    "  await page.goto('http://localhost:5173')\n",
    "\n",
    "  const locator = await page.getByText('Notes')\n",
    "  await expect(locator).toBeVisible()\n",
    "  await expect(page.getByText('Note app, Department of Computer Science, University of Helsinki 2023')).toBeVisible()\n",
    "})\n",
    "```"
   ]
  },
  {
   "cell_type": "markdown",
   "metadata": {},
   "source": [
    "First, the test opens the application with the method [page.goto](https://playwright.dev/docs/writing-tests#navigation). After this, it uses the [page.getByText](https://playwright.dev/docs/api/class-page#page-get-by-text) to get a [locator](https://playwright.dev/docs/locators) that corresponds to the element where the text Notes is found.\n",
    "\n",
    "The method [toBeVisible](https://playwright.dev/docs/api/class-locatorassertions#locator-assertions-to-be-visible) ensures that the element corresponding to the locator is visible at the page.\n",
    "\n",
    "The second check is done without using the auxiliary variable.\n",
    "\n",
    "We notice that the year has changed. Let's change the test as follows:"
   ]
  },
  {
   "cell_type": "markdown",
   "metadata": {},
   "source": [
    "```js\n",
    "const { test, expect } = require('@playwright/test')\n",
    "\n",
    "test('front page can be opened', async ({ page }) => {\n",
    "  await page.goto('http://localhost:5173')\n",
    "\n",
    "  const locator = await page.getByText('Notes')\n",
    "  await expect(locator).toBeVisible()\n",
    "\n",
    "  await expect(page.getByText('Note app, Department of Computer Science, University of Helsinki 2024')).toBeVisible()\n",
    "})\n",
    "```"
   ]
  },
  {
   "cell_type": "markdown",
   "metadata": {},
   "source": [
    "As expected, the test fails. Playwright opens the test report in the browser and it becomes clear that Playwright has actually performed the tests with three different browsers: Chrome, Firefox and Webkit, i.e. the browser engine used by Safari:"
   ]
  },
  {
   "cell_type": "markdown",
   "metadata": {},
   "source": [
    "![](./images/image25.png)"
   ]
  },
  {
   "cell_type": "markdown",
   "metadata": {},
   "source": [
    "By clicking on the report of one of the browsers, we can see a more detailed error message:"
   ]
  },
  {
   "cell_type": "markdown",
   "metadata": {},
   "source": [
    "![](./images/image26.png)"
   ]
  },
  {
   "cell_type": "markdown",
   "metadata": {},
   "source": [
    "In the big picture, it is of course a very good thing that the testing takes place with all three commonly used browser engines, but this is slow, and when developing the tests it is probably best to carry them out mainly with only one browser. You can define the browser engine to be used with the command line parameter:"
   ]
  },
  {
   "cell_type": "markdown",
   "metadata": {},
   "source": [
    "```cmd\n",
    "npm test -- --project chromium\n",
    "```"
   ]
  },
  {
   "cell_type": "markdown",
   "metadata": {},
   "source": [
    "Now let's correct the outdated year in the frontend code that caused the error.\n",
    "\n",
    "Before we continue, let's add a `describe` block to the tests:"
   ]
  },
  {
   "cell_type": "markdown",
   "metadata": {},
   "source": [
    "```js\n",
    "const { test, describe, expect } = require('@playwright/test')\n",
    "\n",
    "\n",
    "describe('Note app', () => {\n",
    "  test('front page can be opened', async ({ page }) => {\n",
    "    await page.goto('http://localhost:5173')\n",
    "\n",
    "    const locator = await page.getByText('Notes')\n",
    "    await expect(locator).toBeVisible()\n",
    "    await expect(page.getByText('Note app, Department of Computer Science, University of Helsinki 2024')).toBeVisible()\n",
    "  })\n",
    "})\n",
    "```"
   ]
  },
  {
   "cell_type": "markdown",
   "metadata": {},
   "source": [
    "Before we move on, let's break the tests one more time. We notice that the execution of the tests is quite fast when they pass, but much slower if the they do not pass. The reason for this is that Playwright's policy is to wait for searched elements until [they are rendered and ready for action](https://playwright.dev/docs/actionability). If the element is not found, a `TimeoutError` is raised and the test fails. Playwright waits for elements by default for 5 or 30 seconds [depending on the functions used in testing](https://playwright.dev/docs/test-timeouts#introduction).\n",
    "\n",
    "When developing tests, it may be wiser to reduce the waiting time to a few seconds. According to the [documentation](https://playwright.dev/docs/test-timeouts), this can be done by changing the file `playwright.config.js` as follows:"
   ]
  },
  {
   "cell_type": "markdown",
   "metadata": {},
   "source": [
    "```js\n",
    "module.exports = defineConfig({\n",
    "  timeout: 3000,\n",
    "\n",
    "  fullyParallel: false,\n",
    "  workers: 1,\n",
    "  // ...\n",
    "})\n",
    "```"
   ]
  },
  {
   "cell_type": "markdown",
   "metadata": {},
   "source": [
    "We also made two other changes to the file, and specified that all tests [be executed one at a time](https://playwright.dev/docs/test-parallel). With the default configuration, the execution happens in parallel, and since our tests use a database, parallel execution causes problems."
   ]
  },
  {
   "cell_type": "markdown",
   "metadata": {},
   "source": [
    "> ## Writing on the form"
   ]
  },
  {
   "cell_type": "markdown",
   "metadata": {},
   "source": [
    "Let's write a new test that tries to log into the application. Let's assume that a user is stored in the database, with username *mluukkai* and password *salainen*.\n",
    "\n",
    "Let's start by opening the login form."
   ]
  },
  {
   "cell_type": "markdown",
   "metadata": {},
   "source": [
    "```js\n",
    "describe('Note app', () => {\n",
    "  // ...\n",
    "\n",
    "  test('login form can be opened', async ({ page }) => {\n",
    "    await page.goto('http://localhost:5173')\n",
    "\n",
    "    await page.getByRole('button', { name: 'log in' }).click()\n",
    "  })\n",
    "})\n",
    "```"
   ]
  },
  {
   "cell_type": "markdown",
   "metadata": {},
   "source": [
    "The test first uses the method [page.getByRole](https://playwright.dev/docs/api/class-page#page-get-by-role) to retrieve the button based on its text. The method returns the [Locator](https://playwright.dev/docs/api/class-locator) corresponding to the Button element. Pressing the button is performed using the Locator method [click](https://playwright.dev/docs/api/class-locator#locator-click).\n",
    "\n",
    "When developing tests, you could use Playwright's [UI mode](https://playwright.dev/docs/test-ui-mode), i.e. the user interface version. Let's start the tests in UI mode as follows:"
   ]
  },
  {
   "cell_type": "markdown",
   "metadata": {},
   "source": [
    "```cmd\n",
    "npm test -- --ui\n",
    "```"
   ]
  },
  {
   "cell_type": "markdown",
   "metadata": {},
   "source": [
    "We now see that the test finds the button"
   ]
  },
  {
   "cell_type": "markdown",
   "metadata": {},
   "source": [
    "![](./images/image27.png)"
   ]
  },
  {
   "cell_type": "markdown",
   "metadata": {},
   "source": [
    "After clicking, the form will appear"
   ]
  },
  {
   "cell_type": "markdown",
   "metadata": {},
   "source": [
    "![](./images/image27.png)"
   ]
  },
  {
   "cell_type": "markdown",
   "metadata": {},
   "source": [
    "When the form is opened, the test should look for the text fields and enter the username and password in them. Let's make the first attempt using the method [page.getByRole](https://playwright.dev/docs/api/class-page#page-get-by-role):"
   ]
  },
  {
   "cell_type": "markdown",
   "metadata": {},
   "source": [
    "```js\n",
    "describe('Note app', () => {\n",
    "  // ...\n",
    "\n",
    "  test('login form can be opened', async ({ page }) => {\n",
    "    await page.goto('http://localhost:5173')\n",
    "\n",
    "    await page.getByRole('button', { name: 'log in' }).click()\n",
    "\n",
    "    await page.getByRole('textbox').fill('mluukkai')\n",
    "  })\n",
    "})\n",
    "```"
   ]
  },
  {
   "cell_type": "markdown",
   "metadata": {},
   "source": [
    "This results to an error:"
   ]
  },
  {
   "cell_type": "markdown",
   "metadata": {},
   "source": [
    "```cmd\n",
    "Error: locator.fill: Error: strict mode violation: getByRole('textbox') resolved to 2 elements:\n",
    "  1) <input value=\"\"/> aka locator('div').filter({ hasText: /^username$/ }).getByRole('textbox')\n",
    "  2) <input value=\"\" type=\"password\"/> aka locator('input[type=\"password\"]')\n",
    "```"
   ]
  },
  {
   "cell_type": "markdown",
   "metadata": {},
   "source": [
    "The problem now is that `getByRole` finds two text fields, and calling the [fill]() method fails, because it assumes that there is only one text field found. One way around the problem is to use the methods [first](https://playwright.dev/docs/api/class-locator#locator-first) and [last](https://playwright.dev/docs/api/class-locator#locator-last):"
   ]
  },
  {
   "cell_type": "markdown",
   "metadata": {},
   "source": [
    "```js\n",
    "describe('Note app', () => {\n",
    "  // ...\n",
    "\n",
    "  test('login form can be opened', async ({ page }) => {\n",
    "    await page.goto('http://localhost:5173')\n",
    "\n",
    "    await page.getByRole('button', { name: 'log in' }).click()\n",
    "\n",
    "    await page.getByRole('textbox').first().fill('mluukkai')\n",
    "    await page.getByRole('textbox').last().fill('salainen')\n",
    "    await page.getByRole('button', { name: 'login' }).click()\n",
    "  \n",
    "    await expect(page.getByText('Matti Luukkainen logged in')).toBeVisible()\n",
    "  })\n",
    "})\n",
    "```"
   ]
  },
  {
   "cell_type": "markdown",
   "metadata": {},
   "source": [
    "After writing in the text fields, the test presses the `login` button and checks that the application renders the logged-in user's information on the screen.\n",
    "\n",
    "If there were more than two text fields, using the methods `first` and `last` would not be enough. One possibility would be to use the [all](https://playwright.dev/docs/api/class-locator#locator-all) method, which turns the found locators into an array that can be indexed:"
   ]
  },
  {
   "cell_type": "markdown",
   "metadata": {},
   "source": [
    "```js\n",
    "describe('Note app', () => {\n",
    "  // ...\n",
    "  test('login form can be opened', async ({ page }) => {\n",
    "    await page.goto('http://localhost:5173')\n",
    "\n",
    "    await page.getByRole('button', { name: 'log in' }).click()\n",
    "\n",
    "    const textboxes = await page.getByRole('textbox').all()\n",
    "    await textboxes[0].fill('mluukkai')\n",
    "    await textboxes[1].fill('salainen')\n",
    "\n",
    "    await page.getByRole('button', { name: 'login' }).click()\n",
    "  \n",
    "    await expect(page.getByText('Matti Luukkainen logged in')).toBeVisible()\n",
    "  })  \n",
    "})\n",
    "```"
   ]
  },
  {
   "cell_type": "markdown",
   "metadata": {},
   "source": [
    "Both this and the previous version of the test work. However, both are problematic to the extent that if the registration form is changed, the tests may break, as they rely on the fields to be on the page in a certain order.\n",
    "\n",
    "A better solution is to define unique test id attributes for the fields, to search for them in the tests using the method [getByTestId](https://playwright.dev/docs/api/class-page#page-get-by-test-id).\n",
    "\n",
    "Let's expand the login form as follows"
   ]
  },
  {
   "cell_type": "markdown",
   "metadata": {},
   "source": [
    "```js\n",
    "const LoginForm = ({ ... }) => {\n",
    "  return (\n",
    "    <div>\n",
    "      <h2>Login</h2>\n",
    "      <form onSubmit={handleSubmit}>\n",
    "        <div>\n",
    "          username\n",
    "          <input\n",
    "\n",
    "            data-testid='username'\n",
    "            value={username}\n",
    "            onChange={handleUsernameChange}\n",
    "          />\n",
    "        </div>\n",
    "        <div>\n",
    "          password\n",
    "          <input\n",
    "\n",
    "            data-testid='password'\n",
    "            type=\"password\"\n",
    "            value={password}\n",
    "            onChange={handlePasswordChange}\n",
    "          />\n",
    "        </div>\n",
    "        <button type=\"submit\">\n",
    "          login\n",
    "        </button>\n",
    "      </form>\n",
    "    </div>\n",
    "  )\n",
    "}\n",
    "```"
   ]
  },
  {
   "cell_type": "markdown",
   "metadata": {},
   "source": [
    "Test changes as follows:"
   ]
  },
  {
   "cell_type": "markdown",
   "metadata": {},
   "source": [
    "```js\n",
    "describe('Note app', () => {\n",
    "  // ...\n",
    "\n",
    "  test('login form can be opened', async ({ page }) => {\n",
    "    await page.goto('http://localhost:5173')\n",
    "\n",
    "    await page.getByRole('button', { name: 'log in' }).click()\n",
    "\n",
    "    await page.getByTestId('username').fill('mluukkai')\n",
    "    await page.getByTestId('password').fill('salainen')\n",
    "  \n",
    "    await page.getByRole('button', { name: 'login' }).click() \n",
    "  \n",
    "    await expect(page.getByText('Matti Luukkainen logged in')).toBeVisible()\n",
    "  })\n",
    "})\n",
    "```"
   ]
  },
  {
   "cell_type": "markdown",
   "metadata": {},
   "source": [
    "Note that passing the test at this stage requires that there is a user in the *test* database of the backend with username *mluukkai* and password *salainen*. Create a user if needed!\n",
    "\n",
    "Since both tests start in the same way, i.e. by opening the page http://localhost:5173, it is recommended to isolate the common part in the beforeEach block that is executed before each test:"
   ]
  },
  {
   "cell_type": "markdown",
   "metadata": {},
   "source": [
    "```js\n",
    "const { test, describe, expect, beforeEach } = require('@playwright/test')\n",
    "\n",
    "describe('Note app', () => {\n",
    "\n",
    "  beforeEach(async ({ page }) => {\n",
    "    await page.goto('http://localhost:5173')\n",
    "  })\n",
    "\n",
    "  test('front page can be opened', async ({ page }) => {\n",
    "    const locator = await page.getByText('Notes')\n",
    "    await expect(locator).toBeVisible()\n",
    "    await expect(page.getByText('Note app, Department of Computer Science, University of Helsinki 2024')).toBeVisible()\n",
    "  })\n",
    "\n",
    "  test('login form can be opened', async ({ page }) => {\n",
    "    await page.getByRole('button', { name: 'log in' }).click()\n",
    "    await page.getByTestId('username').fill('mluukkai')\n",
    "    await page.getByTestId('password').fill('salainen')\n",
    "    await page.getByRole('button', { name: 'login' }).click()\n",
    "    await expect(page.getByText('Matti Luukkainen logged in')).toBeVisible()\n",
    "  })\n",
    "})\n",
    "```"
   ]
  },
  {
   "cell_type": "markdown",
   "metadata": {},
   "source": [
    "> ## Testing note creation"
   ]
  },
  {
   "cell_type": "markdown",
   "metadata": {},
   "source": [
    "Next, let's create a test that adds a new note to the application:"
   ]
  },
  {
   "cell_type": "markdown",
   "metadata": {},
   "source": [
    "```js\n",
    "const { test, describe, expect, beforeEach } = require('@playwright/test')\n",
    "\n",
    "describe('Note app', () => {\n",
    "  // ...\n",
    "\n",
    "  describe('when logged in', () => {\n",
    "    beforeEach(async ({ page }) => {\n",
    "      await page.getByRole('button', { name: 'log in' }).click()\n",
    "      await page.getByTestId('username').fill('mluukkai')\n",
    "      await page.getByTestId('password').fill('salainen')\n",
    "      await page.getByRole('button', { name: 'login' }).click()\n",
    "    })\n",
    "\n",
    "    test('a new note can be created', async ({ page }) => {\n",
    "      await page.getByRole('button', { name: 'new note' }).click()\n",
    "      await page.getByRole('textbox').fill('a note created by playwright')\n",
    "      await page.getByRole('button', { name: 'save' }).click()\n",
    "      await expect(page.getByText('a note created by playwright')).toBeVisible()\n",
    "    })\n",
    "  })  \n",
    "})\n",
    "```"
   ]
  },
  {
   "cell_type": "markdown",
   "metadata": {},
   "source": [
    "The test is defined in its own `describe` block. Creating a note requires that the user is logged in, which is handled in the `beforeEach` block.\n",
    "\n",
    "The test trusts that when creating a new note, there is only one input field on the page, so it searches for it as follows:"
   ]
  },
  {
   "cell_type": "markdown",
   "metadata": {},
   "source": [
    "```js\n",
    "page.getByRole('textbox')\n",
    "```"
   ]
  },
  {
   "cell_type": "markdown",
   "metadata": {},
   "source": [
    "If there were more fields, the test would break. Because of this, it would be better to add a test-id to the form input and search for it in the test based on this id.\n",
    "\n",
    "**Note**: the test will only pass the first time. The reason for this is that its expectation"
   ]
  },
  {
   "cell_type": "markdown",
   "metadata": {},
   "source": [
    "```js\n",
    "await expect(page.getByText('a note created by playwright')).toBeVisible()\n",
    "```"
   ]
  },
  {
   "cell_type": "markdown",
   "metadata": {},
   "source": [
    "causes problems when the same note is created in the application more than once. The problem will be solved in the next chapter.\n",
    "\n",
    "The structure of the tests looks like this:"
   ]
  },
  {
   "cell_type": "markdown",
   "metadata": {},
   "source": [
    "```js\n",
    "const { test, describe, expect, beforeEach } = require('@playwright/test')\n",
    "\n",
    "describe('Note app', () => {\n",
    "  // ....\n",
    "\n",
    "  test('user can log in', async ({ page }) => {\n",
    "    await page.getByRole('button', { name: 'log in' }).click()\n",
    "    await page.getByTestId('username').fill('mluukkai')\n",
    "    await page.getByTestId('password').fill('salainen')\n",
    "    await page.getByRole('button', { name: 'login' }).click()\n",
    "    await expect(page.getByText('Matti Luukkainen logged in')).toBeVisible()\n",
    "  })\n",
    "\n",
    "  describe('when logged in', () => {\n",
    "    beforeEach(async ({ page }) => {\n",
    "      await page.getByRole('button', { name: 'log in' }).click()\n",
    "      await page.getByTestId('username').fill('mluukkai')\n",
    "      await page.getByTestId('password').fill('salainen')\n",
    "      await page.getByRole('button', { name: 'login' }).click()\n",
    "    })\n",
    "\n",
    "    test('a new note can be created', async ({ page }) => {\n",
    "      await page.getByRole('button', { name: 'new note' }).click()\n",
    "      await page.getByRole('textbox').fill('a note created by playwright')\n",
    "      await page.getByRole('button', { name: 'save' }).click()\n",
    "      await expect(page.getByText('a note created by playwright')).toBeVisible()\n",
    "    })\n",
    "  })  \n",
    "})\n",
    "```"
   ]
  },
  {
   "cell_type": "markdown",
   "metadata": {},
   "source": [
    "Since we have prevented the tests from running in parallel, Playwright runs the tests in the order they appear in the test code. That is, first the test user can *log in*, where the user logs into the application, is performed. After this the test *a new note can be created gets* executed, which also does a log in, in the *beforeEach* block. Why is this done, isn't the user already logged in thanks to the previous test? No, because the execution of *each* test starts from the browser's \"zero state\", all changes made to the browser's state by the previous tests are reset."
   ]
  },
  {
   "cell_type": "markdown",
   "metadata": {},
   "source": [
    "> ## Controlling the state of the database"
   ]
  },
  {
   "cell_type": "markdown",
   "metadata": {},
   "source": [
    "If the tests need to be able to modify the server's database, the situation immediately becomes more complicated. Ideally, the server's database should be the same each time we run the tests, so our tests can be reliably and easily repeatable.\n",
    "\n",
    "As with unit and integration tests, with E2E tests it is best to empty the database and possibly format it before the tests are run. The challenge with E2E tests is that they do not have access to the database.\n",
    "\n",
    "The solution is to create API endpoints for the backend tests. We can empty the database using these endpoints. Let's create a new router for the tests inside the *controllers* folder, in the *testing.js* file"
   ]
  },
  {
   "cell_type": "markdown",
   "metadata": {},
   "source": [
    "```js\n",
    "const router = require('express').Router()\n",
    "const Note = require('../models/note')\n",
    "const User = require('../models/user')\n",
    "\n",
    "router.post('/reset', async (request, response) => {\n",
    "  await Note.deleteMany({})\n",
    "  await User.deleteMany({})\n",
    "\n",
    "  response.status(204).end()\n",
    "})\n",
    "\n",
    "module.exports = router\n",
    "```"
   ]
  },
  {
   "cell_type": "markdown",
   "metadata": {},
   "source": [
    "and add it to the backend only *if the application is run in test-mode*:"
   ]
  },
  {
   "cell_type": "markdown",
   "metadata": {},
   "source": [
    "```js\n",
    "// ...\n",
    "\n",
    "app.use('/api/login', loginRouter)\n",
    "app.use('/api/users', usersRouter)\n",
    "app.use('/api/notes', notesRouter)\n",
    "\n",
    "\n",
    "if (process.env.NODE_ENV === 'test') {\n",
    "  const testingRouter = require('./controllers/testing')\n",
    "  app.use('/api/testing', testingRouter)\n",
    "}\n",
    "\n",
    "app.use(middleware.unknownEndpoint)\n",
    "app.use(middleware.errorHandler)\n",
    "\n",
    "module.exports = app\n",
    "```"
   ]
  },
  {
   "cell_type": "markdown",
   "metadata": {},
   "source": [
    "After the changes, an HTTP POST request to the */api/testing/reset* endpoint empties the database. Make sure your backend is running in test mode by starting it with this command (previously configured in the package.json file):"
   ]
  },
  {
   "cell_type": "markdown",
   "metadata": {},
   "source": [
    "```cmd\n",
    "  npm run start:test\n",
    "```"
   ]
  },
  {
   "cell_type": "markdown",
   "metadata": {},
   "source": [
    "The modified backend code can be found on the [GitHub](https://github.com/fullstack-hy2020/part3-notes-backend/tree/part5-1) branch *part5-1*.\n",
    "\n",
    "Next, we will change the `beforeEach` block so that it empties the server's database before tests are run.\n",
    "\n",
    "Currently, it is not possible to add new users through the frontend's UI, so we add a new user to the backend from the beforeEach block."
   ]
  },
  {
   "cell_type": "markdown",
   "metadata": {},
   "source": [
    "```js\n",
    "describe('Note app', () => {\n",
    "  beforeEach(async ({ page, request }) => {\n",
    "    await request.post('http://localhost:3001/api/testing/reset')\n",
    "    await request.post('http://localhost:3001/api/users', {\n",
    "      data: {\n",
    "        name: 'Matti Luukkainen',\n",
    "        username: 'mluukkai',\n",
    "        password: 'salainen'\n",
    "      }\n",
    "    })\n",
    "\n",
    "    await page.goto('http://localhost:5173')\n",
    "  })\n",
    "  \n",
    "  test('front page can be opened',  () => {\n",
    "    // ...\n",
    "  })\n",
    "\n",
    "  test('user can login', () => {\n",
    "    // ...\n",
    "  })\n",
    "\n",
    "  describe('when logged in', () => {\n",
    "    // ...\n",
    "  })\n",
    "})\n",
    "```"
   ]
  },
  {
   "cell_type": "markdown",
   "metadata": {},
   "source": [
    "During initialization, the test makes HTTP requests to the backend with the method [post](https://playwright.dev/docs/api/class-apirequestcontext#api-request-context-post) of the parameter `request`.\n",
    "\n",
    "Unlike before, now the testing of the backend always starts from the same state, i.e. there is one user and no notes in the database.\n",
    "\n",
    "Let's make a test that checks that the importance of the notes can be changed.\n",
    "\n",
    "There are a few different approaches to taking the test.\n",
    "\n",
    "In the following, we first look for a note and click on its button that has text *make not important*. After this, we check that the note contains the button with *make important*."
   ]
  },
  {
   "cell_type": "markdown",
   "metadata": {},
   "source": [
    "```js\n",
    "describe('Note app', () => {\n",
    "  // ...\n",
    "\n",
    "  describe('when logged in', () => {\n",
    "    // ...\n",
    "\n",
    "\n",
    "    describe('and a note exists', () => {\n",
    "      beforeEach(async ({ page }) => {\n",
    "        await page.getByRole('button', { name: 'new note' }).click()\n",
    "        await page.getByRole('textbox').fill('another note by playwright')\n",
    "        await page.getByRole('button', { name: 'save' }).click()\n",
    "      })\n",
    "  \n",
    "      test('importance can be changed', async ({ page }) => {\n",
    "        await page.getByRole('button', { name: 'make not important' }).click()\n",
    "        await expect(page.getByText('make important')).toBeVisible()\n",
    "      })\n",
    "    })\n",
    "  })\n",
    "})\n",
    "```"
   ]
  },
  {
   "cell_type": "markdown",
   "metadata": {},
   "source": [
    "The first command first searches for the component where there is the text *another note by playwright* and inside it the button *make not important* and clicks on it.\n",
    "\n",
    "The second command ensures that the text of the same button has changed to *make important*.\n",
    "\n",
    "The current code for the tests is on [GitHub](https://github.com/fullstack-hy2020/notes-e2e/tree/part5-1), in branch *part5-1*."
   ]
  },
  {
   "cell_type": "markdown",
   "metadata": {},
   "source": [
    "> ## Test for failed login"
   ]
  },
  {
   "cell_type": "markdown",
   "metadata": {},
   "source": [
    "Now let's do a test that ensures that the login attempt fails if the password is wrong.\n",
    "\n",
    "The first version of the test looks like this:"
   ]
  },
  {
   "cell_type": "markdown",
   "metadata": {},
   "source": [
    "```js\n",
    "describe('Note app', () => {\n",
    "  // ...\n",
    "\n",
    "  test('login fails with wrong password', async ({ page }) => {\n",
    "    await page.getByRole('button', { name: 'log in' }).click()\n",
    "    await page.getByTestId('username').fill('mluukkai')\n",
    "    await page.getByTestId('password').fill('wrong')\n",
    "    await page.getByRole('button', { name: 'login' }).click()\n",
    "\n",
    "    await expect(page.getByText('wrong credentials')).toBeVisible()\n",
    "  })\n",
    "\n",
    "  // ...\n",
    ")}\n",
    "```"
   ]
  },
  {
   "cell_type": "markdown",
   "metadata": {},
   "source": [
    "The test verifies with the method [page.getByText](https://playwright.dev/docs/api/class-page#page-get-by-text) that the application prints an error message.\n",
    "\n",
    "The application renders the error message to an element containing the CSS class *error*:"
   ]
  },
  {
   "cell_type": "markdown",
   "metadata": {},
   "source": [
    "```js\n",
    "const Notification = ({ message }) => {\n",
    "  if (message === null) {\n",
    "    return null\n",
    "  }\n",
    "\n",
    "  return (\n",
    "\n",
    "    <div className=\"error\">\n",
    "      {message}\n",
    "    </div>\n",
    "  )\n",
    "}\n",
    "```"
   ]
  },
  {
   "cell_type": "markdown",
   "metadata": {},
   "source": [
    "We could refine the test to ensure that the error message is printed exactly in the right place, i.e. in the element containing the CSS class *error*:"
   ]
  },
  {
   "cell_type": "markdown",
   "metadata": {},
   "source": [
    "```js\n",
    "  test('login fails with wrong password', async ({ page }) => {\n",
    "  // ...\n",
    "\n",
    "\n",
    "  const errorDiv = await page.locator('.error')\n",
    "  await expect(errorDiv).toContainText('wrong credentials')\n",
    "})\n",
    "```"
   ]
  },
  {
   "cell_type": "markdown",
   "metadata": {},
   "source": [
    "So the test uses the [page.locator](https://playwright.dev/docs/api/class-page#page-locator) method to find the component containing the CSS class *error* and stores it in a variable. The correctness of the text associated with the component can be verified with the expectation [toContainText](https://playwright.dev/docs/api/class-locatorassertions#locator-assertions-to-contain-text). Note that the [CSS class selector](https://developer.mozilla.org/en-US/docs/Web/CSS/Class_selectors) starts with a dot, so the error class selector is *.error*.\n",
    "\n",
    "It is possible to test the application's CSS styles with matcher [toHaveCSS](https://playwright.dev/docs/api/class-locatorassertions#locator-assertions-to-have-css). We can, for example, make sure that the color of the error message is red, and that there is a border around it:"
   ]
  },
  {
   "cell_type": "markdown",
   "metadata": {},
   "source": [
    "```js\n",
    "  test('login fails with wrong password', async ({ page }) => {\n",
    "  // ...\n",
    "\n",
    "    const errorDiv = await page.locator('.error')\n",
    "    await expect(errorDiv).toContainText('wrong credentials')\n",
    "\n",
    "    await expect(errorDiv).toHaveCSS('border-style', 'solid')\n",
    "    await expect(errorDiv).toHaveCSS('color', 'rgb(255, 0, 0)')\n",
    "})\n",
    "```"
   ]
  },
  {
   "cell_type": "markdown",
   "metadata": {},
   "source": [
    "Colors must be defined to Playwright as [rgb](https://rgbcolorcode.com/color/red) codes.\n",
    "\n",
    "Let's finalize the test so that it also ensures that the application **does not render** the text describing a successful login *'Matti Luukkainen logged in'*:"
   ]
  },
  {
   "cell_type": "markdown",
   "metadata": {},
   "source": [
    "```js\n",
    "test('login fails with wrong password', async ({ page }) =>{\n",
    "  await page.getByRole('button', { name: 'log in' }).click()\n",
    "  await page.getByTestId('username').fill('mluukkai')\n",
    "  await page.getByTestId('password').fill('wrong')\n",
    "  await page.getByRole('button', { name: 'login' }).click()\n",
    "\n",
    "  const errorDiv = await page.locator('.error')\n",
    "  await expect(errorDiv).toContainText('wrong credentials')\n",
    "  await expect(errorDiv).toHaveCSS('border-style', 'solid')\n",
    "  await expect(errorDiv).toHaveCSS('color', 'rgb(255, 0, 0)')\n",
    "\n",
    "\n",
    "  await expect(page.getByText('Matti Luukkainen logged in')).not.toBeVisible()\n",
    "})\n",
    "```"
   ]
  },
  {
   "cell_type": "markdown",
   "metadata": {},
   "source": [
    "> ## Running tests one by one"
   ]
  },
  {
   "cell_type": "markdown",
   "metadata": {},
   "source": [
    "By default, Playwright always runs all tests, and as the number of tests increases, it becomes time-consuming. When developing a new test or debugging a broken one, the test can be defined instead than with the command test, with the command *test.only*, in which case Playwright will run only that test:"
   ]
  },
  {
   "cell_type": "markdown",
   "metadata": {},
   "source": [
    "```js\n",
    "describe(() => {\n",
    "  // this is the only test executed!\n",
    "\n",
    "  test.only('login fails with wrong password', async ({ page }) => {\n",
    "    // ...\n",
    "  })\n",
    "\n",
    "  // this test is skipped...\n",
    "  test('user can login with correct credentials', async ({ page }) => {\n",
    "    // ...\n",
    "  }\n",
    "\n",
    "  // ...\n",
    "})\n",
    "```"
   ]
  },
  {
   "cell_type": "markdown",
   "metadata": {},
   "source": [
    "When the test is ready, only can and **should** be deleted.\n",
    "\n",
    "Another option to run a single test is to use a command line parameter:"
   ]
  },
  {
   "cell_type": "markdown",
   "metadata": {},
   "source": [
    "```cmd\n",
    "npm test -- -g \"login fails with wrong password\"\n",
    "```"
   ]
  },
  {
   "cell_type": "markdown",
   "metadata": {},
   "source": [
    "> ## Helper functions for tests"
   ]
  },
  {
   "cell_type": "markdown",
   "metadata": {},
   "source": [
    "Our application tests currently look like this:"
   ]
  },
  {
   "cell_type": "markdown",
   "metadata": {},
   "source": [
    "```js\n",
    "const { test, describe, expect, beforeEach } = require('@playwright/test')\n",
    "\n",
    "describe('Note app', () => {\n",
    "  // ...\n",
    "\n",
    "  test('user can login with correct credentials', async ({ page }) => {\n",
    "    await page.getByRole('button', { name: 'log in' }).click()\n",
    "    await page.getByTestId('username').fill('mluukkai')\n",
    "    await page.getByTestId('password').fill('salainen')\n",
    "    await page.getByRole('button', { name: 'login' }).click()\n",
    "    await expect(page.getByText('Matti Luukkainen logged in')).toBeVisible()\n",
    "  })\n",
    "\n",
    "  test('login fails with wrong password', async ({ page }) =>{\n",
    "    // ...\n",
    "  })\n",
    "\n",
    "  describe('when logged in', () => {\n",
    "    beforeEach(async ({ page, request }) => {\n",
    "      await page.getByRole('button', { name: 'log in' }).click()\n",
    "      await page.getByTestId('username').fill('mluukkai')\n",
    "      await page.getByTestId('password').fill('salainen')\n",
    "      await page.getByRole('button', { name: 'login' }).click()\n",
    "    })\n",
    "\n",
    "    test('a new note can be created', async ({ page }) => {\n",
    "      // ...\n",
    "    })\n",
    "  \n",
    "    // ...\n",
    "  })  \n",
    "})\n",
    "```"
   ]
  },
  {
   "cell_type": "markdown",
   "metadata": {},
   "source": [
    "First, the login function is tested. After this, another `describe` block contains a set of tests that assume that the user is logged in, the login is handled inside the initializing `beforeEach` block.\n",
    "\n",
    "As already stated earlier, each test is executed starting from the initial state (where the database is cleared and one user is created there), so even though the test is defined after another test in the code, it does not start from the same state where the tests in the code executed earlier have left!\n",
    "\n",
    "It is also worth striving for having non-repetitive code in tests. Let's isolate the code that handles the login as a helper function, which is placed e.g. in the file `tests/helper.js`:"
   ]
  },
  {
   "cell_type": "markdown",
   "metadata": {},
   "source": [
    "```js\n",
    "const loginWith = async (page, username, password)  => {\n",
    "  await page.getByRole('button', { name: 'log in' }).click()\n",
    "  await page.getByTestId('username').fill(username)\n",
    "  await page.getByTestId('password').fill(password)\n",
    "  await page.getByRole('button', { name: 'login' }).click()\n",
    "}\n",
    "\n",
    "export { loginWith }\n",
    "```"
   ]
  },
  {
   "cell_type": "markdown",
   "metadata": {},
   "source": [
    "The test becomes simpler and clearer:"
   ]
  },
  {
   "cell_type": "markdown",
   "metadata": {},
   "source": [
    "```js\n",
    "const { loginWith } = require('./helper')\n",
    "\n",
    "describe('Note app', () => {\n",
    "  test('user can log in', async ({ page }) => {\n",
    "\n",
    "    await loginWith(page, 'mluukkai', 'salainen')\n",
    "    await expect(page.getByText('Matti Luukkainen logged in')).toBeVisible()\n",
    "  })\n",
    "\n",
    "  describe('when logged in', () => {\n",
    "    beforeEach(async ({ page }) => {\n",
    "\n",
    "      await loginWith(page, 'mluukkai', 'salainen')\n",
    "    })\n",
    "\n",
    "  test('a new note can be created', () => {\n",
    "    // ...\n",
    "  })\n",
    "\n",
    "  // ...\n",
    "})\n",
    "```"
   ]
  },
  {
   "cell_type": "markdown",
   "metadata": {},
   "source": [
    "Playwright also offers a [solution](https://playwright.dev/docs/auth) where the login is performed once before the tests, and each test starts from a state where the application is already logged in. In order for us to take advantage of this method, the initialization of the application's test data should be done a bit differently than now. In the current solution, the database is reset before each test, and because of this, logging in just once before the tests is impossible. In order for us to use the pre-test login provided by Playwright, the user should be initialized only once before the tests. We stick to our current solution for the sake of simplicity.\n",
    "\n",
    "The corresponding repeating code actually also applies to creating a new note. For that, there is a test that creates a note using a form. Also in the `beforeEach` initialization block of the test that tests changing the importance of the note, a note is created using the form:"
   ]
  },
  {
   "cell_type": "markdown",
   "metadata": {},
   "source": [
    "```js\n",
    "describe('Note app', function() {\n",
    "  // ...\n",
    "\n",
    "  describe('when logged in', () => {\n",
    "    test('a new note can be created', async ({ page }) => {\n",
    "      await page.getByRole('button', { name: 'new note' }).click()\n",
    "      await page.getByRole('textbox').fill('a note created by playwright')\n",
    "      await page.getByRole('button', { name: 'save' }).click()\n",
    "      await expect(page.getByText('a note created by playwright')).toBeVisible()\n",
    "    })\n",
    "  \n",
    "    describe('and a note exists', () => {\n",
    "      beforeEach(async ({ page }) => {\n",
    "        await page.getByRole('button', { name: 'new note' }).click()\n",
    "        await page.getByRole('textbox').fill('another note by playwright')\n",
    "        await page.getByRole('button', { name: 'save' }).click()\n",
    "      })\n",
    "  \n",
    "      test('it can be made important', async ({ page }) => {\n",
    "        // ...\n",
    "      })\n",
    "    })\n",
    "  })\n",
    "})\n",
    "```"
   ]
  },
  {
   "cell_type": "markdown",
   "metadata": {},
   "source": [
    "Creation of a note is also isolated as its helper function. The file `tests/helper.js` expands as follows:"
   ]
  },
  {
   "cell_type": "markdown",
   "metadata": {},
   "source": [
    "```js\n",
    "const loginWith = async (page, username, password)  => {\n",
    "  await page.getByRole('button', { name: 'log in' }).click()\n",
    "  await page.getByTestId('username').fill(username)\n",
    "  await page.getByTestId('password').fill(password)\n",
    "  await page.getByRole('button', { name: 'login' }).click()\n",
    "}\n",
    "\n",
    "\n",
    "const createNote = async (page, content) => {\n",
    "  await page.getByRole('button', { name: 'new note' }).click()\n",
    "  await page.getByRole('textbox').fill(content)\n",
    "  await page.getByRole('button', { name: 'save' }).click()\n",
    "}\n",
    "\n",
    "export { loginWith, createNote }\n",
    "```"
   ]
  },
  {
   "cell_type": "markdown",
   "metadata": {},
   "source": [
    "The tests are simplified as follows:"
   ]
  },
  {
   "cell_type": "markdown",
   "metadata": {},
   "source": [
    "```js\n",
    "describe('Note app', () => {\n",
    "  // ...\n",
    "\n",
    "  describe('when logged in', () => {\n",
    "    beforeEach(async ({ page }) => {\n",
    "      await loginWith(page, 'mluukkai', 'salainen')\n",
    "    })\n",
    "\n",
    "    test('a new note can be created', async ({ page }) => {\n",
    "\n",
    "      await createNote(page, 'a note created by playwright')\n",
    "      await expect(page.getByText('a note created by playwright')).toBeVisible()\n",
    "    })\n",
    "\n",
    "    describe('and a note exists', () => {\n",
    "      beforeEach(async ({ page }) => {\n",
    "\n",
    "        await createNote(page, 'another note by playwright')\n",
    "      })\n",
    "  \n",
    "      test('importance can be changed', async ({ page }) => {\n",
    "        await page.getByRole('button', { name: 'make not important' }).click()\n",
    "        await expect(page.getByText('make important')).toBeVisible()\n",
    "      })\n",
    "    })\n",
    "  })\n",
    "})\n",
    "```"
   ]
  },
  {
   "cell_type": "markdown",
   "metadata": {},
   "source": [
    "There is one more annoying feature in our tests. The frontend address *http:localhost:5173* and the backend address *http:localhost:3001* are hardcoded for tests. Of these, the address of the backend is actually useless, because a proxy has been defined in the Vite configuration of the frontend, which forwards all requests made by the frontend to the address *http:localhost:5173/api* to the backend:"
   ]
  },
  {
   "cell_type": "markdown",
   "metadata": {},
   "source": [
    "```js\n",
    "export default defineConfig({\n",
    "  server: {\n",
    "    proxy: {\n",
    "      '/api': {\n",
    "        target: 'http://localhost:3001',\n",
    "        changeOrigin: true,\n",
    "      },\n",
    "    }\n",
    "  },\n",
    "  // ...\n",
    "})\n",
    "```"
   ]
  },
  {
   "cell_type": "markdown",
   "metadata": {},
   "source": [
    "So we can replace all the addresses in the tests from http://localhost:3001/api/... to http://localhost:5173/api/...\n",
    "\n",
    "We can now define the `baseUrl` for the application in the tests configuration file *playwright.config.js*:"
   ]
  },
  {
   "cell_type": "markdown",
   "metadata": {},
   "source": [
    "```js\n",
    "module.exports = defineConfig({\n",
    "  // ...\n",
    "  use: {\n",
    "    baseURL: 'http://localhost:5173',\n",
    "  },\n",
    "  // ...\n",
    "}\n",
    "```"
   ]
  },
  {
   "cell_type": "markdown",
   "metadata": {},
   "source": [
    "All the commands in the tests that use the application url, e.g."
   ]
  },
  {
   "cell_type": "markdown",
   "metadata": {},
   "source": [
    "```js\n",
    "await page.goto('http://localhost:5173')\n",
    "await page.post('http://localhost:5173/api/tests/reset')\n",
    "```"
   ]
  },
  {
   "cell_type": "markdown",
   "metadata": {},
   "source": [
    "can be transformed into:"
   ]
  },
  {
   "cell_type": "markdown",
   "metadata": {},
   "source": [
    "```js\n",
    "await page.goto('/')\n",
    "await page.post('/api/tests/reset')\n",
    "```"
   ]
  },
  {
   "cell_type": "markdown",
   "metadata": {},
   "source": [
    "The current code for the tests is on [GitHub](https://github.com/fullstack-hy2020/notes-e2e/tree/part5-2), branch *part5-2*."
   ]
  },
  {
   "cell_type": "markdown",
   "metadata": {},
   "source": [
    "> ## Note importance change revisited"
   ]
  },
  {
   "cell_type": "markdown",
   "metadata": {},
   "source": [
    "Let's take a look at the test we did earlier, which verifies that it is possible to change the importance of a note.\n",
    "\n",
    "Let's change the initialization block of the test so that it creates two notes instead of one:"
   ]
  },
  {
   "cell_type": "markdown",
   "metadata": {},
   "source": [
    "```js\n",
    "describe('when logged in', () => {\n",
    "  // ...\n",
    "  describe('and several notes exists', () => {\n",
    "    beforeEach(async ({ page }) => {\n",
    "\n",
    "      await createNote(page, 'first note', true)\n",
    "      await createNote(page, 'second note', true)\n",
    "    })\n",
    "\n",
    "    test('one of those can be made nonimportant', async ({ page }) => {\n",
    "      const otherNoteElement = await page.getByText('first note')\n",
    "\n",
    "      await otherNoteElement\n",
    "        .getByRole('button', { name: 'make not important' }).click()\n",
    "      await expect(otherNoteElement.getByText('make important')).toBeVisible()\n",
    "    })\n",
    "  })\n",
    "})\n",
    "```"
   ]
  },
  {
   "cell_type": "markdown",
   "metadata": {},
   "source": [
    "The test first searches for the element corresponding to the first created note using the method `page.getByText` and stores it in a variable. After this, a button with the text `make not important` is searched inside the element and the button is pressed. Finally, the test verifies that the button's text has changed to `make important`.\n",
    "\n",
    "The test could also have been written without the auxiliary variable:"
   ]
  },
  {
   "cell_type": "markdown",
   "metadata": {},
   "source": [
    "```js\n",
    "test('one of those can be made nonimportant', async ({ page }) => {\n",
    "  await page.getByText('first note')\n",
    "    .getByRole('button', { name: 'make not important' }).click()\n",
    "\n",
    "  await expect(page.getByText('first note').getByText('make important'))\n",
    "    .toBeVisible()\n",
    "})\n",
    "```"
   ]
  },
  {
   "cell_type": "markdown",
   "metadata": {},
   "source": [
    "Let's change the `Note` component so that the note text is rendered inside a `span` element"
   ]
  },
  {
   "cell_type": "markdown",
   "metadata": {},
   "source": [
    "```js\n",
    "const Note = ({ note, toggleImportance }) => {\n",
    "  const label = note.important\n",
    "    ? 'make not important' : 'make important'\n",
    "\n",
    "  return (\n",
    "    <li className='note'>\n",
    "\n",
    "      <span>{note.content}</span>\n",
    "      <button onClick={toggleImportance}>{label}</button>\n",
    "    </li>\n",
    "  )\n",
    "}\n",
    "```"
   ]
  },
  {
   "cell_type": "markdown",
   "metadata": {},
   "source": [
    "Tests break! The reason for the problem is that the command `await page.getByText('second note')` now returns a `span` element containing only text, and the button is outside of it.\n",
    "\n",
    "One way to fix the problem is as follows:"
   ]
  },
  {
   "cell_type": "markdown",
   "metadata": {},
   "source": [
    "```js\n",
    "test('one of those can be made nonimportant', async ({ page }) => {\n",
    "\n",
    "  const otherNoteText = await page.getByText('first note')\n",
    "  const otherNoteElement = await otherNoteText.locator('..')\n",
    "\n",
    "  await otherNoteElement.getByRole('button', { name: 'make not important' }).click()\n",
    "  await expect(otherNoteElement.getByText('make important')).toBeVisible()\n",
    "})\n",
    "```"
   ]
  },
  {
   "cell_type": "markdown",
   "metadata": {},
   "source": [
    "The first line now looks for the `span` element containing the text associated with the first created note. In the second line, the function `locator` is used and `..` is given as an argument, which retrieves the element's parent element. The locator function is very flexible, and we take advantage of the fact that accepts [as argument](https://playwright.dev/docs/locators#locate-by-css-or-xpath) not only CSS selectors but also [XPath](https://developer.mozilla.org/en-US/docs/Web/XPath) selector. It would be possible to express the same with CSS, but in this case XPath provides the simplest way to find the parent of an element.\n",
    "\n",
    "Of course, the test can also be written using only one auxiliary variable:"
   ]
  },
  {
   "cell_type": "markdown",
   "metadata": {},
   "source": [
    "```js\n",
    "test('one of those can be made nonimportant', async ({ page }) => {\n",
    "  const secondNoteElement = await page.getByText('second note').locator('..')\n",
    "  await secondNoteElement.getByRole('button', { name: 'make not important' }).click()\n",
    "  await expect(secondNoteElement.getByText('make important')).toBeVisible()\n",
    "})\n",
    "```"
   ]
  },
  {
   "cell_type": "markdown",
   "metadata": {},
   "source": [
    "Let's change the test so that three notes are created, the importance is changed in the second created note:"
   ]
  },
  {
   "cell_type": "markdown",
   "metadata": {},
   "source": [
    "```js\n",
    "describe('when logged in', () => {\n",
    "  beforeEach(async ({ page }) => {\n",
    "    await loginWith(page, 'mluukkai', 'salainen')\n",
    "  })\n",
    "\n",
    "  test('a new note can be created', async ({ page }) => {\n",
    "    await createNote(page, 'a note created by playwright', true)\n",
    "    await expect(page.getByText('a note created by playwright')).toBeVisible()\n",
    "  })\n",
    "\n",
    "  describe('and a note exists', () => {\n",
    "    beforeEach(async ({ page }) => {\n",
    "      await createNote(page, 'first note', true)\n",
    "      await createNote(page, 'second note', true)\n",
    "\n",
    "      await createNote(page, 'third note', true)\n",
    "    })\n",
    "\n",
    "    test('importance can be changed', async ({ page }) => {\n",
    "\n",
    "      const otherNoteText = await page.getByText('second note')\n",
    "      const otherdNoteElement = await otherNoteText.locator('..')\n",
    "    \n",
    "      await otherdNoteElement.getByRole('button', { name: 'make not important' }).click()\n",
    "      await expect(otherdNoteElement.getByText('make important')).toBeVisible()\n",
    "    })\n",
    "  })\n",
    "})\n",
    "```"
   ]
  },
  {
   "cell_type": "markdown",
   "metadata": {},
   "source": [
    "For some reason the test starts working unreliably, sometimes it passes and sometimes it doesn't. It's time to roll up your sleeves and learn how to debug tests."
   ]
  },
  {
   "cell_type": "markdown",
   "metadata": {},
   "source": [
    "> ## Test development and debugging"
   ]
  },
  {
   "cell_type": "markdown",
   "metadata": {},
   "source": [
    "If, and when the tests don't pass and you suspect that the fault is in the tests instead of in the code, you should run the tests in [debug](https://playwright.dev/docs/debug#run-in-debug-mode-1) mode.\n",
    "\n",
    "The following command runs the problematic test in debug mode:"
   ]
  },
  {
   "cell_type": "markdown",
   "metadata": {},
   "source": [
    "```cmd\n",
    "npm test -- -g'importance can be changed' --debug\n",
    "```"
   ]
  },
  {
   "cell_type": "markdown",
   "metadata": {},
   "source": [
    "Playwright-inspector shows the progress of the tests step by step. The arrow-dot button at the top takes the tests one step further. The elements found by the locators and the interaction with the browser are visualized in the browser:"
   ]
  },
  {
   "cell_type": "markdown",
   "metadata": {},
   "source": [
    "![](./images/image28.png)"
   ]
  },
  {
   "cell_type": "markdown",
   "metadata": {},
   "source": [
    "By default, debug steps through the test command by command. If it is a complex test, it can be quite a burden to step through the test to the point of interest. This can be avoided by using the command `await page.pause()`:"
   ]
  },
  {
   "cell_type": "markdown",
   "metadata": {},
   "source": [
    "```js\n",
    "describe('Note app', () => {\n",
    "  beforeEach(async ({ page, request }) => {\n",
    "    // ...\n",
    "  }\n",
    "\n",
    "  describe('when logged in', () => {\n",
    "    beforeEach(async ({ page }) => {\n",
    "      // ...\n",
    "    })\n",
    "\n",
    "    describe('and several notes exists', () => {\n",
    "      beforeEach(async ({ page }) => {\n",
    "        await createNote(page, 'first note')\n",
    "        await createNote(page, 'second note')\n",
    "        await createNote(page, 'third note')\n",
    "      })\n",
    "  \n",
    "      test('one of those can be made nonimportant', async ({ page }) => {\n",
    "\n",
    "        await page.pause()\n",
    "        const otherNoteText = await page.getByText('second note')\n",
    "        const otherdNoteElement = await otherNoteText.locator('..')\n",
    "      \n",
    "        await otherdNoteElement.getByRole('button', { name: 'make not important' }).click()\n",
    "        await expect(otherdNoteElement.getByText('make important')).toBeVisible()\n",
    "      })\n",
    "    })\n",
    "  })\n",
    "})\n",
    "```"
   ]
  },
  {
   "cell_type": "markdown",
   "metadata": {},
   "source": [
    "Now in the test you can go to `page.pause()` in one step, by pressing the green arrow symbol in the inspector.\n",
    "\n",
    "When we now run the test and jump to the `page.pause()` command, we find an interesting fact:"
   ]
  },
  {
   "cell_type": "markdown",
   "metadata": {},
   "source": [
    "![](./images/image29.png)"
   ]
  },
  {
   "cell_type": "markdown",
   "metadata": {},
   "source": [
    "It seems that the browser *does not render* all the notes created in the block `beforeEach`. What is the problem?\n",
    "\n",
    "The reason for the problem is that when the test creates one note, it starts creating the next one even before the server has responded, and the added note is rendered on the screen. This in turn can cause some notes to be lost (in the picture, this happened to the second note created), since the browser is re-rendered when the server responds, based on the state of the notes at the start of that insert operation.\n",
    "\n",
    "The problem can be solved by \"slowing down\" the insert operations by using the [waitFor](https://playwright.dev/docs/api/class-locator#locator-wait-for) command after the insert to wait for the inserted note to render:"
   ]
  },
  {
   "cell_type": "markdown",
   "metadata": {},
   "source": [
    "```js\n",
    "const createNote = async (page, content) => {\n",
    "  await page.getByRole('button', { name: 'new note' }).click()\n",
    "  await page.getByRole('textbox').fill(content)\n",
    "  await page.getByRole('button', { name: 'save' }).click()\n",
    "\n",
    "  await page.getByText(content).waitFor()\n",
    "}\n",
    "```"
   ]
  },
  {
   "cell_type": "markdown",
   "metadata": {},
   "source": [
    "Instead of, or alongside debugging mode, running tests in UI mode can be useful. As already mentioned, tests are started in UI mode as follows:"
   ]
  },
  {
   "cell_type": "markdown",
   "metadata": {},
   "source": [
    "```cmd\n",
    "npm run test -- --ui\n",
    "```"
   ]
  },
  {
   "cell_type": "markdown",
   "metadata": {},
   "source": [
    "Almost the same as UI mode is use of the Playwright's [Trace Viewer](https://playwright.dev/docs/trace-viewer-intro). The idea is that a \"visual trace\" of the tests is saved, which can be viewed if necessary after the tests have been completed. A trace is saved by running the tests as follows:"
   ]
  },
  {
   "cell_type": "markdown",
   "metadata": {},
   "source": [
    "```cmd\n",
    "npm run test -- --trace on\n",
    "```"
   ]
  },
  {
   "cell_type": "markdown",
   "metadata": {},
   "source": [
    "If necessary, Trace can be viewed with the command"
   ]
  },
  {
   "cell_type": "markdown",
   "metadata": {},
   "source": [
    "```cmd\n",
    "npx playwright show-report\n",
    "```"
   ]
  },
  {
   "cell_type": "markdown",
   "metadata": {},
   "source": [
    "or with the npm script we defined `npm run test:report`\n",
    "\n",
    "Trace looks practically the same as running tests in UI mode.\n",
    "\n",
    "UI mode and Trace Viewer also offer the possibility of assisted search for locators. This is done by pressing the double circle on the left side of the lower bar, and then by clicking on the desired user interface element. Playwright displays the element locator:"
   ]
  },
  {
   "cell_type": "markdown",
   "metadata": {},
   "source": [
    "![](./images/image30.png)"
   ]
  },
  {
   "cell_type": "markdown",
   "metadata": {},
   "source": [
    "Playwright suggests the following as the locator for the third note"
   ]
  },
  {
   "cell_type": "markdown",
   "metadata": {},
   "source": [
    "```js\n",
    "page.locator('li').filter({ hasText: 'third note' }).getByRole('button')\n",
    "```"
   ]
  },
  {
   "cell_type": "markdown",
   "metadata": {},
   "source": [
    "The method [page.locator](https://playwright.dev/docs/api/class-page#page-locator) is called with the argument `li`, i.e. we search for all li elements on the page, of which there are three in total. After this, using the [locator.filter](https://playwright.dev/docs/api/class-locator#locator-filter) method, we narrow down to the li element that contains the text *third note* and the button element inside it is taken using the [locator.getByRole](https://playwright.dev/docs/api/class-locator#locator-get-by-role) method.\n",
    "\n",
    "The locator generated by Playwright is somewhat different from the locator used by our tests, which was"
   ]
  },
  {
   "cell_type": "markdown",
   "metadata": {},
   "source": [
    "```cmd\n",
    "page.getByText('first note').locator('..').getByRole('button', { name: 'make not important' })\n",
    "```"
   ]
  },
  {
   "cell_type": "markdown",
   "metadata": {},
   "source": [
    "Which of the locators is better is probably a matter of taste.\n",
    "\n",
    "Playwright also includes a [test generator](https://playwright.dev/docs/codegen-intro) that makes it possible to \"record\" a test through the user interface. The test generator is started with the command:"
   ]
  },
  {
   "cell_type": "markdown",
   "metadata": {},
   "source": [
    "```cmd\n",
    "npx playwright codegen http://localhost:5173/\n",
    "```"
   ]
  },
  {
   "cell_type": "markdown",
   "metadata": {},
   "source": [
    "When the `Record` mode is on, the test generator \"records\" the user's interaction in the Playwright inspector, from where it is possible to copy the locators and actions to the tests:"
   ]
  },
  {
   "cell_type": "markdown",
   "metadata": {},
   "source": [
    "![](./images/image31.png)"
   ]
  },
  {
   "cell_type": "markdown",
   "metadata": {},
   "source": [
    "Instead of the command line, Playwright can also be used via the [VS Code](https://marketplace.visualstudio.com/items?itemName=ms-playwright.playwright) plugin. The plugin offers many convenient features, e.g. use of breakpoints when debugging tests.\n",
    "\n",
    "To avoid problem situations and increase understanding, it is definitely worth browsing Playwright's high-quality [documentation](https://playwright.dev/docs/intro). The most important sections are listed below:\n",
    "\n",
    "- the section about [locators](https://playwright.dev/docs/locators) gives good hints for finding elements in test\n",
    "- section [actions](https://playwright.dev/docs/input) tells how it is possible to simulate the interaction with the browser in tests\n",
    "- the section about [assertions](https://playwright.dev/docs/test-assertions) demonstrates the different expectations Playwright offers for testing\n",
    "\n",
    "In-depth details can be found in the [API](https://playwright.dev/docs/api/class-playwright) description, particularly useful are the class [Page](https://playwright.dev/docs/api/class-page) corresponding to the browser window of the application under test, and the class [Locator](https://playwright.dev/docs/api/class-locator) corresponding to the elements searched for in the tests.\n",
    "\n",
    "The final version of the tests is in full on [GitHub](https://github.com/fullstack-hy2020/notes-e2e/tree/part5-3), in branch *part5-3*.\n",
    "\n",
    "The final version of the frontend code is in its entirety on [GitHub](https://github.com/fullstack-hy2020/part2-notes-frontend/tree/part5-9), in branch *part5-9*."
   ]
  },
  {
   "cell_type": "markdown",
   "metadata": {},
   "source": [
    "> ## Exercises 5.17.-5.23.\n",
    ">\n",
    "> In the last exercises of this part, let's do some E2E tests for the blog application. The material above should be enough to do most of the exercises. However, you should definitely read Playwright's [documentation](https://playwright.dev/docs/intro) and [API description](https://playwright.dev/docs/api/class-playwright), at least the sections mentioned at the end of the previous chapter.\n",
    ">\n",
    "> ### 5.17: Blog List End To End Testing, step 1\n",
    ">\n",
    "> Create a new npm project for tests and configure Playwright there.\n",
    ">\n",
    "> Make a test to ensure that the application displays the login form by default.\n",
    ">\n",
    "> The body of the test should be as follows:"
   ]
  },
  {
   "cell_type": "markdown",
   "metadata": {},
   "source": [
    "> ```js\n",
    "> const { test, expect, beforeEach, describe } = require('@playwright/test')\n",
    ">\n",
    "> describe('Blog app', () => {\n",
    ">   beforeEach(async ({ page }) => {\n",
    ">     await page.goto('http://localhost:5173')\n",
    ">   })\n",
    "> \n",
    ">   test('Login form is shown', async ({ page }) => {\n",
    ">     // ...\n",
    ">   })\n",
    "> })"
   ]
  },
  {
   "cell_type": "markdown",
   "metadata": {},
   "source": [
    "> ### 5.18: Blog List End To End Testing, step 2\n",
    ">\n",
    "> Do the tests for login. Test both successful and failed login. For tests, create a user in the beforeEach block.\n",
    ">\n",
    "> The body of the tests expands as follows\n",
    ">\n",
    "> ```js\n",
    "> const { test, expect, beforeEach, describe } = require('@playwright/test')\n",
    ">\n",
    "> describe('Blog app', () => {\n",
    ">   beforeEach(async ({ page, request }) => {\n",
    ">     // empty the db here\n",
    ">     // create a user for the backend here\n",
    ">     // ...\n",
    ">   })\n",
    ">\n",
    ">   test('Login form is shown', async ({ page }) => {\n",
    ">     // ...\n",
    ">   })\n",
    ">\n",
    ">   describe('Login', () => {\n",
    ">     test('succeeds with correct credentials', async ({ page }) => {\n",
    ">       // ...\n",
    ">     })\n",
    ">\n",
    ">     test('fails with wrong credentials', async ({ page }) => {\n",
    ">       // ...\n",
    ">     })\n",
    ">   })\n",
    "> })"
   ]
  },
  {
   "cell_type": "markdown",
   "metadata": {},
   "source": [
    "> The `beforeEach` block must empty the database using, for example, the reset method we used in the [material](https://fullstackopen.com/en/part5/end_to_end_testing_playwright#controlling-the-state-of-the-database)."
   ]
  },
  {
   "cell_type": "markdown",
   "metadata": {},
   "source": [
    "> ### 5.19: Blog List End To End Testing, step 3\n",
    "> Create a test that verifies that a logged in user can create a blog. The body of the test may look like the following\n",
    ">\n",
    "> ```js\n",
    "> describe('When logged in', () => {\n",
    ">   beforeEach(async ({ page }) => {\n",
    ">     // ...\n",
    ">   })\n",
    ">\n",
    ">   test('a new blog can be created', async ({ page }) => {\n",
    ">     // ...\n",
    ">   })\n",
    "> })\n",
    "> ```\n",
    "> \n",
    "> The test should ensure that the created blog is visible in the list of blogs.\n",
    "> \n",
    "> ### 5.20: Blog List End To End Testing, step 4\n",
    ">\n",
    "> Do a test that makes sure the blog can be liked.\n",
    "> \n",
    "> ### 5.21: Blog List End To End Testing, step 5\n",
    ">\n",
    "> Make a test that ensures that the user who added the blog can delete the blog. If you use the `window.confirm` dialog in the delete operation, you may have to Google how to use the dialog in the Playwright tests.\n",
    ">\n",
    "> ### 5.22: Blog List End To End Testing, step 6\n",
    "> Make a test that ensures that only the user who added the blog sees the blog's delete button.\n",
    ">\n",
    "> ### 5.23: Blog List End To End Testing, step 7\n",
    "> Do a test that ensures that the blogs are arranged in the order according to the likes, the blog with the most likes first.\n",
    "> \n",
    "> *This task is significantly more challenging than the previous ones.*\n",
    ">\n",
    "> This was the last task of the section and it's time to push the code to GitHub and mark the completed tasks in the [exercise submission system]()."
   ]
  },
  {
   "cell_type": "markdown",
   "metadata": {},
   "source": []
  }
 ],
 "metadata": {
  "language_info": {
   "name": "python"
  }
 },
 "nbformat": 4,
 "nbformat_minor": 2
}
