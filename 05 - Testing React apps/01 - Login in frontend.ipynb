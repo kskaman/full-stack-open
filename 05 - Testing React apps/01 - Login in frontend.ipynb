{
 "cells": [
  {
   "cell_type": "markdown",
   "metadata": {},
   "source": [
    "> # Login in frontend"
   ]
  },
  {
   "cell_type": "markdown",
   "metadata": {},
   "source": [
    "In the last two parts, we have mainly concentrated on the backend. The frontend that we developed in part 2 does not yet support the user management we implemented to the backend in part 4.\n",
    "\n",
    "At the moment the frontend shows existing notes and lets users change the state of a note from important to not important and vice versa. New notes cannot be added anymore because of the changes made to the backend in part 4: the backend now expects that a token verifying a user's identity is sent with the new note.\n",
    "\n",
    "We'll now implement a part of the required user management functionality in the frontend. Let's begin with the user login. Throughout this part, we will assume that new users will not be added from the frontend."
   ]
  },
  {
   "cell_type": "markdown",
   "metadata": {},
   "source": [
    "> ## Handling login"
   ]
  },
  {
   "cell_type": "markdown",
   "metadata": {},
   "source": [
    "A login form has now been added to the top of the page:"
   ]
  },
  {
   "cell_type": "markdown",
   "metadata": {},
   "source": [
    "![](./images/image01.png)"
   ]
  },
  {
   "cell_type": "markdown",
   "metadata": {},
   "source": [
    "The code of the *App* component now looks as follows:"
   ]
  },
  {
   "cell_type": "markdown",
   "metadata": {},
   "source": [
    "```js\n",
    "const App = () => {\n",
    "  const [notes, setNotes] = useState([]) \n",
    "  const [newNote, setNewNote] = useState('')\n",
    "  const [showAll, setShowAll] = useState(true)\n",
    "  const [errorMessage, setErrorMessage] = useState(null)\n",
    "\n",
    "  const [username, setUsername] = useState('') \n",
    "  const [password, setPassword] = useState('') \n",
    "\n",
    "  useEffect(() => {\n",
    "    noteService\n",
    "      .getAll().then(initialNotes => {\n",
    "        setNotes(initialNotes)\n",
    "      })\n",
    "  }, [])\n",
    "\n",
    "  // ...\n",
    "\n",
    "\n",
    "  const handleLogin = (event) => {\n",
    "    event.preventDefault()\n",
    "    console.log('logging in with', username, password)\n",
    "  }\n",
    "\n",
    "  return (\n",
    "    <div>\n",
    "      <h1>Notes</h1>\n",
    "\n",
    "      <Notification message={errorMessage} />\n",
    "\n",
    "\n",
    "      <form onSubmit={handleLogin}>\n",
    "        <div>\n",
    "          username\n",
    "            <input\n",
    "            type=\"text\"\n",
    "            value={username}\n",
    "            name=\"Username\"\n",
    "            onChange={({ target }) => setUsername(target.value)}\n",
    "          />\n",
    "        </div>\n",
    "        <div>\n",
    "          password\n",
    "            <input\n",
    "            type=\"password\"\n",
    "            value={password}\n",
    "            name=\"Password\"\n",
    "            onChange={({ target }) => setPassword(target.value)}\n",
    "          />\n",
    "        </div>\n",
    "        <button type=\"submit\">login</button>\n",
    "      </form>\n",
    "\n",
    "      // ...\n",
    "    </div>\n",
    "  )\n",
    "}\n",
    "\n",
    "export default App\n",
    "```"
   ]
  },
  {
   "cell_type": "markdown",
   "metadata": {},
   "source": [
    "The current application code can be found on [GitHub](https://github.com/fullstack-hy2020/part2-notes-frontend/tree/part5-1), in the branch *part5-1*. If you clone the repo, don't forget to run `npm install` before attempting to run the frontend.\n",
    "\n",
    "The frontend will not display any notes if it's not connected to the backend. You can start the backend with `npm run dev` in its folder from Part 4. This will run the backend on port 3001. While that is active, in a separate terminal window you can start the frontend with `npm start`, and now you can see the notes that are saved in your MongoDB database from Part 4.\n",
    "\n",
    "Keep this in mind from now on.\n",
    "\n",
    "The login form is handled the same way we handled forms in part 2. The app state has fields for *username* and *password* to store the data from the form. The form fields have event handlers, which synchronize changes in the field to the state of the *App* component. The event handlers are simple: An object is given to them as a parameter, and they destructure the field *target* from the object and save its value to the state."
   ]
  },
  {
   "cell_type": "markdown",
   "metadata": {},
   "source": [
    "```js\n",
    "({ target }) => setUsername(target.value)\n",
    "```\n",
    "\n",
    "The method `handleLogin`, which is responsible for handling the data in the form, is yet to be implemented.\n",
    "\n",
    "Logging in is done by sending an HTTP POST request to the server address *api/login*. Let's separate the code responsible for this request into its own module, to file *services/login.js*.\n",
    "\n",
    "We'll use *async/await* syntax instead of promises for the HTTP request:\n",
    "\n",
    "```js\n",
    "import axios from 'axios'\n",
    "const baseUrl = '/api/login'\n",
    "\n",
    "const login = async credentials => {\n",
    "  const response = await axios.post(baseUrl, credentials)\n",
    "  return response.data\n",
    "}\n",
    "\n",
    "export default { login }\n",
    "```\n",
    "\n",
    "The method for handling the login can be implemented as follows:"
   ]
  },
  {
   "cell_type": "markdown",
   "metadata": {},
   "source": [
    "```js\n",
    "import loginService from './services/login'\n",
    "\n",
    "const App = () => {\n",
    "  // ...\n",
    "  const [username, setUsername] = useState('') \n",
    "  const [password, setPassword] = useState('') \n",
    "\n",
    "  const [user, setUser] = useState(null)\n",
    "  \n",
    "\n",
    "  const handleLogin = async (event) => {\n",
    "    event.preventDefault()\n",
    "    \n",
    "    try {\n",
    "      const user = await loginService.login({\n",
    "        username, password,\n",
    "      })\n",
    "      setUser(user)\n",
    "      setUsername('')\n",
    "      setPassword('')\n",
    "    } catch (exception) {\n",
    "      setErrorMessage('Wrong credentials')\n",
    "      setTimeout(() => {\n",
    "        setErrorMessage(null)\n",
    "      }, 5000)\n",
    "    }\n",
    "    \n",
    "\n",
    "  // ...\n",
    "}\n",
    "```"
   ]
  },
  {
   "cell_type": "markdown",
   "metadata": {},
   "source": [
    "If the login is successful, the form fields are emptied and the server response (including a *token* and the user details) is saved to the user field of the application's state.\n",
    "\n",
    "If the login fails or running the function `loginService.login` results in an error, the user is notified.\n",
    "\n",
    "The user is not notified about a successful login in any way. Let's modify the application to show the login form only *if the user is not logged-in*, so when `user === null`. The form for adding new notes is shown only if the user is *logged-in*, so when user contains the user's details.\n",
    "\n",
    "Let's add two helper functions to the *App* component for generating the forms:"
   ]
  },
  {
   "cell_type": "markdown",
   "metadata": {},
   "source": [
    "```js\n",
    "const App = () => {\n",
    "  // ...\n",
    "\n",
    "  const loginForm = () => (\n",
    "    <form onSubmit={handleLogin}>\n",
    "      <div>\n",
    "        username\n",
    "          <input\n",
    "          type=\"text\"\n",
    "          value={username}\n",
    "          name=\"Username\"\n",
    "          onChange={({ target }) => setUsername(target.value)}\n",
    "        />\n",
    "      </div>\n",
    "      <div>\n",
    "        password\n",
    "          <input\n",
    "          type=\"password\"\n",
    "          value={password}\n",
    "          name=\"Password\"\n",
    "          onChange={({ target }) => setPassword(target.value)}\n",
    "        />\n",
    "      </div>\n",
    "      <button type=\"submit\">login</button>\n",
    "    </form>      \n",
    "  )\n",
    "\n",
    "  const noteForm = () => (\n",
    "    <form onSubmit={addNote}>\n",
    "      <input\n",
    "        value={newNote}\n",
    "        onChange={handleNoteChange}\n",
    "      />\n",
    "      <button type=\"submit\">save</button>\n",
    "    </form>  \n",
    "  )\n",
    "\n",
    "  return (\n",
    "    // ...\n",
    "  )\n",
    "}\n",
    "```"
   ]
  },
  {
   "cell_type": "markdown",
   "metadata": {},
   "source": [
    "and conditionally render them:"
   ]
  },
  {
   "cell_type": "markdown",
   "metadata": {},
   "source": [
    "```js\n",
    "const App = () => {\n",
    "  // ...\n",
    "\n",
    "  const loginForm = () => (\n",
    "    // ...\n",
    "  )\n",
    "\n",
    "  const noteForm = () => (\n",
    "    // ...\n",
    "  )\n",
    "\n",
    "  return (\n",
    "    <div>\n",
    "      <h1>Notes</h1>\n",
    "\n",
    "      <Notification message={errorMessage} />\n",
    "\n",
    "\n",
    "      {user === null && loginForm()}\n",
    "      {user !== null && noteForm()}\n",
    "\n",
    "      <div>\n",
    "        <button onClick={() => setShowAll(!showAll)}>\n",
    "          show {showAll ? 'important' : 'all'}\n",
    "        </button>\n",
    "      </div>\n",
    "      <ul>\n",
    "        {notesToShow.map((note, i) => \n",
    "          <Note\n",
    "            key={i}\n",
    "            note={note} \n",
    "            toggleImportance={() => toggleImportanceOf(note.id)}\n",
    "          />\n",
    "        )}\n",
    "      </ul>\n",
    "\n",
    "      <Footer />\n",
    "    </div>\n",
    "  )\n",
    "}\n",
    "```"
   ]
  },
  {
   "cell_type": "markdown",
   "metadata": {},
   "source": [
    "A slightly odd looking, but commonly used [React trick](https://react.dev/learn/conditional-rendering#logical-and-operator-) is used to render the forms conditionally:\n",
    "\n",
    "```js\n",
    "{\n",
    "  user === null && loginForm()\n",
    "}\n",
    "```\n",
    "\n",
    "If the first statement evaluates to false or is [falsy](https://developer.mozilla.org/en-US/docs/Glossary/Falsy), the second statement (generating the form) is not executed at all.\n",
    "\n",
    "We can make this even more straightforward by using the [conditional operator](https://developer.mozilla.org/en-US/docs/Web/JavaScript/Reference/Operators/Conditional_operator):\n",
    "\n",
    "```js\n",
    "return (\n",
    "  <div>\n",
    "    <h1>Notes</h1>\n",
    "\n",
    "    <Notification message={errorMessage}/>\n",
    "\n",
    "    {user === null ?\n",
    "      loginForm() :\n",
    "      noteForm()\n",
    "    }\n",
    "\n",
    "    <h2>Notes</h2>\n",
    "\n",
    "    // ...\n",
    "\n",
    "  </div>\n",
    ")\n",
    "```\n",
    "\n",
    "If `user === null` is [truthy](https://developer.mozilla.org/en-US/docs/Glossary/Truthy), `loginForm()` is executed. If not, `noteForm()` is."
   ]
  },
  {
   "cell_type": "markdown",
   "metadata": {},
   "source": [
    "Let's do one more modification. If the user is logged in, their name is shown on the screen:\n",
    "\n",
    "```js\n",
    "return (\n",
    "  <div>\n",
    "    <h1>Notes</h1>\n",
    "\n",
    "    <Notification message={errorMessage} />\n",
    "\n",
    "    {user === null ?\n",
    "      loginForm() :\n",
    "      <div>\n",
    "        <p>{user.name} logged-in</p>\n",
    "        {noteForm()}\n",
    "      </div>\n",
    "    }\n",
    "\n",
    "    <h2>Notes</h2>\n",
    "\n",
    "    // ...\n",
    "\n",
    "  </div>\n",
    ")\n",
    "```\n",
    "\n",
    "The solution isn't perfect, but we'll leave it like this for now.\n",
    "\n",
    "Our main component *App* is at the moment way too large. The changes we did now are a clear sign that the forms should be refactored into their own components. However, we will leave that for an optional exercise.\n",
    "\n",
    "The current application code can be found on [GitHub](https://github.com/fullstack-hy2020/part2-notes-frontend/tree/part5-2), in the branch *part5-2*."
   ]
  },
  {
   "cell_type": "markdown",
   "metadata": {},
   "source": [
    "> ## Creating new notes"
   ]
  },
  {
   "cell_type": "markdown",
   "metadata": {},
   "source": [
    "The token returned with a successful login is saved to the application's state - the *user's* field *token*:\n",
    "\n",
    "```js\n",
    "const handleLogin = async (event) => {\n",
    "  event.preventDefault()\n",
    "  try {\n",
    "    const user = await loginService.login({\n",
    "      username, password,\n",
    "    })\n",
    "\n",
    "    setUser(user)\n",
    "    setUsername('')\n",
    "    setPassword('')\n",
    "  } catch (exception) {\n",
    "    // ...\n",
    "  }\n",
    "}\n",
    "```\n",
    "\n",
    "Let's fix creating new notes so it works with the backend. This means adding the token of the logged-in user to the Authorization header of the HTTP request."
   ]
  },
  {
   "cell_type": "markdown",
   "metadata": {},
   "source": [
    "The *noteService* module changes like so:\n",
    "\n",
    "```js\n",
    "import axios from 'axios'\n",
    "const baseUrl = '/api/notes'\n",
    "\n",
    "let token = null\n",
    "\n",
    "const setToken = newToken => {\n",
    "  token = `Bearer ${newToken}`\n",
    "}\n",
    "\n",
    "const getAll = () => {\n",
    "  const request = axios.get(baseUrl)\n",
    "  return request.then(response => response.data)\n",
    "}\n",
    "\n",
    "const create = async newObject => {\n",
    "  const config = {\n",
    "    headers: { Authorization: token },\n",
    "  }\n",
    "\n",
    "  const response = await axios.post(baseUrl, newObject, config)\n",
    "  return response.data\n",
    "}\n",
    "\n",
    "const update = (id, newObject) => {\n",
    "  const request = axios.put(`${ baseUrl }/${id}`, newObject)\n",
    "  return request.then(response => response.data)\n",
    "}\n",
    "\n",
    "export default { getAll, create, update, setToken }\n",
    "```"
   ]
  },
  {
   "cell_type": "markdown",
   "metadata": {},
   "source": [
    "The noteService module contains a private variable called `token`. Its value can be changed with the `setToken` function, which is exported by the module. `create`, now with async/await syntax, sets the token to the *Authorization* header. The header is given to axios as the third parameter of the *post* method.\n",
    "\n",
    "The event handler responsible for login must be changed to call the method `noteService.setToken(user.token)` with a successful login:\n",
    "\n",
    "```js\n",
    "const handleLogin = async (event) => {\n",
    "  event.preventDefault()\n",
    "  try {\n",
    "    const user = await loginService.login({\n",
    "      username, password,\n",
    "    })\n",
    "\n",
    "    noteService.setToken(user.token)\n",
    "    setUser(user)\n",
    "    setUsername('')\n",
    "    setPassword('')\n",
    "  } catch (exception) {\n",
    "    // ...\n",
    "  }\n",
    "}\n",
    "```\n",
    "\n",
    "And now adding new notes works again!"
   ]
  },
  {
   "cell_type": "markdown",
   "metadata": {},
   "source": [
    "> ## Saving the token to the browser's local storage"
   ]
  },
  {
   "cell_type": "markdown",
   "metadata": {},
   "source": [
    "Our application has a small flaw: if the browser is refreshed (eg. pressing F5), the user's login information disappears.\n",
    "\n",
    "This problem is easily solved by saving the login details to [local storage](https://developer.mozilla.org/en-US/docs/Web/API/Storage). Local Storage is a [key-value](https://en.wikipedia.org/wiki/Key%E2%80%93value_database) database in the browser.\n",
    "\n",
    "It is very easy to use. A *value* corresponding to a certain key is saved to the database with the method [setItem](https://developer.mozilla.org/en-US/docs/Web/API/Storage/setItem). For example:\n",
    "\n",
    "```js\n",
    "window.localStorage.setItem('name', 'juha tauriainen')\n",
    "```\n",
    "\n",
    "saves the string given as the second parameter as the value of the key *name*.\n",
    "\n",
    "The value of a key can be found with the method [getItem](https://developer.mozilla.org/en-US/docs/Web/API/Storage/getItem):\n",
    "\n",
    "```js\n",
    "window.localStorage.getItem('name')\n",
    "```\n",
    "\n",
    "while [removeItem](https://developer.mozilla.org/en-US/docs/Web/API/Storage/removeItem) removes a key."
   ]
  },
  {
   "cell_type": "markdown",
   "metadata": {},
   "source": [
    "Values in the local storage are persisted even when the page is re-rendered. The storage is [origin](https://developer.mozilla.org/en-US/docs/Glossary/Origin)-specific so each web application has its own storage.\n",
    "\n",
    "Let's extend our application so that it saves the details of a logged-in user to the local storage.\n",
    "\n",
    "Values saved to the storage are [DOMstrings](https://docs.w3cub.com/dom/domstring), so we cannot save a JavaScript object as it is. The object has to be parsed to JSON first, with the method `JSON.stringify`. Correspondingly, when a JSON object is read from the local storage, it has to be parsed back to JavaScript with `JSON.parse`.\n",
    "\n",
    "Changes to the login method are as follows:"
   ]
  },
  {
   "cell_type": "markdown",
   "metadata": {},
   "source": [
    "```js\n",
    "  const handleLogin = async (event) => {\n",
    "    event.preventDefault()\n",
    "    try {\n",
    "      const user = await loginService.login({\n",
    "        username, password,\n",
    "      })\n",
    "\n",
    "\n",
    "      window.localStorage.setItem(\n",
    "        'loggedNoteappUser', JSON.stringify(user)\n",
    "      ) \n",
    "      noteService.setToken(user.token)\n",
    "      setUser(user)\n",
    "      setUsername('')\n",
    "      setPassword('')\n",
    "    } catch (exception) {\n",
    "      // ...\n",
    "    }\n",
    "  }\n",
    "```"
   ]
  },
  {
   "cell_type": "markdown",
   "metadata": {},
   "source": [
    "The details of a logged-in user are now saved to the local storage, and they can be viewed on the console (by typing `window.localStorage` in it):"
   ]
  },
  {
   "cell_type": "markdown",
   "metadata": {},
   "source": [
    "![](./images/image02.png)"
   ]
  },
  {
   "cell_type": "markdown",
   "metadata": {},
   "source": [
    "You can also inspect the local storage using the developer tools. On Chrome, go to the *Application* tab and select *Local Storage* (more details [here](https://developer.chrome.com/docs/devtools/storage/localstorage)). On Firefox go to the *Storage* tab and select *Local Storage* (details [here](https://firefox-source-docs.mozilla.org/devtools-user/storage_inspector/index.html)).\n",
    "\n",
    "We still have to modify our application so that when we enter the page, the application checks if user details of a logged-in user can already be found on the local storage. If they are there, the details are saved to the state of the application and to *noteService*.\n",
    "\n",
    "The right way to do this is with an [effect hook](): a mechanism we first encountered in part 2, and used to fetch notes from the server.\n",
    "\n",
    "We can have multiple effect hooks, so let's create a second one to handle the first loading of the page:"
   ]
  },
  {
   "cell_type": "markdown",
   "metadata": {},
   "source": [
    "```js\n",
    "const App = () => {\n",
    "  const [notes, setNotes] = useState([]) \n",
    "  const [newNote, setNewNote] = useState('')\n",
    "  const [showAll, setShowAll] = useState(true)\n",
    "  const [errorMessage, setErrorMessage] = useState(null)\n",
    "  const [username, setUsername] = useState('') \n",
    "  const [password, setPassword] = useState('') \n",
    "  const [user, setUser] = useState(null) \n",
    "\n",
    "  useEffect(() => {\n",
    "    noteService\n",
    "      .getAll().then(initialNotes => {\n",
    "        setNotes(initialNotes)\n",
    "      })\n",
    "  }, [])\n",
    "\n",
    "\n",
    "  useEffect(() => {\n",
    "    const loggedUserJSON = window.localStorage.getItem('loggedNoteappUser')\n",
    "    if (loggedUserJSON) {\n",
    "      const user = JSON.parse(loggedUserJSON)\n",
    "      setUser(user)\n",
    "      noteService.setToken(user.token)\n",
    "    }\n",
    "  }, [])\n",
    "\n",
    "  // ...\n",
    "}\n",
    "```"
   ]
  },
  {
   "cell_type": "markdown",
   "metadata": {},
   "source": [
    "The empty array as the parameter of the effect ensures that the effect is executed only when the component is rendered [for the first time](https://react.dev/reference/react/useEffect#parameters).\n",
    "\n",
    "Now a user stays logged in to the application forever. We should probably add a *logout* functionality, which removes the login details from the local storage. We will however leave it as an exercise.\n",
    "\n",
    "It's possible to log out a user using the console, and that is enough for now. You can log out with the command:\n",
    "\n",
    "```js\n",
    "window.localStorage.removeItem('loggedNoteappUser')\n",
    "```\n",
    "\n",
    "or with the command which empties *localstorage* completely:\n",
    "\n",
    "```js\n",
    "window.localStorage.clear()\n",
    "```\n",
    "\n",
    "The current application code can be found on [GitHub](https://github.com/fullstack-hy2020/part2-notes-frontend/tree/part5-3), in the branch *part5-3*."
   ]
  },
  {
   "cell_type": "markdown",
   "metadata": {},
   "source": [
    "> ## Exercises 5.1.-5.4.\n",
    ">\n",
    "> We will now create a frontend for the blog list backend we created in the last part. You can use [this application](https://github.com/fullstack-hy2020/bloglist-frontend) from GitHub as the base of your solution. You need to connect your backend with a proxy as shown in part 3.\n",
    ">\n",
    "> It is enough to submit your finished solution. You can commit after each exercise, but that is not necessary.\n",
    ">\n",
    "> The first few exercises revise everything we have learned about React so far. They can be challenging, especially if your backend is incomplete. It might be best to use the backend that we marked as the answer for part 4.\n",
    ">\n",
    "> While doing the exercises, remember all of the debugging methods we have talked about, especially keeping an eye on the console.\n",
    ">\n",
    "> **Warning**: If you notice you are mixing in the `async/await` and `then` commands, it's 99.9% certain you are doing something wrong. Use either or, never both."
   ]
  },
  {
   "cell_type": "markdown",
   "metadata": {},
   "source": [
    "> ### 5.1: Blog List Frontend, step 1\n",
    ">\n",
    "> Clone the application from [GitHub]() with the command:\n",
    ">\n",
    "> ```cmd\n",
    "> git clone https://github.com/fullstack-hy2020/bloglist-frontendcopy\n",
    "> ```\n",
    ">\n",
    "> Remove *the git configuration of the cloned application*\n",
    ">\n",
    "> ```cmd\n",
    "> cd bloglist-frontend   // go to cloned repository\n",
    "> rm -rf .gitcopy\n",
    "> ```\n",
    ">\n",
    "> The application is started the usual way, but you have to install its dependencies first:\n",
    ">\n",
    "> ```cmd\n",
    "> npm install\n",
    "> npm run dev\n",
    "> ```\n",
    "> \n",
    "> Implement login functionality to the frontend. The token returned with a successful login is saved to the application's state user.\n",
    ">\n",
    "> If a user is not logged in, only the login form is visible."
   ]
  },
  {
   "cell_type": "markdown",
   "metadata": {},
   "source": [
    "> ![](./images/image03.png)"
   ]
  },
  {
   "cell_type": "markdown",
   "metadata": {},
   "source": [
    "> If the user is logged-in, the name of the user and a list of blogs is shown."
   ]
  },
  {
   "cell_type": "markdown",
   "metadata": {},
   "source": [
    "> ![](./images/image04.png)"
   ]
  },
  {
   "cell_type": "markdown",
   "metadata": {},
   "source": [
    "> User details of the logged-in user do not have to be saved to the local storage yet.\n",
    ">\n",
    "> **NB** You can implement the conditional rendering of the login form like this for example:"
   ]
  },
  {
   "cell_type": "markdown",
   "metadata": {},
   "source": [
    "> ```js\n",
    ">   if (user === null) {\n",
    ">     return (\n",
    ">       <div>\n",
    ">         <h2>Log in to application</h2>\n",
    ">         <form>\n",
    ">           //...\n",
    ">         </form>\n",
    ">       </div>\n",
    ">     )\n",
    ">   }\n",
    ">\n",
    ">   return (\n",
    ">     <div>\n",
    ">       <h2>blogs</h2>\n",
    ">       {blogs.map(blog =>\n",
    ">         <Blog key={blog.id} blog={blog} />\n",
    ">       )}\n",
    ">     </div>\n",
    ">   )\n",
    "> }\n",
    "> ```"
   ]
  },
  {
   "cell_type": "markdown",
   "metadata": {},
   "source": [
    "> ### 5.2: Blog List Frontend, step 2\n",
    ">\n",
    "> Make the login 'permanent' by using the local storage. Also, implement a way to log out."
   ]
  },
  {
   "cell_type": "markdown",
   "metadata": {},
   "source": [
    "> ![](./images/image04.png)"
   ]
  },
  {
   "cell_type": "markdown",
   "metadata": {},
   "source": [
    "> Ensure the browser does not remember the details of the user after logging out."
   ]
  },
  {
   "cell_type": "markdown",
   "metadata": {},
   "source": [
    "> ### 5.3: Blog List Frontend, step 3\n",
    ">\n",
    "> Expand your application to allow a logged-in user to add new blogs:"
   ]
  },
  {
   "cell_type": "markdown",
   "metadata": {},
   "source": [
    "> ![](./images/image05.png)"
   ]
  },
  {
   "cell_type": "markdown",
   "metadata": {},
   "source": [
    "> # 5.4: Blog List Frontend, step 4\n",
    ">\n",
    "> Implement notifications that inform the user about successful and unsuccessful operations at the top of the page. For example, when a new blog is added, the following notification can be shown:"
   ]
  },
  {
   "cell_type": "markdown",
   "metadata": {},
   "source": [
    "> ![](./images/image06.png)"
   ]
  },
  {
   "cell_type": "markdown",
   "metadata": {},
   "source": [
    "> Failed login can show the following notification:"
   ]
  },
  {
   "cell_type": "markdown",
   "metadata": {},
   "source": [
    "> ![](./images/image07.png)"
   ]
  },
  {
   "cell_type": "markdown",
   "metadata": {},
   "source": [
    "> The notifications must be visible for a few seconds. It is not compulsory to add colors."
   ]
  },
  {
   "cell_type": "markdown",
   "metadata": {},
   "source": [
    "> ## A note on using local storage"
   ]
  },
  {
   "cell_type": "markdown",
   "metadata": {},
   "source": [
    "At the [end](https://fullstackopen.com/en/part4/token_authentication#problems-of-token-based-authentication) of the last part, we mentioned that the challenge of token-based authentication is how to cope with the situation when the API access of the token holder to the API needs to be revoked.\n",
    "\n",
    "There are two solutions to the problem. The first one is to limit the validity period of a token. This forces the user to re-login to the app once the token has expired. The other approach is to save the validity information of each token to the backend database. This solution is often called a *server-side session*.\n",
    "\n",
    "No matter how the validity of tokens is checked and ensured, saving a token in the local storage might contain a security risk if the application has a security vulnerability that allows [Cross Site Scripting (XSS)](https://owasp.org/www-community/attacks/xss/) attacks. An XSS attack is possible if the application would allow a user to inject arbitrary JavaScript code (e.g. using a form) that the app would then execute. When using React sensibly it should not be possible since [React sanitizes](https://legacy.reactjs.org/docs/introducing-jsx.html#jsx-prevents-injection-attacks) all text that it renders, meaning that it is not executing the rendered content as JavaScript."
   ]
  },
  {
   "cell_type": "markdown",
   "metadata": {},
   "source": [
    "If one wants to play safe, the best option is to not store a token in local storage. This might be an option in situations where leaking a token might have tragic consequences.\n",
    "\n",
    "It has been suggested that the identity of a signed-in user should be saved as [httpOnly cookies](https://developer.mozilla.org/en-US/docs/Web/HTTP/Cookies#restrict_access_to_cookies), so that JavaScript code could not have any access to the token. The drawback of this solution is that it would make implementing SPA applications a bit more complex. One would need at least to implement a separate page for logging in.\n",
    "\n",
    "However, it is good to notice that even the use of httpOnly cookies does not guarantee anything. It has even been suggested that httpOnly cookies are [not any safer than](https://academind.com/tutorials/localstorage-vs-cookies-xss/) the use of local storage.\n",
    "\n",
    "So no matter the used solution the most important thing is to [minimize the risk](https://cheatsheetseries.owasp.org/cheatsheets/DOM_based_XSS_Prevention_Cheat_Sheet.html) of XSS attacks altogether."
   ]
  },
  {
   "cell_type": "markdown",
   "metadata": {},
   "source": []
  }
 ],
 "metadata": {
  "language_info": {
   "name": "python"
  }
 },
 "nbformat": 4,
 "nbformat_minor": 2
}
