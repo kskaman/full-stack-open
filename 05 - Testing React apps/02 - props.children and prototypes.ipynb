{
 "cells": [
  {
   "cell_type": "markdown",
   "metadata": {},
   "source": [
    "> # props.children and prototypes"
   ]
  },
  {
   "cell_type": "markdown",
   "metadata": {},
   "source": [
    "> ## Displaying the login form only when appropriate\n",
    "\n",
    "Let's modify the application so that the login form is not displayed by default:"
   ]
  },
  {
   "cell_type": "markdown",
   "metadata": {},
   "source": [
    "![](./images/image08.png)"
   ]
  },
  {
   "cell_type": "markdown",
   "metadata": {},
   "source": [
    "The login form appears when the user presses the *login* button:"
   ]
  },
  {
   "cell_type": "markdown",
   "metadata": {},
   "source": [
    "![](./images/image09.png)"
   ]
  },
  {
   "cell_type": "markdown",
   "metadata": {},
   "source": [
    "The user can close the login form by clicking the cancel button.\n",
    "\n",
    "Let's start by extracting the login form into its own component:"
   ]
  },
  {
   "cell_type": "markdown",
   "metadata": {},
   "source": [
    "```js\n",
    "const LoginForm = ({\n",
    "   handleSubmit,\n",
    "   handleUsernameChange,\n",
    "   handlePasswordChange,\n",
    "   username,\n",
    "   password\n",
    "  }) => {\n",
    "  return (\n",
    "    <div>\n",
    "      <h2>Login</h2>\n",
    "\n",
    "      <form onSubmit={handleSubmit}>\n",
    "        <div>\n",
    "          username\n",
    "          <input\n",
    "            value={username}\n",
    "            onChange={handleUsernameChange}\n",
    "          />\n",
    "        </div>\n",
    "        <div>\n",
    "          password\n",
    "          <input\n",
    "            type=\"password\"\n",
    "            value={password}\n",
    "            onChange={handlePasswordChange}\n",
    "          />\n",
    "      </div>\n",
    "        <button type=\"submit\">login</button>\n",
    "      </form>\n",
    "    </div>\n",
    "  )\n",
    "}\n",
    "\n",
    "export default LoginForm\n",
    "```"
   ]
  },
  {
   "cell_type": "markdown",
   "metadata": {},
   "source": [
    "The state and all the functions related to it are defined outside of the component and are passed to the component as props.\n",
    "\n",
    "Notice that the props are assigned to variables through *destructuring*, which means that instead of writing:"
   ]
  },
  {
   "cell_type": "markdown",
   "metadata": {},
   "source": [
    "```js\n",
    "const LoginForm = (props) => {\n",
    "  return (\n",
    "    <div>\n",
    "      <h2>Login</h2>\n",
    "      <form onSubmit={props.handleSubmit}>\n",
    "        <div>\n",
    "          username\n",
    "          <input\n",
    "            value={props.username}\n",
    "            onChange={props.handleChange}\n",
    "            name=\"username\"\n",
    "          />\n",
    "        </div>\n",
    "        // ...\n",
    "        <button type=\"submit\">login</button>\n",
    "      </form>\n",
    "    </div>\n",
    "  )\n",
    "}\n",
    "```"
   ]
  },
  {
   "cell_type": "markdown",
   "metadata": {},
   "source": [
    "where the properties of the `props` object are accessed through e.g. `props.handleSubmit`, the properties are assigned directly to their own variables.\n",
    "\n",
    "One fast way of implementing the functionality is to change the `loginForm` function of the App component like so:"
   ]
  },
  {
   "cell_type": "markdown",
   "metadata": {},
   "source": [
    "```js\n",
    "const App = () => {\n",
    "\n",
    "  const [loginVisible, setLoginVisible] = useState(false)\n",
    "\n",
    "  // ...\n",
    "\n",
    "  const loginForm = () => {\n",
    "    const hideWhenVisible = { display: loginVisible ? 'none' : '' }\n",
    "    const showWhenVisible = { display: loginVisible ? '' : 'none' }\n",
    "\n",
    "    return (\n",
    "      <div>\n",
    "        <div style={hideWhenVisible}>\n",
    "          <button onClick={() => setLoginVisible(true)}>log in</button>\n",
    "        </div>\n",
    "        <div style={showWhenVisible}>\n",
    "          <LoginForm\n",
    "            username={username}\n",
    "            password={password}\n",
    "            handleUsernameChange={({ target }) => setUsername(target.value)}\n",
    "            handlePasswordChange={({ target }) => setPassword(target.value)}\n",
    "            handleSubmit={handleLogin}\n",
    "          />\n",
    "          <button onClick={() => setLoginVisible(false)}>cancel</button>\n",
    "        </div>\n",
    "      </div>\n",
    "    )\n",
    "  }\n",
    "\n",
    "  // ...\n",
    "}\n",
    "```"
   ]
  },
  {
   "cell_type": "markdown",
   "metadata": {},
   "source": [
    "The *App* component state now contains the boolean *loginVisible*, which defines if the login form should be shown to the user or not.\n",
    "\n",
    "The value of `loginVisible` is toggled with two buttons. Both buttons have their event handlers defined directly in the component:"
   ]
  },
  {
   "cell_type": "markdown",
   "metadata": {},
   "source": [
    "```js\n",
    "<button onClick={() => setLoginVisible(true)}>log in</button>\n",
    "\n",
    "<button onClick={() => setLoginVisible(false)}>cancel</button>\n",
    "```"
   ]
  },
  {
   "cell_type": "markdown",
   "metadata": {},
   "source": [
    "The visibility of the component is defined by *giving* the component an [inline]https://fullstackopen.com/en/part2/adding_styles_to_react_app#inline-styles) style rule, where the value of the [display](https://developer.mozilla.org/en-US/docs/Web/CSS/display) property is *none* if we do not want the component to be displayed:"
   ]
  },
  {
   "cell_type": "markdown",
   "metadata": {},
   "source": [
    "```js\n",
    "const hideWhenVisible = { display: loginVisible ? 'none' : '' }\n",
    "const showWhenVisible = { display: loginVisible ? '' : 'none' }\n",
    "\n",
    "<div style={hideWhenVisible}>\n",
    "  // button\n",
    "</div>\n",
    "\n",
    "<div style={showWhenVisible}>\n",
    "  // button\n",
    "</div>\n",
    "```"
   ]
  },
  {
   "cell_type": "markdown",
   "metadata": {},
   "source": [
    "We are once again using the \"question mark\" ternary operator. If `loginVisible` is *true*, then the CSS rule of the component will be:"
   ]
  },
  {
   "cell_type": "markdown",
   "metadata": {},
   "source": [
    "```js\n",
    "display: 'none';\n",
    "```"
   ]
  },
  {
   "cell_type": "markdown",
   "metadata": {},
   "source": [
    "If `loginVisible` is false, then *display* will not receive any value related to the visibility of the component."
   ]
  },
  {
   "cell_type": "markdown",
   "metadata": {},
   "source": [
    "> ## The components children, aka. props.children"
   ]
  },
  {
   "cell_type": "markdown",
   "metadata": {},
   "source": [
    "The code related to managing the visibility of the login form could be considered to be its own logical entity, and for this reason, it would be good to extract it from the *App* component into a separate component.\n",
    "\n",
    "Our goal is to implement a new *Togglable* component that can be used in the following way:"
   ]
  },
  {
   "cell_type": "markdown",
   "metadata": {},
   "source": [
    "```js\n",
    "<Togglable buttonLabel='login'>\n",
    "  <LoginForm\n",
    "    username={username}\n",
    "    password={password}\n",
    "    handleUsernameChange={({ target }) => setUsername(target.value)}\n",
    "    handlePasswordChange={({ target }) => setPassword(target.value)}\n",
    "    handleSubmit={handleLogin}\n",
    "  />\n",
    "</Togglable>\n",
    "```"
   ]
  },
  {
   "cell_type": "markdown",
   "metadata": {},
   "source": [
    "The way that the component is used is slightly different from our previous components. The component has both opening and closing tags that surround a *LoginForm* component. In React terminology LoginForm is a child component of *Togglable*.\n",
    "\n",
    "We can add any React elements we want between the opening and closing tags of *Togglable*, like this for example:"
   ]
  },
  {
   "cell_type": "markdown",
   "metadata": {},
   "source": [
    "```js\n",
    "<Togglable buttonLabel=\"reveal\">\n",
    "  <p>this line is at start hidden</p>\n",
    "  <p>also this is hidden</p>\n",
    "</Togglable>\n",
    "```"
   ]
  },
  {
   "cell_type": "markdown",
   "metadata": {},
   "source": [
    "The code for the *Togglable* component is shown below:"
   ]
  },
  {
   "cell_type": "markdown",
   "metadata": {},
   "source": [
    "```js\n",
    "import { useState } from 'react'\n",
    "\n",
    "const Togglable = (props) => {\n",
    "  const [visible, setVisible] = useState(false)\n",
    "\n",
    "  const hideWhenVisible = { display: visible ? 'none' : '' }\n",
    "  const showWhenVisible = { display: visible ? '' : 'none' }\n",
    "\n",
    "  const toggleVisibility = () => {\n",
    "    setVisible(!visible)\n",
    "  }\n",
    "\n",
    "  return (\n",
    "    <div>\n",
    "      <div style={hideWhenVisible}>\n",
    "        <button onClick={toggleVisibility}>{props.buttonLabel}</button>\n",
    "      </div>\n",
    "      <div style={showWhenVisible}>\n",
    "        {props.children}\n",
    "        <button onClick={toggleVisibility}>cancel</button>\n",
    "      </div>\n",
    "    </div>\n",
    "  )\n",
    "}\n",
    "\n",
    "export default Togglable\n",
    "```"
   ]
  },
  {
   "cell_type": "markdown",
   "metadata": {},
   "source": [
    "The new and interesting part of the code is [props.children](https://react.dev/learn/passing-props-to-a-component#passing-jsx-as-children), which is used for referencing the child components of the component. The child components are the React elements that we define between the opening and closing tags of a component.\n",
    "\n",
    "This time the children are rendered in the code that is used for rendering the component itself:"
   ]
  },
  {
   "cell_type": "markdown",
   "metadata": {},
   "source": [
    "```js\n",
    "<div style={showWhenVisible}>\n",
    "  {props.children}\n",
    "  <button onClick={toggleVisibility}>cancel</button>\n",
    "</div>\n",
    "```"
   ]
  },
  {
   "cell_type": "markdown",
   "metadata": {},
   "source": [
    "Unlike the \"normal\" props we've seen before, *children* is automatically added by React and always exists. If a component is defined with an automatically closing `/>` tag, like this:"
   ]
  },
  {
   "cell_type": "markdown",
   "metadata": {},
   "source": [
    "```js\n",
    "<Note\n",
    "  key={note.id}\n",
    "  note={note}\n",
    "  toggleImportance={() => toggleImportanceOf(note.id)}\n",
    "/>\n",
    "```"
   ]
  },
  {
   "cell_type": "markdown",
   "metadata": {},
   "source": [
    "Then *props.children* is an empty array.\n",
    "\n",
    "The *Togglable* component is reusable and we can use it to add similar visibility toggling functionality to the form that is used for creating new notes.\n",
    "\n",
    "Before we do that, let's extract the form for creating notes into a component:"
   ]
  },
  {
   "cell_type": "markdown",
   "metadata": {},
   "source": [
    "```js\n",
    "const NoteForm = ({ onSubmit, handleChange, value}) => {\n",
    "  return (\n",
    "    <div>\n",
    "      <h2>Create a new note</h2>\n",
    "\n",
    "      <form onSubmit={onSubmit}>\n",
    "        <input\n",
    "          value={value}\n",
    "          onChange={handleChange}\n",
    "        />\n",
    "        <button type=\"submit\">save</button>\n",
    "      </form>\n",
    "    </div>\n",
    "  )\n",
    "}\n",
    "```"
   ]
  },
  {
   "cell_type": "markdown",
   "metadata": {},
   "source": [
    "Next let's define the form component inside of a *Togglable* component:"
   ]
  },
  {
   "cell_type": "markdown",
   "metadata": {},
   "source": [
    "```js\n",
    "<Togglable buttonLabel=\"new note\">\n",
    "  <NoteForm\n",
    "    onSubmit={addNote}\n",
    "    value={newNote}\n",
    "    handleChange={handleNoteChange}\n",
    "  />\n",
    "</Togglable>\n",
    "```"
   ]
  },
  {
   "cell_type": "markdown",
   "metadata": {},
   "source": [
    "You can find the code for our current application in its entirety in the part5-4 branch of [this GitHub repository](https://github.com/fullstack-hy2020/part2-notes-frontend/tree/part5-4)."
   ]
  },
  {
   "cell_type": "markdown",
   "metadata": {},
   "source": [
    "> ## State of the forms"
   ]
  },
  {
   "cell_type": "markdown",
   "metadata": {},
   "source": [
    "The state of the application currently is in the `App` component.\n",
    "\n",
    "React documentation says the following about where to place the state:\n",
    "\n",
    "*Sometimes, you want the state of two components to always change together. To do it, remove state from both of them, move it to their closest common parent, and then pass it down to them via props. This is known as lifting state up, and it’s one of the most common things you will do writing React code*.\n",
    "\n",
    "If we think about the state of the forms, so for example the contents of a new note before it has been created, the `App` component does not need it for anything. We could just as well move the state of the forms to the corresponding components.\n",
    "\n",
    "The component for creating a new note changes like so:"
   ]
  },
  {
   "cell_type": "markdown",
   "metadata": {},
   "source": [
    "```js\n",
    "import { useState } from 'react'\n",
    "\n",
    "const NoteForm = ({ createNote }) => {\n",
    "  const [newNote, setNewNote] = useState('')\n",
    "\n",
    "  const addNote = (event) => {\n",
    "    event.preventDefault()\n",
    "    createNote({\n",
    "      content: newNote,\n",
    "      important: true\n",
    "    })\n",
    "\n",
    "    setNewNote('')\n",
    "  }\n",
    "\n",
    "  return (\n",
    "    <div>\n",
    "      <h2>Create a new note</h2>\n",
    "\n",
    "      <form onSubmit={addNote}>\n",
    "        <input\n",
    "          value={newNote}\n",
    "          onChange={event => setNewNote(event.target.value)}\n",
    "        />\n",
    "        <button type=\"submit\">save</button>\n",
    "      </form>\n",
    "    </div>\n",
    "  )\n",
    "}\n",
    "\n",
    "export default NoteForm\n",
    "```"
   ]
  },
  {
   "cell_type": "markdown",
   "metadata": {},
   "source": [
    "**NOTE** At the same time, we changed the behavior of the application so that new notes are important by default, i.e. the field *important* gets the value *true*.\n",
    "\n",
    "The *newNote* state variable and the event handler responsible for changing it have been moved from the `App` component to the component responsible for the note form.\n",
    "\n",
    "There is only one prop left, the `createNote` function, which the form calls when a new note is created.\n",
    "\n",
    "The `App` component becomes simpler now that we have got rid of the *newNote* state and its event handler. The `addNote` function for creating new notes receives a new note as a parameter, and the function is the only prop we send to the form:"
   ]
  },
  {
   "cell_type": "markdown",
   "metadata": {},
   "source": [
    "```js\n",
    "const App = () => {\n",
    "  // ...\n",
    "\n",
    "  const addNote = (noteObject) => {\n",
    "    noteService\n",
    "      .create(noteObject)\n",
    "      .then(returnedNote => {\n",
    "        setNotes(notes.concat(returnedNote))\n",
    "      })\n",
    "  }\n",
    "  // ...\n",
    "  const noteForm = () => (\n",
    "    <Togglable buttonLabel='new note'>\n",
    "      <NoteForm createNote={addNote} />\n",
    "    </Togglable>\n",
    "  )\n",
    "\n",
    "  // ...\n",
    "}\n",
    "```"
   ]
  },
  {
   "cell_type": "markdown",
   "metadata": {},
   "source": [
    "We could do the same for the log in form, but we'll leave that for an optional exercise.\n",
    "\n",
    "The application code can be found on [GitHub](https://github.com/fullstack-hy2020/part2-notes-frontend/tree/part5-5), branch part5-5."
   ]
  },
  {
   "cell_type": "markdown",
   "metadata": {},
   "source": [
    "> ## Reference to components with ref"
   ]
  },
  {
   "cell_type": "markdown",
   "metadata": {},
   "source": [
    "Our current implementation is quite good; it has one aspect that could be improved.\n",
    "\n",
    "After a new note is created, it would make sense to hide the new note form. Currently, the form stays visible. There is a slight problem with hiding it, the visibility is controlled with the visible state variable inside of the *Togglable* component.\n",
    "\n",
    "One solution to this would be to move control of the Togglable component's state outside the component. However, we won't do that now, because we want the component to be responsible for its own state. So we have to find another solution, and find a mechanism to change the state of the component externally.\n",
    "\n",
    "There are several different ways to implement access to a component's functions from outside the component, but let's use the [ref](https://react.dev/learn/referencing-values-with-refs) mechanism of React, which offers a reference to the component.\n",
    "\n",
    "Let's make the following changes to the *App* component:"
   ]
  },
  {
   "cell_type": "markdown",
   "metadata": {},
   "source": [
    "```js\n",
    "import { useState, useEffect, useRef } from 'react'\n",
    "\n",
    "const App = () => {\n",
    "  // ...\n",
    "\n",
    "  const noteFormRef = useRef()\n",
    "\n",
    "  const noteForm = () => (\n",
    "\n",
    "    <Togglable buttonLabel='new note' ref={noteFormRef}>\n",
    "      <NoteForm createNote={addNote} />\n",
    "    </Togglable>\n",
    "  )\n",
    "\n",
    "  // ...\n",
    "}\n",
    "```"
   ]
  },
  {
   "cell_type": "markdown",
   "metadata": {},
   "source": [
    "The [useRef](https://react.dev/reference/react/useRef) hook is used to create a *noteFormRef* reference, that is assigned to the *Togglable* component containing the creation note form. The *noteFormRef* variable acts as a reference to the component. This hook ensures the same reference (ref) that is kept throughout re-renders of the component.\n",
    "\n",
    "We also make the following changes to the *Togglable* component:"
   ]
  },
  {
   "cell_type": "markdown",
   "metadata": {},
   "source": [
    "```js\n",
    "import { useState, forwardRef, useImperativeHandle } from 'react'\n",
    "\n",
    "\n",
    "const Togglable = forwardRef((props, refs) => {\n",
    "  const [visible, setVisible] = useState(false)\n",
    "\n",
    "  const hideWhenVisible = { display: visible ? 'none' : '' }\n",
    "  const showWhenVisible = { display: visible ? '' : 'none' }\n",
    "\n",
    "  const toggleVisibility = () => {\n",
    "    setVisible(!visible)\n",
    "  }\n",
    "\n",
    "\n",
    "  useImperativeHandle(refs, () => {\n",
    "    return {\n",
    "      toggleVisibility\n",
    "    }\n",
    "  })\n",
    "\n",
    "  return (\n",
    "    <div>\n",
    "      <div style={hideWhenVisible}>\n",
    "        <button onClick={toggleVisibility}>{props.buttonLabel}</button>\n",
    "      </div>\n",
    "      <div style={showWhenVisible}>\n",
    "        {props.children}\n",
    "        <button onClick={toggleVisibility}>cancel</button>\n",
    "      </div>\n",
    "    </div>\n",
    "  )\n",
    "\n",
    "})\n",
    "\n",
    "export default Togglable\n",
    "```"
   ]
  },
  {
   "cell_type": "markdown",
   "metadata": {},
   "source": [
    "The function that creates the component is wrapped inside of a [forwardRef](https://react.dev/reference/react/forwardRef) function call. This way the component can access the ref that is assigned to it.\n",
    "\n",
    "The component uses the [useImperativeHandle](https://react.dev/reference/react/useImperativeHandle) hook to make its *toggleVisibility* function available outside of the component.\n",
    "\n",
    "We can now hide the form by calling *noteFormRef.current.toggleVisibility()* after a new note has been created:"
   ]
  },
  {
   "cell_type": "markdown",
   "metadata": {},
   "source": [
    "```js\n",
    "const App = () => {\n",
    "  // ...\n",
    "  const addNote = (noteObject) => {\n",
    "\n",
    "    noteFormRef.current.toggleVisibility()\n",
    "    noteService\n",
    "      .create(noteObject)\n",
    "      .then(returnedNote => {     \n",
    "        setNotes(notes.concat(returnedNote))\n",
    "      })\n",
    "  }\n",
    "  // ...\n",
    "}\n",
    "```"
   ]
  },
  {
   "cell_type": "markdown",
   "metadata": {},
   "source": [
    "To recap, the [useImperativeHandle](https://react.dev/reference/react/useImperativeHandle) function is a React hook, that is used for defining functions in a component, which can be invoked from outside of the component.\n",
    "\n",
    "This trick works for changing the state of a component, but it looks a bit unpleasant. We could have accomplished the same functionality with slightly cleaner code using \"old React\" class-based components. We will take a look at these class components during part 7 of the course material. So far this is the only situation where using React hooks leads to code that is not cleaner than with class components.\n",
    "\n",
    "There are also [other use cases](https://react.dev/learn/manipulating-the-dom-with-refs) for refs than accessing React components.\n",
    "\n",
    "You can find the code for our current application in its entirety in the *part5-6* branch of [this GitHub repository](https://github.com/fullstack-hy2020/part2-notes-frontend/tree/part5-6)."
   ]
  },
  {
   "cell_type": "markdown",
   "metadata": {},
   "source": [
    "> ## One point about components"
   ]
  },
  {
   "cell_type": "markdown",
   "metadata": {},
   "source": [
    "When we define a component in React:"
   ]
  },
  {
   "cell_type": "markdown",
   "metadata": {},
   "source": [
    "```js\n",
    "const Togglable = () => ...\n",
    "  // ...\n",
    "}\n",
    "```"
   ]
  },
  {
   "cell_type": "markdown",
   "metadata": {},
   "source": [
    "And use it like this:"
   ]
  },
  {
   "cell_type": "markdown",
   "metadata": {},
   "source": [
    "```js\n",
    "<div>\n",
    "  <Togglable buttonLabel=\"1\" ref={togglable1}>\n",
    "    first\n",
    "  </Togglable>\n",
    "\n",
    "  <Togglable buttonLabel=\"2\" ref={togglable2}>\n",
    "    second\n",
    "  </Togglable>\n",
    "\n",
    "  <Togglable buttonLabel=\"3\" ref={togglable3}>\n",
    "    third\n",
    "  </Togglable>\n",
    "</div>\n",
    "```"
   ]
  },
  {
   "cell_type": "markdown",
   "metadata": {},
   "source": [
    "We create *three separate instances of the component* that all have their separate state:"
   ]
  },
  {
   "cell_type": "markdown",
   "metadata": {},
   "source": [
    "![](./images/image10.png)"
   ]
  },
  {
   "cell_type": "markdown",
   "metadata": {},
   "source": [
    "The ref attribute is used for assigning a reference to each of the components in the variables *togglable1*, *togglable2* and *togglable3*."
   ]
  },
  {
   "cell_type": "markdown",
   "metadata": {},
   "source": [
    "> ## The updated full stack developr's oath"
   ]
  },
  {
   "cell_type": "markdown",
   "metadata": {},
   "source": [
    "The number of moving parts increases. At the same time, the likelihood of ending up in a situation where we are looking for a bug in the wrong place increases. So we need to be even more systematic.\n",
    "\n",
    "So we should once more extend our oath:\n",
    "\n",
    "Full stack development is extremely hard, that is why I will use all the possible means to make it easier\n",
    "\n",
    "- I will have my browser developer console open all the time\n",
    "- I will use the network tab of the browser dev tools to ensure that frontend and backend are communicating as I expect\n",
    "- I will constantly keep an eye on the state of the server to make sure that the data sent there by the frontend is saved there as I expect\n",
    "- I will keep an eye on the database: does the backend save data there in the right format\n",
    "- I progress with small steps\n",
    "- *when I suspect that there is a bug in the frontend, I'll make sure that the backend works as expected*\n",
    "- *when I suspect that there is a bug in the backend, I'll make sure that the frontend works as expected*\n",
    "- I will write lots of `console.log` statements to make sure I understand how the code and the tests behave and to help pinpoint problems\n",
    "- If my code does not work, I will not write more code. Instead, I'll start deleting it until it works or will just return to a state where everything was still working\n",
    "- If a test does not pass, I'll make sure that the tested functionality works properly in the application\n",
    "- When I ask for help in the course Discord channel or elsewhere I formulate my questions properly, see [here](https://fullstackopen.com/en/part0/general_info#how-to-get-help-in-discord) how to ask for help"
   ]
  },
  {
   "cell_type": "markdown",
   "metadata": {},
   "source": [
    "> ## Exercises 5.5. - 5.11."
   ]
  },
  {
   "cell_type": "markdown",
   "metadata": {},
   "source": [
    "> ### 5.5 Blog List Frontend, step 5\n",
    ">\n",
    "> Change the form for creating blog posts so that it is only displayed when appropriate. Use functionality similar to what was shown [earlier in this part of the course material](https://fullstackopen.com/en/part5/props_children_and_proptypes#displaying-the-login-form-only-when-appropriate). If you wish to do so, you can use the *Togglable* component defined in part 5.\n",
    ">\n",
    "> By default the form is not visible"
   ]
  },
  {
   "cell_type": "markdown",
   "metadata": {},
   "source": [
    "> ![](./images/image11.png)"
   ]
  },
  {
   "cell_type": "markdown",
   "metadata": {},
   "source": [
    "> It expands when button create *new blog* is clicked"
   ]
  },
  {
   "cell_type": "markdown",
   "metadata": {},
   "source": [
    "> ![](./images/image12.png)"
   ]
  },
  {
   "cell_type": "markdown",
   "metadata": {},
   "source": [
    "> The form hides again after a new blog is created."
   ]
  },
  {
   "cell_type": "markdown",
   "metadata": {},
   "source": [
    "> ## 5.6 Blog List Frontend, step 6\n",
    ">\n",
    "> Separate the form for creating a new blog into its own component (if you have not already done so), and move all the states required for creating a new blog to this component.\n",
    ">\n",
    "> The component must work like the *NoteForm* component from the [material](https://fullstackopen.com/en/part5/props_children_and_proptypes#state-of-the-forms) of this part.\n",
    ">\n",
    "> ## 5.7 Blog List Frontend, step 7\n",
    "> Let's add a button to each blog, which controls whether all of the details about the blog are shown or not.\n",
    ">\n",
    "> Full details of the blog open when the button is clicked."
   ]
  },
  {
   "cell_type": "markdown",
   "metadata": {},
   "source": [
    "> ![](./images/image13.png)"
   ]
  },
  {
   "cell_type": "markdown",
   "metadata": {},
   "source": [
    "> And the details are hidden when the button is clicked again.\n",
    ">\n",
    "> At this point, the *like* button does not need to do anything.\n",
    ">\n",
    "> The application shown in the picture has a bit of additional CSS to improve its appearance.\n",
    ">\n",
    "> It is easy to add styles to the application as shown in part 2 using [inline](https://fullstackopen.com/en/part2/adding_styles_to_react_app#inline-styles) styles:"
   ]
  },
  {
   "cell_type": "markdown",
   "metadata": {},
   "source": [
    "> ```js\n",
    "> const Blog = ({ blog }) => {\n",
    "> const blogStyle = {\n",
    ">   paddingTop: 10,\n",
    ">   paddingLeft: 2,\n",
    ">   border: 'solid',\n",
    ">   borderWidth: 1,\n",
    ">   marginBottom: 5\n",
    "> }\n",
    ">\n",
    "> return (\n",
    ">\n",
    ">   <div style={blogStyle}>\n",
    ">     <div>\n",
    ">       {blog.title} {blog.author}\n",
    ">     </div>\n",
    ">     // ...\n",
    "> </div>\n",
    "> )}\n",
    "> ```"
   ]
  },
  {
   "cell_type": "markdown",
   "metadata": {},
   "source": [
    "> **NB**: Even though the functionality implemented in this part is almost identical to the functionality provided by the *Togglable* component, it can't be used directly to achieve the desired behavior. The easiest solution would be to add a state to the blog component that controls if the details are being displayed or not."
   ]
  },
  {
   "cell_type": "markdown",
   "metadata": {},
   "source": [
    "> ### 5.8: Blog List Frontend, step 8\n",
    ">\n",
    "> Implement the functionality for the like button. Likes are increased by making an HTTP `PUT` request to the unique address of the blog post in the backend.\n",
    ">\n",
    "> Since the backend operation replaces the entire blog post, you will have to send all of its fields in the request body. If you wanted to add a like to the following blog post:"
   ]
  },
  {
   "cell_type": "markdown",
   "metadata": {},
   "source": [
    "> ```js\n",
    "> {\n",
    ">   _id: \"5a43fde2cbd20b12a2c34e91\",\n",
    ">   user: {\n",
    ">     _id: \"5a43e6b6c37f3d065eaaa581\",\n",
    ">     username: \"mluukkai\",\n",
    ">     name: \"Matti Luukkainen\"\n",
    ">   },\n",
    ">   likes: 0,\n",
    ">   author: \"Joel Spolsky\",\n",
    ">   title: \"The Joel Test: 12 Steps to Better Code\",\n",
    ">   url: \"https://www.joelonsoftware.com/2000/08/09/the-joel-test-12-steps-to-better-code/\"\n",
    "> },\n",
    "> ```"
   ]
  },
  {
   "cell_type": "markdown",
   "metadata": {},
   "source": [
    "> You would have to make an HTTP PUT request to the address */api/blogs/5a43fde2cbd20b12a2c34e91* with the following request data:"
   ]
  },
  {
   "cell_type": "markdown",
   "metadata": {},
   "source": [
    "> ```js\n",
    "> {\n",
    ">   user: \"5a43e6b6c37f3d065eaaa581\",\n",
    ">   likes: 1,\n",
    ">   author: \"Joel Spolsky\",\n",
    ">   title: \"The Joel Test: 12 Steps to Better Code\",\n",
    ">   url: \"https://www.joelonsoftware.com/2000/08/09/the-joel-test-12-steps-to-better-code/\"\n",
    "> }\n",
    "> ```"
   ]
  },
  {
   "cell_type": "markdown",
   "metadata": {},
   "source": [
    ">  The backend has to be updated too to handle the user reference."
   ]
  },
  {
   "cell_type": "markdown",
   "metadata": {},
   "source": [
    "> ### 5.9: Blog List Frontend, step 9\n",
    ">\n",
    "> We notice that something is wrong. When a blog is liked in the app, the name of the user that added the blog is not shown in its details:"
   ]
  },
  {
   "cell_type": "markdown",
   "metadata": {},
   "source": [
    "> ![](./images/image14.png)"
   ]
  },
  {
   "cell_type": "markdown",
   "metadata": {},
   "source": [
    "> When the browser is reloaded, the information of the person is displayed. This is not acceptable, find out where the problem is and make the necessary correction.\n",
    ">\n",
    "> Of course, it is possible that you have already done everything correctly and the problem does not occur in your code. In that case, you can move on.\n",
    ">\n",
    "> ### 5.10: Blog List Frontend, step 10\n",
    ">\n",
    "> Modify the application to sort the blog posts by the number of *likes*. The Sorting can be done with the array [sort](https://developer.mozilla.org/en-US/docs/Web/JavaScript/Reference/Global_Objects/Array/sort) method.\n",
    ">\n",
    "> ### 5.11: Blog List Frontend, step 11\n",
    "> Add a new button for deleting blog posts. Also, implement the logic for deleting blog posts in the frontend.\n",
    ">\n",
    "> Your application could look something like this:"
   ]
  },
  {
   "cell_type": "markdown",
   "metadata": {},
   "source": [
    "> ![](./images/image15.png)"
   ]
  },
  {
   "cell_type": "markdown",
   "metadata": {},
   "source": [
    "> The confirmation dialog for deleting a blog post is easy to implement with the [window.confirm](https://developer.mozilla.org/en-US/docs/Web/API/Window/confirm) function.\n",
    ">\n",
    "> Show the button for deleting a blog post only if the blog post was added by the user."
   ]
  },
  {
   "cell_type": "markdown",
   "metadata": {},
   "source": [
    "> ## PropTypes"
   ]
  },
  {
   "cell_type": "markdown",
   "metadata": {},
   "source": [
    "The *Togglable* component assumes that it is given the text for the button via the *buttonLabel* prop. If we forget to define it to the component:\n",
    "\n",
    "```jsx\n",
    "<Togglable> buttonLabel forgotten... </Togglable>\n",
    "```\n",
    "\n",
    "The application works, but the browser renders a button that has no label text.\n",
    "\n",
    "We would like to enforce that when the *Togglable* component is used, the button label text prop must be given a value.\n",
    "\n",
    "The expected and required props of a component can be defined with the [prop-types](https://github.com/facebook/prop-types) package. Let's install the package:\n",
    "\n",
    "```cmd\n",
    "npm install prop-types\n",
    "```\n",
    "\n",
    "We can define the *buttonLabel* prop as a mandatory or *required* string-type prop as shown below:"
   ]
  },
  {
   "cell_type": "markdown",
   "metadata": {},
   "source": [
    "```jsx\n",
    "import PropTypes from 'prop-types'\n",
    "\n",
    "const Togglable = React.forwardRef((props, ref) => {\n",
    "  // ..\n",
    "})\n",
    "\n",
    "Togglable.propTypes = {\n",
    "  buttonLabel: PropTypes.string.isRequired\n",
    "}\n",
    "```"
   ]
  },
  {
   "cell_type": "markdown",
   "metadata": {},
   "source": [
    "The console will display the following error message if the prop is left undefined:\n",
    "\n"
   ]
  },
  {
   "cell_type": "markdown",
   "metadata": {},
   "source": [
    "![](./images/image16.png)"
   ]
  },
  {
   "cell_type": "markdown",
   "metadata": {},
   "source": [
    "The application still works and nothing forces us to define props despite the PropTypes definitions. Mind you, it is extremely unprofessional to leave *any* red output in the browser console.\n",
    "\n",
    "Let's also define PropTypes to the *LoginForm* component:"
   ]
  },
  {
   "cell_type": "markdown",
   "metadata": {},
   "source": [
    "```js\n",
    "import PropTypes from 'prop-types'\n",
    "\n",
    "const LoginForm = ({\n",
    "   handleSubmit,\n",
    "   handleUsernameChange,\n",
    "   handlePasswordChange,\n",
    "   username,\n",
    "   password\n",
    "  }) => {\n",
    "    // ...\n",
    "  }\n",
    "\n",
    "LoginForm.propTypes = {\n",
    "  handleSubmit: PropTypes.func.isRequired,\n",
    "  handleUsernameChange: PropTypes.func.isRequired,\n",
    "  handlePasswordChange: PropTypes.func.isRequired,\n",
    "  username: PropTypes.string.isRequired,\n",
    "  password: PropTypes.string.isRequired\n",
    "}\n",
    "```"
   ]
  },
  {
   "cell_type": "markdown",
   "metadata": {},
   "source": [
    "If the type of a passed prop is wrong, e.g. if we try to define the *handleSubmit* prop as a string, then this will result in the following warning:"
   ]
  },
  {
   "cell_type": "markdown",
   "metadata": {},
   "source": [
    "![](./images/image17.png)"
   ]
  },
  {
   "cell_type": "markdown",
   "metadata": {},
   "source": [
    "> ## ESlint"
   ]
  },
  {
   "cell_type": "markdown",
   "metadata": {},
   "source": [
    "In part 3 we configured the [ESlint](https://fullstackopen.com/en/part3/validation_and_es_lint#lint) code style tool to the backend. Let's take ESlint to use in the frontend as well.\n",
    "\n",
    "Vite has installed ESlint to the project by default, so all that's left for us to do is define our desired configuration in the *.eslintrc.cjs* file.\n",
    "\n",
    "Let's create a *.eslintrc.cjs* file with the following contents:"
   ]
  },
  {
   "cell_type": "markdown",
   "metadata": {},
   "source": [
    "```js\n",
    "module.exports = {\n",
    "  root: true,\n",
    "  env: {\n",
    "    browser: true,\n",
    "    es2020: true,\n",
    "  },\n",
    "  extends: [\n",
    "    'eslint:recommended',\n",
    "    'plugin:react/recommended',\n",
    "    'plugin:react/jsx-runtime',\n",
    "    'plugin:react-hooks/recommended',\n",
    "  ],\n",
    "  ignorePatterns: ['dist', '.eslintrc.cjs'],\n",
    "  parserOptions: { ecmaVersion: 'latest', sourceType: 'module' },\n",
    "  settings: { react: { version: '18.2' } },\n",
    "  plugins: ['react-refresh'],\n",
    "  rules: {\n",
    "    \"indent\": [\n",
    "        \"error\",\n",
    "        2  \n",
    "    ],\n",
    "    \"linebreak-style\": [\n",
    "        \"error\",\n",
    "        \"unix\"\n",
    "    ],\n",
    "    \"quotes\": [\n",
    "        \"error\",\n",
    "        \"single\"\n",
    "    ],\n",
    "    \"semi\": [\n",
    "        \"error\",\n",
    "        \"never\"\n",
    "    ],\n",
    "    \"eqeqeq\": \"error\",\n",
    "    \"no-trailing-spaces\": \"error\",\n",
    "    \"object-curly-spacing\": [\n",
    "        \"error\", \"always\"\n",
    "    ],\n",
    "    \"arrow-spacing\": [\n",
    "        \"error\", { \"before\": true, \"after\": true }\n",
    "    ],\n",
    "    \"no-console\": 0,\n",
    "    \"react/react-in-jsx-scope\": \"off\",\n",
    "    \"react/prop-types\": 0,\n",
    "    \"no-unused-vars\": 0    \n",
    "  },\n",
    "}\n",
    "```"
   ]
  },
  {
   "cell_type": "markdown",
   "metadata": {},
   "source": [
    "NOTE: If you are using Visual Studio Code together with ESLint plugin, you might need to add a workspace setting for it to work. If you are seeing `Failed to load plugin react: Cannot find module 'eslint-plugin-react'` additional configuration is needed. Adding the line `\"eslint.workingDirectories\": [{ \"mode\": \"auto\" }]` to settings.json in the workspace seems to work. See [here](https://github.com/microsoft/vscode-eslint/issues/880#issuecomment-578052807) for more information.\n",
    "\n",
    "Let's create [.eslintignore](https://eslint.org/docs/latest/use/configure/ignore#the-eslintignore-file) file with the following contents to the repository root\n",
    "\n",
    "```cmd\n",
    "node_modules\n",
    "dist\n",
    ".eslintrc.cjs\n",
    "vite.config.js\n",
    "```\n",
    "\n",
    "Now the directories `dist` and `node_modules` will be skipped when linting.\n",
    "\n",
    "As usual, you can perform the linting either from the command line with the command\n",
    "\n",
    "```cmd\n",
    "npm run lint\n",
    "```\n",
    "\n",
    "or using the editor's Eslint plugin.\n",
    "\n",
    "Component `Togglable` causes a nasty-looking warning *Component definition is missing display name*:\n",
    "\n"
   ]
  },
  {
   "cell_type": "markdown",
   "metadata": {},
   "source": [
    "![](./images/image18.png)"
   ]
  },
  {
   "cell_type": "markdown",
   "metadata": {},
   "source": [
    "The react-devtools also reveals that the component does not have a name:"
   ]
  },
  {
   "cell_type": "markdown",
   "metadata": {},
   "source": [
    "![](./images/image19.png)"
   ]
  },
  {
   "cell_type": "markdown",
   "metadata": {},
   "source": [
    "Fortunately, this is easy to fix\n",
    "\n",
    "```js\n",
    "import { useState, useImperativeHandle } from 'react'\n",
    "import PropTypes from 'prop-types'\n",
    "\n",
    "const Togglable = React.forwardRef((props, ref) => {\n",
    "  // ...\n",
    "})\n",
    "\n",
    "Togglable.displayName = 'Togglable'\n",
    "\n",
    "export default Togglable\n",
    "```\n",
    "\n",
    "You can find the code for our current application in its entirety in the *part5-7* branch of [this GitHub repository](https://github.com/fullstack-hy2020/part2-notes-frontend/tree/part5-7)."
   ]
  },
  {
   "cell_type": "markdown",
   "metadata": {},
   "source": [
    "> ## Exercise 5.12.\n",
    ">\n",
    "> ### 5.12: Blog List Frontend, step 12\n",
    ">\n",
    "> Define PropTypes for one of the components of your application, and add ESlint to the project. Define the configuration according to your liking. Fix all of the linter errors.\n",
    ">\n",
    "> Vite has installed ESlint to the project by default, so all that's left for you to do is define your desired configuration in the *.eslintrc.cjs* file."
   ]
  },
  {
   "cell_type": "markdown",
   "metadata": {},
   "source": []
  }
 ],
 "metadata": {
  "language_info": {
   "name": "python"
  }
 },
 "nbformat": 4,
 "nbformat_minor": 2
}
