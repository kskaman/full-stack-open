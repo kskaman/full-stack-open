{
 "cells": [
  {
   "cell_type": "markdown",
   "metadata": {},
   "source": [
    "> # Testing React apps"
   ]
  },
  {
   "cell_type": "markdown",
   "metadata": {},
   "source": [
    "There are many different ways of testing React applications. Let's take a look at them next.\n",
    "\n",
    "The course previously used the [Jest](https://jestjs.io/) library developed by Facebook to test React components. We are now using the new generation of testing tools from Vite developers called [Vitest](https://vitest.dev/). Apart from the configurations, the libraries provide the same programming interface, so there is virtually no difference in the test code.\n",
    "\n",
    "Let's start by installing Vitest and the [jsdom](https://github.com/jsdom/jsdom) library simulating a web browser:"
   ]
  },
  {
   "cell_type": "markdown",
   "metadata": {},
   "source": [
    "```cmd\n",
    "npm install --save-dev vitest jsdom\n",
    "```"
   ]
  },
  {
   "cell_type": "markdown",
   "metadata": {},
   "source": [
    "In addition to Vitest, we also need another testing library that will help us render components for testing purposes. The current best option for this is [react-testing-library](https://github.com/testing-library/react-testing-library) which has seen rapid growth in popularity in recent times. It is also worth extending the expressive power of the tests with the library [jest-dom](https://github.com/testing-library/jest-dom).\n",
    "\n",
    "Let's install the libraries with the command:"
   ]
  },
  {
   "cell_type": "markdown",
   "metadata": {},
   "source": [
    "```cmd\n",
    "npm install --save-dev @testing-library/react @testing-library/jest-dom\n",
    "```"
   ]
  },
  {
   "cell_type": "markdown",
   "metadata": {},
   "source": [
    "Before we can do the first test, we need some configurations.\n",
    "\n",
    "We add a script to the *package.json* file to run the tests:"
   ]
  },
  {
   "cell_type": "markdown",
   "metadata": {},
   "source": [
    "```json\n",
    "{\n",
    "  \"scripts\": {\n",
    "    // ...\n",
    "    \"test\": \"vitest run\"\n",
    "  }\n",
    "  // ...\n",
    "}\n",
    "```"
   ]
  },
  {
   "cell_type": "markdown",
   "metadata": {},
   "source": [
    "Let's create a file `testSetup.js` in the project root with the following content"
   ]
  },
  {
   "cell_type": "markdown",
   "metadata": {},
   "source": [
    "```js\n",
    "import { afterEach } from 'vitest'\n",
    "import { cleanup } from '@testing-library/react'\n",
    "import '@testing-library/jest-dom/vitest'\n",
    "\n",
    "afterEach(() => {\n",
    "  cleanup()\n",
    "})\n",
    "```"
   ]
  },
  {
   "cell_type": "markdown",
   "metadata": {},
   "source": [
    "Now, after each test, the function `cleanup` is executed to reset jsdom, which is simulating the browser.\n",
    "\n",
    "Expand the `vite.config.js` file as follows"
   ]
  },
  {
   "cell_type": "markdown",
   "metadata": {},
   "source": [
    "```js\n",
    "export default defineConfig({\n",
    "  // ...\n",
    "  test: {\n",
    "    environment: 'jsdom',\n",
    "    globals: true,\n",
    "    setupFiles: './testSetup.js', \n",
    "  }\n",
    "})\n",
    "```"
   ]
  },
  {
   "cell_type": "markdown",
   "metadata": {},
   "source": [
    "With `globals: true`, there is no need to import keywords such as `describe`, `test` and `expect` into the tests.\n",
    "\n",
    "Let's first write tests for the component that is responsible for rendering a note:"
   ]
  },
  {
   "cell_type": "markdown",
   "metadata": {},
   "source": [
    "```js\n",
    "const Note = ({ note, toggleImportance }) => {\n",
    "  const label = note.important\n",
    "    ? 'make not important'\n",
    "    : 'make important'\n",
    "\n",
    "  return (\n",
    "\n",
    "    <li className='note'>\n",
    "      {note.content}\n",
    "      <button onClick={toggleImportance}>{label}</button>\n",
    "    </li>\n",
    "  )\n",
    "}\n",
    "```"
   ]
  },
  {
   "cell_type": "markdown",
   "metadata": {},
   "source": [
    "Notice that the *li* element has the value *note* for the [CSS](https://react.dev/learn#adding-styles) attribute className, that could be used to access the component in our tests."
   ]
  },
  {
   "cell_type": "markdown",
   "metadata": {},
   "source": [
    "> ## Rendering the component for tests"
   ]
  },
  {
   "cell_type": "markdown",
   "metadata": {},
   "source": [
    "We will write our test in the *src/components/Note.test.jsx* file, which is in the same directory as the component itself.\n",
    "\n",
    "The first test verifies that the component renders the contents of the note:"
   ]
  },
  {
   "cell_type": "markdown",
   "metadata": {},
   "source": [
    "```js\n",
    "import { render, screen } from '@testing-library/react'\n",
    "import Note from './Note'\n",
    "\n",
    "test('renders content', () => {\n",
    "  const note = {\n",
    "    content: 'Component testing is done with react-testing-library',\n",
    "    important: true\n",
    "  }\n",
    "\n",
    "  render(<Note note={note} />)\n",
    "\n",
    "  const element = screen.getByText('Component testing is done with react-testing-library')\n",
    "  expect(element).toBeDefined()\n",
    "})\n",
    "```"
   ]
  },
  {
   "cell_type": "markdown",
   "metadata": {},
   "source": [
    "After the initial configuration, the test renders the component with the [render](https://testing-library.com/docs/react-testing-library/api/#render) function provided by the react-testing-library:"
   ]
  },
  {
   "cell_type": "markdown",
   "metadata": {},
   "source": [
    "```js\n",
    "render(<Note note={note} />)\n",
    "```"
   ]
  },
  {
   "cell_type": "markdown",
   "metadata": {},
   "source": [
    "Normally React components are rendered to the [DOM](https://developer.mozilla.org/en-US/docs/Web/API/Document_Object_Model). The render method we used renders the components in a format that is suitable for tests without rendering them to the DOM.\n",
    "\n",
    "We can use the object [screen](https://testing-library.com/docs/queries/about/#screen) to access the rendered component. We use screen's method [getByText](https://testing-library.com/docs/queries/bytext/) to search for an element that has the note content and ensure that it exists:"
   ]
  },
  {
   "cell_type": "markdown",
   "metadata": {},
   "source": [
    "```js\n",
    "  const element = screen.getByText('Component testing is done with react-testing-library')\n",
    "  expect(element).toBeDefined()\n",
    "```"
   ]
  },
  {
   "cell_type": "markdown",
   "metadata": {},
   "source": [
    "The existence of an element is checked using Vitest's [expect](https://vitest.dev/api/expect.html#expect) command. Expect generates an assertion for its argument, the validity of which can be tested using various condition functions. Now we used [toBeDefined](https://vitest.dev/api/expect.html#tobedefined) which tests whether the `element` argument of expect exists.\n",
    "\n",
    "Run the test with command `npm test`:"
   ]
  },
  {
   "cell_type": "markdown",
   "metadata": {},
   "source": [
    "```cmd\n",
    "$ npm test\n",
    "\n",
    "> notes-frontend@0.0.0 test\n",
    "> vitest\n",
    "\n",
    "\n",
    " DEV  v1.3.1 /Users/mluukkai/opetus/2024-fs/part3/notes-frontend\n",
    "\n",
    " ✓ src/components/Note.test.jsx (1)\n",
    "   ✓ renders content\n",
    "\n",
    " Test Files  1 passed (1)\n",
    "      Tests  1 passed (1)\n",
    "   Start at  17:05:37\n",
    "   Duration  812ms (transform 31ms, setup 220ms, collect 11ms, tests 14ms, environment 395ms, prepare 70ms)\n",
    "\n",
    "\n",
    " PASS  Waiting for file changes...\n",
    "```"
   ]
  },
  {
   "cell_type": "markdown",
   "metadata": {},
   "source": [
    "Eslint complains about the keywords `test` and `expect` in the tests. The problem can be solved by installing [eslint-plugin-vitest-globals](https://www.npmjs.com/package/eslint-plugin-vitest-globals):"
   ]
  },
  {
   "cell_type": "markdown",
   "metadata": {},
   "source": [
    "```cmd\n",
    "npm install --save-dev eslint-plugin-vitest-globals\n",
    "```"
   ]
  },
  {
   "cell_type": "markdown",
   "metadata": {},
   "source": [
    "and enable the plugin by editing the `.eslintrc.cjs` file as follows:"
   ]
  },
  {
   "cell_type": "markdown",
   "metadata": {},
   "source": [
    "```js\n",
    "module.exports = {\n",
    "  root: true,\n",
    "  env: {\n",
    "    browser: true,\n",
    "    es2020: true,\n",
    "\n",
    "    \"vitest-globals/env\": true\n",
    "  },\n",
    "  extends: [\n",
    "    'eslint:recommended',\n",
    "    'plugin:react/recommended',\n",
    "    'plugin:react/jsx-runtime',\n",
    "    'plugin:react-hooks/recommended',\n",
    "\n",
    "    'plugin:vitest-globals/recommended',\n",
    "  ],\n",
    "  // ...\n",
    "}\n",
    "```"
   ]
  },
  {
   "cell_type": "markdown",
   "metadata": {},
   "source": [
    "> ## Test file location"
   ]
  },
  {
   "cell_type": "markdown",
   "metadata": {},
   "source": [
    "In React there are (at least) [two different conventions](https://jefflongbeard.medium.com/organizing-tests-in-jest-17fc431ff850) for the test file's location. We created our test files according to the current standard by placing them in the same directory as the component being tested.\n",
    "\n",
    "The other convention is to store the test files \"normally\" in a separate `test` directory. Whichever convention we choose, it is almost guaranteed to be wrong according to someone's opinion.\n",
    "\n",
    "I do not like this way of storing tests and application code in the same directory. The reason we choose to follow this convention is that it is configured by default in applications created by Vite or create-react-app."
   ]
  },
  {
   "cell_type": "markdown",
   "metadata": {},
   "source": [
    "> ## Searching for content in a component"
   ]
  },
  {
   "cell_type": "markdown",
   "metadata": {},
   "source": [
    "The react-testing-library package offers many different ways of investigating the content of the component being tested. In reality, the `expect` in our test is not needed at all:"
   ]
  },
  {
   "cell_type": "markdown",
   "metadata": {},
   "source": [
    "```js\n",
    "import { render, screen } from '@testing-library/react'\n",
    "import Note from './Note'\n",
    "\n",
    "test('renders content', () => {\n",
    "  const note = {\n",
    "    content: 'Component testing is done with react-testing-library',\n",
    "    important: true\n",
    "  }\n",
    "\n",
    "  render(<Note note={note} />)\n",
    "\n",
    "  const element = screen.getByText('Component testing is done with react-testing-library')\n",
    "\n",
    "\n",
    "  expect(element).toBeDefined()\n",
    "})\n",
    "```"
   ]
  },
  {
   "cell_type": "markdown",
   "metadata": {},
   "source": [
    "Test fails if `getByText` does not find the element it is looking for.\n",
    "\n",
    "We could also use [CSS-selectors](https://developer.mozilla.org/en-US/docs/Web/CSS/CSS_selectors) to find rendered elements by using the method [querySelector](https://developer.mozilla.org/en-US/docs/Web/API/Document/querySelector) of the object [container](https://testing-library.com/docs/react-testing-library/api/#container-1) that is one of the fields returned by the render:"
   ]
  },
  {
   "cell_type": "markdown",
   "metadata": {},
   "source": [
    "```js\n",
    "import { render, screen } from '@testing-library/react'\n",
    "import Note from './Note'\n",
    "\n",
    "test('renders content', () => {\n",
    "  const note = {\n",
    "    content: 'Component testing is done with react-testing-library',\n",
    "    important: true\n",
    "  }\n",
    "\n",
    "\n",
    "  const { container } = render(<Note note={note} />)\n",
    "\n",
    "\n",
    "  const div = container.querySelector('.note')\n",
    "  expect(div).toHaveTextContent(\n",
    "    'Component testing is done with react-testing-library'\n",
    "  )\n",
    "})\n",
    "```"
   ]
  },
  {
   "cell_type": "markdown",
   "metadata": {},
   "source": [
    "**NB**: A more consistent way of selecting elements is using a [data attribute](https://developer.mozilla.org/en-US/docs/Web/HTML/Global_attributes/data-*) that is specifically defined for testing purposes. Using `react-testing-library`, we can leverage the [getByTestId](https://testing-library.com/docs/queries/bytestid/) method to select elements with a specified `data-testid` attribute."
   ]
  },
  {
   "cell_type": "markdown",
   "metadata": {},
   "source": [
    "> ## Debugging tests"
   ]
  },
  {
   "cell_type": "markdown",
   "metadata": {},
   "source": [
    "We typically run into many different kinds of problems when writing our tests.\n",
    "\n",
    "Object `screen` has method [debug](https://testing-library.com/docs/dom-testing-library/api-debugging/#screendebug) that can be used to print the HTML of a component to the terminal. If we change the test as follows:"
   ]
  },
  {
   "cell_type": "markdown",
   "metadata": {},
   "source": [
    "```js\n",
    "import { render, screen } from '@testing-library/react'\n",
    "import Note from './Note'\n",
    "\n",
    "test('renders content', () => {\n",
    "  const note = {\n",
    "    content: 'Component testing is done with react-testing-library',\n",
    "    important: true\n",
    "  }\n",
    "\n",
    "  render(<Note note={note} />)\n",
    "\n",
    "\n",
    "  screen.debug()\n",
    "\n",
    "  // ...\n",
    "\n",
    "})\n",
    "```"
   ]
  },
  {
   "cell_type": "markdown",
   "metadata": {},
   "source": [
    "the HTML gets printed to the console:"
   ]
  },
  {
   "cell_type": "markdown",
   "metadata": {},
   "source": [
    "```js\n",
    "console.log\n",
    "  <body>\n",
    "    <div>\n",
    "      <li\n",
    "        class=\"note\"\n",
    "      >\n",
    "        Component testing is done with react-testing-library\n",
    "        <button>\n",
    "          make not important\n",
    "        </button>\n",
    "      </li>\n",
    "    </div>\n",
    "  </body>\n",
    "```"
   ]
  },
  {
   "cell_type": "markdown",
   "metadata": {},
   "source": [
    "It is also possible to use the same method to print a wanted element to console:"
   ]
  },
  {
   "cell_type": "markdown",
   "metadata": {},
   "source": [
    "```js\n",
    "import { render, screen } from '@testing-library/react'\n",
    "import Note from './Note'\n",
    "\n",
    "test('renders content', () => {\n",
    "  const note = {\n",
    "    content: 'Component testing is done with react-testing-library',\n",
    "    important: true\n",
    "  }\n",
    "\n",
    "  render(<Note note={note} />)\n",
    "\n",
    "  const element = screen.getByText('Component testing is done with react-testing-library')\n",
    "\n",
    "\n",
    "  screen.debug(element)\n",
    "\n",
    "  expect(element).toBeDefined()\n",
    "})\n",
    "```"
   ]
  },
  {
   "cell_type": "markdown",
   "metadata": {},
   "source": [
    "Now the HTML of the wanted element gets printed:"
   ]
  },
  {
   "cell_type": "markdown",
   "metadata": {},
   "source": [
    "```js\n",
    "  <li\n",
    "    class=\"note\"\n",
    "  >\n",
    "    Component testing is done with react-testing-library\n",
    "    <button>\n",
    "      make not important\n",
    "    </button>\n",
    "  </li>\n",
    "```"
   ]
  },
  {
   "cell_type": "markdown",
   "metadata": {},
   "source": [
    "> ## Clicking buttons in tests"
   ]
  },
  {
   "cell_type": "markdown",
   "metadata": {},
   "source": [
    "In addition to displaying content, the *Note* component also makes sure that when the button associated with the note is pressed, the `toggleImportance` event handler function gets called.\n",
    "\n",
    "Let us install a library [user-event](https://testing-library.com/docs/user-event/intro/) that makes simulating user input a bit easier:"
   ]
  },
  {
   "cell_type": "markdown",
   "metadata": {},
   "source": [
    "```cmd\n",
    "npm install --save-dev @testing-library/user-event\n",
    "```"
   ]
  },
  {
   "cell_type": "markdown",
   "metadata": {},
   "source": [
    "Testing this functionality can be accomplished like this:"
   ]
  },
  {
   "cell_type": "markdown",
   "metadata": {},
   "source": [
    "```jsx\n",
    "import { render, screen } from '@testing-library/react'\n",
    "\n",
    "import userEvent from '@testing-library/user-event'\n",
    "import Note from './Note'\n",
    "\n",
    "// ...\n",
    "\n",
    "test('clicking the button calls event handler once', async () => {\n",
    "  const note = {\n",
    "    content: 'Component testing is done with react-testing-library',\n",
    "    important: true\n",
    "  }\n",
    "  \n",
    "\n",
    "  const mockHandler = vi.fn()\n",
    "\n",
    "  render(\n",
    "\n",
    "    <Note note={note} toggleImportance={mockHandler} />\n",
    "  )\n",
    "\n",
    "\n",
    "  const user = userEvent.setup()\n",
    "  const button = screen.getByText('make not important')\n",
    "  await user.click(button)\n",
    "\n",
    "\n",
    "  expect(mockHandler.mock.calls).toHaveLength(1)\n",
    "})\n",
    "```"
   ]
  },
  {
   "cell_type": "markdown",
   "metadata": {},
   "source": [
    "There are a few interesting things related to this test. The event handler is a [mock](https://vitest.dev/api/mock) function defined with Vitest:"
   ]
  },
  {
   "cell_type": "markdown",
   "metadata": {},
   "source": [
    "```cmd\n",
    "const mockHandler = vi.fn()\n",
    "```"
   ]
  },
  {
   "cell_type": "markdown",
   "metadata": {},
   "source": [
    "A [session](https://testing-library.com/docs/user-event/setup/) is started to interact with the rendered component:"
   ]
  },
  {
   "cell_type": "markdown",
   "metadata": {},
   "source": [
    "```cmd\n",
    "const user = userEvent.setup()\n",
    "```"
   ]
  },
  {
   "cell_type": "markdown",
   "metadata": {},
   "source": [
    "The test finds the button *based on the text* from the rendered component and clicks the element:"
   ]
  },
  {
   "cell_type": "markdown",
   "metadata": {},
   "source": [
    "```js\n",
    "const button = screen.getByText('make not important')\n",
    "await user.click(button)\n",
    "```"
   ]
  },
  {
   "cell_type": "markdown",
   "metadata": {},
   "source": [
    "Clicking happens with the method [click](https://testing-library.com/docs/user-event/convenience/#click) of the userEvent-library.\n",
    "\n",
    "The expectation of the test uses [toHaveLength](https://vitest.dev/api/expect.html#tohavelength) to verify that the mock function has been called exactly once:"
   ]
  },
  {
   "cell_type": "markdown",
   "metadata": {},
   "source": [
    "```js\n",
    "expect(mockHandler.mock.calls).toHaveLength(1)\n",
    "```"
   ]
  },
  {
   "cell_type": "markdown",
   "metadata": {},
   "source": [
    "The calls to the mock function are saved to the array [mock.calls](https://vitest.dev/api/mock#mock-calls) within the mock function object.\n",
    "\n",
    "[Mock objects and functions](https://en.wikipedia.org/wiki/Mock_object) are commonly used [stub](https://en.wikipedia.org/wiki/Method_stub) components in testing that are used for replacing dependencies of the components being tested. Mocks make it possible to return hardcoded responses, and to verify the number of times the mock functions are called and with what parameters.\n",
    "\n",
    "In our example, the mock function is a perfect choice since it can be easily used for verifying that the method gets called exactly once."
   ]
  },
  {
   "cell_type": "markdown",
   "metadata": {},
   "source": [
    "> ## Tests for the *Togglable* component"
   ]
  },
  {
   "cell_type": "markdown",
   "metadata": {},
   "source": [
    "Let's write a few tests for the *Togglable* component. Let's add the *togglableContent* CSS classname to the div that returns the child components."
   ]
  },
  {
   "cell_type": "markdown",
   "metadata": {},
   "source": [
    "```js\n",
    "const Togglable = forwardRef((props, ref) => {\n",
    "  // ...\n",
    "\n",
    "  return (\n",
    "    <div>\n",
    "      <div style={hideWhenVisible}>\n",
    "        <button onClick={toggleVisibility}>\n",
    "          {props.buttonLabel}\n",
    "        </button>\n",
    "      </div>\n",
    "\n",
    "      <div style={showWhenVisible} className=\"togglableContent\">\n",
    "        {props.children}\n",
    "        <button onClick={toggleVisibility}>cancel</button>\n",
    "      </div>\n",
    "    </div>\n",
    "  )\n",
    "})\n",
    "```"
   ]
  },
  {
   "cell_type": "markdown",
   "metadata": {},
   "source": [
    "The tests are shown below:"
   ]
  },
  {
   "cell_type": "markdown",
   "metadata": {},
   "source": [
    "```js\n",
    "import { render, screen } from '@testing-library/react'\n",
    "import userEvent from '@testing-library/user-event'\n",
    "import Togglable from './Togglable'\n",
    "\n",
    "describe('<Togglable />', () => {\n",
    "  let container\n",
    "\n",
    "  beforeEach(() => {\n",
    "    container = render(\n",
    "      <Togglable buttonLabel=\"show...\">\n",
    "        <div className=\"testDiv\" >\n",
    "          togglable content\n",
    "        </div>\n",
    "      </Togglable>\n",
    "    ).container\n",
    "  })\n",
    "\n",
    "  test('renders its children', async () => {\n",
    "    await screen.findAllByText('togglable content')\n",
    "  })\n",
    "\n",
    "  test('at start the children are not displayed', () => {\n",
    "    const div = container.querySelector('.togglableContent')\n",
    "    expect(div).toHaveStyle('display: none')\n",
    "  })\n",
    "\n",
    "  test('after clicking the button, children are displayed', async () => {\n",
    "    const user = userEvent.setup()\n",
    "    const button = screen.getByText('show...')\n",
    "    await user.click(button)\n",
    "\n",
    "    const div = container.querySelector('.togglableContent')\n",
    "    expect(div).not.toHaveStyle('display: none')\n",
    "  })\n",
    "})\n",
    "```"
   ]
  },
  {
   "cell_type": "markdown",
   "metadata": {},
   "source": [
    "The `beforeEach` function gets called before each test, which then renders the Togglable component and saves the field `container` of the returned value.\n",
    "\n",
    "The first test verifies that the *Togglable* component renders its child component"
   ]
  },
  {
   "cell_type": "markdown",
   "metadata": {},
   "source": [
    "```js\n",
    "<div className=\"testDiv\">\n",
    "  togglable content\n",
    "</div>\n",
    "```"
   ]
  },
  {
   "cell_type": "markdown",
   "metadata": {},
   "source": [
    "The remaining tests use the [toHaveStyle](https://www.npmjs.com/package/@testing-library/jest-dom#tohavestyle) method to verify that the child component of the *Togglable* component is not visible initially, by checking that the style of the *div* element contains `{ display: 'none' }`. Another test verifies that when the button is pressed the component is visible, meaning that the style for hiding it *is no longer* assigned to the component.\n",
    "\n",
    "Let's also add a test that can be used to verify that the visible content can be hidden by clicking the second button of the component:"
   ]
  },
  {
   "cell_type": "markdown",
   "metadata": {},
   "source": [
    "```js\n",
    "describe('<Togglable />', () => {\n",
    "\n",
    "  // ...\n",
    "\n",
    "  test('toggled content can be closed', async () => {\n",
    "    const user = userEvent.setup()\n",
    "    const button = screen.getByText('show...')\n",
    "    await user.click(button)\n",
    "\n",
    "    const closeButton = screen.getByText('cancel')\n",
    "    await user.click(closeButton)\n",
    "\n",
    "    const div = container.querySelector('.togglableContent')\n",
    "    expect(div).toHaveStyle('display: none')\n",
    "  })\n",
    "})\n",
    "```"
   ]
  },
  {
   "cell_type": "markdown",
   "metadata": {},
   "source": [
    "> ## Testing the forms"
   ]
  },
  {
   "cell_type": "markdown",
   "metadata": {},
   "source": [
    "We already used the `click` function of the [user-event](https://testing-library.com/docs/user-event/intro/) in our previous tests to click buttons."
   ]
  },
  {
   "cell_type": "markdown",
   "metadata": {},
   "source": [
    "```js\n",
    "const user = userEvent.setup()\n",
    "const button = screen.getByText('show...')\n",
    "await user.click(button)\n",
    "```"
   ]
  },
  {
   "cell_type": "markdown",
   "metadata": {},
   "source": [
    "We can also simulate text input with *userEvent*.\n",
    "\n",
    "Let's make a test for the *NoteForm* component. The code of the component is as follows."
   ]
  },
  {
   "cell_type": "markdown",
   "metadata": {},
   "source": [
    "```js\n",
    "import { useState } from 'react'\n",
    "\n",
    "const NoteForm = ({ createNote }) => {\n",
    "  const [newNote, setNewNote] = useState('')\n",
    "\n",
    "  const handleChange = (event) => {\n",
    "    setNewNote(event.target.value)\n",
    "  }\n",
    "\n",
    "  const addNote = (event) => {\n",
    "    event.preventDefault()\n",
    "    createNote({\n",
    "      content: newNote,\n",
    "      important: true,\n",
    "    })\n",
    "\n",
    "    setNewNote('')\n",
    "  }\n",
    "\n",
    "  return (\n",
    "    <div className=\"formDiv\">\n",
    "      <h2>Create a new note</h2>\n",
    "\n",
    "      <form onSubmit={addNote}>\n",
    "        <input\n",
    "          value={newNote}\n",
    "          onChange={handleChange}\n",
    "        />\n",
    "        <button type=\"submit\">save</button>\n",
    "      </form>\n",
    "    </div>\n",
    "  )\n",
    "}\n",
    "\n",
    "export default NoteForm\n",
    "```"
   ]
  },
  {
   "cell_type": "markdown",
   "metadata": {},
   "source": [
    "The form works by calling the function received as props `createNote`, with the details of the new note.\n",
    "\n",
    "The test is as follows:"
   ]
  },
  {
   "cell_type": "markdown",
   "metadata": {},
   "source": [
    "```js\n",
    "import { render, screen } from '@testing-library/react'\n",
    "import NoteForm from './NoteForm'\n",
    "import userEvent from '@testing-library/user-event'\n",
    "\n",
    "test('<NoteForm /> updates parent state and calls onSubmit', async () => {\n",
    "  const createNote = vi.fn()\n",
    "  const user = userEvent.setup()\n",
    "\n",
    "  render(<NoteForm createNote={createNote} />)\n",
    "\n",
    "  const input = screen.getByRole('textbox')\n",
    "  const sendButton = screen.getByText('save')\n",
    "\n",
    "  await user.type(input, 'testing a form...')\n",
    "  await user.click(sendButton)\n",
    "\n",
    "  expect(createNote.mock.calls).toHaveLength(1)\n",
    "  expect(createNote.mock.calls[0][0].content).toBe('testing a form...')\n",
    "})\n",
    "```"
   ]
  },
  {
   "cell_type": "markdown",
   "metadata": {},
   "source": [
    "Tests get access to the input field using the function [getByRole](https://testing-library.com/docs/queries/byrole/).\n",
    "\n",
    "The method [type](https://testing-library.com/docs/user-event/utility/#type) of the userEvent is used to write text to the input field.\n",
    "\n",
    "The first test expectation ensures that submitting the form calls the `createNote` method. The second expectation checks that the event handler is called with the right parameters - that a note with the correct content is created when the form is filled.\n",
    "\n",
    "It's worth noting that the good old `console.log` works as usual in the tests. For example, if you want to see what the calls stored by the mock-object look like, you can do the following"
   ]
  },
  {
   "cell_type": "markdown",
   "metadata": {},
   "source": [
    "```js\n",
    "test('<NoteForm /> updates parent state and calls onSubmit', async() => {\n",
    "  const user = userEvent.setup()\n",
    "  const createNote = vi.fn()\n",
    "\n",
    "  render(<NoteForm createNote={createNote} />)\n",
    "\n",
    "  const input = screen.getByRole('textbox')\n",
    "  const sendButton = screen.getByText('save')\n",
    "\n",
    "  await user.type(input, 'testing a form...')\n",
    "  await user.click(sendButton)\n",
    "\n",
    "\n",
    "  console.log(createNote.mock.calls)\n",
    "})\n",
    "```"
   ]
  },
  {
   "cell_type": "markdown",
   "metadata": {},
   "source": [
    "In the middle of running the tests, the following is printed in the console:"
   ]
  },
  {
   "cell_type": "markdown",
   "metadata": {},
   "source": [
    "```js\n",
    "[ [ { content: 'testing a form...', important: true } ] ]\n",
    "```"
   ]
  },
  {
   "cell_type": "markdown",
   "metadata": {},
   "source": [
    "> ## About finding the elements"
   ]
  },
  {
   "cell_type": "markdown",
   "metadata": {},
   "source": [
    "Let us assume that the form has two input fields"
   ]
  },
  {
   "cell_type": "markdown",
   "metadata": {},
   "source": [
    "```js\n",
    "const NoteForm = ({ createNote }) => {\n",
    "  // ...\n",
    "\n",
    "  return (\n",
    "    <div className=\"formDiv\">\n",
    "      <h2>Create a new note</h2>\n",
    "\n",
    "      <form onSubmit={addNote}>\n",
    "        <input\n",
    "          value={newNote}\n",
    "          onChange={handleChange}\n",
    "        />\n",
    "\n",
    "        <input\n",
    "          value={...}\n",
    "          onChange={...}\n",
    "        />\n",
    "        <button type=\"submit\">save</button>\n",
    "      </form>\n",
    "    </div>\n",
    "  )\n",
    "}\n",
    "```"
   ]
  },
  {
   "cell_type": "markdown",
   "metadata": {},
   "source": [
    "Now the approach that our test uses to find the input field"
   ]
  },
  {
   "cell_type": "markdown",
   "metadata": {},
   "source": [
    "```js\n",
    "const input = screen.getByRole('textbox')\n",
    "```"
   ]
  },
  {
   "cell_type": "markdown",
   "metadata": {},
   "source": [
    "would cause an error:"
   ]
  },
  {
   "cell_type": "markdown",
   "metadata": {},
   "source": [
    "![](./images/image20.png)"
   ]
  },
  {
   "cell_type": "markdown",
   "metadata": {},
   "source": [
    "The error message suggests using getAllByRole. The test could be fixed as follows:"
   ]
  },
  {
   "cell_type": "markdown",
   "metadata": {},
   "source": [
    "```js\n",
    "const inputs = screen.getAllByRole('textbox')\n",
    "\n",
    "await user.type(inputs[0], 'testing a form...')\n",
    "```"
   ]
  },
  {
   "cell_type": "markdown",
   "metadata": {},
   "source": [
    "Method *getAllByRole* now returns an array and the right input field is the first element of the array. However, this approach is a bit suspicious since it relies on the order of the input fields.\n",
    "\n",
    "Quite often input fields have a *placeholder* text that hints user what kind of input is expected. Let us add a placeholder to our form:"
   ]
  },
  {
   "cell_type": "markdown",
   "metadata": {},
   "source": [
    "```js\n",
    "const NoteForm = ({ createNote }) => {\n",
    "  // ...\n",
    "\n",
    "  return (\n",
    "    <div className=\"formDiv\">\n",
    "      <h2>Create a new note</h2>\n",
    "\n",
    "      <form onSubmit={addNote}>\n",
    "        <input\n",
    "          value={newNote}\n",
    "          onChange={handleChange}\n",
    "\n",
    "          placeholder='write note content here'\n",
    "        />\n",
    "        <input\n",
    "          value={...}\n",
    "          onChange={...}\n",
    "        />    \n",
    "        <button type=\"submit\">save</button>\n",
    "      </form>\n",
    "    </div>\n",
    "  )\n",
    "}\n",
    "```"
   ]
  },
  {
   "cell_type": "markdown",
   "metadata": {},
   "source": [
    "Now finding the right input field is easy with the method [getByPlaceholderText](https://testing-library.com/docs/queries/byplaceholdertext/):"
   ]
  },
  {
   "cell_type": "markdown",
   "metadata": {},
   "source": [
    "```js\n",
    "test('<NoteForm /> updates parent state and calls onSubmit', () => {\n",
    "  const createNote = vi.fn()\n",
    "\n",
    "  render(<NoteForm createNote={createNote} />) \n",
    "\n",
    "\n",
    "  const input = screen.getByPlaceholderText('write note content here')\n",
    "  const sendButton = screen.getByText('save')\n",
    "\n",
    "  userEvent.type(input, 'testing a form...')\n",
    "  userEvent.click(sendButton)\n",
    "\n",
    "  expect(createNote.mock.calls).toHaveLength(1)\n",
    "  expect(createNote.mock.calls[0][0].content).toBe('testing a form...')\n",
    "})\n",
    "```"
   ]
  },
  {
   "cell_type": "markdown",
   "metadata": {},
   "source": [
    "The most flexible way of finding elements in tests is the method `querySelector` of the `container` object, which is returned by `render`, as was mentioned [earlier in this part](https://fullstackopen.com/en/part5/testing_react_apps#searching-for-content-in-a-component). Any CSS selector can be used with this method for searching elements in tests.\n",
    "\n",
    "Consider eg. that we would define a unique `id` to the input field:"
   ]
  },
  {
   "cell_type": "markdown",
   "metadata": {},
   "source": [
    "```js\n",
    "const NoteForm = ({ createNote }) => {\n",
    "  // ...\n",
    "\n",
    "  return (\n",
    "    <div className=\"formDiv\">\n",
    "      <h2>Create a new note</h2>\n",
    "\n",
    "      <form onSubmit={addNote}>\n",
    "        <input\n",
    "          value={newNote}\n",
    "          onChange={handleChange}\n",
    "\n",
    "          id='note-input'\n",
    "        />\n",
    "        <input\n",
    "          value={...}\n",
    "          onChange={...}\n",
    "        />    \n",
    "        <button type=\"submit\">save</button>\n",
    "      </form>\n",
    "    </div>\n",
    "  )\n",
    "}\n",
    "```"
   ]
  },
  {
   "cell_type": "markdown",
   "metadata": {},
   "source": [
    "The input element could now be found in the test as follows:"
   ]
  },
  {
   "cell_type": "markdown",
   "metadata": {},
   "source": [
    "```js\n",
    "const { container } = render(<NoteForm createNote={createNote} />)\n",
    "\n",
    "const input = container.querySelector('#note-input')\n",
    "```"
   ]
  },
  {
   "cell_type": "markdown",
   "metadata": {},
   "source": [
    "However, we shall stick to the approach of using `getByPlaceholderText` in the test.\n",
    "\n",
    "Let us look at a couple of details before moving on. Let us assume that a component would render text to an HTML element as follows:"
   ]
  },
  {
   "cell_type": "markdown",
   "metadata": {},
   "source": [
    "```js\n",
    "const Note = ({ note, toggleImportance }) => {\n",
    "  const label = note.important\n",
    "    ? 'make not important' : 'make important'\n",
    "\n",
    "  return (\n",
    "    <li className='note'>\n",
    "\n",
    "      Your awesome note: {note.content}\n",
    "      <button onClick={toggleImportance}>{label}</button>\n",
    "    </li>\n",
    "  )\n",
    "}\n",
    "\n",
    "export default Note\n",
    "```"
   ]
  },
  {
   "cell_type": "markdown",
   "metadata": {},
   "source": [
    "the `getByText` method that the test uses does *not* find the element"
   ]
  },
  {
   "cell_type": "markdown",
   "metadata": {},
   "source": [
    "```js\n",
    "test('renders content', () => {\n",
    "  const note = {\n",
    "    content: 'Does not work anymore :(',\n",
    "    important: true\n",
    "  }\n",
    "\n",
    "  render(<Note note={note} />)\n",
    "\n",
    "  const element = screen.getByText('Does not work anymore :(')\n",
    "\n",
    "  expect(element).toBeDefined()\n",
    "})\n",
    "```"
   ]
  },
  {
   "cell_type": "markdown",
   "metadata": {},
   "source": [
    "The `getByText` method looks for an element that has the **same text** that it has as a parameter, and nothing more. If we want to look for an element that *contains* the text, we could use an extra option:"
   ]
  },
  {
   "cell_type": "markdown",
   "metadata": {},
   "source": [
    "```js\n",
    "const element = screen.getByText(\n",
    "  'Does not work anymore :(', { exact: false }\n",
    ")\n",
    "```"
   ]
  },
  {
   "cell_type": "markdown",
   "metadata": {},
   "source": [
    "or we could use the `findByText` method:"
   ]
  },
  {
   "cell_type": "markdown",
   "metadata": {},
   "source": [
    "```js\n",
    "const element = await screen.findByText('Does not work anymore :(')\n",
    "```"
   ]
  },
  {
   "cell_type": "markdown",
   "metadata": {},
   "source": [
    "It is important to notice that, unlike the other `ByText` methods, `findByText` returns a promise!\n",
    "\n",
    "There are situations where yet another form of the `queryByText` method is useful. The method returns the element but *it does not cause an exception* if it is not found.\n",
    "\n",
    "We could eg. use the method to ensure that something is *not rendered* to the component:"
   ]
  },
  {
   "cell_type": "markdown",
   "metadata": {},
   "source": [
    "```js\n",
    "test('does not render this', () => {\n",
    "  const note = {\n",
    "    content: 'This is a reminder',\n",
    "    important: true\n",
    "  }\n",
    "\n",
    "  render(<Note note={note} />)\n",
    "\n",
    "  const element = screen.queryByText('do not want this thing to be rendered')\n",
    "  expect(element).toBeNull()\n",
    "})\n",
    "```"
   ]
  },
  {
   "cell_type": "markdown",
   "metadata": {},
   "source": [
    "> ## Test coverage"
   ]
  },
  {
   "cell_type": "markdown",
   "metadata": {},
   "source": [
    "We can easily find out the [coverage](https://vitest.dev/guide/coverage.html#coverage) of our tests by running them with the command."
   ]
  },
  {
   "cell_type": "markdown",
   "metadata": {},
   "source": [
    "```cmd\n",
    "npm test -- --coverage\n",
    "```"
   ]
  },
  {
   "cell_type": "markdown",
   "metadata": {},
   "source": [
    "The first time you run the command, Vitest will ask you if you want to install the required library `@vitest/coverage-v8`. Install it, and run the command again:"
   ]
  },
  {
   "cell_type": "markdown",
   "metadata": {},
   "source": [
    "![](./images/image21.png)"
   ]
  },
  {
   "cell_type": "markdown",
   "metadata": {},
   "source": [
    "A HTML report will be generated to the *coverage* directory. The report will tell us the lines of untested code in each component:"
   ]
  },
  {
   "cell_type": "markdown",
   "metadata": {},
   "source": [
    "![](./images/image22.png)"
   ]
  },
  {
   "cell_type": "markdown",
   "metadata": {},
   "source": [
    "You can find the code for our current application in its entirety in the *part5-8* branch of [this GitHub repository](https://github.com/fullstack-hy2020/part2-notes-frontend/tree/part5-8)."
   ]
  },
  {
   "cell_type": "markdown",
   "metadata": {},
   "source": [
    "> ## Exercises 5.13.-5.16.\n",
    ">\n",
    "> ### 5.13: Blog List Tests, step 1\n",
    ">\n",
    "> Make a test, which checks that the component displaying a blog renders the blog's title and author, but does not render its URL or number of likes by default.\n",
    ">\n",
    "> Add CSS classes to the component to help the testing as necessary.\n",
    ">\n",
    "> ### 5.14: Blog List Tests, step 2\n",
    ">\n",
    "> Make a test, which checks that the blog's URL and number of likes are shown when the button controlling the shown details has been clicked.\n",
    ">\n",
    "> ### 5.15: Blog List Tests, step 3\n",
    ">\n",
    "> Make a test, which ensures that if the *like* button is clicked twice, the event handler the component received as props is called twice.\n",
    ">\n",
    "> ### 5.16: Blog List Tests, step 4\n",
    ">\n",
    "> Make a test for the new blog form. The test should check, that the form calls the event handler it received as props with the right details when a new blog is created."
   ]
  },
  {
   "cell_type": "markdown",
   "metadata": {},
   "source": [
    "> ## Frontend integration tests"
   ]
  },
  {
   "cell_type": "markdown",
   "metadata": {},
   "source": [
    "In the previous part of the course material, we wrote integration tests for the backend that tested its logic and connected the database through the API provided by the backend. When writing these tests, we made the conscious decision not to write unit tests, as the code for that backend is fairly simple, and it is likely that bugs in our application occur in more complicated scenarios than unit tests are well suited for.\n",
    "\n",
    "So far all of our tests for the frontend have been unit tests that have validated the correct functioning of individual components. Unit testing is useful at times, but even a comprehensive suite of unit tests is not enough to validate that the application works as a whole.\n",
    "\n",
    "We could also make integration tests for the frontend. Integration testing tests the collaboration of multiple components. It is considerably more difficult than unit testing, as we would have to for example mock data from the server. We chose to concentrate on making end-to-end tests to test the whole application. We will work on the end-to-end tests in the last chapter of this part."
   ]
  },
  {
   "cell_type": "markdown",
   "metadata": {},
   "source": [
    "> ## Snapshot testing"
   ]
  },
  {
   "cell_type": "markdown",
   "metadata": {},
   "source": [
    "Vitest offers a completely different alternative to \"traditional\" testing called [snapshot](https://vitest.dev/guide/snapshot) testing. The interesting feature of snapshot testing is that developers do not need to define any tests themselves, it is simple enough to adopt snapshot testing.\n",
    "\n",
    "The fundamental principle is to compare the HTML code defined by the component after it has changed to the HTML code that existed before it was changed.\n",
    "\n",
    "If the snapshot notices some change in the HTML defined by the component, then either it is new functionality or a \"bug\" caused by accident. Snapshot tests notify the developer if the HTML code of the component changes. The developer has to tell Vitest if the change was desired or undesired. If the change to the HTML code is unexpected, it strongly implies a bug, and the developer can become aware of these potential issues easily thanks to snapshot testing."
   ]
  },
  {
   "cell_type": "markdown",
   "metadata": {},
   "source": []
  }
 ],
 "metadata": {
  "language_info": {
   "name": "python"
  }
 },
 "nbformat": 4,
 "nbformat_minor": 2
}
