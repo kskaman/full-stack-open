{
 "cells": [
  {
   "cell_type": "markdown",
   "metadata": {},
   "source": [
    "> # Structure of backend application, introduction to testing"
   ]
  },
  {
   "cell_type": "markdown",
   "metadata": {},
   "source": [
    "Let's continue our work on the backend of the notes application we started in [part 3]().\n",
    "\n",
    "> ## Project structure\n",
    "\n",
    "**Note**: this course material was written with version v20.11.0 of Node.js. Please make sure that your version of Node is at least as new as the version used in the material (you can check the version by running `node -v` in the command line).\n",
    "\n",
    "Before we move into the topic of testing, we will modify the structure of our project to adhere to Node.js best practices.\n",
    "\n",
    "Once we make the changes to the directory structure of our project, we will end up with the following structure:"
   ]
  },
  {
   "cell_type": "markdown",
   "metadata": {},
   "source": [
    "```cmd\n",
    "├── index.js\n",
    "├── app.js\n",
    "├── dist\n",
    "│   └── ...\n",
    "├── controllers\n",
    "│   └── notes.js\n",
    "├── models\n",
    "│   └── note.js\n",
    "├── package-lock.json\n",
    "├── package.json\n",
    "├── utils\n",
    "│   ├── config.js\n",
    "│   ├── logger.js\n",
    "│   └── middleware.js  \n",
    "```"
   ]
  },
  {
   "cell_type": "markdown",
   "metadata": {},
   "source": [
    "So far we have been using console.log and console.error to print different information from the code. However, this is not a very good way to do things. Let's separate all printing to the console to its own module *utils/logger.js*:\n",
    "\n",
    "```js\n",
    "const info = (...params) => {\n",
    "  console.log(...params)\n",
    "}\n",
    "\n",
    "const error = (...params) => {\n",
    "  console.error(...params)\n",
    "}\n",
    "\n",
    "module.exports = {\n",
    "  info, error\n",
    "}\n",
    "```\n",
    "\n",
    "The logger has two functions, **info** for printing normal log messages, and **error** for all error messages."
   ]
  },
  {
   "cell_type": "markdown",
   "metadata": {},
   "source": [
    "Extracting logging into its own module is a good idea in several ways. If we wanted to start writing logs to a file or send them to an external logging service like [graylog](https://graylog.org/) or [papertrail](https://www.papertrail.com/) we would only have to make changes in one place.\n",
    "\n",
    "The handling of environment variables is extracted into a separate *utils/config.js* file:\n",
    "\n",
    "```jsx\n",
    "require('dotenv').config()\n",
    "\n",
    "const PORT = process.env.PORT\n",
    "const MONGODB_URI = process.env.MONGODB_URI\n",
    "\n",
    "module.exports = {\n",
    "  MONGODB_URI,\n",
    "  PORT\n",
    "}\n",
    "```\n",
    "The other parts of the application can access the environment variables by importing the configuration module:\n",
    "\n",
    "```jsx\n",
    "const config = require('./utils/config')\n",
    "\n",
    "logger.info(`Server running on port ${config.PORT}`)\n",
    "```"
   ]
  },
  {
   "cell_type": "markdown",
   "metadata": {},
   "source": [
    "The contents of the *index.js* file used for starting the application gets simplified as follows:\n",
    "\n",
    "```jsx\n",
    "const app = require('./app') // the actual Express application\n",
    "const config = require('./utils/config')\n",
    "const logger = require('./utils/logger')\n",
    "\n",
    "app.listen(config.PORT, () => {\n",
    "  logger.info(`Server running on port ${config.PORT}`)\n",
    "})\n",
    "```\n",
    "The *index.js* file only imports the actual application from the *app.js* file and then starts the application. The function `info` of the logger-module is used for the console printout telling that the application is running.\n",
    "\n",
    "Now the Express app and the code taking care of the web server are separated from each other following the [best](chatgpt.com/gpts) practices. One of the advantages of this method is that the application can now be tested at the level of HTTP API calls without actually making calls via HTTP over the network, this makes the execution of tests faster.\n",
    "\n",
    "The route handlers have also been moved into a dedicated module. The event handlers of routes are commonly referred to as *controllers*, and for this reason we have created a new *controllers* directory. All of the routes related to notes are now in the *notes.js* module under the *controllers* directory."
   ]
  },
  {
   "cell_type": "markdown",
   "metadata": {},
   "source": [
    "The contents of the notes.js module are the following:"
   ]
  },
  {
   "cell_type": "markdown",
   "metadata": {},
   "source": [
    "```js\n",
    "const notesRouter = require('express').Router()\n",
    "const Note = require('../models/note')\n",
    "\n",
    "notesRouter.get('/', (request, response) => {\n",
    "  Note.find({}).then(notes => {\n",
    "    response.json(notes)\n",
    "  })\n",
    "})\n",
    "\n",
    "notesRouter.get('/:id', (request, response, next) => {\n",
    "  Note.findById(request.params.id)\n",
    "    .then(note => {\n",
    "      if (note) {\n",
    "        response.json(note)\n",
    "      } else {\n",
    "        response.status(404).end()\n",
    "      }\n",
    "    })\n",
    "    .catch(error => next(error))\n",
    "})\n",
    "\n",
    "notesRouter.post('/', (request, response, next) => {\n",
    "  const body = request.body\n",
    "\n",
    "  const note = new Note({\n",
    "    content: body.content,\n",
    "    important: body.important || false,\n",
    "  })\n",
    "\n",
    "  note.save()\n",
    "    .then(savedNote => {\n",
    "      response.json(savedNote)\n",
    "    })\n",
    "    .catch(error => next(error))\n",
    "})\n",
    "\n",
    "notesRouter.delete('/:id', (request, response, next) => {\n",
    "  Note.findByIdAndDelete(request.params.id)\n",
    "    .then(() => {\n",
    "      response.status(204).end()\n",
    "    })\n",
    "    .catch(error => next(error))\n",
    "})\n",
    "\n",
    "notesRouter.put('/:id', (request, response, next) => {\n",
    "  const body = request.body\n",
    "\n",
    "  const note = {\n",
    "    content: body.content,\n",
    "    important: body.important,\n",
    "  }\n",
    "\n",
    "  Note.findByIdAndUpdate(request.params.id, note, { new: true })\n",
    "    .then(updatedNote => {\n",
    "      response.json(updatedNote)\n",
    "    })\n",
    "    .catch(error => next(error))\n",
    "})\n",
    "\n",
    "module.exports = notesRouter\n",
    "```"
   ]
  },
  {
   "cell_type": "markdown",
   "metadata": {},
   "source": [
    "This is almost an exact copy-paste of our previous *index.js* file.\n",
    "\n",
    "However, there are a few significant changes. At the very beginning of the file we create a new router object:\n",
    "```js\n",
    "const notesRouter = require('express').Router()\n",
    "\n",
    "//...\n",
    "\n",
    "module.exports = notesRouter\n",
    "```\n",
    "The module exports the router to be available for all consumers of the module.\n",
    "\n",
    "All routes are now defined for the router object, similar to what was done before with the object representing the entire application.\n",
    "\n",
    "It's worth noting that the paths in the route handlers have shortened. In the previous version, we had:\n",
    "```js\n",
    "app.delete('/api/notes/:id', (request, response, next) => {\n",
    "```\n",
    "And in the current version, we have:\n",
    "\n",
    "```js\n",
    "notesRouter.delete('/:id', (request, response, next) => {\n",
    "```"
   ]
  },
  {
   "cell_type": "markdown",
   "metadata": {},
   "source": [
    "So what are these router objects exactly? The Express manual provides the following explanation:\n",
    "\n",
    "> A router object is an isolated instance of middleware and routes. You can think of it as a “mini-application,” capable only of performing middleware and routing functions. Every Express application has a built-in app router.\n",
    "\n",
    "The router is in fact a *middleware*, that can be used for defining \"related routes\" in a single place, which is typically placed in its own module.\n",
    "\n",
    "The *app.js* file that creates the actual application takes the router into use as shown below:\n",
    "\n",
    "```js\n",
    "const notesRouter = require('./controllers/notes')\n",
    "app.use('/api/notes', notesRouter)\n",
    "```\n",
    "The router we defined earlier is used if the URL of the request starts with */api/notes*. For this reason, the notesRouter object must only define the relative parts of the routes, i.e. the empty path / or just the parameter */:id.*"
   ]
  },
  {
   "cell_type": "markdown",
   "metadata": {},
   "source": [
    "After making these changes, our *app.js* file looks like this:"
   ]
  },
  {
   "cell_type": "markdown",
   "metadata": {},
   "source": [
    "```js\n",
    "const config = require('./utils/config')\n",
    "const express = require('express')\n",
    "const app = express()\n",
    "const cors = require('cors')\n",
    "const notesRouter = require('./controllers/notes')\n",
    "const middleware = require('./utils/middleware')\n",
    "const logger = require('./utils/logger')\n",
    "const mongoose = require('mongoose')\n",
    "\n",
    "mongoose.set('strictQuery', false)\n",
    "\n",
    "logger.info('connecting to', config.MONGODB_URI)\n",
    "\n",
    "mongoose.connect(config.MONGODB_URI)\n",
    "  .then(() => {\n",
    "    logger.info('connected to MongoDB')\n",
    "  })\n",
    "  .catch((error) => {\n",
    "    logger.error('error connecting to MongoDB:', error.message)\n",
    "  })\n",
    "\n",
    "app.use(cors())\n",
    "app.use(express.static('dist'))\n",
    "app.use(express.json())\n",
    "app.use(middleware.requestLogger)\n",
    "\n",
    "app.use('/api/notes', notesRouter)\n",
    "\n",
    "app.use(middleware.unknownEndpoint)\n",
    "app.use(middleware.errorHandler)\n",
    "\n",
    "module.exports = app\n",
    "```"
   ]
  },
  {
   "cell_type": "markdown",
   "metadata": {},
   "source": [
    "The file takes different middleware into use, and one of these is the *notesRouter* that is attached to the */api/notes* route.\n",
    "\n",
    "Our custom middleware has been moved to a new *utils/middleware.js* module:"
   ]
  },
  {
   "cell_type": "markdown",
   "metadata": {},
   "source": [
    "```js\n",
    "const logger = require('./logger')\n",
    "\n",
    "const requestLogger = (request, response, next) => {\n",
    "  logger.info('Method:', request.method)\n",
    "  logger.info('Path:  ', request.path)\n",
    "  logger.info('Body:  ', request.body)\n",
    "  logger.info('---')\n",
    "  next()\n",
    "}\n",
    "\n",
    "const unknownEndpoint = (request, response) => {\n",
    "  response.status(404).send({ error: 'unknown endpoint' })\n",
    "}\n",
    "\n",
    "const errorHandler = (error, request, response, next) => {\n",
    "  logger.error(error.message)\n",
    "\n",
    "  if (error.name === 'CastError') {\n",
    "    return response.status(400).send({ error: 'malformatted id' })\n",
    "  } else if (error.name === 'ValidationError') {\n",
    "    return response.status(400).json({ error: error.message })\n",
    "  }\n",
    "\n",
    "  next(error)\n",
    "}\n",
    "\n",
    "module.exports = {\n",
    "  requestLogger,\n",
    "  unknownEndpoint,\n",
    "  errorHandler\n",
    "}\n",
    "```"
   ]
  },
  {
   "cell_type": "markdown",
   "metadata": {},
   "source": [
    "The responsibility of establishing the connection to the database has been given to the *app.js* module. The *note.js* file under the models directory only defines the Mongoose schema for notes.\n",
    "```js\n",
    "const mongoose = require('mongoose')\n",
    "\n",
    "const noteSchema = new mongoose.Schema({\n",
    "  content: {\n",
    "    type: String,\n",
    "    required: true,\n",
    "    minlength: 5\n",
    "  },\n",
    "  important: Boolean,\n",
    "})\n",
    "\n",
    "noteSchema.set('toJSON', {\n",
    "  transform: (document, returnedObject) => {\n",
    "    returnedObject.id = returnedObject._id.toString()\n",
    "    delete returnedObject._id\n",
    "    delete returnedObject.__v\n",
    "  }\n",
    "})\n",
    "\n",
    "module.exports = mongoose.model('Note', noteSchema)\n",
    "```"
   ]
  },
  {
   "cell_type": "markdown",
   "metadata": {},
   "source": [
    "To recap, the directory structure looks like this after the changes have been made:\n",
    "\n",
    "```cmd\n",
    "├── index.js\n",
    "├── app.js\n",
    "├── dist\n",
    "│   └── ...\n",
    "├── controllers\n",
    "│   └── notes.js\n",
    "├── models\n",
    "│   └── note.js\n",
    "├── package-lock.json\n",
    "├── package.json\n",
    "├── utils\n",
    "│   ├── config.js\n",
    "│   ├── logger.js\n",
    "│   └── middleware.js  \n",
    "```"
   ]
  },
  {
   "cell_type": "markdown",
   "metadata": {},
   "source": [
    "For smaller applications, the structure does not matter that much. Once the application starts to grow in size, you are going to have to establish some kind of structure and separate the different responsibilities of the application into separate modules. This will make developing the application much easier.\n",
    "\n",
    "There is no strict directory structure or file naming convention that is required for Express applications. In contrast, Ruby on Rails does require a specific structure. Our current structure simply follows some of the best practices that you can come across on the internet.\n",
    "\n",
    "You can find the code for our current application in its entirety in the part4-1 branch of [this GitHub repository](https://github.com/fullstack-hy2020/part3-notes-backend/tree/part4-1).\n",
    "\n",
    "If you clone the project for yourself, run the `npm install` command before starting the application with `npm run dev`."
   ]
  },
  {
   "cell_type": "markdown",
   "metadata": {},
   "source": [
    "> ## Note on exports"
   ]
  },
  {
   "cell_type": "markdown",
   "metadata": {},
   "source": [
    "We have used two different kinds of exports in this part. Firstly, e.g. the file *utils/logger.js* does the export as follows:\n",
    "```js\n",
    "const info = (...params) => {\n",
    "  console.log(...params)\n",
    "}\n",
    "\n",
    "const error = (...params) => {\n",
    "  console.error(...params)\n",
    "}\n",
    "\n",
    "module.exports = {\n",
    "  info, error\n",
    "}\n",
    "```\n",
    "The file exports *an object* that has two fields, both of which are functions. The functions can be used in two different ways. The first option is to require the whole object and refer to functions through the object using the dot notation:\n",
    "```js\n",
    "const logger = require('./utils/logger')\n",
    "\n",
    "logger.info('message')\n",
    "\n",
    "logger.error('error message')\n",
    "```"
   ]
  },
  {
   "cell_type": "markdown",
   "metadata": {},
   "source": [
    "The other option is to destructure the functions to their own variables in the *require* statement:\n",
    "```js\n",
    "const { info, error } = require('./utils/logger')\n",
    "\n",
    "info('message')\n",
    "error('error message')\n",
    "```\n",
    "The second way of exporting may be preferable if only a small portion of the exported functions are used in a file. E.g. in file *controller/notes.js* exporting happens as follows:\n",
    "\n",
    "```js\n",
    "const notesRouter = require('express').Router()\n",
    "const Note = require('../models/note')\n",
    "\n",
    "// ...\n",
    "\n",
    "module.exports = notesRouter\n",
    "```"
   ]
  },
  {
   "cell_type": "markdown",
   "metadata": {},
   "source": [
    "In this case, there is just one \"thing\" exported, so the only way to use it is the following:\n",
    "```js\n",
    "const notesRouter = require('./controllers/notes')\n",
    "\n",
    "// ...\n",
    "\n",
    "app.use('/api/notes', notesRouter)\n",
    "```\n",
    "Now the exported \"thing\" (in this case a router object) is assigned to a variable and used as such."
   ]
  },
  {
   "cell_type": "markdown",
   "metadata": {},
   "source": [
    "> ### Finding the usages of your exports with VS Code\n",
    "VS Code has a handy feature that allows you to see where your modules have been exported. This can be very helpful for refactoring. For example, if you decide to split a function into two separate functions, your code could break if you don't modify all the usages. This is difficult if you don't know where they are. However, you need to define your exports in a particular way for this to work.\n",
    "\n",
    "If you right-click on a variable in the location it is exported from and select \"Find All References\", it will show you everywhere the variable is imported. However, if you assign an object directly to module.exports, it will not work. A workaround is to assign the object you want to export to a named variable and then export the named variable. It also will not work if you destructure where you are importing; you have to import the named variable and then destructure, or just use dot notation to use the functions contained in the named variable.\n",
    "\n",
    "The nature of VS Code bleeding into how you write your code is probably not ideal, so you need to decide for yourself if the trade-off is worthwhile."
   ]
  },
  {
   "cell_type": "markdown",
   "metadata": {},
   "source": [
    "> ## Exercises 4.1.-4.2.\n",
    ">\n",
    "> **Note**: this course material was written with version v20.11.0 of Node.js. Please make sure that your version of Node is at least as new as the version used in the material (you can check the version by running `node -v` in the command line).\n",
    ">\n",
    "> In the exercises for this part, we will be building a *blog list application*, that allows users to save information about interesting blogs they have stumbled across on the internet. For each listed blog we will save the author, title, URL, and amount of upvotes from users of the application."
   ]
  },
  {
   "cell_type": "markdown",
   "metadata": {},
   "source": [
    "> ### 4.1 Blog List, step 1\n",
    "> Let's imagine a situation, where you receive an email that contains the following application body and instructions:"
   ]
  },
  {
   "cell_type": "markdown",
   "metadata": {},
   "source": [
    "> ```js\n",
    "> const express = require('express')\n",
    "> const app = express()\n",
    "> const cors = require('cors')\n",
    "> const mongoose = require('mongoose')\n",
    "> \n",
    "> const blogSchema = new mongoose.Schema({\n",
    ">   title: String,\n",
    ">   author: String,\n",
    ">   url: String,\n",
    ">   likes: Number\n",
    "> })\n",
    "> \n",
    "> const Blog = mongoose.model('Blog', blogSchema)\n",
    "> \n",
    "> const mongoUrl = 'mongodb://localhost/bloglist'\n",
    "> mongoose.connect(mongoUrl)\n",
    "> \n",
    "> app.use(cors())\n",
    "> app.use(express.json())\n",
    "> \n",
    "> app.get('/api/blogs', (request, response) => {\n",
    ">   Blog\n",
    ">     .find({})\n",
    ">     .then(blogs => {\n",
    ">       response.json(blogs)\n",
    ">     })\n",
    "> })\n",
    "> \n",
    "> app.post('/api/blogs', (request, response) => {\n",
    ">   const blog = new Blog(request.body)\n",
    "> \n",
    ">   blog\n",
    ">     .save()\n",
    ">     .then(result => {\n",
    ">       response.status(201).json(result)\n",
    ">     })\n",
    "> })\n",
    ">\n",
    "> const PORT = 3003\n",
    "> app.listen(PORT, () => {\n",
    ">   console.log(`Server running on port ${PORT}`)\n",
    "> })\n",
    "> ```"
   ]
  },
  {
   "cell_type": "markdown",
   "metadata": {},
   "source": [
    "> Turn the application into a functioning *npm* project. To keep your development productive, configure the application to be executed with *nodemon*. You can create a new database for your application with MongoDB Atlas, or use the same database from the previous part's exercises.\n",
    ">\n",
    "> Verify that it is possible to add blogs to the list with Postman or the VS Code REST client and that the application returns the added blogs at the correct endpoint."
   ]
  },
  {
   "cell_type": "markdown",
   "metadata": {},
   "source": [
    "> ### 4.2 Blog List, step 2\n",
    "> Refactor the application into separate modules as shown earlier in this part of the course material.\n",
    ">\n",
    "> **NB** refactor your application in baby steps and verify that it works after every change you make. If you try to take a \"shortcut\" by refactoring many things at once, then [Murphy's law](https://en.wikipedia.org/wiki/Murphy%27s_law) will kick in and it is almost certain that something will break in your application. The \"shortcut\" will end up taking more time than moving forward slowly and systematically.\n",
    ">\n",
    "> One best practice is to commit your code every time it is in a stable state. This makes it easy to rollback to a situation where the application still works.\n",
    ">\n",
    "> If you're having issues with *content.body* being undefined for seemingly no reason, make sure you didn't forget to add *app.use(express.json())* near the top of the file."
   ]
  },
  {
   "cell_type": "markdown",
   "metadata": {},
   "source": [
    "> ## Testing Node applications\n",
    "We have completely neglected one essential area of software development, and that is automated testing.\n",
    "\n",
    "Let's start our testing journey by looking at unit tests. The logic of our application is so simple, that there is not much that makes sense to test with unit tests. Let's create a new file *utils/for_testing.js* and write a couple of simple functions that we can use for test writing practice:"
   ]
  },
  {
   "cell_type": "markdown",
   "metadata": {},
   "source": [
    "```js\n",
    "const reverse = (string) => {\n",
    "  return string\n",
    "    .split('')\n",
    "    .reverse()\n",
    "    .join('')\n",
    "}\n",
    "\n",
    "const average = (array) => {\n",
    "  const reducer = (sum, item) => {\n",
    "    return sum + item\n",
    "  }\n",
    "\n",
    "  return array.reduce(reducer, 0) / array.length\n",
    "}\n",
    "\n",
    "module.exports = {\n",
    "  reverse,\n",
    "  average,\n",
    "}\n",
    "```"
   ]
  },
  {
   "cell_type": "markdown",
   "metadata": {},
   "source": [
    "> The `average` function uses the array [reduce](https://developer.mozilla.org/en-US/docs/Web/JavaScript/Reference/Global_Objects/Array/reduce) method. If the method is not familiar to you yet, then now is a good time to watch the first three videos from the [Functional JavaScript](https://www.youtube.com/watch?v=BMUiFMZr7vk&list=PL0zVEGEvSaeEd9hlmCXrk5yUyqUag-n84) series on YouTube.\n",
    "\n",
    "There are a large number of test libraries, or *test runners*, available for JavaScript. The old king of test libraries is [Mocha](https://mochajs.org/), which was replaced a few years ago by [Jest](https://jestjs.io/). A newcomer to the libraries is [Vitest](https://vitest.dev/), which bills itself as a new generation of test libraries.\n",
    "\n",
    "Nowadays, Node also has a built-in test library [node:test](https://nodejs.org/docs/latest/api/test.html), which is well suited to the needs of the course.\n",
    "\n",
    "Let's define the *npm script* `test` for the test execution:"
   ]
  },
  {
   "cell_type": "markdown",
   "metadata": {},
   "source": [
    "```json\n",
    "{\n",
    "  //...\n",
    "  \"scripts\": {\n",
    "    \"start\": \"node index.js\",\n",
    "    \"dev\": \"nodemon index.js\",\n",
    "    \"build:ui\": \"rm -rf build && cd ../frontend/ && npm run build && cp -r build ../backend\",\n",
    "    \"deploy\": \"fly deploy\",\n",
    "    \"deploy:full\": \"npm run build:ui && npm run deploy\",\n",
    "    \"logs:prod\": \"fly logs\",\n",
    "    \"lint\": \"eslint .\",\n",
    "\n",
    "    \"test\": \"node --test\"\n",
    "  },\n",
    "  //...\n",
    "}\n",
    "```"
   ]
  },
  {
   "cell_type": "markdown",
   "metadata": {},
   "source": [
    "Let's create a separate directory for our tests called *tests* and create a new file called *reverse.test.js* with the following contents:"
   ]
  },
  {
   "cell_type": "markdown",
   "metadata": {},
   "source": [
    "```js\n",
    "const { test } = require('node:test')\n",
    "const assert = require('node:assert')\n",
    "\n",
    "const reverse = require('../utils/for_testing').reverse\n",
    "\n",
    "test('reverse of a', () => {\n",
    "  const result = reverse('a')\n",
    "\n",
    "  assert.strictEqual(result, 'a')\n",
    "})\n",
    "\n",
    "test('reverse of react', () => {\n",
    "  const result = reverse('react')\n",
    "\n",
    "  assert.strictEqual(result, 'tcaer')\n",
    "})\n",
    "\n",
    "test('reverse of saippuakauppias', () => {\n",
    "  const result = reverse('saippuakauppias')\n",
    "\n",
    "  assert.strictEqual(result, 'saippuakauppias')\n",
    "})\n",
    "```"
   ]
  },
  {
   "cell_type": "markdown",
   "metadata": {},
   "source": [
    "The test defines the keyword `test` and the library [assert](https://nodejs.org/docs/latest/api/assert.html), which is used by the tests to check the results of the functions under test.\n",
    "\n",
    "In the next row, the test file imports the function to be tested and assigns it to a variable called `reverse`:\n",
    "\n",
    "```js\n",
    "const reverse = require('../utils/for_testing').reverse\n",
    "```\n",
    "Individual test cases are defined with the `test` function. The first argument of the function is the test description as a string. The second argument is a *function*, that defines the functionality for the test case. The functionality for the second test case looks like this:\n",
    "\n",
    "```js\n",
    "() => {\n",
    "  const result = reverse('react')\n",
    "\n",
    "  assert.strictEqual(result, 'tcaer')\n",
    "}\n",
    "```"
   ]
  },
  {
   "cell_type": "markdown",
   "metadata": {},
   "source": [
    "First, we execute the code to be tested, meaning that we generate a reverse for the string `react`. Next, we verify the results with the the method [strictEqual](https://nodejs.org/docs/latest/api/assert.html#assertstrictequalactual-expected-message) of the [assert](https://nodejs.org/docs/latest/api/assert.html) library.\n",
    "\n",
    "As expected, all of the tests pass:\n"
   ]
  },
  {
   "cell_type": "markdown",
   "metadata": {},
   "source": [
    "![](./images/image01.png)"
   ]
  },
  {
   "cell_type": "markdown",
   "metadata": {},
   "source": [
    "The library node:test expects by default that the names of test files contain .test. In this course, we will follow the convention of naming our tests files with the extension *.test.js*.\n",
    "\n",
    "Let's break the test:\n",
    "```js\n",
    "test('reverse of react', () => {\n",
    "  const result = reverse('react')\n",
    "\n",
    "  assert.strictEqual(result, 'tkaer')\n",
    "})\n",
    "```\n",
    "Running this test results in the following error message:"
   ]
  },
  {
   "cell_type": "markdown",
   "metadata": {},
   "source": [
    "![](./images/image02.png)"
   ]
  },
  {
   "cell_type": "markdown",
   "metadata": {},
   "source": [
    "Let's put the tests for the `average` function, into a new file called *tests/average.test.js*.\n",
    "```js\n",
    "const { test, describe } = require('node:test')\n",
    "\n",
    "// ...\n",
    "\n",
    "const average = require('../utils/for_testing').average\n",
    "\n",
    "describe('average', () => {\n",
    "  test('of one value is the value itself', () => {\n",
    "    assert.strictEqual(average([1]), 1)\n",
    "  })\n",
    "\n",
    "  test('of many is calculated right', () => {\n",
    "    assert.strictEqual(average([1, 2, 3, 4, 5, 6]), 3.5)\n",
    "  })\n",
    "\n",
    "  test('of empty array is zero', () => {\n",
    "    assert.strictEqual(average([]), 0)\n",
    "  })\n",
    "})\n",
    "```\n",
    "The test reveals that the function does not work correctly with an empty array (this is because in JavaScript dividing by zero results in *NaN*):"
   ]
  },
  {
   "cell_type": "markdown",
   "metadata": {},
   "source": [
    "![](./images/image03.png)"
   ]
  },
  {
   "cell_type": "markdown",
   "metadata": {},
   "source": [
    "Fixing the function is quite easy:\n",
    "\n",
    "```js\n",
    "const average = array => {\n",
    "  const reducer = (sum, item) => {\n",
    "    return sum + item\n",
    "  }\n",
    "\n",
    "  return array.length === 0\n",
    "    ? 0\n",
    "    : array.reduce(reducer, 0) / array.length\n",
    "}\n",
    "```\n",
    "If the length of the array is 0 then we return 0, and in all other cases, we use the `reduce` method to calculate the average.\n",
    "\n",
    "There are a few things to notice about the tests that we just wrote. We defined a describe block around the tests that were given the name `average`:\n",
    "\n",
    "```js\n",
    "describe('average', () => {\n",
    "  // tests\n",
    "})\n",
    "```"
   ]
  },
  {
   "cell_type": "markdown",
   "metadata": {},
   "source": [
    "Describe blocks can be used for grouping tests into logical collections. The test output also uses the name of the describe block:"
   ]
  },
  {
   "cell_type": "markdown",
   "metadata": {},
   "source": [
    "![](./images/image04.png)"
   ]
  },
  {
   "cell_type": "markdown",
   "metadata": {},
   "source": [
    "As we will see later on *describe* blocks are necessary when we want to run some shared setup or teardown operations for a group of tests.\n",
    "\n",
    "Another thing to notice is that we wrote the tests in quite a compact way, without assigning the output of the function being tested to a variable:\n",
    "\n",
    "```js\n",
    "test('of empty array is zero', () => {\n",
    "  assert.strictEqual(average([]), 0)\n",
    "})\n",
    "```"
   ]
  },
  {
   "cell_type": "markdown",
   "metadata": {},
   "source": [
    "> ## Exercises 4.3.-4.7.\n",
    ">\n",
    "> Let's create a collection of helper functions that are best suited for working with the describe sections of the blog list. Create the functions into a file called *utils/list_helper.js*. Write your tests into an appropriately named test file under the *tests* directory."
   ]
  },
  {
   "cell_type": "markdown",
   "metadata": {},
   "source": [
    "> ### 4.3: Helper Functions and Unit Tests, step 1\n",
    ">\n",
    "> First, define a `dummy` function that receives an array of blog posts as a parameter and always returns the value 1. The contents of the *list_helper.js* file at this point should be the following:\n",
    "> ```js\n",
    "> const dummy = (blogs) => {\n",
    ">   // ...\n",
    "> }\n",
    ">\n",
    ">\n",
    "> module.exports = {\n",
    ">   dummy\n",
    "> }\n",
    "> ```\n",
    "> Verify that your test configuration works with the following test:"
   ]
  },
  {
   "cell_type": "markdown",
   "metadata": {},
   "source": [
    "> ```js\n",
    "> const { test, describe } = require('node:test')\n",
    "> const assert = require('node:assert')\n",
    "> const listHelper = require('../utils/list_helper')\n",
    ">\n",
    "> test('dummy returns one', () => {\n",
    ">   const blogs = []\n",
    ">\n",
    ">   const result = listHelper.dummy(blogs)\n",
    ">   assert.strictEqual(result, 1)\n",
    "> })\n",
    ">\n",
    "> ```"
   ]
  },
  {
   "cell_type": "markdown",
   "metadata": {},
   "source": [
    "> ### 4.4: Helper Functions and Unit Tests, step 2\n",
    ">\n",
    "> Define a new `totalLikes` function that receives a list of blog posts as a parameter. The function returns the total sum of *likes* in all of the blog posts.\n",
    ">\n",
    "> Write appropriate tests for the function. It's recommended to put the tests inside of a *describe* block so that the test report output gets grouped nicely:\n",
    ">\n"
   ]
  },
  {
   "cell_type": "markdown",
   "metadata": {},
   "source": [
    "> ![](./images/image05.png)"
   ]
  },
  {
   "cell_type": "markdown",
   "metadata": {},
   "source": [
    "> Defining test inputs for the function can be done like this:\n",
    "> ```js\n",
    "> describe('total likes', () => {\n",
    ">   const listWithOneBlog = [\n",
    ">     {\n",
    ">       _id: '5a422aa71b54a676234d17f8',\n",
    ">       title: 'Go To Statement Considered Harmful',\n",
    ">       author: 'Edsger W. Dijkstra',\n",
    ">       url: 'https://homepages.cwi.nl/~storm/teaching/reader/Dijkstra68.pdf',\n",
    ">       likes: 5,\n",
    ">       __v: 0\n",
    ">     }\n",
    ">   ]\n",
    "> \n",
    ">   test('when list has only one blog, equals the likes of that', () => {\n",
    ">     const result = listHelper.totalLikes(listWithOneBlog)\n",
    ">     assert.strictEqual(result, 5)\n",
    ">   })\n",
    "> })\n",
    "> ```\n",
    "> If defining your own test input list of blogs is too much work, you can use the ready-made list [here](https://github.com/fullstack-hy2020/misc/blob/master/blogs_for_test.md).\n",
    ">\n",
    "> You are bound to run into problems while writing tests. Remember the things that we learned about [debugging](https://fullstackopen.com/en/part3/saving_data_to_mongo_db#debugging-node-applications) in part 3. You can print things to the console with `console.log` even during test execution."
   ]
  },
  {
   "cell_type": "markdown",
   "metadata": {},
   "source": [
    "> ### 4.5*: Helper Functions and Unit Tests, step 3\n",
    ">\n",
    "> Define a new `favoriteBlog` function that receives a list of blogs as a parameter. The function finds out which blog has the most likes. If there are many top favorites, it is enough to return one of them.\n",
    ">\n",
    "> The value returned by the function could be in the following format:\n",
    "> ```json\n",
    "> {\n",
    ">   title: \"Canonical string reduction\",\n",
    ">   author: \"Edsger W. Dijkstra\",\n",
    ">   likes: 12\n",
    "> }\n",
    "> ```\n",
    ">\n",
    "> **NB** when you are comparing objects, the [deepStrictEqual](https://nodejs.org/api/assert.html#assertdeepstrictequalactual-expected-message) method is probably what you want to use, since the [strictEqual](https://nodejs.org/api/assert.html#assertstrictequalactual-expected-message) tries to verify that the two values are the same value, and not just that they contain the same properties. For differences between various assert module functions, you can refer to [this Stack Overflow answer](https://stackoverflow.com/questions/16745855/difference-between-equal-deep-equal-and-strict-equal/73937068#73937068).\n",
    ">\n",
    "> Write the tests for this exercise inside of a new *describe* block. Do the same for the remaining exercises as well."
   ]
  },
  {
   "cell_type": "markdown",
   "metadata": {},
   "source": [
    "> ### 4.6*: Helper Functions and Unit Tests, step 4\n",
    "> This and the next exercise are a little bit more challenging. Finishing these two exercises is not required to advance in the course material, so it may be a good idea to return to these once you're done going through the material for this part in its entirety.\n",
    ">\n",
    "> Finishing this exercise can be done without the use of additional libraries. However, this exercise is a great opportunity to learn how to use the [Lodash](https://lodash.com/) library.\n",
    ">\n",
    "> Define a function called `mostBlogs` that receives an array of blogs as a parameter. The function returns the *author* who has the largest amount of blogs. The return value also contains the number of blogs the top author has:\n",
    ">\n",
    "> ```json\n",
    "> {\n",
    ">   author: \"Robert C. Martin\",\n",
    ">   blogs: 3\n",
    "> }\n",
    "> ```\n",
    "> If there are many top bloggers, then it is enough to return any one of them."
   ]
  },
  {
   "cell_type": "markdown",
   "metadata": {},
   "source": [
    "> ### 4.7*: Helper Functions and Unit Tests, step 5\n",
    "> Define a function called `mostLikes` that receives an array of blogs as its parameter. The function returns the author, whose blog posts have the largest amount of likes. The return value also contains the total number of likes that the author has received:\n",
    "> ```json\n",
    "> {\n",
    ">   author: \"Edsger W. Dijkstra\",\n",
    ">   likes: 17\n",
    "> }\n",
    "> ```\n",
    "> If there are many top bloggers, then it is enough to show any one of them."
   ]
  },
  {
   "cell_type": "markdown",
   "metadata": {},
   "source": []
  }
 ],
 "metadata": {
  "language_info": {
   "name": "python"
  }
 },
 "nbformat": 4,
 "nbformat_minor": 2
}
