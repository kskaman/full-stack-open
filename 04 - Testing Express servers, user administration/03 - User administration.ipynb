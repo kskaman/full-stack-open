{
 "cells": [
  {
   "cell_type": "markdown",
   "metadata": {},
   "source": [
    "> # User administration"
   ]
  },
  {
   "cell_type": "markdown",
   "metadata": {},
   "source": [
    "We want to add user authentication and authorization to our application. Users should be stored in the database and every note should be linked to the user who created it. Deleting and editing a note should only be allowed for the user who created it.\n",
    "\n",
    "Let's start by adding information about users to the database. There is a one-to-many relationship between the user (User) and notes (Note):"
   ]
  },
  {
   "cell_type": "markdown",
   "metadata": {},
   "source": [
    "![](./images/image08.png)"
   ]
  },
  {
   "cell_type": "markdown",
   "metadata": {},
   "source": [
    "If we were working with a relational database the implementation would be straightforward. Both resources would have their separate database tables, and the id of the user who created a note would be stored in the notes table as a foreign key.\n",
    "\n",
    "When working with document databases the situation is a bit different, as there are many different ways of modeling the situation.\n",
    "\n",
    "The existing solution saves every note in the notes collection in the database. If we do not want to change this existing collection, then the natural choice is to save users in their own collection, users for example.\n",
    "\n",
    "Like with all document databases, we can use object IDs in Mongo to reference documents in other collections. This is similar to using foreign keys in relational databases."
   ]
  },
  {
   "cell_type": "markdown",
   "metadata": {},
   "source": [
    "Traditionally document databases like Mongo do not support join queries that are available in relational databases, used for aggregating data from multiple tables. However, starting from version 3.2. Mongo has supported [lookup aggregation queries](https://www.mongodb.com/docs/manual/reference/operator/aggregation/lookup/). We will not be taking a look at this functionality in this course.\n",
    "\n",
    "If we need functionality similar to join queries, we will implement it in our application code by making multiple queries. In certain situations, Mongoose can take care of joining and aggregating data, which gives the appearance of a join query. However, even in these situations, Mongoose makes multiple queries to the database in the background."
   ]
  },
  {
   "cell_type": "markdown",
   "metadata": {},
   "source": [
    "> ## References across collections"
   ]
  },
  {
   "cell_type": "markdown",
   "metadata": {},
   "source": [
    "If we were using a relational database the note would contain a *reference key* to the user who created it. In document databases, we can do the same thing.\n",
    "\n",
    "Let's assume that the *users* collection contains two users:\n",
    "\n",
    "```js\n",
    "[\n",
    "  {\n",
    "    username: 'mluukkai',\n",
    "    _id: 123456,\n",
    "  },\n",
    "  {\n",
    "    username: 'hellas',\n",
    "    _id: 141414,\n",
    "  },\n",
    "]\n",
    "```"
   ]
  },
  {
   "cell_type": "markdown",
   "metadata": {},
   "source": [
    "The notes collection contains three notes that all have a *user* field that references a user in the *users* collection:\n",
    "\n",
    "```js\n",
    "[\n",
    "  {\n",
    "    content: 'HTML is easy',\n",
    "    important: false,\n",
    "    _id: 221212,\n",
    "    user: 123456,\n",
    "  },\n",
    "  {\n",
    "    content: 'The most important operations of HTTP protocol are GET and POST',\n",
    "    important: true,\n",
    "    _id: 221255,\n",
    "    user: 123456,\n",
    "  },\n",
    "  {\n",
    "    content: 'A proper dinosaur codes with Java',\n",
    "    important: false,\n",
    "    _id: 221244,\n",
    "    user: 141414,\n",
    "  },\n",
    "]\n",
    "```"
   ]
  },
  {
   "cell_type": "markdown",
   "metadata": {},
   "source": [
    "Document databases do not demand the foreign key to be stored in the note resources, it could *also* be stored in the users collection, or even both:\n",
    "\n",
    "```js\n",
    "[\n",
    "  {\n",
    "    username: 'mluukkai',\n",
    "    _id: 123456,\n",
    "    notes: [221212, 221255],\n",
    "  },\n",
    "  {\n",
    "    username: 'hellas',\n",
    "    _id: 141414,\n",
    "    notes: [221244],\n",
    "  },\n",
    "]\n",
    "```"
   ]
  },
  {
   "cell_type": "markdown",
   "metadata": {},
   "source": [
    "Since users can have many notes, the related ids are stored in an array in the *notes* field.\n",
    "\n",
    "Document databases also offer a radically different way of organizing the data: In some situations, it might be beneficial to nest the entire notes array as a part of the documents in the users collection:"
   ]
  },
  {
   "cell_type": "markdown",
   "metadata": {},
   "source": [
    "```js\n",
    "[\n",
    "  {\n",
    "    username: 'mluukkai',\n",
    "    _id: 123456,\n",
    "    notes: [\n",
    "      {\n",
    "        content: 'HTML is easy',\n",
    "        important: false,\n",
    "      },\n",
    "      {\n",
    "        content: 'The most important operations of HTTP protocol are GET and POST',\n",
    "        important: true,\n",
    "      },\n",
    "    ],\n",
    "  },\n",
    "  {\n",
    "    username: 'hellas',\n",
    "    _id: 141414,\n",
    "    notes: [\n",
    "      {\n",
    "        content:\n",
    "          'A proper dinosaur codes with Java',\n",
    "        important: false,\n",
    "      },\n",
    "    ],\n",
    "  },\n",
    "]\n",
    "```"
   ]
  },
  {
   "cell_type": "markdown",
   "metadata": {},
   "source": [
    "In this schema, notes would be tightly nested under users and the database would not generate ids for them.\n",
    "\n",
    "The structure and schema of the database are not as self-evident as it was with relational databases. The chosen schema must support the use cases of the application the best. This is not a simple design decision to make, as all use cases of the applications are not known when the design decision is made.\n",
    "\n",
    "Paradoxically, schema-less databases like Mongo require developers to make far more radical design decisions about data organization at the beginning of the project than relational databases with schemas. On average, relational databases offer a more or less suitable way of organizing data for many applications."
   ]
  },
  {
   "cell_type": "markdown",
   "metadata": {},
   "source": [
    "> ## Mongoose schema for users"
   ]
  },
  {
   "cell_type": "markdown",
   "metadata": {},
   "source": [
    "In this case, we decide to store the ids of the notes created by the user in the user document. Let's define the model for representing a user in the *models/user.js* file:"
   ]
  },
  {
   "cell_type": "markdown",
   "metadata": {},
   "source": [
    "```js\n",
    "const mongoose = require('mongoose')\n",
    "\n",
    "const userSchema = new mongoose.Schema({\n",
    "  username: String,\n",
    "  name: String,\n",
    "  passwordHash: String,\n",
    "  notes: [\n",
    "    {\n",
    "      type: mongoose.Schema.Types.ObjectId,\n",
    "      ref: 'Note'\n",
    "    }\n",
    "  ],\n",
    "})\n",
    "\n",
    "userSchema.set('toJSON', {\n",
    "  transform: (document, returnedObject) => {\n",
    "    returnedObject.id = returnedObject._id.toString()\n",
    "    delete returnedObject._id\n",
    "    delete returnedObject.__v\n",
    "    // the passwordHash should not be revealed\n",
    "    delete returnedObject.passwordHash\n",
    "  }\n",
    "})\n",
    "\n",
    "const User = mongoose.model('User', userSchema)\n",
    "\n",
    "module.exports = User\n",
    "```"
   ]
  },
  {
   "cell_type": "markdown",
   "metadata": {},
   "source": [
    "The ids of the notes are stored within the user document as an array of Mongo ids. The definition is as follows:\n",
    "\n",
    "```js\n",
    "{\n",
    "  type: mongoose.Schema.Types.ObjectId,\n",
    "  ref: 'Note'\n",
    "}\n",
    "```"
   ]
  },
  {
   "cell_type": "markdown",
   "metadata": {},
   "source": [
    "The type of the field is *ObjectId* that references *note-style* documents. Mongo does not inherently know that this is a field that references notes, the syntax is purely related to and defined by Mongoose.\n",
    "\n",
    "Let's expand the schema of the note defined in the *models/note.js* file so that the note contains information about the user who created it:"
   ]
  },
  {
   "cell_type": "markdown",
   "metadata": {},
   "source": [
    "```js\n",
    "const noteSchema = new mongoose.Schema({\n",
    "  content: {\n",
    "    type: String,\n",
    "    required: true,\n",
    "    minlength: 5\n",
    "  },\n",
    "  important: Boolean,\n",
    "\n",
    "  user: {\n",
    "    type: mongoose.Schema.Types.ObjectId,\n",
    "    ref: 'User'\n",
    "  }\n",
    "})\n",
    "```"
   ]
  },
  {
   "cell_type": "markdown",
   "metadata": {},
   "source": [
    "In stark contrast to the conventions of relational databases, *references are now stored in both documents*: the note references the user who created it, and the user has an array of references to all of the notes created by them."
   ]
  },
  {
   "cell_type": "markdown",
   "metadata": {},
   "source": [
    "> ## Creating users"
   ]
  },
  {
   "cell_type": "markdown",
   "metadata": {},
   "source": [
    "Let's implement a route for creating new users. Users have a unique *username, a name* and something called a *passwordHash*. The password hash is the output of a [one-way hash function](https://en.wikipedia.org/wiki/Cryptographic_hash_function) applied to the user's password. It is never wise to store unencrypted plain text passwords in the database!\n",
    "\n",
    "Let's install the [bcrypt](https://github.com/kelektiv/node.bcrypt.js) package for generating the password hashes:\n",
    "\n",
    "```cmd\n",
    "npm install bcrypt\n",
    "```\n",
    "\n",
    "Creating new users happens in compliance with the RESTful conventions discussed in [part 3](https://fullstackopen.com/en/part3/node_js_and_express#rest), by making an HTTP POST request to the users path."
   ]
  },
  {
   "cell_type": "markdown",
   "metadata": {},
   "source": [
    "Let's define a separate *router* for dealing with users in a new *controllers/users.js* file. Let's take the router into use in our application in the *app.js* file, so that it handles requests made to the */api/users* url:\n",
    "\n",
    "```js\n",
    "const usersRouter = require('./controllers/users')\n",
    "\n",
    "// ...\n",
    "\n",
    "app.use('/api/users', usersRouter)\n",
    "```\n",
    "\n",
    "The contents of the file, *controllers/users.js*, that defines the router is as follows:"
   ]
  },
  {
   "cell_type": "markdown",
   "metadata": {},
   "source": [
    "```js\n",
    "const bcrypt = require('bcrypt')\n",
    "const usersRouter = require('express').Router()\n",
    "const User = require('../models/user')\n",
    "\n",
    "usersRouter.post('/', async (request, response) => {\n",
    "  const { username, name, password } = request.body\n",
    "\n",
    "  const saltRounds = 10\n",
    "  const passwordHash = await bcrypt.hash(password, saltRounds)\n",
    "\n",
    "  const user = new User({\n",
    "    username,\n",
    "    name,\n",
    "    passwordHash,\n",
    "  })\n",
    "\n",
    "  const savedUser = await user.save()\n",
    "\n",
    "  response.status(201).json(savedUser)\n",
    "})\n",
    "\n",
    "module.exports = usersRouter\n",
    "```"
   ]
  },
  {
   "cell_type": "markdown",
   "metadata": {},
   "source": [
    "The password sent in the request is *not* stored in the database. We store the *hash* of the password that is generated with the `bcrypt.hash` function.\n",
    "\n",
    "The fundamentals of [storing passwords](https://codahale.com/how-to-safely-store-a-password/) are outside the scope of this course material. We will not discuss what the magic number 10 assigned to the [saltRounds](https://github.com/kelektiv/node.bcrypt.js/#a-note-on-rounds) variable means, but you can read more about it in the linked material.\n",
    "\n",
    "Our current code does not contain any error handling or input validation for verifying that the username and password are in the desired format.\n",
    "\n",
    "The new feature can and should initially be tested manually with a tool like Postman. However testing things manually will quickly become too cumbersome, especially once we implement functionality that enforces usernames to be unique.\n",
    "\n",
    "It takes much less effort to write automated tests, and it will make the development of our application much easier.\n",
    "\n",
    "Our initial tests could look like this:"
   ]
  },
  {
   "cell_type": "markdown",
   "metadata": {},
   "source": [
    "```js\n",
    "const bcrypt = require('bcrypt')\n",
    "const User = require('../models/user')\n",
    "\n",
    "//...\n",
    "\n",
    "describe('when there is initially one user in db', () => {\n",
    "  beforeEach(async () => {\n",
    "    await User.deleteMany({})\n",
    "\n",
    "    const passwordHash = await bcrypt.hash('sekret', 10)\n",
    "    const user = new User({ username: 'root', passwordHash })\n",
    "\n",
    "    await user.save()\n",
    "  })\n",
    "\n",
    "  test('creation succeeds with a fresh username', async () => {\n",
    "    const usersAtStart = await helper.usersInDb()\n",
    "\n",
    "    const newUser = {\n",
    "      username: 'mluukkai',\n",
    "      name: 'Matti Luukkainen',\n",
    "      password: 'salainen',\n",
    "    }\n",
    "\n",
    "    await api\n",
    "      .post('/api/users')\n",
    "      .send(newUser)\n",
    "      .expect(201)\n",
    "      .expect('Content-Type', /application\\/json/)\n",
    "\n",
    "    const usersAtEnd = await helper.usersInDb()\n",
    "    assert.strictEqual(usersAtEnd.length, usersAtStart.length + 1)\n",
    "\n",
    "    const usernames = usersAtEnd.map(u => u.username)\n",
    "    assert(usernames.includes(newUser.username))\n",
    "  })\n",
    "})\n",
    "```"
   ]
  },
  {
   "cell_type": "markdown",
   "metadata": {},
   "source": [
    "The tests use the *usersInDb()* helper function that we implemented in the *tests/test_helper.js* file. The function is used to help us verify the state of the database after a user is created:"
   ]
  },
  {
   "cell_type": "markdown",
   "metadata": {},
   "source": [
    "```js\n",
    "const User = require('../models/user')\n",
    "\n",
    "// ...\n",
    "\n",
    "const usersInDb = async () => {\n",
    "  const users = await User.find({})\n",
    "  return users.map(u => u.toJSON())\n",
    "}\n",
    "\n",
    "module.exports = {\n",
    "  initialNotes,\n",
    "  nonExistingId,\n",
    "  notesInDb,\n",
    "  usersInDb,\n",
    "}\n",
    "```"
   ]
  },
  {
   "cell_type": "markdown",
   "metadata": {},
   "source": [
    "The *beforeEach* block adds a user with the username root to the database. We can write a new test that verifies that a new user with the same username can not be created:"
   ]
  },
  {
   "cell_type": "markdown",
   "metadata": {},
   "source": [
    "```js\n",
    "describe('when there is initially one user in db', () => {\n",
    "  // ...\n",
    "\n",
    "  test('creation fails with proper statuscode and message if username already taken', async () => {\n",
    "    const usersAtStart = await helper.usersInDb()\n",
    "\n",
    "    const newUser = {\n",
    "      username: 'root',\n",
    "      name: 'Superuser',\n",
    "      password: 'salainen',\n",
    "    }\n",
    "\n",
    "    const result = await api\n",
    "      .post('/api/users')\n",
    "      .send(newUser)\n",
    "      .expect(400)\n",
    "      .expect('Content-Type', /application\\/json/)\n",
    "\n",
    "    const usersAtEnd = await helper.usersInDb()\n",
    "    assert(result.body.error.includes('expected `username` to be unique'))\n",
    "\n",
    "    assert.strictEqual(usersAtEnd.length, usersAtStart.length)\n",
    "  })\n",
    "})\n",
    "```"
   ]
  },
  {
   "cell_type": "markdown",
   "metadata": {},
   "source": [
    "The test case obviously will not pass at this point. We are essentially practicing [test-driven development (TDD)](https://en.wikipedia.org/wiki/Test-driven_development), where tests for new functionality are written before the functionality is implemented.\n",
    "\n",
    "Mongoose validations do not provide a direct way to check the uniqueness of a field value. However, it is possible to achieve uniqueness by defining [uniqueness index](https://mongoosejs.com/docs/schematypes.html) for a field. The definition is done as follows:"
   ]
  },
  {
   "cell_type": "markdown",
   "metadata": {},
   "source": [
    "```js\n",
    "const mongoose = require('mongoose')\n",
    "\n",
    "const userSchema = mongoose.Schema({\n",
    "\n",
    "  username: {\n",
    "    type: String,\n",
    "    required: true,\n",
    "    unique: true // this ensures the uniqueness of username\n",
    "  },\n",
    "  name: String,\n",
    "  passwordHash: String,\n",
    "  notes: [\n",
    "    {\n",
    "      type: mongoose.Schema.Types.ObjectId,\n",
    "      ref: 'Note'\n",
    "    }\n",
    "  ],\n",
    "})\n",
    "\n",
    "// ...\n",
    "```"
   ]
  },
  {
   "cell_type": "markdown",
   "metadata": {},
   "source": [
    "However, we want to be careful when using the uniqueness index. If there are already documents in the database that violate the uniqueness condition, [no index will be created](https://dev.to/akshatsinghania/mongoose-unique-not-working-16bf). So when adding a uniqueness index, make sure that the database is in a healthy state! The test above added the user with username root to the database twice, and these must be removed for the index to be formed and the code to work.\n",
    "\n",
    "Mongoose validations do not detect the index violation, and instead of `ValidationError` they return an error of type `MongoServerError`. We therefore need to extend the error handler for that case:"
   ]
  },
  {
   "cell_type": "markdown",
   "metadata": {},
   "source": [
    "```js\n",
    "const errorHandler = (error, request, response, next) => {\n",
    "  if (error.name === 'CastError') {\n",
    "    return response.status(400).send({ error: 'malformatted id' })\n",
    "  } else if (error.name === 'ValidationError') {\n",
    "    return response.status(400).json({ error: error.message })\n",
    "\n",
    "  } else if (error.name === 'MongoServerError' && error.message.includes('E11000 duplicate key error')) {\n",
    "    return response.status(400).json({ error: 'expected `username` to be unique' })\n",
    "  }\n",
    "\n",
    "  next(error)\n",
    "}\n",
    "```"
   ]
  },
  {
   "cell_type": "markdown",
   "metadata": {},
   "source": [
    "After these changes, the tests will pass.\n",
    "\n",
    "We could also implement other validations into the user creation. We could check that the username is long enough, that the username only consists of permitted characters, or that the password is strong enough. Implementing these functionalities is left as an optional exercise.\n",
    "\n",
    "Before we move onward, let's add an initial implementation of a route handler that returns all of the users in the database:"
   ]
  },
  {
   "cell_type": "markdown",
   "metadata": {},
   "source": [
    "```js\n",
    "usersRouter.get('/', async (request, response) => {\n",
    "  const users = await User.find({})\n",
    "  response.json(users)\n",
    "})\n",
    "```\n",
    "\n",
    "For making new users in a production or development environment, you may send a POST request to `/api/users/` via Postman or REST Client in the following format:\n",
    "\n",
    "```json\n",
    "{\n",
    "    \"username\": \"root\",\n",
    "    \"name\": \"Superuser\",\n",
    "    \"password\": \"salainen\"\n",
    "}\n",
    "```"
   ]
  },
  {
   "cell_type": "markdown",
   "metadata": {},
   "source": [
    "The list looks like this:\n",
    "\n",
    "[browser api/users shows JSON data with notes array](./images/image09.png)\n",
    "\n",
    "You can find the code for our current application in its entirety in the *part4-7* branch of [this GitHub repository](https://github.com/fullstack-hy2020/part3-notes-backend/tree/part4-7)."
   ]
  },
  {
   "cell_type": "markdown",
   "metadata": {},
   "source": [
    "> ## Creating a new note"
   ]
  },
  {
   "cell_type": "markdown",
   "metadata": {},
   "source": [
    "The code for creating a new note has to be updated so that the note is assigned to the user who created it.\n",
    "\n",
    "Let's expand our current implementation in *controllers/notes.js* so that the information about the user who created a note is sent in the *userId* field of the request body:"
   ]
  },
  {
   "cell_type": "markdown",
   "metadata": {},
   "source": [
    "```js\n",
    "const User = require('../models/user')\n",
    "\n",
    "//...\n",
    "\n",
    "notesRouter.post('/', async (request, response) => {\n",
    "  const body = request.body\n",
    "\n",
    "\n",
    "  const user = await User.findById(body.userId)\n",
    "\n",
    "  const note = new Note({\n",
    "    content: body.content,\n",
    "    important: body.important === undefined ? false : body.important,\n",
    "\n",
    "    user: user.id\n",
    "  })\n",
    "\n",
    "  const savedNote = await note.save()\n",
    "\n",
    "  user.notes = user.notes.concat(savedNote._id)\n",
    "  await user.save()\n",
    "  \n",
    "  response.status(201).json(savedNote)\n",
    "})\n",
    "```"
   ]
  },
  {
   "cell_type": "markdown",
   "metadata": {},
   "source": [
    "It's worth noting that the *user* object also changes. The *id* of the note*is stored in the *notes* field of the *user* object:\n",
    "\n",
    "```\n",
    "const user = await User.findById(body.userId)\n",
    "\n",
    "// ...\n",
    "\n",
    "user.notes = user.notes.concat(savedNote._id)\n",
    "await user.save()\n",
    "```\n",
    "\n",
    "Let's try to create a new note"
   ]
  },
  {
   "cell_type": "markdown",
   "metadata": {},
   "source": [
    "![](./images/image10.png)"
   ]
  },
  {
   "cell_type": "markdown",
   "metadata": {},
   "source": [
    "The operation appears to work. Let's add one more note and then visit the route for fetching all users:"
   ]
  },
  {
   "cell_type": "markdown",
   "metadata": {},
   "source": [
    "![](./images/image11.png)"
   ]
  },
  {
   "cell_type": "markdown",
   "metadata": {},
   "source": [
    "We can see that the user has two notes.\n",
    "\n",
    "Likewise, the ids of the users who created the notes can be seen when we visit the route for fetching all notes:"
   ]
  },
  {
   "cell_type": "markdown",
   "metadata": {},
   "source": [
    "![](./images/image12.png)"
   ]
  },
  {
   "cell_type": "markdown",
   "metadata": {},
   "source": [
    "> ## Populate"
   ]
  },
  {
   "cell_type": "markdown",
   "metadata": {},
   "source": [
    "We would like our API to work in such a way, that when an HTTP GET request is made to the */api/users* route, the user objects would also contain the contents of the user's notes and not just their id. In a relational database, this functionality would be implemented with a *join query*.\n",
    "\n",
    "As previously mentioned, document databases do not properly support join queries between collections, but the Mongoose library can do some of these joins for us. Mongoose accomplishes the join by doing multiple queries, which is different from join queries in relational databases which are transactional, meaning that the state of the database does not change during the time that the query is made. With join queries in Mongoose, nothing can guarantee that the state between the collections being joined is consistent, meaning that if we make a query that joins the user and notes collections, the state of the collections may change during the query.\n",
    "\n",
    "The Mongoose join is done with the [populate](https://mongoosejs.com/docs/populate.html) method. Let's update the route that returns all users first in *controllers/users.js* file:"
   ]
  },
  {
   "cell_type": "markdown",
   "metadata": {},
   "source": [
    "```js\n",
    "usersRouter.get('/', async (request, response) => {\n",
    "  const users = await User\n",
    "    .find({}).populate('notes')\n",
    "\n",
    "  response.json(users)\n",
    "})\n",
    "```\n",
    "\n",
    "The [populate](https://mongoosejs.com/docs/populate.html) method is chained after the *find* method making the initial query. The argument given to the populate method defines that the *ids* referencing *note* objects in the notes field of the *user* document will be replaced by the referenced *note* documents.\n",
    "\n",
    "The result is almost exactly what we wanted:\n",
    "\n"
   ]
  },
  {
   "cell_type": "markdown",
   "metadata": {},
   "source": [
    "![](./images/image13.png)"
   ]
  },
  {
   "cell_type": "markdown",
   "metadata": {},
   "source": [
    "We can use the populate method for choosing the fields we want to include from the documents. In addition to the field *id* we are now only interested in content and important.\n",
    "\n",
    "The selection of fields is done with the Mongo [syntax](https://www.mongodb.com/docs/manual/tutorial/project-fields-from-query-results/#return-the-specified-fields-and-the-_id-field-only):"
   ]
  },
  {
   "cell_type": "markdown",
   "metadata": {},
   "source": [
    "```js\n",
    "usersRouter.get('/', async (request, response) => {\n",
    "  const users = await User\n",
    "    .find({}).populate('notes', { content: 1, important: 1 })\n",
    "\n",
    "  response.json(users)\n",
    "})\n",
    "```"
   ]
  },
  {
   "cell_type": "markdown",
   "metadata": {},
   "source": [
    "The result is now exactly like we want it to be:"
   ]
  },
  {
   "cell_type": "markdown",
   "metadata": {},
   "source": [
    "![](./images/image14.png)"
   ]
  },
  {
   "cell_type": "markdown",
   "metadata": {},
   "source": [
    "Let's also add a suitable population of user information to notes in the *controllers/notes.js* file:\n",
    "\n",
    "```js\n",
    "notesRouter.get('/', async (request, response) => {\n",
    "  const notes = await Note\n",
    "    .find({}).populate('user', { username: 1, name: 1 })\n",
    "\n",
    "  response.json(notes)\n",
    "})\n",
    "```\n",
    "\n",
    "Now the user's information is added to the *user* field of note objects."
   ]
  },
  {
   "cell_type": "markdown",
   "metadata": {},
   "source": [
    "![](./images/image15.png)"
   ]
  },
  {
   "cell_type": "markdown",
   "metadata": {},
   "source": [
    "It's important to understand that the database does not know that the ids stored in the *user* field of the notes collection reference documents in the user collection.\n",
    "\n",
    "The functionality of the *populate* method of Mongoose is based on the fact that we have defined \"types\" to the references in the Mongoose schema with the *ref* option:"
   ]
  },
  {
   "cell_type": "markdown",
   "metadata": {},
   "source": [
    "```js\n",
    "const noteSchema = new mongoose.Schema({\n",
    "  content: {\n",
    "    type: String,\n",
    "    required: true,\n",
    "    minlength: 5\n",
    "  },\n",
    "  important: Boolean,\n",
    "  user: {\n",
    "    type: mongoose.Schema.Types.ObjectId,\n",
    "    ref: 'User'\n",
    "  }\n",
    "})\n",
    "```"
   ]
  },
  {
   "cell_type": "markdown",
   "metadata": {},
   "source": [
    "You can find the code for our current application in its entirety in the *part4-8* branch of [this GitHub repository](https://github.com/fullstack-hy2020/part3-notes-backend/tree/part4-8).\n",
    "\n",
    "NOTE: At this stage, firstly, some tests will fail. We will leave fixing the tests to a non-compulsory exercise. Secondly, in the deployed notes app, the creating a note feature will stop working as user is not yet linked to the frontend."
   ]
  },
  {
   "cell_type": "markdown",
   "metadata": {},
   "source": []
  }
 ],
 "metadata": {
  "language_info": {
   "name": "python"
  }
 },
 "nbformat": 4,
 "nbformat_minor": 2
}
